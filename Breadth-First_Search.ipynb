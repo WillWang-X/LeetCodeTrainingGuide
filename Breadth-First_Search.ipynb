{
 "cells": [
  {
   "cell_type": "markdown",
   "metadata": {},
   "source": [
    "# Breadth-First Search"
   ]
  },
  {
   "cell_type": "markdown",
   "metadata": {},
   "source": [
    "![Breadth-first Search](http://www.how2examples.com/artificial-intelligence/images/Breadth-First-Search.gif)"
   ]
  },
  {
   "cell_type": "markdown",
   "metadata": {},
   "source": [
    "## Breadth-First Search\n",
    "|  #  | Title           |  Solution       |  Time           | Space           | Difficulty    | Tag          | Note| \n",
    "|-----|---------------- | --------------- | --------------- | --------------- | ------------- |--------------|-----|\n",
    "|102| [Binary Tree Level Order Traversal](https://leetcode.com/problems/binary-tree-level-order-traversal/)| [C++](./C++/binary-tree-level-order-traversal.cpp) [Python](./Python/binary-tree-level-order-traversal.py)| _O(n)_| _O(n)_| Easy  || \n",
    "|107| [Binary Tree Level Order Traversal II](https://leetcode.com/problems/binary-tree-level-order-traversal-ii/)| [Python](./Python/binary-tree-level-order-traversal-ii.py) | _O(n)_| _O(n)_| Easy  ||\n",
    "|103| [Binary Tree Zigzag Level Order Traversal](https://leetcode.com/problems/binary-tree-zigzag-level-order-traversal/)| [Python](./Python/binary-tree-zigzag-level-order-traversal.py) | _O(n)_| _O(n)_| Medium  ||  \n",
    "|117| [Populating Next Right Pointers in Each Node II](https://leetcode.com/problems/populating-next-right-pointers-in-each-node-ii/)|[Python](./Python/populating-next-right-pointers-in-each-node-ii.py)| _O(n)_ | _O(1)_ | Hard ||\n",
    "|127| [Word Ladder](https://leetcode.com/problems/word-ladder/)|[Python](./Python/word-ladder.py) | _O(n * d)_      | _O(d)_          | Medium         ||\n",
    "|130| [Surrounded Regions](https://leetcode.com/problems/surrounded-regions/)|[C++](./C++/surrounded-regions.cpp) [Python](./Python/surrounded-regions.py)| _O(m * n)_ | _O(m + n)_ | Medium         ||\n",
    "|133| [Clone Graph](https://leetcode.com/problems/clone-graph/)| [Python](./Python/clone-graph.py)   | _O(n)_          | _O(n)_          | Medium         ||\n",
    "|207| [Course Schedule](https://leetcode.com/problems/course-schedule/)| [Python](./Python/course-schedule.py)   |           |       | Medium         || Topological Sort |\n",
    "|210| [Course Schedule II](https://leetcode.com/problems/course-schedule-ii/)| [Python](./Python/course-schedule-ii.py)   |          |       | Medium         || Topological Sort |\n",
    "|261| [Graph Valid Tree](https://leetcode.com/problems/graph-valid-tree/)| [C++](./C++/graph-valid-tree.cpp) [Python](./Python/graph-valid-tree.py)   |         |        | Medium         | 📖 |\n",
    "|269| [Alien Dictionary](https://leetcode.com/problems/alien-dictionary/) | [C++](./C++/alien-dictionary.cpp)  [Python](./Python/alien-dictionary.py)  | _O(n)_ | _O(1)_ | Hard         |📖| Topological Sort, BFS, DFS |\n",
    "|286| [Walls and Gates](https://leetcode.com/problems/walls-and-gates/)| [C++](./C++/walls-and-gates.cpp) [Python](./Python/walls-and-gates.py)   | _O(m * n)_          | _O(g)_          | Medium         | 📖 |\n",
    "|310| [Minimum Height Trees](https://leetcode.com/problems/minimum-height-trees/)| [C++](./C++/minimum-height-trees.cpp) [Python](./Python/minimum-height-trees.py)   | _O(n)_          | _O(n)_          | Medium         ||\n",
    "|317| [Shortest Distance from All Buildings](https://leetcode.com/problems/shortest-distance-from-all-buildings/)| [C++](./C++/shortest-distance-from-all-buildings.cpp) [Python](./Python/shortest-distance-from-all-buildings.py)   | _O(k * m * n)_          | _O(m * n)_          | Hard         | 📖 |\n",
    "|433| [Minimum Genetic Mutation](https://leetcode.com/problems/minimum-genetic-mutation/)| [C++](./C++/minimum-genetic-mutation.cpp) [Python](./Python/minimum-genetic-mutation.py)   | _O(n * b)_          | _O(b)_          | Medium         ||\n",
    "|444| [Sequence Reconstruction](https://leetcode.com/problems/sequence-reconstruction/)| [C++](./C++/sequence-reconstruction.cpp) [Python](./Python/sequence-reconstruction.py)   | _O(n * s)_          | _O(n)_          | Medium         |📖| Topological Sort |\n"
   ]
  },
  {
   "cell_type": "markdown",
   "metadata": {},
   "source": [
    "# 0. BFS: Why? What? How? "
   ]
  },
  {
   "cell_type": "markdown",
   "metadata": {},
   "source": [
    "# 1. |102| [Binary Tree Level Order Traversal](https://leetcode.com/problems/binary-tree-level-order-traversal/)"
   ]
  },
  {
   "cell_type": "code",
   "execution_count": null,
   "metadata": {
    "collapsed": true
   },
   "outputs": [],
   "source": [
    "Given a binary tree, return the level order traversal of its nodes' values. (ie, from left to right, level by level).\n",
    "\n",
    "For example:\n",
    "Given binary tree [3,9,20,null,null,15,7],\n",
    "    3\n",
    "   / \\\n",
    "  9  20\n",
    "    /  \\\n",
    "   15   7\n",
    "return its level order traversal as:\n",
    "[\n",
    "  [3],\n",
    "  [9,20],\n",
    "  [15,7]\n",
    "]"
   ]
  },
  {
   "cell_type": "markdown",
   "metadata": {},
   "source": [
    "## Solution"
   ]
  },
  {
   "cell_type": "code",
   "execution_count": 17,
   "metadata": {
    "collapsed": false
   },
   "outputs": [],
   "source": [
    "# Time: O(n)\n",
    "# Space:  O(n)\n",
    "# Binary Tree Level Order Travesal \n",
    "\n",
    "# Definition for a binary tree node.\n",
    "class TreeNode(object):\n",
    "    def __init__(self, x):\n",
    "        self.val = x\n",
    "        self.left = None\n",
    "        self.right = None\n",
    "\n",
    "class Solution(object):\n",
    "    def levelOrder(self, root):\n",
    "        \"\"\"\n",
    "        :type root: TreeNode\n",
    "        :rtype: List[List[int]]\n",
    "        \"\"\"\n",
    "        if root is None:\n",
    "            return []\n",
    "        result = []\n",
    "        current = [root]\n",
    "        while current:\n",
    "            next_level = []\n",
    "            val = []\n",
    "            for node in current:\n",
    "                val.append(node.val)\n",
    "                if node.left:\n",
    "                    next_level.append(node.left)\n",
    "                if node.right:\n",
    "                    next_level.append(node.right)\n",
    "            current = next_level\n",
    "            result.append(val)\n",
    "        return result    "
   ]
  },
  {
   "cell_type": "code",
   "execution_count": 18,
   "metadata": {
    "collapsed": false
   },
   "outputs": [
    {
     "name": "stdout",
     "output_type": "stream",
     "text": [
      "[[3], [9, 20], [15, 7]]\n"
     ]
    }
   ],
   "source": [
    "root = TreeNode(3)\n",
    "root.left = TreeNode(9)\n",
    "root.right = TreeNode(20)\n",
    "root.right.left = TreeNode(15)\n",
    "root.right.right = TreeNode(7)\n",
    "result = Solution().levelOrder(root)\n",
    "print result"
   ]
  },
  {
   "cell_type": "markdown",
   "metadata": {},
   "source": [
    "## Notes"
   ]
  },
  {
   "cell_type": "code",
   "execution_count": 12,
   "metadata": {
    "collapsed": false
   },
   "outputs": [
    {
     "name": "stdout",
     "output_type": "stream",
     "text": [
      "[9, 8, 7, 6, 5, 4, 10, 2, 1, 0]\n"
     ]
    }
   ],
   "source": [
    "a = [0,1,2,10,4,5,6,7,8,9]\n",
    "a.reverse()\n",
    "print a"
   ]
  },
  {
   "cell_type": "code",
   "execution_count": 19,
   "metadata": {
    "collapsed": false
   },
   "outputs": [
    {
     "name": "stdout",
     "output_type": "stream",
     "text": [
      "[[15, 7], [9, 20], [3]]\n"
     ]
    }
   ],
   "source": [
    "test = [[3], [9, 20], [15, 7]]\n",
    "test.reverse()\n",
    "print test"
   ]
  },
  {
   "cell_type": "code",
   "execution_count": 10,
   "metadata": {
    "collapsed": false
   },
   "outputs": [
    {
     "name": "stdout",
     "output_type": "stream",
     "text": [
      "[[3, 4], [1, 2]]\n"
     ]
    }
   ],
   "source": [
    "test = [[1,2],[3,4]]\n",
    "test2 = test.reverse()\n",
    "print(test)"
   ]
  },
  {
   "cell_type": "markdown",
   "metadata": {},
   "source": [
    "# 2. |107| [Binary Tree Level Order Traversal II](https://leetcode.com/problems/binary-tree-level-order-traversal-ii/)"
   ]
  },
  {
   "cell_type": "code",
   "execution_count": null,
   "metadata": {
    "collapsed": true
   },
   "outputs": [],
   "source": [
    "Given a binary tree, return the bottom-up level order traversal of its nodes' values. \n",
    "(ie, from left to right, level by level from leaf to root).\n",
    "\n",
    "For example:\n",
    "Given binary tree [3,9,20,null,null,15,7],\n",
    "    3\n",
    "   / \\\n",
    "  9  20\n",
    "    /  \\\n",
    "   15   7\n",
    "return its bottom-up level order traversal as:\n",
    "[\n",
    "  [15,7],\n",
    "  [9,20],\n",
    "  [3]\n",
    "]"
   ]
  },
  {
   "cell_type": "code",
   "execution_count": null,
   "metadata": {
    "collapsed": true
   },
   "outputs": [],
   "source": [
    "# Time: O(n)\n",
    "# Space:  O(n)\n",
    "# Binary Tree Level Order Travesal II\n",
    "\n",
    "# Definition for a binary tree node.\n",
    "# class TreeNode(object):\n",
    "#     def __init__(self, x):\n",
    "#         self.val = x\n",
    "#         self.left = None\n",
    "#         self.right = None\n",
    "\n",
    "class Solution(object):\n",
    "    def levelOrder(self, root):\n",
    "        \"\"\"\n",
    "        :type root: TreeNode\n",
    "        :rtype: List[List[int]]\n",
    "        \"\"\"\n",
    "        if root is None:\n",
    "            return []\n",
    "        result = []\n",
    "        current = [root]\n",
    "        while current:\n",
    "            next_level = []\n",
    "            val = []\n",
    "            for node in current:\n",
    "                val.append(node.val)\n",
    "                if node.left:\n",
    "                    next_level.append(node.left)\n",
    "                if node.right:\n",
    "                    next_level.append(node.right)\n",
    "            current = next_level\n",
    "            result.append(val)\n",
    "        return result    "
   ]
  },
  {
   "cell_type": "markdown",
   "metadata": {},
   "source": [
    "# 3. |103| [Binary Tree Zigzag Level Order Traversal](https://leetcode.com/problems/binary-tree-zigzag-level-order-traversal/)"
   ]
  },
  {
   "cell_type": "code",
   "execution_count": null,
   "metadata": {
    "collapsed": true
   },
   "outputs": [],
   "source": [
    "Given a binary tree, return the zigzag level order traversal of its nodes' values. \n",
    "(ie, from left to right, then right to left for the next level and alternate between).\n",
    "\n",
    "For example:\n",
    "Given binary tree [3,9,20,null,null,15,7],\n",
    "    3\n",
    "   / \\\n",
    "  9  20\n",
    "    /  \\\n",
    "   15   7\n",
    "return its zigzag level order traversal as:\n",
    "[\n",
    "  [3],\n",
    "  [20,9],\n",
    "  [15,7]\n",
    "]"
   ]
  },
  {
   "cell_type": "code",
   "execution_count": null,
   "metadata": {
    "collapsed": true
   },
   "outputs": [],
   "source": [
    "# Time: O(n)\n",
    "# Space:  O(n)\n",
    "# Binary Tree Zigzag Level Order Traversal\n",
    "\n",
    "# Definition for a binary tree node.\n",
    "# class TreeNode(object):\n",
    "#     def __init__(self, x):\n",
    "#         self.val = x\n",
    "#         self.left = None\n",
    "#         self.right = None\n",
    "\n",
    "class Solution(object):\n",
    "    def zigzagLevelOrder(self, root):\n",
    "        \"\"\"\n",
    "        :type root: TreeNode\n",
    "        :rtype: List[List[int]]\n",
    "        \"\"\"\n",
    "        if root is None:\n",
    "            return []\n",
    "        result = []\n",
    "        current = [root]\n",
    "        direction = 1 \n",
    "        \n",
    "        while current:\n",
    "            next_level = []\n",
    "            val = []\n",
    "            for node in current:\n",
    "                val.append(node.val)\n",
    "                if node.left:\n",
    "                    next_level.append(node.left)\n",
    "                if node.right:\n",
    "                    next_level.append(node.right)\n",
    "            current = next_level\n",
    "            \n",
    "            if direction == -1:\n",
    "                val.reverse()\n",
    "            result.append(val)\n",
    "            direction = -1 * direction\n",
    "            \n",
    "        return result    "
   ]
  },
  {
   "cell_type": "markdown",
   "metadata": {},
   "source": [
    "# 4.0 [116. Populating Next Right Pointers in Each Node](https://leetcode.com/problems/populating-next-right-pointers-in-each-node/#/description)"
   ]
  },
  {
   "cell_type": "code",
   "execution_count": null,
   "metadata": {
    "collapsed": true
   },
   "outputs": [],
   "source": [
    "Given a binary tree\n",
    "\n",
    "    struct TreeLinkNode {\n",
    "      TreeLinkNode *left;\n",
    "      TreeLinkNode *right;\n",
    "      TreeLinkNode *next;\n",
    "    }\n",
    "Populate each next pointer to point to its next right node. \n",
    "If there is no next right node, the next pointer should be set to NULL.\n",
    "\n",
    "Initially, all next pointers are set to NULL.\n",
    "\n",
    "Note:\n",
    "\n",
    "You may only use constant extra space.\n",
    "You may assume that it is a perfect binary tree \n",
    "(ie, all leaves are at the same level, and every parent has two children).\n",
    "\n",
    "For example,\n",
    "Given the following perfect binary tree,\n",
    "         1\n",
    "       /  \\\n",
    "      2    3\n",
    "     / \\  / \\\n",
    "    4  5  6  7\n",
    "After calling your function, the tree should look like:\n",
    "         1 -> NULL\n",
    "       /  \\\n",
    "      2 -> 3 -> NULL\n",
    "     / \\  / \\\n",
    "    4->5->6->7 -> NULL"
   ]
  },
  {
   "cell_type": "code",
   "execution_count": null,
   "metadata": {
    "collapsed": true
   },
   "outputs": [],
   "source": [
    "Breadth-First Search"
   ]
  },
  {
   "cell_type": "markdown",
   "metadata": {},
   "source": [
    "# 4. |117| [Populating Next Right Pointers in Each Node II](https://leetcode.com/problems/populating-next-right-pointers-in-each-node-ii/)"
   ]
  },
  {
   "cell_type": "code",
   "execution_count": null,
   "metadata": {
    "collapsed": true
   },
   "outputs": [],
   "source": [
    "Follow up for problem \"Populating Next Right Pointers in Each Node\".\n",
    "\n",
    "What if the given tree could be any binary tree? Would your previous solution still work?\n",
    "\n",
    "Note:\n",
    "\n",
    "You may only use constant extra space.\n",
    "For example,\n",
    "Given the following binary tree,\n",
    "         1\n",
    "       /  \\\n",
    "      2    3\n",
    "     / \\    \\\n",
    "    4   5    7\n",
    "After calling your function, the tree should look like:\n",
    "         1 -> NULL\n",
    "       /  \\\n",
    "      2 -> 3 -> NULL\n",
    "     / \\    \\\n",
    "    4-> 5 -> 7 -> NULL"
   ]
  },
  {
   "cell_type": "code",
   "execution_count": null,
   "metadata": {
    "collapsed": true
   },
   "outputs": [],
   "source": [
    "Breadth-First Search"
   ]
  },
  {
   "cell_type": "markdown",
   "metadata": {},
   "source": [
    "# 5. |127| [Word Ladder](https://leetcode.com/problems/word-ladder/)"
   ]
  },
  {
   "cell_type": "code",
   "execution_count": null,
   "metadata": {
    "collapsed": true
   },
   "outputs": [],
   "source": [
    "Given two words (beginWord and endWord), and a dictionary's word list, \n",
    "find the length of shortest transformation sequence from beginWord to endWord, such that:\n",
    "\n",
    "Only one letter can be changed at a time.\n",
    "Each transformed word must exist in the word list. Note that beginWord is not a transformed word.\n",
    "For example,\n",
    "\n",
    "Given:\n",
    "beginWord = \"hit\"\n",
    "endWord = \"cog\"\n",
    "wordList = [\"hot\",\"dot\",\"dog\",\"lot\",\"log\",\"cog\"]\n",
    "As one shortest transformation is \"hit\" -> \"hot\" -> \"dot\" -> \"dog\" -> \"cog\",\n",
    "return its length 5.\n",
    "\n",
    "Note:\n",
    "Return 0 if there is no such transformation sequence.\n",
    "All words have the same length.\n",
    "All words contain only lowercase alphabetic characters.\n",
    "You may assume no duplicates in the word list.\n",
    "You may assume beginWord and endWord are non-empty and are not the same.\n",
    "\n",
    "UPDATE (2017/1/20):\n",
    "The wordList parameter had been changed to a list of strings (instead of a set of strings). \n",
    "Please reload the code definition to get the latest changes."
   ]
  },
  {
   "cell_type": "code",
   "execution_count": null,
   "metadata": {
    "collapsed": true
   },
   "outputs": [],
   "source": [
    "BFS \n",
    "\n",
    "双端的BFS\n",
    "\n",
    "V + E = n^2 (cause E 的上限是n^2)\n",
    "\n",
    "hashset 实现查找！为什么使用 hashset？"
   ]
  },
  {
   "cell_type": "markdown",
   "metadata": {},
   "source": [
    "# 6. |130| [Surrounded Regions](https://leetcode.com/problems/surrounded-regions/)"
   ]
  },
  {
   "cell_type": "code",
   "execution_count": null,
   "metadata": {
    "collapsed": true
   },
   "outputs": [],
   "source": [
    "Given a 2D board containing 'X' and 'O' (the letter O), capture all regions surrounded by 'X'.\n",
    "\n",
    "A region is captured by flipping all 'O's into 'X's in that surrounded region.\n",
    "\n",
    "For example,\n",
    "X X X X\n",
    "X O O X\n",
    "X X O X\n",
    "X O X X\n",
    "\n",
    "After running your function, the board should be:\n",
    "\n",
    "X X X X\n",
    "X X X X\n",
    "X X X X\n",
    "X O X X"
   ]
  },
  {
   "cell_type": "code",
   "execution_count": null,
   "metadata": {
    "collapsed": true
   },
   "outputs": [],
   "source": [
    "二维填水过程！> n^2\n",
    "\n",
    "找迷宫问题 BFS \n",
    "\n",
    "伪polynomial \n",
    "\n",
    "类比：quick sort + insertion sort "
   ]
  },
  {
   "cell_type": "markdown",
   "metadata": {},
   "source": [
    "# 7. |133| [Clone Graph](https://leetcode.com/problems/clone-graph/)"
   ]
  },
  {
   "cell_type": "code",
   "execution_count": null,
   "metadata": {
    "collapsed": true
   },
   "outputs": [],
   "source": [
    "Clone an undirected graph. Each node in the graph contains a label and a list of its neighbors.\n",
    "\n",
    "\n",
    "OJ's undirected graph serialization:\n",
    "Nodes are labeled uniquely.\n",
    "\n",
    "We use # as a separator for each node, and , as a separator for node label and each neighbor of the node.\n",
    "As an example, consider the serialized graph {0,1,2#1,2#2,2}.\n",
    "\n",
    "The graph has a total of three nodes, and therefore contains three parts as separated by #.\n",
    "\n",
    "First node is labeled as 0. Connect node 0 to both nodes 1 and 2.\n",
    "Second node is labeled as 1. Connect node 1 to node 2.\n",
    "Third node is labeled as 2. Connect node 2 to node 2 (itself), thus forming a self-cycle.\n",
    "Visually, the graph looks like the following:\n",
    "\n",
    "       1\n",
    "      / \\\n",
    "     /   \\\n",
    "    0 --- 2\n",
    "         / \\\n",
    "         \\_/"
   ]
  },
  {
   "cell_type": "code",
   "execution_count": null,
   "metadata": {
    "collapsed": true
   },
   "outputs": [],
   "source": [
    "BFS 存过找过的 Node"
   ]
  },
  {
   "cell_type": "markdown",
   "metadata": {},
   "source": [
    "# 8. |207| [Course Schedule](https://leetcode.com/problems/course-schedule/)"
   ]
  },
  {
   "cell_type": "code",
   "execution_count": null,
   "metadata": {
    "collapsed": true
   },
   "outputs": [],
   "source": [
    "There are a total of n courses you have to take, labeled from 0 to n - 1.\n",
    "\n",
    "Some courses may have prerequisites, for example to take course 0 you have to first take course 1, \n",
    "which is expressed as a pair: [0,1]\n",
    "\n",
    "Given the total number of courses and a list of prerequisite pairs, is it possible for you to finish all courses?\n",
    "\n",
    "For example:\n",
    "\n",
    "2, [[1,0]]\n",
    "There are a total of 2 courses to take. To take course 1 you should have finished course 0. So it is possible.\n",
    "\n",
    "2, [[1,0],[0,1]]\n",
    "There are a total of 2 courses to take. To take course 1 you should have finished course 0, \n",
    "and to take course 0 you should also have finished course 1. So it is impossible.\n",
    "\n",
    "Note:\n",
    "The input prerequisites is a graph represented by a list of edges, not adjacency matrices. \n",
    "Read more about how a graph is represented.\n",
    "You may assume that there are no duplicate edges in the input prerequisites."
   ]
  },
  {
   "cell_type": "code",
   "execution_count": null,
   "metadata": {
    "collapsed": true
   },
   "outputs": [],
   "source": [
    "261 无相图\n",
    "\n",
    "\n",
    "有环就不是\n",
    "\n",
    "1. BFS 入度为0\n",
    "2. DFS 找一个环"
   ]
  },
  {
   "cell_type": "markdown",
   "metadata": {},
   "source": [
    "# 9. |210| [Course Schedule II](https://leetcode.com/problems/course-schedule-ii/)"
   ]
  },
  {
   "cell_type": "code",
   "execution_count": null,
   "metadata": {
    "collapsed": true
   },
   "outputs": [],
   "source": [
    "There are a total of n courses you have to take, labeled from 0 to n - 1.\n",
    "\n",
    "Some courses may have prerequisites, for example to take course 0 you have to first take course 1, \n",
    "which is expressed as a pair: [0,1]\n",
    "\n",
    "Given the total number of courses and a list of prerequisite pairs, \n",
    "return the ordering of courses you should take to finish all courses.\n",
    "\n",
    "There may be multiple correct orders, you just need to return one of them. \n",
    "If it is impossible to finish all courses, return an empty array.\n",
    "\n",
    "For example:\n",
    "\n",
    "2, [[1,0]]\n",
    "There are a total of 2 courses to take. To take course 1 you should have finished course 0. \n",
    "So the correct course order is [0,1]\n",
    "\n",
    "4, [[1,0],[2,0],[3,1],[3,2]]\n",
    "There are a total of 4 courses to take. To take course 3 you should have finished both courses 1 and 2. \n",
    "Both courses 1 and 2 should be taken after you finished course 0. So one correct course order is [0,1,2,3].\n",
    "Another correct ordering is[0,2,1,3].\n",
    "\n",
    "Note:\n",
    "The input prerequisites is a graph represented by a list of edges, not adjacency matrices. \n",
    "Read more about how a graph is represented.\n",
    "You may assume that there are no duplicate edges in the input prerequisites."
   ]
  },
  {
   "cell_type": "markdown",
   "metadata": {},
   "source": [
    "# 10. |261| [Graph Valid Tree](https://leetcode.com/problems/graph-valid-tree/)"
   ]
  },
  {
   "cell_type": "code",
   "execution_count": null,
   "metadata": {
    "collapsed": true
   },
   "outputs": [],
   "source": [
    "Given n nodes labeled from 0 to n - 1 and a list of undirected edges (each edge is a pair of nodes), \n",
    "write a function to check whether these edges make up a valid tree.\n",
    "\n",
    "For example:\n",
    "\n",
    "Given n = 5 and edges = [[0, 1], [0, 2], [0, 3], [1, 4]], return true.\n",
    "\n",
    "Given n = 5 and edges = [[0, 1], [1, 2], [2, 3], [1, 3], [1, 4]], return false.\n",
    "\n",
    "Hint:\n",
    "\n",
    "Given n = 5 and edges = [[0, 1], [1, 2], [3, 4]], what should your return? Is this case a valid tree?\n",
    "\n",
    "According to the definition of tree on Wikipedia: \n",
    "“a tree is an undirected graph in which any two vertices are connected by exactly one path. \n",
    "In other words, any connected graph without simple cycles is a tree.”\n",
    "\n",
    "Note: \n",
    "you can assume that no duplicate edges will appear in edges. \n",
    "Since all edges are undirected, [0, 1] is the same as [1, 0] and thus will not appear together in edges."
   ]
  },
  {
   "cell_type": "markdown",
   "metadata": {},
   "source": [
    "# 11. |269| [Alien Dictionary](https://leetcode.com/problems/alien-dictionary/)"
   ]
  }
 ],
 "metadata": {
  "kernelspec": {
   "display_name": "Python 2",
   "language": "python",
   "name": "python2"
  },
  "language_info": {
   "codemirror_mode": {
    "name": "ipython",
    "version": 2
   },
   "file_extension": ".py",
   "mimetype": "text/x-python",
   "name": "python",
   "nbconvert_exporter": "python",
   "pygments_lexer": "ipython2",
   "version": "2.7.13"
  }
 },
 "nbformat": 4,
 "nbformat_minor": 0
}
