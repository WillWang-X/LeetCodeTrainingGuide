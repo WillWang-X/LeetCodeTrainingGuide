{
 "cells": [
  {
   "cell_type": "markdown",
   "metadata": {},
   "source": [
    "# Queue"
   ]
  },
  {
   "cell_type": "markdown",
   "metadata": {},
   "source": [
    "![queue](https://upload.wikimedia.org/wikipedia/commons/thumb/5/52/Data_Queue.svg/300px-Data_Queue.svg.png)"
   ]
  },
  {
   "cell_type": "markdown",
   "metadata": {},
   "source": [
    "|  #  | Title           |  Solution       |  Time           | Space           | Difficulty    | Tag          | Note| \n",
    "|-----|---------------- | --------------- | --------------- | --------------- | ------------- |--------------|-----|\n",
    "|239| [Sliding Window Maximum](https://leetcode.com/problems/sliding-window-maximum/)| [C++](./C++/sliding-window-maximum.cpp) [Python](./Python/sliding-window-maximum.py) | _O(n)_        | _O(k)_          | Hard           | EPI, LintCode ||\n",
    "|281| [Zigzag Iterator](https://leetcode.com/problems/zigzag-iterator/)| [C++](./C++/zigzag-iterator.cpp) [Python](./Python/zigzag-iterator.py) | _O(n)_        | _O(k)_          | Medium           |📖||\n",
    "|346| [Moving Average from Data Stream](https://leetcode.com/problems/moving-average-from-data-stream/)| [C++](./C++/moving-average-from-data-stream.cpp) [Python](./Python/moving-average-from-data-stream.py) | _O(1)_        | _O(w)_          | Easy           |📖||"
   ]
  },
  {
   "cell_type": "markdown",
   "metadata": {},
   "source": [
    "## 1. [Sliding Window Maximum 239 ](https://leetcode.com/problems/sliding-window-maximum/)"
   ]
  },
  {
   "cell_type": "code",
   "execution_count": null,
   "metadata": {
    "collapsed": true
   },
   "outputs": [],
   "source": [
    "Given an array nums, there is a sliding window of size k which is moving from the \n",
    "very left of the array to the very right. You can only see the k numbers in the window. \n",
    "Each time the sliding window moves right by one position.\n",
    "\n",
    "For example,\n",
    "Given nums = [1,3,-1,-3,5,3,6,7], and k = 3.\n",
    "\n",
    "Window position                Max\n",
    "---------------               -----\n",
    "[1  3  -1] -3  5  3  6  7       3\n",
    " 1 [3  -1  -3] 5  3  6  7       3\n",
    " 1  3 [-1  -3  5] 3  6  7       5\n",
    " 1  3  -1 [-3  5  3] 6  7       5\n",
    " 1  3  -1  -3 [5  3  6] 7       6\n",
    " 1  3  -1  -3  5 [3  6  7]      7\n",
    "Therefore, return the max sliding window as [3,3,5,5,6,7].\n",
    "\n",
    "Note: \n",
    "You may assume k is always valid, ie: 1 ≤ k ≤ input array's size for non-empty array."
   ]
  },
  {
   "cell_type": "markdown",
   "metadata": {},
   "source": [
    "![sliding window maximum](https://github.com/WillWang-X/LeetCode/blob/master/pictures/sliding_window_maximum.png?raw=true)"
   ]
  },
  {
   "cell_type": "markdown",
   "metadata": {},
   "source": [
    "## Solution"
   ]
  },
  {
   "cell_type": "code",
   "execution_count": null,
   "metadata": {
    "collapsed": true
   },
   "outputs": [],
   "source": [
    "# Time:  O(n)\n",
    "# Space: O(k)\n",
    "# Sliding Window Maximum \n",
    "\n",
    "from collections import deque\n",
    "\n",
    "class Solution(object):\n",
    "    def maxSlidingWindow(self, nums, k):\n",
    "        \"\"\"\n",
    "        :type nums: List[int]\n",
    "        :type k: int\n",
    "        :rtype: List[int]\n",
    "        \"\"\"\n",
    "        dq = deque()\n",
    "        max_numbers = []\n",
    "\n",
    "        for i in xrange(len(nums)):\n",
    "            while dq and nums[i] >= nums[dq[-1]]:\n",
    "                dq.pop()\n",
    "            dq.append(i)\n",
    "            if i >= k and dq and dq[0] <= i - k:\n",
    "                dq.popleft()\n",
    "            if i >= k - 1:\n",
    "                max_numbers.append(nums[dq[0]])\n",
    "                \n",
    "        return max_numbers"
   ]
  },
  {
   "cell_type": "markdown",
   "metadata": {},
   "source": [
    "## Notes\n",
    "- https://www.youtube.com/watch?v=ShbRCjvB_yQ\n",
    "- https://segmentfault.com/a/1190000003903509\n",
    "- http://www.geeksforgeeks.org/sliding-window-maximum-maximum-of-all-subarrays-of-size-k/\n",
    "- http://blog.csdn.net/u010412719/article/details/51934264"
   ]
  },
  {
   "cell_type": "markdown",
   "metadata": {},
   "source": [
    "## 2. [Zigzag Iterator 281](https://leetcode.com/problems/zigzag-iterator/)"
   ]
  },
  {
   "cell_type": "markdown",
   "metadata": {},
   "source": [
    "Given two 1d vectors, implement an iterator to return their elements alternately.\n",
    "\n",
    "For example, given two 1d vectors:\n",
    "\n",
    "v1 = [1, 2]\n",
    "\n",
    "v2 = [3, 4, 5, 6]\n",
    "\n",
    "By calling next repeatedly until hasNext returns false, the order of elements returned by next should be: [1, 3, 2, 4, 5, 6].\n",
    "\n",
    "----\n",
    "\n",
    "Follow up: What if you are given k 1d vectors? How well can your code be extended to such cases?\n",
    "\n",
    "Clarification for the follow up question - Update (2015-09-18): The \"Zigzag\" order is not clearly defined and is ambiguous for k > 2 cases. If \"Zigzag\" does not look right to you, replace \"Zigzag\" with \"Cyclic\". For example, given the following input:\n",
    "\n",
    "[1,2,3]\n",
    "\n",
    "[4,5,6,7]\n",
    "\n",
    "[8,9]\n",
    "\n",
    "It should return [1,4,8,2,5,9,3,6,7]."
   ]
  },
  {
   "cell_type": "markdown",
   "metadata": {},
   "source": [
    "![zigzag iterator](https://github.com/WillWang-X/LeetCode/blob/master/pictures/Zigzag_Iterator.png?raw=true)"
   ]
  },
  {
   "cell_type": "markdown",
   "metadata": {},
   "source": [
    "## Solution"
   ]
  },
  {
   "cell_type": "code",
   "execution_count": null,
   "metadata": {
    "collapsed": true
   },
   "outputs": [],
   "source": [
    "# Time: O(n)\n",
    "# Space: O(k)\n",
    "# Zigzag lterator \n",
    "\n",
    "class ZigzagIterator(object):\n",
    "\n",
    "    def __init__(self, v1, v2):\n",
    "        \"\"\"\n",
    "        Initialize your q structure here.\n",
    "        :type v1: List[int]\n",
    "        :type v2: List[int]\n",
    "        \"\"\"\n",
    "        self.q = collections.deque([(len(v), iter(v)) for v in (v1, v2) if v])\n",
    "\n",
    "    def next(self):\n",
    "        \"\"\"\n",
    "        :rtype: int\n",
    "        \"\"\"\n",
    "        len, iter = self.q.popleft()\n",
    "        if len > 1:\n",
    "            self.q.append((len-1, iter))\n",
    "        return next(iter)\n",
    "\n",
    "    def hasNext(self):\n",
    "        \"\"\"\n",
    "        :rtype: bool\n",
    "        \"\"\"\n",
    "        return bool(self.q)"
   ]
  },
  {
   "cell_type": "markdown",
   "metadata": {},
   "source": [
    "## Note "
   ]
  },
  {
   "cell_type": "markdown",
   "metadata": {},
   "source": [
    "My first thought is stack. (external sorting)\n",
    "\n",
    "- https://codereview.stackexchange.com/questions/159376/zigzag-iterator/159380"
   ]
  },
  {
   "cell_type": "code",
   "execution_count": 15,
   "metadata": {
    "collapsed": false
   },
   "outputs": [
    {
     "name": "stdout",
     "output_type": "stream",
     "text": [
      "Deque: deque(['a', 'b', 'c', 'd', 'e', 'f', 'g'])\n",
      "Length: 7\n",
      "Left end: a\n",
      "Right end: g\n",
      "remove(c): deque(['a', 'b', 'd', 'e', 'f', 'g'])\n"
     ]
    }
   ],
   "source": [
    "import collections\n",
    "\n",
    "d = collections.deque('abcdefg')\n",
    "print 'Deque:', d\n",
    "print 'Length:', len(d)\n",
    "print 'Left end:', d[0]\n",
    "print 'Right end:', d[-1]\n",
    "\n",
    "d.remove('c')\n",
    "print 'remove(c):', d"
   ]
  },
  {
   "cell_type": "code",
   "execution_count": 17,
   "metadata": {
    "collapsed": false
   },
   "outputs": [
    {
     "name": "stdout",
     "output_type": "stream",
     "text": [
      "deque([(2, <listiterator object at 0x110594210>), (4, <listiterator object at 0x110594fd0>)])\n"
     ]
    }
   ],
   "source": [
    "v1 = [1, 2]\n",
    "v2 = [3, 4, 5, 6]\n",
    "test = collections.deque([(len(v), iter(v)) for v in (v1, v2) if v])\n",
    "print(test)"
   ]
  },
  {
   "cell_type": "code",
   "execution_count": 19,
   "metadata": {
    "collapsed": false
   },
   "outputs": [
    {
     "name": "stdout",
     "output_type": "stream",
     "text": [
      "1\n",
      "2\n"
     ]
    }
   ],
   "source": [
    "for i in iter(v1):\n",
    "    print(i)"
   ]
  },
  {
   "cell_type": "markdown",
   "metadata": {},
   "source": [
    "## 3. [Moving Average from Data Stream 346](https://leetcode.com/problems/moving-average-from-data-stream/)"
   ]
  },
  {
   "cell_type": "markdown",
   "metadata": {},
   "source": [
    "Given a stream of integers and a window size, calculate the moving average of all integers in the sliding window.\n",
    "For example,\n",
    "\n",
    "MovingAverage m = new MovingAverage(3);\n",
    "\n",
    "m.next(1) = 1\n",
    "\n",
    "m.next(10) = (1 + 10) / 2\n",
    "\n",
    "m.next(3) = (1 + 10 + 3) / 3\n",
    "\n",
    "m.next(5) = (10 + 3 + 5) / 3\n",
    "\n",
    "-- [Source](https://yisuang1186.gitbooks.io/-shuatibiji/moving_average_from_data_stream.html)"
   ]
  },
  {
   "cell_type": "code",
   "execution_count": 12,
   "metadata": {
    "collapsed": true
   },
   "outputs": [],
   "source": [
    "# Time: O(1)\n",
    "# Space: O(size)\n",
    "# Moving Average from Data Stream \n",
    "\n",
    "\n",
    "from collections import deque\n",
    "\n",
    "class MovingAverage(object):\n",
    "\n",
    "    def __init__(self, size):\n",
    "        \"\"\"\n",
    "        Initialize your data structure here.\n",
    "        :type size: int\n",
    "        \"\"\"\n",
    "        self.__size = size\n",
    "        self.__sum = 0\n",
    "        self.__q = deque([])\n",
    "\n",
    "    def next(self, val):\n",
    "        \"\"\"\n",
    "        :type val: int\n",
    "        :rtype: float\n",
    "        \"\"\"\n",
    "        if len(self.__q) == self.__size:  # e.g.  5 ->  3,10,1  -> 1 \n",
    "            self.__sum -= self.__q.popleft()\n",
    "        self.__sum += val\n",
    "        self.__q.append(val)\n",
    "        return 1.0 * self.__sum / len(self.__q)"
   ]
  },
  {
   "cell_type": "code",
   "execution_count": 13,
   "metadata": {
    "collapsed": false
   },
   "outputs": [
    {
     "ename": "TypeError",
     "evalue": "__init__() takes exactly 2 arguments (1 given)",
     "output_type": "error",
     "traceback": [
      "\u001b[0;31m---------------------------------------------------------------------------\u001b[0m",
      "\u001b[0;31mTypeError\u001b[0m                                 Traceback (most recent call last)",
      "\u001b[0;32m<ipython-input-13-06dc10125b0d>\u001b[0m in \u001b[0;36m<module>\u001b[0;34m()\u001b[0m\n\u001b[0;32m----> 1\u001b[0;31m \u001b[0;32mprint\u001b[0m \u001b[0mMovingAverage\u001b[0m\u001b[0;34m(\u001b[0m\u001b[0;34m)\u001b[0m\u001b[0;34m.\u001b[0m\u001b[0mnext\u001b[0m\u001b[0;34m(\u001b[0m\u001b[0;36m1\u001b[0m\u001b[0;34m)\u001b[0m\u001b[0;34m\u001b[0m\u001b[0m\n\u001b[0m",
      "\u001b[0;31mTypeError\u001b[0m: __init__() takes exactly 2 arguments (1 given)"
     ]
    }
   ],
   "source": [
    "print MovingAverage().next(1)"
   ]
  },
  {
   "cell_type": "code",
   "execution_count": null,
   "metadata": {
    "collapsed": true
   },
   "outputs": [],
   "source": []
  }
 ],
 "metadata": {
  "kernelspec": {
   "display_name": "Python 2",
   "language": "python",
   "name": "python2"
  },
  "language_info": {
   "codemirror_mode": {
    "name": "ipython",
    "version": 2
   },
   "file_extension": ".py",
   "mimetype": "text/x-python",
   "name": "python",
   "nbconvert_exporter": "python",
   "pygments_lexer": "ipython2",
   "version": "2.7.13"
  }
 },
 "nbformat": 4,
 "nbformat_minor": 0
}
