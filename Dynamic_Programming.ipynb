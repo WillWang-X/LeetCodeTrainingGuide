{
 "cells": [
  {
   "cell_type": "markdown",
   "metadata": {
    "collapsed": true
   },
   "source": [
    "# Dynamic Programming"
   ]
  },
  {
   "cell_type": "markdown",
   "metadata": {},
   "source": [
    "|  #  | Title           |  Solution       |  Time           | Space           | Difficulty    | Tag          | Note| \n",
    "|-----|---------------- | --------------- | --------------- | --------------- | ------------- |--------------|-----|\n",
    "|10| [Regular Expression Matching](https://leetcode.com/problems/regular-expression-matching/) | [Python](./Python/regular-expression-matching.py) | _O(m * n)_ | _O(n)_ | Hard ||\n",
    "|53| [Maximum Subarray](https://leetcode.com/problems/maximum-subarray/)|[Python](./Python/maximum-subarray.py)| _O(n)_     | _O(1)_         | Medium         ||\n",
    "|62| [Unique Paths](https://leetcode.com/problems/unique-paths/)    | [Python](./Python/unique-paths.py)| _O(m * n)_      | _O(m + n)_   | Medium         ||\n",
    "|63| [Unique Paths II](https://leetcode.com/problems/unique-paths-ii/) | [Python](./Python/unique-paths-ii.py) |  _O(m * n)_ | _O(m + n)_   | Medium         ||\n",
    "|64| [Minimum Path Sum](https://leetcode.com/problems/minimum-path-sum/)| [Python](./Python/minimum-path-sum.py)| _O(m * n)_ | _O(m + n)_     | Medium         ||\n",
    "|70| [Climbing Stairs](https://leetcode.com/problems/climbing-stairs/)| [Python](./Python/climbing-stairs.py) | _O(n)_    | _O(1)_          | Easy           ||\n",
    "|72| [Edit Distance](https://leetcode.com/problems/edit-distance/)|[Python](./Python/edit-distance.py)| _O(m * n)_      | _O(m + n)_      | Hard           ||\n",
    "|87| [Scramble String](https://leetcode.com/problems/scramble-string/) | [Python](./Python/scramble-string.py) | _O(n^4)_ | _O(n^3)_        | Hard           ||\n",
    "|91| [Decode Ways](https://leetcode.com/problems/decode-ways/)   | [C++](./Python/decode-ways.cpp) [Python](./Python/decode-ways.py)| _O(n)_          | _O(1)_          | Medium         ||\n",
    "|96| [Unique Binary Search Trees](https://leetcode.com/problems/unique-binary-search-trees/) | [Python](./Python/unique-binary-search-trees.py) | _O(n)_      | _O(1)_         | Medium         || Math\n",
    "|97| [Interleaving String](https://leetcode.com/problems/interleaving-string/)|[Python](./Python/interleaving-string.py)| _O(m * n)_ | _O(m + n)_ | Hard         ||\n",
    "|115| [Distinct Subsequences](https://leetcode.com/problems/distinct-subsequences/)|[Python](./Python/distinct-subsequences.py)| _O(n^2)_ | _O(n)_ | Hard           ||\n",
    "|120| [Triangle](https://leetcode.com/problems/triangle/)       | [Python](./Python/triangle.py)   | _O(m * n)_      | _O(n)_         | Medium         ||\n",
    "|123| [Best Time to Buy and Sell Stock III](https://leetcode.com/problems/best-time-to-buy-and-sell-stock-iii/) | [Python](./Python/best-time-to-buy-and-sell-stock-iii.py) | _O(n)_ | _O(1)_ | Hard ||\n",
    "|132| [Palindrome Partitioning II](https://leetcode.com/problems/palindrome-partitioning-ii/) | [Python](./Python/palindrome-partitioning-ii.py) | _O(n^2)_ | _O(n^2)_ | Hard ||\n",
    "|139| [Word Break](https://leetcode.com/problems/word-break/)     | [C++](./C++/word-break.cpp) [Python](./Python/word-break.py) |  _O(n * l^2)_         | _O(n)_       | Medium         ||\n",
    "|152| [Maximum Product Subarray](https://leetcode.com/problems/maximum-product-subarray/)|[Python](./Python/maximum-product-subarray.py)| _O(n)_ | _O(1)_ | Medium     ||\n",
    "|174| [Dungeon Game](https://leetcode.com/problems/dungeon-game/)  | [Python](./Python/dungeon-game.py)| _O(m * n)_     | _O(m + n)_      | Hard           ||\n",
    "|188| [Best Time to Buy and Sell Stock IV](https://leetcode.com/problems/best-time-to-buy-and-sell-stock-iv/)| [Python](./Python/best-time-to-buy-and-sell-stock-iv.py) | _O(k * n)_ | _O(k)_ | Hard ||\n",
    "|198| [House Robber](https://leetcode.com/problems/house-robber/)| [Python](./Python/house-robber.py) | _O(n)_          | _O(1)_          | Easy           ||\n",
    "|213| [House Robber II](https://leetcode.com/problems/house-robber-ii/)| [C++](./C++/house-robber-ii.cpp) [Python](./Python/house-robber-ii.py) | _O(n)_          | _O(1)_          | Medium           ||\n",
    "|221| [Maximal Square](https://leetcode.com/problems/maximal-square/)| [C++](./C++/maximal-square.cpp) [Python](./Python/maximal-square.py) | _O(n^2)_         | _O(n)_          | Medium           | EPI |\n",
    "|256| [Paint House](https://leetcode.com/problems/paint-house/) | [C++](./C++/paint-house.cpp) [Python](./Python/paint-house.py) | _O(n)_| _O(1)_| Medium |📖||\n",
    "|265| [Paint House II](https://leetcode.com/problems/paint-house-ii/) | [C++](./C++/paint-house-ii.cpp) [Python](./Python/paint-house-ii.py) | _O(n * k)_| _O(k)_| Hard |📖||\n",
    "|276| [Paint Fence](https://leetcode.com/problems/paint-fence/) | [C++](./C++/paint-fence.cpp) [Python](./Python/paint-fence.py) | _O(n)_| _O(1)_| Easy |📖||\n",
    "|279| [Perfect Squares](https://leetcode.com/problems/perfect-squares/)| [C++](./C++/perfect-squares.cpp) [Python](./Python/perfect-squares.py) | _O(n * sqrt(n))_         | _O(n)_          | Medium           ||  Hash |\n",
    "|303| [Range Sum Query - Immutable](https://leetcode.com/problems/range-sum-query-immutable/)| [C++](./C++/range-sum-query-immutable.cpp) [Python](./Python/range-sum-query-immutable.py) | ctor: _O(n)_, lookup: _O(1)_          | _O(n)_          | Easy           ||\n",
    "|304| [Range Sum Query 2D - Immutable](https://leetcode.com/problems/range-sum-query-2d-immutable/)| [C++](./C++/range-sum-query-2d-immutable.cpp) [Python](./Python/range-sum-query-2d-immutable.py) | ctor: _O(m * n)_, lookup: _O(1)_          | _O(m * n)_          | Medium           ||\n",
    "|309| [Best Time to Buy and Sell Stock with Cooldown](https://leetcode.com/problems/best-time-to-buy-and-sell-stock-with-cooldown/) | [C++](./C++/best-time-to-buy-and-sell-stock-with-cooldown.cpp) [Python](./Python/best-time-to-buy-and-sell-stock-with-cooldown.py) | _O(n)_ | _O(1)_ | Medium ||\n",
    "|312| [Burst Balloons](https://leetcode.com/problems/burst-balloons/) | [C++](./C++/burst-balloons.cpp) [Python](./Python/burst-balloons.py) | _O(n^3)_ | _O(n^2)_ | Hard ||\n",
    "|322| [Coin Change](https://leetcode.com/problems/coin-change/) | [C++](./C++/coin-change.cpp) [Python](./Python/coin-change.py) | _O(n * k)_ | _O(k)_ | Medium ||\n",
    "|351| [Android Unlock Patterns](https://leetcode.com/problems/android-unlock-patterns/) | [C++](./C++/android-unlock-patterns.cpp) [Python](./Python/android-unlock-patterns.py) | _O(9^2 * 2^9)_ | _O(9 * 2^9)_ | Medium | 📖 | Backtracking |\n",
    "|357| [Count Numbers with Unique Digits](https://leetcode.com/problems/count-numbers-with-unique-digits/) | [C++](./C++/count-numbers-with-unique-digits.cpp) [Python](./Python/count-numbers-with-unique-digits.py) | _O(n)_ | _O(1)_ | Medium || Backtracking, Math |\n",
    "|361| [Bomb Enemy](https://leetcode.com/problems/bomb-enemy/) | [C++](./C++/bomb-enemy.cpp) [Python](./Python/bomb-enemy.py) | _O(m * n)_ | _O(m * n)_ | Medium | 📖 | |\n",
    "|368| [Largest Divisible Subset](https://leetcode.com/problems/largest-divisible-subset/) | [C++](./C++/largest-divisible-subset.cpp) [Python](./Python/largest-divisible-subset.py) | _O(n^2)_ | _O(n)_ | Medium | | |\n",
    "|375| [Guess Number Higher or Lower II](https://leetcode.com/problems/guess-number-higher-or-lower-ii/)| [C++](./C++/guess-number-higher-or-lower-ii.cpp) [Python](./Python/guess-number-higher-or-lower-ii.py)   | _O(n^2)_          | _O(n^2)_          | Medium         | |\n",
    "|377| [Combination Sum IV](https://leetcode.com/problems/combination-sum-iv/)| [C++](./C++/combination-sum-iv.cpp) [Python](./Python/combination-sum-iv.py)   | _O(nlogn + n * t)_          | _O(t)_          | Medium         | |\n",
    "|403 | [Frog Jump](https://leetcode.com/problems/frog-jump/) | [C++](./C++/frog-jump.cpp) [Python](./Python/frog-jump.py) | _O(n)_ | _O(n) ~ O(n^2)_ | Hard ||\n",
    "|416 | [Partition Equal Subset Sum](https://leetcode.com/problems/partition-equal-subset-sum/) | [C++](./C++/partition-equal-subset-sum.cpp) [Python](./Python/partition-equal-subset-sum.py) | _O(n * s)_ | _O(s)_ | Medium ||\n",
    "|418 | [Sentence Screen Fitting](https://leetcode.com/problems/sentence-screen-fitting/) | [C++](./C++/sentence-screen-fitting.cpp) [Python](./Python/sentence-screen-fitting.py) | _O(r + n * c)_ | _O(n)_ | Medium |📖|\n",
    "|446 | [Arithmetic Slices II - Subsequence](https://leetcode.com/problems/arithmetic-slices-ii-subsequence/) | [C++](./C++/arithmetic-slices-ii-subsequence.cpp) [Python](./Python/arithmetic-slices-ii-subsequence.py) | _O(n^2)_ | _O(n * d)_ | Hard ||\n",
    "|465 | [Optimal Account Balancing](https://leetcode.com/problems/optimal-account-balancing/) | [C++](./C++/optimal-account-balancing.cpp) [Python](./Python/optimal-account-balancing.py) | _O(n * 2^n)_ | _O(n * 2^n)_ | Hard |📖|\n",
    "|466 | [Count The Repetitions](https://leetcode.com/problems/count-the-repetitions/) | [C++](./C++/count-the-repetitions.cpp) [Python](./Python/count-the-repetitions.py) | _O(s1 * min(s2, n1))_ | _O(s2)_ | Hard ||\n",
    "|467 | [Unique Substrings in Wraparound String](https://leetcode.com/problems/unique-substrings-in-wraparound-string/) | [C++](./C++/unique-substrings-in-wraparound-string.cpp) [Python](./Python/unique-substrings-in-wraparound-string.py) | _O(n)_ | _O(1)_ | Medium ||\n",
    "|471 | [Encode String with Shortest Length](https://leetcode.com/problems/encode-string-with-shortest-length/) | [C++](./C++/encode-string-with-shortest-length.cpp) [Python](./Python/encode-string-with-shortest-length.py) | _O(n^3)_ on average | _O(n^2)_ | Medium |📖|\n",
    "|472 | [Concatenated Words](https://leetcode.com/problems/concatenated-words/) | [C++](./C++/concatenated-words.cpp) [Python](./Python/concatenated-words.py) | _O(n * l^2)_ | _O(n * l)_ | Medium ||\n",
    "|474 | [Ones and Zeroes](https://leetcode.com/problems/ones-and-zeroes/) | [C++](./C++/ones-and-zeroes.cpp) [Python](./Python/ones-and-zeroes.py) | _O(s * m * n)_ | _O(m * n)_ | Medium ||\n"
   ]
  },
  {
   "cell_type": "markdown",
   "metadata": {},
   "source": [
    "# 1. |10| [Regular Expression Matching](https://leetcode.com/problems/regular-expression-matching/) | [Python](./Python/regular-expression-matching.py) | _O(m * n)_ | _O(n)_ | Hard ||"
   ]
  },
  {
   "cell_type": "markdown",
   "metadata": {},
   "source": [
    "# 2. |53| [Maximum Subarray](https://leetcode.com/problems/maximum-subarray/)|[Python](./Python/maximum-subarray.py)| _O(n)_     | _O(1)_         | Medium         ||\n"
   ]
  },
  {
   "cell_type": "markdown",
   "metadata": {},
   "source": [
    "# 3. |62| [Unique Paths](https://leetcode.com/problems/unique-paths/)    | [Python](./Python/unique-paths.py)| _O(m * n)_      | _O(m + n)_   | Medium         ||"
   ]
  },
  {
   "cell_type": "markdown",
   "metadata": {},
   "source": [
    "# 4. |63| [Unique Paths II](https://leetcode.com/problems/unique-paths-ii/) | [Python](./Python/unique-paths-ii.py) |  _O(m * n)_ | _O(m + n)_   | Medium         ||"
   ]
  },
  {
   "cell_type": "markdown",
   "metadata": {},
   "source": [
    "# 5. |64| [Minimum Path Sum](https://leetcode.com/problems/minimum-path-sum/)| [Python](./Python/minimum-path-sum.py)| _O(m * n)_ | _O(m + n)_     | Medium         ||"
   ]
  },
  {
   "cell_type": "markdown",
   "metadata": {},
   "source": [
    "# 6. |70| [Climbing Stairs](https://leetcode.com/problems/climbing-stairs/)| [Python](./Python/climbing-stairs.py) | _O(n)_    | _O(1)_          | Easy           ||"
   ]
  },
  {
   "cell_type": "markdown",
   "metadata": {},
   "source": [
    "# 7. |72| [Edit Distance](https://leetcode.com/problems/edit-distance/)|[Python](./Python/edit-distance.py)| _O(m * n)_      | _O(m + n)_      | Hard           ||"
   ]
  },
  {
   "cell_type": "markdown",
   "metadata": {},
   "source": [
    "# 8. |87| [Scramble String](https://leetcode.com/problems/scramble-string/) | [Python](./Python/scramble-string.py) | _O(n^4)_ | _O(n^3)_        | Hard           ||"
   ]
  },
  {
   "cell_type": "markdown",
   "metadata": {},
   "source": [
    "# 9. |91| [Decode Ways](https://leetcode.com/problems/decode-ways/)   | [C++](./Python/decode-ways.cpp) [Python](./Python/decode-ways.py)| _O(n)_          | _O(1)_          | Medium         ||\n"
   ]
  },
  {
   "cell_type": "code",
   "execution_count": null,
   "metadata": {
    "collapsed": true
   },
   "outputs": [],
   "source": [
    "A message containing letters from A-Z is being encoded to numbers using the following mapping:\n",
    "\n",
    "'A' -> 1\n",
    "'B' -> 2\n",
    "...\n",
    "'Z' -> 26\n",
    "\n",
    "Given an encoded message containing digits, determine the total number of ways to decode it.\n",
    "\n",
    "For example,\n",
    "Given encoded message \"12\", it could be decoded as \"AB\" (1 2) or \"L\" (12).\n",
    "\n",
    "The number of ways decoding \"12\" is 2."
   ]
  },
  {
   "cell_type": "code",
   "execution_count": 11,
   "metadata": {
    "collapsed": true
   },
   "outputs": [],
   "source": [
    "# Time:  O(n)\n",
    "# Space: O(1)\n",
    "\n",
    "class Solution(object):\n",
    "    def numDecodings(self, s):\n",
    "        \"\"\"\n",
    "        :type s: str\n",
    "        :rtype: int\n",
    "        \"\"\"\n",
    "        if len(s) == 0 or s[0] == '0':\n",
    "            return 0\n",
    "        \n",
    "        prev, prev_prev = 1, 0\n",
    "        for i in xrange(len(s)):\n",
    "            cur = 0\n",
    "            if s[i] != '0':\n",
    "                cur = prev\n",
    "            if i > 0 and (s[i - 1] == '1' or (s[i - 1] == '2' and s[i] <= '6')):\n",
    "                cur += prev_prev\n",
    "            prev = cur \n",
    "            prev_prev = prev\n",
    "        return prev"
   ]
  },
  {
   "cell_type": "code",
   "execution_count": 12,
   "metadata": {
    "collapsed": false,
    "scrolled": true
   },
   "outputs": [
    {
     "name": "stdout",
     "output_type": "stream",
     "text": [
      "2\n"
     ]
    }
   ],
   "source": [
    "print Solution().numDecodings('10323')"
   ]
  },
  {
   "cell_type": "code",
   "execution_count": null,
   "metadata": {
    "collapsed": true
   },
   "outputs": [],
   "source": [
    "class Solution(object):\n",
    "    def numDecodings(self, s):\n",
    "        \"\"\"\n",
    "        :type s: str\n",
    "        :rtype: int\n",
    "        \"\"\"\n",
    "        n = len(s)\n",
    "        if n==0:\n",
    "            return 0\n",
    "        m = [0 for _ in range(n+1)]\n",
    "        m[n] = 1\n",
    "        m[n-1] = 0 if s[n-1] == '0' else 1\n",
    "        for i in range(n-2, -1, -1):\n",
    "            if s[i] == '0':\n",
    "                continue\n",
    "            else:\n",
    "                m[i] = m[i+1]+m[i+2] if int(s[i:i+2])<=26 else m[i+1]\n",
    "        return m[0]"
   ]
  },
  {
   "cell_type": "code",
   "execution_count": null,
   "metadata": {
    "collapsed": true
   },
   "outputs": [],
   "source": [
    "class Solution(object):\n",
    "    # @param s, a string\n",
    "    # @return an integer\n",
    "    def numDecodings(self, s):\n",
    "        #dp[i] = dp[i-1] if s[i] != \"0\"\n",
    "        #       +dp[i-2] if \"09\" < s[i-1:i+1] < \"27\"\n",
    "        if s == \"\": return 0\n",
    "        dp = [0 for x in range(len(s)+1)]\n",
    "        dp[0] = 1\n",
    "        for i in range(1, len(s)+1):\n",
    "            if s[i-1] != \"0\":\n",
    "                dp[i] += dp[i-1]\n",
    "            if i != 1 and s[i-2:i] < \"27\" and s[i-2:i] > \"09\":  #\"01\"ways = 0\n",
    "                dp[i] += dp[i-2]\n",
    "        return dp[len(s)]"
   ]
  },
  {
   "cell_type": "code",
   "execution_count": null,
   "metadata": {
    "collapsed": true
   },
   "outputs": [],
   "source": []
  },
  {
   "cell_type": "code",
   "execution_count": 10,
   "metadata": {
    "collapsed": false
   },
   "outputs": [
    {
     "name": "stdout",
     "output_type": "stream",
     "text": [
      "0\n",
      "1\n",
      "2\n",
      "3\n",
      "4\n"
     ]
    }
   ],
   "source": [
    "for i in range(5):\n",
    "    print i"
   ]
  },
  {
   "cell_type": "markdown",
   "metadata": {},
   "source": [
    "# 10. |96| [Unique Binary Search Trees](https://leetcode.com/problems/unique-binary-search-trees/) | [Python](./Python/unique-binary-search-trees.py) | _O(n)_      | _O(1)_         | Medium         || Math"
   ]
  },
  {
   "cell_type": "code",
   "execution_count": null,
   "metadata": {
    "collapsed": true
   },
   "outputs": [],
   "source": [
    "Time:  O(n)\n",
    "Space: O(1)\n",
    "\n",
    "Given n, how many structurally unique BST's (binary search trees) that store values 1...n?\n",
    "\n",
    "For example,\n",
    "Given n = 3, there are a total of 5 unique BST's.\n",
    "\n",
    "   1         3     3      2      1\n",
    "    \\       /     /      / \\      \\\n",
    "     3     2     1      1   3      2\n",
    "    /     /       \\                 \\\n",
    "   2     1         2                 3\n"
   ]
  },
  {
   "cell_type": "code",
   "execution_count": null,
   "metadata": {
    "collapsed": true
   },
   "outputs": [],
   "source": [
    "\n",
    "\n",
    "# Math solution.\n",
    "class Solution(object):\n",
    "    def numTrees(self, n):\n",
    "        \"\"\"\n",
    "        :type n: int\n",
    "        :rtype: int\n",
    "        \"\"\"\n",
    "        if n == 0:\n",
    "            return 1\n",
    "\n",
    "        def combination(n, k):\n",
    "            count = 1\n",
    "            # C(n, k) = (n) / 1 * (n - 1) / 2 ... * (n - k + 1) / k\n",
    "            for i in xrange(1, k + 1):\n",
    "                count = count * (n - i + 1) / i;\n",
    "            return count\n",
    "\n",
    "        return combination(2 * n, n) - combination(2 * n, n - 1)"
   ]
  },
  {
   "cell_type": "code",
   "execution_count": 15,
   "metadata": {
    "collapsed": true
   },
   "outputs": [],
   "source": [
    "# Time:  O(n^2)\n",
    "# Space: O(n)\n",
    "# DP solution.\n",
    "class Solution:\n",
    "    # @return an integer\n",
    "    def numTrees(self, n):\n",
    "        counts = [1, 1]\n",
    "        for i in xrange(2, n + 1):\n",
    "            count = 0\n",
    "            for j in xrange(i):\n",
    "                count += counts[j] * counts[i - j - 1]\n",
    "            counts.append(count)\n",
    "        return counts[-1]"
   ]
  },
  {
   "cell_type": "code",
   "execution_count": null,
   "metadata": {
    "collapsed": true
   },
   "outputs": [],
   "source": [
    "class Solution(object):\n",
    "    def numTrees(self, n):\n",
    "        nums = [0] * (n + 1)\n",
    " \n",
    "        nums[0] = 1\n",
    " \n",
    "        for i in range(1, n+1):   # Range: [1, n]\n",
    "            for j in range(1, i+1): # Range: [1, i] as the root of the tree\n",
    "                nums[i] += nums[j-1] * nums[i-j] # ! i-j\n",
    " \n",
    "        return nums[n]\n"
   ]
  },
  {
   "cell_type": "code",
   "execution_count": null,
   "metadata": {
    "collapsed": true
   },
   "outputs": [],
   "source": [
    "class Solution(object):\n",
    "    def numTrees(self, n):\n",
    "        nums = [0] * (n + 1)\n",
    " \n",
    "        nums[0] = 1\n",
    " \n",
    "        for i in range(1, n+1):   # [1, n]\n",
    "            for j in range(0, i): # [0, i-1]\n",
    "                nums[i] += nums[j] * nums[i-j-1] # ! i-j-1\n",
    " \n",
    "        return nums[n]"
   ]
  },
  {
   "cell_type": "code",
   "execution_count": 16,
   "metadata": {
    "collapsed": false,
    "scrolled": true
   },
   "outputs": [
    {
     "name": "stdout",
     "output_type": "stream",
     "text": [
      "5\n"
     ]
    }
   ],
   "source": [
    "print Solution().numTrees(3)"
   ]
  },
  {
   "cell_type": "code",
   "execution_count": null,
   "metadata": {
    "collapsed": true
   },
   "outputs": [],
   "source": [
    "https://www.kyledong.com/leetcode-unique-binary-search-trees/"
   ]
  },
  {
   "cell_type": "markdown",
   "metadata": {},
   "source": [
    "# 11. |97| [Interleaving String](https://leetcode.com/problems/interleaving-string/)|[Python](./Python/interleaving-string.py)| _O(m * n)_ | _O(m + n)_ | Hard         ||"
   ]
  },
  {
   "cell_type": "code",
   "execution_count": null,
   "metadata": {
    "collapsed": true
   },
   "outputs": [],
   "source": [
    "Given s1, s2, s3, find whether s3 is formed by the interleaving of s1 and s2.\n",
    "\n",
    "For example,\n",
    "Given:\n",
    "s1 = \"aabcc\",\n",
    "s2 = \"dbbca\",\n",
    "\n",
    "When s3 = \"aadbbcbcac\", return true.\n",
    "When s3 = \"aadbbbaccc\", return false."
   ]
  },
  {
   "cell_type": "code",
   "execution_count": null,
   "metadata": {
    "collapsed": true
   },
   "outputs": [],
   "source": [
    "# Time:  O(m * n)\n",
    "# Space: O(m + n)\n",
    "\n",
    "        \n",
    "# Time:  O(m * n)\n",
    "# Space: O(m + n)\n",
    "# Dynamic Programming + Sliding Window\n",
    "class Solution:\n",
    "    # @return a boolean\n",
    "    def isInterleave(self, s1, s2, s3):\n",
    "        if len(s1) + len(s2) != len(s3):\n",
    "            return False\n",
    "        if len(s1) > len(s2):\n",
    "            return self.isInterleave(s2, s1, s3)\n",
    "        match = [False for i in xrange(len(s1) + 1)]\n",
    "        match[0] = True\n",
    "        for i in xrange(1, len(s1) + 1):\n",
    "            match[i] = match[i -1] and s1[i - 1] == s3[i - 1]\n",
    "        for j in xrange(1, len(s2) + 1):\n",
    "            match[0] = match[0] and s2[j - 1] == s3[j - 1]\n",
    "            for i in xrange(1, len(s1) + 1):\n",
    "                match[i] = (match[i - 1] and s1[i - 1] == s3[i + j - 1]) \\\n",
    "                                       or (match[i] and s2[j - 1] == s3[i + j - 1])\n",
    "        return match[-1]"
   ]
  },
  {
   "cell_type": "markdown",
   "metadata": {},
   "source": [
    "# 12. |115| [Distinct Subsequences](https://leetcode.com/problems/distinct-subsequences/)|[Python](./Python/distinct-subsequences.py)| _O(n^2)_ | _O(n)_ | Hard           ||"
   ]
  },
  {
   "cell_type": "code",
   "execution_count": null,
   "metadata": {
    "collapsed": true
   },
   "outputs": [],
   "source": [
    "Given a string S and a string T, count the number of distinct subsequences of T in S.\n",
    "\n",
    "A subsequence of a string is a new string which is formed from the original string \n",
    "by deleting some (can be none) of the characters without disturbing the relative positions \n",
    "of the remaining characters. (ie, \"ACE\" is a subsequence of \"ABCDE\" while \"AEC\" is not).\n",
    "\n",
    "Here is an example:\n",
    "S = \"rabbbit\", T = \"rabbit\"\n",
    "\n",
    "Return 3."
   ]
  },
  {
   "cell_type": "code",
   "execution_count": null,
   "metadata": {
    "collapsed": true
   },
   "outputs": [],
   "source": [
    "# Time:  O(n^2)\n",
    "# Space: O(n)\n",
    "\n",
    "\n",
    "class Solution:\n",
    "    # @return an integer\n",
    "    def numDistinct(self, S, T):\n",
    "        ways = [0 for _ in xrange(len(T) + 1)]\n",
    "        ways[0] = 1\n",
    "        for S_char in S:\n",
    "            for j, T_char in reversed(list(enumerate(T))):\n",
    "                if S_char == T_char:\n",
    "                    ways[j + 1] += ways[j]\n",
    "        return ways[len(T)]\n",
    "        \n",
    "if __name__ == \"__main__\":\n",
    "    S = \"rabbbit\"\n",
    "    T = \"rabbit\"\n",
    "    result = Solution().numDistinct(S, T)\n",
    "    print result\n"
   ]
  },
  {
   "cell_type": "markdown",
   "metadata": {},
   "source": [
    "# 13. |120| [Triangle](https://leetcode.com/problems/triangle/)       | [Python](./Python/triangle.py)   | _O(m * n)_      | _O(n)_         | Medium         ||"
   ]
  },
  {
   "cell_type": "code",
   "execution_count": null,
   "metadata": {
    "collapsed": true
   },
   "outputs": [],
   "source": [
    "Given a triangle, find the minimum path sum from top to bottom. Each step you may move to adjacent numbers on the row below.\n",
    "\n",
    "For example, given the following triangle\n",
    "[\n",
    "     [2],\n",
    "    [3,4],\n",
    "   [6,5,7],\n",
    "  [4,1,8,3]\n",
    "]\n",
    "The minimum path sum from top to bottom is 11 (i.e., 2 + 3 + 5 + 1 = 11).\n",
    "\n",
    "Note:\n",
    "Bonus point if you are able to do this using only O(n) extra space, where n is the total number of rows in the triangle.\n"
   ]
  },
  {
   "cell_type": "code",
   "execution_count": null,
   "metadata": {
    "collapsed": true
   },
   "outputs": [],
   "source": [
    "# Time:  O(m * n)\n",
    "# Space: O(n)\n",
    "#\n",
    "\n",
    "class Solution:\n",
    "    # @param triangle, a list of lists of integers\n",
    "    # @return an integer\n",
    "    def minimumTotal(self, triangle):\n",
    "        if not triangle:\n",
    "            return 0\n",
    "        \n",
    "        cur = triangle[0] + [float(\"inf\")]\n",
    "        for i in xrange(1, len(triangle)):\n",
    "            next = []\n",
    "            next.append(triangle[i][0] + cur[0])\n",
    "            for j in xrange(1, i + 1):\n",
    "                next.append(triangle[i][j] + min(cur[j - 1], cur[j]))\n",
    "            cur = next + [float(\"inf\")]\n",
    "            \n",
    "        return reduce(min, cur)\n",
    "\n",
    "if __name__ == \"__main__\":\n",
    "    print Solution().minimumTotal([[-1], [2, 3], [1, -1, -3]])"
   ]
  },
  {
   "cell_type": "markdown",
   "metadata": {},
   "source": [
    "# 14. |123| [Best Time to Buy and Sell Stock III](https://leetcode.com/problems/best-time-to-buy-and-sell-stock-iii/) | [Python](./Python/best-time-to-buy-and-sell-stock-iii.py) | _O(n)_ | _O(1)_ | Hard ||"
   ]
  },
  {
   "cell_type": "code",
   "execution_count": null,
   "metadata": {
    "collapsed": true
   },
   "outputs": [],
   "source": [
    "Say you have an array for which the ith element \n",
    "is the price of a given stock on day i.\n",
    "\n",
    "Design an algorithm to find the maximum profit. \n",
    "You may complete at most two transactions.\n",
    "\n",
    "Note:\n",
    "You may not engage in multiple transactions at the same time \n",
    "(ie, you must sell the stock before you buy again).\n"
   ]
  },
  {
   "cell_type": "code",
   "execution_count": null,
   "metadata": {
    "collapsed": true
   },
   "outputs": [],
   "source": [
    "# Time:  O(n)\n",
    "# Space: O(1)\n",
    "\n",
    "\n",
    "class Solution:\n",
    "    # @param prices, a list of integer\n",
    "    # @return an integer\n",
    "    def maxProfit(self, prices):\n",
    "        hold1, hold2 = float(\"-inf\"), float(\"-inf\")\n",
    "        release1, release2 = 0, 0\n",
    "        for i in prices:\n",
    "            release2 = max(release2, hold2 + i)\n",
    "            hold2    = max(hold2,    release1 - i)\n",
    "            release1 = max(release1, hold1 + i)\n",
    "            hold1    = max(hold1,    -i);\n",
    "        return release2"
   ]
  },
  {
   "cell_type": "markdown",
   "metadata": {},
   "source": [
    "# 15. |132| [Palindrome Partitioning II](https://leetcode.com/problems/palindrome-partitioning-ii/) | [Python](./Python/palindrome-partitioning-ii.py) | _O(n^2)_ | _O(n^2)_ | Hard |"
   ]
  },
  {
   "cell_type": "code",
   "execution_count": null,
   "metadata": {
    "collapsed": true
   },
   "outputs": [],
   "source": [
    "\n",
    "Given a string s, partition s such that every substring of the partition is a palindrome.\n",
    "\n",
    "Return the minimum cuts needed for a palindrome partitioning of s.\n",
    "\n",
    "For example, given s = \"aab\",\n",
    "Return 1 since the palindrome partitioning [\"aa\",\"b\"] could be produced using 1 cut.\n"
   ]
  },
  {
   "cell_type": "code",
   "execution_count": null,
   "metadata": {
    "collapsed": true
   },
   "outputs": [],
   "source": [
    "# Time:  O(n^2)\n",
    "# Space: O(n^2)\n",
    "\n",
    "class Solution:\n",
    "    # @param s, a string\n",
    "    # @return an integer\n",
    "    def minCut(self, s):\n",
    "        lookup = [[False for j in xrange(len(s))] for i in xrange(len(s))]\n",
    "        mincut = [len(s) - 1 - i for i in xrange(len(s) + 1)]\n",
    "        \n",
    "        for i in reversed(xrange(len(s))):\n",
    "            for j in xrange(i, len(s)):\n",
    "                if s[i] == s[j]  and (j - i < 2 or lookup[i + 1][j - 1]):\n",
    "                    lookup[i][j] = True\n",
    "                    mincut[i] = min(mincut[i], mincut[j + 1] + 1)\n",
    "                    \n",
    "        return mincut[0]\n",
    "\n",
    "if __name__ == \"__main__\":\n",
    "    print Solution().minCut(\"aab\")"
   ]
  },
  {
   "cell_type": "markdown",
   "metadata": {},
   "source": [
    "# 16. |139| [Word Break](https://leetcode.com/problems/word-break/)     | [C++](./C++/word-break.cpp) [Python](./Python/word-break.py) |  _O(n * l^2)_         | _O(n)_       | Medium         ||"
   ]
  },
  {
   "cell_type": "code",
   "execution_count": null,
   "metadata": {
    "collapsed": true
   },
   "outputs": [],
   "source": [
    "Given a string s and a dictionary of words dict, \n",
    "determine if s can be segmented into a space-separated sequence of one or more dictionary words.\n",
    "\n",
    "For example, given\n",
    "s = \"leetcode\",\n",
    "dict = [\"leet\", \"code\"].\n",
    "\n",
    "Return true because \"leetcode\" can be segmented as \"leet code\"."
   ]
  },
  {
   "cell_type": "code",
   "execution_count": null,
   "metadata": {
    "collapsed": true
   },
   "outputs": [],
   "source": [
    "# Time:  O(n * l^2)\n",
    "# Space: O(n)\n",
    "\n",
    "\n",
    "class Solution(object):\n",
    "    def wordBreak(self, s, wordDict):\n",
    "        \"\"\"\n",
    "        :type s: str\n",
    "        :type wordDict: Set[str]\n",
    "        :rtype: bool\n",
    "        \"\"\"\n",
    "        n = len(s)\n",
    "\n",
    "        max_len = 0\n",
    "        for string in wordDict:\n",
    "            max_len = max(max_len, len(string))\n",
    "\n",
    "        can_break = [False for _ in xrange(n + 1)]\n",
    "        can_break[0] = True\n",
    "        for i in xrange(1, n + 1):\n",
    "            for l in xrange(1, min(i, max_len) + 1):\n",
    "                if can_break[i-l] and s[i-l:i] in wordDict:\n",
    "                    can_break[i] = True\n",
    "                    break\n",
    "\n",
    "        return can_break[-1]\n",
    "\n",
    "    \n",
    "if __name__ == \"__main__\":\n",
    "    print Solution().wordBreak(\"leetcode\", [\"leet\", \"code\"])"
   ]
  },
  {
   "cell_type": "markdown",
   "metadata": {},
   "source": [
    "# 17. |152| [Maximum Product Subarray](https://leetcode.com/problems/maximum-product-subarray/)|[Python](./Python/maximum-product-subarray.py)| _O(n)_ | _O(1)_ | Medium     ||"
   ]
  },
  {
   "cell_type": "code",
   "execution_count": null,
   "metadata": {
    "collapsed": true
   },
   "outputs": [],
   "source": [
    "Find the contiguous subarray within an array (containing at least one number) which has the largest product.\n",
    "\n",
    "For example, given the array [2,3,-2,4],\n",
    "the contiguous subarray [2,3] has the largest product = 6."
   ]
  },
  {
   "cell_type": "code",
   "execution_count": null,
   "metadata": {
    "collapsed": true
   },
   "outputs": [],
   "source": [
    "# Time:  O(n)\n",
    "# Space: O(1)\n",
    "\n",
    "class Solution:\n",
    "    # @param A, a list of integers\n",
    "    # @return an integer\n",
    "    def maxProduct(self, A):\n",
    "        global_max, local_max, local_min = float(\"-inf\"), 1, 1\n",
    "        for x in A:\n",
    "            local_max, local_min = max(x, local_max * x, local_min * x), min(x, local_max * x, local_min * x)\n",
    "            global_max = max(global_max, local_max)\n",
    "        return global_max\n",
    "\n",
    "class Solution2:\n",
    "    # @param A, a list of integers\n",
    "    # @return an integer\n",
    "    def maxProduct(self, A):\n",
    "        global_max, local_max, local_min = float(\"-inf\"), 1, 1\n",
    "        for x in A:\n",
    "            local_max = max(1, local_max)\n",
    "            if x > 0:\n",
    "                local_max, local_min = local_max * x, local_min * x\n",
    "            else:\n",
    "                local_max, local_min = local_min * x, local_max * x\n",
    "            global_max = max(global_max, local_max)\n",
    "        return global_max\n",
    "\n",
    "if __name__ == \"__main__\":\n",
    "    print Solution().maxProduct([2, 3, -2, 4])\n",
    "    print Solution().maxProduct([-4,-3])"
   ]
  },
  {
   "cell_type": "markdown",
   "metadata": {},
   "source": [
    "# 18. |174| [Dungeon Game](https://leetcode.com/problems/dungeon-game/)  | [Python](./Python/dungeon-game.py)| _O(m * n)_     | _O(m + n)_      | Hard           ||"
   ]
  },
  {
   "cell_type": "code",
   "execution_count": null,
   "metadata": {
    "collapsed": true
   },
   "outputs": [],
   "source": [
    "The demons had captured the princess (P) and imprisoned her \n",
    "in the bottom-right corner of a dungeon. T\n",
    "he dungeon consists of M x N rooms laid out in a 2D grid. \n",
    "Our valiant knight (K) was initially positioned in the top-left room \n",
    "and must fight his way through the dungeon to rescue the princess.\n",
    "\n",
    "The knight has an initial health point represented by a positive integer. \n",
    "If at any point his health point drops to 0 or below, he dies immediately.\n",
    "\n",
    "Some of the rooms are guarded by demons, \n",
    "so the knight loses health (negative integers) upon entering these rooms; \n",
    "other rooms are either empty (0's) or contain magic orbs that increase the knight's health (positive integers).\n",
    "\n",
    "In order to reach the princess as quickly as possible, \n",
    "the knight decides to move only rightward or downward in each step.\n",
    "\n",
    "\n",
    "Write a function to determine the knight's minimum initial health \n",
    "so that he is able to rescue the princess.\n",
    "\n",
    "For example, given the dungeon below, the initial health of \n",
    "the knight must be at least 7 if he follows the optimal path RIGHT-> RIGHT -> DOWN -> DOWN.\n",
    "\n",
    "Notes:\n",
    "\n",
    "The knight's health has no upper bound.\n",
    "Any room can contain threats or power-ups, even the first room the knight enters \n",
    "and the bottom-right room where the princess is imprisoned.\n"
   ]
  },
  {
   "cell_type": "code",
   "execution_count": null,
   "metadata": {
    "collapsed": true
   },
   "outputs": [],
   "source": [
    "# Time:  O(m * n)\n",
    "# Space: O(m + n)\n",
    "\n",
    "class Solution:\n",
    "    # @param dungeon, a list of lists of integers\n",
    "    # @return a integer\n",
    "    def calculateMinimumHP(self, dungeon):\n",
    "        DP = [float(\"inf\") for _ in dungeon[0]]\n",
    "        DP[-1] = 1\n",
    "        \n",
    "        for i in reversed(xrange(len(dungeon))):\n",
    "            DP[-1] = max(DP[-1] - dungeon[i][-1], 1)\n",
    "            for j in reversed(xrange(len(dungeon[i]) - 1)):\n",
    "                min_HP_on_exit = min(DP[j], DP[j + 1])\n",
    "                DP[j] = max(min_HP_on_exit - dungeon[i][j], 1)\n",
    "                \n",
    "        return DP[0]"
   ]
  },
  {
   "cell_type": "markdown",
   "metadata": {},
   "source": [
    "# 19. |188| [Best Time to Buy and Sell Stock IV](https://leetcode.com/problems/best-time-to-buy-and-sell-stock-iv/)| [Python](./Python/best-time-to-buy-and-sell-stock-iv.py) | _O(k * n)_ | _O(k)_ | Hard ||"
   ]
  },
  {
   "cell_type": "code",
   "execution_count": null,
   "metadata": {
    "collapsed": true
   },
   "outputs": [],
   "source": [
    "\n",
    "Say you have an array for which the ith element is the price of a given stock on day i.\n",
    "\n",
    "Design an algorithm to find the maximum profit. You may complete at most k transactions.\n",
    "\n",
    "Note:\n",
    "You may not engage in multiple transactions at the same time (ie, you must sell the stock before you buy again).\n",
    "\n"
   ]
  },
  {
   "cell_type": "code",
   "execution_count": null,
   "metadata": {
    "collapsed": true
   },
   "outputs": [],
   "source": [
    "# Time:  O(k * n)\n",
    "# Space: O(k)\n",
    "\n",
    "class Solution:\n",
    "    # @return an integer as the maximum profit \n",
    "    def maxProfit(self, k, prices):\n",
    "        if k >= len(prices) / 2:\n",
    "            return self.maxAtMostNPairsProfit(prices)\n",
    "\n",
    "        return self.maxAtMostKPairsProfit(prices, k)\n",
    "\n",
    "    def maxAtMostNPairsProfit(self, prices):\n",
    "        profit = 0\n",
    "        for i in xrange(len(prices) - 1):\n",
    "            profit += max(0, prices[i + 1] - prices[i])     \n",
    "        return profit\n",
    "\n",
    "    def maxAtMostKPairsProfit(self, prices, k):\n",
    "        max_buy = [float(\"-inf\") for _ in xrange(k + 1)]\n",
    "        max_sell = [0 for _ in xrange(k + 1)]\n",
    "\n",
    "        for i in xrange(len(prices)):\n",
    "            for j in xrange(1, min(k, i/2+1) + 1):\n",
    "                max_buy[j] = max(max_buy[j], max_sell[j-1] - prices[i])\n",
    "                max_sell[j] = max(max_sell[j], max_buy[j] + prices[i])\n",
    "\n",
    "        return max_sell[k]\n",
    "\n",
    "if __name__ == \"__main__\":\n",
    "    print Solution().maxAtMostKPairsProfit([1, 2, 3, 4], 2)"
   ]
  },
  {
   "cell_type": "markdown",
   "metadata": {},
   "source": [
    "# 20. |198| [House Robber](https://leetcode.com/problems/house-robber/)| [Python](./Python/house-robber.py) | _O(n)_          | _O(1)_          | Easy           ||"
   ]
  },
  {
   "cell_type": "markdown",
   "metadata": {},
   "source": [
    "# 21. |213| [House Robber II](https://leetcode.com/problems/house-robber-ii/)| [C++](./C++/house-robber-ii.cpp) [Python](./Python/house-robber-ii.py) | _O(n)_          | _O(1)_          | Medium           ||"
   ]
  },
  {
   "cell_type": "markdown",
   "metadata": {},
   "source": [
    "# 22. |221| [Maximal Square](https://leetcode.com/problems/maximal-square/)| [C++](./C++/maximal-square.cpp) [Python](./Python/maximal-square.py) | _O(n^2)_         | _O(n)_          | Medium           | EPI |"
   ]
  },
  {
   "cell_type": "markdown",
   "metadata": {},
   "source": [
    "|256| [Paint House](https://leetcode.com/problems/paint-house/) | [C++](./C++/paint-house.cpp) [Python](./Python/paint-house.py) | _O(n)_| _O(1)_| Medium |📖||\n",
    "|265| [Paint House II](https://leetcode.com/problems/paint-house-ii/) | [C++](./C++/paint-house-ii.cpp) [Python](./Python/paint-house-ii.py) | _O(n * k)_| _O(k)_| Hard |📖||\n",
    "|276| [Paint Fence](https://leetcode.com/problems/paint-fence/) | [C++](./C++/paint-fence.cpp) [Python](./Python/paint-fence.py) | _O(n)_| _O(1)_| Easy |📖||\n",
    "|279| [Perfect Squares](https://leetcode.com/problems/perfect-squares/)| [C++](./C++/perfect-squares.cpp) [Python](./Python/perfect-squares.py) | _O(n * sqrt(n))_         | _O(n)_          | Medium           ||  Hash |\n",
    "|303| [Range Sum Query - Immutable](https://leetcode.com/problems/range-sum-query-immutable/)| [C++](./C++/range-sum-query-immutable.cpp) [Python](./Python/range-sum-query-immutable.py) | ctor: _O(n)_, lookup: _O(1)_          | _O(n)_          | Easy           ||\n",
    "|304| [Range Sum Query 2D - Immutable](https://leetcode.com/problems/range-sum-query-2d-immutable/)| [C++](./C++/range-sum-query-2d-immutable.cpp) [Python](./Python/range-sum-query-2d-immutable.py) | ctor: _O(m * n)_, lookup: _O(1)_          | _O(m * n)_          | Medium           ||\n",
    "|309| [Best Time to Buy and Sell Stock with Cooldown](https://leetcode.com/problems/best-time-to-buy-and-sell-stock-with-cooldown/) | [C++](./C++/best-time-to-buy-and-sell-stock-with-cooldown.cpp) [Python](./Python/best-time-to-buy-and-sell-stock-with-cooldown.py) | _O(n)_ | _O(1)_ | Medium ||\n",
    "|312| [Burst Balloons](https://leetcode.com/problems/burst-balloons/) | [C++](./C++/burst-balloons.cpp) [Python](./Python/burst-balloons.py) | _O(n^3)_ | _O(n^2)_ | Hard ||\n",
    "|322| [Coin Change](https://leetcode.com/problems/coin-change/) | [C++](./C++/coin-change.cpp) [Python](./Python/coin-change.py) | _O(n * k)_ | _O(k)_ | Medium ||\n",
    "|351| [Android Unlock Patterns](https://leetcode.com/problems/android-unlock-patterns/) | [C++](./C++/android-unlock-patterns.cpp) [Python](./Python/android-unlock-patterns.py) | _O(9^2 * 2^9)_ | _O(9 * 2^9)_ | Medium | 📖 | Backtracking |\n",
    "|357| [Count Numbers with Unique Digits](https://leetcode.com/problems/count-numbers-with-unique-digits/) | [C++](./C++/count-numbers-with-unique-digits.cpp) [Python](./Python/count-numbers-with-unique-digits.py) | _O(n)_ | _O(1)_ | Medium || Backtracking, Math |\n",
    "|361| [Bomb Enemy](https://leetcode.com/problems/bomb-enemy/) | [C++](./C++/bomb-enemy.cpp) [Python](./Python/bomb-enemy.py) | _O(m * n)_ | _O(m * n)_ | Medium | 📖 | |\n",
    "|368| [Largest Divisible Subset](https://leetcode.com/problems/largest-divisible-subset/) | [C++](./C++/largest-divisible-subset.cpp) [Python](./Python/largest-divisible-subset.py) | _O(n^2)_ | _O(n)_ | Medium | | |\n",
    "|375| [Guess Number Higher or Lower II](https://leetcode.com/problems/guess-number-higher-or-lower-ii/)| [C++](./C++/guess-number-higher-or-lower-ii.cpp) [Python](./Python/guess-number-higher-or-lower-ii.py)   | _O(n^2)_          | _O(n^2)_          | Medium         | |\n",
    "|377| [Combination Sum IV](https://leetcode.com/problems/combination-sum-iv/)| [C++](./C++/combination-sum-iv.cpp) [Python](./Python/combination-sum-iv.py)   | _O(nlogn + n * t)_          | _O(t)_          | Medium         | |\n",
    "|403 | [Frog Jump](https://leetcode.com/problems/frog-jump/) | [C++](./C++/frog-jump.cpp) [Python](./Python/frog-jump.py) | _O(n)_ | _O(n) ~ O(n^2)_ | Hard ||\n",
    "|416 | [Partition Equal Subset Sum](https://leetcode.com/problems/partition-equal-subset-sum/) | [C++](./C++/partition-equal-subset-sum.cpp) [Python](./Python/partition-equal-subset-sum.py) | _O(n * s)_ | _O(s)_ | Medium ||\n",
    "|418 | [Sentence Screen Fitting](https://leetcode.com/problems/sentence-screen-fitting/) | [C++](./C++/sentence-screen-fitting.cpp) [Python](./Python/sentence-screen-fitting.py) | _O(r + n * c)_ | _O(n)_ | Medium |📖|\n",
    "|446 | [Arithmetic Slices II - Subsequence](https://leetcode.com/problems/arithmetic-slices-ii-subsequence/) | [C++](./C++/arithmetic-slices-ii-subsequence.cpp) [Python](./Python/arithmetic-slices-ii-subsequence.py) | _O(n^2)_ | _O(n * d)_ | Hard ||\n",
    "|465 | [Optimal Account Balancing](https://leetcode.com/problems/optimal-account-balancing/) | [C++](./C++/optimal-account-balancing.cpp) [Python](./Python/optimal-account-balancing.py) | _O(n * 2^n)_ | _O(n * 2^n)_ | Hard |📖|\n",
    "|466 | [Count The Repetitions](https://leetcode.com/problems/count-the-repetitions/) | [C++](./C++/count-the-repetitions.cpp) [Python](./Python/count-the-repetitions.py) | _O(s1 * min(s2, n1))_ | _O(s2)_ | Hard ||\n",
    "|467 | [Unique Substrings in Wraparound String](https://leetcode.com/problems/unique-substrings-in-wraparound-string/) | [C++](./C++/unique-substrings-in-wraparound-string.cpp) [Python](./Python/unique-substrings-in-wraparound-string.py) | _O(n)_ | _O(1)_ | Medium ||\n",
    "|471 | [Encode String with Shortest Length](https://leetcode.com/problems/encode-string-with-shortest-length/) | [C++](./C++/encode-string-with-shortest-length.cpp) [Python](./Python/encode-string-with-shortest-length.py) | _O(n^3)_ on average | _O(n^2)_ | Medium |📖|\n",
    "|472 | [Concatenated Words](https://leetcode.com/problems/concatenated-words/) | [C++](./C++/concatenated-words.cpp) [Python](./Python/concatenated-words.py) | _O(n * l^2)_ | _O(n * l)_ | Medium ||\n",
    "|474 | [Ones and Zeroes](https://leetcode.com/problems/ones-and-zeroes/) | [C++](./C++/ones-and-zeroes.cpp) [Python](./Python/ones-and-zeroes.py) | _O(s * m * n)_ | _O(m * n)_ | Medium ||\n"
   ]
  },
  {
   "cell_type": "markdown",
   "metadata": {},
   "source": [
    "# 494\tTarget Sum"
   ]
  },
  {
   "cell_type": "markdown",
   "metadata": {},
   "source": [
    "# 514\tFreedom Trail"
   ]
  },
  {
   "cell_type": "markdown",
   "metadata": {},
   "source": [
    "# 516\tLongest Palindromic Subsequence\t"
   ]
  },
  {
   "cell_type": "markdown",
   "metadata": {},
   "source": [
    "# 517\tSuper Washing Machines"
   ]
  },
  {
   "cell_type": "markdown",
   "metadata": {},
   "source": [
    "# 523\tContinuous Subarray Sum\t"
   ]
  },
  {
   "cell_type": "markdown",
   "metadata": {},
   "source": [
    "# 546\tRemove Boxes\t"
   ]
  },
  {
   "cell_type": "markdown",
   "metadata": {},
   "source": [
    "# 552\tStudent Attendance Record II\t"
   ]
  },
  {
   "cell_type": "markdown",
   "metadata": {},
   "source": [
    "# 568\tMaximum Vacation Days "
   ]
  },
  {
   "cell_type": "markdown",
   "metadata": {},
   "source": [
    "# 576 Out of Boundary Paths 33.7%\tHard"
   ]
  },
  {
   "cell_type": "code",
   "execution_count": null,
   "metadata": {
    "collapsed": true
   },
   "outputs": [],
   "source": [
    "There is an m by n grid with a ball. Given the start coordinate (i,j) of the ball, \n",
    "you can move the ball to adjacent cell or cross the grid boundary in four directions (up, down, left, right). \n",
    "However, you can at most move N times. Find out the number of paths to move the ball out of grid boundary. \n",
    "The answer may be very large, return it after mod 109 + 7.\n",
    "\n",
    "Example 1:\n",
    "Input:m = 2, n = 2, N = 2, i = 0, j = 0\n",
    "Output: 6\n",
    "Explanation:\n",
    "\n",
    "Example 2:\n",
    "Input:m = 1, n = 3, N = 3, i = 0, j = 1\n",
    "Output: 12\n",
    "Explanation:\n",
    "\n",
    "Note:\n",
    "Once you move the ball out of boundary, you cannot move it back.\n",
    "The length and height of the grid is in range [1,50].\n",
    "N is in range [0,50]."
   ]
  },
  {
   "cell_type": "markdown",
   "metadata": {},
   "source": [
    "## Solution"
   ]
  },
  {
   "cell_type": "code",
   "execution_count": 42,
   "metadata": {
    "collapsed": true
   },
   "outputs": [],
   "source": [
    "# Time:\n",
    "# Space:\n",
    "# Out of Boundary Paths\n",
    "# Solution1: BFS \n",
    "\n",
    "class Solution(object):\n",
    "    def findPaths(self, m, n, N, i, j):\n",
    "        \"\"\"\n",
    "        :type m: int\n",
    "        :type n: int\n",
    "        :type N: int\n",
    "        :type i: int\n",
    "        :type j: int\n",
    "        :rtype: int\n",
    "        \"\"\"\n",
    "        # m x n board, can move max N times, start pos i, j\n",
    "        numWays = 0\n",
    "     \n",
    "        # next state just keeps track of what possible coordinates we can go from a given coordinate\n",
    "        nextStateDict = self.createNextStateDict(m, n)\n",
    "        print nextStateDict\n",
    "        \n",
    "        # keeps track of how many times we see a coordinate\n",
    "        # at start, we only see one coordinate, which are the start coordinates\n",
    "        posCount = {(i,j):1}    \n",
    "        \n",
    "        for _ in xrange(N):\n",
    "            print _\n",
    "            new_pos_count = dict()\n",
    "            # iterate through all the positions\n",
    "            for pos in posCount:\n",
    "                # get all valid new positions from pos\n",
    "                validMoves = nextStateDict[pos]\n",
    "                numWays += (4 - len(validMoves)) * posCount[pos]    \n",
    "                \n",
    "                for newPos in validMoves:\n",
    "                    if newPos not in new_pos_count:\n",
    "                        new_pos_count[newPos] = 0\n",
    "                    new_pos_count[newPos] += posCount[pos]\n",
    "            posCount = new_pos_count\n",
    "        return numWays % (10**9 + 7)\n",
    "        \n",
    "    def getValidMoves(self, m, n, i, j):\n",
    "        # given pos (i,j), what next states can i be in?\n",
    "        posAfterOneMove = [(i+1,j),(i-1,j),(i,j+1),(i,j-1)]\n",
    "        return [(a,b) for a,b in posAfterOneMove if (0 <= a < m) and (0 <= b < n)]\n",
    "    \n",
    "    def createNextStateDict(self, m, n):\n",
    "        # for each pos in board, get a dict of next possible states\n",
    "        d = dict()\n",
    "        for row in range(0, m):\n",
    "            for col in range(0, n):\n",
    "                d[(row,col)] = self.getValidMoves(m, n, row, col)\n",
    "        return d"
   ]
  },
  {
   "cell_type": "code",
   "execution_count": 43,
   "metadata": {
    "collapsed": false,
    "scrolled": true
   },
   "outputs": [
    {
     "name": "stdout",
     "output_type": "stream",
     "text": [
      "{(0, 1): [(1, 1), (0, 0)], (1, 0): [(0, 0), (1, 1)], (0, 0): [(1, 0), (0, 1)], (1, 1): [(0, 1), (1, 0)]}\n",
      "0\n",
      "1\n",
      "6\n"
     ]
    }
   ],
   "source": [
    "print Solution().findPaths(2,2,2,0,0)"
   ]
  },
  {
   "cell_type": "code",
   "execution_count": null,
   "metadata": {
    "collapsed": true
   },
   "outputs": [],
   "source": [
    "# Time:\n",
    "# Space:\n",
    "# Out of Boundary Paths\n",
    "# Solution2: Dynamic Programming"
   ]
  },
  {
   "cell_type": "code",
   "execution_count": null,
   "metadata": {
    "collapsed": true
   },
   "outputs": [],
   "source": [
    "class Solution(object):\n",
    "    def findPaths(self, m, n, N, i, j):\n",
    "        \"\"\"\n",
    "        :type m: int\n",
    "        :type n: int\n",
    "        :type N: int\n",
    "        :type i: int\n",
    "        :type j: int\n",
    "        :rtype: int\n",
    "        \"\"\"\n",
    "        "
   ]
  },
  {
   "cell_type": "code",
   "execution_count": 45,
   "metadata": {
    "collapsed": true
   },
   "outputs": [],
   "source": [
    "import numpy as np\n",
    "\n",
    "class Solution(object):\n",
    "    def findPaths(self, m, n, N, i, j):\n",
    "        paths = np.zeros((m, n), dtype=np.int64)\n",
    "        paths[i][j] = 1\n",
    "        out = 0\n",
    "        mod = 10**9 + 7\n",
    "        for _ in range(N):\n",
    "            prev = paths % mod\n",
    "            paths = prev - prev\n",
    "            paths[1:] += prev[:-1]\n",
    "            paths[:-1] += prev[1:]\n",
    "            paths[:,1:] += prev[:,:-1]\n",
    "            paths[:,:-1] += prev[:,1:]\n",
    "            out += 4 * prev.sum() - paths.sum()\n",
    "        return int(out % mod)\n",
    "\n",
    "# https://discuss.leetcode.com/topic/88599/fast-python-solution-using-numpy"
   ]
  },
  {
   "cell_type": "code",
   "execution_count": 46,
   "metadata": {
    "collapsed": false
   },
   "outputs": [
    {
     "name": "stdout",
     "output_type": "stream",
     "text": [
      "6\n"
     ]
    }
   ],
   "source": [
    "print Solution().findPaths(2,2,2,0,0)"
   ]
  },
  {
   "cell_type": "code",
   "execution_count": 124,
   "metadata": {
    "collapsed": true
   },
   "outputs": [],
   "source": [
    "# Time:\n",
    "# Space:\n",
    "# Out of Boundary Paths\n",
    "# Solution2: Dynamic Programming \n",
    "'''\n",
    "Notes: Exponential to polynomial\n",
    "dp[i][j][k] = dp\n",
    "'''\n",
    "class Solution(object):\n",
    "    def findPaths(self, m, n, N, i, j):\n",
    "        \"\"\"\n",
    "        :type m: int\n",
    "        :type n: int\n",
    "        :type N: int\n",
    "        :type i: int\n",
    "        :type j: int\n",
    "        :rtype: int\n",
    "        \"\"\"\n",
    "        MOD = 10**9 + 7\n",
    "        nxt = [ [0] * n for _ in xrange(m) ]\n",
    "        nxt[i][j] = 1\n",
    "\n",
    "        ans = 0\n",
    "        print nxt\n",
    "        for time in xrange(N):\n",
    "            cur = nxt \n",
    "            nxt = [ [0] * n for _ in xrange(m)]\n",
    "            for r, row in enumerate(cur):\n",
    "                for c, val in enumerate(row):\n",
    "                    for nr, nc in ((r-1, c), (r+1, c), (r, c-1), (r, c+1)):\n",
    "                        if 0 <= nr < m and 0 <= nc < n:\n",
    "                            nxt[nr][nc] += val\n",
    "                            nxt[nr][nc] %= MOD\n",
    "                        else:\n",
    "#                             print nr, nc\n",
    "                            ans += val\n",
    "                            ans %= MOD\n",
    "        \n",
    "            print nxt\n",
    "        return ans"
   ]
  },
  {
   "cell_type": "code",
   "execution_count": 125,
   "metadata": {
    "collapsed": false,
    "scrolled": true
   },
   "outputs": [
    {
     "name": "stdout",
     "output_type": "stream",
     "text": [
      "[[1, 0, 0], [0, 0, 0], [0, 0, 0]]\n",
      "[[0, 1, 0], [1, 0, 0], [0, 0, 0]]\n",
      "[[2, 0, 1], [0, 2, 0], [1, 0, 0]]\n",
      "[[0, 5, 0], [5, 0, 3], [0, 3, 0]]\n",
      "12\n",
      "[[0, 0, 0], [0, 1, 0], [0, 0, 0]]\n",
      "[[0, 1, 0], [1, 0, 1], [0, 1, 0]]\n",
      "[[2, 0, 2], [0, 4, 0], [2, 0, 2]]\n",
      "[[0, 8, 0], [8, 0, 8], [0, 8, 0]]\n",
      "20\n"
     ]
    }
   ],
   "source": [
    "print Solution().findPaths(3,3,3,0,0)\n",
    "print Solution().findPaths(3,3,3,1,1)"
   ]
  },
  {
   "cell_type": "code",
   "execution_count": 122,
   "metadata": {
    "collapsed": true
   },
   "outputs": [],
   "source": [
    "class Solution(object):\n",
    "    def findPaths(self, m, n, N, i, j):\n",
    "        \"\"\"\n",
    "        :type m: int\n",
    "        :type n: int\n",
    "        :type N: int\n",
    "        :type i: int\n",
    "        :type j: int\n",
    "        :rtype: int\n",
    "        \"\"\"\n",
    "        MOD = 10**9 + 7\n",
    "        dz = zip((1, 0, -1, 0), (0, 1, 0, -1))\n",
    "        dp = [[0] *n for x in range(m)]\n",
    "        dp[i][j] = 1\n",
    "        ans = 0\n",
    "        for t in range(N):\n",
    "            ndp = [[0] *n for x in range(m)]\n",
    "            for x in range(m):\n",
    "                for y in range(n):\n",
    "                    for dx, dy in dz:\n",
    "                        nx, ny = x + dx, y + dy\n",
    "                        if 0 <= nx < m and 0 <= ny < n:\n",
    "                            ndp[nx][ny] = (ndp[nx][ny] + dp[x][y]) % MOD\n",
    "                        else:\n",
    "                            print 10*'*'\n",
    "                            print dx, dy\n",
    "                            print x, y, ':',dp[x][y]\n",
    "                            print ans\n",
    "                            ans = (ans + dp[x][y]) % MOD\n",
    "                            print ans\n",
    "                            print 10*'*'\n",
    "            dp = ndp\n",
    "            print dp\n",
    "        return ans"
   ]
  },
  {
   "cell_type": "code",
   "execution_count": 123,
   "metadata": {
    "collapsed": false
   },
   "outputs": [
    {
     "name": "stdout",
     "output_type": "stream",
     "text": [
      "**********\n",
      "-1 0\n",
      "0 0 : 1\n",
      "0\n",
      "1\n",
      "**********\n",
      "**********\n",
      "0 -1\n",
      "0 0 : 1\n",
      "1\n",
      "2\n",
      "**********\n",
      "**********\n",
      "-1 0\n",
      "0 1 : 0\n",
      "2\n",
      "2\n",
      "**********\n",
      "**********\n",
      "0 1\n",
      "0 2 : 0\n",
      "2\n",
      "2\n",
      "**********\n",
      "**********\n",
      "-1 0\n",
      "0 2 : 0\n",
      "2\n",
      "2\n",
      "**********\n",
      "**********\n",
      "0 -1\n",
      "1 0 : 0\n",
      "2\n",
      "2\n",
      "**********\n",
      "**********\n",
      "0 1\n",
      "1 2 : 0\n",
      "2\n",
      "2\n",
      "**********\n",
      "**********\n",
      "1 0\n",
      "2 0 : 0\n",
      "2\n",
      "2\n",
      "**********\n",
      "**********\n",
      "0 -1\n",
      "2 0 : 0\n",
      "2\n",
      "2\n",
      "**********\n",
      "**********\n",
      "1 0\n",
      "2 1 : 0\n",
      "2\n",
      "2\n",
      "**********\n",
      "**********\n",
      "1 0\n",
      "2 2 : 0\n",
      "2\n",
      "2\n",
      "**********\n",
      "**********\n",
      "0 1\n",
      "2 2 : 0\n",
      "2\n",
      "2\n",
      "**********\n",
      "[[0, 1, 0], [1, 0, 0], [0, 0, 0]]\n",
      "**********\n",
      "-1 0\n",
      "0 0 : 0\n",
      "2\n",
      "2\n",
      "**********\n",
      "**********\n",
      "0 -1\n",
      "0 0 : 0\n",
      "2\n",
      "2\n",
      "**********\n",
      "**********\n",
      "-1 0\n",
      "0 1 : 1\n",
      "2\n",
      "3\n",
      "**********\n",
      "**********\n",
      "0 1\n",
      "0 2 : 0\n",
      "3\n",
      "3\n",
      "**********\n",
      "**********\n",
      "-1 0\n",
      "0 2 : 0\n",
      "3\n",
      "3\n",
      "**********\n",
      "**********\n",
      "0 -1\n",
      "1 0 : 1\n",
      "3\n",
      "4\n",
      "**********\n",
      "**********\n",
      "0 1\n",
      "1 2 : 0\n",
      "4\n",
      "4\n",
      "**********\n",
      "**********\n",
      "1 0\n",
      "2 0 : 0\n",
      "4\n",
      "4\n",
      "**********\n",
      "**********\n",
      "0 -1\n",
      "2 0 : 0\n",
      "4\n",
      "4\n",
      "**********\n",
      "**********\n",
      "1 0\n",
      "2 1 : 0\n",
      "4\n",
      "4\n",
      "**********\n",
      "**********\n",
      "1 0\n",
      "2 2 : 0\n",
      "4\n",
      "4\n",
      "**********\n",
      "**********\n",
      "0 1\n",
      "2 2 : 0\n",
      "4\n",
      "4\n",
      "**********\n",
      "[[2, 0, 1], [0, 2, 0], [1, 0, 0]]\n",
      "**********\n",
      "-1 0\n",
      "0 0 : 2\n",
      "4\n",
      "6\n",
      "**********\n",
      "**********\n",
      "0 -1\n",
      "0 0 : 2\n",
      "6\n",
      "8\n",
      "**********\n",
      "**********\n",
      "-1 0\n",
      "0 1 : 0\n",
      "8\n",
      "8\n",
      "**********\n",
      "**********\n",
      "0 1\n",
      "0 2 : 1\n",
      "8\n",
      "9\n",
      "**********\n",
      "**********\n",
      "-1 0\n",
      "0 2 : 1\n",
      "9\n",
      "10\n",
      "**********\n",
      "**********\n",
      "0 -1\n",
      "1 0 : 0\n",
      "10\n",
      "10\n",
      "**********\n",
      "**********\n",
      "0 1\n",
      "1 2 : 0\n",
      "10\n",
      "10\n",
      "**********\n",
      "**********\n",
      "1 0\n",
      "2 0 : 1\n",
      "10\n",
      "11\n",
      "**********\n",
      "**********\n",
      "0 -1\n",
      "2 0 : 1\n",
      "11\n",
      "12\n",
      "**********\n",
      "**********\n",
      "1 0\n",
      "2 1 : 0\n",
      "12\n",
      "12\n",
      "**********\n",
      "**********\n",
      "1 0\n",
      "2 2 : 0\n",
      "12\n",
      "12\n",
      "**********\n",
      "**********\n",
      "0 1\n",
      "2 2 : 0\n",
      "12\n",
      "12\n",
      "**********\n",
      "[[0, 5, 0], [5, 0, 3], [0, 3, 0]]\n",
      "12\n",
      "**********\n",
      "-1 0\n",
      "0 0 : 0\n",
      "0\n",
      "0\n",
      "**********\n",
      "**********\n",
      "0 -1\n",
      "0 0 : 0\n",
      "0\n",
      "0\n",
      "**********\n",
      "**********\n",
      "-1 0\n",
      "0 1 : 0\n",
      "0\n",
      "0\n",
      "**********\n",
      "**********\n",
      "0 1\n",
      "0 2 : 0\n",
      "0\n",
      "0\n",
      "**********\n",
      "**********\n",
      "-1 0\n",
      "0 2 : 0\n",
      "0\n",
      "0\n",
      "**********\n",
      "**********\n",
      "0 -1\n",
      "1 0 : 0\n",
      "0\n",
      "0\n",
      "**********\n",
      "**********\n",
      "0 1\n",
      "1 2 : 0\n",
      "0\n",
      "0\n",
      "**********\n",
      "**********\n",
      "1 0\n",
      "2 0 : 0\n",
      "0\n",
      "0\n",
      "**********\n",
      "**********\n",
      "0 -1\n",
      "2 0 : 0\n",
      "0\n",
      "0\n",
      "**********\n",
      "**********\n",
      "1 0\n",
      "2 1 : 0\n",
      "0\n",
      "0\n",
      "**********\n",
      "**********\n",
      "1 0\n",
      "2 2 : 0\n",
      "0\n",
      "0\n",
      "**********\n",
      "**********\n",
      "0 1\n",
      "2 2 : 0\n",
      "0\n",
      "0\n",
      "**********\n",
      "[[0, 1, 0], [1, 0, 1], [0, 1, 0]]\n",
      "**********\n",
      "-1 0\n",
      "0 0 : 0\n",
      "0\n",
      "0\n",
      "**********\n",
      "**********\n",
      "0 -1\n",
      "0 0 : 0\n",
      "0\n",
      "0\n",
      "**********\n",
      "**********\n",
      "-1 0\n",
      "0 1 : 1\n",
      "0\n",
      "1\n",
      "**********\n",
      "**********\n",
      "0 1\n",
      "0 2 : 0\n",
      "1\n",
      "1\n",
      "**********\n",
      "**********\n",
      "-1 0\n",
      "0 2 : 0\n",
      "1\n",
      "1\n",
      "**********\n",
      "**********\n",
      "0 -1\n",
      "1 0 : 1\n",
      "1\n",
      "2\n",
      "**********\n",
      "**********\n",
      "0 1\n",
      "1 2 : 1\n",
      "2\n",
      "3\n",
      "**********\n",
      "**********\n",
      "1 0\n",
      "2 0 : 0\n",
      "3\n",
      "3\n",
      "**********\n",
      "**********\n",
      "0 -1\n",
      "2 0 : 0\n",
      "3\n",
      "3\n",
      "**********\n",
      "**********\n",
      "1 0\n",
      "2 1 : 1\n",
      "3\n",
      "4\n",
      "**********\n",
      "**********\n",
      "1 0\n",
      "2 2 : 0\n",
      "4\n",
      "4\n",
      "**********\n",
      "**********\n",
      "0 1\n",
      "2 2 : 0\n",
      "4\n",
      "4\n",
      "**********\n",
      "[[2, 0, 2], [0, 4, 0], [2, 0, 2]]\n",
      "**********\n",
      "-1 0\n",
      "0 0 : 2\n",
      "4\n",
      "6\n",
      "**********\n",
      "**********\n",
      "0 -1\n",
      "0 0 : 2\n",
      "6\n",
      "8\n",
      "**********\n",
      "**********\n",
      "-1 0\n",
      "0 1 : 0\n",
      "8\n",
      "8\n",
      "**********\n",
      "**********\n",
      "0 1\n",
      "0 2 : 2\n",
      "8\n",
      "10\n",
      "**********\n",
      "**********\n",
      "-1 0\n",
      "0 2 : 2\n",
      "10\n",
      "12\n",
      "**********\n",
      "**********\n",
      "0 -1\n",
      "1 0 : 0\n",
      "12\n",
      "12\n",
      "**********\n",
      "**********\n",
      "0 1\n",
      "1 2 : 0\n",
      "12\n",
      "12\n",
      "**********\n",
      "**********\n",
      "1 0\n",
      "2 0 : 2\n",
      "12\n",
      "14\n",
      "**********\n",
      "**********\n",
      "0 -1\n",
      "2 0 : 2\n",
      "14\n",
      "16\n",
      "**********\n",
      "**********\n",
      "1 0\n",
      "2 1 : 0\n",
      "16\n",
      "16\n",
      "**********\n",
      "**********\n",
      "1 0\n",
      "2 2 : 2\n",
      "16\n",
      "18\n",
      "**********\n",
      "**********\n",
      "0 1\n",
      "2 2 : 2\n",
      "18\n",
      "20\n",
      "**********\n",
      "[[0, 8, 0], [8, 0, 8], [0, 8, 0]]\n",
      "20\n"
     ]
    }
   ],
   "source": [
    "print Solution().findPaths(3,3,3,0,0)\n",
    "print Solution().findPaths(3,3,3,1,1)"
   ]
  },
  {
   "cell_type": "markdown",
   "metadata": {
    "collapsed": true
   },
   "source": [
    "# 600 Non-negative Integers without Consecutive Ones 26.3%\tHard"
   ]
  },
  {
   "cell_type": "code",
   "execution_count": null,
   "metadata": {
    "collapsed": true
   },
   "outputs": [],
   "source": [
    "Given a positive integer n, find the number of non-negative integers less than or equal to n, \n",
    "whose binary representations do NOT contain consecutive ones.\n",
    "\n",
    "Example 1:\n",
    "Input: 5\n",
    "Output: 5\n",
    "Explanation: \n",
    "Here are the non-negative integers <= 5 with their corresponding binary representations:\n",
    "0 : 0\n",
    "1 : 1\n",
    "2 : 10\n",
    "3 : 11\n",
    "4 : 100\n",
    "5 : 101\n",
    "Among them, only integer 3 disobeys the rule (two consecutive ones) and the other 5 satisfy the rule. \n",
    "Note: 1 <= n <= 109"
   ]
  },
  {
   "cell_type": "markdown",
   "metadata": {},
   "source": [
    "## Solution"
   ]
  },
  {
   "cell_type": "code",
   "execution_count": 35,
   "metadata": {
    "collapsed": true
   },
   "outputs": [],
   "source": [
    "class Solution(object):\n",
    "    def findIntegers(self, num):\n",
    "        \"\"\"\n",
    "        :type num: int\n",
    "        :rtype: int\n",
    "        \"\"\"\n",
    "        # A[0] is the lowest bit, A[-1] is the highest bit\n",
    "        A=bin(num)[2:][::-1]\n",
    "        # dp[i][0] is the number of integers with (i+1)bits, highest bit is 0 and without consecutive ones\n",
    "        # dp[i][1] is the number of integers with (i+1)bits, highest bit is 1 and without consecutive ones\n",
    "        dp=[[1,1] for _ in range(len(A))]\n",
    "        # res is the number of integers less than A[:i] without consecutive ones.\n",
    "        res=1 if A[0]=='0' else 2\n",
    "        for i in range(1, len(A)):\n",
    "            dp[i][0]=dp[i-1][0]+dp[i-1][1]\n",
    "            dp[i][1]=dp[i-1][0]\n",
    "            if A[i-1:i+1]=='01':\n",
    "                # if A[i-1:i+1]=='01', we can append '1' after integers less than A[:i] without consecutive ones, \n",
    "                # also any integer with (i+1) bits, highest bit is '0', without consecutive ones\n",
    "                # is less than A[:i+1]\n",
    "                res+=dp[i][0]\n",
    "            elif A[i-1:i+1]=='11':\n",
    "                # if A[i-1:i+1]=='11', then any integer with i+1 bits and without consecutive ones \n",
    "                # is less than A[:i+1]\n",
    "                res=dp[i][0]+dp[i][1]\n",
    "            # if A[i]=='0', the number of integers  with i+1 bits, less than A[:i+1]  and without \n",
    "            # consecutive ones is the same as A[:i]\n",
    "        return res"
   ]
  },
  {
   "cell_type": "markdown",
   "metadata": {},
   "source": [
    "## Notes"
   ]
  },
  {
   "cell_type": "code",
   "execution_count": 37,
   "metadata": {
    "collapsed": false
   },
   "outputs": [
    {
     "name": "stdout",
     "output_type": "stream",
     "text": [
      "11\n",
      "21\n"
     ]
    }
   ],
   "source": [
    "print Solution().findIntegers(18)\n",
    "print Solution().findIntegers(50)"
   ]
  },
  {
   "cell_type": "code",
   "execution_count": 29,
   "metadata": {
    "collapsed": false
   },
   "outputs": [
    {
     "name": "stdout",
     "output_type": "stream",
     "text": [
      "[4, 3, 2, 1]\n"
     ]
    }
   ],
   "source": [
    "test = [1,2,3,4]\n",
    "print test[3::-1]"
   ]
  },
  {
   "cell_type": "code",
   "execution_count": 19,
   "metadata": {
    "collapsed": false
   },
   "outputs": [
    {
     "name": "stdout",
     "output_type": "stream",
     "text": [
      "10010\n",
      "01001\n"
     ]
    }
   ],
   "source": [
    "num = 18\n",
    "print bin(num)[2:]\n",
    "print bin(num)[2:][::-1]"
   ]
  },
  {
   "cell_type": "code",
   "execution_count": 33,
   "metadata": {
    "collapsed": false
   },
   "outputs": [
    {
     "name": "stdout",
     "output_type": "stream",
     "text": [
      "01001\n",
      "01\n"
     ]
    }
   ],
   "source": [
    "num = 18\n",
    "A=bin(num)[2:][::-1]\n",
    "print A\n",
    "print A[0:2]"
   ]
  },
  {
   "cell_type": "code",
   "execution_count": 31,
   "metadata": {
    "collapsed": false
   },
   "outputs": [
    {
     "name": "stdout",
     "output_type": "stream",
     "text": [
      "[[1, 1], [1, 1], [1, 1], [1, 1], [1, 1]]\n"
     ]
    }
   ],
   "source": [
    "dp=[[1,1] for _ in range(len(A))]\n",
    "print dp"
   ]
  }
 ],
 "metadata": {
  "kernelspec": {
   "display_name": "Python 2",
   "language": "python",
   "name": "python2"
  },
  "language_info": {
   "codemirror_mode": {
    "name": "ipython",
    "version": 2
   },
   "file_extension": ".py",
   "mimetype": "text/x-python",
   "name": "python",
   "nbconvert_exporter": "python",
   "pygments_lexer": "ipython2",
   "version": "2.7.13"
  }
 },
 "nbformat": 4,
 "nbformat_minor": 0
}
