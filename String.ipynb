{
 "cells": [
  {
   "cell_type": "markdown",
   "metadata": {},
   "source": [
    "# String"
   ]
  },
  {
   "cell_type": "markdown",
   "metadata": {},
   "source": [
    " ![string](https://courses.cs.vt.edu/~csonline/DataStructures/Lessons/ComputerMemory/apple.gif)"
   ]
  },
  {
   "cell_type": "markdown",
   "metadata": {},
   "source": [
    "\n",
    "\n",
    "|  #  | Title           |  Solution       |  Time           | Space           | Difficulty    | Tag          | Note| \n",
    "|-----|---------------- | --------------- | --------------- | --------------- | ------------- |--------------|-----|\n",
    "|5| [Longest Palindromic Substring](https://leetcode.com/problems/longest-palindromic-substring/) | [C++](./C++/longest-palindromic-substring.cpp) [Python](./Python/longest-palindromic-substring.py) | _O(n)_ | _O(n)_ |  Medium || `Manacher's Algorithm`\n",
    "|6| [ZigZag Conversion](https://leetcode.com/problems/zigzag-conversion/) | [C++](./C++/zigzag-conversion.cpp) [Python](./Python/zigzag-conversion.py) | _O(n)_ | _O(1)_        | Easy           ||\n",
    "|8| [String to Integer (atoi)](https://leetcode.com/problems/string-to-integer-atoi/) | [C++](./C++/string-to-integer-atoi.cpp) [Python](./Python/string-to-integer-atoi.py) | _O(n)_ | _O(1)_ | Easy      ||\n",
    "|14| [Longest Common Prefix](https://leetcode.com/problems/longest-common-prefix/) | [C++](./C++/longest-common-prefix.cpp) [Python](./Python/longest-common-prefix.py) | _O(n * k)_   | _O(1)_  | Easy           ||\n",
    "|28| [Implement strStr()](https://leetcode.com/problems/implement-strstr/) | [C++](./C++/implement-strstr.cpp) [Python](./Python/implement-strstr.py) | _O(n + k)_   | _O(k)_  | Easy           || `KMP Algorithm`\n",
    "|38| [Count and Say](https://leetcode.com/problems/count-and-say/) | [C++](./C++/count-and-say.cpp) [Python](./Python/count-and-say.py)| _O(n * 2^n)_  | _O(2^n)_        | Easy           ||\n",
    "|43| [Multiply Strings](https://leetcode.com/problems/multiply-strings/) | [C++](./C++/multiply-strings.cpp) [Python](./Python/multiply-strings.py) | _O(m * n)_ | _O(m + n)_  | Medium         ||\n",
    "|58| [Length of Last Word](https://leetcode.com/problems/length-of-last-word/) | [C++](./C++/length-of-last-word.cpp) [Python](./Python/length-of-last-word.py) | _O(n)_   | _O(1)_  | Easy           ||\n",
    "|67| [Add Binary](https://leetcode.com/problems/add-binary/)    | [C++](./C++/add-binary.cpp) [Python](./Python/add-binary.py) | _O(n)_          | _O(1)_          | Easy           ||\n",
    "|68| [Text Justification](https://leetcode.com/problems/text-justification/) | [C++](./C++/text-justification.cpp) [Python](./Python/text-justification.py) | _O(n)_ | _O(1)_      | Hard           ||\n",
    "|125| [Valid Palindrome](https://leetcode.com/problems/valid-palindrome/) | [C++](./C++/valid-palindrome.cpp) [Python](./Python/valid-palindrome.py) | _O(n)_  | _O(1)_         | Easy           ||\n",
    "|151| [Reverse Words in a String](https://leetcode.com/problems/reverse-words-in-a-string/) | [C++](./C++/reverse-words-in-a-string.cpp)  [Python](./Python/reverse-words-in-a-string.py) | _O(n)_ | _O(1)_ | Medium         ||\n",
    "|161| [One Edit Distance](https://leetcode.com/problems/one-edit-distance/) | [C++](./C++/one-edit-distance.cpp) [Python](./Python/one-edit-distance.py) | _O(m + n)_ | _O(1)_    | Medium         |📖 |\n",
    "|165| [Compare Version Numbers](https://leetcode.com/problems/compare-version-numbers/) | [C++](./C++/compare-version-numbers.cpp) [Python](./Python/compare-version-numbers.py) | _O(n)_ | _O(1)_ | Easy     ||\n",
    "|186| [Reverse Words in a String II](https://leetcode.com/problems/reverse-words-in-a-string-ii/) |[C++](./C++/reverse-words-in-a-string-ii.cpp)  [Python](./Python/reverse-words-in-a-string-ii.py) | _O(n)_ | _O(1)_ | Medium         | 📖 |\n",
    "|214| [Shortest Palindrome](https://leetcode.com/problems/shortest-palindrome/) | [C++](./C++/shortest-palindrome.cpp) [Python](./Python/shortest-palindrome.py) | _O(n)_ | _O(n)_ |  Hard || `KMP Algorithm` `Manacher's Algorithm`\n",
    "|242| [Valid Anagram](https://leetcode.com/problems/valid-anagram/)| [C++](./C++/valid-anagram.cpp) [Python](./Python/valid-anagram.py) | _O(n)_       | _O(1)_         | Easy         | LintCode |\n",
    "|271| [Encode and Decode Strings](https://leetcode.com/problems/encode-and-decode-strings/) | [C++](./C++/encode-and-decode-strings.cpp) [Python](./Python/encode-and-decode-strings.py) | _O(n)_ | _O(1)_ | Medium         | 📖 |\n",
    "|273| [Integer to English Words](https://leetcode.com/problems/integer-to-english-words/) | [C++](./C++/integer-to-english-words.cpp)  [Python](./Python/integer-to-english-words.py) | _O(logn)_ | _O(1)_ | Hard         | |\n",
    "|306| [Addictive Number](https://leetcode.com/problems/additive-number/) | [C++](./C++/additive-number.cpp)  [Python](./Python/additive-number.py) | _O(n^3)_ | _O(n)_ | Medium         | |\n",
    "|383| [Ransom Note](https://leetcode.com/problems/ransom-note/) | [C++](./C++/ransom-note.cpp)  [Python](./Python/ransom-note.py) | _O(n)_ | _O(1)_ | Easy         | EPI |\n",
    "|405| [Convert a Number to Hexadecimal](https://leetcode.com/problems/convert-a-number-to-hexadecimal/) | [C++](./C++/convert-a-number-to-hexadecimal.cpp)  [Python](./Python/convert-a-number-to-hexadecimal.py) | _O(n)_ | _O(1)_ | Easy         | |\n",
    "|408| [Valid Word Abbreviation](https://leetcode.com/problems/valid-word-abbreviation/) | [C++](./C++/valid-word-abbreviation.cpp)  [Python](./Python/valid-word-abbreviation.py) | _O(n)_ | _O(1)_ | Easy         | 📖 |\n",
    "|415| [Add Strings](https://leetcode.com/problems/add-strings/) | [C++](./C++/add-strings.cpp)  [Python](./Python/add-strings.py) | _O(n)_ | _O(1)_ | Easy         | |\n",
    "|420| [Strong Password Checker](https://leetcode.com/problems/strong-password-checker/) | [C++](./C++/strong-password-checker.cpp)  [Python](./Python/strong-password-checker.py) | _O(n)_ | _O(1)_ | Hard         | |\n",
    "|434| [Number of Segments in a String](https://leetcode.com/problems/number-of-segments-in-a-string/) | [C++](./C++/number-of-segments-in-a-string.cpp)  [Python](./Python/number-of-segments-in-a-string.py) | _O(n)_ | _O(1)_ | Easy         | |\n",
    "|459| [Repeated Substring Pattern](https://leetcode.com/problems/repeated-substring-pattern/) | [C++](./C++/repeated-substring-pattern.cpp)  [Python](./Python/repeated-substring-pattern.py) | _O(n)_ | _O(n)_ | Easy         || `KMP Algorithm` |\n",
    "|468| [Validate IP Address](https://leetcode.com/problems/validate-ip-address/) | [C++](./C++/validate-ip-address.cpp)  [Python](./Python/validate-ip-address.py) | _O(1)_ | _O(1)_ | Medium         | |\n",
    "|556| [Next Greater Element III](https://leetcode.com/problems/next-greater-element-iii/) |[C++](./C++/next-greater-element-iii.cpp)  [Python](./Python/next-greater-element-iii.py) | _O(1)_ | _O(1)_ | Medium         | |\n",
    "|557| [Reverse Words in a String III](https://leetcode.com/problems/reverse-words-in-a-string-iii/) |[C++](./C++/reverse-words-in-a-string-iii.cpp)  [Python](./Python/reverse-words-in-a-string-iii.py) | _O(n)_ | _O(1)_ | Easy         | |"
   ]
  },
  {
   "cell_type": "markdown",
   "metadata": {},
   "source": [
    "# 1. [Longest Palindromic Substring | 5](https://leetcode.com/problems/longest-palindromic-substring/)"
   ]
  },
  {
   "cell_type": "code",
   "execution_count": null,
   "metadata": {
    "collapsed": true
   },
   "outputs": [],
   "source": [
    "Given a string s, find the longest palindromic substring in s. You may assume that the maximum length of s is 1000.\n",
    "\n",
    "Example:\n",
    "\n",
    "Input: \"babad\"\n",
    "\n",
    "Output: \"bab\"\n",
    "\n",
    "Note: \"aba\" is also a valid answer.\n",
    "Example:\n",
    "\n",
    "Input: \"cbbd\"\n",
    "\n",
    "Output: \"bb\""
   ]
  },
  {
   "cell_type": "markdown",
   "metadata": {},
   "source": [
    "![longest palindromic substring](http://www.amathsdictionaryforkids.com/qr/pimages/palindromic.gif)"
   ]
  },
  {
   "cell_type": "markdown",
   "metadata": {},
   "source": [
    "## Solution"
   ]
  },
  {
   "cell_type": "code",
   "execution_count": 31,
   "metadata": {
    "collapsed": true
   },
   "outputs": [],
   "source": [
    "# Failed \n",
    "# Time: O(m*n)\n",
    "# Space: O(m*n)\n",
    "# Longest Palindromic Substring -> longest commonest substring = failed (abcdjklbcda)\n",
    "\n",
    "class Solution(object):\n",
    "    def longestPalindrome(self, s):\n",
    "        \"\"\"\n",
    "        :type s: str\n",
    "        :rtype: str\n",
    "        \"\"\"\n",
    "        t= s[::-1]\n",
    "        result = [ [0 for i in range(len(s) + 1)] for j in range(len(t) + 1) ]\n",
    "        longest = 0\n",
    "        \n",
    "        if not s:\n",
    "            return None\n",
    "                \n",
    "        for i in range(1,len(s)+1):\n",
    "            for j in range(1,len(t)+1):\n",
    "                if s[i-1] == t[j-1]:\n",
    "                    result[i][j] = result[i-1][j-1] + 1\n",
    "                    if result[i][j] > longest:\n",
    "                        longest = result[i][j]\n",
    "                        end = i \n",
    "        return s[end-longest:end]\n",
    "     "
   ]
  },
  {
   "cell_type": "code",
   "execution_count": 92,
   "metadata": {
    "collapsed": true
   },
   "outputs": [],
   "source": [
    "# Time: O(m*n)\n",
    "# Space: O(m*n)\n",
    "# Longest Palindromic Substring \n",
    "'''\n",
    "Mistake I made:\n",
    "1. edge: [i][j] where j = i+1\n",
    "2. table: not from top to bottom, should fill in the table from bottom to top  (\"abcba\")\n",
    "\n",
    "Improvement:\n",
    "s[i] == s[j] && j-i <= 2 or s[i+1][j-1] \n",
    "\n",
    "\n",
    "'''\n",
    "\n",
    "class Solution(object):\n",
    "    def longestPalindrome(self, s):\n",
    "        \"\"\"\n",
    "        :type s: str\n",
    "        :rtype: str\n",
    "        \"\"\"\n",
    "        if not s:\n",
    "            return None\n",
    "        \n",
    "        longest = 1\n",
    "        palindromic = s[0]\n",
    "        result = [ [False for i in range(len(s))] for j in range(len(s)) ]\n",
    "        for i in range(len(s)):\n",
    "            result[i][i] = True\n",
    "\n",
    "        # edge: [i][j] where j = i+1\n",
    "        for i in range(len(s)-1):\n",
    "            if s[i] == s[i+1]:\n",
    "                result[i][i+1] = True\n",
    "                longest = 2\n",
    "                palindromic = s[i:i+2]\n",
    "        \n",
    "        for i in range(len(s)-2,-1,-1):\n",
    "            for j in range(i+2,len(s)):\n",
    "                if s[i] == s[j] and result[i+1][j-1] == True:\n",
    "                    result[i][j] = True\n",
    "                    if j-i+1 > longest:\n",
    "                        longest = j-i+1\n",
    "                        palindromic = s[i:j+1]\n",
    "#         for i in result:\n",
    "#             print i\n",
    "    \n",
    "        return palindromic "
   ]
  },
  {
   "cell_type": "code",
   "execution_count": 93,
   "metadata": {
    "collapsed": false
   },
   "outputs": [
    {
     "name": "stdout",
     "output_type": "stream",
     "text": [
      "aba\n",
      "abcba\n",
      "bb\n",
      "None\n",
      "a\n",
      "a\n",
      "aba\n",
      "babab\n",
      "ababaababa\n",
      "aaaaaaaaaaaaaaa\n",
      "abcddcba\n",
      "abcacba\n",
      "abcbcba\n",
      "a\n"
     ]
    }
   ],
   "source": [
    "print Solution().longestPalindrome(\"babad\") \n",
    "print Solution().longestPalindrome(\"abcba\")  # the right way to fill in the table \n",
    "print Solution().longestPalindrome(\"cbbd\") \n",
    "print Solution().longestPalindrome(\"\")\n",
    "print Solution().longestPalindrome(\"a\")\n",
    "print Solution().longestPalindrome(\"ab\")\n",
    "print Solution().longestPalindrome(\"aba\")\n",
    "print Solution().longestPalindrome(\"ababab\")\n",
    "print Solution().longestPalindrome(\"ababaababaccdfdgds\")\n",
    "print Solution().longestPalindrome(\"aaaaaaaaaaaaaaa\")\n",
    "print Solution().longestPalindrome(\"abcddcba\")\n",
    "print Solution().longestPalindrome(\"abcacba\") # like () using stack by push and pop\n",
    "print Solution().longestPalindrome(\"abcbcba\") # no, what if just a single word like b?\n",
    "print Solution().longestPalindrome(\"abcdasdfghjkldcba\") #  longest common string failed, cause abcd--dcba "
   ]
  },
  {
   "cell_type": "markdown",
   "metadata": {},
   "source": [
    "## Solution2"
   ]
  },
  {
   "cell_type": "code",
   "execution_count": null,
   "metadata": {
    "collapsed": true
   },
   "outputs": [],
   "source": [
    "# 经过每一个点，然后往两边，扩展计算。\n",
    "# ab - a - ba    odd \n",
    "# ab - aa - ba   even \n",
    "\n",
    "abababa"
   ]
  },
  {
   "cell_type": "markdown",
   "metadata": {},
   "source": [
    "## Note"
   ]
  },
  {
   "cell_type": "markdown",
   "metadata": {},
   "source": [
    "![DP](http://algorithms.tutorialhorizon.com/files/2015/08/Longest-Palindromic-Subsequence-Overlapping-Subproblems.png)"
   ]
  },
  {
   "cell_type": "markdown",
   "metadata": {},
   "source": [
    "1. Brute Force:  2^n substring x m \n",
    "2. Dynamic programming?\n",
    "    opt(0,n): longest palindromic substring \n",
    "    opt(0,n) = max(opt(0,n),opt(1,n),opt(0,n-1))\n",
    "3. compare the unique \n",
    "\n",
    "reference:\n",
    "- [Longest Palindromic Substring Manacher's Algorithm](https://www.youtube.com/watch?v=V-sEwsca1ak)\n",
    "- [LONGEST PALINDROME SUB STRING WITH DYNAMIC PROGRAMMING](https://www.youtube.com/watch?v=Fi5INvcmDos)\n",
    "- [Manacher's Algorithm Explained | Code Tutorial](https://www.youtube.com/watch?v=kbUiR5YWUpQ)\n",
    "\n",
    "4.longest common substring\n",
    "- we change transform this problem to longest common substring \n",
    "- csmadam\n",
    "- madamsc\n",
    "- [Longest Common Substring](https://www.youtube.com/watch?v=BysNXJHzCEs)\n"
   ]
  },
  {
   "cell_type": "code",
   "execution_count": 2,
   "metadata": {
    "collapsed": false
   },
   "outputs": [
    {
     "data": {
      "text/plain": [
       "3"
      ]
     },
     "execution_count": 2,
     "metadata": {},
     "output_type": "execute_result"
    }
   ],
   "source": [
    "test = 'aba'\n",
    "len(test)"
   ]
  },
  {
   "cell_type": "code",
   "execution_count": 7,
   "metadata": {
    "collapsed": false
   },
   "outputs": [
    {
     "name": "stdout",
     "output_type": "stream",
     "text": [
      "a\n",
      "sadmda\n",
      "[[0, 0, 0, 0, 0, 0, 0], [0, 0, 0, 0, 0, 0, 0], [0, 0, 0, 0, 0, 0, 0], [0, 0, 0, 0, 0, 0, 0], [0, 0, 0, 0, 0, 0, 0], [0, 0, 0, 0, 0, 0, 0], [0, 0, 0, 0, 0, 0, 0]]\n"
     ]
    }
   ],
   "source": [
    "s = 'admdas'[::-1]\n",
    "t = 'apple'\n",
    "print t[0:1]\n",
    "result = [ [0 for i in range(len(s) + 1)] for i in range(len(s) + 1) ]\n",
    "print s\n",
    "print result"
   ]
  },
  {
   "cell_type": "code",
   "execution_count": 68,
   "metadata": {
    "collapsed": false
   },
   "outputs": [
    {
     "name": "stdout",
     "output_type": "stream",
     "text": [
      "0\n"
     ]
    }
   ],
   "source": [
    "for i in range(1):\n",
    "    print i"
   ]
  },
  {
   "cell_type": "code",
   "execution_count": 87,
   "metadata": {
    "collapsed": false
   },
   "outputs": [
    {
     "name": "stdout",
     "output_type": "stream",
     "text": [
      "3\n",
      "2\n",
      "1\n",
      "0\n"
     ]
    }
   ],
   "source": [
    "for i in range(3,-1,-1):\n",
    "    print i"
   ]
  },
  {
   "cell_type": "code",
   "execution_count": 38,
   "metadata": {
    "collapsed": false
   },
   "outputs": [
    {
     "ename": "NameError",
     "evalue": "name 'c' is not defined",
     "output_type": "error",
     "traceback": [
      "\u001b[0;31m---------------------------------------------------------------------------\u001b[0m",
      "\u001b[0;31mNameError\u001b[0m                                 Traceback (most recent call last)",
      "\u001b[0;32m<ipython-input-38-bf3b5d9a6038>\u001b[0m in \u001b[0;36m<module>\u001b[0;34m()\u001b[0m\n\u001b[1;32m      1\u001b[0m \u001b[0;31m# a = 'str'\u001b[0m\u001b[0;34m\u001b[0m\u001b[0;34m\u001b[0m\u001b[0m\n\u001b[1;32m      2\u001b[0m \u001b[0mb\u001b[0m \u001b[0;34m=\u001b[0m \u001b[0;34m's'\u001b[0m\u001b[0;34m\u001b[0m\u001b[0m\n\u001b[0;32m----> 3\u001b[0;31m \u001b[0;32mprint\u001b[0m \u001b[0mc\u001b[0m \u001b[0;32mor\u001b[0m \u001b[0mb\u001b[0m\u001b[0;34m\u001b[0m\u001b[0m\n\u001b[0m",
      "\u001b[0;31mNameError\u001b[0m: name 'c' is not defined"
     ]
    }
   ],
   "source": [
    "# a = 'str'\n",
    "b = 's'\n",
    "print c or b"
   ]
  },
  {
   "cell_type": "markdown",
   "metadata": {},
   "source": [
    "# 2. [ZigZag Conversion | 6](https://leetcode.com/problems/zigzag-conversion/) "
   ]
  },
  {
   "cell_type": "code",
   "execution_count": null,
   "metadata": {
    "collapsed": true
   },
   "outputs": [],
   "source": [
    "The string \"PAYPALISHIRING\" is written in a zigzag pattern on a given number of rows like this:\n",
    "    \n",
    "(you may want to display this pattern in a fixed font for better legibility)\n",
    "\n",
    "P   A   H   N\n",
    "A P L S I I G\n",
    "Y   I   R\n",
    "\n",
    "And then read line by line: \"PAHNAPLSIIGYIR\"\n",
    "Write the code that will take a string and make this conversion given a number of rows:\n",
    "\n",
    "string convert(string text, int nRows);\n",
    "convert(\"PAYPALISHIRING\", 3) should return \"PAHNAPLSIIGYIR\"."
   ]
  },
  {
   "cell_type": "markdown",
   "metadata": {},
   "source": [
    "## Solution: Math"
   ]
  },
  {
   "cell_type": "code",
   "execution_count": 119,
   "metadata": {
    "collapsed": false
   },
   "outputs": [],
   "source": [
    "# Time: O(n)\n",
    "# Space: O(1)\n",
    "# ZigZag Converstion \n",
    "\n",
    "class Solution(object):\n",
    "    def convert(self, s, numRows):\n",
    "        \"\"\"\n",
    "        :type s: str\n",
    "        :type numRows: int\n",
    "        :rtype: str\n",
    "        \"\"\"\n",
    "        if numRows <= 1:\n",
    "            return s \n",
    "        \n",
    "        zigzag = str()\n",
    "        step = 2 * numRows - 2 \n",
    "        \n",
    "        for i in range(numRows):\n",
    "            for j in range(i,len(s),step):\n",
    "                zigzag += s[j]\n",
    "                if i > 0 and i  < numRows - 1 and j + step - 2 * i < len(s):\n",
    "                    zigzag += s[j + step - 2 * i]\n",
    "    \n",
    "        return zigzag"
   ]
  },
  {
   "cell_type": "code",
   "execution_count": 120,
   "metadata": {
    "collapsed": false
   },
   "outputs": [
    {
     "name": "stdout",
     "output_type": "stream",
     "text": [
      "PAHNAPLSIIGYIR\n"
     ]
    }
   ],
   "source": [
    "print Solution().convert(\"PAYPALISHIRING\",3)"
   ]
  },
  {
   "cell_type": "markdown",
   "metadata": {},
   "source": [
    "## Solution2: Array"
   ]
  },
  {
   "cell_type": "code",
   "execution_count": null,
   "metadata": {
    "collapsed": true
   },
   "outputs": [],
   "source": [
    "# 用队列做！\n",
    "# aha!!!\n",
    "array = [q1,q2....q6]\n",
    "q1 = [0,10]\n",
    "q2 = [1,9]\n",
    "q3 = [2,8]\n",
    "q4 = [3,7]\n",
    "q5 = [4,6]\n",
    "q6 = [5] \n",
    "\n",
    "math vs. cs "
   ]
  },
  {
   "cell_type": "code",
   "execution_count": 127,
   "metadata": {
    "collapsed": true
   },
   "outputs": [],
   "source": [
    "# Time: O(n)?\n",
    "# Space: O(s)\n",
    "\n",
    "\n",
    "class Solution:\n",
    "    # @return a string \n",
    "    def convert(self, s, nRows):\n",
    "        \n",
    "        if nRows == 1:\n",
    "            return s\n",
    "        \n",
    "        tmp = ['' for i in range(nRows)]\n",
    "        index = -1\n",
    "        step = 1\n",
    "        \n",
    "        for i in range(len(s)):\n",
    "            index += step\n",
    "            if index == nRows:\n",
    "                index -= 2\n",
    "                step = -1\n",
    "            elif index == -1:\n",
    "                index = 1\n",
    "                step = 1\n",
    "            tmp[index] += s[i]\n",
    "        \n",
    "        return ''.join(tmp)"
   ]
  },
  {
   "cell_type": "code",
   "execution_count": 128,
   "metadata": {
    "collapsed": false
   },
   "outputs": [
    {
     "name": "stdout",
     "output_type": "stream",
     "text": [
      "PAHNAPLSIIGYIR\n"
     ]
    }
   ],
   "source": [
    "print Solution().convert(\"PAYPALISHIRING\",3)"
   ]
  },
  {
   "cell_type": "markdown",
   "metadata": {},
   "source": [
    "## Note"
   ]
  },
  {
   "cell_type": "code",
   "execution_count": null,
   "metadata": {
    "collapsed": true
   },
   "outputs": [],
   "source": [
    "0      10          20\n",
    "1    9 11       19 21\n",
    "2   8  12     18   22 \n",
    "3  7   13   17     23\n",
    "4 6    14 16       24\n",
    "5      15          25\n",
    "\n",
    "i = 0 or i = numRows , gap = 2 *(numRows - 1) = 2 * numRows - 2\n",
    "0 < i < numRows: gap = 2*(numRows - 1 - i) and 2*i"
   ]
  },
  {
   "cell_type": "code",
   "execution_count": 100,
   "metadata": {
    "collapsed": false
   },
   "outputs": [
    {
     "name": "stdout",
     "output_type": "stream",
     "text": [
      "0\n",
      "2\n",
      "4\n"
     ]
    }
   ],
   "source": [
    "# start: 0 \n",
    "# length:5\n",
    "# step: 2\n",
    "for i in range(0,5,2):\n",
    "    print i"
   ]
  },
  {
   "cell_type": "code",
   "execution_count": 97,
   "metadata": {
    "collapsed": false,
    "scrolled": false
   },
   "outputs": [
    {
     "name": "stdout",
     "output_type": "stream",
     "text": [
      "0\n",
      "4\n",
      "8\n",
      "12\n",
      "1\n",
      "5\n",
      "9\n",
      "13\n",
      "2\n",
      "6\n",
      "10\n"
     ]
    }
   ],
   "source": [
    "s = \"PAYPALISHIRING\"\n",
    "step = 4\n",
    "for i in range(3):\n",
    "    for j in range(i,len(s),step):\n",
    "        print j"
   ]
  },
  {
   "cell_type": "code",
   "execution_count": null,
   "metadata": {
    "collapsed": true
   },
   "outputs": [],
   "source": [
    "# useless\n",
    "P   A   H   N\n",
    "A P L S I I G\n",
    "Y   I   R\n",
    "\n",
    "numRows = 3\n",
    "step = 2 * numRows - 2 \n",
    "i = 2\n",
    "j = 3\n",
    "j + step - 2 * i = j + 4 - 2 * 2 = j + 0\n",
    "\n",
    "\n",
    "\n",
    "zigzag <- s\n",
    "P 0 = 0 = 0\n",
    "A 1 = 4 = 0 + 2*3 - 2 \n",
    "H 2 = 8 = 4 + 2*3 - 2\n",
    "N 3 = 12 = \n",
    "\n",
    "A 4 = 1 = \n",
    "P 5 = 3 = \n",
    "L 6 = 5\n",
    "S 7 = 7\n",
    "I 8 = 9\n",
    "I 9 = 11\n",
    "G 10 = 13\n",
    "Y 11 = 2\n",
    "I 12 = 6\n",
    "R 13 = 10\n",
    "\n",
    "s -> zigzag\n"
   ]
  },
  {
   "cell_type": "markdown",
   "metadata": {},
   "source": [
    "# 3. [String to Integer (atoi) | 8](https://leetcode.com/problems/string-to-integer-atoi/) "
   ]
  },
  {
   "cell_type": "markdown",
   "metadata": {},
   "source": [
    "Implement atoi to convert a string to an integer.\n",
    "\n",
    "Hint: Carefully consider all possible input cases. If you want a challenge, please do not see below and ask yourself what are the possible input cases.\n",
    "\n",
    "Notes: It is intended for this problem to be specified vaguely (ie, no given input specs). You are responsible to gather all the input requirements up front.\n",
    "\n",
    "Update (2015-02-10):\n",
    "The signature of the C++ function had been updated. If you still see your function signature accepts a const char * argument, please click the reload button  to reset your code definition."
   ]
  },
  {
   "cell_type": "markdown",
   "metadata": {},
   "source": [
    "## Solution"
   ]
  },
  {
   "cell_type": "code",
   "execution_count": 125,
   "metadata": {
    "collapsed": true
   },
   "outputs": [],
   "source": [
    "# Time: O(n)\n",
    "# Space: O(1)\n",
    "# String to Integer(atoi)\n",
    "'''\n",
    "Notes:\n",
    "deal with 1)space 2) sign +/- 3) overflow (-2^31 ~ 2^31-1) 4)invalid input ....\n",
    "\n",
    "'''\n",
    "\n",
    "\n",
    "\n",
    "class Solution(object):\n",
    "    def atoi(self, str):\n",
    "        \"\"\"\n",
    "        :type str: str\n",
    "        :rtype: int\n",
    "        \"\"\"\n",
    "        str = str.strip()\n",
    "        n = len(str)\n",
    "        flag = 1\n",
    "        i = 0\n",
    "        result = 0\n",
    "        \n",
    "        if i < n and str[i] == '+':\n",
    "            i += 1\n",
    "        elif i < n and str[i] == '-':\n",
    "            flag = -1\n",
    "            i += 1\n",
    "            \n",
    "        while i < n:\n",
    "            if str[i].isdigit():\n",
    "                if result > 214748364 or (result == 214748364 and int(str[i]) >= 8):\n",
    "                    if flag == 1:\n",
    "                        return 2147483647\n",
    "                    else:\n",
    "                        return -2147483648\n",
    "\n",
    "                result = result * 10 + int(str[i])\n",
    "                i += 1\n",
    "            else:\n",
    "                break \n",
    "        \n",
    "        return result * flag \n",
    "        "
   ]
  },
  {
   "cell_type": "code",
   "execution_count": 126,
   "metadata": {
    "collapsed": false
   },
   "outputs": [
    {
     "name": "stdout",
     "output_type": "stream",
     "text": [
      "0\n",
      "-1\n",
      "-1\n",
      "-1\n",
      "1\n",
      "2147483647\n",
      "2147483647\n",
      "-2147483648\n",
      "-2147483648\n"
     ]
    }
   ],
   "source": [
    "print Solution().atoi(\"\") \n",
    "print Solution().atoi(\"-1\")\n",
    "print Solution().atoi(\"-1....\")\n",
    "print Solution().atoi(\"    -1....\")\n",
    "print Solution().atoi(\"1\")\n",
    "print Solution().atoi(\"2147483647\") \n",
    "print Solution().atoi(\"2147483648\") \n",
    "print Solution().atoi(\"-2147483648\")  \n",
    "print Solution().atoi(\"-2147483649\")  "
   ]
  },
  {
   "cell_type": "markdown",
   "metadata": {},
   "source": [
    "# 4. [Longest Common Prefix | 14](https://leetcode.com/problems/longest-common-prefix/) "
   ]
  },
  {
   "cell_type": "markdown",
   "metadata": {},
   "source": [
    "# 5. |28| [Implement strStr()](https://leetcode.com/problems/implement-strstr/)"
   ]
  },
  {
   "cell_type": "markdown",
   "metadata": {},
   "source": [
    "Implement strStr().\n",
    "\n",
    "Returns the index of the first occurrence of needle in haystack, or -1 if needle is not part of haystack.\n",
    "\n"
   ]
  },
  {
   "cell_type": "code",
   "execution_count": null,
   "metadata": {
    "collapsed": true
   },
   "outputs": [],
   "source": []
  },
  {
   "cell_type": "markdown",
   "metadata": {},
   "source": [
    "## 我是如何构造出KMP算法？\n",
    "\n",
    "## 如果失败了，你去去往何方？\n",
    "\n",
    "上帝已经将这个学习程序编码好，就像计算机程序一样。我们身体有个程序，若想读懂它，碳基程序是迄今为止最高效的存储介质，\n",
    "全世界所有的信息可以存在一公斤的DNA里面。甚至可以储存百万年，但是计算机存储介质无法达到。\n",
    "\n",
    "一个未来的实际问题就是我们测试DNA序列，来看你是否拥有某种潜在疾病。\n",
    "每一个蛋白质都有一个特殊的DNA序列绑定在上面。当蛋白质洗掉后，直接读那一段 DNA 序列，然后知道哪个蛋白质在里面。\n",
    "\n",
    "化成数学问题，就是字符串模式匹配!! 想象人类DNA大概有2,900,000,000碱基对。\n",
    "\n",
    "为了快速检查你身体的问题，如何提高模式拼配的速度呢？\n",
    "\n",
    "(对啦，最简单的查找操作就是 string matching 啊！)\n",
    "\n",
    "\n",
    "m: 01234567890123456789012\n",
    "\n",
    "S: ABC ABCDAB ABCDABCDABDE\n",
    "\n",
    "W: ABCDABD\n",
    "\n",
    "i: 0123456\n",
    "\n",
    "实际的问题\n",
    "\n",
    "### Q1： 对一串模式序列W，如何快速在S序列中找到呢？\n",
    "\n",
    "直觉想法，navie,就是一个一个的找。\n",
    "\n",
    "P从index 0开始，有，输出。没有，D从下一个 index 开始。\n",
    "\n",
    "### Q2:  有没有什么可以改进的地方呢？\n",
    "\n",
    "我们可以看到有两个地方可以下手，就是, 如果匹配失败， \n",
    "\n",
    "- S 下一个开始匹配的地方\n",
    "- W 下一个开始匹配的地方\n",
    "\n",
    "既然我们已经走过这条路，没有必要从头再来，毕竟还是积攒些经验值的。\n",
    "\n",
    "Whenever we detect a mismatch, we already know some of the characters in the text. \n",
    "We take advantage of this information to avoid matching the characters that we know will anyway match.\n",
    "\n",
    "**对于S来说：**\n",
    "\n",
    "如果 匹配到 ABCD 失败了，那么在S中, 下次没有必要从2开始，因为我知道ABC不一样，意味着匹配成功的S中，1，2不会和W的0相同。\n",
    "\n",
    "D失败了，所以我们不知道S中的index 3会不会和W中index0相同（记住，我们现在在一维世界里），所以我们下一次从S中的 index 3 。\n",
    "\n",
    "\n",
    "             1         2  \n",
    "\n",
    "m: 01234567890123456789012\n",
    "\n",
    "S: ABC ABCDAB ABCDABCDABDE\n",
    "\n",
    "W:    ABCDABD\n",
    "\n",
    "i:    0123456\n",
    "\n",
    "\n",
    "\n",
    "** 对于W来说：**\n",
    "\n",
    "如果 拼配到了 ABCDABD 失败了， 除了 S下次开始的地方从8开始，还有就是 W 又遇到AB了 （ABCDAB），所以 W 从 index 2 开始就可以啦。\n",
    "\n",
    "\n",
    "\n",
    "            1         2  \n",
    "            \n",
    "m: 01234567890123456789012\n",
    "\n",
    "S: ABC ABCDAB ABCDABCDABDE\n",
    "\n",
    "W:     ABCDABD\n",
    "\n",
    "i:     0123456\n",
    "\n",
    "\n",
    "### Q3：找到了改进的地方，那如何表达这个过程呢？\n",
    "\n",
    "那我就要写一个匹配失败之后，更新S和W index m和i 的方法。\n",
    "\n",
    "我们先探索一下W的字符串自己的样子。\n",
    "\n",
    "W： ABCDABD \n",
    "\n",
    "#### 如果我们在某一点匹配失败了，我们下一次从 W的哪一个index 开始呢？\n",
    "\n",
    "W：             ABCDABD\n",
    "\n",
    "i：             0123456 \n",
    "\n",
    "Fail Value：    0000012     \n",
    "\n",
    "#### 如果我们在某一点匹配失败了，我们下一次从 S的哪一个index 开始呢？\n",
    "\n",
    "W:             ABCDABD\n",
    "\n",
    "i:             0123456 \n",
    "\n",
    "Fail Value:    0000012 \n",
    "\n",
    "m:       Jump +1123444 \n",
    "\n",
    "发现规律：\n",
    "\n",
    "除了第0个之外，其他jump = i - fail value \n",
    "\n",
    "所以我们可以修改一下，使得公式统一，将 fail value 中 0000012 中的第一个改成为 -1 \n",
    "\n",
    "m: 01234567890123456789012\n",
    "\n",
    "S: ABC ABCDAB ABCDABCDABDE\n",
    "\n",
    "\n",
    "[Description of pseudocode for the search algorithm](https://www.wikiwand.com/en/Knuth%E2%80%93Morris%E2%80%93Pratt_algorithm#/Description_of_pseudocode_for_the_search_algorithm)\n",
    "\n",
    "\n",
    "---\n",
    "\n",
    "（再升级一下，二维模式匹配，可以用于寻找在混乱中已知物品）（想到了trapped water的题目）\n",
    "\n",
    "（再升级就是模糊拼配算法）\n",
    "\n",
    "\n",
    "\n",
    "\n",
    "- http://whocouldthat.be/visualizing-string-matching/\n",
    "- https://www.wikiwand.com/en/Knuth%E2%80%93Morris%E2%80%93Pratt_algorithm\n",
    "- [北大AI公开课第六讲王俊：DNA是生命数字化的过程，AI改变生命科学](http://mp.weixin.qq.com/s?__biz=MzI3MTA0MTk1MA==&mid=2651995506&idx=2&sn=34f575bb98685fe880e18a1a267bd404&chksm=f1214983c656c095b2476181805f0e17b037e7ecfcddeeca419a123c2ed3a3a758ecbfd3b386&mpshare=1&scene=1&srcid=0330or4Oo9lNBDc9HihUtCpm#rd)"
   ]
  },
  {
   "cell_type": "markdown",
   "metadata": {},
   "source": [
    "![comparision of different string pattern matching](http://images.cnitblog.com/blog/175043/201410/051920279722486.gif)"
   ]
  },
  {
   "cell_type": "markdown",
   "metadata": {},
   "source": [
    "![compare](https://image.slidesharecdn.com/algorithmpresentation-160420121832/95/survey-of-string-matching-algorithm-23-638.jpg?cb=1461154908)"
   ]
  },
  {
   "cell_type": "markdown",
   "metadata": {},
   "source": [
    "- [A COMPARATIVE STUDY ON STRING MATCHING ALGORITHMS OF BIOLOGICAL SEQUENCES](https://arxiv.org/pdf/1401.7416.pdf)"
   ]
  },
  {
   "cell_type": "markdown",
   "metadata": {},
   "source": [
    "# 6. [Count and Say | 38 ](https://leetcode.com/problems/count-and-say/)"
   ]
  },
  {
   "cell_type": "markdown",
   "metadata": {},
   "source": [
    "# 7. [Multiply Strings | 43](https://leetcode.com/problems/multiply-strings/)"
   ]
  },
  {
   "cell_type": "markdown",
   "metadata": {},
   "source": [
    "# 8. [Length of Last Word | 58](https://leetcode.com/problems/length-of-last-word/)"
   ]
  },
  {
   "cell_type": "markdown",
   "metadata": {},
   "source": [
    "# 9. [Add Binary | 67 ](https://leetcode.com/problems/add-binary/)   "
   ]
  },
  {
   "cell_type": "markdown",
   "metadata": {},
   "source": [
    "# 10. [Text Justification | 68 ](https://leetcode.com/problems/text-justification/) "
   ]
  },
  {
   "cell_type": "markdown",
   "metadata": {},
   "source": [
    "# "
   ]
  },
  {
   "cell_type": "code",
   "execution_count": null,
   "metadata": {
    "collapsed": true
   },
   "outputs": [],
   "source": [
    "class Solution(object):\n",
    "    def reverseWords(self, s):\n",
    "        \"\"\"\n",
    "        :type s: str\n",
    "        :rtype: str\n",
    "        \"\"\"\n",
    "        tmp = s.split()\n",
    "        tmp.reverse()\n",
    "        return \" \".join(tmp)"
   ]
  },
  {
   "cell_type": "code",
   "execution_count": null,
   "metadata": {
    "collapsed": true
   },
   "outputs": [],
   "source": [
    "class Solution:\n",
    "    # @param s, a string\n",
    "    # @return a string\n",
    "    def reverseWords(self, s):\n",
    "        return ' '.join(reversed(s.split()))"
   ]
  },
  {
   "cell_type": "code",
   "execution_count": 9,
   "metadata": {
    "collapsed": true
   },
   "outputs": [],
   "source": [
    "# Time:  O(m + n)\n",
    "# Space: O(1)\n",
    "#\n",
    "# Given two strings S and T, determine if they are both one edit distance apart.\n",
    "# One Edit Distance\n",
    "\n",
    "class Solution(object):\n",
    "    def isOneEditDistance(self, s, t):\n",
    "        \"\"\"\n",
    "        :type s: str\n",
    "        :type t: str\n",
    "        :rtype: bool\n",
    "        \"\"\"\n",
    "        m, n = len(s), len(t)\n",
    "        if m > n:\n",
    "            return self.isOneEditDistance(t, s)\n",
    "        if n - m > 1:\n",
    "            return False\n",
    "        \n",
    "        i = 0\n",
    "        diff = n - m \n",
    "        while i < m and s[i] == t[i]:\n",
    "            i += 1\n",
    "            \n",
    "        if diff == 0:\n",
    "            i += 1\n",
    "                    \n",
    "        while i < m and s[i] == t[i + diff]:\n",
    "            i += 1\n",
    "            \n",
    "        return i == m"
   ]
  },
  {
   "cell_type": "code",
   "execution_count": 10,
   "metadata": {
    "collapsed": false
   },
   "outputs": [
    {
     "name": "stdout",
     "output_type": "stream",
     "text": [
      "True\n"
     ]
    }
   ],
   "source": [
    "print Solution().isOneEditDistance(\"teacher\", \"txacher\")"
   ]
  },
  {
   "cell_type": "code",
   "execution_count": 12,
   "metadata": {
    "collapsed": false
   },
   "outputs": [
    {
     "data": {
      "text/plain": [
       "0"
      ]
     },
     "execution_count": 12,
     "metadata": {},
     "output_type": "execute_result"
    }
   ],
   "source": [
    "0 % -1 "
   ]
  },
  {
   "cell_type": "code",
   "execution_count": null,
   "metadata": {
    "collapsed": true
   },
   "outputs": [],
   "source": [
    "Java : 0 % -1 = -1  \n",
    "    "
   ]
  }
 ],
 "metadata": {
  "kernelspec": {
   "display_name": "Python 2",
   "language": "python",
   "name": "python2"
  },
  "language_info": {
   "codemirror_mode": {
    "name": "ipython",
    "version": 2
   },
   "file_extension": ".py",
   "mimetype": "text/x-python",
   "name": "python",
   "nbconvert_exporter": "python",
   "pygments_lexer": "ipython2",
   "version": "2.7.13"
  }
 },
 "nbformat": 4,
 "nbformat_minor": 0
}
