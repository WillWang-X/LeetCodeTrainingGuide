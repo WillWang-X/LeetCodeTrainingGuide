{
 "cells": [
  {
   "cell_type": "markdown",
   "metadata": {},
   "source": [
    "# Tree(11)"
   ]
  },
  {
   "cell_type": "markdown",
   "metadata": {},
   "source": [
    "![Tree](https://www.tutorialspoint.com/data_structures_algorithms/images/binary_tree.jpg)\n",
    "- [Tree Data Structure](https://www.tutorialspoint.com/data_structures_algorithms/tree_data_structure.htm)"
   ]
  },
  {
   "cell_type": "markdown",
   "metadata": {},
   "source": [
    "|  #  | Title           |  Solution       |  Time           | Space           | Difficulty    | Tag          | Note| \n",
    "|-----|---------------- | --------------- | --------------- | --------------- | ------------- |--------------|-----|\n",
    "|94 | [Binary Tree Inorder Traversal](https://leetcode.com/problems/binary-tree-inorder-traversal/)  | [C++](./C++/binary-tree-inorder-traversal.cpp) [Python](./Python/binary-tree-inorder-traversal.py) | _O(n)_| _O(1)_| Medium           || `Morris Traversal` | \n",
    "|99 | [Recover Binary Search Tree](https://leetcode.com/problems/recover-binary-search-tree/) | [C++](./C++/recover-binary-search-tree.cpp) [Python](./Python/recover-binary-search-tree.py) | _O(n)_| _O(1)_| Hard  || `Morris Traversal` \n",
    "|144 | [Binary Tree Preorder Traversal](https://leetcode.com/problems/binary-tree-preorder-traversal/) | [C++](./C++/binary-tree-preorder-traversal.cpp) [Python](./Python/binary-tree-preorder-traversal.py) | _O(n)_| _O(1)_| Medium || `Morris Traversal` \n",
    "|145 | [Binary Tree Postorder Traversal](https://leetcode.com/problems/binary-tree-postorder-traversal/) | [C++](./C++/binary-tree-postorder-traversal.cpp) [Python](./Python/binary-tree-postorder-traversal.py) | _O(n)_| _O(1)_| Hard  || `Morris Traversal` \n",
    "|208 | [Implement Trie (Prefix Tree)](https://leetcode.com/problems/implement-trie-prefix-tree/) | [C++](./C++/implement-trie-prefix-tree.cpp) [Python](./Python/implement-trie-prefix-tree.py) | _O(n)_ | _O(1)_ | Medium || Trie\n",
    "|211 | [Add and Search Word - Data structure design](https://leetcode.com/problems/add-and-search-word-data-structure-design/) | [C++](./C++/add-and-search-word-data-structure-design.cpp) [Python](./Python/add-and-search-word-data-structure-design.py) | _O(min(n, h))_ | _O(min(n, h))_ | Medium || Trie, DFS\n",
    "|226| [Invert Binary Tree](https://leetcode.com/problems/invert-binary-tree/) | [C++](./C++/invert-binary-tree.cpp) [Python](./Python/invert-binary-tree.py) | _O(n)_ | _O(h)_, _O(w)_ | Easy |||\n",
    "|297 | [Serialize and Deserialize Binary Tree](https://leetcode.com/problems/serialize-and-deserialize-binary-tree/) | [C++](./C++/serialize-and-deserialize-binary-tree.cpp) [Python](./Python/serialize-and-deserialize-binary-tree.py) | _O(n)_ | _O(h)_ | Hard | LintCode | DFS\n",
    "|307 | [Range Sum Query - Mutable](https://leetcode.com/problems/range-sum-query-mutable/) | [C++](./C++/range-sum-query-mutable.cpp) [Python](./Python/range-sum-query-mutable.py) | ctor: _O(n)_, update: _O(logn)_, query:  _O(logn)_ | _O(n)_ | Medium | LintCode | DFS, Segment Tree, BIT\n",
    "|308 | [Range Sum Query 2D - Mutable](https://leetcode.com/problems/range-sum-query-2d-mutable/) | [C++](./C++/range-sum-query-2d-mutable.cpp) [Python](./Python/range-sum-query-2d-mutable.py) | ctor: _O(m * n)_, update: _O(logm + logn)_, query:  _O(logm + logn)_ | _O(m * n)_ | Hard | 📖 | DFS, Segment Tree, BIT\n",
    "|315|[Count of Smaller Numbers After Self](https://leetcode.com/problems/count-of-smaller-numbers-after-self/)| [C++](./C++/count-of-smaller-numbers-after-self.cpp) [Python](./Python/count-of-smaller-numbers-after-self.py)| _O(nlogn)_ | _O(n)_ | Hard | LintCode | BST, BIT, Divide and Conquer |"
   ]
  },
  {
   "cell_type": "markdown",
   "metadata": {},
   "source": [
    "# 0. Preface"
   ]
  },
  {
   "cell_type": "markdown",
   "metadata": {},
   "source": [
    "![Preoder Inorder Postorder](http://images2015.cnblogs.com/blog/927781/201609/927781-20160921124759762-1413447755.png)"
   ]
  },
  {
   "cell_type": "markdown",
   "metadata": {},
   "source": [
    "- Preoder Traversal: 根 左 右\n",
    "- Inoder Traversal: 左 根 右\n",
    "- Postorder Traversal: 左 右 根\n",
    "\n",
    "可视化： http://crystalyy.github.io/resume/task/task22/index.html "
   ]
  },
  {
   "cell_type": "markdown",
   "metadata": {},
   "source": [
    "## 对树的三种理解导致了三种方法\n",
    "\n",
    "- 1.根左右，左根右，左右根 recursive  Time: O(?n)\n",
    "- 2.第一遇到：pre, 第二遇到：in, 第三遇到：post（反向第一次遇到） （stack方法） Time: O(2n)  Space O(n)\n",
    "- 3.线索二叉树：morris  Time: O(3n)  Space: O(1) -> Morris 方法\n",
    "\n",
    "因为前序和中序都连有中，所以有直接的路径到达。而后序节点。\n",
    "\n",
    "## 树的两种存储\n",
    "列表存储，浪费空间\n",
    "\n",
    "Linked List 节省空间\n",
    "\n",
    "## 树的恢复\n",
    "如果树的长一样就不行。 aaa,aaa,aaa"
   ]
  },
  {
   "cell_type": "markdown",
   "metadata": {},
   "source": [
    "# 1. [Binary Tree Inorder Traversal | 94](https://leetcode.com/problems/binary-tree-inorder-traversal/)"
   ]
  },
  {
   "cell_type": "code",
   "execution_count": null,
   "metadata": {
    "collapsed": true
   },
   "outputs": [],
   "source": [
    "Given a binary tree, return the inorder traversal of its nodes' values.\n",
    "\n",
    "For example:\n",
    "Given binary tree [1,null,2,3],\n",
    "   1\n",
    "    \\\n",
    "     2\n",
    "    /\n",
    "   3\n",
    "return [1,3,2].\n",
    "\n",
    "Note: Recursive solution is trivial, could you do it iteratively?"
   ]
  },
  {
   "cell_type": "markdown",
   "metadata": {},
   "source": [
    "## Solution"
   ]
  },
  {
   "cell_type": "code",
   "execution_count": 9,
   "metadata": {
    "collapsed": true
   },
   "outputs": [],
   "source": [
    "# Time: O(n)\n",
    "# Space:O(1)\n",
    "# Binary Tree Inorder Traversal \n",
    "\n",
    "# 跑了三遍：每一个节点被访问了三遍\n",
    "# 第一遍：连线 rightmost  2-1\n",
    "# 第二遍：添加 add  1 \n",
    "# 第三遍：去线 disconnect 2-1\n",
    "\n",
    "class TreeNode:\n",
    "    def __init__(self, x):\n",
    "        self.val = x\n",
    "        self.left = None\n",
    "        self.right = None\n",
    "\n",
    "class Solution(object):\n",
    "    def inorderTraversal(self, root):\n",
    "        \"\"\"\n",
    "        :type root: TreeNode\n",
    "        :rtype: List[int]\n",
    "        \"\"\"\n",
    "        result, curr = [], root\n",
    "        while curr:\n",
    "            # 2nd\n",
    "            print 'curr:',curr.val\n",
    "            if curr.left is None: \n",
    "                result.append(curr.val)\n",
    "                curr = curr.right\n",
    "            \n",
    "            \n",
    "            else:\n",
    "                # find the rightmost \n",
    "                node = curr.left # e.g. node = 1\n",
    "                while node.right and node.right != curr:  \n",
    "                    node = node.right \n",
    "            \n",
    "                # connect 1st \n",
    "                if node.right is None: \n",
    "                    node.right = curr  # connect 1->2\n",
    "                    curr = curr.left # -> 1\n",
    "                \n",
    "                # disconnect 3rd \n",
    "                else: \n",
    "                    result.append(curr.val)\n",
    "                    node.right = None  # delete the line\n",
    "                    curr = curr.right\n",
    "                \n",
    "        return result"
   ]
  },
  {
   "cell_type": "markdown",
   "metadata": {},
   "source": [
    "![inoder traversal](http://images.cnitblog.com/blog/300640/201306/14214057-7cc645706e7741e3b5ed62b320000354.jpg)"
   ]
  },
  {
   "cell_type": "code",
   "execution_count": 10,
   "metadata": {
    "collapsed": false
   },
   "outputs": [
    {
     "name": "stdout",
     "output_type": "stream",
     "text": [
      "curr: 6\n",
      "curr: 2\n",
      "curr: 1\n",
      "curr: 2\n",
      "curr: 4\n",
      "curr: 3\n",
      "curr: 4\n",
      "curr: 5\n",
      "curr: 6\n",
      "curr: 7\n",
      "curr: 8\n",
      "curr: 7\n",
      "curr: 9\n",
      "[1, 2, 3, 4, 5, 6, 8, 7, 9]\n"
     ]
    }
   ],
   "source": [
    "root = TreeNode(6)\n",
    "root.left = TreeNode(2)\n",
    "root.right = TreeNode(7)\n",
    "\n",
    "root.left.left = TreeNode(1)\n",
    "root.left.right = TreeNode(4)\n",
    "root.right.right = TreeNode(9)\n",
    "\n",
    "root.left.right.left = TreeNode(3)\n",
    "root.left.right.right = TreeNode(5)\n",
    "root.right.left = TreeNode(8)\n",
    "\n",
    "result = Solution().inorderTraversal(root)\n",
    "print result"
   ]
  },
  {
   "cell_type": "markdown",
   "metadata": {},
   "source": [
    "## Notes"
   ]
  },
  {
   "cell_type": "markdown",
   "metadata": {},
   "source": [
    "- Morris, Joseph M. (1979). \"Traversing binary trees simply and cheaply\". Information Processing Letters. 9 (5). doi:10.1016/0020-0190(79)90068-1.\n",
    "- http://www.geeksforgeeks.org/inorder-tree-traversal-without-recursion-and-without-stack/\n",
    "- http://www.cnblogs.com/AnnieKim/archive/2013/06/15/MorrisTraversal.html\n",
    "\n",
    "实现二叉树的前中后序遍历的方法：\n",
    "1. []递归(recursive)\n",
    "2. []栈实现的迭代版本(stack+iterative) \n",
    "\n",
    "以上 Space: O(n)\n",
    "\n",
    "Morris Traversal: \n",
    "- Time: O(n)\n",
    "- Space: O(1) (二叉树的形状不能被破坏（中间过程允许改变其形状）)"
   ]
  },
  {
   "cell_type": "code",
   "execution_count": null,
   "metadata": {
    "collapsed": true
   },
   "outputs": [],
   "source": [
    "1. Initialize current as root \n",
    "2. While current is not NULL\n",
    "   If current does not have left child\n",
    "      a) Print current’s data\n",
    "      b) Go to the right, i.e., current = current->right\n",
    "   Else\n",
    "      a) Make current as right child of the rightmost \n",
    "         node in current's left subtree\n",
    "      b) Go to this left child, i.e., current = current->left"
   ]
  },
  {
   "cell_type": "markdown",
   "metadata": {},
   "source": [
    "\n",
    "\n",
    "# 2. [Recover Binary Search Tree | 99 ](https://leetcode.com/problems/recover-binary-search-tree/)"
   ]
  },
  {
   "cell_type": "code",
   "execution_count": null,
   "metadata": {
    "collapsed": true
   },
   "outputs": [],
   "source": [
    "Two elements of a binary search tree (BST) are swapped by mistake.\n",
    "\n",
    "Recover the tree without changing its structure.\n",
    "\n",
    "Note:\n",
    "A solution using O(n) space is pretty straight forward. Could you devise a constant space solution?"
   ]
  },
  {
   "cell_type": "markdown",
   "metadata": {},
   "source": [
    "## Solution"
   ]
  },
  {
   "cell_type": "code",
   "execution_count": null,
   "metadata": {
    "collapsed": true
   },
   "outputs": [],
   "source": [
    "# Time:  O(n)\n",
    "# Space: O(1)\n",
    "# Recover Binary Search Tree\n",
    "# 问题：如何恢复成二叉树。\n",
    "# O(n) \n",
    "\n",
    "\n",
    "    \n",
    "class TreeNode:\n",
    "    def __init__(self, x):\n",
    "        self.val = x\n",
    "        self.left = None\n",
    "        self.right = None    \n",
    "    \n",
    "    def __repr__(self):\n",
    "        if self:\n",
    "            serial = []\n",
    "            queue = [self]\n",
    "\n",
    "            while queue:\n",
    "                cur = queue[0]\n",
    "                \n",
    "                if cur:\n",
    "                    serial.append(cur.val)\n",
    "                    queue.append(cur.left)\n",
    "                    queue.append(cur.right)\n",
    "                else:\n",
    "                    serial.append(\"#\")\n",
    "                \n",
    "                queue = queue[1:]\n",
    "                \n",
    "            while serial[-1] == \"#\":\n",
    "                serial.pop()\n",
    "                \n",
    "            return repr(serial)\n",
    "                \n",
    "        else:\n",
    "            return None\n",
    "\n",
    "\n",
    "# Definition for a binary tree node.\n",
    "# class TreeNode(object):\n",
    "#     def __init__(self, x):\n",
    "#         self.val = x\n",
    "#         self.left = None\n",
    "#         self.right = None\n",
    "\n",
    "class Solution(object):\n",
    "    def recoverTree(self, root):\n",
    "        \"\"\"\n",
    "        :type root: TreeNode\n",
    "        :rtype: void Do not return anything, modify root in-place instead.\n",
    "        \"\"\"\n",
    "        return self.MorrisTraversal(root)\n",
    "    \n",
    "    def MorrisTraversal(self, root):\n",
    "        if root is None:\n",
    "            return\n",
    "        broken = [None, None]\n",
    "        pre, cur = None, root\n",
    "        \n",
    "        while cur:\n",
    "            if cur.left is None:\n",
    "                self.detectBroken(broken, pre, cur)\n",
    "                pre = cur\n",
    "                cur = cur.right\n",
    "            else:\n",
    "                node = cur.left\n",
    "                while node.right and node.right != cur:\n",
    "                    node = node.right\n",
    "                    \n",
    "                if node.right is None:\n",
    "                    node.right =cur\n",
    "                    cur = cur.left\n",
    "                else:\n",
    "                    self.detectBroken(broken, pre, cur)\n",
    "                    node.right = None\n",
    "                    pre = cur\n",
    "                    cur = cur.right\n",
    "        \n",
    "        broken[0].val, broken[1].val = broken[1].val, broken[0].val\n",
    "        \n",
    "        return root\n",
    "    \n",
    "    def detectBroken(self, broken, pre, cur):\n",
    "        if pre and pre.val > cur.val:\n",
    "            if broken[0] is None:\n",
    "                broken[0] = pre\n",
    "            broken[1] = cur\n"
   ]
  },
  {
   "cell_type": "markdown",
   "metadata": {},
   "source": [
    "## Notes"
   ]
  },
  {
   "cell_type": "markdown",
   "metadata": {},
   "source": [
    "![Binary Search Tree](http://btechsmartclass.com/DS/images/BST%20Example.png)"
   ]
  },
  {
   "cell_type": "markdown",
   "metadata": {},
   "source": [
    "中序遍历二叉树生成序列，然后对序列中排序错误的进行调整。\n",
    "\n",
    "8 - 12\n",
    "\n",
    "1，5，8， \n",
    "\n",
    "一个错误：和下一个交换。\n",
    "\n",
    "两个错误：记录下两个位置再交换。\n",
    "\n",
    "遍历的过程：可以用Stack( n Space ),也可以用Morris ( 1 Space)"
   ]
  },
  {
   "cell_type": "markdown",
   "metadata": {},
   "source": [
    "# 3. [Binary Tree Preorder Traversal | 144](https://leetcode.com/problems/binary-tree-preorder-traversal/)"
   ]
  },
  {
   "cell_type": "code",
   "execution_count": null,
   "metadata": {
    "collapsed": true
   },
   "outputs": [],
   "source": [
    "Given a binary tree, return the preorder traversal of its nodes' values.\n",
    "\n",
    "For example:\n",
    "Given binary tree {1,#,2,3},\n",
    "   1\n",
    "    \\\n",
    "     2\n",
    "    /\n",
    "   3\n",
    "return [1,2,3].\n",
    "\n",
    "Note: Recursive solution is trivial, could you do it iteratively?"
   ]
  },
  {
   "cell_type": "markdown",
   "metadata": {},
   "source": [
    "## Solution"
   ]
  },
  {
   "cell_type": "code",
   "execution_count": null,
   "metadata": {
    "collapsed": true
   },
   "outputs": [],
   "source": [
    "# Time:  O(n)\n",
    "# Space: O(1)\n",
    "# Binary Tree Preorder Traversal \n",
    "\n",
    "\n",
    "class Solution(object):\n",
    "    def preorderTraversal(self, root):\n",
    "        \"\"\"\n",
    "        :type root: TreeNode\n",
    "        :rtype: List[int]\n",
    "        \"\"\"\n",
    "        result, curr = [], root\n",
    "        while curr:\n",
    "            if curr.left is None:\n",
    "                result.append(curr.val)\n",
    "                curr = curr.right\n",
    "            else:\n",
    "                node = curr.left\n",
    "                while node.right and node.right != curr:\n",
    "                    node = node.right\n",
    "            \n",
    "                if node.right is None:\n",
    "                    result.append(curr.val)\n",
    "                    node.right = curr\n",
    "                    curr = curr.left\n",
    "                else:\n",
    "                    node.right = None\n",
    "                    curr = curr.right\n",
    "                \n",
    "        return result"
   ]
  },
  {
   "cell_type": "markdown",
   "metadata": {},
   "source": [
    "# 4.  [Binary Tree Postorder Traversal | 145 ](https://leetcode.com/problems/binary-tree-postorder-traversal/) "
   ]
  },
  {
   "cell_type": "code",
   "execution_count": null,
   "metadata": {
    "collapsed": true
   },
   "outputs": [],
   "source": [
    "Given a binary tree, return the postorder traversal of its nodes' values.\n",
    "\n",
    "For example:\n",
    "Given binary tree {1,#,2,3},\n",
    "   1\n",
    "    \\\n",
    "     2\n",
    "    /\n",
    "   3\n",
    "return [3,2,1].\n",
    "\n",
    "Note: Recursive solution is trivial, could you do it iteratively?"
   ]
  },
  {
   "cell_type": "markdown",
   "metadata": {},
   "source": [
    "## Solution"
   ]
  },
  {
   "cell_type": "code",
   "execution_count": null,
   "metadata": {
    "collapsed": true
   },
   "outputs": [],
   "source": [
    "# Time:  O(n)\n",
    "# Space: O(1)\n",
    "# 后序（左右中），由于左 -> 右，没有直接的路径，所以需要进一步处理。\n",
    "# 前序 （中左右） 中序（左中右）都有中间连在一起。\n",
    "\n",
    "# 问题：中序\n",
    "\n",
    "\n",
    "class Solution(object):\n",
    "    def postorderTraversal(self, root):\n",
    "        \"\"\"\n",
    "        :type root: TreeNode\n",
    "        :rtype: List[int]\n",
    "        \"\"\"\n",
    "        dummy = TreeNode(0)\n",
    "        dummy.left = root\n",
    "        result, cur = [], dummy\n",
    "        while cur:\n",
    "            if cur.left is None:\n",
    "                cur = cur.right\n",
    "            else:\n",
    "                node = cur.left\n",
    "                while node.right and node.right != cur:\n",
    "                    node = node.right\n",
    "            \n",
    "                if node.right is None:\n",
    "                    node.right = cur\n",
    "                    cur = cur.left\n",
    "                else:\n",
    "                    result += self.traceBack(cur.left, node)\n",
    "                    node.right = None\n",
    "                    cur = cur.right\n",
    "        \n",
    "        return result\n",
    "    \n",
    "    def traceBack(self, frm, to):\n",
    "        result, cur = [], frm\n",
    "        while cur is not to:\n",
    "            result.append(cur.val)\n",
    "            cur = cur.right\n",
    "        result.append(to.val)\n",
    "        result.reverse()\n",
    "        return result\n"
   ]
  },
  {
   "cell_type": "markdown",
   "metadata": {},
   "source": [
    "# 5. [Implement Trie (Prefix Tree) | 208](https://leetcode.com/problems/implement-trie-prefix-tree/)"
   ]
  },
  {
   "cell_type": "code",
   "execution_count": null,
   "metadata": {
    "collapsed": true
   },
   "outputs": [],
   "source": [
    "Implement a trie with insert, search, and startsWith methods.\n",
    "\n",
    "Note:\n",
    "You may assume that all inputs are consist of lowercase letters a-z."
   ]
  },
  {
   "cell_type": "markdown",
   "metadata": {},
   "source": [
    "## Solution"
   ]
  },
  {
   "cell_type": "code",
   "execution_count": null,
   "metadata": {
    "collapsed": true
   },
   "outputs": [],
   "source": [
    "# Time:  O(n), per operation\n",
    "# Space: O(1)\n",
    "# Implement Trie\n",
    "\n",
    "\n",
    "class TrieNode:\n",
    "    # Initialize your data structure here.\n",
    "    def __init__(self):\n",
    "        self.is_string = False\n",
    "        self.leaves = {}\n",
    "        \n",
    "\n",
    "class Trie:\n",
    "\n",
    "    def __init__(self):\n",
    "        self.root = TrieNode()\n",
    "\n",
    "    # @param {string} word\n",
    "    # @return {void}\n",
    "    # Inserts a word into the trie.\n",
    "    def insert(self, word):\n",
    "        cur = self.root\n",
    "        for c in word:\n",
    "            if not c in cur.leaves:\n",
    "                cur.leaves[c] = TrieNode()\n",
    "            cur = cur.leaves[c]\n",
    "        cur.is_string = True\n",
    "\n",
    "    # @param {string} word\n",
    "    # @return {boolean}\n",
    "    # Returns if the word is in the trie.\n",
    "    def search(self, word):\n",
    "        node = self.childSearch(word)\n",
    "        if node:\n",
    "            return node.is_string\n",
    "        return False        \n",
    "\n",
    "    # @param {string} prefix\n",
    "    # @return {boolean}\n",
    "    # Returns if there is any word in the trie\n",
    "    # that starts with the given prefix.\n",
    "    def startsWith(self, prefix):\n",
    "        return self.childSearch(prefix) is not None\n",
    "\n",
    "    def childSearch(self, word):\n",
    "        cur = self.root\n",
    "        for c in word:\n",
    "            if c in cur.leaves:\n",
    "                cur = cur.leaves[c]\n",
    "            else:\n",
    "                return None\n",
    "        return cur"
   ]
  },
  {
   "cell_type": "markdown",
   "metadata": {},
   "source": [
    "# 6. [Add and Search Word - Data structure design | 211](https://leetcode.com/problems/add-and-search-word-data-structure-design/) "
   ]
  },
  {
   "cell_type": "code",
   "execution_count": null,
   "metadata": {
    "collapsed": true
   },
   "outputs": [],
   "source": [
    "Design a data structure that supports the following two operations:\n",
    "\n",
    "void addWord(word)\n",
    "bool search(word)\n",
    "search(word) can search a literal word or a regular expression string \n",
    "containing only letters a-z or .. A . means it can represent any one letter.\n",
    "\n",
    "For example:\n",
    "\n",
    "addWord(\"bad\")\n",
    "addWord(\"dad\")\n",
    "addWord(\"mad\")\n",
    "search(\"pad\") -> false\n",
    "search(\"bad\") -> true\n",
    "search(\".ad\") -> true\n",
    "search(\"b..\") -> true\n",
    "Note:\n",
    "You may assume that all words are consist of lowercase letters a-z."
   ]
  },
  {
   "cell_type": "markdown",
   "metadata": {},
   "source": [
    "## Solution"
   ]
  },
  {
   "cell_type": "code",
   "execution_count": null,
   "metadata": {
    "collapsed": true
   },
   "outputs": [],
   "source": [
    "# Time:  O(min(n, h)), per operation\n",
    "# Space: O(min(n, h))\n",
    "# Add and Search Word - Data Structure Design \n",
    "\n",
    "class TrieNode:\n",
    "    # Initialize your data structure here.\n",
    "    def __init__(self):\n",
    "        self.is_string = False\n",
    "        self.leaves = {}\n",
    "        \n",
    "class WordDictionary:\n",
    "    def __init__(self):\n",
    "        self.root = TrieNode()\n",
    "        \n",
    "    # @param {string} word\n",
    "    # @return {void}\n",
    "    # Adds a word into the data structure.\n",
    "    def addWord(self, word):\n",
    "        curr = self.root\n",
    "        for c in word:\n",
    "            if not c in curr.leaves:\n",
    "                curr.leaves[c] = TrieNode()\n",
    "            curr = curr.leaves[c]\n",
    "        curr.is_string = True\n",
    "\n",
    "    # @param {string} word\n",
    "    # @return {boolean}\n",
    "    # Returns if the word is in the data structure. A word could\n",
    "    # contain the dot character '.' to represent any one letter.\n",
    "    def search(self, word):\n",
    "        return self.searchHelper(word, 0, self.root)\n",
    "        \n",
    "    def searchHelper(self, word, start, curr):\n",
    "        if start == len(word):\n",
    "            return curr.is_string\n",
    "        if word[start] in curr.leaves:\n",
    "            return self.searchHelper(word, start+1, curr.leaves[word[start]])\n",
    "        elif word[start] == '.':\n",
    "            for c in curr.leaves:\n",
    "                if self.searchHelper(word, start+1, curr.leaves[c]):\n",
    "                    return True\n",
    "       \n",
    "        return False\n"
   ]
  },
  {
   "cell_type": "markdown",
   "metadata": {},
   "source": [
    "# 7.  [Invert Binary Tree | 266](https://leetcode.com/problems/invert-binary-tree/)"
   ]
  },
  {
   "cell_type": "code",
   "execution_count": null,
   "metadata": {
    "collapsed": true
   },
   "outputs": [],
   "source": [
    "Invert a binary tree.\n",
    "\n",
    "     4\n",
    "   /   \\\n",
    "  2     7\n",
    " / \\   / \\\n",
    "1   3 6   9\n",
    "to\n",
    "     4\n",
    "   /   \\\n",
    "  7     2\n",
    " / \\   / \\\n",
    "9   6 3   1\n",
    "Trivia:\n",
    "This problem was inspired by this original tweet by Max Howell:\n",
    "Google: 90% of our engineers use the software you wrote (Homebrew), \n",
    "    but you can’t invert a binary tree on a whiteboard so fuck off."
   ]
  },
  {
   "cell_type": "markdown",
   "metadata": {},
   "source": [
    "## Solution"
   ]
  },
  {
   "cell_type": "code",
   "execution_count": null,
   "metadata": {
    "collapsed": true
   },
   "outputs": [],
   "source": [
    "# Time:  O(n)\n",
    "# Space: O(h)\n",
    "# Invert Binary Tree \n",
    "\n",
    "class Queue:\n",
    "    def __init__(self):\n",
    "        self.data = collections.deque()\n",
    "        \n",
    "    def push(self, x):\n",
    "        self.data.append(x)\n",
    "    \n",
    "    def peek(self):\n",
    "        return self.data[0]\n",
    "    \n",
    "    def pop(self):\n",
    "        return self.data.popleft()\n",
    "    \n",
    "    def size(self):\n",
    "        return len(self.data)\n",
    "    \n",
    "    def empty(self):\n",
    "        return len(self.data) == 0\n",
    "        \n",
    "# Definition for a binary tree node.\n",
    "# class TreeNode:\n",
    "#     def __init__(self, x):\n",
    "#         self.val = x\n",
    "#         self.left = None\n",
    "#         self.right = None\n",
    "\n",
    "class Solution:\n",
    "    # @param {TreeNode} root\n",
    "    # @return {TreeNode}\n",
    "    def invertTree(self, root):\n",
    "        if root is not None:\n",
    "            nodes = Queue()\n",
    "            nodes.push(root)\n",
    "            while not nodes.empty():\n",
    "                node = nodes.pop()\n",
    "                node.left, node.right = node.right, node.left\n",
    "                if node.left is not None:\n",
    "                    nodes.push(node.left)\n",
    "                if node.right is not None:\n",
    "                    nodes.push(node.right)\n",
    "        \n",
    "        return root"
   ]
  },
  {
   "cell_type": "markdown",
   "metadata": {},
   "source": [
    "# 8. [Serialize and Deserialize Binary Tree | 297](https://leetcode.com/problems/serialize-and-deserialize-binary-tree/)"
   ]
  },
  {
   "cell_type": "code",
   "execution_count": null,
   "metadata": {
    "collapsed": true
   },
   "outputs": [],
   "source": [
    "Serialization is the process of converting a data structure or object \n",
    "into a sequence of bits so that it can be stored in a file or memory buffer,\n",
    "or transmitted across a network connection link to be reconstructed later in the same or another computer environment.\n",
    "\n",
    "Design an algorithm to serialize and deserialize a binary tree. \n",
    "There is no restriction on how your serialization/deserialization algorithm should work. \n",
    "You just need to ensure that a binary tree can be serialized to a string \n",
    "and this string can be deserialized to the original tree structure.\n",
    "\n",
    "For example, you may serialize the following tree\n",
    "\n",
    "    1\n",
    "   / \\\n",
    "  2   3\n",
    "     / \\\n",
    "    4   5\n",
    "as \"[1,2,3,null,null,4,5]\", just the same as how LeetCode OJ serializes a binary tree. \n",
    "You do not necessarily need to follow this format, so please be creative and come up with different approaches yourself.\n",
    "Note: Do not use class member/global/static variables to store states. \n",
    "Your serialize and deserialize algorithms should be stateless."
   ]
  },
  {
   "cell_type": "markdown",
   "metadata": {},
   "source": [
    "## Solution"
   ]
  },
  {
   "cell_type": "code",
   "execution_count": null,
   "metadata": {
    "collapsed": true
   },
   "outputs": [],
   "source": [
    "# Time:  O(n)\n",
    "# Space: O(h)\n",
    "# Serialize and Deserialize Binary Tree\n",
    "\n",
    "class Codec:\n",
    "\n",
    "    def serialize(self, root):\n",
    "        \"\"\"Encodes a tree to a single string.\n",
    "        \n",
    "        :type root: TreeNode\n",
    "        :rtype: str\n",
    "        \"\"\"\n",
    "        def serializeHelper(node):\n",
    "            if not node:\n",
    "                vals.append('#')\n",
    "            else:\n",
    "                vals.append(str(node.val))\n",
    "                serializeHelper(node.left)\n",
    "                serializeHelper(node.right)\n",
    "        vals = []\n",
    "        serializeHelper(root)\n",
    "        return ' '.join(vals)\n",
    "\n",
    "\n",
    "    def deserialize(self, data):\n",
    "        \"\"\"Decodes your encoded data to tree.\n",
    "        \n",
    "        :type data: str\n",
    "        :rtype: TreeNode\n",
    "        \"\"\"\n",
    "        def deserializeHelper():\n",
    "            val = next(vals)\n",
    "            if val == '#':\n",
    "                return None\n",
    "            else:\n",
    "                node = TreeNode(int(val))\n",
    "                node.left = deserializeHelper()\n",
    "                node.right = deserializeHelper()\n",
    "                return node\n",
    "        def isplit(source, sep):\n",
    "            sepsize = len(sep)\n",
    "            start = 0\n",
    "            while True:\n",
    "                idx = source.find(sep, start)\n",
    "                if idx == -1:\n",
    "                    yield source[start:]\n",
    "                    return\n",
    "                yield source[start:idx]\n",
    "                start = idx + sepsize\n",
    "        vals = iter(isplit(data, ' '))\n",
    "        return deserializeHelper()"
   ]
  },
  {
   "cell_type": "markdown",
   "metadata": {},
   "source": [
    "# 9. [Range Sum Query - Mutable | 307](https://leetcode.com/problems/range-sum-query-mutable/) "
   ]
  },
  {
   "cell_type": "code",
   "execution_count": null,
   "metadata": {
    "collapsed": true
   },
   "outputs": [],
   "source": [
    "Given an integer array nums, find the sum of the elements between indices i and j (i ≤ j), inclusive.\n",
    "\n",
    "The update(i, val) function modifies nums by updating the element at index i to val.\n",
    "Example:\n",
    "Given nums = [1, 3, 5]\n",
    "\n",
    "sumRange(0, 2) -> 9\n",
    "update(1, 2)\n",
    "sumRange(0, 2) -> 8\n",
    "Note:\n",
    "The array is only modifiable by the update function.\n",
    "You may assume the number of calls to update and sumRange function is distributed evenly."
   ]
  },
  {
   "cell_type": "markdown",
   "metadata": {},
   "source": [
    "## Solution"
   ]
  },
  {
   "cell_type": "code",
   "execution_count": 1,
   "metadata": {
    "collapsed": true
   },
   "outputs": [],
   "source": [
    "# Time:  ctor:   O(n),\n",
    "#        update: O(logn),\n",
    "#        query:  O(logn)\n",
    "# Space: O(n)\n",
    "\n",
    "class NumArray(object):\n",
    "    def __init__(self, nums):\n",
    "        \"\"\"\n",
    "        initialize your data structure here.\n",
    "        :type nums: List[int]\n",
    "        \"\"\"\n",
    "        if not nums:\n",
    "            return\n",
    "        self.__nums = nums\n",
    "        self.__bit = [0] * (len(self.__nums) + 1)\n",
    "        for i in xrange(1, len(self.__bit)):\n",
    "            self.__bit[i] = nums[i-1] + self.__bit[i-1]\n",
    "\n",
    "        for i in reversed(xrange(1, len(self.__bit))):\n",
    "            last_i = i - (i & -i)\n",
    "            self.__bit[i] -= self.__bit[last_i]\n",
    "\n",
    "    def update(self, i, val):\n",
    "        \"\"\"\n",
    "        :type i: int\n",
    "        :type val: int\n",
    "        :rtype: int\n",
    "        \"\"\"\n",
    "        if val - self.__nums[i]:\n",
    "            self.__add(i, val - self.__nums[i])\n",
    "            self.__nums[i] = val\n",
    "        \n",
    "    def sumRange(self, i, j):\n",
    "        \"\"\"\n",
    "        sum of elements nums[i..j], inclusive.\n",
    "        :type i: int\n",
    "        :type j: int\n",
    "        :rtype: int\n",
    "        \"\"\"\n",
    "        return self.__sum(j) - self.__sum(i-1)\n",
    "\n",
    "    def __sum(self, i):\n",
    "        i += 1\n",
    "        ret = 0\n",
    "        while i > 0:\n",
    "            ret += self.__bit[i]\n",
    "            i -= (i & -i)\n",
    "        return ret\n",
    "\n",
    "    def __add(self, i, val):\n",
    "        i += 1\n",
    "        while i <= len(self.__nums):\n",
    "            self.__bit[i] += val\n",
    "            i += (i & -i)"
   ]
  },
  {
   "cell_type": "markdown",
   "metadata": {},
   "source": [
    "## Notes"
   ]
  },
  {
   "cell_type": "markdown",
   "metadata": {},
   "source": [
    "- 为什么使用 Blance Tree?\n",
    "\n",
    "- 原始的两个方法\n",
    "- 方法1: \n",
    "\n",
    "- 为什么需要Dummy Note?\n",
    "\n",
    "- "
   ]
  },
  {
   "cell_type": "markdown",
   "metadata": {},
   "source": [
    "# 10. [Range Sum Query 2D - Mutable | 308](https://leetcode.com/problems/range-sum-query-2d-mutable/)"
   ]
  },
  {
   "cell_type": "markdown",
   "metadata": {},
   "source": [
    "# 11. [Count of Smaller Numbers After Self | 315 ](https://leetcode.com/problems/count-of-smaller-numbers-after-self/)"
   ]
  },
  {
   "cell_type": "code",
   "execution_count": null,
   "metadata": {
    "collapsed": true
   },
   "outputs": [],
   "source": [
    "You are given an integer array nums and you have to return a new counts array.\n",
    "The counts array has the property where counts[i] is the number of smaller elements to the right of nums[i].\n",
    "\n",
    "Example:\n",
    "\n",
    "Given nums = [5, 2, 6, 1]\n",
    "\n",
    "To the right of 5 there are 2 smaller elements (2 and 1).\n",
    "To the right of 2 there is only 1 smaller element (1).\n",
    "To the right of 6 there is 1 smaller element (1).\n",
    "To the right of 1 there is 0 smaller element.\n",
    "Return the array [2, 1, 1, 0]."
   ]
  },
  {
   "cell_type": "code",
   "execution_count": null,
   "metadata": {
    "collapsed": true
   },
   "outputs": [],
   "source": []
  },
  {
   "cell_type": "code",
   "execution_count": null,
   "metadata": {
    "collapsed": true
   },
   "outputs": [],
   "source": [
    "Given a list of words (without duplicates), please write a program that returns all concatenated words in the given list of words.\n",
    "\n",
    "A concatenated word is defined as a string that is comprised entirely of at least two shorter words in the given array.\n",
    "\n",
    "Example:\n",
    "Input: [\"cat\",\"cats\",\"catsdogcats\",\"dog\",\"dogcatsdog\",\"hippopotamuses\",\"rat\",\"ratcatdogcat\"]\n",
    "\n",
    "Output: [\"catsdogcats\",\"dogcatsdog\",\"ratcatdogcat\"]\n",
    "\n",
    "Explanation: \"catsdogcats\" can be concatenated by \"cats\", \"dog\" and \"cats\"; \n",
    " \"dogcatsdog\" can be concatenated by \"dog\", \"cats\" and \"dog\"; \n",
    "\"ratcatdogcat\" can be concatenated by \"rat\", \"cat\", \"dog\" and \"cat\".\n",
    "Note:\n",
    "The number of elements of the given array will not exceed 10,000\n",
    "The length sum of elements in the given array will not exceed 600,000.\n",
    "All the input string will only include lower case letters.\n",
    "The returned elements order does not matter.\n"
   ]
  },
  {
   "cell_type": "code",
   "execution_count": 12,
   "metadata": {
    "collapsed": true
   },
   "outputs": [],
   "source": [
    "class Solution(object):\n",
    "    def findAllConcatenatedWordsInADict(self, words):\n",
    "        \"\"\"\n",
    "        :type words: List[str]\n",
    "        :rtype: List[str]\n",
    "        \"\"\"\n",
    "        ans = []\n",
    "        self.wordSet = set(words)\n",
    "        print self.wordSet\n",
    "        for word in words:\n",
    "            print word\n",
    "            self.wordSet.remove(word)\n",
    "            if self.search(word):\n",
    "                ans.append(word)\n",
    "            self.wordSet.add(word)\n",
    "            print ans\n",
    "        return ans\n",
    "\n",
    "    def search(self, word):\n",
    "        if word in self.wordSet:\n",
    "            return True\n",
    "            print 10*'-'\n",
    "        for idx in range(1, len(word)):\n",
    "            if word[:idx] in self.wordSet and self.search(word[idx:]):\n",
    "                return True\n",
    "        return False"
   ]
  },
  {
   "cell_type": "code",
   "execution_count": 13,
   "metadata": {
    "collapsed": false
   },
   "outputs": [
    {
     "name": "stdout",
     "output_type": "stream",
     "text": [
      "set(['catsdogcats', 'hippopotamuses', 'dog', 'dogcatsdog', 'rat', 'cats', 'ratcatdogcat', 'cat'])\n",
      "cat\n",
      "[]\n",
      "cats\n",
      "[]\n",
      "catsdogcats\n",
      "['catsdogcats']\n",
      "dog\n",
      "['catsdogcats']\n",
      "dogcatsdog\n",
      "['catsdogcats', 'dogcatsdog']\n",
      "hippopotamuses\n",
      "['catsdogcats', 'dogcatsdog']\n",
      "rat\n",
      "['catsdogcats', 'dogcatsdog']\n",
      "ratcatdogcat\n",
      "['catsdogcats', 'dogcatsdog', 'ratcatdogcat']\n",
      "['catsdogcats', 'dogcatsdog', 'ratcatdogcat']\n"
     ]
    }
   ],
   "source": [
    "words = [\"cat\",\"cats\",\"catsdogcats\",\"dog\",\"dogcatsdog\",\"hippopotamuses\",\"rat\",\"ratcatdogcat\"]\n",
    "print Solution().findAllConcatenatedWordsInADict(words)"
   ]
  },
  {
   "cell_type": "code",
   "execution_count": null,
   "metadata": {
    "collapsed": true
   },
   "outputs": [],
   "source": []
  }
 ],
 "metadata": {
  "kernelspec": {
   "display_name": "Python 2",
   "language": "python",
   "name": "python2"
  },
  "language_info": {
   "codemirror_mode": {
    "name": "ipython",
    "version": 2
   },
   "file_extension": ".py",
   "mimetype": "text/x-python",
   "name": "python",
   "nbconvert_exporter": "python",
   "pygments_lexer": "ipython2",
   "version": "2.7.13"
  }
 },
 "nbformat": 4,
 "nbformat_minor": 0
}
