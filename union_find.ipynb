{
 "cells": [
  {
   "cell_type": "markdown",
   "metadata": {},
   "source": [
    "# Union Find"
   ]
  },
  {
   "cell_type": "code",
   "execution_count": null,
   "metadata": {
    "collapsed": true
   },
   "outputs": [],
   "source": [
    "128 Longest Consecutive Sequence 36.3%\tHard\n",
    "#UnionFind \n",
    "130 Surrounded Regions 18.1%\tMedium\n",
    "#UnionFind \n",
    "200 Number of Islands 33.9%\tMedium\n",
    "#UnionFind \n",
    "261 Graph Valid Tree 37.4%\tMedium\n",
    "#UnionFind \n",
    "305 Number of Islands II 38.6%\tHard\n",
    "#UnionFind \n",
    "323 Number of Connected Components in an Undirected Graph 47.7%\tMedium\n",
    "#UnionFind \n",
    "547 Friend Circles 49.0%\tMedium\n",
    "#UnionFind "
   ]
  },
  {
   "cell_type": "markdown",
   "metadata": {},
   "source": [
    "# 1 | 128 Longest Consecutive Sequence 36.3%\tHard\n"
   ]
  },
  {
   "cell_type": "markdown",
   "metadata": {},
   "source": [
    "# 2. 130 Surrounded Regions 18.1%\tMedium\n"
   ]
  },
  {
   "cell_type": "markdown",
   "metadata": {},
   "source": [
    "# 3. 200 Number of Islands 33.9%\tMedium\n"
   ]
  },
  {
   "cell_type": "markdown",
   "metadata": {},
   "source": [
    "# 4. 261 Graph Valid Tree 37.4%\tMedium\n"
   ]
  },
  {
   "cell_type": "markdown",
   "metadata": {},
   "source": [
    "# 5. 305 Number of Islands II 38.6%\tHard\n"
   ]
  },
  {
   "cell_type": "markdown",
   "metadata": {},
   "source": [
    "# 6. 323 Number of Connected Components in an Undirected Graph 47.7%\tMedium\n"
   ]
  },
  {
   "cell_type": "code",
   "execution_count": null,
   "metadata": {
    "collapsed": true
   },
   "outputs": [],
   "source": [
    "Given n nodes labeled from 0 to n - 1 and a list of undirected edges (each edge is a pair of nodes), \n",
    "write a function to find the number of connected components in an undirected graph.\n",
    "Example 1:\n",
    "0          3\n",
    "|          |\n",
    "1 --- 2    4\n",
    "Given n = 5 and edges = [[0, 1], [1, 2], [3, 4]], return 2.\n",
    "Example 2:\n",
    "0           4\n",
    "|           |\n",
    "1 --- 2 --- 3\n",
    "Given n = 5 and edges = [[0, 1], [1, 2], [2, 3], [3, 4]], return 1."
   ]
  },
  {
   "cell_type": "code",
   "execution_count": null,
   "metadata": {
    "collapsed": true
   },
   "outputs": [],
   "source": [
    "def countComponents(n, edges):\n",
    "        def find(x):\n",
    "            if parent[x] != x:\n",
    "                parent[x] = find(parent[x])\n",
    "            return parent[x]\n",
    "            \n",
    "        def union(xy):\n",
    "            x, y = map(find, xy)\n",
    "            if rank[x] < rank[y]:\n",
    "                parent[x] = y\n",
    "            else:\n",
    "                parent[y] = x\n",
    "                if rank[x] == rank[y]:\n",
    "                    rank[x] += 1\n",
    "        \n",
    "        parent, rank = range(n), [0] * n\n",
    "        map(union, edges)\n",
    "        return len({find(x) for x in parent})"
   ]
  },
  {
   "cell_type": "code",
   "execution_count": null,
   "metadata": {
    "collapsed": true
   },
   "outputs": [],
   "source": [
    "class Solution(object):\n",
    "    def countComponents(n, edges):\n",
    "        def find(x):\n",
    "            if parent[x] != x:\n",
    "                parent[x] = find(parent[x])\n",
    "            return parent[x]\n",
    "        \n",
    "        def union(xy):\n",
    "            x, y = map(find, xy)\n",
    "            if rank[x] < rank[y]:\n",
    "                parent[x] = y\n",
    "            else:\n",
    "                parent[y] = x\n",
    "                if rank[x] == rank[y]:\n",
    "                    rank[x] += 1\n",
    "                    \n",
    "        parent, rank = range(n), [0] * n\n",
    "        map(union, edges)\n",
    "        return len( {find(x) for x in parent} )"
   ]
  },
  {
   "cell_type": "markdown",
   "metadata": {},
   "source": [
    "# 7.  547 Friend Circles 49.0%\tMedium"
   ]
  },
  {
   "cell_type": "code",
   "execution_count": null,
   "metadata": {
    "collapsed": true
   },
   "outputs": [],
   "source": [
    "There are N students in a class. Some of them are friends, while some are not. \n",
    "Their friendship is transitive in nature. \n",
    "For example, if A is a direct friend of B, and B is a direct friend of C, then A is an indirect friend of C. \n",
    "And we defined a friend circle is a group of students who are direct or indirect friends.\n",
    "Given a N*N matrix M representing the friend relationship between students in the class. \n",
    "If M[i][j] = 1, then the ith and jth students are direct friends with each other, otherwise not. \n",
    "And you have to output the total number of friend circles among all the students.\n",
    "\n",
    "Example 1:\n",
    "Input:\n",
    "[[1,1,0],\n",
    "[1,1,0],\n",
    "[0,0,1]]\n",
    "Output: 2\n",
    "Explanation:The 0th and 1st students are direct friends, so they are in a friend circle.\n",
    "The 2nd student himself is in a friend circle. So return 2.\n",
    "\n",
    "Example 2:\n",
    "Input:\n",
    "[[1,1,0],\n",
    "[1,1,1],\n",
    "[0,1,1]]\n",
    "Output: 1\n",
    "Explanation:The 0th and 1st students are direct friends, the 1st and 2nd students are direct friends,\n",
    "so the 0th and 2nd students are indirect friends. All of them are in the same friend circle, so return 1.\n",
    "\n",
    "Note:\n",
    "N is in range [1,200].\n",
    "M[i][i] = 1 for all students.\n",
    "If M[i][j] = 1, then M[j][i] = 1."
   ]
  },
  {
   "cell_type": "code",
   "execution_count": 23,
   "metadata": {
    "collapsed": true
   },
   "outputs": [],
   "source": [
    "# Time: O(n*n)?\n",
    "# Space: O(n)\n",
    "# Friend Circles\n",
    "\n",
    "\n",
    "class Solution(object):\n",
    "    def findCircleNum(self, M):\n",
    "        \"\"\"\n",
    "        :type M: List[List[int]]\n",
    "        :rtype: int\n",
    "        \"\"\"\n",
    "        N = len(M)\n",
    "        seen = set()\n",
    "        \n",
    "        def dfs(node):\n",
    "            for who, is_friend in enumerate(M[node]):\n",
    "                if is_friend and who not in seen:\n",
    "                    seen.add(who)\n",
    "                    dfs(who)\n",
    "                    print who\n",
    "                    print 10*'-'\n",
    "            \n",
    "        ans = 0\n",
    "        for i in xrange(N):\n",
    "            if i not in seen:\n",
    "                dfs(i)\n",
    "                ans += 1\n",
    "                print seen\n",
    "                print 20*'-'\n",
    "        return ans"
   ]
  },
  {
   "cell_type": "code",
   "execution_count": 24,
   "metadata": {
    "collapsed": false
   },
   "outputs": [
    {
     "name": "stdout",
     "output_type": "stream",
     "text": [
      "1\n",
      "----------\n",
      "0\n",
      "----------\n",
      "set([0, 1])\n",
      "--------------------\n",
      "2\n",
      "----------\n",
      "set([0, 1, 2])\n",
      "--------------------\n",
      "2\n"
     ]
    }
   ],
   "source": [
    "M = [[1,1,0],\n",
    " [1,1,0],\n",
    " [0,0,1]]\n",
    "\n",
    "print Solution().findCircleNum(M)"
   ]
  },
  {
   "cell_type": "code",
   "execution_count": 8,
   "metadata": {
    "collapsed": false,
    "scrolled": true
   },
   "outputs": [
    {
     "name": "stdout",
     "output_type": "stream",
     "text": [
      "0 1\n",
      "1 2\n",
      "2 0\n"
     ]
    }
   ],
   "source": [
    "M = [[1,2,3],\n",
    " [1,2,0],\n",
    " [0,0,1]]\n",
    "\n",
    "for i, j in enumerate(M[1]):\n",
    "    print i, j"
   ]
  },
  {
   "cell_type": "code",
   "execution_count": null,
   "metadata": {
    "collapsed": true
   },
   "outputs": [],
   "source": [
    "class Solution(object):\n",
    "    def findCircleNum(self, M):\n",
    "        \"\"\"\n",
    "        :type M: List[List[int]]\n",
    "        :rtype: int\n",
    "        \"\"\"\n",
    "        ds = DisjointSet()\n",
    "\n",
    "        for i in range(len(M)):\n",
    "            ds.make_set(i)\n",
    "\n",
    "        for i in range(len(M)):\n",
    "            for j in range(len(M)):\n",
    "                if M[i][j] == 1:\n",
    "                    ds.union(i, j)\n",
    "        return ds.num_sets\n",
    "\n",
    "class Node(object):\n",
    "    def __init__(self, data, parent=None, rank=0):\n",
    "        self.data = data\n",
    "        self.parent = parent\n",
    "        self.rank = rank\n",
    "\n",
    "class DisjointSet(object):\n",
    "    def __init__(self):\n",
    "        self.map = {}\n",
    "        self.num_sets = 0\n",
    "\n",
    "    def make_set(self, data):\n",
    "        node = Node(data)\n",
    "        node.parent = node\n",
    "        self.map[data] = node\n",
    "        self.num_sets += 1\n",
    "\n",
    "    def union(self, data1, data2):\n",
    "        node1 = self.map[data1]\n",
    "        node2 = self.map[data2]\n",
    "\n",
    "        parent1 = self.find_set_util(node1)\n",
    "        parent2 = self.find_set_util(node2)\n",
    "\n",
    "        if parent1.data == parent2.data:\n",
    "            return\n",
    "\n",
    "        if parent1.rank >= parent2.rank:\n",
    "            if parent1.rank == parent2.rank:\n",
    "                parent1.rank += 1\n",
    "            parent2.parent = parent1\n",
    "        else:\n",
    "            parent1.parent = parent2\n",
    "        self.num_sets -= 1\n",
    "\n",
    "    def find_set(self, data):\n",
    "        return self.find_set_util(self.map[data])\n",
    "\n",
    "    def find_set_util(self, node):\n",
    "        parent = node.parent\n",
    "        if parent == node:\n",
    "            return parent\n",
    "\n",
    "        node.parent = self.find_set_util(node.parent) # path compression\n",
    "        return node.parent"
   ]
  }
 ],
 "metadata": {
  "kernelspec": {
   "display_name": "Python 2",
   "language": "python",
   "name": "python2"
  },
  "language_info": {
   "codemirror_mode": {
    "name": "ipython",
    "version": 2
   },
   "file_extension": ".py",
   "mimetype": "text/x-python",
   "name": "python",
   "nbconvert_exporter": "python",
   "pygments_lexer": "ipython2",
   "version": "2.7.13"
  }
 },
 "nbformat": 4,
 "nbformat_minor": 0
}
