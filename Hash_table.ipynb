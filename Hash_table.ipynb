{
 "cells": [
  {
   "cell_type": "markdown",
   "metadata": {},
   "source": [
    "# Hash Table (回眸一笑百媚生)"
   ]
  },
  {
   "cell_type": "markdown",
   "metadata": {},
   "source": [
    "[visulization](https://www.cs.usfca.edu/~galles/visualization/OpenHash.html)\n",
    "![hash table](https://upload.wikimedia.org/wikipedia/commons/thumb/b/bf/Hash_table_5_0_1_1_1_1_0_SP.svg/380px-Hash_table_5_0_1_1_1_1_0_SP.svg.png)"
   ]
  },
  {
   "cell_type": "markdown",
   "metadata": {},
   "source": [
    "\n",
    "|  #  | Title           |  Solution       |  Time           | Space           | Difficulty    | Tag          | Note| \n",
    "|-----|---------------- | --------------- | --------------- | --------------- | ------------- |--------------|-----|\n",
    "|1| [Two Sum](https://leetcode.com/problems/two-sum/)      | [C++](./C++/two-sum.cpp) [Python](./Python/two-sum.py)      | _O(n)_         | _O(n)_          | Easy         ||\n",
    "|3| [Longest Substring Without Repeating Characters](https://leetcode.com/problems/longest-substring-without-repeating-characters/) | [C++](./C++/longest-substring-without-repeating-characters.cpp) [Python](./Python/longest-substring-without-repeating-characters.py) | _O(n)_ | _O(1)_ | Medium ||\n",
    "|30| [Substring with Concatenation of All Words](https://leetcode.com/problems/substring-with-concatenation-of-all-words/) | [C++](./C++/substring-with-concatenation-of-all-words.cpp) [Python](./Python/substring-with-concatenation-of-all-words.py) | _O(m * n * k)_ | _O(n * k)_ | Hard          ||\n",
    "|36| [Valid Sudoku](https://leetcode.com/problems/valid-sudoku/) | [C++](./C++/valid-sudoku.cpp) [Python](./Python/valid-sudoku.py) | _O(9^2)_         | _O(9)_          | Easy           ||\n",
    "|49| [Group Anagrams](https://leetcode.com/problems/anagrams/)     | [C++](./C++/anagrams.cpp) [Python](./Python/anagrams.py)   | _O(n * glogg)_          | _O(n)_          | Medium         ||\n",
    "|76| [Minimum Window Substring](https://leetcode.com/problems/minimum-window-substring/) | [C++](./C++/minimum-window-substring.cpp) [Python](./Python/minimum-window-substring.py) | _O(n)_ | _O(k)_ | Hard          ||\n",
    "|149| [Max Points on a Line](https://leetcode.com/problems/max-points-on-a-line/) | [C++](./C++/max-points-on-a-line.cpp) [Python](./Python/max-points-on-a-line.py) | _O(n^2)_ | _O(n)_ | Hard          ||\n",
    "|159| [Longest Substring with At Most Two Distinct Characters](https://leetcode.com/problems/longest-substring-with-at-most-two-distinct-characters/)| [C++](./C++/longest-substring-with-at-most-two-distinct-characters.cpp) [Python](./Python/longest-substring-with-at-most-two-distinct-characters.py) | _O(n)_ | _O(1)_ | Hard         |📖|\n",
    "|170| [Two Sum III - Data structure design](https://leetcode.com/problems/two-sum-iii-data-structure-design/) | [C++](./C++/two-sum-iii-data-structure-design.cpp) [Python](./Python/two-sum-iii-data-structure-design.py) | _O(n)_ | _O(n)_ | Easy | 📖 |\n",
    "|187| [Repeated DNA Sequences](https://leetcode.com/problems/repeated-dna-sequences/) | [Python](./Python/repeated-dna-sequences.py) | _O(n)_       | _O(n)_          | Medium         ||\n",
    "|202| [Happy Number](https://leetcode.com/problems/happy-number/)      | [C++](./C++/happy-number.cpp) [Python](./Python/happy-number.py)   | _O(k)_  | _O(k)_          | Easy          ||\n",
    "|204| [Count Primes](https://leetcode.com/problems/count-primes/)  | [C++](./C++/count-primes.cpp) [Python](./Python/count-primes.py) | _O(n)_        | _O(n)_          | Easy           ||\n",
    "|205| [Isomorphic Strings](https://leetcode.com/problems/isomorphic-strings/) | [C++](./C++/isomorphic-strings.cpp) [Python](./Python/isomorphic-strings.py) | _O(n)_ | _O(1)_       | Easy           || \n",
    "|217| [Contains Duplicate](https://leetcode.com/problems/contains-duplicate/)  | [C++](./C++/contains-duplicate.cpp) [Python](./Python/contains-duplicate.py) | _O(n)_        | _O(n)_          | Easy           ||\n",
    "|219| [Contains Duplicate II](https://leetcode.com/problems/contains-duplicate-ii/)  | [C++](./C++/contains-duplicate-ii.cpp) [Python](./Python/contains-duplicate-ii.py) | _O(n)_        | _O(n)_          | Easy           ||\n",
    "|244| [Shortest Word Distance II](https://leetcode.com/problems/shortest-word-distance-ii/)     | [C++](./C++/shortest-word-distance-ii.cpp) [Python](./Python/shortest-word-distance-ii.py)  | ctor: _O(n)_, lookup: _O(a + b)_ |  _O(n)_ | Medium         |📖||\n",
    "|246| [Strobogrammatic Number](https://leetcode.com/problems/strobogrammatic-number/) | [C++](./C++/strobogrammatic-number.cpp)  [Python](./Python/strobogrammatic-number.py)  | _O(n)_ | _O(1)_ | Easy         |📖||\n",
    "|249| [Group Shifted Strings](https://leetcode.com/problems/group-shifted-strings/) | [C++](./C++/group-shifted-strings.cpp)  [Python](./Python/group-shifted-strings.py)  | _O(nlogn)_ | _O(n)_ | Easy         |📖||\n",
    "|266| [Palindrome Permutation](https://leetcode.com/problems/palindrome-permutation/) | [C++](./C++/palindrome-permutation.cpp) [Python](./Python/palindrome-permutation.py)  | _O(n)_ |  _O(1)_ | Easy         |📖||\n",
    "|288| [Unique Word Abbreviation](https://leetcode.com/problems/unique-word-abbreviation/) | [C++](./C++/unique-word-abbreviation.cpp) [Python](./Python/unique-word-abbreviation.py)  | ctor: _O(n)_, lookup: _O(1)_ | _O(k)_ | Easy         |📖||\n",
    "|290| [Word Pattern](https://leetcode.com/problems/word-pattern/) | [C++](./C++/word-pattern.cpp) [Python](./Python/word-pattern.py)  | _O(n)_ | _O(c)_ | Easy         | variant of [Isomorphic Strings](https://leetcode.com/problems/isomorphic-strings/) ||\n",
    "|299| [Bulls and Cows](https://leetcode.com/problems/bulls-and-cows/) | [C++](./C++/bulls-and-cows.cpp) [Python](./Python/bulls-and-cows.py)  | _O(n)_ | _O(1)_ | Easy         |||\n",
    "|305| [Number of Islands II](https://leetcode.com/problems/number-of-islands-ii/) | [C++](./C++/number-of-islands-ii.cpp) [Python](./Python/number-of-islands-ii.py) | _O(k)_ | _O(k)_| Hard         | LintCode, 📖 | Union Find\n",
    "|314| [Binary Tree Vertical Order Traversal](https://leetcode.com/problems/binary-tree-vertical-order-traversal/) | [C++](./C++/binary-tree-vertical-order-traversal.cpp) [Python](./Python/binary-tree-vertical-order-traversal.py) | _O(n)_ | _O(n)_| Medium         | 📖 | BFS\n",
    "|323| [Number of Connected Components in an Undirected Graph](https://leetcode.com/problems/number-of-connected-components-in-an-undirected-graph/) | [C++](./C++/number-of-connected-components-in-an-undirected-graph.cpp) [Python](./Python/number-of-connected-components-in-an-undirected-graph.py) | _O(n)_ | _O(n)_| Medium         | 📖 | Union Find\n",
    "|325| [Maximum Size Subarray Sum Equals k](https://leetcode.com/problems/maximum-size-subarray-sum-equals-k/) | [C++](./C++/maximum-size-subarray-sum-equals-k.cpp) [Python](./Python/maximum-size-subarray-sum-equals-k.py) | _O(n)_ | _O(n)_|  Medium         | 📖 | \n",
    "|336| [Palindrome Pairs](https://leetcode.com/problems/palindrome-pairs/) | [C++](./C++/palindrome-pairs.cpp) [Python](./Python/palindrome-pairs.py) | _O(n * k^2)_          | _O(n * k)_          | Hard             | | |\n",
    "|340| [Longest Substring with At Most K Distinct Characters](https://leetcode.com/problems/longest-substring-with-at-most-k-distinct-characters/)|  [C++](./C++/longest-substring-with-at-most-k-distinct-characters.cpp) [Python](./Python/longest-substring-with-at-most-k-distinct-characters.py) | _O(n)_ | _O(1)_ | Hard         |📖|\n",
    "|356| [Line Reflection](https://leetcode.com/problems/line-reflection/) | [C++](./C++/line-reflection.cpp) [Python](./Python/line-reflection.py) | _O(n)_| _O(n)_| Medium |📖| Hash, Two Pointers |\n",
    "|387| [First Unique Character in a String](https://leetcode.com/problems/first-unique-character-in-a-string/) | [C++](./C++/first-unique-character-in-a-string.cpp) [Python](./Python/first-unique-character-in-a-string.py) | _O(n)_| _O(n)_| Easy |||\n",
    "|388| [Longest Absolute File Path](https://leetcode.com/problems/longest-absolute-file-path/) | [C++](./C++/longest-absolute-file-path.cpp) [Python](./Python/longest-absolute-file-path.py) | _O(n)_| _O(d)_| Medium || Stack |\n",
    "|409| [Longest Palindrome](https://leetcode.com/problems/longest-palindrome/) | [C++](./C++/longest-palindrome.cpp) [Python](./Python/longest-palindrome.py) | _O(n)_| _O(1)_| Easy |||\n",
    "|424| [Longest Repeating Character Replacement](https://leetcode.com/problems/longest-repeating-character-replacement/) | [C++](./C++/longest-repeating-character-replacement.cpp) [Python](./Python/longest-repeating-character-replacement.py) | _O(n)_| _O(1)_| Medium |||\n",
    "|438| [Find All Anagrams in a String](https://leetcode.com/problems/find-all-anagrams-in-a-string/) | [C++](./C++/find-all-anagrams-in-a-string.cpp) [Python](./Python/find-all-anagrams-in-a-string.py) | _O(n)_          | _O(1)_          | Easy           ||\n",
    "|447| [Number of Boomerangs](https://leetcode.com/problems/number-of-boomerangs/) | [C++](./C++/number-of-boomerangs.cpp) [Python](./Python/number-of-boomerangs.py) | _O(n^2)_          | _O(n)_          | Easy           ||\n",
    "|454| [4Sum II](https://leetcode.com/problems/4sum-ii/) | [C++](./C++/4sum-ii.cpp) [Python](./Python/4sum-ii.py) | _O(n^2)_          | _O(n^2)_          | Medium           ||\n",
    "|473| [Matchsticks to Square](https://leetcode.com/problems/matchsticks-to-square/) | [C++](./C++/matchsticks-to-square.cpp) [Python](./Python/matchsticks-to-square.py) | _O(n * s * 2^n)_          | _O(n * (2^n + s))_          | Medium           ||\n",
    "|554| [Brick Wall](https://leetcode.com/problems/brick-wall/) |[C++](./C++/brick-wall.cpp)  [Python](./Python/brick-wall.py) | _O(n)_ | _O(m)_ | Medium         | |"
   ]
  },
  {
   "cell_type": "markdown",
   "metadata": {
    "collapsed": true
   },
   "source": [
    "# 1. [Two Sum | 1](https://leetcode.com/problems/two-sum/) "
   ]
  },
  {
   "cell_type": "code",
   "execution_count": null,
   "metadata": {
    "collapsed": true
   },
   "outputs": [],
   "source": [
    "Given an array of integers, return indices of the two numbers such that they add up to a specific target.\n",
    "\n",
    "You may assume that each input would have exactly one solution, and you may not use the same element twice.\n",
    "\n",
    "Example:\n",
    "Given nums = [2, 7, 11, 15], target = 9,\n",
    "\n",
    "Because nums[0] + nums[1] = 2 + 7 = 9,\n",
    "return [0, 1]."
   ]
  },
  {
   "cell_type": "markdown",
   "metadata": {},
   "source": [
    "![two sum](https://i.stack.imgur.com/QQDF3.gif)"
   ]
  },
  {
   "cell_type": "markdown",
   "metadata": {},
   "source": [
    "## Solution"
   ]
  },
  {
   "cell_type": "code",
   "execution_count": null,
   "metadata": {
    "collapsed": true
   },
   "outputs": [],
   "source": [
    "# Time: O(n)\n",
    "# Space: O(n)\n",
    "# Two Sum\n",
    "\n",
    "\n",
    "class Solution(object):\n",
    "    def twoSum(self, nums, target):\n",
    "        \"\"\"\n",
    "        :type nums: List[int]\n",
    "        :type target: int\n",
    "        :rtype: List[int]\n",
    "        \"\"\"\n",
    "        lookup = {}\n",
    "        for i, num in enumerate(nums):\n",
    "            if target - num in lookup:\n",
    "                return [lookup[target - num], i]\n",
    "            lookup[num] = i\n",
    "        return []\n",
    "        "
   ]
  },
  {
   "cell_type": "markdown",
   "metadata": {},
   "source": [
    "## Note\n",
    "\n",
    "Two pointer can be used to solve. \n",
    "\n",
    "But, we can use hash, too. We can store number into a hash table. The number we need to search is \"target - n\" using time O(1). For each number, the total is O(n).\n",
    "\n",
    "回眸一笑百媚生。"
   ]
  },
  {
   "cell_type": "code",
   "execution_count": 11,
   "metadata": {
    "collapsed": false
   },
   "outputs": [
    {
     "name": "stdout",
     "output_type": "stream",
     "text": [
      "[0, 1]\n",
      "[0, 4]\n",
      "{15: 3, 2: 0, 11: 2, 7: 4}\n",
      "True\n"
     ]
    }
   ],
   "source": [
    "nums = [2, 7, 11, 15, 7]\n",
    "lookup = {}\n",
    "target = 9\n",
    "for i, num in enumerate(nums):\n",
    "    if target - num in lookup:\n",
    "        print [lookup[target - num], i]\n",
    "    lookup[num] = i\n",
    "print(lookup)\n",
    "\n",
    "if 15 in lookup:\n",
    "    print(True)"
   ]
  },
  {
   "cell_type": "markdown",
   "metadata": {},
   "source": [
    "---\n",
    "# 2. [Longest Substring Without Repeating Characters | 3](https://leetcode.com/problems/longest-substring-without-repeating-characters/)"
   ]
  },
  {
   "cell_type": "code",
   "execution_count": null,
   "metadata": {
    "collapsed": true
   },
   "outputs": [],
   "source": [
    "Given a string, find the length of the longest substring without repeating characters.\n",
    "\n",
    "Examples:\n",
    "\n",
    "Given \"abcabcbb\", the answer is \"abc\", which the length is 3.\n",
    "\n",
    "Given \"bbbbb\", the answer is \"b\", with the length of 1.\n",
    "\n",
    "Given \"pwwkew\", the answer is \"wke\", with the length of 3. Note that the answer must be a substring, \n",
    "\n",
    "\"pwke\" is a subsequence and not a substring."
   ]
  },
  {
   "cell_type": "markdown",
   "metadata": {},
   "source": [
    "![longest](http://img.blog.csdn.net/20150507144924754)"
   ]
  },
  {
   "cell_type": "markdown",
   "metadata": {},
   "source": [
    "## Solutions"
   ]
  },
  {
   "cell_type": "code",
   "execution_count": 8,
   "metadata": {
    "collapsed": true
   },
   "outputs": [],
   "source": [
    "# Time:  O(n)\n",
    "# Space: O(1)\n",
    "# Longest substring without repeating characters\n",
    "\n",
    "\n",
    "class Solution(object):\n",
    "    def lengthOfLongestSubstring(self, s):\n",
    "        \"\"\"\n",
    "        :type s: str\n",
    "        :rtype: int\n",
    "        \"\"\"\n",
    "        longest, start, visited = 0, 0, [False for _ in range(256)] #ascii\n",
    "        for i, char in enumerate(s):\n",
    "            print i, char\n",
    "            if visited[ord(char)]:  \n",
    "                while char != s[start]:   \n",
    "                    visited[ord(s[start])] = False   # when b != a, remove \"start letter a\"\n",
    "                    start += 1  # until we meet another b, jump out of \"while\"\n",
    "                start += 1 # but b is still true, just jump to c\n",
    "            else:\n",
    "                visited[ord(char)] = True \n",
    "            \n",
    "            longest = max(longest, i - start + 1)\n",
    "            print start \n",
    "            print longest \n",
    "        return longest "
   ]
  },
  {
   "cell_type": "code",
   "execution_count": 9,
   "metadata": {
    "collapsed": false
   },
   "outputs": [
    {
     "name": "stdout",
     "output_type": "stream",
     "text": [
      "0 a\n",
      "0\n",
      "1\n",
      "1 b\n",
      "0\n",
      "2\n",
      "2 c\n",
      "0\n",
      "3\n",
      "3 a\n",
      "1\n",
      "3\n",
      "4 b\n",
      "2\n",
      "3\n",
      "5 c\n",
      "3\n",
      "3\n",
      "6 b\n",
      "5\n",
      "3\n",
      "7 b\n",
      "7\n",
      "3\n",
      "3\n"
     ]
    }
   ],
   "source": [
    "print Solution().lengthOfLongestSubstring(\"abcabcbb\")"
   ]
  },
  {
   "cell_type": "markdown",
   "metadata": {},
   "source": [
    "##  Notes\n",
    "\n",
    "第一个想法，是想到上次做的，寻找最长（（（（））））))) ，using stack. \n",
    "\n",
    "pop 不一样的index, 记录长度。max求解。 问题上面只有两个符号。（），abcc可以解决，但是 abca不能解决。所以用 hash,去比较前面若干个。\n",
    "\n",
    "- abcabcbb\n",
    "- 01234678\n",
    "\n",
    "- [012] 3-0 = 3\n",
    "- [345] 6-3 = 3\n",
    "- [67] 8-6 = 2\n",
    "- [8] "
   ]
  },
  {
   "cell_type": "code",
   "execution_count": null,
   "metadata": {
    "collapsed": true
   },
   "outputs": [],
   "source": [
    "abcabcbb\n",
    "abc \n",
    "abca  start += 1\n",
    "a bcab  a = false start +=1\n",
    "ab cab\n"
   ]
  },
  {
   "cell_type": "code",
   "execution_count": 25,
   "metadata": {
    "collapsed": false,
    "scrolled": false
   },
   "outputs": [
    {
     "name": "stdout",
     "output_type": "stream",
     "text": [
      "[False, False, False, False, False, False, False, False, False, False, False, False, False, False, False, False, False, False, False, False, False, False, False, False, False, False, False, False, False, False, False, False, False, False, False, False, False, False, False, False, False, False, False, False, False, False, False, False, False, False, False, False, False, False, False, False, False, False, False, False, False, False, False, False, False, False, False, False, False, False, False, False, False, False, False, False, False, False, False, False, False, False, False, False, False, False, False, False, False, False, False, False, False, False, False, False, False, False, False, False, False, False, False, False, False, False, False, False, False, False, False, False, False, False, False, False, False, False, False, False, False, False, False, False, False, False, False, False, False, False, False, False, False, False, False, False, False, False, False, False, False, False, False, False, False, False, False, False, False, False, False, False, False, False, False, False, False, False, False, False, False, False, False, False, False, False, False, False, False, False, False, False, False, False, False, False, False, False, False, False, False, False, False, False, False, False, False, False, False, False, False, False, False, False, False, False, False, False, False, False, False, False, False, False, False, False, False, False, False, False, False, False, False, False, False, False, False, False, False, False, False, False, False, False, False, False, False, False, False, False, False, False, False, False, False, False, False, False, False, False, False, False, False, False, False, False, False, False, False, False, False, False, False, False, False, False]\n"
     ]
    }
   ],
   "source": [
    "visited = [False for _ in range(256)]\n",
    "print(visited)"
   ]
  },
  {
   "cell_type": "code",
   "execution_count": 24,
   "metadata": {
    "collapsed": false
   },
   "outputs": [
    {
     "name": "stdout",
     "output_type": "stream",
     "text": [
      "97\n",
      "98\n",
      "99\n"
     ]
    }
   ],
   "source": [
    "print(ord('a'))\n",
    "print(ord('b'))\n",
    "print(ord('c'))\n",
    "# for i, char in enumerate(a):\n",
    "#     print(ord(char))"
   ]
  },
  {
   "cell_type": "markdown",
   "metadata": {},
   "source": [
    "# 3. [Substring with Concatenation of All Words | 30](https://leetcode.com/problems/substring-with-concatenation-of-all-words/)"
   ]
  },
  {
   "cell_type": "code",
   "execution_count": null,
   "metadata": {
    "collapsed": true
   },
   "outputs": [],
   "source": [
    "You are given a string, s, and a list of words, words, that are all of the same length. \n",
    "Find all starting indices of substring(s) in s \n",
    "that is a concatenation of each word in words exactly once and without any intervening characters.\n",
    "\n",
    "For example, given:\n",
    "s: \"barfoothefoobarman\"\n",
    "words: [\"foo\", \"bar\"]\n",
    "\n",
    "You should return the indices: [0,9].\n",
    "(order does not matter)."
   ]
  },
  {
   "cell_type": "markdown",
   "metadata": {},
   "source": [
    "## Solution"
   ]
  },
  {
   "cell_type": "code",
   "execution_count": 17,
   "metadata": {
    "collapsed": true
   },
   "outputs": [],
   "source": [
    "# Time: O(m * n * k)\n",
    "# Space: O(n * k)\n",
    "# Substirng with concatenation of all words\n",
    "\n",
    "import collections\n",
    "\n",
    "class Solution:\n",
    "    # @param S, a string\n",
    "    # @param L, a list of string\n",
    "    # @return a list of integer\n",
    "    def findSubstring(self, S, L):\n",
    "        result, word_num, word_len = [], len(L), len(L[0])\n",
    "        words = collections.defaultdict(int)\n",
    "        for i in L:\n",
    "            words[i] += 1\n",
    "\n",
    "        for i in xrange(len(S) + 1 - word_len * word_num):\n",
    "            cur, j = collections.defaultdict(int), 0\n",
    "            while j < word_num:\n",
    "                word = S[i + j * word_len:i + j * word_len + word_len]\n",
    "                if word not in words: \n",
    "                    break\n",
    "                cur[word] += 1\n",
    "                if cur[word] > words[word]:\n",
    "                    break\n",
    "                j += 1\n",
    "            if j == word_num:\n",
    "                result.append(i)\n",
    "                \n",
    "        return result"
   ]
  },
  {
   "cell_type": "code",
   "execution_count": 18,
   "metadata": {
    "collapsed": false
   },
   "outputs": [
    {
     "name": "stdout",
     "output_type": "stream",
     "text": [
      "[0, 9]\n"
     ]
    }
   ],
   "source": [
    "print Solution().findSubstring(\"barfoothefoobarman\", [\"foo\", \"bar\"])"
   ]
  },
  {
   "cell_type": "markdown",
   "metadata": {},
   "source": [
    "# 4. [Valid Sudoku | 36](https://leetcode.com/problems/valid-sudoku/)"
   ]
  },
  {
   "cell_type": "markdown",
   "metadata": {},
   "source": [
    "Determine if a Sudoku is valid, according to: Sudoku Puzzles - The Rules.\n",
    "\n",
    "The Sudoku board could be partially filled, where empty cells are filled with the character '.'.\n",
    "\n",
    "![sudoku](http://upload.wikimedia.org/wikipedia/commons/thumb/f/ff/Sudoku-by-L2G-20050714.svg/250px-Sudoku-by-L2G-20050714.svg.png)\n",
    "\n",
    "A partially filled sudoku which is valid."
   ]
  },
  {
   "cell_type": "code",
   "execution_count": null,
   "metadata": {
    "collapsed": true
   },
   "outputs": [],
   "source": [
    "class Solution(object):\n",
    "    def isValidSudoku(self, board):\n",
    "        \"\"\"\n",
    "        :type board: List[List[str]]\n",
    "        :rtype: bool\n",
    "        \"\"\"\n",
    "        for i in xrange(9):\n",
    "            if not self.isValidList([board[i][j] for j in xrange(9)]) or \\\n",
    "               not self.isValidList([board[j][i] for j in xrange(9)]):\n",
    "                return False\n",
    "        for i in xrange(3):\n",
    "            for j in xrange(3):\n",
    "                if not self.isValidList([board[m][n] for n in xrange(3 * j, 3 * j + 3) \\\n",
    "                                                     for m in xrange(3 * i, 3 * i + 3)]):\n",
    "                    return False\n",
    "        return True\n",
    "    \n",
    "    def isValidList(self, xs):\n",
    "        xs = filter(lambda x: x != '.', xs)\n",
    "        return len(set(xs)) == len(xs)\n",
    "\n",
    "\n",
    "if __name__ == \"__main__\":\n",
    "    board = [[1, '.', '.', '.', '.', '.', '.', '.', '.'],\n",
    "             ['.', 2, '.', '.', '.', '.', '.', '.', '.'],\n",
    "             ['.', '.', 3, '.', '.', '.', '.', '.', '.'],\n",
    "             ['.', '.', '.', 4, '.', '.', '.', '.', '.'],\n",
    "             ['.', '.', '.', '.', 5, '.', '.', '.', '.'],\n",
    "             ['.', '.', '.', '.', '.', 6, '.', '.', '.'],\n",
    "             ['.', '.', '.', '.', '.', '.', 7, '.', '.'],\n",
    "             ['.', '.', '.', '.', '.', '.', '.', 8, '.'],\n",
    "             ['.', '.', '.', '.', '.', '.', '.', '.', 9]]\n",
    "    print Solution().isValidSudoku(board)"
   ]
  },
  {
   "cell_type": "markdown",
   "metadata": {},
   "source": [
    "# 5. [Group Anagrams | 49](https://leetcode.com/problems/anagrams/)  "
   ]
  },
  {
   "cell_type": "code",
   "execution_count": null,
   "metadata": {
    "collapsed": true
   },
   "outputs": [],
   "source": [
    "Given an array of strings, group anagrams together.\n",
    "\n",
    "For example, given: [\"eat\", \"tea\", \"tan\", \"ate\", \"nat\", \"bat\"], \n",
    "Return:\n",
    "\n",
    "[\n",
    "  [\"ate\", \"eat\",\"tea\"],\n",
    "  [\"nat\",\"tan\"],\n",
    "  [\"bat\"]\n",
    "]\n",
    "Note: All inputs will be in lower-case."
   ]
  },
  {
   "cell_type": "markdown",
   "metadata": {},
   "source": [
    "![hash table](http://img.blog.csdn.net/20170331151826705?watermark/2/text/aHR0cDovL2Jsb2cuY3Nkbi5uZXQvTHplZG8=/font/5a6L5L2T/fontsize/400/fill/I0JBQkFCMA==/dissolve/70/gravity/SouthEast)"
   ]
  },
  {
   "cell_type": "code",
   "execution_count": 19,
   "metadata": {
    "collapsed": true
   },
   "outputs": [],
   "source": [
    "# Time:\n",
    "# Space:\n",
    "# 49. Group Anagrams\n",
    "\n",
    "class Solution(object):\n",
    "    def groupAnagrams(self, strs):\n",
    "        \"\"\"\n",
    "        :type strs: List[str]\n",
    "        :rtype: List[List[str]]\n",
    "        \"\"\"\n",
    "        anagrams_map, result = collections.defaultdict(list), []\n",
    "        for s in strs:\n",
    "            sorted_str = (\"\").join(sorted(s))\n",
    "            anagrams_map[sorted_str].append(s)\n",
    "        for anagram in anagrams_map.values():\n",
    "            anagram.sort()\n",
    "            result.append(anagram)\n",
    "        return result"
   ]
  },
  {
   "cell_type": "code",
   "execution_count": 20,
   "metadata": {
    "collapsed": false
   },
   "outputs": [
    {
     "name": "stdout",
     "output_type": "stream",
     "text": [
      "[['dog'], ['mac'], ['act', 'cat']]\n"
     ]
    }
   ],
   "source": [
    "result = Solution().groupAnagrams([\"cat\", \"dog\", \"act\", \"mac\"])\n",
    "print result"
   ]
  },
  {
   "cell_type": "markdown",
   "metadata": {},
   "source": [
    "# 6. [Minimum Window Substring | 76](https://leetcode.com/problems/minimum-window-substring/) "
   ]
  },
  {
   "cell_type": "code",
   "execution_count": null,
   "metadata": {
    "collapsed": true
   },
   "outputs": [],
   "source": [
    "Given a string S and a string T, find the minimum window \n",
    "in S which will contain all the characters in T in complexity O(n).\n",
    "\n",
    "For example,\n",
    "S = \"ADOBECODEBANC\"\n",
    "T = \"ABC\"\n",
    "Minimum window is \"BANC\".\n",
    "\n",
    "Note:\n",
    "If there is no such window in S that covers all characters in T, return the empty string \"\".\n",
    "\n",
    "If there are multiple such windows, you are guaranteed that there will always be only one unique minimum window in S."
   ]
  },
  {
   "cell_type": "markdown",
   "metadata": {},
   "source": [
    "![minimum window substring](http://larrylisblog.net/WebContents/images/WindowSearch.png)"
   ]
  },
  {
   "cell_type": "markdown",
   "metadata": {},
   "source": [
    "# Solution"
   ]
  },
  {
   "cell_type": "code",
   "execution_count": null,
   "metadata": {
    "collapsed": true
   },
   "outputs": [],
   "source": [
    "class Solution(object):\n",
    "    def minWindow(self, s, t):\n",
    "        \"\"\"\n",
    "        :type s: str\n",
    "        :type t: str\n",
    "        :rtype: str\n",
    "        \"\"\"\n",
    "        current_count = [0 for i in xrange(52)]\n",
    "        expected_count = [0 for i in xrange(52)]\n",
    "        \n",
    "        for char in t:\n",
    "            expected_count[ord(char) - ord('a')] += 1\n",
    "        \n",
    "        i, count, start, min_width, min_start = 0, 0, 0, float(\"inf\"), 0\n",
    "        while i < len(s):\n",
    "            current_count[ord(s[i]) - ord('a')] += 1\n",
    "            if current_count[ord(s[i]) - ord('a')] <= expected_count[ord(s[i]) - ord('a')]:\n",
    "                count += 1\n",
    "            \n",
    "            if count == len(t):\n",
    "                while expected_count[ord(s[start]) - ord('a')] == 0 or \\\n",
    "                      current_count[ord(s[start]) - ord('a')] > expected_count[ord(s[start]) - ord('a')]:\n",
    "                    current_count[ord(s[start]) - ord('a')] -= 1\n",
    "                    start += 1\n",
    "                \n",
    "                if min_width > i - start + 1:\n",
    "                    min_width = i - start + 1\n",
    "                    min_start = start\n",
    "            i += 1\n",
    "                    \n",
    "        if min_width == float(\"inf\"):\n",
    "            return \"\"\n",
    "        \n",
    "        return s[min_start:min_start + min_width]\n",
    "\n",
    "\n",
    "if __name__ == \"__main__\":\n",
    "    print Solution().minWindow(\"ADOBECODEBANC\", \"ABC\")   "
   ]
  },
  {
   "cell_type": "markdown",
   "metadata": {
    "collapsed": true
   },
   "source": [
    "## Notes"
   ]
  },
  {
   "cell_type": "markdown",
   "metadata": {},
   "source": [
    "## 找最长子串三部曲\n",
    "\n",
    "1.**two choices**: ))()()))(((()))) -> 8   —— 《32 Longest Valid Parentheses》 \n",
    "\n",
    "- 方法：**stack**: pop，push\n",
    "\n",
    "2.**n choices**： \"abcabcbb\", -> \"abc\" ——《3 Longest Substring Without Repeating Characters》\n",
    "\n",
    "- 方法：**hash table** 因为要多个值(abc)比较,stack做不了（e.g. abcb） \n",
    "\n",
    "3.**n + ? **: S = \"ADOBECODEBANC\"  T = \"ABC\" -> \"BANC\" —— 《76 minimum window substring》\n",
    "\n",
    "- 方法：**+ window move** 因为有冗余值（“DO”），但是hash table, start pointer找leftmost需要O(m),window move可以O(1)解决。\n"
   ]
  },
  {
   "cell_type": "markdown",
   "metadata": {},
   "source": [
    "# 7. [Max Points on a Line | 149](https://leetcode.com/problems/max-points-on-a-line/)"
   ]
  },
  {
   "cell_type": "code",
   "execution_count": null,
   "metadata": {
    "collapsed": true
   },
   "outputs": [],
   "source": [
    "Given n points on a 2D plane, find the maximum number of points that lie on the same straight line."
   ]
  },
  {
   "cell_type": "markdown",
   "metadata": {},
   "source": [
    " ![max points on a line ](http://2.bp.blogspot.com/-mR7mIjfjnEw/Ut0s57Wh-SI/AAAAAAAAAm4/g584Tfy6mJg/s1600/Picture1.png)"
   ]
  },
  {
   "cell_type": "code",
   "execution_count": null,
   "metadata": {
    "collapsed": true
   },
   "outputs": [],
   "source": [
    "# Time:  O(n^2)\n",
    "# Space: O(n)\n",
    "# Max Points on a line \n",
    "\n",
    "class Point:\n",
    "    def __init__(self, a=0, b=0):\n",
    "        self.x = a\n",
    "        self.y = b\n",
    "\n",
    "class Solution(object):\n",
    "    def maxPoints(self, points):\n",
    "        \"\"\"\n",
    "        :type points: List[Point]\n",
    "        :rtype: int\n",
    "        \"\"\"\n",
    "        max_points = 0\n",
    "        for i, start in enumerate(points):\n",
    "            slope_count, same = collections.defaultdict(int), 1\n",
    "            for j in xrange(i + 1, len(points)):\n",
    "                end = points[j]\n",
    "                if start.x == end.x and start.y == end.y:\n",
    "                    same += 1\n",
    "                else:\n",
    "                    slope = float(\"inf\")\n",
    "                    if start.x - end.x != 0:\n",
    "                        slope = (start.y - end.y) * 1.0 / (start.x - end.x)\n",
    "                    slope_count[slope] += 1\n",
    "            \n",
    "            current_max = same            \n",
    "            for slope in slope_count:\n",
    "                current_max = max(current_max, slope_count[slope] + same)\n",
    "                \n",
    "            max_points = max(max_points, current_max)\n",
    "            \n",
    "        return max_points\n",
    "\n",
    "if __name__ == \"__main__\":\n",
    "    print Solution().maxPoints([Point(), Point(), Point()])"
   ]
  },
  {
   "cell_type": "markdown",
   "metadata": {},
   "source": [
    "# 8. [Longest Substring with At Most Two Distinct Characters | 159](https://leetcode.com/problems/longest-substring-with-at-most-two-distinct-characters/)"
   ]
  },
  {
   "cell_type": "code",
   "execution_count": 22,
   "metadata": {
    "collapsed": false
   },
   "outputs": [
    {
     "ename": "SyntaxError",
     "evalue": "invalid syntax (<ipython-input-22-f47ba913d8d0>, line 1)",
     "output_type": "error",
     "traceback": [
      "\u001b[0;36m  File \u001b[0;32m\"<ipython-input-22-f47ba913d8d0>\"\u001b[0;36m, line \u001b[0;32m1\u001b[0m\n\u001b[0;31m    Given a string, find the length of the longest substring T\u001b[0m\n\u001b[0m          ^\u001b[0m\n\u001b[0;31mSyntaxError\u001b[0m\u001b[0;31m:\u001b[0m invalid syntax\n"
     ]
    }
   ],
   "source": [
    "Given a string, find the length of the longest substring T \n",
    "that contains at most 2 distinct characters.\n",
    "\n",
    "For example, Given s = \"eceba\",\n",
    "\n",
    "T is \"ece\" which its length is 3."
   ]
  },
  {
   "cell_type": "markdown",
   "metadata": {},
   "source": [
    "![longest substring](http://www.tachenov.name/2015/strings.svg)"
   ]
  },
  {
   "cell_type": "code",
   "execution_count": null,
   "metadata": {
    "collapsed": true
   },
   "outputs": [],
   "source": [
    "# Time:  O(n)\n",
    "# Space: O(1)\n",
    "# longest substring with at most two distinct characters\n",
    "\n",
    "class Solution:\n",
    "    # @param s, a string\n",
    "    # @return an integer\n",
    "    def lengthOfLongestSubstringTwoDistinct(self, s):\n",
    "        longest, start, distinct_count, visited = 0, 0, 0, [0 for _ in xrange(256)]\n",
    "        for i, char in enumerate(s):\n",
    "            if visited[ord(char)] == 0:\n",
    "                distinct_count += 1\n",
    "            visited[ord(char)] += 1\n",
    "            \n",
    "            while distinct_count > 2:\n",
    "                visited[ord(s[start])] -= 1\n",
    "                if visited[ord(s[start])] == 0:\n",
    "                    distinct_count -= 1\n",
    "                start += 1\n",
    "  \n",
    "            longest = max(longest, i - start + 1)\n",
    "        return longest\n",
    "    \n",
    "if __name__ == \"__main__\":\n",
    "    print Solution().lengthOfLongestSubstringTwoDistinct(\"eceba\")"
   ]
  },
  {
   "cell_type": "code",
   "execution_count": null,
   "metadata": {
    "collapsed": true
   },
   "outputs": [],
   "source": [
    "http://www.cnblogs.com/grandyang/p/5185561.html"
   ]
  },
  {
   "cell_type": "markdown",
   "metadata": {},
   "source": [
    "# 9. [Two Sum III - Data structure design | 170](https://leetcode.com/problems/two-sum-iii-data-structure-design/) "
   ]
  },
  {
   "cell_type": "code",
   "execution_count": null,
   "metadata": {
    "collapsed": true
   },
   "outputs": [],
   "source": [
    "Design and implement a TwoSum class. It should support the following operations: add and find.\n",
    "\n",
    "add - Add the number to an internal data structure.\n",
    "find - Find if there exists any pair of numbers which sum is equal to the value.\n",
    "\n",
    "For example,\n",
    "add(1); add(3); add(5);\n",
    "find(4) -> true\n",
    "find(7) -> false"
   ]
  },
  {
   "cell_type": "code",
   "execution_count": null,
   "metadata": {
    "collapsed": true
   },
   "outputs": [],
   "source": [
    "# Time:  O(n)\n",
    "# Space: O(n)\n",
    "\n",
    "from collections import defaultdict\n",
    "\n",
    "class TwoSum(object):\n",
    "\n",
    "    def __init__(self):\n",
    "        \"\"\"\n",
    "        initialize your data structure here\n",
    "        \"\"\"\n",
    "        self.lookup = defaultdict(int)\n",
    "        \n",
    "\n",
    "\n",
    "    def add(self, number):\n",
    "        \"\"\"\n",
    "        Add the number to an internal data structure.\n",
    "        :rtype: nothing\n",
    "        \"\"\"\n",
    "        self.lookup[number] += 1\n",
    "\n",
    "\n",
    "    def find(self, value):\n",
    "        \"\"\"\n",
    "        Find if there exists any pair of numbers which sum is equal to the value.\n",
    "        :type value: int\n",
    "        :rtype: bool\n",
    "        \"\"\"\n",
    "        for key in self.lookup:\n",
    "            num = value - key\n",
    "            if num in self.lookup and (num != key or self.lookup[key] > 1):\n",
    "                return True\n",
    "        return False\n",
    "\n",
    "\n",
    "if __name__ == \"__main__\":\n",
    "    Sol = TwoSum()\n",
    "    \n",
    "    for i in (1, 3, 5):\n",
    "        Sol.add(i)\n",
    "    \n",
    "    for i in (4, 7):\n",
    "        print Sol.find(i)"
   ]
  },
  {
   "cell_type": "markdown",
   "metadata": {},
   "source": [
    "# 10. [Repeated DNA Sequences | 187](https://leetcode.com/problems/repeated-dna-sequences/)"
   ]
  },
  {
   "cell_type": "code",
   "execution_count": null,
   "metadata": {
    "collapsed": true
   },
   "outputs": [],
   "source": [
    "All DNA is composed of a series of nucleotides abbreviated as A, C, G, and T, \n",
    "for example: \"ACGAATTCCG\". When studying DNA, it is sometimes useful to identify repeated sequences within the DNA.\n",
    "\n",
    "Write a function to find all the 10-letter-long sequences (substrings) that occur more than once in a DNA molecule.\n",
    "\n",
    "For example,\n",
    "\n",
    "Given s = \"AAAAACCCCCAAAAACCCCCCAAAAAGGGTTT\",\n",
    "\n",
    "Return:\n",
    "[\"AAAAACCCCC\", \"CCCCCAAAAA\"]."
   ]
  },
  {
   "cell_type": "code",
   "execution_count": 23,
   "metadata": {
    "collapsed": true
   },
   "outputs": [],
   "source": [
    "# Time:  O(n)\n",
    "# Space: O(n)\n",
    "# repeated DNA sequences \n",
    "\n",
    "import collections\n",
    "\n",
    "class Solution:\n",
    "    # @param s, a string\n",
    "    # @return a list of strings\n",
    "    def findRepeatedDnaSequences(self, s):\n",
    "        dict, rolling_hash, res = {}, 0, []\n",
    "\n",
    "        for i in xrange(len(s)):\n",
    "            rolling_hash = rolling_hash << 3 & 0x3fffffff | ord(s[i]) & 7\n",
    "            if rolling_hash not in dict:\n",
    "                dict[rolling_hash] = True\n",
    "            elif dict[rolling_hash]:\n",
    "                res.append(s[i - 9: i + 1])\n",
    "                dict[rolling_hash] = False\n",
    "        return res\n",
    "\n",
    "    def findRepeatedDnaSequences2(self, s):\n",
    "        \"\"\"\n",
    "        :type s: str\n",
    "        :rtype: List[str]\n",
    "        \"\"\"\n",
    "        l, r = [], []\n",
    "        if len(s) < 10: return []\n",
    "        for i in range(len(s) - 9):\n",
    "            l.extend([s[i:i + 10]])\n",
    "        return [k for k, v in collections.Counter(l).items() if v > 1]\n"
   ]
  },
  {
   "cell_type": "code",
   "execution_count": 24,
   "metadata": {
    "collapsed": false
   },
   "outputs": [
    {
     "name": "stdout",
     "output_type": "stream",
     "text": [
      "[]\n",
      "[]\n",
      "['AAAAACCCCC', 'CCCCCAAAAA']\n"
     ]
    }
   ],
   "source": [
    "print Solution().findRepeatedDnaSequences(\"AAAAAAAAAA\")\n",
    "print Solution().findRepeatedDnaSequences(\"\")\n",
    "print Solution().findRepeatedDnaSequences(\"AAAAACCCCCAAAAACCCCCCAAAAAGGGTTT\")"
   ]
  },
  {
   "cell_type": "code",
   "execution_count": null,
   "metadata": {
    "collapsed": true
   },
   "outputs": [],
   "source": [
    "http://www.cnblogs.com/grandyang/p/4284205.html"
   ]
  },
  {
   "cell_type": "markdown",
   "metadata": {},
   "source": [
    "# 11. |202| [Happy Number](https://leetcode.com/problems/happy-number/)      | [C++](./C++/happy-number.cpp) [Python](./Python/happy-number.py)   | _O(k)_  | _O(k)_          | Easy          ||"
   ]
  },
  {
   "cell_type": "code",
   "execution_count": null,
   "metadata": {
    "collapsed": true
   },
   "outputs": [],
   "source": [
    "Write an algorithm to determine if a number is \"happy\".\n",
    "\n",
    "A happy number is a number defined by the following process: Starting with any positive integer, \n",
    "replace the number by the sum of the squares of its digits, \n",
    "and repeat the process until the number equals 1 (where it will stay), \n",
    "or it loops endlessly in a cycle which does not include 1.\n",
    "Those numbers for which this process ends in 1 are happy numbers.\n",
    "\n",
    "Example: 19 is a happy number\n",
    "\n",
    "12 + 92 = 82\n",
    "82 + 22 = 68\n",
    "62 + 82 = 100\n",
    "12 + 02 + 02 = 1"
   ]
  },
  {
   "cell_type": "markdown",
   "metadata": {},
   "source": [
    "![happy number](https://raw.githubusercontent.com/ghpabs/happy-number/master/happy-number.gif)"
   ]
  },
  {
   "cell_type": "code",
   "execution_count": null,
   "metadata": {
    "collapsed": true
   },
   "outputs": [],
   "source": [
    "If n is not happy, then its sequence does not Go to 1. Instead, it ends in the cycle:\n",
    "\n",
    "4, 16, 37, 58, 89, 145, 42, 20, 4, ..."
   ]
  },
  {
   "cell_type": "code",
   "execution_count": 30,
   "metadata": {
    "collapsed": true
   },
   "outputs": [],
   "source": [
    "# Time:  O(k), where k is the steps to be happy number | O(1)\n",
    "# Space: O(k) | O(1)\n",
    "# Happy Number \n",
    "\n",
    "class Solution:\n",
    "    \"\"\"\n",
    "    :type n: int\n",
    "    :rtype: bool\n",
    "    \"\"\"\n",
    "    def isHappy(self, n):\n",
    "        lookup = {}\n",
    "        while n != 1 and n not in lookup:\n",
    "            lookup[n] = True\n",
    "            n = self.nextNumber(n)\n",
    "            print lookup\n",
    "        return n == 1\n",
    "    \n",
    "    def nextNumber(self, n):\n",
    "        new = 0\n",
    "        for char in str(n):\n",
    "            new += int(char)**2\n",
    "        return new"
   ]
  },
  {
   "cell_type": "code",
   "execution_count": 31,
   "metadata": {
    "collapsed": false,
    "scrolled": true
   },
   "outputs": [
    {
     "name": "stdout",
     "output_type": "stream",
     "text": [
      "{4: True}\n",
      "{16: True, 4: True}\n",
      "{16: True, 4: True, 37: True}\n",
      "{16: True, 58: True, 4: True, 37: True}\n",
      "{16: True, 89: True, 58: True, 4: True, 37: True}\n",
      "{4: True, 37: True, 16: True, 145: True, 89: True, 58: True}\n",
      "{4: True, 37: True, 42: True, 16: True, 145: True, 89: True, 58: True}\n",
      "{4: True, 37: True, 42: True, 16: True, 145: True, 20: True, 89: True, 58: True}\n",
      "False\n"
     ]
    }
   ],
   "source": [
    "print Solution().isHappy(4)"
   ]
  },
  {
   "cell_type": "code",
   "execution_count": 32,
   "metadata": {
    "collapsed": false
   },
   "outputs": [
    {
     "name": "stdout",
     "output_type": "stream",
     "text": [
      "{23: True}\n",
      "{13: True, 23: True}\n",
      "{10: True, 13: True, 23: True}\n",
      "True\n"
     ]
    }
   ],
   "source": [
    "print Solution().isHappy(23)"
   ]
  },
  {
   "cell_type": "code",
   "execution_count": 33,
   "metadata": {
    "collapsed": true
   },
   "outputs": [],
   "source": [
    "class Solution(object):\n",
    "    def isHappy(self, n):\n",
    "        \"\"\"\n",
    "        :type n: int\n",
    "        :rtype: bool\n",
    "        \"\"\"\n",
    "        # Very tricky here. Note that numbers between [2,6] are all not happy number, \n",
    "        # and all cases will fall in this range.\n",
    "        while n > 6: \n",
    "            sum = 0\n",
    "            while n:\n",
    "                sum += (n % 10) * (n % 10)\n",
    "                n /= 10\n",
    "            n = sum\n",
    "        return n == 1\n",
    "    \n",
    "# any number can fall into 1-5 by finite steps? "
   ]
  },
  {
   "cell_type": "code",
   "execution_count": 34,
   "metadata": {
    "collapsed": false
   },
   "outputs": [
    {
     "name": "stdout",
     "output_type": "stream",
     "text": [
      "True\n"
     ]
    }
   ],
   "source": [
    "print Solution().isHappy(23)"
   ]
  },
  {
   "cell_type": "code",
   "execution_count": 38,
   "metadata": {
    "collapsed": false
   },
   "outputs": [
    {
     "name": "stdout",
     "output_type": "stream",
     "text": [
      "False\n"
     ]
    }
   ],
   "source": [
    "print Solution().isHappy(8)"
   ]
  },
  {
   "cell_type": "code",
   "execution_count": null,
   "metadata": {
    "collapsed": true
   },
   "outputs": [],
   "source": [
    "https://zhuanlan.zhihu.com/p/20792857"
   ]
  },
  {
   "cell_type": "code",
   "execution_count": 35,
   "metadata": {
    "collapsed": false
   },
   "outputs": [
    {
     "data": {
      "text/plain": [
       "2"
      ]
     },
     "execution_count": 35,
     "metadata": {},
     "output_type": "execute_result"
    }
   ],
   "source": [
    "12 % 10"
   ]
  },
  {
   "cell_type": "code",
   "execution_count": 37,
   "metadata": {
    "collapsed": false
   },
   "outputs": [
    {
     "data": {
      "text/plain": [
       "1"
      ]
     },
     "execution_count": 37,
     "metadata": {},
     "output_type": "execute_result"
    }
   ],
   "source": [
    "12 / 10"
   ]
  },
  {
   "cell_type": "markdown",
   "metadata": {},
   "source": [
    "# 12. |204| [Count Primes](https://leetcode.com/problems/count-primes/)  | [C++](./C++/count-primes.cpp) [Python](./Python/count-primes.py) | _O(n)_        | _O(n)_          | Easy           ||"
   ]
  },
  {
   "cell_type": "code",
   "execution_count": null,
   "metadata": {
    "collapsed": true
   },
   "outputs": [],
   "source": [
    "Description:\n",
    "\n",
    "Count the number of prime numbers less than a non-negative number, n."
   ]
  },
  {
   "cell_type": "markdown",
   "metadata": {},
   "source": [
    "![count primes](https://leetcode.com/static/images/solutions/Sieve_of_Eratosthenes_animation.gif)"
   ]
  },
  {
   "cell_type": "code",
   "execution_count": 72,
   "metadata": {
    "collapsed": true
   },
   "outputs": [],
   "source": [
    "# Time:  O(n)\n",
    "# Space: O(n)\n",
    "# Count Prime\n",
    "\n",
    "class Solution:\n",
    "    # @param {integer} n\n",
    "    # @return {integer}\n",
    "    def countPrimes(self, n):\n",
    "        if n <= 2:\n",
    "            return 0\n",
    "        \n",
    "        is_prime = [True] * n\n",
    "        num = n / 2\n",
    "        for i in xrange(3, n, 2):\n",
    "            print \"start:\", i\n",
    "            if i * i >= n:\n",
    "                break\n",
    "\n",
    "            if not is_prime[i]:\n",
    "                continue\n",
    "\n",
    "            for j in xrange(i*i, n, 2*i):\n",
    "                if not is_prime[j]:\n",
    "                    continue\n",
    "\n",
    "                num -= 1\n",
    "                is_prime[j] = False\n",
    "            print \"  end:\", i\n",
    "            print \"  num:\", num\n",
    "            print \n",
    "\n",
    "        return num"
   ]
  },
  {
   "cell_type": "code",
   "execution_count": 73,
   "metadata": {
    "collapsed": false
   },
   "outputs": [
    {
     "name": "stdout",
     "output_type": "stream",
     "text": [
      "start: 3\n",
      "  end: 3\n",
      "  num: 9\n",
      "\n",
      "start: 5\n",
      "9\n"
     ]
    }
   ],
   "source": [
    "print Solution().countPrimes(25)"
   ]
  },
  {
   "cell_type": "code",
   "execution_count": 74,
   "metadata": {
    "collapsed": false,
    "scrolled": true
   },
   "outputs": [
    {
     "name": "stdout",
     "output_type": "stream",
     "text": [
      "start: 3\n",
      "  end: 3\n",
      "  num: 41\n",
      "\n",
      "start: 5\n",
      "  end: 5\n",
      "  num: 34\n",
      "\n",
      "start: 7\n",
      "  end: 7\n",
      "  num: 30\n",
      "\n",
      "start: 9\n",
      "start: 11\n",
      "30\n"
     ]
    }
   ],
   "source": [
    "print Solution().countPrimes(120)"
   ]
  },
  {
   "cell_type": "code",
   "execution_count": 76,
   "metadata": {
    "collapsed": false
   },
   "outputs": [
    {
     "name": "stdout",
     "output_type": "stream",
     "text": [
      "start: 3\n",
      "  end: 3\n",
      "  num: 334\n",
      "\n",
      "start: 5\n",
      "  end: 5\n",
      "  num: 268\n",
      "\n",
      "start: 7\n",
      "  end: 7\n",
      "  num: 231\n",
      "\n",
      "start: 9\n",
      "start: 11\n",
      "  end: 11\n",
      "  num: 211\n",
      "\n",
      "start: 13\n",
      "  end: 13\n",
      "  num: 195\n",
      "\n",
      "start: 15\n",
      "start: 17\n",
      "  end: 17\n",
      "  num: 185\n",
      "\n",
      "start: 19\n",
      "  end: 19\n",
      "  num: 177\n",
      "\n",
      "start: 21\n",
      "start: 23\n",
      "  end: 23\n",
      "  num: 171\n",
      "\n",
      "start: 25\n",
      "start: 27\n",
      "start: 29\n",
      "  end: 29\n",
      "  num: 169\n",
      "\n",
      "start: 31\n",
      "  end: 31\n",
      "  num: 168\n",
      "\n",
      "start: 33\n",
      "168\n"
     ]
    }
   ],
   "source": [
    "print Solution().countPrimes(1000)"
   ]
  },
  {
   "cell_type": "code",
   "execution_count": null,
   "metadata": {
    "collapsed": true
   },
   "outputs": [],
   "source": [
    "class Solution:\n",
    "    def countPrimes2(self, n):\n",
    "        \"\"\"\n",
    "        :type n: int\n",
    "        :rtype: int\n",
    "        \"\"\"\n",
    "        if n < 3:\n",
    "            return 0\n",
    "        primes = [True] * n\n",
    "        primes[0] = primes[1] = False\n",
    "        for i in range(2, int(n ** 0.5) + 1):\n",
    "            if primes[i]:\n",
    "                primes[i * i: n: i] = [False] * len(primes[i * i: n: i])\n",
    "        return sum(primes)"
   ]
  },
  {
   "cell_type": "code",
   "execution_count": 91,
   "metadata": {
    "collapsed": true
   },
   "outputs": [],
   "source": [
    "class Solution:\n",
    "    def countPrimes2(self, n):\n",
    "        \"\"\"\n",
    "        :type n: int\n",
    "        :rtype: int\n",
    "        \"\"\"\n",
    "        if n < 3:\n",
    "            return 0\n",
    "        primes = [True] * n\n",
    "        primes[0] = primes[1] = False\n",
    "        for i in range(2, int(n ** 0.5) + 1):\n",
    "            print i\n",
    "            if primes[i]:\n",
    "                primes[i * i: n: i] = [False] * len(primes[i * i: n: i])\n",
    "                print \"in:\",i\n",
    "        return sum(primes)"
   ]
  },
  {
   "cell_type": "code",
   "execution_count": 92,
   "metadata": {
    "collapsed": false
   },
   "outputs": [
    {
     "name": "stdout",
     "output_type": "stream",
     "text": [
      "2\n",
      "in: 2\n",
      "3\n",
      "in: 3\n",
      "4\n",
      "5\n",
      "in: 5\n",
      "6\n",
      "7\n",
      "in: 7\n",
      "8\n",
      "9\n",
      "10\n",
      "30\n"
     ]
    }
   ],
   "source": [
    "print Solution().countPrimes2(120)"
   ]
  },
  {
   "cell_type": "code",
   "execution_count": 79,
   "metadata": {
    "collapsed": false,
    "scrolled": true
   },
   "outputs": [
    {
     "name": "stdout",
     "output_type": "stream",
     "text": [
      "0\n"
     ]
    }
   ],
   "source": [
    "primes = [False] * 5\n",
    "print sum(primes)"
   ]
  },
  {
   "cell_type": "code",
   "execution_count": 86,
   "metadata": {
    "collapsed": false
   },
   "outputs": [
    {
     "name": "stdout",
     "output_type": "stream",
     "text": [
      "[False, False, False]\n",
      "[0, False, 2, False, 4, False, 6]\n"
     ]
    }
   ],
   "source": [
    "test = [0,1,2,3,4,5,6]\n",
    "test[1:7:2] = [False] * len(test[1:7:2])\n",
    "print test[1:7:2] # start, stop, step\n",
    "print test"
   ]
  },
  {
   "cell_type": "code",
   "execution_count": 93,
   "metadata": {
    "collapsed": false
   },
   "outputs": [
    {
     "data": {
      "text/plain": [
       "3.4641016151377544"
      ]
     },
     "execution_count": 93,
     "metadata": {},
     "output_type": "execute_result"
    }
   ],
   "source": [
    "12 ** 0.5"
   ]
  },
  {
   "cell_type": "code",
   "execution_count": null,
   "metadata": {
    "collapsed": true
   },
   "outputs": [],
   "source": [
    "http://buttercola.blogspot.com/2015/08/leetcode-count-primes.html"
   ]
  },
  {
   "cell_type": "markdown",
   "metadata": {},
   "source": [
    "# 13. |205| [Isomorphic Strings](https://leetcode.com/problems/isomorphic-strings/) | [C++](./C++/isomorphic-strings.cpp) [Python](./Python/isomorphic-strings.py) | _O(n)_ | _O(1)_       | Easy           || \n"
   ]
  },
  {
   "cell_type": "code",
   "execution_count": null,
   "metadata": {
    "collapsed": true
   },
   "outputs": [],
   "source": [
    "Given two strings s and t, determine if they are isomorphic.\n",
    "\n",
    "Two strings are isomorphic if the characters in s can be replaced to get t.\n",
    "\n",
    "All occurrences of a character must be replaced with another character \n",
    "while preserving the order of characters. No two characters may map to \n",
    "the same character but a character may map to itself.\n",
    "\n",
    "For example,\n",
    "Given \"egg\", \"add\", return true.\n",
    "\n",
    "Given \"foo\", \"bar\", return false.\n",
    "\n",
    "Given \"paper\", \"title\", return true.\n",
    "\n",
    "Note:\n",
    "You may assume both s and t have the same length."
   ]
  },
  {
   "cell_type": "markdown",
   "metadata": {},
   "source": [
    "![isomorphic](http://img2016.itdadao.com/d/file/tech/2016/12/19/it301143192045521.png)"
   ]
  },
  {
   "cell_type": "code",
   "execution_count": null,
   "metadata": {
    "collapsed": true
   },
   "outputs": [],
   "source": [
    "# Time:  O(n)\n",
    "# Space: O(1)\n",
    "# Ismorphic strings\n",
    "\n",
    "from itertools import izip  # Generator version of zip.\n",
    "\n",
    "class Solution(object):\n",
    "    def isIsomorphic(self, s, t):\n",
    "        \"\"\"\n",
    "        :type s: str\n",
    "        :type t: str\n",
    "        :rtype: bool\n",
    "        \"\"\"\n",
    "        if len(s) != len(t):\n",
    "            return False\n",
    "\n",
    "        s2t, t2s = {}, {}\n",
    "        for p, w in izip(s, t):\n",
    "            if w not in s2t and p not in t2s:\n",
    "                s2t[w] = p\n",
    "                t2s[p] = w \n",
    "            elif w not in s2t or s2t[w] != p:\n",
    "                # Contradict mapping.\n",
    "                return False\n",
    "        return True"
   ]
  },
  {
   "cell_type": "code",
   "execution_count": null,
   "metadata": {
    "collapsed": true
   },
   "outputs": [],
   "source": [
    "http://www.itdadao.com/articles/c15a1000837p0.html"
   ]
  },
  {
   "cell_type": "markdown",
   "metadata": {},
   "source": [
    "# 14. |217| [Contains Duplicate](https://leetcode.com/problems/contains-duplicate/)  | [C++](./C++/contains-duplicate.cpp) [Python](./Python/contains-duplicate.py) | _O(n)_        | _O(n)_          | Easy           ||"
   ]
  },
  {
   "cell_type": "code",
   "execution_count": null,
   "metadata": {
    "collapsed": true
   },
   "outputs": [],
   "source": [
    "Given an array of integers, find if the array contains any duplicates.\n",
    "Your function should return true if any value appears at least twice in the array, \n",
    "and it should return false if every element is distinct."
   ]
  },
  {
   "cell_type": "code",
   "execution_count": null,
   "metadata": {
    "collapsed": true
   },
   "outputs": [],
   "source": [
    "# Time:  O(n)\n",
    "# Space: O(n)\n",
    "# Contains Duplicate\n",
    "\n",
    "class Solution:\n",
    "    # @param {integer[]} nums\n",
    "    # @return {boolean}\n",
    "    def containsDuplicate(self, nums):\n",
    "        return len(nums) > len(set(nums))"
   ]
  },
  {
   "cell_type": "markdown",
   "metadata": {},
   "source": [
    "# 15. |219| [Contains Duplicate II](https://leetcode.com/problems/contains-duplicate-ii/)  | [C++](./C++/contains-duplicate-ii.cpp) [Python](./Python/contains-duplicate-ii.py) | _O(n)_        | _O(n)_          | Easy           ||"
   ]
  },
  {
   "cell_type": "code",
   "execution_count": null,
   "metadata": {
    "collapsed": true
   },
   "outputs": [],
   "source": [
    "Given an array of integers and an integer k, return true if \n",
    "and only if there are two distinct indices i and j in the array \n",
    "such that nums[i] = nums[j] and the difference between i and j is at most k."
   ]
  },
  {
   "cell_type": "markdown",
   "metadata": {},
   "source": [
    "![contains duplicate II]()"
   ]
  },
  {
   "cell_type": "code",
   "execution_count": null,
   "metadata": {
    "collapsed": true
   },
   "outputs": [],
   "source": [
    "# Time:  O(n)\n",
    "# Space: O(n)\n",
    "# Contains Duplicate II\n",
    "\n",
    "class Solution:\n",
    "    # @param {integer[]} nums\n",
    "    # @param {integer} k\n",
    "    # @return {boolean}\n",
    "    def containsNearbyDuplicate(self, nums, k):\n",
    "        lookup = {}\n",
    "        for i, num in enumerate(nums):\n",
    "            if num not in lookup:\n",
    "                lookup[num] = i\n",
    "            else:\n",
    "                # It the value occurs before, check the difference.\n",
    "                if i - lookup[num] <= k:\n",
    "                    return True\n",
    "                # Update the index of the value.\n",
    "                lookup[num] = i\n",
    "        return False"
   ]
  },
  {
   "cell_type": "markdown",
   "metadata": {},
   "source": [
    "# 16. |244| [Shortest Word Distance II](https://leetcode.com/problems/shortest-word-distance-ii/)     | [C++](./C++/shortest-word-distance-ii.cpp) [Python](./Python/shortest-word-distance-ii.py)  | ctor: _O(n)_, lookup: _O(a + b)_ |  _O(n)_ | Medium         |📖||"
   ]
  },
  {
   "cell_type": "code",
   "execution_count": null,
   "metadata": {
    "collapsed": true
   },
   "outputs": [],
   "source": [
    "This is a follow up of Shortest Word Distance. \n",
    "The only difference is now you are given the list of words \n",
    "and your method will be called repeatedly many times with different parameters. \n",
    "How would you optimize it?\n",
    "\n",
    "Design a class which receives a list of words in the constructor, \n",
    "and implements a method that takes two words word1 and word2 \n",
    "and return the shortest distance between these two words in the list.\n",
    "\n",
    "For example,\n",
    "Assume that words = [\"practice\", \"makes\", \"perfect\", \"coding\", \"makes\"].\n",
    "\n",
    "Given word1 = “coding”, word2 = “practice”, return 3.\n",
    "Given word1 = \"makes\", word2 = \"coding\", return 1.\n",
    "\n",
    "Note:\n",
    "You may assume that word1 does not equal to word2, and word1 and word2 are both in the list."
   ]
  },
  {
   "cell_type": "code",
   "execution_count": null,
   "metadata": {
    "collapsed": true
   },
   "outputs": [],
   "source": [
    "# Time:  init: O(n), lookup: O(a + b), a, b is occurences of word1, word2\n",
    "# Space: O(n)\n",
    "# Shortest Word Distance II \n",
    "\n",
    "class WordDistance:\n",
    "    # initialize your data structure here.\n",
    "    # @param {string[]} words\n",
    "    def __init__(self, words):\n",
    "        self.wordIndex = collections.defaultdict(list)\n",
    "        for i in xrange(len(words)):\n",
    "            self.wordIndex[words[i]].append(i)\n",
    "\n",
    "    # @param {string} word1\n",
    "    # @param {string} word2\n",
    "    # @return {integer}\n",
    "    # Adds a word into the data structure.\n",
    "    def shortest(self, word1, word2):\n",
    "        indexes1 = self.wordIndex[word1]\n",
    "        indexes2 = self.wordIndex[word2]\n",
    "\n",
    "        i, j, dist = 0, 0, float(\"inf\")\n",
    "        while i < len(indexes1) and j < len(indexes2):\n",
    "            dist = min(dist, abs(indexes1[i] - indexes2[j]))\n",
    "            if indexes1[i] < indexes2[j]:\n",
    "                i += 1\n",
    "            else:\n",
    "                j += 1\n",
    "\n",
    "        return dist"
   ]
  },
  {
   "cell_type": "code",
   "execution_count": null,
   "metadata": {
    "collapsed": true
   },
   "outputs": [],
   "source": [
    "https://segmentfault.com/a/1190000003906667"
   ]
  },
  {
   "cell_type": "markdown",
   "metadata": {},
   "source": [
    "# 17. |246| [Strobogrammatic Number](https://leetcode.com/problems/strobogrammatic-number/) | [C++](./C++/strobogrammatic-number.cpp)  [Python](./Python/strobogrammatic-number.py)  | _O(n)_ | _O(1)_ | Easy         |📖||"
   ]
  },
  {
   "cell_type": "code",
   "execution_count": null,
   "metadata": {
    "collapsed": true
   },
   "outputs": [],
   "source": [
    "A strobogrammatic number is a number that looks the same when rotated 180 degrees (looked at upside down).\n",
    "\n",
    "Write a function to determine if a number is strobogrammatic. The number is represented as a string.\n",
    "\n",
    "For example, the numbers \"69\", \"88\", and \"818\" are all strobogrammatic."
   ]
  },
  {
   "cell_type": "markdown",
   "metadata": {},
   "source": [
    "![strobogrammatic Number](https://findthefactors.files.wordpress.com/2015/11/689-rotation.jpg)"
   ]
  },
  {
   "cell_type": "code",
   "execution_count": null,
   "metadata": {
    "collapsed": true
   },
   "outputs": [],
   "source": [
    "# Time:  O(n)\n",
    "# Space: O(1)\n",
    "# Strobogrammatic Number\n",
    "\n",
    "class Solution:\n",
    "    lookup = {'0':'0', '1':'1', '6':'9', '8':'8', '9':'6'}\n",
    "\n",
    "    # @param {string} num\n",
    "    # @return {boolean}\n",
    "    def isStrobogrammatic(self, num):\n",
    "        n = len(num)\n",
    "        for i in xrange((n+1) / 2):\n",
    "            if num[n-1-i] not in self.lookup or \\\n",
    "               num[i] != self.lookup[num[n-1-i]]:\n",
    "                return False\n",
    "            i += 1\n",
    "        return True"
   ]
  },
  {
   "cell_type": "code",
   "execution_count": null,
   "metadata": {
    "collapsed": true
   },
   "outputs": [],
   "source": [
    "https://segmentfault.com/a/1190000003787462"
   ]
  },
  {
   "cell_type": "code",
   "execution_count": null,
   "metadata": {
    "collapsed": true
   },
   "outputs": [],
   "source": [
    "有一个类似的题"
   ]
  },
  {
   "cell_type": "markdown",
   "metadata": {},
   "source": [
    "# 18. |249| [Group Shifted Strings](https://leetcode.com/problems/group-shifted-strings/) | [C++](./C++/group-shifted-strings.cpp)  [Python](./Python/group-shifted-strings.py)  | _O(nlogn)_ | _O(n)_ | Easy         |📖||"
   ]
  },
  {
   "cell_type": "code",
   "execution_count": null,
   "metadata": {
    "collapsed": true
   },
   "outputs": [],
   "source": [
    "Given a string, we can \"shift\" each of its letter to its successive letter, for example: \"abc\" -> \"bcd\". \n",
    "We can keep \"shifting\" which forms the sequence:\n",
    "\"abc\" -> \"bcd\" -> ... -> \"xyz\"\n",
    "\n",
    "Given a list of strings which contains only lowercase alphabets, \n",
    "group all strings that belong to the same shifting sequence.\n",
    "\n",
    "For example, given: [\"abc\", \"bcd\", \"acef\", \"xyz\", \"az\", \"ba\", \"a\", \"z\"], \n",
    "\n",
    "Return:\n",
    "\n",
    "[\n",
    "  [\"abc\",\"bcd\",\"xyz\"],\n",
    "  [\"az\",\"ba\"],\n",
    "  [\"acef\"],\n",
    "  [\"a\",\"z\"]\n",
    "]"
   ]
  },
  {
   "cell_type": "code",
   "execution_count": null,
   "metadata": {
    "collapsed": true
   },
   "outputs": [],
   "source": [
    "# Time:  O(nlogn)\n",
    "# Space: O(n)\n",
    "\n",
    "class Solution:\n",
    "    # @param {string[]} strings\n",
    "    # @return {string[][]}\n",
    "    def groupStrings(self, strings):\n",
    "        groups = collections.defaultdict(list)\n",
    "        for s in strings:  # Grouping.\n",
    "            groups[self.hashStr(s)].append(s)\n",
    "\n",
    "        result = []\n",
    "        for key, val in groups.iteritems():\n",
    "            result.append(sorted(val))\n",
    "        \n",
    "        return result\n",
    "\n",
    "    def hashStr(self, s):\n",
    "        base = ord(s[0])\n",
    "        hashcode = \"\"\n",
    "        for i in xrange(len(s)):\n",
    "            if ord(s[i]) - base >= 0:\n",
    "                hashcode += unichr(ord('a') + ord(s[i]) - base)\n",
    "            else:\n",
    "                hashcode += unichr(ord('a') + ord(s[i]) - base + 26)\n",
    "        return hashcode"
   ]
  },
  {
   "cell_type": "code",
   "execution_count": null,
   "metadata": {
    "collapsed": true
   },
   "outputs": [],
   "source": [
    "http://www.cnblogs.com/grandyang/p/5204770.html"
   ]
  },
  {
   "cell_type": "markdown",
   "metadata": {},
   "source": [
    "# 19. |266| [Palindrome Permutation](https://leetcode.com/problems/palindrome-permutation/) | [C++](./C++/palindrome-permutation.cpp) [Python](./Python/palindrome-permutation.py)  | _O(n)_ |  _O(1)_ | Easy         |📖||"
   ]
  },
  {
   "cell_type": "code",
   "execution_count": null,
   "metadata": {
    "collapsed": true
   },
   "outputs": [],
   "source": [
    "Given a string, determine if a permutation of the string could form a palindrome.\n",
    "\n",
    "For example,\n",
    "\"code\" -> False, \"aab\" -> True, \"carerac\" -> True.\n",
    "\n",
    "Hint:\n",
    "\n",
    "Consider the palindromes of odd vs even length. What difference do you notice?\n",
    "Count the frequency of each character.\n",
    "If each character occurs even number of times, then it must be a palindrome. \n",
    "How about character which occurs odd number of times?"
   ]
  },
  {
   "cell_type": "code",
   "execution_count": null,
   "metadata": {
    "collapsed": true
   },
   "outputs": [],
   "source": [
    "# Time:  O(n)\n",
    "# Space: O(1)\n",
    "\n",
    "class Solution(object):\n",
    "    def canPermutePalindrome(self, s):\n",
    "        \"\"\"\n",
    "        :type s: str\n",
    "        :rtype: bool\n",
    "        \"\"\"\n",
    "        return sum(v % 2 for v in collections.Counter(s).values()) <  2"
   ]
  },
  {
   "cell_type": "markdown",
   "metadata": {},
   "source": [
    "# 20. |288| [Unique Word Abbreviation](https://leetcode.com/problems/unique-word-abbreviation/) | [C++](./C++/unique-word-abbreviation.cpp) [Python](./Python/unique-word-abbreviation.py)  | ctor: _O(n)_, lookup: _O(1)_ | _O(k)_ | Easy         |📖||"
   ]
  },
  {
   "cell_type": "code",
   "execution_count": null,
   "metadata": {
    "collapsed": true
   },
   "outputs": [],
   "source": [
    "An abbreviation of a word follows the form <first letter><number><last letter>. \n",
    "Below are some examples of word abbreviations:\n",
    "\n",
    "a) it                      --> it    (no abbreviation)\n",
    "\n",
    "     1\n",
    "b) d|o|g                   --> d1g\n",
    "\n",
    "              1    1  1\n",
    "     1---5----0----5--8\n",
    "c) i|nternationalizatio|n  --> i18n\n",
    "\n",
    "              1\n",
    "     1---5----0\n",
    "d) l|ocalizatio|n          --> l10n\n",
    "Assume you have a dictionary and given a word, find whether its abbreviation is unique in the dictionary. \n",
    "A word's abbreviation is unique if no other word from the dictionary has the same abbreviation.\n",
    "\n",
    "Example: \n",
    "\n",
    "Given dictionary = [ \"deer\", \"door\", \"cake\", \"card\" ]\n",
    "\n",
    "isUnique(\"dear\") -> false\n",
    "isUnique(\"cart\") -> true\n",
    "isUnique(\"cane\") -> false\n",
    "isUnique(\"make\") -> true"
   ]
  },
  {
   "cell_type": "code",
   "execution_count": null,
   "metadata": {
    "collapsed": true
   },
   "outputs": [],
   "source": [
    "# Time:  ctor:   O(n), n is number of words in the dictionary. \n",
    "#        lookup: O(1)\n",
    "# Space: O(k), k is number of unique words.\n",
    "\n",
    "class ValidWordAbbr(object):\n",
    "    def __init__(self, dictionary):\n",
    "        \"\"\"\n",
    "        initialize your data structure here.\n",
    "        :type dictionary: List[str]\n",
    "        \"\"\"\n",
    "        self.lookup_ = collections.defaultdict(set)\n",
    "        for word in dictionary:\n",
    "            abbr = self.abbreviation(word)\n",
    "            self.lookup_[abbr].add(word)\n",
    "            \n",
    "\n",
    "    def isUnique(self, word):\n",
    "        \"\"\"\n",
    "        check if a word is unique.\n",
    "        :type word: str\n",
    "        :rtype: bool\n",
    "        \"\"\"\n",
    "        abbr = self.abbreviation(word)\n",
    "        return self.lookup_[abbr] <= {word}\n",
    "\n",
    "\n",
    "    def abbreviation(self, word):\n",
    "        if len(word) <= 2:\n",
    "            return word\n",
    "        return word[0] + str(len(word)-2) + word[-1]\n",
    "\n",
    "\n",
    "# Your ValidWordAbbr object will be instantiated and called as such:\n",
    "# vwa = ValidWordAbbr(dictionary)\n",
    "# vwa.isUnique(\"word\")\n",
    "# vwa.isUnique(\"anotherWord\")"
   ]
  },
  {
   "cell_type": "code",
   "execution_count": null,
   "metadata": {
    "collapsed": true
   },
   "outputs": [],
   "source": [
    "|290| [Word Pattern](https://leetcode.com/problems/word-pattern/) | [C++](./C++/word-pattern.cpp) [Python](./Python/word-pattern.py)  | _O(n)_ | _O(c)_ | Easy         | variant of [Isomorphic Strings](https://leetcode.com/problems/isomorphic-strings/) ||\n",
    "|299| [Bulls and Cows](https://leetcode.com/problems/bulls-and-cows/) | [C++](./C++/bulls-and-cows.cpp) [Python](./Python/bulls-and-cows.py)  | _O(n)_ | _O(1)_ | Easy         |||\n",
    "|305| [Number of Islands II](https://leetcode.com/problems/number-of-islands-ii/) | [C++](./C++/number-of-islands-ii.cpp) [Python](./Python/number-of-islands-ii.py) | _O(k)_ | _O(k)_| Hard         | LintCode, 📖 | Union Find\n",
    "|314| [Binary Tree Vertical Order Traversal](https://leetcode.com/problems/binary-tree-vertical-order-traversal/) | [C++](./C++/binary-tree-vertical-order-traversal.cpp) [Python](./Python/binary-tree-vertical-order-traversal.py) | _O(n)_ | _O(n)_| Medium         | 📖 | BFS\n",
    "|323| [Number of Connected Components in an Undirected Graph](https://leetcode.com/problems/number-of-connected-components-in-an-undirected-graph/) | [C++](./C++/number-of-connected-components-in-an-undirected-graph.cpp) [Python](./Python/number-of-connected-components-in-an-undirected-graph.py) | _O(n)_ | _O(n)_| Medium         | 📖 | Union Find\n",
    "|325| [Maximum Size Subarray Sum Equals k](https://leetcode.com/problems/maximum-size-subarray-sum-equals-k/) | [C++](./C++/maximum-size-subarray-sum-equals-k.cpp) [Python](./Python/maximum-size-subarray-sum-equals-k.py) | _O(n)_ | _O(n)_|  Medium         | 📖 | \n",
    "|336| [Palindrome Pairs](https://leetcode.com/problems/palindrome-pairs/) | [C++](./C++/palindrome-pairs.cpp) [Python](./Python/palindrome-pairs.py) | _O(n * k^2)_          | _O(n * k)_          | Hard             | | |\n",
    "|340| [Longest Substring with At Most K Distinct Characters](https://leetcode.com/problems/longest-substring-with-at-most-k-distinct-characters/)|  [C++](./C++/longest-substring-with-at-most-k-distinct-characters.cpp) [Python](./Python/longest-substring-with-at-most-k-distinct-characters.py) | _O(n)_ | _O(1)_ | Hard         |📖|\n",
    "|356| [Line Reflection](https://leetcode.com/problems/line-reflection/) | [C++](./C++/line-reflection.cpp) [Python](./Python/line-reflection.py) | _O(n)_| _O(n)_| Medium |📖| Hash, Two Pointers |\n",
    "|387| [First Unique Character in a String](https://leetcode.com/problems/first-unique-character-in-a-string/) | [C++](./C++/first-unique-character-in-a-string.cpp) [Python](./Python/first-unique-character-in-a-string.py) | _O(n)_| _O(n)_| Easy |||\n",
    "|388| [Longest Absolute File Path](https://leetcode.com/problems/longest-absolute-file-path/) | [C++](./C++/longest-absolute-file-path.cpp) [Python](./Python/longest-absolute-file-path.py) | _O(n)_| _O(d)_| Medium || Stack |\n",
    "|409| [Longest Palindrome](https://leetcode.com/problems/longest-palindrome/) | [C++](./C++/longest-palindrome.cpp) [Python](./Python/longest-palindrome.py) | _O(n)_| _O(1)_| Easy |||\n",
    "|424| [Longest Repeating Character Replacement](https://leetcode.com/problems/longest-repeating-character-replacement/) | [C++](./C++/longest-repeating-character-replacement.cpp) [Python](./Python/longest-repeating-character-replacement.py) | _O(n)_| _O(1)_| Medium |||\n",
    "|438| [Find All Anagrams in a String](https://leetcode.com/problems/find-all-anagrams-in-a-string/) | [C++](./C++/find-all-anagrams-in-a-string.cpp) [Python](./Python/find-all-anagrams-in-a-string.py) | _O(n)_          | _O(1)_          | Easy           ||\n",
    "|447| [Number of Boomerangs](https://leetcode.com/problems/number-of-boomerangs/) | [C++](./C++/number-of-boomerangs.cpp) [Python](./Python/number-of-boomerangs.py) | _O(n^2)_          | _O(n)_          | Easy           ||\n",
    "|454| [4Sum II](https://leetcode.com/problems/4sum-ii/) | [C++](./C++/4sum-ii.cpp) [Python](./Python/4sum-ii.py) | _O(n^2)_          | _O(n^2)_          | Medium           ||\n",
    "|473| [Matchsticks to Square](https://leetcode.com/problems/matchsticks-to-square/) | [C++](./C++/matchsticks-to-square.cpp) [Python](./Python/matchsticks-to-square.py) | _O(n * s * 2^n)_          | _O(n * (2^n + s))_          | Medium           ||\n",
    "|554| [Brick Wall](https://leetcode.com/problems/brick-wall/) |[C++](./C++/brick-wall.cpp)  [Python](./Python/brick-wall.py) | _O(n)_ | _O(m)_ | Medium         | |"
   ]
  }
 ],
 "metadata": {
  "kernelspec": {
   "display_name": "Python 2",
   "language": "python",
   "name": "python2"
  },
  "language_info": {
   "codemirror_mode": {
    "name": "ipython",
    "version": 2
   },
   "file_extension": ".py",
   "mimetype": "text/x-python",
   "name": "python",
   "nbconvert_exporter": "python",
   "pygments_lexer": "ipython2",
   "version": "2.7.13"
  }
 },
 "nbformat": 4,
 "nbformat_minor": 0
}
