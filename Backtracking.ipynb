{
 "cells": [
  {
   "cell_type": "markdown",
   "metadata": {},
   "source": [
    "# Backtracking"
   ]
  },
  {
   "cell_type": "markdown",
   "metadata": {},
   "source": [
    "![backtracking](https://upload.wikimedia.org/wikipedia/commons/thumb/8/8c/Sudoku_solved_by_bactracking.gif/220px-Sudoku_solved_by_bactracking.gif)"
   ]
  },
  {
   "cell_type": "markdown",
   "metadata": {},
   "source": [
    "|  #  | Title           |  Solution       |  Time           | Space           | Difficulty    | Tag          | Note| \n",
    "|-----|---------------- | --------------- | --------------- | --------------- | ------------- |--------------|-----|\n",
    "|17| [Letter Combinations of a Phone Number](https://leetcode.com/problems/letter-combinations-of-a-phone-number/)| [Python](./Python/letter-combinations-of-a-phone-number.py) | _O(n * 4^n)_ | _O(n)_ | Medium ||\n",
    "|22| [Generate Parentheses](https://leetcode.com/problems/generate-parentheses/)| [Python](./Python/generate-parentheses.py)| _O(4^n / n^(3/2))_ | _O(n)_   | Medium         ||\n",
    "|37| [Sudoku Solver](https://leetcode.com/problems/sudoku-solver/) | [Python](./Python/sudoku-solver.py) | _O((9!)^9)_  | _O(1)_          | Hard           ||\n",
    "|39| [Combination Sum](https://leetcode.com/problems/combination-sum/)| [Python](./Python/combination-sum.py) | _O(k * n^k)_    | _O(k)_          | Medium         ||\n",
    "|40| [Combination Sum II](https://leetcode.com/problems/combination-sum-ii/)| [Python](./Python/combination-sum-ii.py)| _O(k * C(n, k))_| _O(k)_         | Medium         ||\n",
    "|46| [Permutations](https://leetcode.com/problems/permutations/)| [Python](./Python/permutations.py) | _O(n * n!)_         | _O(n)_          | Medium         ||\n",
    "|47| [Permutations II](https://leetcode.com/problems/permutations-ii/)| [Python](./Python/permutations-ii.py) | _O(n * n!)_   | _O(n)_          | Medium           ||\n",
    "|51| [N-Queens](https://leetcode.com/problems/n-queens/)      | [Python](./Python/n-queens.py)   | _O(n!)_         | _O(n)_          | Hard           ||\n",
    "|52| [N-Queens-II](https://leetcode.com/problems/n-queens-ii/)   | [Python](./Python/n-queens-ii.py) | _O(n!)_        | _O(n)_          | Hard           ||\n",
    "|77| [Combinations](https://leetcode.com/problems/combinations/)  | [Python](./Python/combinations.py) | _O(n!)_       | _O(n)_          | Medium         ||\n",
    "|79| [Word Search](https://leetcode.com/problems/word-search/) | [Python](./Python/word-search.py) | _O(m * n * l)_ | _O(l)_  | Medium         ||\n",
    "|93| [Restore IP Addresses](https://leetcode.com/problems/restore-ip-addresses/) | [Python](./Python/restore-ip-addresses.py) | _O(1)_ | _O(1)_ | Medium         ||\n",
    "|78| [Subsets](https://leetcode.com/problems/subsets/)       | [C++](./C++/subsets.cpp)  [Python](./Python/subsets.py)    | _O(n * 2^n)_    | _O(1)_          | Medium         ||\n",
    "|90| [Subsets II](https://leetcode.com/problems/subsets-ii/)    | [C++](./C++/subsets-ii.cpp) [Python](./Python/subsets-ii.py) | _O(n * 2^n)_    | _O(1)_          | Medium         ||\n",
    "|126| [Word Ladder II](https://leetcode.com/problems/word-ladder-ii/)   |[Python](./Python/word-ladder-ii.py) | _O(n * d)_ | _O(d)_         | Hard         ||\n",
    "|131| [Palindrome Partitioning](https://leetcode.com/problems/palindrome-partitioning/) | [Python](./Python/palindrome-partitioning.py) | _O(n^2)_ ~ _O(2^n)_ | _O(n^2)_ | Medium ||\n",
    "|140| [Word Break II](https://leetcode.com/problems/word-break-ii/)  | [C++](./C++/word-break-ii.cpp) [Python](./Python/word-break-ii.py) |  _O(n * l^2 + n * r)_      | _O(n^2)_       | Hard           ||\n",
    "|212| [Word Search II](https://leetcode.com/problems/word-search-ii/) | [C++](./C++/word-search-ii.cpp) [Python](./Python/word-search-ii.py) | _O(m * n * l)_ | _O(l)_  | Hard         | LintCode | Trie, DFS\n",
    "|216| [Combination Sum III](https://leetcode.com/problems/combination-sum-iii/)| [C++](./C++/combination-sum-iii.cpp) [Python](./Python/combination-sum-iii.py) | _O(k * C(n, k))_    | _O(k)_          | Medium         ||\n",
    "|254| [Factor Combinations](https://leetcode.com/problems/factor-combinations/) | [C++](./C++/factor-combinations.cpp)  [Python](./Python/factor-combinations.py)  | _O(nlogn)_ | _O(logn)_ | Medium         |📖||\n",
    "|267| [Palindrome Permutation II](https://leetcode.com/problems/palindrome-permutation-ii/) | [C++](./C++/palindrome-permutation-ii.cpp) [Python](./Python/palindrome-permutation-ii.py)  | _O(n * n!)_ |  _O(n)_ | Medium         |📖||\n",
    "|291| [Word Pattern II](https://leetcode.com/problems/word-pattern-ii/) | [C++](./C++/word-pattern-ii.cpp)  [Python](./Python/word-pattern-ii.py)  | _O(n * C(n - 1, c - 1))_ | _O(n + c)_ | Hard         |📖||\n",
    "|294| [Flip Game II](https://leetcode.com/problems/flip-game-ii/) | [C++](./C++/flip-game-ii.cpp) [Python](./Python/flip-game-ii.py)  | _O(n + c^2)_ | _O(c)_ | Medium         |📖| DP, Hash |\n",
    "|320| [Generalized Abbreviation](https://leetcode.com/problems/generalized-abbreviation/) | [C++](./C++/generalized-abbreviation.cpp) [Python](./Python/generalized-abbreviation.py)  | _O(n * 2^n)_ | _O(n)_ | Medium         |📖||\n",
    "|425| [Word Squares](https://leetcode.com/problems/word-squares/) | [C++](./C++/word-squares.cpp) [Python](./Python/word-squares.py)  | _O(n^2 * n!)_ | _O(n^2)_ | Hard         |📖||\n"
   ]
  },
  {
   "cell_type": "markdown",
   "metadata": {},
   "source": [
    "# 0. What-Why-How?"
   ]
  },
  {
   "cell_type": "code",
   "execution_count": null,
   "metadata": {
    "collapsed": true
   },
   "outputs": [],
   "source": [
    "http://www.csie.ntnu.edu.tw/~u91029/Backtracking.html"
   ]
  },
  {
   "cell_type": "markdown",
   "metadata": {},
   "source": [
    "# 1. |17| [Letter Combinations of a Phone Number](https://leetcode.com/problems/letter-combinations-of-a-phone-number/)"
   ]
  },
  {
   "cell_type": "markdown",
   "metadata": {},
   "source": [
    "Given a digit string, return all possible letter combinations that the number could represent.\n",
    "\n",
    "A mapping of digit to letters (just like on the telephone buttons) is given below."
   ]
  },
  {
   "cell_type": "markdown",
   "metadata": {},
   "source": [
    "![letter combiantions of a phone number](http://upload.wikimedia.org/wikipedia/commons/thumb/7/73/Telephone-keypad2.svg/200px-Telephone-keypad2.svg.png)"
   ]
  },
  {
   "cell_type": "code",
   "execution_count": null,
   "metadata": {
    "collapsed": true
   },
   "outputs": [],
   "source": [
    "Input:Digit string \"23\"\n",
    "Output: [\"ad\", \"ae\", \"af\", \"bd\", \"be\", \"bf\", \"cd\", \"ce\", \"cf\"]."
   ]
  },
  {
   "cell_type": "markdown",
   "metadata": {},
   "source": [
    "## Solution"
   ]
  },
  {
   "cell_type": "code",
   "execution_count": 4,
   "metadata": {
    "collapsed": true
   },
   "outputs": [],
   "source": [
    "# Time: O(n * 4^n) ?\n",
    "# Space: O(n)\n",
    "# Letter Cominations of a Phone Number \n",
    "\n",
    "class Solution(object):\n",
    "    def letterCombinations(self, digits):\n",
    "        \"\"\"\n",
    "        :type digits: str\n",
    "        :rtype: List[str]\n",
    "        \"\"\"\n",
    "        if not digits:\n",
    "            return []\n",
    "        \n",
    "        lookup = [\"\",\"\",\"abc\",\"def\",\"ghi\",\"jkl\",\"mno\",\"pqrs\",\"tuv\",\"wxyz\"] #hash\n",
    "        result = []\n",
    "        \n",
    "        self.letterCombinationsRecu(result, digits, lookup, \"\", 0)\n",
    "        return result\n",
    "        \n",
    "    def letterCombinationsRecu(self, result, digits, lookup, cur, n):\n",
    "        if n == len(digits):\n",
    "            result.append(cur)\n",
    "        else:\n",
    "            for choice in lookup[int(digits[n])]:\n",
    "                self.letterCombinationsRecu(result,digits,lookup,cur+choice,n+1)"
   ]
  },
  {
   "cell_type": "code",
   "execution_count": 5,
   "metadata": {
    "collapsed": false
   },
   "outputs": [
    {
     "name": "stdout",
     "output_type": "stream",
     "text": [
      "['ad', 'ae', 'af', 'bd', 'be', 'bf', 'cd', 'ce', 'cf']\n"
     ]
    }
   ],
   "source": [
    "print Solution().letterCombinations(\"23\")"
   ]
  },
  {
   "cell_type": "markdown",
   "metadata": {},
   "source": [
    "# 2. |22| [Generate Parentheses](https://leetcode.com/problems/generate-parentheses/)"
   ]
  },
  {
   "cell_type": "code",
   "execution_count": null,
   "metadata": {
    "collapsed": true
   },
   "outputs": [],
   "source": [
    "Given n pairs of parentheses, write a function to generate all combinations of well-formed parentheses.\n",
    "\n",
    "For example, given n = 3, a solution set is:\n",
    "\n",
    "[\n",
    "  \"((()))\",\n",
    "  \"(()())\",\n",
    "  \"(())()\",\n",
    "  \"()(())\",\n",
    "  \"()()()\"\n",
    "]"
   ]
  },
  {
   "cell_type": "markdown",
   "metadata": {},
   "source": [
    "## Solution"
   ]
  },
  {
   "cell_type": "code",
   "execution_count": 7,
   "metadata": {
    "collapsed": true
   },
   "outputs": [],
   "source": [
    "# Time: O(4^n/n^(3/2)) ～=  Catalan numbers\n",
    "# Space: O(n)\n",
    "# Gnerate Parentheses\n",
    "\n",
    "class Solution(object):\n",
    "    def generateParenthesis(self, n):\n",
    "        \"\"\"\n",
    "        :type n: int\n",
    "        :rtype: List[str]\n",
    "        \"\"\"\n",
    "        result = []\n",
    "        self.generateParenthesisRecu(result,\"\",n,n)\n",
    "        return result \n",
    "    \n",
    "    def generateParenthesisRecu (self, result, current, left, right):\n",
    "        if left == 0 and right == 0:\n",
    "            result.append(current)\n",
    "        if left > 0:\n",
    "            self.generateParenthesisRecu(result, current+\"(\", left-1, right)\n",
    "        if left < right:\n",
    "            self.generateParenthesisRecu(result, current+\")\",left, right-1)"
   ]
  },
  {
   "cell_type": "code",
   "execution_count": 8,
   "metadata": {
    "collapsed": false
   },
   "outputs": [
    {
     "name": "stdout",
     "output_type": "stream",
     "text": [
      "['((()))', '(()())', '(())()', '()(())', '()()()']\n"
     ]
    }
   ],
   "source": [
    "print Solution().generateParenthesis(3)"
   ]
  },
  {
   "cell_type": "markdown",
   "metadata": {},
   "source": [
    "# 3. |37| [Sudoku Solver](https://leetcode.com/problems/sudoku-solver/) "
   ]
  },
  {
   "cell_type": "code",
   "execution_count": null,
   "metadata": {
    "collapsed": true
   },
   "outputs": [],
   "source": [
    "Write a program to solve a Sudoku puzzle by filling the empty cells.\n",
    "\n",
    "Empty cells are indicated by the character '.'.\n",
    "\n",
    "You may assume that there will be only one unique solution."
   ]
  },
  {
   "cell_type": "markdown",
   "metadata": {},
   "source": [
    " ![sudoku](http://upload.wikimedia.org/wikipedia/commons/thumb/f/ff/Sudoku-by-L2G-20050714.svg/250px-Sudoku-by-L2G-20050714.svg.png)"
   ]
  },
  {
   "cell_type": "code",
   "execution_count": null,
   "metadata": {
    "collapsed": true
   },
   "outputs": [],
   "source": [
    "A sudoku puzzle..."
   ]
  },
  {
   "cell_type": "markdown",
   "metadata": {},
   "source": [
    " ![sudoku](http://upload.wikimedia.org/wikipedia/commons/thumb/3/31/Sudoku-by-L2G-20050714_solution.svg/250px-Sudoku-by-L2G-20050714_solution.svg.png)"
   ]
  },
  {
   "cell_type": "markdown",
   "metadata": {},
   "source": [
    "## Solution"
   ]
  },
  {
   "cell_type": "code",
   "execution_count": null,
   "metadata": {
    "collapsed": true
   },
   "outputs": [],
   "source": [
    "# Time:  ((9!)^9)\n",
    "# Space: (1)\n",
    "\n",
    "\n",
    "class Solution(object):\n",
    "    def solveSudoku(self, board):\n",
    "        \"\"\"\n",
    "        :type board: List[List[str]]\n",
    "        :rtype: void Do not return anything, modify board in-place instead.\n",
    "        \"\"\"\n",
    "        def isValid(Board, x, y):\n",
    "            for i in range(9):\n",
    "                if i != x and board[i][y] == board[x][y]:\n",
    "                    return False\n",
    "            for j in range(9):\n",
    "                if j != y and board[x][j] == board[x][y]:\n",
    "                    return False\n",
    "            i = 3 * (x/3)\n",
    "            while i < 3*(x/3 + 1):\n",
    "                j = 3 * (y/3)\n",
    "                while j < 3*(y/3 + 1):\n",
    "                    if(i!=x or j!=y) and board[i][j] == board[x][y]:\n",
    "                        return False\n",
    "                    j += 1\n",
    "                i += 1\n",
    "            return True\n",
    "    \n",
    "        def solver(board):\n",
    "            for i in range(len(board)):\n",
    "                for j in range(len(board[0])):\n",
    "                    if(board[i][j] == '.'):\n",
    "                        for k in range(9):\n",
    "                            board[i][j] = chr(ord('1') + k)\n",
    "                            if isValid(board,i,j) and solver(board):\n",
    "                                return True \n",
    "                            board[i][j] = '.'\n",
    "                        return False \n",
    "            return True  \n",
    "        solver(board)"
   ]
  },
  {
   "cell_type": "code",
   "execution_count": null,
   "metadata": {
    "collapsed": true
   },
   "outputs": [],
   "source": [
    "board = \n",
    "[\n",
    "    [],\n",
    "    [],\n",
    "    [],\n",
    "    [],\n",
    "]\n",
    "print Solution().solveSudoku(board)"
   ]
  },
  {
   "cell_type": "markdown",
   "metadata": {},
   "source": [
    "## Notes"
   ]
  },
  {
   "cell_type": "markdown",
   "metadata": {},
   "source": [
    "[Sudoku Puzzle Solving Animation](https://www.youtube.com/watch?v=AUmidj4YH_4)"
   ]
  },
  {
   "cell_type": "markdown",
   "metadata": {},
   "source": [
    "![chess](https://ask.hellobi.com/uploads/article/20170207/7f0d5976184fdca5805386ad54e17e5c.gif) \n",
    "![go](https://ask.hellobi.com/uploads/article/20170207/3fefa7277761f643dcf51ae29c334c1a.gif)"
   ]
  },
  {
   "cell_type": "code",
   "execution_count": 11,
   "metadata": {
    "collapsed": false
   },
   "outputs": [
    {
     "data": {
      "text/plain": [
       "1"
      ]
     },
     "execution_count": 11,
     "metadata": {},
     "output_type": "execute_result"
    }
   ],
   "source": [
    "5/3"
   ]
  },
  {
   "cell_type": "code",
   "execution_count": 12,
   "metadata": {
    "collapsed": false
   },
   "outputs": [
    {
     "data": {
      "text/plain": [
       "49"
      ]
     },
     "execution_count": 12,
     "metadata": {},
     "output_type": "execute_result"
    }
   ],
   "source": [
    "ord('1')"
   ]
  },
  {
   "cell_type": "code",
   "execution_count": 13,
   "metadata": {
    "collapsed": false,
    "scrolled": true
   },
   "outputs": [
    {
     "data": {
      "text/plain": [
       "'1'"
      ]
     },
     "execution_count": 13,
     "metadata": {},
     "output_type": "execute_result"
    }
   ],
   "source": [
    "chr(ord('1'))"
   ]
  },
  {
   "cell_type": "markdown",
   "metadata": {},
   "source": [
    "# 4. |39| [Combination Sum](https://leetcode.com/problems/combination-sum/)"
   ]
  },
  {
   "cell_type": "code",
   "execution_count": null,
   "metadata": {
    "collapsed": true
   },
   "outputs": [],
   "source": [
    "Given a set of candidate numbers (C) (without duplicates) and a target number (T), \n",
    "find all unique combinations in C where the candidate numbers sums to T.\n",
    "\n",
    "The same repeated number may be chosen from C unlimited number of times.\n",
    "\n",
    "Note:\n",
    "All numbers (including target) will be positive integers.\n",
    "The solution set must not contain duplicate combinations.\n",
    "For example, given candidate set [2, 3, 6, 7] and target 7, \n",
    "A solution set is: \n",
    "[\n",
    "  [7],\n",
    "  [2, 2, 3]\n",
    "]"
   ]
  },
  {
   "cell_type": "code",
   "execution_count": null,
   "metadata": {
    "collapsed": true
   },
   "outputs": [],
   "source": [
    "先排序，便于坚持\n",
    "\n",
    "< 0 返回\n",
    "= 0 就记录\n",
    "\n",
    "特殊处理： 后一数"
   ]
  },
  {
   "cell_type": "markdown",
   "metadata": {},
   "source": [
    "# 6. |46| [Permutations](https://leetcode.com/problems/permutations/)"
   ]
  },
  {
   "cell_type": "code",
   "execution_count": null,
   "metadata": {
    "collapsed": true
   },
   "outputs": [],
   "source": []
  },
  {
   "cell_type": "markdown",
   "metadata": {},
   "source": [
    "# 7. |47| [Permutations II](https://leetcode.com/problems/permutations-ii/)"
   ]
  },
  {
   "cell_type": "markdown",
   "metadata": {},
   "source": [
    "# 8. |51| [N-Queens](https://leetcode.com/problems/n-queens/) "
   ]
  },
  {
   "cell_type": "markdown",
   "metadata": {},
   "source": [
    "# 9. |52| [N-Queens-II](https://leetcode.com/problems/n-queens-ii/) "
   ]
  },
  {
   "cell_type": "markdown",
   "metadata": {},
   "source": [
    "# 10. |77| [Combinations](https://leetcode.com/problems/combinations/)"
   ]
  },
  {
   "cell_type": "markdown",
   "metadata": {},
   "source": [
    "# 11. |79| [Word Search](https://leetcode.com/problems/word-search/) | [Python](./Python/word-search.py) | _O(m * n * l)_ | _O(l)_  | Medium         ||\n"
   ]
  },
  {
   "cell_type": "code",
   "execution_count": null,
   "metadata": {
    "collapsed": true
   },
   "outputs": [],
   "source": [
    "Given a 2D board and a word, find if the word exists in the grid.\n",
    "\n",
    "The word can be constructed from letters of sequentially adjacent cell, \n",
    "where \"adjacent\" cells are those horizontally or vertically neighboring. \n",
    "The same letter cell may not be used more than once.\n",
    "\n",
    "For example,\n",
    "Given board =\n",
    "\n",
    "[\n",
    "  \"ABCE\",\n",
    "  \"SFCS\",\n",
    "  \"ADEE\"\n",
    "]\n",
    "word = \"ABCCED\", -> returns true,\n",
    "word = \"SEE\", -> returns true,\n",
    "word = \"ABCB\", -> returns false.\n"
   ]
  },
  {
   "cell_type": "code",
   "execution_count": 27,
   "metadata": {
    "collapsed": false
   },
   "outputs": [],
   "source": [
    "# Time:  O(m * n * l)\n",
    "# Space: O(l)\n",
    "\n",
    "\n",
    "class Solution:\n",
    "    # @param board, a list of lists of 1 length string\n",
    "    # @param word, a string\n",
    "    # @return a boolean\n",
    "    def exist(self, board, word):\n",
    "        visited = [[False for j in xrange(len(board[0]))] for i in xrange(len(board))]\n",
    "        \n",
    "        for i in xrange(len(board)):\n",
    "            for j in xrange(len(board[0])):\n",
    "                if self.existRecu(board, word, 0, i, j, visited):\n",
    "                    return True\n",
    "        \n",
    "        return False\n",
    "    \n",
    "    def existRecu(self, board, word, cur, i, j, visited):\n",
    "        print cur,i,j\n",
    "        if cur == len(word):\n",
    "            return True\n",
    "        \n",
    "        if i < 0 or i >= len(board) or j < 0 or j >= len(board[0]) or visited[i][j] or board[i][j] != word[cur]:\n",
    "            print 'Wrong Way!!'\n",
    "            return False\n",
    "        \n",
    "        print cur, i,j, board[i][j]\n",
    "        print 5*'-'\n",
    "        \n",
    "        visited[i][j] = True\n",
    "        result = self.existRecu(board, word, cur + 1, i + 1, j, visited) or\\\n",
    "                 self.existRecu(board, word, cur + 1, i - 1, j, visited) or\\\n",
    "                 self.existRecu(board, word, cur + 1, i, j + 1, visited) or\\\n",
    "                 self.existRecu(board, word, cur + 1, i, j - 1, visited)         \n",
    "        visited[i][j] = False\n",
    "        \n",
    "        return result\n",
    "    "
   ]
  },
  {
   "cell_type": "code",
   "execution_count": 28,
   "metadata": {
    "collapsed": false
   },
   "outputs": [
    {
     "name": "stdout",
     "output_type": "stream",
     "text": [
      "0 0 0\n",
      "0 0 0 A\n",
      "-----\n",
      "1 1 0\n",
      "Wrong Way!!\n",
      "1 -1 0\n",
      "Wrong Way!!\n",
      "1 0 1\n",
      "1 0 1 B\n",
      "-----\n",
      "2 1 1\n",
      "Wrong Way!!\n",
      "2 -1 1\n",
      "Wrong Way!!\n",
      "2 0 2\n",
      "2 0 2 C\n",
      "-----\n",
      "3 1 2\n",
      "3 1 2 C\n",
      "-----\n",
      "4 2 2\n",
      "4 2 2 E\n",
      "-----\n",
      "5 3 2\n",
      "Wrong Way!!\n",
      "5 1 2\n",
      "Wrong Way!!\n",
      "5 2 3\n",
      "Wrong Way!!\n",
      "5 2 1\n",
      "5 2 1 D\n",
      "-----\n",
      "6 3 1\n",
      "True\n"
     ]
    }
   ],
   "source": [
    "board = [\n",
    "          \"ABCE\",\n",
    "          \"SFCS\",\n",
    "          \"ADEE\"\n",
    "        ]\n",
    "print Solution().exist(board, \"ABCCED\")"
   ]
  },
  {
   "cell_type": "code",
   "execution_count": 5,
   "metadata": {
    "collapsed": false
   },
   "outputs": [
    {
     "name": "stdout",
     "output_type": "stream",
     "text": [
      "True\n"
     ]
    }
   ],
   "source": [
    "print Solution().exist(board, \"SFCS\")"
   ]
  },
  {
   "cell_type": "code",
   "execution_count": 6,
   "metadata": {
    "collapsed": false
   },
   "outputs": [
    {
     "name": "stdout",
     "output_type": "stream",
     "text": [
      "False\n"
     ]
    }
   ],
   "source": [
    "print Solution().exist(board, \"ABCB\")"
   ]
  },
  {
   "cell_type": "code",
   "execution_count": null,
   "metadata": {
    "collapsed": true
   },
   "outputs": [],
   "source": [
    "class Solution(object):\n",
    "    def exist(self, board, word):\n",
    "        \"\"\"\n",
    "        :type board: List[List[str]]\n",
    "        :type word: str\n",
    "        :rtype: bool\n",
    "        \"\"\"\n",
    "        if not board:\n",
    "            return len(word)==0\n",
    "        m, n, s = len(board), len(board[0]), len(word)\n",
    "        moves = [(1,0), (-1, 0), (0, 1), (0, -1)]\n",
    "\n",
    "\n",
    "        #### speed up ####\n",
    "        if s > m*n:\n",
    "            return False\n",
    "        bcount, wcount = collections.defaultdict(int), collections.Counter(word)\n",
    "        for i in xrange(m):\n",
    "            for j in xrange(n):\n",
    "                bcount[board[i][j]] += 1\n",
    "        for c in wcount:\n",
    "            if bcount[c] < wcount[c]:\n",
    "                return False\n",
    "        #################\n",
    "\n",
    "        def dfs(i, j, k):\n",
    "\n",
    "            if (i, j) in visited or (k < s and board[i][j] != word[k]):\n",
    "                return False\n",
    "                \n",
    "            if k == s-1:\n",
    "                return True\n",
    "                \n",
    "            visited.add((i, j))\n",
    "            for dx, dy in moves:\n",
    "                x, y = i+dx, j+dy\n",
    "                if 0 <= x < m and 0 <= y < n and dfs(x, y, k+1):\n",
    "                    return True\n",
    "\n",
    "            visited.discard((i, j))\n",
    "            return False\n",
    "\n",
    "        visited = set()\n",
    "        for i in xrange(m):\n",
    "            for j in xrange(n):\n",
    "                if dfs(i, j, 0):\n",
    "                    return True\n",
    "        return False\n"
   ]
  },
  {
   "cell_type": "markdown",
   "metadata": {},
   "source": [
    "# 12. |93| [Restore IP Addresses](https://leetcode.com/problems/restore-ip-addresses/) | [Python](./Python/restore-ip-addresses.py) | _O(1)_ | _O(1)_ | Medium         ||\n"
   ]
  },
  {
   "cell_type": "code",
   "execution_count": null,
   "metadata": {
    "collapsed": true
   },
   "outputs": [],
   "source": [
    "Given a string containing only digits, restore it by returning all possible valid IP address combinations.\n",
    "\n",
    "For example:\n",
    "Given \"25525511135\",\n",
    "\n",
    "return [\"255.255.11.135\", \"255.255.111.35\"]. (Order does not matter)\n"
   ]
  },
  {
   "cell_type": "code",
   "execution_count": 31,
   "metadata": {
    "collapsed": true
   },
   "outputs": [],
   "source": [
    "# Time:  O(n^m) = O(3^4)\n",
    "# Space: O(n * m) = O(3 * 4)\n",
    "\n",
    "class Solution:\n",
    "    # @param s, a string\n",
    "    # @return a list of strings\n",
    "    def restoreIpAddresses(self, s):\n",
    "        result = []\n",
    "        self.restoreIpAddressesRecur(result, s, 0, \"\", 0)\n",
    "        return result\n",
    "        \n",
    "    def restoreIpAddressesRecur(self, result, s, start, current, dots):\n",
    "        # pruning to improve performance\n",
    "        if (4 - dots) * 3 < len(s) - start or (4 - dots) > len(s) - start:\n",
    "            return\n",
    "        \n",
    "        if start == len(s) and dots == 4:\n",
    "            result.append(current[:-1])\n",
    "        else:\n",
    "            for i in xrange(start, start + 3):\n",
    "                if len(s) > i and self.isValid(s[start:i + 1]):\n",
    "                    current += s[start:i + 1] + '.'\n",
    "                    self.restoreIpAddressesRecur(result, s, i + 1, current, dots + 1)\n",
    "                    current = current[:-(i - start + 2)]\n",
    "        \n",
    "    def isValid(self, s):\n",
    "        if len(s) == 0 or (s[0] == '0' and s != \"0\"):\n",
    "            return False\n",
    "        return int(s) < 256"
   ]
  },
  {
   "cell_type": "code",
   "execution_count": 32,
   "metadata": {
    "collapsed": false
   },
   "outputs": [
    {
     "name": "stdout",
     "output_type": "stream",
     "text": [
      "['0.0.0.0']\n"
     ]
    }
   ],
   "source": [
    "print Solution().restoreIpAddresses(\"0000\")"
   ]
  },
  {
   "cell_type": "code",
   "execution_count": 33,
   "metadata": {
    "collapsed": false
   },
   "outputs": [
    {
     "name": "stdout",
     "output_type": "stream",
     "text": [
      "['255.255.11.135', '255.255.111.35']\n"
     ]
    }
   ],
   "source": [
    "print Solution().restoreIpAddresses(\"25525511135\")"
   ]
  },
  {
   "cell_type": "code",
   "execution_count": 40,
   "metadata": {
    "collapsed": true
   },
   "outputs": [],
   "source": [
    "class Solution(object):\n",
    "    def restoreIpAddresses(self, s):\n",
    "        \"\"\"\n",
    "        :type s: str\n",
    "        :rtype: List[str]\n",
    "        \"\"\"\n",
    "        result = []\n",
    "        self.dfs(0, s, [], result)\n",
    "        return result\n",
    "\n",
    "    def dfs(self, length, s, ips, result):\n",
    "#         print 5*'-','start',5*'-'\n",
    "        print length,s,ips,result \n",
    "        if not s:\n",
    "            if length == 4:\n",
    "                result.append('.'.join(ips))\n",
    "            return\n",
    "        elif length == 4:\n",
    "            return\n",
    "        self.dfs(length + 1, s[1:], ips + [s[:1]], result)\n",
    "        if s[0] != '0':\n",
    "            if len(s) >= 2:\n",
    "                self.dfs(length + 1, s[2:], ips + [s[:2]], result)\n",
    "            if len(s) >= 3 and int(s[:3]) <= 255:\n",
    "                self.dfs(length + 1, s[3:], ips + [s[:3]], result)\n",
    "#         print 5*'-','end',5*'-'\n",
    "        \n"
   ]
  },
  {
   "cell_type": "code",
   "execution_count": 41,
   "metadata": {
    "collapsed": false
   },
   "outputs": [
    {
     "name": "stdout",
     "output_type": "stream",
     "text": [
      "----- start -----\n",
      "0 25525511135 [] []\n",
      "----- start -----\n",
      "1 5525511135 ['2'] []\n",
      "----- start -----\n",
      "2 525511135 ['2', '5'] []\n",
      "----- start -----\n",
      "3 25511135 ['2', '5', '5'] []\n",
      "----- start -----\n",
      "4 5511135 ['2', '5', '5', '2'] []\n",
      "----- start -----\n",
      "4 511135 ['2', '5', '5', '25'] []\n",
      "----- start -----\n",
      "4 11135 ['2', '5', '5', '255'] []\n",
      "----- end -----\n",
      "----- start -----\n",
      "3 5511135 ['2', '5', '52'] []\n",
      "----- start -----\n",
      "4 511135 ['2', '5', '52', '5'] []\n",
      "----- start -----\n",
      "4 11135 ['2', '5', '52', '55'] []\n",
      "----- end -----\n",
      "----- end -----\n",
      "----- start -----\n",
      "2 25511135 ['2', '55'] []\n",
      "----- start -----\n",
      "3 5511135 ['2', '55', '2'] []\n",
      "----- start -----\n",
      "4 511135 ['2', '55', '2', '5'] []\n",
      "----- start -----\n",
      "4 11135 ['2', '55', '2', '55'] []\n",
      "----- end -----\n",
      "----- start -----\n",
      "3 511135 ['2', '55', '25'] []\n",
      "----- start -----\n",
      "4 11135 ['2', '55', '25', '5'] []\n",
      "----- start -----\n",
      "4 1135 ['2', '55', '25', '51'] []\n",
      "----- end -----\n",
      "----- start -----\n",
      "3 11135 ['2', '55', '255'] []\n",
      "----- start -----\n",
      "4 1135 ['2', '55', '255', '1'] []\n",
      "----- start -----\n",
      "4 135 ['2', '55', '255', '11'] []\n",
      "----- start -----\n",
      "4 35 ['2', '55', '255', '111'] []\n",
      "----- end -----\n",
      "----- end -----\n",
      "----- end -----\n",
      "----- start -----\n",
      "1 525511135 ['25'] []\n",
      "----- start -----\n",
      "2 25511135 ['25', '5'] []\n",
      "----- start -----\n",
      "3 5511135 ['25', '5', '2'] []\n",
      "----- start -----\n",
      "4 511135 ['25', '5', '2', '5'] []\n",
      "----- start -----\n",
      "4 11135 ['25', '5', '2', '55'] []\n",
      "----- end -----\n",
      "----- start -----\n",
      "3 511135 ['25', '5', '25'] []\n",
      "----- start -----\n",
      "4 11135 ['25', '5', '25', '5'] []\n",
      "----- start -----\n",
      "4 1135 ['25', '5', '25', '51'] []\n",
      "----- end -----\n",
      "----- start -----\n",
      "3 11135 ['25', '5', '255'] []\n",
      "----- start -----\n",
      "4 1135 ['25', '5', '255', '1'] []\n",
      "----- start -----\n",
      "4 135 ['25', '5', '255', '11'] []\n",
      "----- start -----\n",
      "4 35 ['25', '5', '255', '111'] []\n",
      "----- end -----\n",
      "----- end -----\n",
      "----- start -----\n",
      "2 5511135 ['25', '52'] []\n",
      "----- start -----\n",
      "3 511135 ['25', '52', '5'] []\n",
      "----- start -----\n",
      "4 11135 ['25', '52', '5', '5'] []\n",
      "----- start -----\n",
      "4 1135 ['25', '52', '5', '51'] []\n",
      "----- end -----\n",
      "----- start -----\n",
      "3 11135 ['25', '52', '55'] []\n",
      "----- start -----\n",
      "4 1135 ['25', '52', '55', '1'] []\n",
      "----- start -----\n",
      "4 135 ['25', '52', '55', '11'] []\n",
      "----- start -----\n",
      "4 35 ['25', '52', '55', '111'] []\n",
      "----- end -----\n",
      "----- end -----\n",
      "----- end -----\n",
      "----- start -----\n",
      "1 25511135 ['255'] []\n",
      "----- start -----\n",
      "2 5511135 ['255', '2'] []\n",
      "----- start -----\n",
      "3 511135 ['255', '2', '5'] []\n",
      "----- start -----\n",
      "4 11135 ['255', '2', '5', '5'] []\n",
      "----- start -----\n",
      "4 1135 ['255', '2', '5', '51'] []\n",
      "----- end -----\n",
      "----- start -----\n",
      "3 11135 ['255', '2', '55'] []\n",
      "----- start -----\n",
      "4 1135 ['255', '2', '55', '1'] []\n",
      "----- start -----\n",
      "4 135 ['255', '2', '55', '11'] []\n",
      "----- start -----\n",
      "4 35 ['255', '2', '55', '111'] []\n",
      "----- end -----\n",
      "----- end -----\n",
      "----- start -----\n",
      "2 511135 ['255', '25'] []\n",
      "----- start -----\n",
      "3 11135 ['255', '25', '5'] []\n",
      "----- start -----\n",
      "4 1135 ['255', '25', '5', '1'] []\n",
      "----- start -----\n",
      "4 135 ['255', '25', '5', '11'] []\n",
      "----- start -----\n",
      "4 35 ['255', '25', '5', '111'] []\n",
      "----- end -----\n",
      "----- start -----\n",
      "3 1135 ['255', '25', '51'] []\n",
      "----- start -----\n",
      "4 135 ['255', '25', '51', '1'] []\n",
      "----- start -----\n",
      "4 35 ['255', '25', '51', '11'] []\n",
      "----- start -----\n",
      "4 5 ['255', '25', '51', '113'] []\n",
      "----- end -----\n",
      "----- end -----\n",
      "----- start -----\n",
      "2 11135 ['255', '255'] []\n",
      "----- start -----\n",
      "3 1135 ['255', '255', '1'] []\n",
      "----- start -----\n",
      "4 135 ['255', '255', '1', '1'] []\n",
      "----- start -----\n",
      "4 35 ['255', '255', '1', '11'] []\n",
      "----- start -----\n",
      "4 5 ['255', '255', '1', '113'] []\n",
      "----- end -----\n",
      "----- start -----\n",
      "3 135 ['255', '255', '11'] []\n",
      "----- start -----\n",
      "4 35 ['255', '255', '11', '1'] []\n",
      "----- start -----\n",
      "4 5 ['255', '255', '11', '13'] []\n",
      "----- start -----\n",
      "4  ['255', '255', '11', '135'] []\n",
      "----- end -----\n",
      "----- start -----\n",
      "3 35 ['255', '255', '111'] ['255.255.11.135']\n",
      "----- start -----\n",
      "4 5 ['255', '255', '111', '3'] ['255.255.11.135']\n",
      "----- start -----\n",
      "4  ['255', '255', '111', '35'] ['255.255.11.135']\n",
      "----- end -----\n",
      "----- end -----\n",
      "----- end -----\n",
      "----- end -----\n",
      "['255.255.11.135', '255.255.111.35']\n"
     ]
    }
   ],
   "source": [
    "print Solution().restoreIpAddresses(\"25525511135\")"
   ]
  },
  {
   "cell_type": "code",
   "execution_count": 48,
   "metadata": {
    "collapsed": true
   },
   "outputs": [],
   "source": [
    "class Solution(object):\n",
    "    def restoreIpAddresses(self, s):\n",
    "        \"\"\"\n",
    "        :type s: str\n",
    "        :rtype: List[str]\n",
    "        \"\"\"\n",
    "        # tmp: ['255','255']\n",
    "        # s: 25525511135\n",
    "        # k: 4-3-2-1\n",
    "        def helper(res, tmp, s, k):\n",
    "            if len(s) > k * 3: return None  # Cut \n",
    "            if k == 0 : res.append(tmp[:])  # End \n",
    "            else:  # Travel\n",
    "                for i in range(min(3, len(s) - k + 1)):  # Choose < 3\n",
    "#                     print i,tmp\n",
    "                    if i == 2 and int(s[:3]) > 255 or i > 0 and s[0] == '0': # Wrong Way \n",
    "#                         print i, s[0], s[:3]\n",
    "                        continue\n",
    "                    helper(res,  tmp + [s[:i+1]], s[i+1:], k - 1)\n",
    "        res = []\n",
    "        helper(res, [], s, 4)\n",
    "        return ['.'.join(i) for i in res]"
   ]
  },
  {
   "cell_type": "code",
   "execution_count": 49,
   "metadata": {
    "collapsed": false,
    "scrolled": false
   },
   "outputs": [
    {
     "name": "stdout",
     "output_type": "stream",
     "text": [
      "0 []\n",
      "1 []\n",
      "0 ['25']\n",
      "1 ['25']\n",
      "2 ['25']\n",
      "2 5 525\n",
      "2 []\n",
      "0 ['255']\n",
      "1 ['255']\n",
      "0 ['255', '25']\n",
      "1 ['255', '25']\n",
      "2 ['255', '25']\n",
      "2 5 511\n",
      "2 ['255']\n",
      "0 ['255', '255']\n",
      "1 ['255', '255']\n",
      "0 ['255', '255', '11']\n",
      "1 ['255', '255', '11']\n",
      "2 ['255', '255', '11']\n",
      "2 ['255', '255']\n",
      "0 ['255', '255', '111']\n",
      "1 ['255', '255', '111']\n",
      "['255.255.11.135', '255.255.111.35']\n"
     ]
    }
   ],
   "source": [
    "print Solution().restoreIpAddresses(\"25525511135\")"
   ]
  },
  {
   "cell_type": "markdown",
   "metadata": {},
   "source": [
    "# 13. |78| [Subsets](https://leetcode.com/problems/subsets/)       | [C++](./C++/subsets.cpp)  [Python](./Python/subsets.py)    | _O(n * 2^n)_    | _O(1)_          | Medium         ||\n"
   ]
  },
  {
   "cell_type": "code",
   "execution_count": null,
   "metadata": {
    "collapsed": true
   },
   "outputs": [],
   "source": [
    "Given a set of distinct integers, S, return all possible subsets.\n",
    "\n",
    "Note:\n",
    "Elements in a subset must be in non-descending order.\n",
    "The solution set must not contain duplicate subsets.\n",
    "For example,\n",
    "If S = [1,2,3], a solution is:\n",
    "\n",
    "[\n",
    "  [3],\n",
    "  [1],\n",
    "  [2],\n",
    "  [1,2,3],\n",
    "  [1,3],\n",
    "  [2,3],\n",
    "  [1,2],\n",
    "  []\n",
    "]"
   ]
  },
  {
   "cell_type": "code",
   "execution_count": null,
   "metadata": {
    "collapsed": true
   },
   "outputs": [],
   "source": [
    "# Time:  O(n * 2^n)\n",
    "# Space: O(1)\n",
    "# Subsets\n",
    "\n",
    "class Solution(object):\n",
    "    def subsets(self, nums):\n",
    "        \"\"\"\n",
    "        :type nums: List[int]\n",
    "        :rtype: List[List[int]]\n",
    "        \"\"\"\n",
    "        nums.sort()\n",
    "        result = [[]]\n",
    "        for i in xrange(len(nums)):\n",
    "            size = len(result)\n",
    "            for j in xrange(size):\n",
    "                result.append(list(result[j]))\n",
    "                result[-1].append(nums[i])\n",
    "        return result"
   ]
  },
  {
   "cell_type": "markdown",
   "metadata": {},
   "source": [
    "# 14. |90| [Subsets II](https://leetcode.com/problems/subsets-ii/)    | [C++](./C++/subsets-ii.cpp) [Python](./Python/subsets-ii.py) | _O(n * 2^n)_    | _O(1)_          | Medium         ||\n"
   ]
  },
  {
   "cell_type": "code",
   "execution_count": null,
   "metadata": {
    "collapsed": true
   },
   "outputs": [],
   "source": [
    "Given a collection of integers that might contain duplicates, S, return all possible subsets.\n",
    "\n",
    "Note:\n",
    "Elements in a subset must be in non-descending order.\n",
    "The solution set must not contain duplicate subsets.\n",
    "For example,\n",
    "If S = [1,2,2], a solution is:\n",
    "\n",
    "[\n",
    "  [2],\n",
    "  [1],\n",
    "  [1,2,2],\n",
    "  [2,2],\n",
    "  [1,2],\n",
    "  []\n",
    "]"
   ]
  },
  {
   "cell_type": "code",
   "execution_count": null,
   "metadata": {
    "collapsed": true
   },
   "outputs": [],
   "source": [
    "# Time:  O(n * 2^n)\n",
    "# Space: O(1)\n",
    "\n",
    "class Solution(object):\n",
    "    def subsetsWithDup(self, nums):\n",
    "        \"\"\"\n",
    "        :type nums: List[int]\n",
    "        :rtype: List[List[int]]\n",
    "        \"\"\"\n",
    "        nums.sort()\n",
    "        result = [[]]\n",
    "        previous_size = 0\n",
    "        for i in xrange(len(nums)):\n",
    "            size = len(result)\n",
    "            for j in xrange(size):\n",
    "                # Only union non-duplicate element or new union set.\n",
    "                if i == 0 or nums[i] != nums[i - 1] or j >= previous_size:\n",
    "                    result.append(list(result[j]))\n",
    "                    result[-1].append(nums[i])\n",
    "            previous_size = size\n",
    "        return result"
   ]
  },
  {
   "cell_type": "markdown",
   "metadata": {},
   "source": [
    "# 15. |126| [Word Ladder II](https://leetcode.com/problems/word-ladder-ii/)   |[Python](./Python/word-ladder-ii.py) | _O(n * d)_ | _O(d)_         | Hard         ||"
   ]
  },
  {
   "cell_type": "code",
   "execution_count": null,
   "metadata": {
    "collapsed": true
   },
   "outputs": [],
   "source": [
    "\n",
    "Given two words (start and end), and a dictionary, \n",
    "find all shortest transformation sequence(s) from start to end, such that:\n",
    "\n",
    "Only one letter can be changed at a time\n",
    "Each intermediate word must exist in the dictionary\n",
    "For example,\n",
    "\n",
    "Given:\n",
    "start = \"hit\"\n",
    "end = \"cog\"\n",
    "dict = [\"hot\",\"dot\",\"dog\",\"lot\",\"log\"]\n",
    "Return\n",
    "  [\n",
    "    [\"hit\",\"hot\",\"dot\",\"dog\",\"cog\"],\n",
    "    [\"hit\",\"hot\",\"lot\",\"log\",\"cog\"]\n",
    "  ]\n",
    "Note:\n",
    "All words have the same length.\n",
    "All words contain only lowercase alphabetic characters.\n",
    "\n"
   ]
  },
  {
   "cell_type": "code",
   "execution_count": null,
   "metadata": {
    "collapsed": true
   },
   "outputs": [],
   "source": [
    "\n",
    "# Time:  O(n * d), n is length of string, d is size of dictionary\n",
    "# Space: O(d)\n",
    "# Word Ladder II\n",
    "\n",
    "# BFS\n",
    "class Solution:\n",
    "    # @param start, a string\n",
    "    # @param end, a string\n",
    "    # @param dict, a set of string\n",
    "    # @return an integer\n",
    "    def findLadders(self, start, end, dict):\n",
    "        dict.add(start)\n",
    "        dict.add(end)\n",
    "        \n",
    "        result, cur, visited, found, trace = [], [start], set([start]), False, {word: [] for word in dict}  \n",
    "\n",
    "        while cur and not found:\n",
    "            for word in cur:\n",
    "                visited.add(word)\n",
    "                \n",
    "            next = set()\n",
    "            for word in cur:\n",
    "                for i in xrange(len(word)):\n",
    "                    for j in 'abcdefghijklmnopqrstuvwxyz':\n",
    "                        candidate = word[:i] + j + word[i + 1:]\n",
    "                        if candidate not in visited and candidate in dict:\n",
    "                            if candidate == end:\n",
    "                                found = True\n",
    "                            next.add(candidate)\n",
    "                            trace[candidate].append(word)\n",
    "            cur = next\n",
    "            \n",
    "        if found:\n",
    "            self.backtrack(result, trace, [], end)\n",
    "        \n",
    "        return result\n",
    "    \n",
    "    def backtrack(self, result, trace, path, word):\n",
    "        if not trace[word]:\n",
    "            result.append([word] + path)\n",
    "        else:\n",
    "            for prev in trace[word]:\n",
    "                self.backtrack(result, trace, [word] + path, prev)\n",
    "    \n",
    "if __name__ == \"__main__\":\n",
    "    print Solution().findLadders(\"hit\", \"cog\", set([\"hot\",\"dot\",\"dog\",\"lot\",\"log\"]))\n"
   ]
  },
  {
   "cell_type": "markdown",
   "metadata": {},
   "source": [
    "# 16. |131| [Palindrome Partitioning](https://leetcode.com/problems/palindrome-partitioning/) | [Python](./Python/palindrome-partitioning.py) | _O(n^2)_ ~ _O(2^n)_ | _O(n^2)_ | Medium ||"
   ]
  },
  {
   "cell_type": "code",
   "execution_count": null,
   "metadata": {
    "collapsed": true
   },
   "outputs": [],
   "source": [
    "Given a string s, partition s such that every substring of the partition is a palindrome.\n",
    "\n",
    "Return all possible palindrome partitioning of s.\n",
    "\n",
    "For example, given s = \"aab\",\n",
    "Return\n",
    "\n",
    "  [\n",
    "    [\"aa\",\"b\"],\n",
    "    [\"a\",\"a\",\"b\"]\n",
    "  ]"
   ]
  },
  {
   "cell_type": "code",
   "execution_count": null,
   "metadata": {
    "collapsed": true
   },
   "outputs": [],
   "source": [
    "# Time:  O(n^2 ~ 2^n)\n",
    "# Space: O(n^2)\n",
    "# dynamic programming solution\n",
    "\n",
    "class Solution:\n",
    "    # @param s, a string\n",
    "    # @return a list of lists of string\n",
    "    def partition(self, s):\n",
    "        n = len(s)\n",
    "        \n",
    "        is_palindrome = [[0 for j in xrange(n)] for i in xrange(n)]\n",
    "        for i in reversed(xrange(0, n)):\n",
    "            for j in xrange(i, n):\n",
    "                is_palindrome[i][j] = s[i] == s[j] and ((j - i < 2 ) or is_palindrome[i + 1][j - 1])\n",
    "        \n",
    "        sub_partition = [[] for i in xrange(n)]\n",
    "        for i in reversed(xrange(n)):\n",
    "            for j in xrange(i, n):\n",
    "                if is_palindrome[i][j]:\n",
    "                    if j + 1 < n:\n",
    "                        for p in sub_partition[j + 1]:\n",
    "                            sub_partition[i].append([s[i:j + 1]] + p)\n",
    "                    else:\n",
    "                        sub_partition[i].append([s[i:j + 1]])\n",
    "                        \n",
    "        return sub_partition[0]"
   ]
  },
  {
   "cell_type": "markdown",
   "metadata": {},
   "source": [
    "# 17. |140| [Word Break II](https://leetcode.com/problems/word-break-ii/)  | [C++](./C++/word-break-ii.cpp) [Python](./Python/word-break-ii.py) |  _O(n * l^2 + n * r)_      | _O(n^2)_       | Hard           ||"
   ]
  },
  {
   "cell_type": "markdown",
   "metadata": {},
   "source": [
    "# 18. |212| [Word Search II](https://leetcode.com/problems/word-search-ii/) | [C++](./C++/word-search-ii.cpp) [Python](./Python/word-search-ii.py) | _O(m * n * l)_ | _O(l)_  | Hard         | LintCode | Trie, DFS"
   ]
  },
  {
   "cell_type": "code",
   "execution_count": null,
   "metadata": {
    "collapsed": true
   },
   "outputs": [],
   "source": [
    "Given a 2D board and a list of words from the dictionary, find all words in the board.\n",
    "\n",
    "Each word must be constructed from letters of sequentially adjacent cell, where \"adjacent\" cells \n",
    "are those horizontally or vertically neighboring. The same letter cell may not be used more than once in a word.\n",
    "\n",
    "For example,\n",
    "Given words = [\"oath\",\"pea\",\"eat\",\"rain\"] and board =\n",
    "\n",
    "[\n",
    "  ['o','a','a','n'],\n",
    "  ['e','t','a','e'],\n",
    "  ['i','h','k','r'],\n",
    "  ['i','f','l','v']\n",
    "]\n",
    "Return [\"eat\",\"oath\"].\n",
    "Note:\n",
    "You may assume that all inputs are consist of lowercase letters a-z."
   ]
  },
  {
   "cell_type": "code",
   "execution_count": null,
   "metadata": {
    "collapsed": true
   },
   "outputs": [],
   "source": [
    "# Time:  O(m * n * l)\n",
    "# Space: O(l)\n",
    "\n",
    "\n",
    "class TrieNode(object):\n",
    "    # Initialize your data structure here.\n",
    "    def __init__(self):\n",
    "        self.is_string = False\n",
    "        self.leaves = {}\n",
    "\n",
    "    # Inserts a word into the trie.\n",
    "    def insert(self, word):\n",
    "        cur = self\n",
    "        for c in word:\n",
    "            if not c in cur.leaves:\n",
    "                cur.leaves[c] = TrieNode()\n",
    "            cur = cur.leaves[c]\n",
    "        cur.is_string = True\n",
    "\n",
    "\n",
    "class Solution(object):\n",
    "    def findWords(self, board, words):\n",
    "        \"\"\"\n",
    "        :type board: List[List[str]]\n",
    "        :type words: List[str]\n",
    "        :rtype: List[str]\n",
    "        \"\"\"\n",
    "        visited = [[False for j in xrange(len(board[0]))] for i in xrange(len(board))]\n",
    "        result = {}\n",
    "        trie = TrieNode()\n",
    "        for word in words:\n",
    "            trie.insert(word)\n",
    "            \n",
    "        for i in xrange(len(board)):\n",
    "            for j in xrange(len(board[0])):\n",
    "                if self.findWordsRecu(board, trie, 0, i, j, visited, [], result):\n",
    "                    return True\n",
    "        \n",
    "        return result.keys()\n",
    "    \n",
    "    def findWordsRecu(self, board, trie, cur, i, j, visited, cur_word, result):\n",
    "        if not trie or i < 0 or i >= len(board) or j < 0 or j >= len(board[0]) or visited[i][j]:\n",
    "            return\n",
    "        \n",
    "        if board[i][j] not in trie.leaves:\n",
    "            return\n",
    "        \n",
    "        cur_word.append(board[i][j])\n",
    "        next_node = trie.leaves[board[i][j]]\n",
    "        if next_node.is_string:\n",
    "            result[\"\".join(cur_word)] = True\n",
    "        \n",
    "        visited[i][j] = True\n",
    "        self.findWordsRecu(board, next_node, cur + 1, i + 1, j, visited, cur_word, result)\n",
    "        self.findWordsRecu(board, next_node, cur + 1, i - 1, j, visited, cur_word, result)\n",
    "        self.findWordsRecu(board, next_node, cur + 1, i, j + 1, visited, cur_word, result)\n",
    "        self.findWordsRecu(board, next_node, cur + 1, i, j - 1, visited, cur_word, result)     \n",
    "        visited[i][j] = False\n",
    "        cur_word.pop()"
   ]
  },
  {
   "cell_type": "markdown",
   "metadata": {},
   "source": [
    "# 19. |216| [Combination Sum III](https://leetcode.com/problems/combination-sum-iii/)| [C++](./C++/combination-sum-iii.cpp) [Python](./Python/combination-sum-iii.py) | _O(k * C(n, k))_    | _O(k)_          | Medium         ||"
   ]
  },
  {
   "cell_type": "markdown",
   "metadata": {},
   "source": [
    "# 20. |254| [Factor Combinations](https://leetcode.com/problems/factor-combinations/) | [C++](./C++/factor-combinations.cpp)  [Python](./Python/factor-combinations.py)  | _O(nlogn)_ | _O(logn)_ | Medium         |📖||"
   ]
  },
  {
   "cell_type": "code",
   "execution_count": null,
   "metadata": {
    "collapsed": true
   },
   "outputs": [],
   "source": [
    "Numbers can be regarded as product of its factors. For example,\n",
    "\n",
    "8 = 2 x 2 x 2;\n",
    "  = 2 x 4.\n",
    "Write a function that takes an integer n and return all possible combinations of its factors.\n",
    "\n",
    "Note: \n",
    "\n",
    "Each combination's factors must be sorted ascending, for example: The factors of 2 and 6 is [2, 6], not [6, 2].\n",
    "You may assume that n is always positive.\n",
    "Factors should be greater than 1 and less than n."
   ]
  },
  {
   "cell_type": "code",
   "execution_count": null,
   "metadata": {
    "collapsed": true
   },
   "outputs": [],
   "source": []
  },
  {
   "cell_type": "markdown",
   "metadata": {},
   "source": [
    "# 21. |267| [Palindrome Permutation II](https://leetcode.com/problems/palindrome-permutation-ii/) | [C++](./C++/palindrome-permutation-ii.cpp) [Python](./Python/palindrome-permutation-ii.py)  | _O(n * n!)_ |  _O(n)_ | Medium         |📖||"
   ]
  },
  {
   "cell_type": "markdown",
   "metadata": {},
   "source": [
    "# 22. # |291| [Word Pattern II](https://leetcode.com/problems/word-pattern-ii/) | [C++](./C++/word-pattern-ii.cpp)  [Python](./Python/word-pattern-ii.py)  | _O(n * C(n - 1, c - 1))_ | _O(n + c)_ | Hard         |📖||"
   ]
  },
  {
   "cell_type": "markdown",
   "metadata": {},
   "source": [
    "# 23. |294| [Flip Game II](https://leetcode.com/problems/flip-game-ii/) | [C++](./C++/flip-game-ii.cpp) [Python](./Python/flip-game-ii.py)  | _O(n + c^2)_ | _O(c)_ | Medium         |📖| DP, Hash |"
   ]
  },
  {
   "cell_type": "markdown",
   "metadata": {},
   "source": [
    "# 24. |320| [Generalized Abbreviation](https://leetcode.com/problems/generalized-abbreviation/) | [C++](./C++/generalized-abbreviation.cpp) [Python](./Python/generalized-abbreviation.py)  | _O(n * 2^n)_ | _O(n)_ | Medium         |📖||"
   ]
  },
  {
   "cell_type": "markdown",
   "metadata": {},
   "source": [
    "# 25. |425| [Word Squares](https://leetcode.com/problems/word-squares/) | [C++](./C++/word-squares.cpp) [Python](./Python/word-squares.py)  | _O(n^2 * n!)_ | _O(n^2)_ | Hard         |📖||"
   ]
  }
 ],
 "metadata": {
  "kernelspec": {
   "display_name": "Python 2",
   "language": "python",
   "name": "python2"
  },
  "language_info": {
   "codemirror_mode": {
    "name": "ipython",
    "version": 2
   },
   "file_extension": ".py",
   "mimetype": "text/x-python",
   "name": "python",
   "nbconvert_exporter": "python",
   "pygments_lexer": "ipython2",
   "version": "2.7.13"
  }
 },
 "nbformat": 4,
 "nbformat_minor": 0
}
