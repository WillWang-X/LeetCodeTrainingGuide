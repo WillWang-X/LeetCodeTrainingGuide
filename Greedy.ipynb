{
 "cells": [
  {
   "cell_type": "markdown",
   "metadata": {},
   "source": [
    "# Greedy"
   ]
  },
  {
   "cell_type": "code",
   "execution_count": 12,
   "metadata": {
    "collapsed": false
   },
   "outputs": [],
   "source": [
    "import collections\n",
    "\n",
    "class Solution(object):\n",
    "    def removeDuplicateLetters(self, s):\n",
    "        \"\"\"\n",
    "        :type s: str\n",
    "        :rtype: str\n",
    "        \"\"\"\n",
    "        remaining = collections.defaultdict(int)\n",
    "        for c in s:\n",
    "            remaining[c] += 1\n",
    "        print remaining\n",
    "\n",
    "        in_stack, stk = set(), []\n",
    "        for c in s:\n",
    "            if c not in in_stack:\n",
    "                while stk and stk[-1] > c and remaining[stk[-1]]:\n",
    "                    in_stack.remove(stk.pop())\n",
    "                stk += c\n",
    "                in_stack.add(c)\n",
    "            remaining[c] -= 1\n",
    "            print in_stack\n",
    "            print stk\n",
    "            print '-'*10\n",
    "        return \"\".join(stk)"
   ]
  },
  {
   "cell_type": "code",
   "execution_count": 13,
   "metadata": {
    "collapsed": false
   },
   "outputs": [
    {
     "name": "stdout",
     "output_type": "stream",
     "text": [
      "defaultdict(<type 'int'>, {'a': 1, 'c': 4, 'b': 2, 'd': 1})\n",
      "set(['c'])\n",
      "['c']\n",
      "----------\n",
      "set(['b'])\n",
      "['b']\n",
      "----------\n",
      "set(['a'])\n",
      "['a']\n",
      "----------\n",
      "set(['a', 'c'])\n",
      "['a', 'c']\n",
      "----------\n",
      "set(['a', 'c', 'd'])\n",
      "['a', 'c', 'd']\n",
      "----------\n",
      "set(['a', 'c', 'd'])\n",
      "['a', 'c', 'd']\n",
      "----------\n",
      "set(['a', 'c', 'b', 'd'])\n",
      "['a', 'c', 'd', 'b']\n",
      "----------\n",
      "set(['a', 'c', 'b', 'd'])\n",
      "['a', 'c', 'd', 'b']\n",
      "----------\n",
      "acdb\n"
     ]
    }
   ],
   "source": [
    "print Solution().removeDuplicateLetters(\"cbacdcbc\")"
   ]
  },
  {
   "cell_type": "code",
   "execution_count": 14,
   "metadata": {
    "collapsed": false,
    "scrolled": true
   },
   "outputs": [
    {
     "name": "stdout",
     "output_type": "stream",
     "text": [
      "defaultdict(<type 'int'>, {'a': 1, 'c': 4, 'b': 2, 'd': 2})\n",
      "set(['c'])\n",
      "['c']\n",
      "----------\n",
      "set(['b'])\n",
      "['b']\n",
      "----------\n",
      "set(['a'])\n",
      "['a']\n",
      "----------\n",
      "set(['a', 'c'])\n",
      "['a', 'c']\n",
      "----------\n",
      "set(['a', 'c', 'd'])\n",
      "['a', 'c', 'd']\n",
      "----------\n",
      "set(['a', 'c', 'd'])\n",
      "['a', 'c', 'd']\n",
      "----------\n",
      "set(['a', 'b'])\n",
      "['a', 'b']\n",
      "----------\n",
      "set(['a', 'c', 'b'])\n",
      "['a', 'b', 'c']\n",
      "----------\n",
      "set(['a', 'c', 'b', 'd'])\n",
      "['a', 'b', 'c', 'd']\n",
      "----------\n",
      "abcd\n"
     ]
    }
   ],
   "source": [
    "print Solution().removeDuplicateLetters(\"cbacdcbcd\")"
   ]
  },
  {
   "cell_type": "code",
   "execution_count": 25,
   "metadata": {
    "collapsed": true
   },
   "outputs": [],
   "source": [
    "# Time: O(min(n,k))\n",
    "# Space: \n",
    "# Continuous Subarray Sum\n",
    "'''\n",
    "Solution:\n",
    "a % c = m\n",
    "b % c = m\n",
    "(a - b) % c = 0\n",
    "e.g. \n",
    "20 % 3 = 2   3*6 + 2\n",
    "8 % 3 = 2    3*2 + 2\n",
    "12 % 3 = 0\n",
    "remainder \n",
    "'''\n",
    "\n",
    "class Solution(object):\n",
    "    def checkSubarraySum(self, nums, k):\n",
    "        \"\"\"\n",
    "        :type nums: List[int]\n",
    "        :type k: int\n",
    "        :rtype: bool\n",
    "        \"\"\"\n",
    "        \n",
    "        # [0,0,1]  k = 0\n",
    "        if k == 0:\n",
    "            # if two continuous zeros in nums, return True\n",
    "            # time O(n)\n",
    "            for i in range(0, len(nums) - 1):\n",
    "                if nums[i] == 0 and nums[i+1] == 0:\n",
    "                    return True\n",
    "            return False\n",
    "        \n",
    "        # [2,3,4,5,2]  k = 2   \n",
    "        # 2+3+4+5 = 14 \n",
    "        k = abs(k)\n",
    "        if len(nums) >= k * 2:\n",
    "            return True\n",
    "        \n",
    "        print 'test'\n",
    "        #if n >= 2k: return True\n",
    "        #if n < 2k:  time O(n) is O(k)  \n",
    "\n",
    "        sum = [0]\n",
    "        for x in nums:\n",
    "            sum.append((sum[-1] + x) % k)\n",
    "            print 'test for '\n",
    "        \n",
    "        print sum\n",
    "        #         [23, 2, 4, 6, 7] k = 6\n",
    "        # sum = [0, 5, 1, 5, 5, 0] \n",
    "        Dict = {}\n",
    "        for i in range(0, len(sum)):\n",
    "            if Dict.has_key(sum[i]):\n",
    "                if i - Dict[sum[i]] > 1:\n",
    "                    print Dict\n",
    "                    # Dict {0: 0, 1: 2, 5: 1}\n",
    "                    # i = 3, sum[i] = 5, Dict[sum[i]] = 1\n",
    "                    return True\n",
    "            else:\n",
    "                Dict[sum[i]] = i\n",
    "        # Dict = \n",
    "        return False\n",
    "            "
   ]
  },
  {
   "cell_type": "code",
   "execution_count": 26,
   "metadata": {
    "collapsed": false
   },
   "outputs": [
    {
     "name": "stdout",
     "output_type": "stream",
     "text": [
      "test\n",
      "test for \n",
      "test for \n",
      "test for \n",
      "test for \n",
      "test for \n",
      "[0, 5, 1, 5, 5, 0]\n",
      "{0: 0, 1: 2, 5: 1}\n",
      "True\n"
     ]
    }
   ],
   "source": [
    "print Solution().checkSubarraySum([23, 2, 4, 6, 7],6)"
   ]
  }
 ],
 "metadata": {
  "kernelspec": {
   "display_name": "Python 2",
   "language": "python",
   "name": "python2"
  },
  "language_info": {
   "codemirror_mode": {
    "name": "ipython",
    "version": 2
   },
   "file_extension": ".py",
   "mimetype": "text/x-python",
   "name": "python",
   "nbconvert_exporter": "python",
   "pygments_lexer": "ipython2",
   "version": "2.7.13"
  }
 },
 "nbformat": 4,
 "nbformat_minor": 0
}
