{
 "cells": [
  {
   "cell_type": "markdown",
   "metadata": {},
   "source": [
    "# Sort"
   ]
  },
  {
   "cell_type": "markdown",
   "metadata": {},
   "source": [
    "|  #  | Title           |  Solution       |  Time           | Space           | Difficulty    | Tag          | Note| \n",
    "|-----|---------------- | --------------- | --------------- | --------------- | ------------- |--------------|-----|\n",
    "|56| [Merge Intervals](https://leetcode.com/problems/merge-intervals/)| [C++](./C++/merge-intervals.cpp) [Python](./Python/merge-intervals.py) | _O(nlogn)_  | _O(1)_        | Hard           ||\n",
    "|57| [Insert Interval](https://leetcode.com/problems/insert-interval/)| [C++](./C++/insert-interval.cpp) [Python](./Python/insert-interval.py) | _O(n)_    | _O(1)_          | Hard           ||\n",
    "|75| [Sort Colors](https://leetcode.com/problems/sort-colors/)   | [C++](./C++/sort-colors.cpp) [Python](./Python/sort-colors.py) | _O(n)_         | _O(1)_          | Medium         || Tri Partition\n",
    "|88| [Merge Sorted Array](https://leetcode.com/problems/merge-sorted-array/)| [C++](./C++/merge-sorted-array.cpp) [Python](./Python/merge-sorted-array.py) | _O(n)_ | _O(1)_       | Easy           ||\n",
    "|147| [Insertion Sort List](https://leetcode.com/problems/insertion-sort-list/)|[C++](./C++/insertion-sort-list.cpp) [Python](./Python/insertion-sort-list.py) | _O(n^2)_ | _O(1)_    | Medium         ||\n",
    "|148| [Sort List](https://leetcode.com/problems/sort-list/)     | [C++](./C++/sort-list.cpp) [Python](./Python/sort-list.py)  | _O(nlogn)_      | _O(logn)_       | Medium         ||\n",
    "|164| [Maximum Gap](https://leetcode.com/problems/maximum-gap/)   | [C++](./C++/maximum-gap.cpp) [Python](./Python/maximum-gap.py)| _O(n)_          | _O(n)_          | Hard           || Tricky \n",
    "|179| [Largest Number](https://leetcode.com/problems/largest-number/) | [C++](./C++/largest-number.cpp) [Python](./Python/largest-number.py) | _O(nlogn)_   | _O(1)_        | Medium         ||\n",
    "|218| [The Skyline Problem](https://leetcode.com/problems/the-skyline-problem/) | [C++](./C++/the-skyline-problem.cpp) [Python](./Python/the-skyline-problem.py) | _O(nlogn)_   | _O(n)_        | Hard         || Sort, BST|\n",
    "|252| [Meeting Rooms](https://leetcode.com/problems/meeting-rooms/) | [C++](./C++/meeting-rooms.cpp) [Python](./Python/meeting-rooms.py) | _O(nlogn)_   | _O(n)_        | Easy         |📖| |\n",
    "|253| [Meeting Rooms II](https://leetcode.com/problems/meeting-rooms-ii/) | [C++](./C++/meeting-rooms-ii.cpp) [Python](./Python/meeting-rooms-ii.py) | _O(nlogn)_   | _O(n)_        | Medium         |📖| |\n",
    "|274| [H-Index](https://leetcode.com/problems/h-index/) | [C++](./C++/h-index.cpp)  [Python](./Python/h-index.py)  | _O(n)_ | _O(n)_ | Medium         || Counting Sort |\n",
    "|280| [Wiggle Sort](https://leetcode.com/problems/wiggle-sort/) | [C++](./C++/wiggle-sort.cpp) [Python](./Python/wiggle-sort.py) | _O(n)_   | _O(1)_        | Medium         |📖| |\n",
    "|324| [Wiggle Sort II](https://leetcode.com/problems/wiggle-sort-ii/) | [C++](./C++/wiggle-sort-ii.cpp) [Python](./Python/wiggle-sort-ii.py) | _O(n)_  on average | _O(1)_        | Medium         | variant of [Sort Colors](https://leetcode.com/problems/sort-colors/) | Tri Partition |\n",
    "|347| [Top K Frequent Elements](https://leetcode.com/problems/top-k-frequent-elements/) | [C++](./C++/top-k-frequent-elements.cpp) [Python](./Python/top-k-frequent-elements.py) | _O(n)_  on average | _O(n)_        | Medium         | | Quick Select, Heap |\n",
    "|406| [Queue Reconstruction by Height](https://leetcode.com/problems/queue-reconstruction-by-height/) | [C++](./C++/queue-reconstruction-by-height.cpp) [Python](./Python/queue-reconstruction-by-height.py) | _O(n * sqrt(n))_ | _O(n)_        | Medium         | | |\n",
    "|451| [Sort Characters By Frequency](https://leetcode.com/problems/sort-characters-by-frequency/) | [C++](./C++/sort-characters-by-frequency.cpp) [Python](./Python/sort-characters-by-frequency.py) | _O(n)_ | _O(n)_        | Medium         | | |"
   ]
  },
  {
   "cell_type": "markdown",
   "metadata": {},
   "source": [
    "# 1. |56| [Merge Intervals](https://leetcode.com/problems/merge-intervals/)| [C++](./C++/merge-intervals.cpp) [Python](./Python/merge-intervals.py) | _O(nlogn)_  | _O(1)_        | Hard           ||"
   ]
  },
  {
   "cell_type": "markdown",
   "metadata": {},
   "source": [
    "# 2. |57| [Insert Interval](https://leetcode.com/problems/insert-interval/)| [C++](./C++/insert-interval.cpp) [Python](./Python/insert-interval.py) | _O(n)_    | _O(1)_          | Hard           ||"
   ]
  },
  {
   "cell_type": "markdown",
   "metadata": {},
   "source": [
    "# 3. |75| [Sort Colors](https://leetcode.com/problems/sort-colors/)   | [C++](./C++/sort-colors.cpp) [Python](./Python/sort-colors.py) | _O(n)_         | _O(1)_          | Medium         || Tri Partition"
   ]
  },
  {
   "cell_type": "markdown",
   "metadata": {},
   "source": [
    "# 4. |88| [Merge Sorted Array](https://leetcode.com/problems/merge-sorted-array/)| [C++](./C++/merge-sorted-array.cpp) [Python](./Python/merge-sorted-array.py) | _O(n)_ | _O(1)_       | Easy           ||"
   ]
  },
  {
   "cell_type": "markdown",
   "metadata": {},
   "source": [
    "# 5. |147| [Insertion Sort List](https://leetcode.com/problems/insertion-sort-list/)|[C++](./C++/insertion-sort-list.cpp) [Python](./Python/insertion-sort-list.py) | _O(n^2)_ | _O(1)_    | Medium         ||"
   ]
  },
  {
   "cell_type": "markdown",
   "metadata": {},
   "source": [
    "# 6. |148| [Sort List](https://leetcode.com/problems/sort-list/)     | [C++](./C++/sort-list.cpp) [Python](./Python/sort-list.py)  | _O(nlogn)_      | _O(logn)_       | Medium         ||"
   ]
  },
  {
   "cell_type": "markdown",
   "metadata": {},
   "source": [
    "# 7. |164| [Maximum Gap](https://leetcode.com/problems/maximum-gap/)   | [C++](./C++/maximum-gap.cpp) [Python](./Python/maximum-gap.py)| _O(n)_          | _O(n)_          | Hard           || Tricky "
   ]
  },
  {
   "cell_type": "markdown",
   "metadata": {},
   "source": [
    "# 8. |179| [Largest Number](https://leetcode.com/problems/largest-number/) | [C++](./C++/largest-number.cpp) [Python](./Python/largest-number.py) | _O(nlogn)_   | _O(1)_        | Medium         ||"
   ]
  },
  {
   "cell_type": "markdown",
   "metadata": {},
   "source": [
    "# 9. |218| [The Skyline Problem](https://leetcode.com/problems/the-skyline-problem/) || _O(nlogn)_   | _O(n)_        | Hard         || Sort, BST|"
   ]
  },
  {
   "cell_type": "code",
   "execution_count": null,
   "metadata": {
    "collapsed": true
   },
   "outputs": [],
   "source": [
    "A city's skyline is the outer contour of the silhouette formed by all the buildings \n",
    "in that city when viewed from a distance. \n",
    "Now suppose you are given the locations and height of all the buildings as shown on a cityscape photo (Figure A), \n",
    "write a program to output the skyline formed by these buildings collectively (Figure B)."
   ]
  },
  {
   "cell_type": "markdown",
   "metadata": {},
   "source": [
    "![218](https://leetcode.com/static/images/problemset/skyline1.jpg)\n",
    "![218](https://leetcode.com/static/images/problemset/skyline2.jpg)"
   ]
  },
  {
   "cell_type": "code",
   "execution_count": null,
   "metadata": {
    "collapsed": true
   },
   "outputs": [],
   "source": [
    "Buildings Skyline Contour\n",
    "The geometric information of each building is represented by a triplet of integers [Li, Ri, Hi], \n",
    "where Li and Ri are the x coordinates of the left and right edge of the ith building, respectively, \n",
    "and Hi is its height. It is guaranteed that 0 ≤ Li, Ri ≤ INT_MAX, 0 < Hi ≤ INT_MAX, and Ri - Li > 0. \n",
    "You may assume all buildings are perfect rectangles grounded on an absolutely flat surface at height 0.\n",
    "\n",
    "For instance, the dimensions of all buildings in Figure A are recorded as: \n",
    "[ [2 9 10], [3 7 15], [5 12 12], [15 20 10], [19 24 8] ] .\n",
    "\n",
    "The output is a list of \"key points\" (red dots in Figure B) \n",
    "in the format of [ [x1,y1], [x2, y2], [x3, y3], ... ] that uniquely defines a skyline. \n",
    "A key point is the left endpoint of a horizontal line segment. \n",
    "Note that the last key point, \n",
    "where the rightmost building ends, is merely used to mark the termination of the skyline, \n",
    "and always has zero height. \n",
    "Also, the ground in between any two adjacent buildings should be considered part of the skyline contour.\n",
    "\n",
    "For instance, the skyline in Figure B should be represented as:\n",
    "[ [2 10], [3 15], [7 12], [12 0], [15 10], [20 8], [24, 0] ].\n",
    "\n",
    "Notes:\n",
    "The number of buildings in any input list is guaranteed to be in the range [0, 10000].\n",
    "The input list is already sorted in ascending order by the left x position Li.\n",
    "The output list must be sorted by the x position.\n",
    "There must be no consecutive horizontal lines of equal height in the output skyline. \n",
    "For instance, [...[2 3], [4 5], [7 5], [11 5], [12 7]...] is not acceptable; \n",
    "the three lines of height 5 should be merged into one in the final output as such: [...[2 3], [4 5], [12 7], ...]"
   ]
  },
  {
   "cell_type": "markdown",
   "metadata": {},
   "source": [
    "# solution"
   ]
  },
  {
   "cell_type": "code",
   "execution_count": null,
   "metadata": {
    "collapsed": true
   },
   "outputs": [],
   "source": []
  },
  {
   "cell_type": "markdown",
   "metadata": {},
   "source": [
    "## Notes"
   ]
  },
  {
   "cell_type": "markdown",
   "metadata": {},
   "source": [
    "- [Skyline Problem](https://www.educative.io/page/11000001/70001)\n",
    "- [The skyline problem visualization](https://briangordon.github.io/2014/08/the-skyline-problem.html)"
   ]
  },
  {
   "cell_type": "markdown",
   "metadata": {},
   "source": [
    "# 10. |252| [Meeting Rooms](https://leetcode.com/problems/meeting-rooms/) | [C++](./C++/meeting-rooms.cpp) [Python](./Python/meeting-rooms.py) | _O(nlogn)_   | _O(n)_        | Easy         |📖| |"
   ]
  },
  {
   "cell_type": "code",
   "execution_count": null,
   "metadata": {
    "collapsed": true
   },
   "outputs": [],
   "source": [
    "Given an array of meeting time intervals consisting of start and end times [[s1,e1],[s2,e2],...] (si < ei), \n",
    "determine if a person could attend all meetings.\n",
    "\n",
    "For example, Given [[0, 30],[5, 10],[15, 20]], return false."
   ]
  },
  {
   "cell_type": "code",
   "execution_count": null,
   "metadata": {
    "collapsed": true
   },
   "outputs": [],
   "source": [
    "def canAttendMeetings(self, intervals):\n",
    "    intervals.sort(key=lambda x: x.start)\n",
    "    \n",
    "    for i in range(1, len(intervals)):\n",
    "        if intervals[i].start < intervals[i-1].end:\n",
    "            return False\n",
    "        \n",
    "    return True\n",
    "\n",
    "# https://discuss.leetcode.com/topic/20913/my-python-solution/2"
   ]
  },
  {
   "cell_type": "markdown",
   "metadata": {},
   "source": [
    "# 11. |253| [Meeting Rooms II](https://leetcode.com/problems/meeting-rooms-ii/) | [C++](./C++/meeting-rooms-ii.cpp) [Python](./Python/meeting-rooms-ii.py) | _O(nlogn)_   | _O(n)_        | Medium         |📖| |"
   ]
  },
  {
   "cell_type": "code",
   "execution_count": null,
   "metadata": {
    "collapsed": true
   },
   "outputs": [],
   "source": [
    "Given an array of meeting time intervals consisting of start and end times [[s1,e1],[s2,e2],...] (si < ei), \n",
    "find the minimum number of conference rooms required.\n",
    "\n",
    "For example, Given [[0, 30],[5, 10],[15, 20]], return 2."
   ]
  },
  {
   "cell_type": "markdown",
   "metadata": {},
   "source": [
    "## Solution"
   ]
  },
  {
   "cell_type": "code",
   "execution_count": null,
   "metadata": {
    "collapsed": true
   },
   "outputs": [],
   "source": [
    " # No need Heap   \n",
    " # Very similar with what we do in real life. Whenever you want to start a meeting, \n",
    " # you go and check if any empty room available (available > 0) and\n",
    " # if so take one of them ( available -=1 ). Otherwise,\n",
    " # you need to find a new room someplace else ( numRooms += 1 ).  \n",
    " # After you finish the meeting, the room becomes available again ( available += 1 ).\n",
    " \n",
    " def minMeetingRooms(self, intervals):\n",
    "        starts = []\n",
    "        ends = []\n",
    "        for i in intervals:\n",
    "            starts.append(i.start)\n",
    "            ends.append(i.end)\n",
    "        \n",
    "        starts.sort()\n",
    "        ends.sort()\n",
    "        s = e = 0\n",
    "        numRooms = available = 0\n",
    "        while s < len(starts):\n",
    "            if starts[s] < ends[e]:\n",
    "                if available == 0:\n",
    "                    numRooms += 1\n",
    "                else:\n",
    "                    available -= 1\n",
    "                    \n",
    "                s += 1\n",
    "            else:\n",
    "                available += 1\n",
    "                e += 1\n",
    "        \n",
    "        return numRooms\n",
    "    \n",
    "    \n",
    "# https://discuss.leetcode.com/topic/20912/my-python-solution-with-explanation"
   ]
  },
  {
   "cell_type": "code",
   "execution_count": null,
   "metadata": {
    "collapsed": true
   },
   "outputs": [],
   "source": [
    "def minMeetingRooms(self, intervals):\n",
    "    intervals.sort(key=lambda x:x.start)\n",
    "    heap = []  # stores the end time of intervals\n",
    "    for i in intervals:\n",
    "        if heap and i.start >= heap[0]: \n",
    "            # means two intervals can use the same room\n",
    "            heapq.heapreplace(heap, i.end)\n",
    "        else:\n",
    "            # a new room is allocated\n",
    "            heapq.heappush(heap, i.end)\n",
    "    return len(heap)\n",
    "\n",
    "# https://discuss.leetcode.com/topic/25904/python-heap-solution-with-comments"
   ]
  },
  {
   "cell_type": "markdown",
   "metadata": {},
   "source": [
    "# 12. |274| [H-Index](https://leetcode.com/problems/h-index/) | [C++](./C++/h-index.cpp)  [Python](./Python/h-index.py)  | _O(n)_ | _O(n)_ | Medium         || Counting Sort |"
   ]
  },
  {
   "cell_type": "code",
   "execution_count": null,
   "metadata": {
    "collapsed": true
   },
   "outputs": [],
   "source": [
    "Given an array of citations (each citation is a non-negative integer) of a researcher, \n",
    "write a function to compute the researcher’s h-index.\n",
    "According to the definition of h-index on Wikipedia:\n",
    "“A scientist has index h if h of his/her N papers have at least h citations each, \n",
    "and the other N ? h papers have no more than h citations each.”\n",
    "\n",
    "For example, given citations = [3, 0, 6, 1, 5], \n",
    "which means the researcher has 5 papers in total and each of them had received 3, 0, 6, 1, 5 citations respectively. \n",
    "Since the researcher has 3 papers with at least 3 citations each \n",
    "and the remaining two with no more than 3 citations each, his h-index is 3.\n",
    "\n",
    "Note: \n",
    "If there are several possible values for h, the maximum one is taken as the h-index."
   ]
  },
  {
   "cell_type": "markdown",
   "metadata": {},
   "source": [
    "## Solution"
   ]
  },
  {
   "cell_type": "code",
   "execution_count": null,
   "metadata": {
    "collapsed": true
   },
   "outputs": [],
   "source": [
    "# Time: O(nlogn)\n",
    "# Space: O(1)\n",
    "\n",
    "def hIndex(self, citations):\n",
    "    citations.sort()\n",
    "    n = len(citations)\n",
    "    for i in xrange(n):\n",
    "        if citations[i] >= (n-i):\n",
    "            return n-i\n",
    "    return 0"
   ]
  },
  {
   "cell_type": "code",
   "execution_count": null,
   "metadata": {
    "collapsed": true
   },
   "outputs": [],
   "source": [
    "# Time: O(n)\n",
    "# Space: O(n)\n",
    "\n",
    "def hIndex(self, citations):\n",
    "    n = len(citations)\n",
    "    citeCount = [0] * (n+1)\n",
    "    for c in citations:\n",
    "        if c >= n:\n",
    "            citeCount[n] += 1\n",
    "        else:\n",
    "            citeCount[c] += 1\n",
    "    \n",
    "    i = n-1\n",
    "    while i >= 0:\n",
    "        citeCount[i] += citeCount[i+1]\n",
    "        if citeCount[i+1] >= i+1:\n",
    "            return i+1\n",
    "        i -= 1\n",
    "    return 0"
   ]
  },
  {
   "cell_type": "code",
   "execution_count": null,
   "metadata": {
    "collapsed": true
   },
   "outputs": [],
   "source": [
    "return sum(i < j for i, j in enumerate(sorted(citations, reverse=True)))\n",
    "# https://discuss.leetcode.com/topic/23298/1-line-python-solution "
   ]
  },
  {
   "cell_type": "markdown",
   "metadata": {},
   "source": [
    "## Notes"
   ]
  },
  {
   "cell_type": "code",
   "execution_count": null,
   "metadata": {
    "collapsed": true
   },
   "outputs": [],
   "source": [
    "https://discuss.leetcode.com/topic/23810/python-o-n-lgn-time-with-sort-o-n-time-with-o-n-space/2\n",
    "\n",
    "常规的做法有两种，也是题目tips中提到的，首先想到的是将数组进行排序，然后从后往前遍历，找出这个h值，该方法的复杂度是：O(n*logn)。\n",
    "\n",
    "在面试中，若允许使用辅助内存，可以使用第二种方法，即开辟一个新数组record，\n",
    "用于记录0~N次引用次数的各有几篇文章（引用次数大于N的按照N次计算）遍历数组，\n",
    "统计过后，遍历一次统计数组record，即可算出h值的最大值。时间复杂度为O(n)。"
   ]
  },
  {
   "cell_type": "markdown",
   "metadata": {},
   "source": [
    "# 13. |280| [Wiggle Sort](https://leetcode.com/problems/wiggle-sort/) | [C++](./C++/wiggle-sort.cpp) [Python](./Python/wiggle-sort.py) | _O(n)_   | _O(1)_        | Medium         |📖| |"
   ]
  },
  {
   "cell_type": "code",
   "execution_count": null,
   "metadata": {
    "collapsed": true
   },
   "outputs": [],
   "source": [
    "Given an unsorted array nums, reorder it in-place such that nums[0] <= nums[1] >= nums[2] <= nums[3]....\n",
    "\n",
    "For example, given nums = [3, 5, 2, 1, 6, 4], one possible answer is [1, 6, 2, 5, 3, 4]."
   ]
  },
  {
   "cell_type": "code",
   "execution_count": null,
   "metadata": {
    "collapsed": true
   },
   "outputs": [],
   "source": [
    "# Time: O(n)\n",
    "# Space: O(1)\n",
    "# Wiggle Sort \n",
    "\n",
    "class Solution(object):\n",
    "    def wiggleSort(self, a):\n",
    "        if not a:\n",
    "            return\n",
    "        n = len(a)\n",
    "        for i in xrange(1, n, 2):\n",
    "            if a[i] < a[i-1]:\n",
    "                a[i], a[i-1] = a[i-1], a[i]\n",
    "            \n",
    "            if i + 1 < n and a[i] < a[i+1]:\n",
    "                a[i], a[i+1] = a[i+1], a[i]"
   ]
  },
  {
   "cell_type": "code",
   "execution_count": null,
   "metadata": {
    "collapsed": true
   },
   "outputs": [],
   "source": [
    "\n",
    "\n",
    "def wiggleSort(self, nums):\n",
    "    for i in range(len(nums)):\n",
    "        nums[i:i+2] = sorted(nums[i:i+2], reverse=i%2)"
   ]
  },
  {
   "cell_type": "code",
   "execution_count": null,
   "metadata": {
    "collapsed": true
   },
   "outputs": [],
   "source": [
    "https://discuss.leetcode.com/topic/23875/easy-code-of-python/2\n",
    "https://segmentfault.com/a/1190000003783283"
   ]
  },
  {
   "cell_type": "markdown",
   "metadata": {},
   "source": [
    "# 14. |324| [Wiggle Sort II](https://leetcode.com/problems/wiggle-sort-ii/) | [C++](./C++/wiggle-sort-ii.cpp) [Python](./Python/wiggle-sort-ii.py) | _O(n)_  on average | _O(1)_        | Medium         | variant of [Sort Colors](https://leetcode.com/problems/sort-colors/) | Tri Partition |"
   ]
  },
  {
   "cell_type": "code",
   "execution_count": null,
   "metadata": {
    "collapsed": true
   },
   "outputs": [],
   "source": [
    "Given an unsorted array nums, reorder it such that nums[0] < nums[1] > nums[2] < nums[3]....\n",
    "\n",
    "Example:\n",
    "(1) Given nums = [1, 5, 1, 1, 6, 4], one possible answer is [1, 4, 1, 5, 1, 6]. \n",
    "(2) Given nums = [1, 3, 2, 2, 3, 1], one possible answer is [2, 3, 1, 3, 1, 2].\n",
    "\n",
    "Note:\n",
    "You may assume all input has valid answer.\n",
    "\n",
    "Follow Up:\n",
    "Can you do it in O(n) time and/or in-place with O(1) extra space?"
   ]
  },
  {
   "cell_type": "code",
   "execution_count": null,
   "metadata": {
    "collapsed": true
   },
   "outputs": [],
   "source": [
    "# Time:  O(n)\n",
    "# Space: O(1)\n",
    "\n",
    "class Solution(object):\n",
    "    def wiggleSort(self, nums):\n",
    "        \"\"\"\n",
    "        :type nums: List[int]\n",
    "        :rtype: void Do not return anything, modify nums in-place instead.\n",
    "        \"\"\"\n",
    "        "
   ]
  },
  {
   "cell_type": "code",
   "execution_count": null,
   "metadata": {
    "collapsed": true
   },
   "outputs": [],
   "source": [
    "def wiggleSort(self, nums):\n",
    "    nums.sort()\n",
    "    half = len(nums[::2])\n",
    "    nums[::2], nums[1::2] = nums[:half][::-1], nums[half:][::-1]\n",
    "    \n",
    "    \n",
    "# https://discuss.leetcode.com/topic/32861/3-lines-python-with-explanation-proof"
   ]
  },
  {
   "cell_type": "code",
   "execution_count": null,
   "metadata": {
    "collapsed": true
   },
   "outputs": [],
   "source": [
    "https://discuss.leetcode.com/topic/32929/o-n-o-1-after-median-virtual-indexing"
   ]
  },
  {
   "cell_type": "markdown",
   "metadata": {},
   "source": [
    "# 15. |347| [Top K Frequent Elements](https://leetcode.com/problems/top-k-frequent-elements/) | [C++](./C++/top-k-frequent-elements.cpp) [Python](./Python/top-k-frequent-elements.py) | _O(n)_  on average | _O(n)_        | Medium         | | Quick Select, Heap |   "
   ]
  },
  {
   "cell_type": "code",
   "execution_count": null,
   "metadata": {
    "collapsed": true
   },
   "outputs": [],
   "source": [
    "Given a non-empty array of integers, return the k most frequent elements.\n",
    "For example,\n",
    "Given [1,1,1,2,2,3] and k = 2, return [1,2].\n",
    "Note:\n",
    "You may assume k is always valid, 1 ≤ k ≤ number of unique elements.\n",
    "Your algorithm’s time complexity must be better than O(n log n), where n is the array’s size."
   ]
  },
  {
   "cell_type": "code",
   "execution_count": null,
   "metadata": {
    "collapsed": true
   },
   "outputs": [],
   "source": [
    "# Q \n",
    "Bucket!!!"
   ]
  },
  {
   "cell_type": "markdown",
   "metadata": {},
   "source": [
    "## Solution"
   ]
  },
  {
   "cell_type": "code",
   "execution_count": null,
   "metadata": {
    "collapsed": true
   },
   "outputs": [],
   "source": [
    "# Time: O(n)\n",
    "# Space: O(n)\n",
    "# 347. Top K frequent elements \n",
    "\n",
    "import collections\n",
    "\n",
    "class Solution(object):\n",
    "    def topKFrequent(self, nums, k):\n",
    "        \"\"\"\n",
    "        :type nums: List[int]\n",
    "        :type k: int\n",
    "        :rtype: List[int]\n",
    "        \"\"\"\n",
    "        # Use Counter to extract the top k frequent elements\n",
    "        # most_common(k) return a list of tuples, where the first item of the tuple is the element,\n",
    "        # and the second item of the tuple is the count\n",
    "        # Thus, the built-in zip function could be used to extract the first item from the tuples\n",
    "        #return zip(*collections.Counter(nums).most_common(k))[0]\n",
    "        return [i[0] for i in Counter(nums).most_common(k)]"
   ]
  },
  {
   "cell_type": "markdown",
   "metadata": {},
   "source": [
    "## Notes"
   ]
  },
  {
   "cell_type": "code",
   "execution_count": null,
   "metadata": {
    "collapsed": true
   },
   "outputs": [],
   "source": [
    "https://discuss.leetcode.com/topic/44323/1-line-python-solution-using-counter-with-explanation\n",
    "https://discuss.leetcode.com/topic/44313/3-ways-to-solve-this-problem\n",
    "https://discuss.leetcode.com/topic/45185/concise-solution-o-n-klogn-python-using-minheap-and-dict\n",
    "https://discuss.leetcode.com/topic/44246/python-o-n-solution-dictionary-quick-select"
   ]
  },
  {
   "cell_type": "markdown",
   "metadata": {},
   "source": [
    "# 16. |406| [Queue Reconstruction by Height](https://leetcode.com/problems/queue-reconstruction-by-height/) | [C++](./C++/queue-reconstruction-by-height.cpp) [Python](./Python/queue-reconstruction-by-height.py) | _O(n * sqrt(n))_ | _O(n)_        | Medium         | | |"
   ]
  },
  {
   "cell_type": "code",
   "execution_count": null,
   "metadata": {
    "collapsed": true
   },
   "outputs": [],
   "source": [
    "Suppose you have a random list of people standing in a queue. Each person is described by a pair of integers (h, k), \n",
    "where h is the height of the person and k is the number of people \n",
    "in front of this person who have a height greater than or equal to h. \n",
    "Write an algorithm to reconstruct the queue.\n",
    "\n",
    "Note: \n",
    "The number of people is less than 1,100.\n",
    "\n",
    "Example\n",
    "\n",
    "Input: \n",
    "[[7,0], [4,4], [7,1], [5,0], [6,1], [5,2]]\n",
    "\n",
    "Output: \n",
    "[[5,0], [7,0], [5,2], [6,1], [4,4], [7,1]]"
   ]
  },
  {
   "cell_type": "markdown",
   "metadata": {},
   "source": [
    "## Solution"
   ]
  },
  {
   "cell_type": "code",
   "execution_count": null,
   "metadata": {
    "collapsed": true
   },
   "outputs": [],
   "source": [
    "# Time: O(nlogn)\n",
    "# Space: O(n)\n",
    "# 406 Queue Reconstruction by Height \n",
    "\n",
    "class Solution(object):\n",
    "    def reconstructQueue(self, people):\n",
    "        \"\"\"\n",
    "            :type people: List[List[int]]\n",
    "            :rtype: List[List[int]]\n",
    "        \"\"\"\n",
    "        people.sort(key=lambda (h, k): (-h, k))\n",
    "        queue = []\n",
    "        for p in people:\n",
    "            queue.insert(p[1], p)\n",
    "        return queue"
   ]
  },
  {
   "cell_type": "markdown",
   "metadata": {},
   "source": [
    "## Notes"
   ]
  },
  {
   "cell_type": "code",
   "execution_count": null,
   "metadata": {
    "collapsed": true
   },
   "outputs": [],
   "source": [
    "https://discuss.leetcode.com/topic/60981/explanation-of-the-neat-sort-insert-solution"
   ]
  },
  {
   "cell_type": "code",
   "execution_count": null,
   "metadata": {
    "collapsed": true
   },
   "outputs": [],
   "source": [
    "首先我们给队列先排个序，按照身高高的排前面，如果身高相同，则第二个数小的排前面。\n",
    "然后我们新建一个空的数组，遍历之前排好序的数组，然后根据每个元素的第二个数字，将其插入到res数组中对应的位置"
   ]
  },
  {
   "cell_type": "markdown",
   "metadata": {},
   "source": [
    "# 17. |451| [Sort Characters By Frequency](https://leetcode.com/problems/sort-characters-by-frequency/) | [C++](./C++/sort-characters-by-frequency.cpp) [Python](./Python/sort-characters-by-frequency.py) | _O(n)_ | _O(n)_        | Medium         | | |      "
   ]
  }
 ],
 "metadata": {
  "kernelspec": {
   "display_name": "Python 2",
   "language": "python",
   "name": "python2"
  },
  "language_info": {
   "codemirror_mode": {
    "name": "ipython",
    "version": 2
   },
   "file_extension": ".py",
   "mimetype": "text/x-python",
   "name": "python",
   "nbconvert_exporter": "python",
   "pygments_lexer": "ipython2",
   "version": "2.7.13"
  }
 },
 "nbformat": 4,
 "nbformat_minor": 0
}
