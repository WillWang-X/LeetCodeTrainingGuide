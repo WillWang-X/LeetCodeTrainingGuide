{
 "cells": [
  {
   "cell_type": "markdown",
   "metadata": {},
   "source": [
    "# Shell Script"
   ]
  },
  {
   "cell_type": "markdown",
   "metadata": {},
   "source": [
    "|  #  | Title           |  Solution       |  Time           | Space           | Difficulty    | Tag          | Note| \n",
    "|-----|---------------- | --------------- | --------------- | --------------- | ------------- |--------------|-----|\n",
    "|192 | [Word Frequency](https://leetcode.com/problems/word-frequency/) | [Shell](./Shell/word-frequency.sh) | _O(n)_     | _O(k)_          | Medium         ||\n",
    "|193 | [Valid Phone Numbers](https://leetcode.com/problems/valid-phone-numbers/) | [Shell](./Shell/valid-phone-numbers.sh) | _O(n)_ | _O(1)_    | Easy           ||\n",
    "|194 | [Transpose File](https://leetcode.com/problems/transpose-file/) | [Shell](./Shell/transpose-file.sh) | _O(n^2)_   | _O(n^2)_        | Medium         ||\n",
    "|195 | [Tenth Line](https://leetcode.com/problems/tenth-line/) | [Shell](./Shell/tenth-line.sh)    | _O(n)_          | _O(1)_          | Easy           ||\n"
   ]
  },
  {
   "cell_type": "markdown",
   "metadata": {},
   "source": [
    "# 1. |192 | [Word Frequency](https://leetcode.com/problems/word-frequency/) "
   ]
  },
  {
   "cell_type": "code",
   "execution_count": null,
   "metadata": {
    "collapsed": true
   },
   "outputs": [],
   "source": [
    "Write a bash script to calculate the frequency of each word in a text file words.txt.\n",
    "\n",
    "For simplicity sake, you may assume:\n",
    "\n",
    "words.txt contains only lowercase characters and space ' ' characters.\n",
    "Each word must consist of lowercase characters only.\n",
    "Words are separated by one or more whitespace characters.\n",
    "For example, assume that words.txt has the following content:\n",
    "\n",
    "the day is sunny the the\n",
    "the sunny is is\n",
    "Your script should output the following, sorted by descending frequency:\n",
    "the 4\n",
    "is 3\n",
    "sunny 2\n",
    "day 1\n",
    "Note:\n",
    "Don't worry about handling ties, it is guaranteed that each word's frequency count is unique."
   ]
  },
  {
   "cell_type": "code",
   "execution_count": null,
   "metadata": {
    "collapsed": true
   },
   "outputs": [],
   "source": [
    "# Time:  O(n)\n",
    "# Space: O(k), k is number of words\n",
    "#\n",
    "\n",
    "awk '{for(i=1;i<=NF;i++) a[$i]++} END {for(k in a) print k,a[k]}' words.txt | sort -k2 -nr"
   ]
  },
  {
   "cell_type": "code",
   "execution_count": null,
   "metadata": {
    "collapsed": true
   },
   "outputs": [],
   "source": [
    "# Read from the file words.txt and output the word frequency list to stdout.\n",
    "awk '{\n",
    "    for (i=1;i<=NF;i++) {\n",
    "        wf[$i]++;\n",
    "    }\n",
    "}\n",
    "END {\n",
    "    PROCINFO[\"sorted_in\"] = \"@val_num_desc\"\n",
    "    for (w in wf) {\n",
    "        print w, wf[w]\n",
    "    }\n",
    "}' words.txt"
   ]
  },
  {
   "cell_type": "markdown",
   "metadata": {},
   "source": [
    "# 2. |193 | [Valid Phone Numbers](https://leetcode.com/problems/valid-phone-numbers/)"
   ]
  },
  {
   "cell_type": "code",
   "execution_count": null,
   "metadata": {
    "collapsed": true
   },
   "outputs": [],
   "source": [
    "# Time:  O(n)\n",
    "# Space: O(1)\n",
    "\n",
    "# Read from the file file.txt and output all valid phone numbers to stdout.\n",
    "# Using grep:\n",
    "grep -P '^(\\d{3}-|\\(\\d{3}\\) )\\d{3}-\\d{4}$' file.txt"
   ]
  },
  {
   "cell_type": "code",
   "execution_count": null,
   "metadata": {
    "collapsed": true
   },
   "outputs": [],
   "source": [
    "# Using sed:\n",
    "sed -n -E '/^([0-9]{3}-|\\([0-9]{3}\\) )[0-9]{3}-[0-9]{4}$/p' file.txt"
   ]
  },
  {
   "cell_type": "code",
   "execution_count": null,
   "metadata": {
    "collapsed": true
   },
   "outputs": [],
   "source": [
    "# Using awk:\n",
    "awk '/^([0-9]{3}-|\\([0-9]{3}\\) )[0-9]{3}-[0-9]{4}$/' file.txt"
   ]
  },
  {
   "cell_type": "code",
   "execution_count": null,
   "metadata": {
    "collapsed": true
   },
   "outputs": [],
   "source": [
    "# 1st\n",
    "grep -P '^(\\d{3}-|\\(\\d{3}\\) )\\d{3}-\\d{4}$' file.txt\n",
    "# 出现3个"
   ]
  },
  {
   "cell_type": "markdown",
   "metadata": {},
   "source": [
    "# 3. |194 | [Transpose File](https://leetcode.com/problems/transpose-file/) "
   ]
  },
  {
   "cell_type": "code",
   "execution_count": null,
   "metadata": {
    "collapsed": true
   },
   "outputs": [],
   "source": [
    "Given a text file file.txt, transpose its content.\n",
    "\n",
    "You may assume that each row has the same number of columns and each field is separated by the ' ' character.\n",
    "\n",
    "For example, if file.txt has the following content:\n",
    "\n",
    "name age\n",
    "alice 21\n",
    "ryan 30\n",
    "Output the following:\n",
    "\n",
    "name alice ryan\n",
    "age 21 30"
   ]
  },
  {
   "cell_type": "code",
   "execution_count": null,
   "metadata": {
    "collapsed": true
   },
   "outputs": [],
   "source": [
    "# Time:  O(n^2)\n",
    "# Space: O(n^2)\n",
    "\n",
    "# Read from the file file.txt and print its transposed content to stdout.\n",
    "awk '\n",
    "{\n",
    "    for (i = 1; i <= NF; i++) {\n",
    "        if(NR == 1) {\n",
    "            s[i] = $i;\n",
    "        } else {\n",
    "            s[i] = s[i] \" \" $i;\n",
    "        }\n",
    "    }\n",
    "}\n",
    "END {\n",
    "    for (i = 1; s[i] != \"\"; i++) {\n",
    "        print s[i];\n",
    "    }\n",
    "}' file.txt"
   ]
  },
  {
   "cell_type": "markdown",
   "metadata": {},
   "source": [
    "# 4. |195 | [Tenth Line](https://leetcode.com/problems/tenth-line/)"
   ]
  },
  {
   "cell_type": "code",
   "execution_count": null,
   "metadata": {
    "collapsed": true
   },
   "outputs": [],
   "source": [
    "How would you print just the 10th line of a file?\n",
    "\n",
    "For example, assume that file.txt has the following content:\n",
    "\n",
    "Line 1\n",
    "Line 2\n",
    "Line 3\n",
    "Line 4\n",
    "Line 5\n",
    "Line 6\n",
    "Line 7\n",
    "Line 8\n",
    "Line 9\n",
    "Line 10\n",
    "Your script should output the tenth line, which is:\n",
    "Line 10"
   ]
  },
  {
   "cell_type": "code",
   "execution_count": null,
   "metadata": {
    "collapsed": true
   },
   "outputs": [],
   "source": [
    "# Time:  O(n)\n",
    "# Space: O(1)\n",
    "\n",
    "# Read from the file file.txt and output the tenth line to stdout.\n",
    "\n",
    "# Solution 1\n",
    "awk '{if(NR==10) print $0}' file.txt\n",
    "awk 'NR == 10' file.txt\n",
    "\n",
    "# Solution 2\n",
    "sed -n 10p file.txt\n",
    "\n",
    "# Solution 3\n",
    "tail -n+10 file.txt | head -1"
   ]
  }
 ],
 "metadata": {
  "kernelspec": {
   "display_name": "Python 2",
   "language": "python",
   "name": "python2"
  },
  "language_info": {
   "codemirror_mode": {
    "name": "ipython",
    "version": 2
   },
   "file_extension": ".py",
   "mimetype": "text/x-python",
   "name": "python",
   "nbconvert_exporter": "python",
   "pygments_lexer": "ipython2",
   "version": "2.7.13"
  }
 },
 "nbformat": 4,
 "nbformat_minor": 0
}
