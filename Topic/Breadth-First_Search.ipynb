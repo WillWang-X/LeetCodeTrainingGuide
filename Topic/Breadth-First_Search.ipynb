{
 "cells": [
  {
   "cell_type": "markdown",
   "metadata": {},
   "source": [
    "# Breadth-First Search"
   ]
  },
  {
   "cell_type": "markdown",
   "metadata": {},
   "source": [
    "![Breadth-first Search](http://www.how2examples.com/artificial-intelligence/images/Breadth-First-Search.gif)"
   ]
  },
  {
   "cell_type": "markdown",
   "metadata": {},
   "source": [
    "## Breadth-First Search\n",
    "|  #  | Title           |  Solution       |  Time           | Space           | Difficulty    | Tag          | Note| \n",
    "|-----|---------------- | --------------- | --------------- | --------------- | ------------- |--------------|-----|\n",
    "|102| [Binary Tree Level Order Traversal](https://leetcode.com/problems/binary-tree-level-order-traversal/)| [C++](./C++/binary-tree-level-order-traversal.cpp) [Python](./Python/binary-tree-level-order-traversal.py)| _O(n)_| _O(n)_| Easy  || \n",
    "|107| [Binary Tree Level Order Traversal II](https://leetcode.com/problems/binary-tree-level-order-traversal-ii/)| [Python](./Python/binary-tree-level-order-traversal-ii.py) | _O(n)_| _O(n)_| Easy  ||\n",
    "|103| [Binary Tree Zigzag Level Order Traversal](https://leetcode.com/problems/binary-tree-zigzag-level-order-traversal/)| [Python](./Python/binary-tree-zigzag-level-order-traversal.py) | _O(n)_| _O(n)_| Medium  ||  \n",
    "|117| [Populating Next Right Pointers in Each Node II](https://leetcode.com/problems/populating-next-right-pointers-in-each-node-ii/)|[Python](./Python/populating-next-right-pointers-in-each-node-ii.py)| _O(n)_ | _O(1)_ | Hard ||\n",
    "|127| [Word Ladder](https://leetcode.com/problems/word-ladder/)|[Python](./Python/word-ladder.py) | _O(n * d)_      | _O(d)_          | Medium         ||\n",
    "|130| [Surrounded Regions](https://leetcode.com/problems/surrounded-regions/)|[C++](./C++/surrounded-regions.cpp) [Python](./Python/surrounded-regions.py)| _O(m * n)_ | _O(m + n)_ | Medium         ||\n",
    "|133| [Clone Graph](https://leetcode.com/problems/clone-graph/)| [Python](./Python/clone-graph.py)   | _O(n)_          | _O(n)_          | Medium         ||\n",
    "|207| [Course Schedule](https://leetcode.com/problems/course-schedule/)| [Python](./Python/course-schedule.py)   |           |       | Medium         || Topological Sort |\n",
    "|210| [Course Schedule II](https://leetcode.com/problems/course-schedule-ii/)| [Python](./Python/course-schedule-ii.py)   |          |       | Medium         || Topological Sort |\n",
    "|261| [Graph Valid Tree](https://leetcode.com/problems/graph-valid-tree/)| [C++](./C++/graph-valid-tree.cpp) [Python](./Python/graph-valid-tree.py)   |         |        | Medium         | 📖 |\n",
    "|269| [Alien Dictionary](https://leetcode.com/problems/alien-dictionary/) | [C++](./C++/alien-dictionary.cpp)  [Python](./Python/alien-dictionary.py)  | _O(n)_ | _O(1)_ | Hard         |📖| Topological Sort, BFS, DFS |\n",
    "|286| [Walls and Gates](https://leetcode.com/problems/walls-and-gates/)| [C++](./C++/walls-and-gates.cpp) [Python](./Python/walls-and-gates.py)   | _O(m * n)_          | _O(g)_          | Medium         | 📖 |\n",
    "|310| [Minimum Height Trees](https://leetcode.com/problems/minimum-height-trees/)| [C++](./C++/minimum-height-trees.cpp) [Python](./Python/minimum-height-trees.py)   | _O(n)_          | _O(n)_          | Medium         ||\n",
    "|317| [Shortest Distance from All Buildings](https://leetcode.com/problems/shortest-distance-from-all-buildings/)| [C++](./C++/shortest-distance-from-all-buildings.cpp) [Python](./Python/shortest-distance-from-all-buildings.py)   | _O(k * m * n)_          | _O(m * n)_          | Hard         | 📖 |\n",
    "|433| [Minimum Genetic Mutation](https://leetcode.com/problems/minimum-genetic-mutation/)| [C++](./C++/minimum-genetic-mutation.cpp) [Python](./Python/minimum-genetic-mutation.py)   | _O(n * b)_          | _O(b)_          | Medium         ||\n",
    "|444| [Sequence Reconstruction](https://leetcode.com/problems/sequence-reconstruction/)| [C++](./C++/sequence-reconstruction.cpp) [Python](./Python/sequence-reconstruction.py)   | _O(n * s)_          | _O(n)_          | Medium         |📖| Topological Sort |\n"
   ]
  },
  {
   "cell_type": "markdown",
   "metadata": {},
   "source": [
    "# 0. BFS: Why? What? How? "
   ]
  },
  {
   "cell_type": "markdown",
   "metadata": {},
   "source": [
    "# 1. |102| [Binary Tree Level Order Traversal](https://leetcode.com/problems/binary-tree-level-order-traversal/)"
   ]
  },
  {
   "cell_type": "code",
   "execution_count": null,
   "metadata": {
    "collapsed": true
   },
   "outputs": [],
   "source": [
    "Given a binary tree, return the level order traversal of its nodes' values. (ie, from left to right, level by level).\n",
    "\n",
    "For example:\n",
    "Given binary tree [3,9,20,null,null,15,7],\n",
    "    3\n",
    "   / \\\n",
    "  9  20\n",
    "    /  \\\n",
    "   15   7\n",
    "return its level order traversal as:\n",
    "[\n",
    "  [3],\n",
    "  [9,20],\n",
    "  [15,7]\n",
    "]"
   ]
  },
  {
   "cell_type": "markdown",
   "metadata": {},
   "source": [
    "## Solution"
   ]
  },
  {
   "cell_type": "code",
   "execution_count": 17,
   "metadata": {
    "collapsed": false
   },
   "outputs": [],
   "source": [
    "# Time: O(n)\n",
    "# Space:  O(n)\n",
    "# Binary Tree Level Order Travesal \n",
    "\n",
    "# Definition for a binary tree node.\n",
    "class TreeNode(object):\n",
    "    def __init__(self, x):\n",
    "        self.val = x\n",
    "        self.left = None\n",
    "        self.right = None\n",
    "\n",
    "class Solution(object):\n",
    "    def levelOrder(self, root):\n",
    "        \"\"\"\n",
    "        :type root: TreeNode\n",
    "        :rtype: List[List[int]]\n",
    "        \"\"\"\n",
    "        if root is None:\n",
    "            return []\n",
    "        result = []\n",
    "        current = [root]\n",
    "        while current:\n",
    "            next_level = []\n",
    "            val = []\n",
    "            for node in current:\n",
    "                val.append(node.val)\n",
    "                if node.left:\n",
    "                    next_level.append(node.left)\n",
    "                if node.right:\n",
    "                    next_level.append(node.right)\n",
    "            current = next_level\n",
    "            result.append(val)\n",
    "        return result    "
   ]
  },
  {
   "cell_type": "code",
   "execution_count": 18,
   "metadata": {
    "collapsed": false
   },
   "outputs": [
    {
     "name": "stdout",
     "output_type": "stream",
     "text": [
      "[[3], [9, 20], [15, 7]]\n"
     ]
    }
   ],
   "source": [
    "root = TreeNode(3)\n",
    "root.left = TreeNode(9)\n",
    "root.right = TreeNode(20)\n",
    "root.right.left = TreeNode(15)\n",
    "root.right.right = TreeNode(7)\n",
    "result = Solution().levelOrder(root)\n",
    "print result"
   ]
  },
  {
   "cell_type": "markdown",
   "metadata": {},
   "source": [
    "## Notes"
   ]
  },
  {
   "cell_type": "code",
   "execution_count": 12,
   "metadata": {
    "collapsed": false
   },
   "outputs": [
    {
     "name": "stdout",
     "output_type": "stream",
     "text": [
      "[9, 8, 7, 6, 5, 4, 10, 2, 1, 0]\n"
     ]
    }
   ],
   "source": [
    "a = [0,1,2,10,4,5,6,7,8,9]\n",
    "a.reverse()\n",
    "print a"
   ]
  },
  {
   "cell_type": "code",
   "execution_count": 19,
   "metadata": {
    "collapsed": false
   },
   "outputs": [
    {
     "name": "stdout",
     "output_type": "stream",
     "text": [
      "[[15, 7], [9, 20], [3]]\n"
     ]
    }
   ],
   "source": [
    "test = [[3], [9, 20], [15, 7]]\n",
    "test.reverse()\n",
    "print test"
   ]
  },
  {
   "cell_type": "code",
   "execution_count": 10,
   "metadata": {
    "collapsed": false
   },
   "outputs": [
    {
     "name": "stdout",
     "output_type": "stream",
     "text": [
      "[[3, 4], [1, 2]]\n"
     ]
    }
   ],
   "source": [
    "test = [[1,2],[3,4]]\n",
    "test2 = test.reverse()\n",
    "print(test)"
   ]
  },
  {
   "cell_type": "markdown",
   "metadata": {},
   "source": [
    "# 2. |107| [Binary Tree Level Order Traversal II](https://leetcode.com/problems/binary-tree-level-order-traversal-ii/)"
   ]
  },
  {
   "cell_type": "code",
   "execution_count": null,
   "metadata": {
    "collapsed": true
   },
   "outputs": [],
   "source": [
    "Given a binary tree, return the bottom-up level order traversal of its nodes' values. \n",
    "(ie, from left to right, level by level from leaf to root).\n",
    "\n",
    "For example:\n",
    "Given binary tree [3,9,20,null,null,15,7],\n",
    "    3\n",
    "   / \\\n",
    "  9  20\n",
    "    /  \\\n",
    "   15   7\n",
    "return its bottom-up level order traversal as:\n",
    "[\n",
    "  [15,7],\n",
    "  [9,20],\n",
    "  [3]\n",
    "]"
   ]
  },
  {
   "cell_type": "code",
   "execution_count": null,
   "metadata": {
    "collapsed": true
   },
   "outputs": [],
   "source": [
    "# Time: O(n)\n",
    "# Space:  O(n)\n",
    "# Binary Tree Level Order Travesal II\n",
    "\n",
    "# Definition for a binary tree node.\n",
    "# class TreeNode(object):\n",
    "#     def __init__(self, x):\n",
    "#         self.val = x\n",
    "#         self.left = None\n",
    "#         self.right = None\n",
    "\n",
    "class Solution(object):\n",
    "    def levelOrder(self, root):\n",
    "        \"\"\"\n",
    "        :type root: TreeNode\n",
    "        :rtype: List[List[int]]\n",
    "        \"\"\"\n",
    "        if root is None:\n",
    "            return []\n",
    "        result = []\n",
    "        current = [root]\n",
    "        while current:\n",
    "            next_level = []\n",
    "            val = []\n",
    "            for node in current:\n",
    "                val.append(node.val)\n",
    "                if node.left:\n",
    "                    next_level.append(node.left)\n",
    "                if node.right:\n",
    "                    next_level.append(node.right)\n",
    "            current = next_level\n",
    "            result.append(val)\n",
    "        return result    "
   ]
  },
  {
   "cell_type": "markdown",
   "metadata": {},
   "source": [
    "# 3. |103| [Binary Tree Zigzag Level Order Traversal](https://leetcode.com/problems/binary-tree-zigzag-level-order-traversal/)"
   ]
  },
  {
   "cell_type": "code",
   "execution_count": null,
   "metadata": {
    "collapsed": true
   },
   "outputs": [],
   "source": [
    "Given a binary tree, return the zigzag level order traversal of its nodes' values. \n",
    "(ie, from left to right, then right to left for the next level and alternate between).\n",
    "\n",
    "For example:\n",
    "Given binary tree [3,9,20,null,null,15,7],\n",
    "    3\n",
    "   / \\\n",
    "  9  20\n",
    "    /  \\\n",
    "   15   7\n",
    "return its zigzag level order traversal as:\n",
    "[\n",
    "  [3],\n",
    "  [20,9],\n",
    "  [15,7]\n",
    "]"
   ]
  },
  {
   "cell_type": "code",
   "execution_count": null,
   "metadata": {
    "collapsed": true
   },
   "outputs": [],
   "source": [
    "# Time: O(n)\n",
    "# Space:  O(n)\n",
    "# Binary Tree Zigzag Level Order Traversal\n",
    "\n",
    "# Definition for a binary tree node.\n",
    "# class TreeNode(object):\n",
    "#     def __init__(self, x):\n",
    "#         self.val = x\n",
    "#         self.left = None\n",
    "#         self.right = None\n",
    "\n",
    "class Solution(object):\n",
    "    def zigzagLevelOrder(self, root):\n",
    "        \"\"\"\n",
    "        :type root: TreeNode\n",
    "        :rtype: List[List[int]]\n",
    "        \"\"\"\n",
    "        if root is None:\n",
    "            return []\n",
    "        result = []\n",
    "        current = [root]\n",
    "        direction = 1 \n",
    "        \n",
    "        while current:\n",
    "            next_level = []\n",
    "            val = []\n",
    "            for node in current:\n",
    "                val.append(node.val)\n",
    "                if node.left:\n",
    "                    next_level.append(node.left)\n",
    "                if node.right:\n",
    "                    next_level.append(node.right)\n",
    "            current = next_level\n",
    "            \n",
    "            if direction == -1:\n",
    "                val.reverse()\n",
    "            result.append(val)\n",
    "            direction = -1 * direction\n",
    "            \n",
    "        return result    "
   ]
  },
  {
   "cell_type": "markdown",
   "metadata": {},
   "source": [
    "# 4.0 [116. Populating Next Right Pointers in Each Node](https://leetcode.com/problems/populating-next-right-pointers-in-each-node/#/description)"
   ]
  },
  {
   "cell_type": "code",
   "execution_count": null,
   "metadata": {
    "collapsed": true
   },
   "outputs": [],
   "source": [
    "Given a binary tree\n",
    "\n",
    "    struct TreeLinkNode {\n",
    "      TreeLinkNode *left;\n",
    "      TreeLinkNode *right;\n",
    "      TreeLinkNode *next;\n",
    "    }\n",
    "Populate each next pointer to point to its next right node. \n",
    "If there is no next right node, the next pointer should be set to NULL.\n",
    "\n",
    "Initially, all next pointers are set to NULL.\n",
    "\n",
    "Note:\n",
    "\n",
    "You may only use constant extra space.\n",
    "You may assume that it is a perfect binary tree \n",
    "(ie, all leaves are at the same level, and every parent has two children).\n",
    "\n",
    "For example,\n",
    "Given the following perfect binary tree,\n",
    "         1\n",
    "       /  \\\n",
    "      2    3\n",
    "     / \\  / \\\n",
    "    4  5  6  7\n",
    "After calling your function, the tree should look like:\n",
    "         1 -> NULL\n",
    "       /  \\\n",
    "      2 -> 3 -> NULL\n",
    "     / \\  / \\\n",
    "    4->5->6->7 -> NULL"
   ]
  },
  {
   "cell_type": "code",
   "execution_count": null,
   "metadata": {
    "collapsed": true
   },
   "outputs": [],
   "source": [
    "Breadth-First Search"
   ]
  },
  {
   "cell_type": "markdown",
   "metadata": {},
   "source": [
    "# 4. |117| [Populating Next Right Pointers in Each Node II](https://leetcode.com/problems/populating-next-right-pointers-in-each-node-ii/)"
   ]
  },
  {
   "cell_type": "code",
   "execution_count": null,
   "metadata": {
    "collapsed": true
   },
   "outputs": [],
   "source": [
    "Follow up for problem \"Populating Next Right Pointers in Each Node\".\n",
    "\n",
    "What if the given tree could be any binary tree? Would your previous solution still work?\n",
    "\n",
    "Note:\n",
    "\n",
    "You may only use constant extra space.\n",
    "For example,\n",
    "Given the following binary tree,\n",
    "         1\n",
    "       /  \\\n",
    "      2    3\n",
    "     / \\    \\\n",
    "    4   5    7\n",
    "After calling your function, the tree should look like:\n",
    "         1 -> NULL\n",
    "       /  \\\n",
    "      2 -> 3 -> NULL\n",
    "     / \\    \\\n",
    "    4-> 5 -> 7 -> NULL"
   ]
  },
  {
   "cell_type": "code",
   "execution_count": null,
   "metadata": {
    "collapsed": true
   },
   "outputs": [],
   "source": [
    "Breadth-First Search"
   ]
  },
  {
   "cell_type": "markdown",
   "metadata": {},
   "source": [
    "# 5. |127| [Word Ladder](https://leetcode.com/problems/word-ladder/)"
   ]
  },
  {
   "cell_type": "code",
   "execution_count": null,
   "metadata": {
    "collapsed": true
   },
   "outputs": [],
   "source": [
    "Given two words (beginWord and endWord), and a dictionary's word list, \n",
    "find the length of shortest transformation sequence from beginWord to endWord, such that:\n",
    "\n",
    "Only one letter can be changed at a time.\n",
    "Each transformed word must exist in the word list. Note that beginWord is not a transformed word.\n",
    "For example,\n",
    "\n",
    "Given:\n",
    "beginWord = \"hit\"\n",
    "endWord = \"cog\"\n",
    "wordList = [\"hot\",\"dot\",\"dog\",\"lot\",\"log\",\"cog\"]\n",
    "As one shortest transformation is \"hit\" -> \"hot\" -> \"dot\" -> \"dog\" -> \"cog\",\n",
    "return its length 5.\n",
    "\n",
    "Note:\n",
    "Return 0 if there is no such transformation sequence.\n",
    "All words have the same length.\n",
    "All words contain only lowercase alphabetic characters.\n",
    "You may assume no duplicates in the word list.\n",
    "You may assume beginWord and endWord are non-empty and are not the same.\n",
    "\n",
    "UPDATE (2017/1/20):\n",
    "The wordList parameter had been changed to a list of strings (instead of a set of strings). \n",
    "Please reload the code definition to get the latest changes."
   ]
  },
  {
   "cell_type": "code",
   "execution_count": null,
   "metadata": {
    "collapsed": true
   },
   "outputs": [],
   "source": [
    "BFS \n",
    "\n",
    "双端的BFS\n",
    "\n",
    "V + E = n^2 (cause E 的上限是n^2)\n",
    "\n",
    "hashset 实现查找！为什么使用 hashset？"
   ]
  },
  {
   "cell_type": "markdown",
   "metadata": {},
   "source": [
    "# 6. |130| [Surrounded Regions](https://leetcode.com/problems/surrounded-regions/)"
   ]
  },
  {
   "cell_type": "code",
   "execution_count": null,
   "metadata": {
    "collapsed": true
   },
   "outputs": [],
   "source": [
    "Given a 2D board containing 'X' and 'O' (the letter O), capture all regions surrounded by 'X'.\n",
    "\n",
    "A region is captured by flipping all 'O's into 'X's in that surrounded region.\n",
    "\n",
    "For example,\n",
    "X X X X\n",
    "X O O X\n",
    "X X O X\n",
    "X O X X\n",
    "\n",
    "After running your function, the board should be:\n",
    "\n",
    "X X X X\n",
    "X X X X\n",
    "X X X X\n",
    "X O X X"
   ]
  },
  {
   "cell_type": "code",
   "execution_count": null,
   "metadata": {
    "collapsed": true
   },
   "outputs": [],
   "source": [
    "二维填水过程！> n^2\n",
    "\n",
    "找迷宫问题 BFS \n",
    "\n",
    "伪polynomial \n",
    "\n",
    "类比：quick sort + insertion sort "
   ]
  },
  {
   "cell_type": "markdown",
   "metadata": {},
   "source": [
    "# 7. |133| [Clone Graph](https://leetcode.com/problems/clone-graph/)"
   ]
  },
  {
   "cell_type": "code",
   "execution_count": null,
   "metadata": {
    "collapsed": true
   },
   "outputs": [],
   "source": [
    "Clone an undirected graph. Each node in the graph contains a label and a list of its neighbors.\n",
    "\n",
    "\n",
    "OJ's undirected graph serialization:\n",
    "Nodes are labeled uniquely.\n",
    "\n",
    "We use # as a separator for each node, and , as a separator for node label and each neighbor of the node.\n",
    "As an example, consider the serialized graph {0,1,2#1,2#2,2}.\n",
    "\n",
    "The graph has a total of three nodes, and therefore contains three parts as separated by #.\n",
    "\n",
    "First node is labeled as 0. Connect node 0 to both nodes 1 and 2.\n",
    "Second node is labeled as 1. Connect node 1 to node 2.\n",
    "Third node is labeled as 2. Connect node 2 to node 2 (itself), thus forming a self-cycle.\n",
    "Visually, the graph looks like the following:\n",
    "\n",
    "       1\n",
    "      / \\\n",
    "     /   \\\n",
    "    0 --- 2\n",
    "         / \\\n",
    "         \\_/"
   ]
  },
  {
   "cell_type": "code",
   "execution_count": null,
   "metadata": {
    "collapsed": true
   },
   "outputs": [],
   "source": [
    "BFS 存过找过的 Node"
   ]
  },
  {
   "cell_type": "markdown",
   "metadata": {},
   "source": [
    "# 8. |207| [Course Schedule](https://leetcode.com/problems/course-schedule/)"
   ]
  },
  {
   "cell_type": "code",
   "execution_count": null,
   "metadata": {
    "collapsed": true
   },
   "outputs": [],
   "source": [
    "There are a total of n courses you have to take, labeled from 0 to n - 1.\n",
    "\n",
    "Some courses may have prerequisites, for example to take course 0 you have to first take course 1, \n",
    "which is expressed as a pair: [0,1]\n",
    "\n",
    "Given the total number of courses and a list of prerequisite pairs, is it possible for you to finish all courses?\n",
    "\n",
    "For example:\n",
    "\n",
    "2, [[1,0]]\n",
    "There are a total of 2 courses to take. To take course 1 you should have finished course 0. So it is possible.\n",
    "\n",
    "2, [[1,0],[0,1]]\n",
    "There are a total of 2 courses to take. To take course 1 you should have finished course 0, \n",
    "and to take course 0 you should also have finished course 1. So it is impossible.\n",
    "\n",
    "Note:\n",
    "The input prerequisites is a graph represented by a list of edges, not adjacency matrices. \n",
    "Read more about how a graph is represented.\n",
    "You may assume that there are no duplicate edges in the input prerequisites."
   ]
  },
  {
   "cell_type": "code",
   "execution_count": 3,
   "metadata": {
    "collapsed": true
   },
   "outputs": [],
   "source": [
    "# Time:  O(|V| + |E|)\n",
    "# Space: O(|E|)\n",
    "# Course Schedule \n",
    "\n",
    "import collections\n",
    "\n",
    "class Solution(object):\n",
    "    def canFinish(self, numCourses, prerequisites):\n",
    "        \"\"\"\n",
    "        :type numCourses: int\n",
    "        :type prerequisites: List[List[int]]\n",
    "        :rtype: bool\n",
    "        \"\"\"\n",
    "        zero_in_degree_queue, in_degree, out_degree = collections.deque(), {}, {}\n",
    "        \n",
    "        for i, j in prerequisites:\n",
    "            if i not in in_degree:\n",
    "                in_degree[i] = set()\n",
    "            if j not in out_degree:\n",
    "                out_degree[j] = set()\n",
    "            in_degree[i].add(j)\n",
    "            out_degree[j].add(i)\n",
    "        \n",
    "        for i in xrange(numCourses):\n",
    "            if i not in in_degree:\n",
    "                zero_in_degree_queue.append(i)\n",
    "        \n",
    "        while zero_in_degree_queue:\n",
    "            prerequisite = zero_in_degree_queue.popleft()\n",
    "            \n",
    "            if prerequisite in out_degree:\n",
    "                for course in out_degree[prerequisite]:\n",
    "                    in_degree[course].discard(prerequisite)\n",
    "                    if not in_degree[course]:\n",
    "                        zero_in_degree_queue.append(course)\n",
    "            \n",
    "                del out_degree[prerequisite]\n",
    "        \n",
    "        if out_degree:\n",
    "            return False\n",
    "        \n",
    "        return True"
   ]
  },
  {
   "cell_type": "code",
   "execution_count": 4,
   "metadata": {
    "collapsed": false
   },
   "outputs": [
    {
     "name": "stdout",
     "output_type": "stream",
     "text": [
      "True\n"
     ]
    }
   ],
   "source": [
    "print Solution().canFinish(1, [])"
   ]
  },
  {
   "cell_type": "code",
   "execution_count": null,
   "metadata": {
    "collapsed": true
   },
   "outputs": [],
   "source": [
    "261 无相图\n",
    "\n",
    "\n",
    "有环就不是\n",
    "\n",
    "1. BFS 入度为0\n",
    "2. DFS 找一个环"
   ]
  },
  {
   "cell_type": "markdown",
   "metadata": {},
   "source": [
    "# 9. |210| [Course Schedule II](https://leetcode.com/problems/course-schedule-ii/)"
   ]
  },
  {
   "cell_type": "code",
   "execution_count": null,
   "metadata": {
    "collapsed": true
   },
   "outputs": [],
   "source": [
    "There are a total of n courses you have to take, labeled from 0 to n - 1.\n",
    "\n",
    "Some courses may have prerequisites, for example to take course 0 you have to first take course 1, \n",
    "which is expressed as a pair: [0,1]\n",
    "\n",
    "Given the total number of courses and a list of prerequisite pairs, \n",
    "return the ordering of courses you should take to finish all courses.\n",
    "\n",
    "There may be multiple correct orders, you just need to return one of them. \n",
    "If it is impossible to finish all courses, return an empty array.\n",
    "\n",
    "For example:\n",
    "\n",
    "2, [[1,0]]\n",
    "There are a total of 2 courses to take. To take course 1 you should have finished course 0. \n",
    "So the correct course order is [0,1]\n",
    "\n",
    "4, [[1,0],[2,0],[3,1],[3,2]]\n",
    "There are a total of 4 courses to take. To take course 3 you should have finished both courses 1 and 2. \n",
    "Both courses 1 and 2 should be taken after you finished course 0. So one correct course order is [0,1,2,3].\n",
    "Another correct ordering is[0,2,1,3].\n",
    "\n",
    "Note:\n",
    "The input prerequisites is a graph represented by a list of edges, not adjacency matrices. \n",
    "Read more about how a graph is represented.\n",
    "You may assume that there are no duplicate edges in the input prerequisites."
   ]
  },
  {
   "cell_type": "code",
   "execution_count": null,
   "metadata": {
    "collapsed": true
   },
   "outputs": [],
   "source": [
    "class Solution(object):\n",
    "    def findOrder(self, numCourses, prerequisites):\n",
    "        \"\"\"\n",
    "        :type numCourses: int\n",
    "        :type prerequisites: List[List[int]]\n",
    "        :rtype: List[int]\n",
    "        \"\"\"\n",
    "        res, zero_in_degree_queue, in_degree, out_degree = [], collections.deque(), {}, {}\n",
    "        \n",
    "        for i, j in prerequisites:\n",
    "            if i not in in_degree:\n",
    "                in_degree[i] = set()\n",
    "            if j not in out_degree:\n",
    "                out_degree[j] = set()\n",
    "            in_degree[i].add(j)\n",
    "            out_degree[j].add(i)\n",
    "        \n",
    "        for i in xrange(numCourses):\n",
    "            if i not in in_degree:\n",
    "                zero_in_degree_queue.append(i)\n",
    "        \n",
    "        while zero_in_degree_queue:\n",
    "            prerequisite = zero_in_degree_queue.popleft()\n",
    "            res.append(prerequisite)\n",
    "            \n",
    "            if prerequisite in out_degree:\n",
    "                for course in out_degree[prerequisite]:\n",
    "                    in_degree[course].discard(prerequisite)\n",
    "                    if not in_degree[course]:\n",
    "                        zero_in_degree_queue.append(course)\n",
    "            \n",
    "                del out_degree[prerequisite]\n",
    "        \n",
    "        if out_degree:\n",
    "            return []\n",
    "        \n",
    "        return res"
   ]
  },
  {
   "cell_type": "markdown",
   "metadata": {},
   "source": [
    "# 10. |261| [Graph Valid Tree](https://leetcode.com/problems/graph-valid-tree/)"
   ]
  },
  {
   "cell_type": "code",
   "execution_count": null,
   "metadata": {
    "collapsed": true
   },
   "outputs": [],
   "source": [
    "Given n nodes labeled from 0 to n - 1 and a list of undirected edges (each edge is a pair of nodes), \n",
    "write a function to check whether these edges make up a valid tree.\n",
    "\n",
    "For example:\n",
    "\n",
    "Given n = 5 and edges = [[0, 1], [0, 2], [0, 3], [1, 4]], return true.\n",
    "\n",
    "Given n = 5 and edges = [[0, 1], [1, 2], [2, 3], [1, 3], [1, 4]], return false.\n",
    "\n",
    "Hint:\n",
    "\n",
    "Given n = 5 and edges = [[0, 1], [1, 2], [3, 4]], what should your return? Is this case a valid tree?\n",
    "\n",
    "According to the definition of tree on Wikipedia: \n",
    "“a tree is an undirected graph in which any two vertices are connected by exactly one path. \n",
    "In other words, any connected graph without simple cycles is a tree.”\n",
    "\n",
    "Note: \n",
    "you can assume that no duplicate edges will appear in edges. \n",
    "Since all edges are undirected, [0, 1] is the same as [1, 0] and thus will not appear together in edges."
   ]
  },
  {
   "cell_type": "markdown",
   "metadata": {},
   "source": [
    "# 11. |269| [Alien Dictionary](https://leetcode.com/problems/alien-dictionary/)"
   ]
  },
  {
   "cell_type": "code",
   "execution_count": null,
   "metadata": {
    "collapsed": true
   },
   "outputs": [],
   "source": [
    "There is a new alien language which uses the latin alphabet. \n",
    "However, the order among letters are unknown to you. \n",
    "You receive a list of words from the dictionary, \n",
    "where words are sorted lexicographically by the rules of this new language. \n",
    "Derive the order of letters in this language.\n",
    "\n",
    "For example,\n",
    "Given the following words in dictionary,\n",
    "\n",
    "[\n",
    "  \"wrt\",\n",
    "  \"wrf\",\n",
    "  \"er\",\n",
    "  \"ett\",\n",
    "  \"rftt\"\n",
    "]\n",
    "The correct order is: \"wertf\".\n",
    "\n",
    "Note:\n",
    "\n",
    "You may assume all letters are in lowercase.\n",
    "If the order is invalid, return an empty string.\n",
    "There may be multiple valid order of letters, return any one of them is fine."
   ]
  },
  {
   "cell_type": "code",
   "execution_count": 6,
   "metadata": {
    "collapsed": true
   },
   "outputs": [],
   "source": [
    "# Time:  O(n)\n",
    "# Space: O(|V|+|E|) = O(26 + 26^2) = O(1)\n",
    "\n",
    "# BFS solution.\n",
    "class Solution(object):\n",
    "    def alienOrder(self, words):\n",
    "        \"\"\"\n",
    "        :type words: List[str]\n",
    "        :rtype: str\n",
    "        \"\"\"\n",
    "        result, zero_in_degree_queue, in_degree, out_degree = [], collections.deque(), {}, {}\n",
    "        nodes = sets.Set()\n",
    "        for word in words:\n",
    "            for c in word:\n",
    "                nodes.add(c)\n",
    "        \n",
    "        for i in xrange(1, len(words)):\n",
    "            if len(words[i-1]) > len(words[i]) and words[i-1][:len(words[i])] == words[i]:\n",
    "                    return \"\"\n",
    "            self.findEdges(words[i - 1], words[i], in_degree, out_degree)\n",
    "        \n",
    "        for node in nodes:\n",
    "            if node not in in_degree:\n",
    "                zero_in_degree_queue.append(node)\n",
    "        \n",
    "        while zero_in_degree_queue:\n",
    "            precedence = zero_in_degree_queue.popleft()\n",
    "            result.append(precedence)\n",
    "            \n",
    "            if precedence in out_degree:\n",
    "                for c in out_degree[precedence]:\n",
    "                    in_degree[c].discard(precedence)\n",
    "                    if not in_degree[c]:\n",
    "                        zero_in_degree_queue.append(c)\n",
    "            \n",
    "                del out_degree[precedence]\n",
    "        \n",
    "        if out_degree:\n",
    "            return \"\"\n",
    "\n",
    "        return \"\".join(result)\n",
    "\n",
    "\n",
    "    # Construct the graph.\n",
    "    def findEdges(self, word1, word2, in_degree, out_degree):\n",
    "        str_len = min(len(word1), len(word2))\n",
    "        for i in xrange(str_len):\n",
    "            if word1[i] != word2[i]:\n",
    "                if word2[i] not in in_degree:\n",
    "                    in_degree[word2[i]] = sets.Set()\n",
    "                if word1[i] not in out_degree:\n",
    "                    out_degree[word1[i]] = sets.Set()\n",
    "                in_degree[word2[i]].add(word1[i])\n",
    "                out_degree[word1[i]].add(word2[i])\n",
    "                break"
   ]
  },
  {
   "cell_type": "code",
   "execution_count": null,
   "metadata": {
    "collapsed": true
   },
   "outputs": [],
   "source": [
    "class Solution(object):\n",
    "    def alienOrder(self, words):\n",
    "        less = []\n",
    "        for pair in zip(words, words[1:]):\n",
    "            for a, b in zip(*pair):\n",
    "                if a != b:\n",
    "                    less += a + b\n",
    "                    break\n",
    "        \n",
    "        chars = set(''.join(words))\n",
    "        order = []\n",
    "        \n",
    "        while less:\n",
    "            free = chars - set(zip(*less)[1])\n",
    "            if not free:\n",
    "                return ''\n",
    "            order += free\n",
    "            less = filter(free.isdisjoint, less)\n",
    "            char -= free\n",
    "            \n",
    "        return ''.join(order + list(chars))           "
   ]
  },
  {
   "cell_type": "code",
   "execution_count": 68,
   "metadata": {
    "collapsed": false
   },
   "outputs": [],
   "source": [
    "class Solution(object):\n",
    "    def alienOrder(self, words):\n",
    "        less = []\n",
    "        for pair in zip(words, words[1:]):\n",
    "            print 'pair:',pair\n",
    "            for a, b in zip(*pair):\n",
    "                print a,b \n",
    "                if a != b:\n",
    "                    less += a + b,\n",
    "                    print \"less:\", less\n",
    "                    break\n",
    "            print 5*'-'\n",
    "        \n",
    "        chars = set(''.join(words))\n",
    "        print 10*'-'\n",
    "        print \"chars:\", chars\n",
    "        order = []\n",
    "        \n",
    "        while less:\n",
    "            free = chars - set(zip(*less)[1])\n",
    "#             print zip(*less), set(zip(*less), set(zip(*less)[1]\n",
    "            print 'free:', free\n",
    "            if not free:\n",
    "                print 'test'\n",
    "                return ''\n",
    "            order += free\n",
    "            print 'order:',order\n",
    "            less = filter(free.isdisjoint, less)\n",
    "            print 'less:', less\n",
    "            chars -= free\n",
    "            print 'chars:', chars\n",
    "            print 5*'-'\n",
    "        \n",
    "        print 10*'-', 'end', 10*'-'\n",
    "        \n",
    "        return ''.join(order + list(chars))"
   ]
  },
  {
   "cell_type": "code",
   "execution_count": 28,
   "metadata": {
    "collapsed": false,
    "scrolled": false
   },
   "outputs": [
    {
     "name": "stdout",
     "output_type": "stream",
     "text": [
      "pair: ('ab', 'ca')\n",
      "a c\n",
      "less: ['ac']\n",
      "pair: ('ca', 'ab')\n",
      "c a\n",
      "less: ['ac', 'ca']\n",
      "\n"
     ]
    }
   ],
   "source": [
    "print Solution().alienOrder([\"ab\",\"ca\",\"ab\"])"
   ]
  },
  {
   "cell_type": "code",
   "execution_count": 30,
   "metadata": {
    "collapsed": false
   },
   "outputs": [
    {
     "name": "stdout",
     "output_type": "stream",
     "text": [
      "acb\n"
     ]
    }
   ],
   "source": [
    "print Solution().alienOrder([\"abc\"])"
   ]
  },
  {
   "cell_type": "code",
   "execution_count": 69,
   "metadata": {
    "collapsed": false,
    "scrolled": false
   },
   "outputs": [
    {
     "name": "stdout",
     "output_type": "stream",
     "text": [
      "pair: ('wrt', 'wrf')\n",
      "w w\n",
      "r r\n",
      "t f\n",
      "less: ['tf']\n",
      "-----\n",
      "pair: ('wrf', 'er')\n",
      "w e\n",
      "less: ['tf', 'we']\n",
      "-----\n",
      "pair: ('er', 'ett')\n",
      "e e\n",
      "r t\n",
      "less: ['tf', 'we', 'rt']\n",
      "-----\n",
      "pair: ('ett', 'rftt')\n",
      "e r\n",
      "less: ['tf', 'we', 'rt', 'er']\n",
      "-----\n",
      "----------\n",
      "chars: set(['r', 'e', 't', 'w', 'f'])\n",
      "free: set(['w'])\n",
      "order: ['w']\n",
      "less: ['tf', 'rt', 'er']\n",
      "chars: set(['r', 'e', 't', 'f'])\n",
      "-----\n",
      "free: set(['e'])\n",
      "order: ['w', 'e']\n",
      "less: ['tf', 'rt']\n",
      "chars: set(['r', 't', 'f'])\n",
      "-----\n",
      "free: set(['r'])\n",
      "order: ['w', 'e', 'r']\n",
      "less: ['tf']\n",
      "chars: set(['t', 'f'])\n",
      "-----\n",
      "free: set(['t'])\n",
      "order: ['w', 'e', 'r', 't']\n",
      "less: []\n",
      "chars: set(['f'])\n",
      "-----\n",
      "---------- end ----------\n",
      "wertf\n"
     ]
    }
   ],
   "source": [
    "print Solution().alienOrder([\"wrt\",\"wrf\",\"er\",\"ett\",\"rftt\"])"
   ]
  },
  {
   "cell_type": "markdown",
   "metadata": {},
   "source": [
    "## Note"
   ]
  },
  {
   "cell_type": "code",
   "execution_count": 10,
   "metadata": {
    "collapsed": false
   },
   "outputs": [
    {
     "data": {
      "text/plain": [
       "[('wrt', 'wrf'), ('wrf', 'er'), ('er', 'ett'), ('ett', 'rftt')]"
      ]
     },
     "execution_count": 10,
     "metadata": {},
     "output_type": "execute_result"
    }
   ],
   "source": [
    "# zip \n",
    "words = [\"wrt\",\"wrf\",\"er\",\"ett\",\"rftt\"]\n",
    "zip(words, words[1:])"
   ]
  },
  {
   "cell_type": "code",
   "execution_count": 61,
   "metadata": {
    "collapsed": false
   },
   "outputs": [
    {
     "name": "stdout",
     "output_type": "stream",
     "text": [
      "[('t', 'w', 'r', 'e'), ('f', 'e', 't', 'r')]\n",
      "('f', 'e', 't', 'r')\n",
      "set(['r', 'e', 't', 'f'])\n",
      "set(['w'])\n",
      "<built-in method isdisjoint of set object at 0x10d350b30>\n",
      "['tf', 'rt', 'er']\n"
     ]
    }
   ],
   "source": [
    "less = ['tf', 'we', 'rt', 'er']\n",
    "chars = set(['r', 'e', 't', 'w', 'f'])\n",
    "free = chars - set(zip(*less)[1])\n",
    "print zip(*less)\n",
    "print zip(*less)[1]\n",
    "print set(zip(*less)[1])\n",
    "print free\n",
    "\n",
    "less = filter(free.isdisjoint, less)\n",
    "print free.isdisjoint\n",
    "print less"
   ]
  },
  {
   "cell_type": "code",
   "execution_count": null,
   "metadata": {
    "collapsed": true
   },
   "outputs": [],
   "source": [
    "free = chars - set(zip(*less)[1])"
   ]
  },
  {
   "cell_type": "code",
   "execution_count": 25,
   "metadata": {
    "collapsed": false
   },
   "outputs": [
    {
     "name": "stdout",
     "output_type": "stream",
     "text": [
      "w w\n",
      "r r\n",
      "t f\n"
     ]
    }
   ],
   "source": [
    "pair =  ('wrt', 'wrf')\n",
    "for a, b in zip('wrt', 'wrf'):\n",
    "    print a,b"
   ]
  },
  {
   "cell_type": "code",
   "execution_count": 27,
   "metadata": {
    "collapsed": false
   },
   "outputs": [
    {
     "ename": "ValueError",
     "evalue": "need more than 1 value to unpack",
     "output_type": "error",
     "traceback": [
      "\u001b[0;31m---------------------------------------------------------------------------\u001b[0m",
      "\u001b[0;31mValueError\u001b[0m                                Traceback (most recent call last)",
      "\u001b[0;32m<ipython-input-27-c6283f1ad965>\u001b[0m in \u001b[0;36m<module>\u001b[0;34m()\u001b[0m\n\u001b[1;32m      1\u001b[0m \u001b[0mpair\u001b[0m \u001b[0;34m=\u001b[0m  \u001b[0;34m(\u001b[0m\u001b[0;34m'wrt'\u001b[0m\u001b[0;34m,\u001b[0m \u001b[0;34m'wrf'\u001b[0m\u001b[0;34m)\u001b[0m\u001b[0;34m\u001b[0m\u001b[0m\n\u001b[0;32m----> 2\u001b[0;31m \u001b[0;32mfor\u001b[0m \u001b[0ma\u001b[0m\u001b[0;34m,\u001b[0m \u001b[0mb\u001b[0m \u001b[0;32min\u001b[0m \u001b[0mzip\u001b[0m\u001b[0;34m(\u001b[0m\u001b[0mpair\u001b[0m\u001b[0;34m)\u001b[0m\u001b[0;34m:\u001b[0m\u001b[0;34m\u001b[0m\u001b[0m\n\u001b[0m\u001b[1;32m      3\u001b[0m \u001b[0;31m# for a, b in zip(pair):\u001b[0m\u001b[0;34m\u001b[0m\u001b[0;34m\u001b[0m\u001b[0m\n\u001b[1;32m      4\u001b[0m     \u001b[0;32mprint\u001b[0m \u001b[0ma\u001b[0m\u001b[0;34m,\u001b[0m\u001b[0mb\u001b[0m\u001b[0;34m\u001b[0m\u001b[0m\n",
      "\u001b[0;31mValueError\u001b[0m: need more than 1 value to unpack"
     ]
    }
   ],
   "source": [
    "pair =  ('wrt', 'wrf')\n",
    "for a, b in zip(pair):\n",
    "# for a, b in zip(*pair):\n",
    "    print a,b"
   ]
  },
  {
   "cell_type": "code",
   "execution_count": 23,
   "metadata": {
    "collapsed": false
   },
   "outputs": [
    {
     "ename": "SyntaxError",
     "evalue": "invalid syntax (<ipython-input-23-4de83630885f>, line 2)",
     "output_type": "error",
     "traceback": [
      "\u001b[0;36m  File \u001b[0;32m\"<ipython-input-23-4de83630885f>\"\u001b[0;36m, line \u001b[0;32m2\u001b[0m\n\u001b[0;31m    def f(*args, con = \" & \"):\u001b[0m\n\u001b[0m                   ^\u001b[0m\n\u001b[0;31mSyntaxError\u001b[0m\u001b[0;31m:\u001b[0m invalid syntax\n"
     ]
    }
   ],
   "source": [
    "## arbitrary arguments\n",
    "def f(*args, con = \" & \"):\n",
    "    print(isinstance(args, tuple))\n",
    "    print(\"Hello\", con.join(args))\n",
    "\n",
    "f(\"Python\", \"C\", \"C++\", con = \"/\")"
   ]
  },
  {
   "cell_type": "code",
   "execution_count": 24,
   "metadata": {
    "collapsed": false
   },
   "outputs": [
    {
     "name": "stdout",
     "output_type": "stream",
     "text": [
      "('args ', ('Python', 'Javascript'))\n",
      "('kargs ', {'fp': 'Haskell', 'ms': 'C++'})\n",
      "FP: Haskell & Scripts: Python/Javascript\n"
     ]
    }
   ],
   "source": [
    "## arbitrary arguments\n",
    "def f(*args, **kargs):\n",
    "    print(\"args \", args)\n",
    "    print(\"kargs \", kargs)\n",
    "    print(\"FP: {} & Scripts: {}\".format(kargs.get(\"fp\"), \"/\".join(args)))\n",
    "    \n",
    "f(\"Python\", \"Javascript\", ms = \"C++\", fp = \"Haskell\")"
   ]
  },
  {
   "cell_type": "code",
   "execution_count": null,
   "metadata": {
    "collapsed": true
   },
   "outputs": [],
   "source": [
    "https://discuss.leetcode.com/topic/22476/16-18-lines-python-30-lines-c"
   ]
  },
  {
   "cell_type": "markdown",
   "metadata": {},
   "source": [
    "# 12. |286| [Walls and Gates](https://leetcode.com/problems/walls-and-gates/)| [C++](./C++/walls-and-gates.cpp) [Python](./Python/walls-and-gates.py)   | _O(m * n)_          | _O(g)_          | Medium         | 📖 |\n"
   ]
  },
  {
   "cell_type": "code",
   "execution_count": null,
   "metadata": {
    "collapsed": true
   },
   "outputs": [],
   "source": [
    "You are given a m x n 2D grid initialized with these three possible values.\n",
    "\n",
    "-1 - A wall or an obstacle.\n",
    "0 - A gate.\n",
    "INF - Infinity means an empty room. We use the value 231 - 1 = 2147483647 to represent INF \n",
    "as you may assume that the distance to a gate is less than 2147483647. \n",
    "Fill each empty room with the distance to its nearest gate. If it is impossible to reach a gate, \n",
    "it should be filled with INF.\n",
    "For example, given the 2D grid:\n",
    "\n",
    "INF  -1  0  INF\n",
    "INF INF INF  -1\n",
    "INF  -1 INF  -1\n",
    "  0  -1 INF INF \n",
    "    \n",
    "After running your function, the 2D grid should be:\n",
    "\n",
    "  3  -1   0   1\n",
    "  2   2   1  -1\n",
    "  1  -1   2  -1\n",
    "  0  -1   3   4"
   ]
  },
  {
   "cell_type": "code",
   "execution_count": 71,
   "metadata": {
    "collapsed": true
   },
   "outputs": [],
   "source": [
    "# Time:  O(m * n)\n",
    "# Space: O(g)\n",
    "\n",
    "from collections import deque\n",
    "\n",
    "class Solution(object):\n",
    "    def wallsAndGates(self, rooms):\n",
    "        \"\"\"\n",
    "        :type rooms: List[List[int]]\n",
    "        :rtype: void Do not return anything, modify rooms in-place instead.\n",
    "        \"\"\"\n",
    "        INF = 2147483647\n",
    "        q = deque([(i, j) for i, row in enumerate(rooms) for j, r in enumerate(row) if not r])\n",
    "        \n",
    "        while q:\n",
    "            (i, j) = q.popleft()\n",
    "            for I, J in (i+1, j), (i-1, j), (i, j+1), (i, j-1):\n",
    "                if 0 <= I < len(rooms) and 0 <= J < len(rooms[0]) and rooms[I][J] == INF:\n",
    "                    rooms[I][J] = rooms[i][j] + 1\n",
    "                    q.append((I, J))"
   ]
  },
  {
   "cell_type": "code",
   "execution_count": null,
   "metadata": {
    "collapsed": true
   },
   "outputs": [],
   "source": [
    "r"
   ]
  },
  {
   "cell_type": "code",
   "execution_count": 87,
   "metadata": {
    "collapsed": false
   },
   "outputs": [],
   "source": [
    "INF = 2147483647\n",
    "rooms = [\n",
    "    [INF, -1, 0, INF],\n",
    "    [INF, INF, INF, -1],\n",
    "    [INF, -1, INF, -1],\n",
    "    [0, -1, INF, INF]\n",
    "]"
   ]
  },
  {
   "cell_type": "code",
   "execution_count": 94,
   "metadata": {
    "collapsed": false
   },
   "outputs": [
    {
     "name": "stdout",
     "output_type": "stream",
     "text": [
      "deque([(0, 2), (3, 0)])\n"
     ]
    }
   ],
   "source": [
    "q = deque([(i, j) for i, row in enumerate(rooms) for j, r in enumerate(row) if not r])\n",
    "print q"
   ]
  },
  {
   "cell_type": "code",
   "execution_count": 95,
   "metadata": {
    "collapsed": false
   },
   "outputs": [
    {
     "name": "stdout",
     "output_type": "stream",
     "text": [
      "(0, 2)\n",
      "deque([(3, 0)])\n"
     ]
    }
   ],
   "source": [
    "print q.popleft()\n",
    "print q"
   ]
  },
  {
   "cell_type": "code",
   "execution_count": 81,
   "metadata": {
    "collapsed": false
   },
   "outputs": [
    {
     "name": "stdout",
     "output_type": "stream",
     "text": [
      "None\n"
     ]
    }
   ],
   "source": [
    "print Solution().wallsAndGates(rooms)"
   ]
  },
  {
   "cell_type": "code",
   "execution_count": 99,
   "metadata": {
    "collapsed": false
   },
   "outputs": [
    {
     "name": "stdout",
     "output_type": "stream",
     "text": [
      "[(1, 2)]\n"
     ]
    }
   ],
   "source": [
    "a = []\n",
    "a += (1,2),\n",
    "print a"
   ]
  },
  {
   "cell_type": "markdown",
   "metadata": {},
   "source": [
    "# 12. |310| [Minimum Height Trees](https://leetcode.com/problems/minimum-height-trees/)| [C++](./C++/minimum-height-trees.cpp) [Python](./Python/minimum-height-trees.py)   | _O(n)_          | _O(n)_          | Medium         ||\n"
   ]
  },
  {
   "cell_type": "code",
   "execution_count": null,
   "metadata": {
    "collapsed": true
   },
   "outputs": [],
   "source": [
    "For a undirected graph with tree characteristics, we can\n",
    "choose any node as the root. The result graph is then a\n",
    "rooted tree. Among all possible rooted trees, those with\n",
    "minimum height are called minimum height trees (MHTs).\n",
    "Given such a graph, write a function to find all the \n",
    "MHTs and return a list of their root labels.\n",
    "\n",
    "Format\n",
    "The graph contains n nodes which are labeled from 0 to n - 1.\n",
    "You will be given the number n and a list of undirected\n",
    "edges (each edge is a pair of labels).\n",
    "\n",
    "You can assume that no duplicate edges will appear in edges.\n",
    "Since all edges are undirected, [0, 1] is the same as [1, 0]\n",
    "and thus will not appear together in edges.\n",
    "\n",
    "Example 1:\n",
    "\n",
    "Given n = 4, edges = [[1, 0], [1, 2], [1, 3]]\n",
    "\n",
    "        0\n",
    "        |\n",
    "        1\n",
    "       / \\\n",
    "      2   3\n",
    "return [1]\n",
    "\n",
    "Example 2:\n",
    "\n",
    "Given n = 6, edges = [[0, 3], [1, 3], [2, 3], [4, 3], [5, 4]]\n",
    "\n",
    "     0  1  2\n",
    "      \\ | /\n",
    "        3\n",
    "        |\n",
    "        4\n",
    "        |\n",
    "        5\n",
    "return [3, 4]\n",
    "\n",
    "Hint:\n",
    "\n",
    "How many MHTs can a graph have at most?\n",
    "Note:\n",
    "\n",
    "(1) According to the definition of tree on Wikipedia: \n",
    "    \"a tree is an undirected graph in which any two vertices \n",
    "    are connected by exactly one path. In other words, \n",
    "    any connected graph without simple cycles is a tree.\"\n",
    "\n",
    "(2) The height of a rooted tree is the number of edges on the \n",
    "    longest downward path between the root and a leaf."
   ]
  },
  {
   "cell_type": "code",
   "execution_count": null,
   "metadata": {
    "collapsed": true
   },
   "outputs": [],
   "source": [
    "# Time:  O(n)\n",
    "# Space: O(n)\n",
    "\n",
    "\n",
    "class Solution(object):\n",
    "    def findMinHeightTrees(self, n, edges):\n",
    "        \"\"\"\n",
    "        :type n: int\n",
    "        :type edges: List[List[int]]\n",
    "        :rtype: List[int]\n",
    "        \"\"\"\n",
    "        if n == 1:\n",
    "            return [0]\n",
    "\n",
    "        neighbors = collections.defaultdict(set)\n",
    "        for u, v in edges:\n",
    "            neighbors[u].add(v)\n",
    "            neighbors[v].add(u)\n",
    "\n",
    "        pre_level, unvisited = [], set()\n",
    "        for i in xrange(n):\n",
    "            if len(neighbors[i]) == 1:  # A leaf.\n",
    "                pre_level.append(i)\n",
    "            unvisited.add(i)\n",
    "\n",
    "        # A graph can have 2 MHTs at most.\n",
    "        # BFS from the leaves until the number \n",
    "        # of the unvisited nodes is less than 3.\n",
    "        while len(unvisited) > 2:\n",
    "            cur_level = []\n",
    "            for u in pre_level:\n",
    "                unvisited.remove(u)\n",
    "                for v in neighbors[u]:\n",
    "                    if v in unvisited: \n",
    "                        neighbors[v].remove(u)\n",
    "                        if len(neighbors[v]) == 1:\n",
    "                            cur_level.append(v)\n",
    "            pre_level = cur_level\n",
    "    \n",
    "        return list(unvisited)"
   ]
  },
  {
   "cell_type": "markdown",
   "metadata": {},
   "source": [
    "# 13. |317| [Shortest Distance from All Buildings](https://leetcode.com/problems/shortest-distance-from-all-buildings/)| [C++](./C++/shortest-distance-from-all-buildings.cpp) [Python](./Python/shortest-distance-from-all-buildings.py)   | _O(k * m * n)_          | _O(m * n)_          | Hard         | 📖 |\n"
   ]
  },
  {
   "cell_type": "code",
   "execution_count": null,
   "metadata": {
    "collapsed": true
   },
   "outputs": [],
   "source": [
    "# Time:  O(k * m * n), k is the number of the buildings\n",
    "# Space: O(m * n)\n",
    "\n",
    "class Solution(object):\n",
    "    def shortestDistance(self, grid):\n",
    "        \"\"\"\n",
    "        :type grid: List[List[int]]\n",
    "        :rtype: int\n",
    "        \"\"\"\n",
    "        def bfs(grid, dists, cnts, x, y):\n",
    "            dist, m, n = 0, len(grid), len(grid[0])\n",
    "            visited = [[False for _ in xrange(n)] for _ in xrange(m)]\n",
    "    \n",
    "            pre_level = [(x, y)]\n",
    "            visited[x][y] = True\n",
    "            while pre_level:\n",
    "                dist += 1\n",
    "                cur_level = []\n",
    "                for i, j in pre_level:\n",
    "                    for dir in [(-1, 0), (1, 0), (0, -1), (0, 1)]:\n",
    "                        I, J = i+dir[0], j+dir[1]\n",
    "                        if 0 <= I < m and 0 <= J < n and grid[I][J] == 0 and not visited[I][J]:\n",
    "                            cnts[I][J] += 1\n",
    "                            dists[I][J] += dist\n",
    "                            cur_level.append((I, J))\n",
    "                            visited[I][J] = True\n",
    "    \n",
    "                pre_level = cur_level\n",
    "\n",
    "\n",
    "        m, n, cnt = len(grid),  len(grid[0]), 0\n",
    "        dists = [[0 for _ in xrange(n)] for _ in xrange(m)]\n",
    "        cnts = [[0 for _ in xrange(n)] for _ in xrange(m)]\n",
    "        for i in xrange(m):\n",
    "            for j in xrange(n):\n",
    "                if grid[i][j] == 1:\n",
    "                    cnt += 1\n",
    "                    bfs(grid, dists, cnts, i, j)\n",
    "\n",
    "        shortest = float(\"inf\")\n",
    "        for i in xrange(m):\n",
    "            for j in xrange(n):\n",
    "                if dists[i][j] < shortest and cnts[i][j] == cnt:\n",
    "                    shortest = dists[i][j]\n",
    "\n",
    "        return shortest if shortest != float(\"inf\") else -1"
   ]
  },
  {
   "cell_type": "markdown",
   "metadata": {},
   "source": [
    "# 14. |433| [Minimum Genetic Mutation](https://leetcode.com/problems/minimum-genetic-mutation/)| [C++](./C++/minimum-genetic-mutation.cpp) [Python](./Python/minimum-genetic-mutation.py)   | _O(n * b)_          | _O(b)_          | Medium         ||\n"
   ]
  },
  {
   "cell_type": "code",
   "execution_count": null,
   "metadata": {
    "collapsed": true
   },
   "outputs": [],
   "source": [
    "Time:  O(n * b), n is the length of gene string, b is size of bank\n",
    "Space: O(b)\n",
    "\n",
    "A gene string can be represented by an 8-character long string, \n",
    "with choices from \"A\",\"C\",\"G\",\"T\". \n",
    "Suppose we need to investigate about a mutation (mutation from \"start\" to \"end\"), \n",
    "where ONE mutation is defined as ONE single character changed in the gene string. \n",
    "For example, \"AACCGGTT\" -> \"AACCGGTA\" is 1 mutation. \n",
    "Also, there is a given gene \"bank\", which records all the valid gene mutations.\n",
    "A gene must be in the bank to make it a valid gene string. \n",
    "\n",
    "Now, given 3 things - start, end, bank,\n",
    "your task is to determine what is the minimum number of mutations needed to\n",
    "mutate from \"start\" to \"end\". If there is no such a mutation, return -1. \n",
    "\n",
    "NOTE: 1. Starting point is assumed to be valid, so it might not be included in the bank.\n",
    "      2. If multiple mutations are needed, all mutations during in the sequence must be valid.\n",
    "\n",
    "For example, \n",
    "    \n",
    "bank: \"AACCGGTA\" \n",
    "start: \"AACCGGTT\" \n",
    "end: \"AACCGGTA\" \n",
    "return: 1\n",
    "\n",
    "bank: \"AACCGGTA\", \"AACCGCTA\", \"AAACGGTA\"\n",
    "start: \"AACCGGTT\"\n",
    "end: \"AAACGGTA\"\n",
    "return: 2\n",
    "\n",
    "bank: \"AAAACCCC\", \"AAACCCCC\", \"AACCCCCC\"\n",
    "start: \"AAAAACCC\"\n",
    "end: \"AACCCCCC\"\n",
    "return: 3\n"
   ]
  },
  {
   "cell_type": "code",
   "execution_count": null,
   "metadata": {
    "collapsed": true
   },
   "outputs": [],
   "source": [
    "\n",
    "from collections import deque\n",
    "\n",
    "class Solution(object):\n",
    "    def minMutation(self, start, end, bank):\n",
    "        \"\"\"\n",
    "        :type start: str\n",
    "        :type end: str\n",
    "        :type bank: List[str]\n",
    "        :rtype: int\n",
    "        \"\"\"\n",
    "        lookup = {}\n",
    "        for b in bank:\n",
    "            lookup[b] = False\n",
    "\n",
    "        q = deque([(start, 0)])\n",
    "        while q:\n",
    "            cur, level = q.popleft()\n",
    "            if cur == end:\n",
    "                return level\n",
    "\n",
    "            for i in xrange(len(cur)):\n",
    "                for c in ['A', 'T', 'C', 'G']:\n",
    "                    if cur[i] == c:\n",
    "                        continue\n",
    "\n",
    "                    next_str = cur[:i] + c + cur[i+1:]\n",
    "                    if next_str in lookup and lookup[next_str] == False:\n",
    "                        q.append((next_str, level+1))\n",
    "                        lookup[next_str] = True\n",
    "\n",
    "        return -1"
   ]
  },
  {
   "cell_type": "markdown",
   "metadata": {},
   "source": [
    "# 15. |444| [Sequence Reconstruction](https://leetcode.com/problems/sequence-reconstruction/)| [C++](./C++/sequence-reconstruction.cpp) [Python](./Python/sequence-reconstruction.py)   | _O(n * s)_          | _O(n)_          | Medium         |📖| Topological Sort |\n"
   ]
  },
  {
   "cell_type": "code",
   "execution_count": null,
   "metadata": {
    "collapsed": true
   },
   "outputs": [],
   "source": [
    "# Time:  O(n * s), n is the size of org, s is the size of seqs\n",
    "# Space: O(n)\n",
    "\n",
    "class Solution(object):\n",
    "    def sequenceReconstruction(self, org, seqs):\n",
    "        \"\"\"\n",
    "        :type org: List[int]\n",
    "        :type seqs: List[List[int]]\n",
    "        :rtype: bool\n",
    "        \"\"\"\n",
    "        if not seqs:\n",
    "            return False\n",
    "        pos = [0] * (len(org) + 1)\n",
    "        for i in xrange(len(org)):\n",
    "            pos[org[i]] = i\n",
    "\n",
    "        is_matched = [False] * (len(org) + 1)\n",
    "        cnt_to_match = len(org) - 1\n",
    "        for seq in seqs:\n",
    "            for i in xrange(len(seq)):\n",
    "                if not 0 < seq[i] <= len(org):\n",
    "                    return False\n",
    "                if i == 0:\n",
    "                    continue\n",
    "                if pos[seq[i-1]] >= pos[seq[i]]:\n",
    "                    return False\n",
    "                if is_matched[seq[i-1]] == False and pos[seq[i-1]] + 1 == pos[seq[i]]:\n",
    "                    is_matched[seq[i-1]] = True\n",
    "                    cnt_to_match -= 1\n",
    "\n",
    "        return cnt_to_match == 0"
   ]
  }
 ],
 "metadata": {
  "kernelspec": {
   "display_name": "Python 2",
   "language": "python",
   "name": "python2"
  },
  "language_info": {
   "codemirror_mode": {
    "name": "ipython",
    "version": 2
   },
   "file_extension": ".py",
   "mimetype": "text/x-python",
   "name": "python",
   "nbconvert_exporter": "python",
   "pygments_lexer": "ipython2",
   "version": "2.7.13"
  }
 },
 "nbformat": 4,
 "nbformat_minor": 0
}
