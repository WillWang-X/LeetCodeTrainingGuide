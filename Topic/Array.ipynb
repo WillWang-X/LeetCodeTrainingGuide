{
 "cells": [
  {
   "cell_type": "markdown",
   "metadata": {},
   "source": [
    "# Arrray"
   ]
  },
  {
   "cell_type": "markdown",
   "metadata": {},
   "source": [
    "# 370. Range Addition Total"
   ]
  },
  {
   "cell_type": "code",
   "execution_count": null,
   "metadata": {
    "collapsed": true
   },
   "outputs": [],
   "source": [
    "370. Range Addition Total Accepted: 4790 Total Submissions: 9278 Difficulty: Medium\n",
    "Assume you have an array of length n initialized with all 0's and are given k update operations.\n",
    "\n",
    "Each operation is represented as a triplet: [startIndex, endIndex, inc] \n",
    "which increments each element of subarray A[startIndex ... endIndex]\n",
    "\n",
    "(startIndex and endIndex inclusive) with inc.\n",
    "\n",
    "Return the modified array after all k operations were executed.\n",
    "\n",
    "Example:\n",
    "\n",
    "Given:\n",
    "\n",
    "    length = 5,\n",
    "    updates = [\n",
    "        [1,  3,  2],\n",
    "        [2,  4,  3],\n",
    "        [0,  2, -2]\n",
    "    ]\n",
    "\n",
    "Output:\n",
    "\n",
    "[-2, 0, 3, 5, 3]\n",
    "\n",
    "Explanation:\n",
    "\n",
    "Initial state:\n",
    "[ 0, 0, 0, 0, 0 ]\n",
    "\n",
    "After applying operation [1, 3, 2]:\n",
    "[ 0, 2, 2, 2, 0 ]\n",
    "\n",
    "After applying operation [2, 4, 3]:\n",
    "[ 0, 2, 5, 5, 3 ]\n",
    "\n",
    "After applying operation [0, 2, -2]:\n",
    "[-2, 0, 3, 5, 3 ]\n",
    "Hint:\n",
    "\n",
    "Thinking of using advanced data structures? You are thinking it too complicated.\n",
    "For each update operation, do you really need to update all elements between i and j?\n",
    "Update only the first and end element is sufficient.\n",
    "The optimal time complexity is O(k + n) and uses O(1) extra space.\n",
    "Credits:\n",
    "Special thanks to @vinod23 for adding this problem and creating all test cases.\n",
    "\n",
    " Google  Array"
   ]
  },
  {
   "cell_type": "code",
   "execution_count": 4,
   "metadata": {
    "collapsed": true
   },
   "outputs": [],
   "source": [
    "# Time: O(nk)\n",
    "# Space:\n",
    "# Range Addition Total\n",
    "'''\n",
    "see left and right \n",
    "\n",
    "天下大势，合久必分，分久必合。\n",
    "Majority Elment II \n",
    "'''\n",
    "\n",
    "class Solution(object):\n",
    "    def getModifiedArray(self, length, updates):\n",
    "        \"\"\"\n",
    "        :type length: int\n",
    "        :type updates: List[List[int]]\n",
    "        :rtype: List[int]\n",
    "        \"\"\"\n",
    "        res = [0] * length\n",
    "        for update in updates:\n",
    "            start, end, inc = update\n",
    "            res[start] += inc\n",
    "            \n",
    "            if end + 1 <= length - 1:\n",
    "                res[end+1] -= inc\n",
    "\n",
    "        sum = 0\n",
    "        for i in range(length):\n",
    "            sum += res[i]\n",
    "            res[i] = sum\n",
    "        return res"
   ]
  },
  {
   "cell_type": "code",
   "execution_count": 5,
   "metadata": {
    "collapsed": false
   },
   "outputs": [
    {
     "ename": "TypeError",
     "evalue": "can't multiply sequence by non-int of type 'tuple'",
     "output_type": "error",
     "traceback": [
      "\u001b[0;31m---------------------------------------------------------------------------\u001b[0m",
      "\u001b[0;31mTypeError\u001b[0m                                 Traceback (most recent call last)",
      "\u001b[0;32m<ipython-input-5-98291220f9c2>\u001b[0m in \u001b[0;36m<module>\u001b[0;34m()\u001b[0m\n\u001b[1;32m      6\u001b[0m ]\n\u001b[1;32m      7\u001b[0m \u001b[0;34m\u001b[0m\u001b[0m\n\u001b[0;32m----> 8\u001b[0;31m \u001b[0;32mprint\u001b[0m \u001b[0mSolution\u001b[0m\u001b[0;34m(\u001b[0m\u001b[0;34m)\u001b[0m\u001b[0;34m.\u001b[0m\u001b[0mgetModifiedArray\u001b[0m\u001b[0;34m(\u001b[0m\u001b[0mlength\u001b[0m\u001b[0;34m,\u001b[0m \u001b[0mupdates\u001b[0m\u001b[0;34m)\u001b[0m\u001b[0;34m\u001b[0m\u001b[0m\n\u001b[0m",
      "\u001b[0;32m<ipython-input-4-53b8cfd1324e>\u001b[0m in \u001b[0;36mgetModifiedArray\u001b[0;34m(self, length, updates)\u001b[0m\n\u001b[1;32m      6\u001b[0m         \u001b[0;34m:\u001b[0m\u001b[0mrtype\u001b[0m\u001b[0;34m:\u001b[0m \u001b[0mList\u001b[0m\u001b[0;34m[\u001b[0m\u001b[0mint\u001b[0m\u001b[0;34m]\u001b[0m\u001b[0;34m\u001b[0m\u001b[0m\n\u001b[1;32m      7\u001b[0m         \"\"\"\n\u001b[0;32m----> 8\u001b[0;31m         \u001b[0mres\u001b[0m \u001b[0;34m=\u001b[0m \u001b[0;34m[\u001b[0m\u001b[0;36m0\u001b[0m\u001b[0;34m]\u001b[0m \u001b[0;34m*\u001b[0m \u001b[0mlength\u001b[0m\u001b[0;34m\u001b[0m\u001b[0m\n\u001b[0m\u001b[1;32m      9\u001b[0m         \u001b[0;32mfor\u001b[0m \u001b[0mupdate\u001b[0m \u001b[0;32min\u001b[0m \u001b[0mupdates\u001b[0m\u001b[0;34m:\u001b[0m\u001b[0;34m\u001b[0m\u001b[0m\n\u001b[1;32m     10\u001b[0m             \u001b[0mstart\u001b[0m\u001b[0;34m,\u001b[0m \u001b[0mend\u001b[0m\u001b[0;34m,\u001b[0m \u001b[0minc\u001b[0m \u001b[0;34m=\u001b[0m \u001b[0mupdate\u001b[0m\u001b[0;34m\u001b[0m\u001b[0m\n",
      "\u001b[0;31mTypeError\u001b[0m: can't multiply sequence by non-int of type 'tuple'"
     ]
    }
   ],
   "source": [
    "length = 5,\n",
    "updates = [\n",
    "    [1,  3,  2],\n",
    "    [2,  4,  3],\n",
    "    [0,  2, -2]\n",
    "]\n",
    "\n",
    "print Solution().getModifiedArray(length, updates)"
   ]
  },
  {
   "cell_type": "markdown",
   "metadata": {},
   "source": [
    "# 442. Find All Duplicates in an Array"
   ]
  },
  {
   "cell_type": "code",
   "execution_count": null,
   "metadata": {
    "collapsed": true
   },
   "outputs": [],
   "source": [
    "Given an array of integers, 1 ≤ a[i] ≤ n (n = size of array), some elements appear twice and others appear once.\n",
    "\n",
    "Find all the elements that appear twice in this array.\n",
    "\n",
    "Could you do it without extra space and in O(n) runtime?\n",
    "\n",
    "Example:\n",
    "Input:\n",
    "[4,3,2,7,8,2,3,1]\n",
    "\n",
    "Output:\n",
    "[2,3]"
   ]
  },
  {
   "cell_type": "code",
   "execution_count": 20,
   "metadata": {
    "collapsed": true
   },
   "outputs": [],
   "source": [
    "# Time: O(n)\n",
    "# Space: O(1)\n",
    "# Find All Duplicates in an Array\n",
    "\n",
    "class Solution(object):\n",
    "    def findDuplicates(self, nums):\n",
    "        \"\"\"\n",
    "        :type nums: List[int]\n",
    "        :rtype: List[int]\n",
    "        \"\"\"\n",
    "        res = []\n",
    "        for x in nums:\n",
    "            print nums[abs(x) - 1]\n",
    "            if nums[abs(x)-1] < 0:\n",
    "                res.append(abs(x))\n",
    "            else:\n",
    "                nums[abs(x)-1] *= -1\n",
    "            print res\n",
    "            print '*'*10\n",
    "        return res"
   ]
  },
  {
   "cell_type": "code",
   "execution_count": 21,
   "metadata": {
    "collapsed": false
   },
   "outputs": [
    {
     "name": "stdout",
     "output_type": "stream",
     "text": [
      "7\n",
      "[]\n",
      "**********\n",
      "2\n",
      "[]\n",
      "**********\n",
      "3\n",
      "[]\n",
      "**********\n",
      "3\n",
      "[]\n",
      "**********\n",
      "1\n",
      "[]\n",
      "**********\n",
      "-3\n",
      "[2]\n",
      "**********\n",
      "-2\n",
      "[2, 3]\n",
      "**********\n",
      "4\n",
      "[2, 3]\n",
      "**********\n",
      "[2, 3]\n"
     ]
    }
   ],
   "source": [
    "print Solution().findDuplicates([4,3,2,7,8,2,3,1])"
   ]
  },
  {
   "cell_type": "markdown",
   "metadata": {
    "collapsed": true
   },
   "source": [
    "---\n",
    "# 531 Lonely Pixel I"
   ]
  },
  {
   "cell_type": "code",
   "execution_count": null,
   "metadata": {
    "collapsed": true
   },
   "outputs": [],
   "source": [
    "Given a picture consisting of black and white pixels, find the number of black lonely pixels.\n",
    "\n",
    "The picture is represented by a 2D char array consisting of 'B' and 'W', \n",
    "which means black and white pixels respectively.\n",
    "\n",
    "A black lonely pixel is character 'B' that located at a specific position \n",
    "where the same row and same column don't have any other black pixels.\n",
    "\n",
    "Example:\n",
    "\n",
    "Input: \n",
    "[['W', 'W', 'B'],\n",
    " ['W', 'B', 'W'],\n",
    " ['B', 'W', 'W']]\n",
    "\n",
    "Output: 3\n",
    "Explanation: All the three 'B's are black lonely pixels.\n",
    "Note:\n",
    "\n",
    "The range of width and height of the input 2D array is [1,500]."
   ]
  },
  {
   "cell_type": "code",
   "execution_count": 30,
   "metadata": {
    "collapsed": true
   },
   "outputs": [],
   "source": [
    "# Time: O(m*n)\n",
    "# Space: O(m+n)\n",
    "# Lonely Pixel I \n",
    "# Edge case \n",
    "'''\n",
    "Notes:\n",
    "condition -> solution\n",
    "'''\n",
    "\n",
    "class Solution(object):\n",
    "    def findLonelyPixel(self, picture):\n",
    "        \"\"\"\n",
    "        :type picture: List[List[str]]\n",
    "        :rtype: int\n",
    "        \"\"\"\n",
    "        width, length = len(picture), len(picture[0])\n",
    "        rows, cols = [0] * width, [0] * length \n",
    "        ans = 0 \n",
    "        \n",
    "        for w in range(width):\n",
    "            for l in range(length):\n",
    "                if picture[w][l] == 'B':\n",
    "                    rows[w] += 1\n",
    "                    cols[l] += 1\n",
    "                    \n",
    "        for w in range(width):\n",
    "            for l in range(length):\n",
    "                if picture[w][l] == 'B':\n",
    "                    if rows[w] == 1:\n",
    "                        if cols[l] == 1:\n",
    "                            ans += 1\n",
    "        return ans "
   ]
  },
  {
   "cell_type": "code",
   "execution_count": 31,
   "metadata": {
    "collapsed": false
   },
   "outputs": [
    {
     "name": "stdout",
     "output_type": "stream",
     "text": [
      "3\n"
     ]
    }
   ],
   "source": [
    "picture = [['W', 'W', 'B'],\n",
    " ['W', 'B', 'W'],\n",
    " ['B', 'W', 'W']]\n",
    "print Solution().findLonelyPixel(picture)"
   ]
  },
  {
   "cell_type": "markdown",
   "metadata": {},
   "source": [
    "---\n",
    "# 533 Lonely Pixel II"
   ]
  },
  {
   "cell_type": "code",
   "execution_count": null,
   "metadata": {
    "collapsed": true
   },
   "outputs": [],
   "source": [
    "Given a picture consisting of black and white pixels, and a positive integer N, \n",
    "find the number of black pixels located at some specific row R and column C that align with all the following rules:\n",
    "\n",
    "Row R and column C both contain exactly N black pixels.\n",
    "For all rows that have a black pixel at column C, they should be exactly the same as row R\n",
    "The picture is represented by a 2D char array consisting of 'B' and 'W', \n",
    "which means black and white pixels respectively.\n",
    "\n",
    "Example:\n",
    "\n",
    "Input:                                            \n",
    "[['W', 'B', 'W', 'B', 'B', 'W'],    \n",
    " ['W', 'B', 'W', 'B', 'B', 'W'],    \n",
    " ['W', 'B', 'W', 'B', 'B', 'W'],    \n",
    " ['W', 'W', 'B', 'W', 'B', 'W']] \n",
    "\n",
    "N = 3\n",
    "Output: 6\n",
    "Explanation: All the bold 'B' are the black pixels we need (all 'B's at column 1 and 3).\n",
    "        0    1    2    3    4    5         column index                                            \n",
    "0    [['W', 'B', 'W', 'B', 'B', 'W'],    \n",
    "1     ['W', 'B', 'W', 'B', 'B', 'W'],    \n",
    "2     ['W', 'B', 'W', 'B', 'B', 'W'],    \n",
    "3     ['W', 'W', 'B', 'W', 'B', 'W']]    \n",
    "row index\n",
    "\n",
    "Take 'B' at row R = 0 and column C = 1 as an example:\n",
    "Rule 1, row R = 0 and column C = 1 both have exactly N = 3 black pixels. \n",
    "Rule 2, the rows have black pixel at column C = 1 are row 0, row 1 and row 2. They are exactly the same as row R = 0.\n",
    "Note:\n",
    "\n",
    "The range of width and height of the input 2D array is [1,200]."
   ]
  },
  {
   "cell_type": "code",
   "execution_count": 64,
   "metadata": {
    "collapsed": true
   },
   "outputs": [],
   "source": [
    "# Time: O(m*n)\n",
    "# Space: O(m+n)\n",
    "# Lonely Pixel II\n",
    "# Edge case \n",
    "'''\n",
    "'''\n",
    "\n",
    "class Solution(object):\n",
    "    def findBlackPixel(self, picture, N):\n",
    "        \"\"\"\n",
    "        :type picture: List[List[str]]\n",
    "        :rtype: int\n",
    "        \"\"\"\n",
    "        width, length = len(picture), len(picture[0])\n",
    "        rows, cols = [0] * width, [0] * length \n",
    "        ans = 0 \n",
    "        \n",
    "        for w in range(width):\n",
    "            for l in range(length):\n",
    "                if picture[w][l] == 'B':\n",
    "                    rows[w] += 1\n",
    "                    cols[l] += 1\n",
    "          \n",
    "        for w in range(width):\n",
    "            if rows[w] != N:\n",
    "                continue \n",
    "            for l in range(length):\n",
    "                if picture[w][l] == 'B':\n",
    "                    if cols[l] == N:\n",
    "                        ans += 1\n",
    "        return ans "
   ]
  },
  {
   "cell_type": "code",
   "execution_count": 65,
   "metadata": {
    "collapsed": false
   },
   "outputs": [
    {
     "name": "stdout",
     "output_type": "stream",
     "text": [
      "6\n"
     ]
    }
   ],
   "source": [
    "picture = [['W', 'B', 'W', 'B', 'B', 'W'],    \n",
    " ['W', 'B', 'W', 'B', 'B', 'W'],    \n",
    " ['W', 'B', 'W', 'B', 'B', 'W'],    \n",
    " ['W', 'W', 'B', 'W', 'B', 'W']] \n",
    "N = 3\n",
    "print Solution().findBlackPixel(picture, N)"
   ]
  },
  {
   "cell_type": "markdown",
   "metadata": {},
   "source": [
    "---\n",
    "# 532. K-diff Pairs in an Array"
   ]
  },
  {
   "cell_type": "code",
   "execution_count": null,
   "metadata": {
    "collapsed": true
   },
   "outputs": [],
   "source": [
    "Given an array of integers and an integer k, you need to find the number of unique k-diff pairs in the array. \n",
    "Here a k-diff pair is defined as an integer pair (i, j), \n",
    "where i and j are both numbers in the array and their absolute difference is k.\n",
    "\n",
    "Example 1:\n",
    "Input: [3, 1, 4, 1, 5], k = 2\n",
    "Output: 2\n",
    "Explanation: There are two 2-diff pairs in the array, (1, 3) and (3, 5).\n",
    "Although we have two 1s in the input, we should only return the number of unique pairs.\n",
    "Example 2:\n",
    "Input:[1, 2, 3, 4, 5], k = 1\n",
    "Output: 4\n",
    "Explanation: There are four 1-diff pairs in the array, (1, 2), (2, 3), (3, 4) and (4, 5).\n",
    "Example 3:\n",
    "Input: [1, 3, 1, 5, 4], k = 0\n",
    "Output: 1\n",
    "Explanation: There is one 0-diff pair in the array, (1, 1).\n",
    "Note:\n",
    "The pairs (i, j) and (j, i) count as the same pair.\n",
    "The length of the array won't exceed 10,000.\n",
    "All the integers in the given input belong to the range: [-1e7, 1e7].\n"
   ]
  },
  {
   "cell_type": "code",
   "execution_count": 74,
   "metadata": {
    "collapsed": false
   },
   "outputs": [],
   "source": [
    "\n",
    "'''\n",
    "2 set \n",
    "'''\n",
    "\n",
    "class Solution(object):\n",
    "    def findPairs(self, nums, k):\n",
    "        \"\"\"\n",
    "        :type nums: List[int]\n",
    "        :type k: int\n",
    "        :rtype: int\n",
    "        \"\"\"\n",
    "        res = 0\n",
    "        cnt = collections.Counter(nums)\n",
    "        for i in cnt:\n",
    "            if k > 0 and i + k in cnt:\n",
    "                res += 1 \n",
    "            elif k == 0 and cnt[i] > 1:\n",
    "                res += 1\n",
    "        return res\n",
    "    "
   ]
  },
  {
   "cell_type": "code",
   "execution_count": 75,
   "metadata": {
    "collapsed": false
   },
   "outputs": [
    {
     "name": "stdout",
     "output_type": "stream",
     "text": [
      "4\n"
     ]
    }
   ],
   "source": [
    "print Solution().findPairs([1, 2, 3, 4, 5],1)"
   ]
  },
  {
   "cell_type": "code",
   "execution_count": null,
   "metadata": {
    "collapsed": true
   },
   "outputs": [],
   "source": [
    "def findPairs(self, nums, k):\n",
    "        res = 0\n",
    "        c = collections.Counter(nums)\n",
    "        for i in c:\n",
    "            if k > 0 and i + k in c or k == 0 and c[i] > 1:\n",
    "                res += 1\n",
    "        return res"
   ]
  },
  {
   "cell_type": "code",
   "execution_count": null,
   "metadata": {
    "collapsed": true
   },
   "outputs": [],
   "source": [
    "def findPairs(self, nums, k):\n",
    "        c = collections.Counter(nums)\n",
    "        return  sum(k > 0 and i + k in c or k == 0 and c[i] > 1 for i in c)"
   ]
  },
  {
   "cell_type": "markdown",
   "metadata": {
    "collapsed": true
   },
   "source": [
    "---\n",
    "# 548 Split Array with Equal Sum"
   ]
  },
  {
   "cell_type": "code",
   "execution_count": null,
   "metadata": {
    "collapsed": true
   },
   "outputs": [],
   "source": [
    "Given an array with n integers, you need to find if there are triplets (i, j, k) which satisfies following conditions:\n",
    "\n",
    "0 < i, i + 1 < j, j + 1 < k < n - 1\n",
    "Sum of subarrays (0, i - 1), (i + 1, j - 1), (j + 1, k - 1) and (k + 1, n - 1) should be equal.\n",
    "where we define that subarray (L, R) represents a slice of the original array starting \n",
    "from the element indexed L to the element indexed R.\n",
    "\n",
    "Example:\n",
    "\n",
    "Input: [1,2,1,2,1,2,1]\n",
    "Output: True\n",
    "Explanation:\n",
    "i = 1, j = 3, k = 5. \n",
    "sum(0, i - 1) = sum(0, 0) = 1\n",
    "sum(i + 1, j - 1) = sum(2, 2) = 1\n",
    "sum(j + 1, k - 1) = sum(4, 4) = 1\n",
    "sum(k + 1, n - 1) = sum(6, 6) = 1\n",
    "Note:\n",
    "\n",
    "1 <= n <= 2000.\n",
    "Elements in the given array will be in range [-1,000,000, 1,000,000]."
   ]
  },
  {
   "cell_type": "code",
   "execution_count": 76,
   "metadata": {
    "collapsed": true
   },
   "outputs": [],
   "source": [
    "# Time: O(n^3) \n",
    "# Space:\n",
    "# Split Array with Equal Sum\n",
    "# Edge Case \n",
    "'''\n",
    "2 ways to prune \n",
    "pruning: sum(0, i - 1)  =  sum(i + 1, j - 1)\n",
    "(sum - 3 * min) / 4  \n",
    "(sum - 3 * max) / 4\n",
    "'''\n",
    "\n",
    "class Solution(object):\n",
    "    def splitArray(self, nums):\n",
    "        \"\"\"\n",
    "        :type nums: List[int]\n",
    "        :rtype: bool\n",
    "        \"\"\"\n",
    "        size = len(nums)\n",
    "        sums = [0] * (size + 1)\n",
    "        for x in range(size):\n",
    "            sums[x + 1] += sums[x] + nums[x]\n",
    "\n",
    "        idxs = collections.defaultdict(list)\n",
    "        for x in range(size):\n",
    "            idxs[sums[x + 1]].append(x)\n",
    "        \n",
    "        jlist = collections.defaultdict(list)\n",
    "        for i in range(1, size):\n",
    "            for j in idxs[2 * sums[i] + nums[i]]:\n",
    "                if i < j < size:\n",
    "                    jlist[sums[i]].append(j + 1)\n",
    "        \n",
    "        for k in range(size - 2, 0, -1):\n",
    "            for j in jlist[sums[size] - sums[k + 1]]:\n",
    "                if j + 1 > k: continue\n",
    "                if sums[k] - sums[j + 1] == sums[size] - sums[k + 1]:\n",
    "                    return True\n",
    "        return False\n",
    "\n",
    "# http://bookshadow.com/weblog/2017/04/03/leetcode-split-array-with-equal-sum/"
   ]
  },
  {
   "cell_type": "code",
   "execution_count": 77,
   "metadata": {
    "collapsed": false,
    "scrolled": true
   },
   "outputs": [
    {
     "name": "stdout",
     "output_type": "stream",
     "text": [
      "True\n"
     ]
    }
   ],
   "source": [
    "print Solution().splitArray([1,2,1,2,1,2,1])"
   ]
  },
  {
   "cell_type": "markdown",
   "metadata": {},
   "source": [
    "---\n",
    "# 560. Subarray Sum Equals K ?"
   ]
  },
  {
   "cell_type": "code",
   "execution_count": null,
   "metadata": {
    "collapsed": true
   },
   "outputs": [],
   "source": [
    "Given an array of integers and an integer k, you need to find the total number of continuous \n",
    "subarrays whose sum equals to k.\n",
    "\n",
    "Example 1:\n",
    "Input:nums = [1,1,1], k = 2\n",
    "Output: 2\n",
    "Note:\n",
    "The length of the array is in range [1, 20,000].\n",
    "The range of numbers in the array is [-1000, 1000] and the range of the integer k is [-1e7, 1e7]."
   ]
  },
  {
   "cell_type": "code",
   "execution_count": 107,
   "metadata": {
    "collapsed": true
   },
   "outputs": [],
   "source": [
    "# Time:\n",
    "# Space:\n",
    "# Subarray Sum Equals K\n",
    "# Edge case: \n",
    "'''\n",
    "nums = [1,1,1], k = 2\n",
    "Simariry: subarry = 余数？ \n",
    "\n",
    "n^2 → n\n",
    "\n",
    "set()\n",
    "'''\n",
    "\n",
    "class Solution(object):\n",
    "    def subarraySum(self, nums, k):\n",
    "        \"\"\"\n",
    "        :type nums: List[int]\n",
    "        :type k: int\n",
    "        :rtype: int\n",
    "        \"\"\"\n",
    "        count = collections.Counter()\n",
    "        count[0] = 1\n",
    "        ans = su = 0\n",
    "        print count\n",
    "        for x in nums:\n",
    "            su += x \n",
    "            print 'su:', su\n",
    "            print su-k\n",
    "            ans += count[su-k]\n",
    "            print ans\n",
    "            count[su] += 1\n",
    "            print count \n",
    "        return ans "
   ]
  },
  {
   "cell_type": "code",
   "execution_count": 101,
   "metadata": {
    "collapsed": false,
    "scrolled": true
   },
   "outputs": [
    {
     "name": "stdout",
     "output_type": "stream",
     "text": [
      "Counter({0: 1})\n",
      "su: 1\n",
      "-1\n",
      "0\n",
      "Counter({0: 1, 1: 1})\n",
      "su: 2\n",
      "0\n",
      "1\n",
      "Counter({0: 1, 1: 1, 2: 1})\n",
      "su: 3\n",
      "1\n",
      "2\n",
      "Counter({0: 1, 1: 1, 2: 1, 3: 1})\n",
      "2\n"
     ]
    }
   ],
   "source": [
    "print Solution().subarraySum([1,1,1],2)"
   ]
  },
  {
   "cell_type": "code",
   "execution_count": 108,
   "metadata": {
    "collapsed": false
   },
   "outputs": [
    {
     "name": "stdout",
     "output_type": "stream",
     "text": [
      "Counter({0: 1})\n",
      "su: 2\n",
      "0\n",
      "1\n",
      "Counter({0: 1, 2: 1})\n",
      "1\n"
     ]
    }
   ],
   "source": [
    "print Solution().subarraySum([2],2)"
   ]
  },
  {
   "cell_type": "markdown",
   "metadata": {},
   "source": [
    "## Notes"
   ]
  },
  {
   "cell_type": "markdown",
   "metadata": {},
   "source": [
    "Let's remember count[V], the number of previous prefix sums with value V. If our newest prefix sum has value W, and W-V == K, then we add count[V] to our answer.\n",
    "\n",
    "This is because at time t, A[0] + A[1] + ... + A[t-1] = W, and there are count[V] indices j with j < t-1 and A[0] + A[1] + ... + A[j] = V. Thus, there are count[V] subarrays A[j+1] + A[j+2] + ... + A[t-1] = K."
   ]
  },
  {
   "cell_type": "markdown",
   "metadata": {},
   "source": [
    "# 561. Array Partition I"
   ]
  },
  {
   "cell_type": "code",
   "execution_count": null,
   "metadata": {
    "collapsed": true
   },
   "outputs": [],
   "source": [
    "Given an array of 2n integers, your task is to group these integers into n pairs of integer, \n",
    "say (a1, b1), (a2, b2), ..., (an, bn) which makes sum of min(ai, bi) for all i from 1 to n as large as possible.\n",
    "\n",
    "Example 1:\n",
    "Input: [1,4,3,2]\n",
    "\n",
    "Output: 4\n",
    "Explanation: n is 2, and the maximum sum of pairs is 4 = min(1, 2) + min(3, 4).\n",
    "Note:\n",
    "n is a positive integer, which is in the range of [1, 10000].\n",
    "All the integers in the array will be in the range of [-10000, 10000]."
   ]
  },
  {
   "cell_type": "code",
   "execution_count": null,
   "metadata": {
    "collapsed": true
   },
   "outputs": [],
   "source": [
    "# Time:  O(nlogn)\n",
    "# Space: O(1)\n",
    "# Array Partition I\n",
    "# Edge case: \n",
    "\n",
    "class Solution(object):\n",
    "    def arrayPairSum(self, nums):\n",
    "        \"\"\"\n",
    "        :type nums: List[int]\n",
    "        :rtype: int\n",
    "        \"\"\"\n",
    "        return sum(sorted(nums)[::2])"
   ]
  },
  {
   "cell_type": "markdown",
   "metadata": {},
   "source": [
    "---\n",
    "# 562. Longest Line of Consecutive One in Matrix"
   ]
  },
  {
   "cell_type": "code",
   "execution_count": null,
   "metadata": {
    "collapsed": true
   },
   "outputs": [],
   "source": [
    "Given a 01 matrix M, find the longest line of consecutive one in the matrix. \n",
    "The line could be horizontal, vertical, diagonal or anti-diagonal.\n",
    "\n",
    "Example:\n",
    "\n",
    "Input:\n",
    "[[0,1,1,0],\n",
    " [0,1,1,0],\n",
    " [0,0,0,1]]\n",
    "Output: 3\n",
    "Hint: The number of elements in the given matrix will not exceed 10,000."
   ]
  },
  {
   "cell_type": "code",
   "execution_count": 102,
   "metadata": {
    "collapsed": true
   },
   "outputs": [],
   "source": [
    "# Time:\n",
    "# Space:\n",
    "# Longest Line of Consecutive One in Matrix\n",
    "# Edge case \n",
    "'''\n",
    "DP → \n",
    "存在子问题，去思考要不要用DP \n",
    "\n",
    "local golbal 本身就是DP的思想。\n",
    "'''\n",
    "\n",
    "\n",
    "class Solution(object):\n",
    "    def longestLine(self, M):\n",
    "        \"\"\"\n",
    "        :type M: List[List[int]]\n",
    "        :rtype: int\n",
    "        \"\"\"\n",
    "        h, w = len(M), len(M) and len(M[0]) or 0\n",
    "        ans = 0\n",
    "\n",
    "        #horizontal & diagonal\n",
    "        diag = [[0] * w for r in range(h)]\n",
    "        for x in range(h):\n",
    "            cnt = 0\n",
    "            for y in range(w):\n",
    "                cnt = M[x][y] * (cnt + 1)\n",
    "                diag[x][y] = M[x][y]\n",
    "                if x > 0 and y > 0 and M[x][y] and diag[x - 1][y - 1]:\n",
    "                    diag[x][y] += diag[x - 1][y - 1]\n",
    "                ans = max(ans, cnt, diag[x][y])\n",
    "\n",
    "        #vertical & anti-diagonal\n",
    "        adiag = [[0] * w for r in range(h)]\n",
    "        for x in range(w):\n",
    "            cnt = 0\n",
    "            for y in range(h):\n",
    "                cnt = M[y][x] * (cnt + 1)\n",
    "                adiag[y][x] = M[y][x]\n",
    "                if y < h - 1 and x > 0 and M[y][x] and adiag[y + 1][x - 1]:\n",
    "                    adiag[y][x] += adiag[y + 1][x - 1]\n",
    "                ans = max(ans, cnt, adiag[y][x])\n",
    "\n",
    "        return ans"
   ]
  },
  {
   "cell_type": "code",
   "execution_count": 103,
   "metadata": {
    "collapsed": false
   },
   "outputs": [
    {
     "name": "stdout",
     "output_type": "stream",
     "text": [
      "3\n"
     ]
    }
   ],
   "source": [
    "M = [[0,1,1,0],\n",
    " [0,1,1,0],\n",
    " [0,0,0,1]]\n",
    "print Solution().longestLine(M)"
   ]
  },
  {
   "cell_type": "markdown",
   "metadata": {},
   "source": [
    "## Notes:"
   ]
  },
  {
   "cell_type": "code",
   "execution_count": null,
   "metadata": {
    "collapsed": true
   },
   "outputs": [],
   "source": [
    "h[x][y] = M[x][y] * (h[x - 1][y]  + 1)\n",
    "\n",
    "v[x][y] = M[x][y] * (v[x][y - 1]  + 1)\n",
    "\n",
    "d[x][y] = M[x][y] * (d[x - 1][y - 1]  + 1)\n",
    "\n",
    "a[x][y] = M[x][y] * (a[x + 1][y - 1]  + 1)"
   ]
  },
  {
   "cell_type": "markdown",
   "metadata": {},
   "source": [
    "---\n",
    "# 565. Array Nesting"
   ]
  },
  {
   "cell_type": "code",
   "execution_count": null,
   "metadata": {
    "collapsed": true
   },
   "outputs": [],
   "source": [
    "A zero-indexed array A consisting of N different integers is given. \n",
    "The array contains all integers in the range [0, N - 1].\n",
    "\n",
    "Sets S[K] for 0 <= K < N are defined as follows:\n",
    "\n",
    "S[K] = { A[K], A[A[K]], A[A[A[K]]], ... }.\n",
    "\n",
    "Sets S[K] are finite for each K and should NOT contain duplicates.\n",
    "\n",
    "Write a function that given an array A consisting of N integers, return the size of the largest set S[K] for this array.\n",
    "\n",
    "Example 1:\n",
    "Input: A = [5,4,0,3,1,6,2]\n",
    "Output: 4\n",
    "Explanation: \n",
    "A[0] = 5, A[1] = 4, A[2] = 0, A[3] = 3, A[4] = 1, A[5] = 6, A[6] = 2.\n",
    "\n",
    "One of the longest S[K]:\n",
    "S[0] = {A[0], A[5], A[6], A[2]} = {5, 6, 2, 0}\n",
    "Note:\n",
    "N is an integer within the range [1, 20,000].\n",
    "The elements of A are all distinct.\n",
    "Each element of array A is an integer within the range [0, N-1]."
   ]
  },
  {
   "cell_type": "code",
   "execution_count": 104,
   "metadata": {
    "collapsed": true
   },
   "outputs": [],
   "source": [
    "# Time: O(n^2)\n",
    "# Space: O(n)\n",
    "# Array Nesting\n",
    "# Edge Case:\n",
    "\n",
    "class Solution(object):\n",
    "    def arrayNesting(self, nums):\n",
    "        \"\"\"\n",
    "        :type nums: List[int]\n",
    "        :rtype: int\n",
    "        \"\"\"\n",
    "        ans, step, n = 0, 0, len(nums)\n",
    "        seen = [False] * n\n",
    "        for i in range(n):\n",
    "            while not seen[i]:\n",
    "                seen[i] = True\n",
    "                i, step = nums[i], step + 1\n",
    "            ans = max(ans, step)\n",
    "            step = 0\n",
    "        return ans "
   ]
  },
  {
   "cell_type": "code",
   "execution_count": 105,
   "metadata": {
    "collapsed": false
   },
   "outputs": [
    {
     "name": "stdout",
     "output_type": "stream",
     "text": [
      "4\n"
     ]
    }
   ],
   "source": [
    "print Solution().arrayNesting([5,4,0,3,1,6,2])"
   ]
  },
  {
   "cell_type": "markdown",
   "metadata": {},
   "source": [
    "---\n",
    "# 566. Reshape the Matrix"
   ]
  },
  {
   "cell_type": "code",
   "execution_count": null,
   "metadata": {
    "collapsed": true
   },
   "outputs": [],
   "source": [
    "In MATLAB, there is a very useful function called 'reshape', \n",
    "which can reshape a matrix into a new one with different size but keep its original data.\n",
    "\n",
    "You're given a matrix represented by a two-dimensional array, \n",
    "and two positive integers r and c representing the row number \n",
    "and column number of the wanted reshaped matrix, respectively.\n",
    "\n",
    "The reshaped matrix need to be filled with all the elements of the original matrix \n",
    "in the same row-traversing order as they were.\n",
    "\n",
    "If the 'reshape' operation with given parameters is possible and legal, \n",
    "output the new reshaped matrix; Otherwise, output the original matrix.\n",
    "\n",
    "Example 1:\n",
    "Input: \n",
    "nums = \n",
    "[[1,2],\n",
    " [3,4]]\n",
    "r = 1, c = 4\n",
    "Output: \n",
    "[[1,2,3,4]]\n",
    "Explanation:\n",
    "The row-traversing of nums is [1,2,3,4]. The new reshaped matrix is a 1 * 4 matrix, \n",
    "fill it row by row by using the previous list.\n",
    "\n",
    "Example 2:\n",
    "Input: \n",
    "nums = \n",
    "[[1,2],\n",
    " [3,4]]\n",
    "r = 2, c = 4\n",
    "Output: \n",
    "[[1,2],\n",
    " [3,4]]\n",
    "Explanation:\n",
    "There is no way to reshape a 2 * 2 matrix to a 2 * 4 matrix. So output the original matrix.\n",
    "Note:\n",
    "The height and width of the given matrix is in range [1, 100].\n",
    "The given r and c are all positive."
   ]
  },
  {
   "cell_type": "code",
   "execution_count": null,
   "metadata": {
    "collapsed": true
   },
   "outputs": [],
   "source": [
    "# Time:\n",
    "# Space:\n",
    "# Reshape the Matrix\n",
    "# Edge case \n",
    "'''\n",
    "1. queue \n",
    "2. x++ , y++ \n",
    "3. loop  using 余数\n",
    "\n",
    "'''\n",
    "\n",
    "class Solution(object):\n",
    "    def matrixReshape(self, nums, r, c):\n",
    "        \"\"\"\n",
    "        :type nums: List[List[int]]\n",
    "        :type r: int\n",
    "        :type c: int\n",
    "        :rtype: List[List[int]]\n",
    "        \"\"\"\n",
    "        flat = sum(nums, [])\n",
    "        if len(flat) != r * c:\n",
    "            return nums\n",
    "        tuples = zip(*([iter(flat)] * c))\n",
    "        return map(list, tuples)\n",
    "    \n",
    "# https://leetcode.com/articles/reshape-the-matrix/"
   ]
  },
  {
   "cell_type": "code",
   "execution_count": null,
   "metadata": {
    "collapsed": true
   },
   "outputs": [],
   "source": []
  },
  {
   "cell_type": "markdown",
   "metadata": {},
   "source": [
    "---\n",
    "# 581. [Shortest Unsorted Continuous Subarray](https://leetcode.com/problems/shortest-unsorted-continuous-subarray/#/description)"
   ]
  },
  {
   "cell_type": "code",
   "execution_count": null,
   "metadata": {
    "collapsed": true
   },
   "outputs": [],
   "source": [
    "Given an integer array, you need to find one continuous subarray that \n",
    "if you only sort this subarray in ascending order, then the whole array will be sorted in ascending order, too.\n",
    "\n",
    "You need to find the shortest such subarray and output its length.\n",
    "\n",
    "Example 1:\n",
    "Input: [2, 6, 4, 8, 10, 9, 15]\n",
    "Output: 5\n",
    "Explanation: You need to sort [6, 4, 8, 10, 9] in ascending order to make the whole array sorted in ascending order.\n",
    "Note:\n",
    "Then length of the input array is in range [1, 10,000].\n",
    "The input array may contain duplicates, so ascending order here means <=."
   ]
  },
  {
   "cell_type": "code",
   "execution_count": null,
   "metadata": {
    "collapsed": true
   },
   "outputs": [],
   "source": [
    "# Time:\n",
    "# Space:\n",
    "# Shortest Unsorted Continuous Subarray\n",
    "'''\n",
    "1. selection sort O(n^2)\n",
    "2. \n",
    "'''\n",
    "\n",
    "\n",
    "class Solution(object):\n",
    "    def findUnsortedSubarray(self, nums):\n",
    "        \"\"\"\n",
    "        :type nums: List[int]\n",
    "        :rtype: int\n",
    "        \"\"\"\n",
    "        is_same = [a == b for a, b in zip(nums, sorted(nums))]\n",
    "        return 0 if all(is_same) else len(nums) - is_same.index(False) - is_same[::-1].index(False)"
   ]
  }
 ],
 "metadata": {
  "kernelspec": {
   "display_name": "Python 2",
   "language": "python",
   "name": "python2"
  },
  "language_info": {
   "codemirror_mode": {
    "name": "ipython",
    "version": 2
   },
   "file_extension": ".py",
   "mimetype": "text/x-python",
   "name": "python",
   "nbconvert_exporter": "python",
   "pygments_lexer": "ipython2",
   "version": "2.7.13"
  }
 },
 "nbformat": 4,
 "nbformat_minor": 0
}
