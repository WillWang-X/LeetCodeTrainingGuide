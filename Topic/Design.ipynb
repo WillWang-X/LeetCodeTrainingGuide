{
 "cells": [
  {
   "cell_type": "markdown",
   "metadata": {},
   "source": [
    "# Design"
   ]
  },
  {
   "cell_type": "markdown",
   "metadata": {},
   "source": [
    "|  #  | Title           |  Solution       |  Time           | Space           | Difficulty    | Tag          | Note| \n",
    "|-----|---------------- | --------------- | --------------- | --------------- | ------------- |--------------|-----|\n",
    "|284| [Peeking Iterator](https://leetcode.com/problems/peeking-iterator/)| [C++](./C++/peeking-iterator.cpp) [Python](./Python/peeking-iterator.py) | _O(1)_ | _O(1)_ | Medium ||\n",
    "|348| [Design Tic-Tac-Toe](https://leetcode.com/problems/design-tic-tac-toe/) | [C++](./C++/design-tic-tac-toe.cpp) [Python](./Python/design-tic-tac-toe.py) | _O(1)_| _O(n^2)_| Medium |📖||\n",
    "|353| [Design Snake Game](https://leetcode.com/problems/design-snake-game/) | [C++](./C++/design-snake-game.cpp) [Python](./Python/design-snake-game.py) | _O(1)_| _O(s)_| Medium |📖| Deque |\n",
    "|355| [Design Twitter](https://leetcode.com/problems/design-twitter/) | [C++](./C++/design-twitter.cpp) [Python](./Python/design-twitter.py) | _O(klogu)_| _O(t + f)_| Medium | LintCode | Heap |\n",
    "|359| [Logger Rate Limiter](https://leetcode.com/problems/logger-rate-limiter/) | [C++](./C++/logger-rate-limiter.cpp) [Python](./Python/logger-rate-limiter.py) | _O(1), amortized_ | _O(k)_| Easy |📖| Deque |\n",
    "|362| [Design Hit Counter](https://leetcode.com/problems/design-hit-counter/) | [C++](./C++/design-hit-counter.cpp) [Python](./Python/design-hit-counter.py) | _O(1), amortized_ | _O(k)_| Medium |📖| Deque |\n",
    "|379| [Design Phone Directory](https://leetcode.com/problems/design-phone-directory/) | [C++](./C++/design-phone-directory.cpp) [Python](./Python/design-phone-directory.py) | _O(1)_ | _O(n)_| Medium |📖| |\n",
    "|380| [Insert Delete GetRandom O(1)](https://leetcode.com/problems/insert-delete-getrandom-o1/) | [C++](./C++/insert-delete-getrandom-o1.cpp) [Python](./Python/insert-delete-getrandom-o1.py) | _O(1)_ | _O(n)_| Hard || |\n",
    "|381| [Insert Delete GetRandom O(1) - Duplicates allowed](https://leetcode.com/problems/insert-delete-getrandom-o1-duplicates-allowed/) | [C++](./C++/insert-delete-getrandom-o1-duplicates-allowed.cpp) [Python](./Python/insert-delete-getrandom-o1-duplicates-allowed.py) | _O(1)_ | _O(n)_| Hard || |\n",
    "|432| [All O\\`one Data Structure](https://leetcode.com/problems/all-oone-data-structure/) | [C++](./C++/all-oone-data-structure.cpp) [Python](./Python/all-oone-data-structure.py) | _O(1)_ | _O(n)_| Hard || |\n",
    "|460| [LFU Cache](https://leetcode.com/problems/lfu-cache/) | [C++](./C++/lfu-cache.cpp) [Python](./Python/lfu-cache.py) | _O(1)_ | _O(k)_| Hard || |"
   ]
  },
  {
   "cell_type": "markdown",
   "metadata": {},
   "source": [
    "# 1. |284| [Peeking Iterator](https://leetcode.com/problems/peeking-iterator/)"
   ]
  },
  {
   "cell_type": "code",
   "execution_count": null,
   "metadata": {
    "collapsed": true
   },
   "outputs": [],
   "source": [
    "Given an Iterator class interface with methods: next() and hasNext(), design and implement a PeekingIterator \n",
    "\n",
    "that support the peek() operation \n",
    "\n",
    "-- it essentially peek() at the element that will be returned by the next call to next().\n",
    "\n",
    "\n",
    "Here is an example. Assume that the iterator is initialized to the beginning of the list: [1, 2, 3].\n",
    "\n",
    "Call next() gets you 1, the first element in the list.\n",
    "\n",
    "Now you call peek() and it returns 2, the next element. Calling next() after that still return 2.\n",
    "\n",
    "You call next() the final time and it returns 3, the last element. Calling hasNext() after that should return false.\n",
    "\n",
    "Follow up: How would you extend your design to be generic and work with all types, not just integer?"
   ]
  },
  {
   "cell_type": "markdown",
   "metadata": {},
   "source": [
    "![generator](http://nvie.com/img/iterable-vs-iterator.png)"
   ]
  },
  {
   "cell_type": "markdown",
   "metadata": {},
   "source": [
    "# Solution"
   ]
  },
  {
   "cell_type": "code",
   "execution_count": null,
   "metadata": {
    "collapsed": true
   },
   "outputs": [],
   "source": [
    "# Time: O(1) per peek() next() hasNext()\n",
    "# Space:O(1)\n",
    "\n",
    "\n",
    "# Below is the interface for Iterator, which is already defined for you.\n",
    "#\n",
    "# class Iterator(object):\n",
    "#     def __init__(self, nums):\n",
    "#         \"\"\"\n",
    "#         Initializes an iterator object to the beginning of a list.\n",
    "#         :type nums: List[int]\n",
    "#         \"\"\"\n",
    "#\n",
    "#     def hasNext(self):\n",
    "#         \"\"\"\n",
    "#         Returns true if the iteration has more elements.\n",
    "#         :rtype: bool\n",
    "#         \"\"\"\n",
    "#\n",
    "#     def next(self):\n",
    "#         \"\"\"\n",
    "#         Returns the next element in the iteration.\n",
    "#         :rtype: int\n",
    "#         \"\"\"\n",
    "\n",
    "class PeekingIterator(object):\n",
    "    def __init__(self, iterator):\n",
    "        \"\"\"\n",
    "        Initialize your data structure here.\n",
    "        :type iterator: Iterator\n",
    "        \"\"\"\n",
    "        self.iterator = iterator\n",
    "        self.val_ = None  # why do we write _ ?\n",
    "        self.has_next_ = iterator.hasNext()\n",
    "        self.has_peeked_ = False  # ?\n",
    "        \n",
    "\n",
    "    def peek(self):\n",
    "        \"\"\"\n",
    "        Returns the next element in the iteration without advancing the iterator.\n",
    "        :rtype: int\n",
    "        \"\"\"\n",
    "        if not self.has_peeked_:\n",
    "            self.has_peeked_ = True\n",
    "            self.val_ = self.iterator.next()\n",
    "        return self.val_\n",
    "        \n",
    "\n",
    "    def next(self):\n",
    "        \"\"\"\n",
    "        :rtype: int\n",
    "        \"\"\"\n",
    "        self.val_ = self.peek()\n",
    "        self.has_peeked_ = False \n",
    "        self.has_next_ = self.iterator.hasNext()\n",
    "        return self.val_ \n",
    "\n",
    "    def hasNext(self):\n",
    "        \"\"\"\n",
    "        :rtype: bool\n",
    "        \"\"\"\n",
    "        return self.has_next_\n",
    "        \n",
    "\n",
    "# Your PeekingIterator object will be instantiated and called as such:\n",
    "# iter = PeekingIterator(Iterator(nums))\n",
    "# while iter.hasNext():\n",
    "#     val = iter.peek()   # Get the next element but not advance the iterator.\n",
    "#     iter.next()         # Should return the same value as [val]."
   ]
  },
  {
   "cell_type": "code",
   "execution_count": null,
   "metadata": {
    "collapsed": true
   },
   "outputs": [],
   "source": [
    "# 1st answer in leetcode\n",
    "\n",
    "# Below is the interface for Iterator, which is already defined for you.\n",
    "#\n",
    "# class Iterator(object):\n",
    "#     def __init__(self, nums):\n",
    "#         \"\"\"\n",
    "#         Initializes an iterator object to the beginning of a list.\n",
    "#         :type nums: List[int]\n",
    "#         \"\"\"\n",
    "#\n",
    "#     def hasNext(self):\n",
    "#         \"\"\"\n",
    "#         Returns true if the iteration has more elements.\n",
    "#         :rtype: bool\n",
    "#         \"\"\"\n",
    "#\n",
    "#     def next(self):\n",
    "#         \"\"\"\n",
    "#         Returns the next element in the iteration.\n",
    "#         :rtype: int\n",
    "#         \"\"\"\n",
    "\n",
    "class PeekingIterator(object):\n",
    "    def __init__(self, iterator):\n",
    "        \"\"\"\n",
    "        Initialize your data structure here.\n",
    "        :type iterator: Iterator\n",
    "        \"\"\"\n",
    "        self.it = iterator\n",
    "        self.hold = None\n",
    "        \n",
    "\n",
    "    def peek(self):\n",
    "        \"\"\"\n",
    "        Returns the next element in the iteration without advancing the iterator.\n",
    "        :rtype: int\n",
    "        \"\"\"\n",
    "        if self.hold:\n",
    "            return self.hold\n",
    "        self.hold = self.it.next()\n",
    "        return self.hold\n",
    "        \n",
    "\n",
    "    def next(self):\n",
    "        \"\"\"\n",
    "        :rtype: int\n",
    "        \"\"\"\n",
    "        if self.hold:\n",
    "            val = self.hold\n",
    "            self.hold = None\n",
    "            return val\n",
    "        return self.it.next()\n",
    "        \n",
    "\n",
    "    def hasNext(self):\n",
    "        \"\"\"\n",
    "        :rtype: bool\n",
    "        \"\"\"\n",
    "        return (not (not self.hold)) or self.it.hasNext()\n",
    "        \n",
    "\n",
    "# Your PeekingIterator object will be instantiated and called as such:\n",
    "# iter = PeekingIterator(Iterator(nums))\n",
    "# while iter.hasNext():\n",
    "#     val = iter.peek()   # Get the next element but not advance the iterator.\n",
    "#     iter.next()         # Should return the same value as [val]."
   ]
  },
  {
   "cell_type": "markdown",
   "metadata": {},
   "source": [
    "# 2. |348| [Design Tic-Tac-Toe](https://leetcode.com/problems/design-tic-tac-toe/)"
   ]
  },
  {
   "cell_type": "code",
   "execution_count": null,
   "metadata": {
    "collapsed": true
   },
   "outputs": [],
   "source": [
    "Design a Tic-tac-toe game that is played between two players on a n x n grid.\n",
    "\n",
    "You may assume the following rules:\n",
    "\n",
    "A move is guaranteed to be valid and is placed on an empty block.\n",
    "Once a winning condition is reached, no more moves is allowed.\n",
    "A player who succeeds in placing n of their marks in a horizontal, vertical, or diagonal row wins the game.\n",
    "Example:\n",
    "Given n = 3, assume that player 1 is \"X\" and player 2 is \"O\" in the board.\n",
    "\n",
    "TicTacToe toe = new TicTacToe(3);\n",
    "\n",
    "toe.move(0, 0, 1); -> Returns 0 (no one wins)\n",
    "|X| | |\n",
    "| | | | // Player 1 makes a move at (0, 0).\n",
    "| | | |\n",
    "\n",
    "toe.move(0, 2, 2); -> Returns 0 (no one wins)\n",
    "|X| |O|\n",
    "| | | | // Player 2 makes a move at (0, 2).\n",
    "| | | |\n",
    "\n",
    "toe.move(2, 2, 1); -> Returns 0 (no one wins)\n",
    "|X| |O|\n",
    "| | | | // Player 1 makes a move at (2, 2).\n",
    "| | |X|\n",
    "\n",
    "toe.move(1, 1, 2); -> Returns 0 (no one wins)\n",
    "|X| |O|\n",
    "| |O| | // Player 2 makes a move at (1, 1).\n",
    "| | |X|\n",
    "\n",
    "toe.move(2, 0, 1); -> Returns 0 (no one wins)\n",
    "|X| |O|\n",
    "| |O| | // Player 1 makes a move at (2, 0).\n",
    "|X| |X|\n",
    "\n",
    "toe.move(1, 0, 2); -> Returns 0 (no one wins)\n",
    "|X| |O|\n",
    "|O|O| | // Player 2 makes a move at (1, 0).\n",
    "|X| |X|\n",
    "\n",
    "toe.move(2, 1, 1); -> Returns 1 (player 1 wins)\n",
    "|X| |O|\n",
    "|O|O| | // Player 1 makes a move at (2, 1).\n",
    "|X|X|X|\n",
    "Follow up:\n",
    "Could you do better than O(n2) per move() operation?\n",
    "\n",
    "Hint:\n",
    "\n",
    "Could you trade extra space such that move() operation can be done in O(1)?\n",
    "You need two arrays: int rows[n], int cols[n], plus two variables: diagonal, anti_diagonal."
   ]
  },
  {
   "cell_type": "markdown",
   "metadata": {},
   "source": [
    "## Solution"
   ]
  },
  {
   "cell_type": "code",
   "execution_count": null,
   "metadata": {
    "collapsed": true
   },
   "outputs": [],
   "source": [
    "\n",
    "\n",
    "\n",
    "public class TicTacToe {\n",
    "    int n;\n",
    "    int[] rows;\n",
    "    int[] cols;\n",
    "    int diagonal;\n",
    "    int anti_diagonal;\n",
    "    int wins;\n",
    "    /** Initialize your data structure here. */\n",
    "    public TicTacToe(int n) {\n",
    "        this.n = n;\n",
    "        rows = new int[n];\n",
    "        cols = new int[n];\n",
    "        diagonal = 0;\n",
    "        anti_diagonal = 0;\n",
    "        wins = 0;\n",
    "    }\n",
    "    \n",
    "    /** Player {player} makes a move at ({row}, {col}).\n",
    "        @param row The row of the board.\n",
    "        @param col The column of the board.\n",
    "        @param player The player, can be either 1 or 2.\n",
    "        @return The current winning condition, can be either:\n",
    "                0: No one wins.\n",
    "                1: Player 1 wins.\n",
    "                2: Player 2 wins. */\n",
    "    public int move(int row, int col, int player) {\n",
    "        if (player == 1) {\n",
    "            rows[row]++;\n",
    "            cols[col]++;\n",
    "            if (row == col)\n",
    "                diagonal++;\n",
    "            if (row + col == n - 1)\n",
    "                anti_diagonal++;\n",
    "        }\n",
    "        else if (player == 2) {\n",
    "            rows[row]--;\n",
    "            cols[col]--;\n",
    "            if (row == col)\n",
    "                diagonal--;\n",
    "            if (row + col == n - 1)\n",
    "                anti_diagonal--;\n",
    "        }\n",
    "        if (rows[row] == n || cols[col] == n || diagonal == n || anti_diagonal == n)\n",
    "            wins = 1;\n",
    "        else if (rows[row] == -n || cols[col] == -n || diagonal == -n || anti_diagonal == -n)\n",
    "            wins = 2;\n",
    "        return wins;\n",
    "    }\n",
    "}"
   ]
  },
  {
   "cell_type": "markdown",
   "metadata": {},
   "source": [
    "# 3. |353| [Design Snake Game](https://leetcode.com/problems/design-snake-game/)"
   ]
  },
  {
   "cell_type": "code",
   "execution_count": 5,
   "metadata": {
    "collapsed": false
   },
   "outputs": [],
   "source": [
    "a = [0] * 1000\n",
    "b = [1 for i in range(1000)]\n",
    "c = [2 for i in xrange(1000)]"
   ]
  },
  {
   "cell_type": "markdown",
   "metadata": {},
   "source": [
    "# 4. |355| [Design Twitter](https://leetcode.com/problems/design-twitter/)"
   ]
  },
  {
   "cell_type": "markdown",
   "metadata": {},
   "source": [
    "# 5. |359| [Logger Rate Limiter](https://leetcode.com/problems/logger-rate-limiter/)"
   ]
  },
  {
   "cell_type": "markdown",
   "metadata": {},
   "source": [
    "# 6. |362| [Design Hit Counter](https://leetcode.com/problems/design-hit-counter/)"
   ]
  },
  {
   "cell_type": "markdown",
   "metadata": {},
   "source": [
    "# 7. |379| [Design Phone Directory](https://leetcode.com/problems/design-phone-directory/)"
   ]
  },
  {
   "cell_type": "markdown",
   "metadata": {},
   "source": [
    "# 8. |380| [Insert Delete GetRandom O(1)](https://leetcode.com/problems/insert-delete-getrandom-o1/)"
   ]
  },
  {
   "cell_type": "markdown",
   "metadata": {},
   "source": [
    "# 9. |381| [Insert Delete GetRandom O(1) - Duplicates allowed](https://leetcode.com/problems/insert-delete-getrandom-o1-duplicates-allowed/)"
   ]
  },
  {
   "cell_type": "markdown",
   "metadata": {},
   "source": [
    "# 10. |432| [All O\\`one Data Structure](https://leetcode.com/problems/all-oone-data-structure/)"
   ]
  },
  {
   "cell_type": "markdown",
   "metadata": {},
   "source": [
    "# 11. |460| [LFU Cache](https://leetcode.com/problems/lfu-cache/)"
   ]
  }
 ],
 "metadata": {
  "kernelspec": {
   "display_name": "Python 2",
   "language": "python",
   "name": "python2"
  },
  "language_info": {
   "codemirror_mode": {
    "name": "ipython",
    "version": 2
   },
   "file_extension": ".py",
   "mimetype": "text/x-python",
   "name": "python",
   "nbconvert_exporter": "python",
   "pygments_lexer": "ipython2",
   "version": "2.7.13"
  }
 },
 "nbformat": 4,
 "nbformat_minor": 0
}
