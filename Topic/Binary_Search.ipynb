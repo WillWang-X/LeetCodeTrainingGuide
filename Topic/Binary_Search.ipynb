{
 "cells": [
  {
   "cell_type": "markdown",
   "metadata": {
    "collapsed": true
   },
   "source": [
    "# Binary Search"
   ]
  },
  {
   "cell_type": "markdown",
   "metadata": {},
   "source": [
    "![binary search](https://blog.penjee.com/wp-content/uploads/2015/04/binary-and-linear-search-animations.gif)"
   ]
  },
  {
   "cell_type": "markdown",
   "metadata": {},
   "source": [
    "|  #  | Title           |  Solution       |  Time           | Space           | Difficulty    | Tag          | Note| \n",
    "|-----|---------------- | --------------- | --------------- | --------------- | ------------- |--------------|-----|\n",
    "|4| [Median of Two Sorted Arrays](https://leetcode.com/problems/median-of-two-sorted-arrays/) | [C++](./C++/median-of-two-sorted-arrays.cpp)  [Python](./Python/median-of-two-sorted-arrays.py) | _O(log(min(m, n)))_ | _O(1)_ | Hard         ||\n",
    "|33| [Search in Rotated Sorted Array](https://leetcode.com/problems/search-in-rotated-sorted-array/) | [C++](./C++/search-in-rotated-sorted-array.cpp) [Python](./Python/search-in-rotated-sorted-array.py) | _O(logn)_ | _O(1)_   | Hard         ||\n",
    "|34| [Search for a Range](https://leetcode.com/problems/search-for-a-range/) | [C++](./C++/search-for-a-range.cpp) [Python](./Python/search-for-a-range.py) | _O(logn)_ | _O(1)_   | Medium         ||\n",
    "|35| [Search Insert Position](https://leetcode.com/problems/search-insert-position/) | [C++](./C++/search-insert-position.cpp) [Python](./Python/search-insert-position.py) | _O(logn)_ | _O(1)_   | Medium         ||\n",
    "|69| [Sqrt(x)](https://leetcode.com/problems/sqrtx/)       | [C++](./C++/sqrtx.cpp) [Python](./Python/sqrtx.py)      | _O(logn)_        | _O(1)_         | Medium         ||\n",
    "|74| [Search a 2D Matrix](https://leetcode.com/problems/search-a-2d-matrix/) | [C++](./C++/search-a-2d-matrix.cpp) [Python](./Python/search-a-2d-matrix.py) | _O(logm + logn)_ | _O(1)_ | Medium   ||\n",
    "|81| [Search in Rotated Sorted Array II](https://leetcode.com/problems/search-in-rotated-sorted-array-ii/) | [C++](./C++/search-in-rotated-sorted-array-ii.cpp) [Python](./Python/search-in-rotated-sorted-array-ii.py) | _O(logn)_ | _O(1)_   | Medium         ||\n",
    "|153| [Find Minimum in Rotated Sorted Array](https://leetcode.com/problems/find-minimum-in-rotated-sorted-array/)         | [C++](./C++/find-minimum-in-rotated-sorted-array.cpp) [Python](./Python/find-minimum-in-rotated-sorted-array.py)       | _O(logn)_        | _O(1)_          | Medium         ||\n",
    "|154| [Find Minimum in Rotated Sorted Array II](https://leetcode.com/problems/find-minimum-in-rotated-sorted-array-ii/)      | [C++](./C++/find-minimum-in-rotated-sorted-array-ii.cpp) [Python](./Python/find-minimum-in-rotated-sorted-array-ii.py)       | _O(logn)_ ~ _O(n)_        | _O(1)_          | Hard         ||\n",
    "|162| [Find Peak Element](https://leetcode.com/problems/find-peak-element/) | [C++](./C++/find-peak-element.cpp) [Python](./Python/find-peak-element.py)        | _O(logn)_       | _O(1)_          | Medium         ||\n",
    "|222| [Count Complete Tree Nodes](https://leetcode.com/problems/count-complete-tree-nodes/) | [C++](./C++/count-complete-tree-nodes.cpp) [Python](./Python/count-complete-tree-nodes.py) | _O((logn)^2)_       | _O(1)_          | Medium         ||\n",
    "|275| [H-Index II](https://leetcode.com/problems/h-index-ii/) | [C++](./C++/h-index-ii.cpp)  [Python](./Python/h-index-ii.py)  | _O(logn)_ | _O(1)_ | Medium         || Binary Search |\n",
    "|278| [First Bad Version](https://leetcode.com/problems/first-bad-version/) | [C++](./C++/first-bad-version.cpp)  [Python](./Python/first-bad-version.py)  | _O(logn)_ | _O(1)_ | Easy         | LintCode ||\n",
    "|300| [Longest Increasing Subsequence](https://leetcode.com/problems/longest-increasing-subsequence/) | [C++](./C++/longest-increasing-subsequence.cpp)  [Python](./Python/longest-increasing-subsequence.py)  | _O(nlogn)_ | _O(n)_ | Medium         | CTCI, LintCode | Binary Search, DP|\n",
    "|302| [Smallest Rectangle Enclosing Black Pixels](https://leetcode.com/problems/smallest-rectangle-enclosing-black-pixels/)| [C++](./C++/smallest-rectangle-enclosing-black-pixels.cpp) [Python](./Python/smallest-rectangle-enclosing-black-pixels.py)   | _O(nlogn)_          | _O(1)_          | Hard         | 📖 |\n",
    "|354| [Russian Doll Envelopes](https://leetcode.com/problems/russian-doll-envelopes/) | [C++](./C++/russian-doll-envelopes.cpp)  [Python](./Python/russian-doll-envelopes.py)  | _O(nlogn)_ | _O(1)_ | Hard         |||\n",
    "|363| [Max Sum of Rectangle No Larger Than K](https://leetcode.com/problems/max-sum-of-sub-matrix-no-larger-than-k/) | [C++](./C++/max-sum-of-sub-matrix-no-larger-than-k.cpp)  [Python](./Python/max-sum-of-sub-matrix-no-larger-than-k.py)  | _O(min(m, n)^2 * max(m, n) * logn(max(m, n)))_ | _O(max(m, n))_ | Hard         |||\n",
    "|367| [Valid Perfect Square](https://leetcode.com/problems/valid-perfect-square/)| [C++](./C++/valid-perfect-square.cpp) [Python](./Python/valid-perfect-square.py)   | _O(logn)_          | _O(1)_          | Medium         | |\n",
    "|374| [Guess Number Higher or Lower](https://leetcode.com/problems/guess-number-higher-or-lower/)| [C++](./C++/guess-number-higher-or-lower.cpp) [Python](./Python/guess-number-higher-or-lower.py)   | _O(logn)_          | _O(1)_          | Easy         | |\n",
    "|410| [Split Array Largest Sum](https://leetcode.com/problems/split-array-largest-sum/)| [C++](./C++/split-array-largest-sum.cpp) [Python](./Python/split-array-largest-sum.py)   | _O(nlogs)_          | _O(1)_          | Hard         | |\n",
    "|436 | [Find Right Interval](https://leetcode.com/problems/find-right-interval/) | [C++](./C++/find-right-interval.cpp) [Python](./Python/find-right-interval.py) | _O(nlogn)_ | _O(n)_ | Medium | |\n",
    "|475 | [Heaters](https://leetcode.com/problems/heaters/) | [C++](./C++/heaters.cpp) [Python](./Python/heaters.py) | _O((m + n) * logn)_ | _O(1)_ | Easy | |\n"
   ]
  },
  {
   "cell_type": "markdown",
   "metadata": {},
   "source": [
    "# 0. What - Why - How"
   ]
  },
  {
   "cell_type": "markdown",
   "metadata": {},
   "source": [
    "![binary Search](https://www.mkwd.net/wp-content/uploads/2016/05/binary_search.png)"
   ]
  },
  {
   "cell_type": "markdown",
   "metadata": {},
   "source": [
    "Binary search is a fast algorithm for searching in a sorted array of keys S. To search\n",
    "for key q, we compare q to the middle key S[n/2]. If q appears before S[n/2], it\n",
    "must reside in the top half of S; if not, it must reside in the bottom half of S. By\n",
    "repeating this process recursively on the correct half, we locate the key in a total\n",
    "of \u000elg n\u000f comparisons—a big win over the n/2 comparisons expect using sequential\n",
    "search:"
   ]
  },
  {
   "cell_type": "code",
   "execution_count": null,
   "metadata": {
    "collapsed": true
   },
   "outputs": [],
   "source": [
    "int binary_search(item_type s[], item_type key, int low, int high)\n",
    "{\n",
    "int middle; /* index of middle element */\n",
    "if (low > high) return (-1); /* key not found */\n",
    "    middle = (low+high)/2;\n",
    "if (s[middle] == key) return(middle);\n",
    "if (s[middle] > key)\n",
    "    return( binary_search(s,key,low,middle-1) );\n",
    "else\n",
    "    return(binary_search(s,key,middle+1,high) );\n",
    "}\n"
   ]
  },
  {
   "cell_type": "markdown",
   "metadata": {},
   "source": [
    "This much you probably know. What is important is to have a sense of just\n",
    "how fast binary search is. Twenty questions is a popular children’s game where\n",
    "one player selects a word and the other repeatedly asks true/false questions in an\n",
    "attempt to guess it. If the word remains unidentified after 20 questions, the first\n",
    "party wins; otherwise, the second player takes the honors. In fact, the second player\n",
    "always has a winning strategy, based on binary search. Given a printed dictionary,\n",
    "the player opens it in the middle, selects a word (say “move”), and asks whether the\n",
    "unknown word is before “move” in alphabetical order. Since standard dictionaries\n",
    "contain 50,000 to 200,000 words, we can be certain that the process will terminate\n",
    "within twenty questions."
   ]
  },
  {
   "cell_type": "markdown",
   "metadata": {},
   "source": [
    "## 3 ways to implemwnt binary search （需要再深入了解） "
   ]
  },
  {
   "cell_type": "markdown",
   "metadata": {},
   "source": [
    "主要包括两个方面：**控制区域** 和 **判断函数**。\n",
    "\n",
    "控制区域是为了选择合适的值，判断函数用来判断值是否符合要求。"
   ]
  },
  {
   "cell_type": "markdown",
   "metadata": {},
   "source": [
    "![控制区域 & 判断函数](http://mmbiz.qpic.cn/mmbiz_png/gJ3vdY7s0gHicWXqsjoM64cjU79pwFhlrKhGYq76ibDcU58zX7Zmhq8GE4myVTgmibJInyC7pUI82Rx8nEXXlbuQg/640?wx_fmt=png&tp=webp&wxfrom=5&wx_lazy=1)"
   ]
  },
  {
   "cell_type": "markdown",
   "metadata": {},
   "source": [
    "## 0.1 结束停留状态: (left, right)"
   ]
  },
  {
   "cell_type": "markdown",
   "metadata": {},
   "source": [
    "开区间\n",
    "\n",
    "取值范围: [left, right), right 无法得到\n",
    "·\n",
    "它有两种形式\n",
    "1. left + 1 < right\n",
    "2. left < right\n",
    "\n",
    "**形式一： left + 1 < right**\n",
    "1. left 和 right 都不需要加一或者减一\n",
    "2. 结束状态: left < right\n",
    "3. 无法确定目标值是 left 还是 right，最后还需要做一次判断\n",
    "\n",
    "** 形式二： left < right ** \n",
    "1. left 需要 加 1\n",
    "2. 结束状态: left > right , left 在 right 的右边\n",
    "3. left 的位置就是所求结果的位置"
   ]
  },
  {
   "cell_type": "markdown",
   "metadata": {},
   "source": [
    "## 0.2 结束停留状态: (left = right)"
   ]
  },
  {
   "cell_type": "markdown",
   "metadata": {},
   "source": [
    "## 0.3 结束停留状态: (right, left)"
   ]
  },
  {
   "cell_type": "markdown",
   "metadata": {},
   "source": [
    "闭区间\n",
    "\n",
    "1. 取值范围: [ left, right] \n",
    "2. 一定要保证每次循环结束后，left 加 1 或者 right 减 1 \n",
    "3. 结束状态: left > right , left 在右边，right 在左边\n",
    "4. 目标值: 确定是 left "
   ]
  },
  {
   "cell_type": "markdown",
   "metadata": {},
   "source": [
    "总结：\n",
    "\n",
    "熟练掌握区间控制的三种不同的套路是二分法的基础\n",
    "\n",
    "二分法要注意的三个问题\n",
    "1. mid值越界\n",
    "2. 无限循环( left or right 值不变) \n",
    "3. 最后的结果无法确定\n"
   ]
  },
  {
   "cell_type": "markdown",
   "metadata": {},
   "source": [
    "[二分法的三个区间控制套路](https://mp.weixin.qq.com/s?__biz=MzAwMDk1MTUyNw==&mid=2247484571&idx=1&sn=925f3156649f15e9d499368e43047c77&chksm=9ae05113ad97d80505b514aa44881c882a093308ebd3e45ab10cf4af09d801f3acabef06bde8&mpshare=1&scene=1&srcid=0328Rrv5oJ5B39WPz0ndI8d8&key=c969774f949c279bcf1bbad2886dfe9fe7a8b3e072eb351a2073f309c434320ef57f6f881a5dd3e7d47f2ce6ab2b81d22f81f371f726397134c389f69d79cc44ee07cb2630d64d643ffc13c38720e755&ascene=0&uin=Mjg1MDk0NDg2MA%3D%3D&devicetype=iMac+MacBookAir4%2C2+OSX+OSX+10.12.5+build(16F71b)&version=12020710&nettype=WIFI&fontScale=100&pass_ticket=EXxGL6dzbB1gxmqGsBMxS01iqdybbWCOi%2Fju%2F8qB%2FPGQtuxuhdw4%2FjFgfz8%2BR60r)\n"
   ]
  },
  {
   "cell_type": "markdown",
   "metadata": {},
   "source": [
    "# 1. |4| [Median of Two Sorted Arrays](https://leetcode.com/problems/median-of-two-sorted-arrays/)"
   ]
  },
  {
   "cell_type": "code",
   "execution_count": null,
   "metadata": {
    "collapsed": true
   },
   "outputs": [],
   "source": [
    "There are two sorted arrays nums1 and nums2 of size m and n respectively.\n",
    "\n",
    "Find the median of the two sorted arrays. The overall run time complexity should be O(log (m+n)).\n",
    "\n",
    "Example 1:\n",
    "nums1 = [1, 3]\n",
    "nums2 = [2]\n",
    "\n",
    "The median is 2.0\n",
    "Example 2:\n",
    "nums1 = [1, 2]\n",
    "nums2 = [3, 4]\n",
    "\n",
    "The median is (2 + 3)/2 = 2.5"
   ]
  },
  {
   "cell_type": "markdown",
   "metadata": {},
   "source": [
    "## Solution"
   ]
  },
  {
   "cell_type": "code",
   "execution_count": null,
   "metadata": {
    "collapsed": true
   },
   "outputs": [],
   "source": [
    "# Time:  O(log(min(m, n)))\n",
    "# Space: O(1)\n",
    "# Median of two sorted arrays\n",
    "\n",
    "class Solution(object):\n",
    "    def findMedianSortedArrays(self, nums1, nums2):\n",
    "        \"\"\"\n",
    "        :type nums1: List[int]\n",
    "        :type nums2: List[int]\n",
    "        :rtype: float\n",
    "        \"\"\"\n",
    "        len1, len2 = len(nums1), len(nums2)\n",
    "        if (len1 + len2) % 2 == 1: \n",
    "            return self.getKth(nums1, nums2, (len1 + len2)/2 + 1)\n",
    "        else:\n",
    "            return (self.getKth(nums1, nums2, (len1 + len2)/2) + \\\n",
    "                    self.getKth(nums1, nums2, (len1 + len2)/2 + 1)) * 0.5\n",
    "\n",
    "    def getKth(self, A, B, k):\n",
    "        m, n = len(A), len(B)\n",
    "        if m > n:\n",
    "            return self.getKth(B, A, k)\n",
    "\n",
    "        left, right = 0, m    \n",
    "        while left < right:\n",
    "            mid = left + (right - left) / 2\n",
    "            if 0 <= k - 1 - mid < n and A[mid] >= B[k - 1 - mid]:\n",
    "                right = mid\n",
    "            else:\n",
    "                left = mid + 1\n",
    "\n",
    "        Ai_minus_1 = A[left - 1] if left - 1 >= 0 else float(\"-inf\")\n",
    "        Bj = B[k - 1 - left] if k - 1 - left >= 0 else float(\"-inf\")\n",
    "\n",
    "        return max(Ai_minus_1, Bj)"
   ]
  },
  {
   "cell_type": "code",
   "execution_count": null,
   "metadata": {
    "collapsed": true
   },
   "outputs": [],
   "source": [
    "class Solution(object):\n",
    "    def findMedianSortedArrays(self, nums1, nums2):\n",
    "        \"\"\"\n",
    "        :type nums1: List[int]\n",
    "        :type nums2: List[int]\n",
    "        :rtype: float\n",
    "        \"\"\"\n",
    "        len1, len2 = len(nums1), len(nums2)\n",
    "        leng = len1 + len2\n",
    "        mid  = leng / 2\n",
    "        res = self.findKth(nums1, 0, len1-1, nums2, 0, len2-1, mid)\n",
    "        if leng % 2 == 0:\n",
    "            res = (res + self.findKth(nums1, 0, len1-1, nums2, 0, len2-1, mid - 1)) / 2.0\n",
    "        return res\n",
    "        \n",
    "    def findKth(self, nums1, start1, end1, nums2, start2, end2, k):\n",
    "        len1, len2 = end1 - start1 + 1, end2 - start2 + 1\n",
    "        if len1 == 0: return nums2[start2+k]\n",
    "        if len2 == 0: return nums1[start1+k]\n",
    "        \n",
    "        mid1, mid2 = start1 + len1/2, start2 + len2/2\n",
    "        dis1, dis2 = mid1 - start1 + 1, mid2 - start2 + 1\n",
    "\n",
    "        if k <= len1/2 + len2/2:\n",
    "            if nums1[mid1] >= nums2[mid2]:\n",
    "                return self.findKth(nums1, start1, mid1-1, nums2, start2, end2, k)\n",
    "            else: return self.findKth(nums1, start1, end1, nums2, start2, mid2-1, k)\n",
    "        else:\n",
    "            if nums1[mid1] >= nums2[mid2]:\n",
    "                return self.findKth(nums1, start1, end1, nums2, mid2+1, end2, k-dis2)\n",
    "            else: return self.findKth(nums1, mid1+1, end1, nums2, start2, end2, k-dis1)"
   ]
  },
  {
   "cell_type": "markdown",
   "metadata": {},
   "source": [
    "## Notes"
   ]
  },
  {
   "cell_type": "markdown",
   "metadata": {},
   "source": [
    "![median of Two sorted Arrray](http://2.bp.blogspot.com/-5CNbAG17R_g/VIEuEh6tGeI/AAAAAAAABPk/_GYBa21nn7U/s1600/arrays.png)"
   ]
  },
  {
   "cell_type": "code",
   "execution_count": null,
   "metadata": {
    "collapsed": true
   },
   "outputs": [],
   "source": [
    "1) Calculate the medians m1 and m2 of the input arrays ar1[] \n",
    "   and ar2[] respectively.\n",
    "2) If m1 and m2 both are equal then we are done.\n",
    "     return m1 (or m2)\n",
    "3) If m1 is greater than m2, then median is present in one \n",
    "   of the below two subarrays.\n",
    "    a)  From first element of ar1 to m1 (ar1[0...|_n/2_|])\n",
    "    b)  From m2 to last element of ar2  (ar2[|_n/2_|...n-1])\n",
    "4) If m2 is greater than m1, then median is present in one    \n",
    "   of the below two subarrays.\n",
    "   a)  From m1 to last element of ar1  (ar1[|_n/2_|...n-1])\n",
    "   b)  From first element of ar2 to m2 (ar2[0...|_n/2_|])\n",
    "5) Repeat the above process until size of both the subarrays \n",
    "   becomes 2.\n",
    "6) If size of the two arrays is 2 then use below formula to get \n",
    "  the median.\n",
    "    Median = (max(ar1[0], ar2[0]) + min(ar1[1], ar2[1]))/2"
   ]
  },
  {
   "cell_type": "code",
   "execution_count": null,
   "metadata": {
    "collapsed": true
   },
   "outputs": [],
   "source": [
    "Brute Force: merge sort -> m+n log(m+n)\n",
    "    \n",
    "A = [a1,a2,a3,a4,a5]\n",
    "B = [b1,b2,b3,b4,b5]\n",
    "    \n",
    "A[k/2-1] = B[k/2-1]\n",
    "median = A[k/2]\n",
    "\n",
    "A[k/2-1] > B[k/2-1]\n",
    "A = [2,4,6,8,10]\n",
    "B = [1,2,3,4,11]\n",
    "1,2,2, 3 ,4,4, 6 ,8,10,11\n",
    "2,3,4,4,6,11\n",
    "\n",
    "sorted = b1,b2, ... b3... a3 ... a4,a5\n",
    "[a3,a4,a5]\n",
    "[b3,b4,b5]\n",
    "\n",
    "A[k/2-1] < B[k/2-1]\n",
    "A = []"
   ]
  },
  {
   "cell_type": "code",
   "execution_count": null,
   "metadata": {
    "collapsed": true
   },
   "outputs": [],
   "source": [
    "[1,3,5,7,8,9,10]\n",
    "[5,7,9]\n",
    "\n",
    "[1,5,100]\n",
    "[2,23,24]"
   ]
  },
  {
   "cell_type": "code",
   "execution_count": null,
   "metadata": {
    "collapsed": true
   },
   "outputs": [],
   "source": [
    "方法1: sort\n",
    "方法2: merge sort 的最后一步\n",
    "    \n",
    "中位数的两种理解：\n",
    "方法3: 中间的数 recursive 方法\n",
    "方法4: 有一半的数比它小 "
   ]
  },
  {
   "cell_type": "markdown",
   "metadata": {},
   "source": [
    "- http://www.geeksforgeeks.org/median-of-two-sorted-arrays/\n",
    "- https://www.youtube.com/watch?v=MHNTl_NvOj0\n",
    "- http://blog.rdtr.net/post/algorithm/algorithm_search_median_of_two_sorted_arrays/"
   ]
  },
  {
   "cell_type": "markdown",
   "metadata": {},
   "source": [
    "# 3. |34| [Search for a Range](https://leetcode.com/problems/search-for-a-range/)"
   ]
  },
  {
   "cell_type": "code",
   "execution_count": null,
   "metadata": {
    "collapsed": true
   },
   "outputs": [],
   "source": [
    "Given an array of integers sorted in ascending order, find the starting and ending position of a given target value.\n",
    "\n",
    "Your algorithm's runtime complexity must be in the order of O(log n).\n",
    "\n",
    "If the target is not found in the array, return [-1, -1].\n",
    "\n",
    "For example,\n",
    "Given [5, 7, 7, 8, 8, 10] and target value 8,\n",
    "return [3, 4]."
   ]
  },
  {
   "cell_type": "markdown",
   "metadata": {},
   "source": [
    "## Solution"
   ]
  },
  {
   "cell_type": "code",
   "execution_count": null,
   "metadata": {
    "collapsed": true
   },
   "outputs": [],
   "source": [
    "# Time:\n",
    "# Space:\n",
    "# Search for a range\n",
    "\n",
    "class Solution:\n",
    "    # @param A, a list of integers\n",
    "    # @param target, an integer to be searched\n",
    "    # @return a list of length 2, [index1, index2]\n",
    "    def searchRange(self, A, target):\n",
    "        left = 0; right = len(A) - 1\n",
    "        while left <= right:\n",
    "            mid = (left + right) / 2\n",
    "            if A[mid] > target:\n",
    "                right = mid - 1\n",
    "            elif A[mid] < target:\n",
    "                left = mid + 1\n",
    "            else:\n",
    "                list = [0, 0]\n",
    "                if A[left] == target: list[0] = left\n",
    "                if A[right] == target: list[1] = right\n",
    "                for i in range(mid, right+1):\n",
    "                    if A[i] != target: list[1] = i - 1; \n",
    "                        break\n",
    "                for i in range(mid, left-1, -1):\n",
    "                    if A[i] != target: list[0] = i + 1; \n",
    "                        break\n",
    "                return list\n",
    "        return [-1, -1]"
   ]
  },
  {
   "cell_type": "markdown",
   "metadata": {},
   "source": [
    "## Notes"
   ]
  },
  {
   "cell_type": "code",
   "execution_count": null,
   "metadata": {
    "collapsed": true
   },
   "outputs": [],
   "source": [
    "4 5 8 8 8 8 9 9 10\n",
    "target = A[mid=4] = 8\n",
    "此时要在A[0:3]中寻找left，在A[5:8]中寻找right。\n",
    "搜索left：\n",
    "4 5 8 8\n",
    "target != A[mid]，搜索 A[mid+1 : end]。\n",
    "8 8 \n",
    "target = A[mid]，搜索A[start: mid-1]\n",
    "start > end，left = start\n",
    "搜索right：\n",
    "8 9 9 10\n",
    "target != A[mid]，搜索A[start : mid-1]。\n",
    "8\n",
    "target = A[mid]，搜索A[mid+1 : end]。\n",
    "start > end，right = end\n",
    "\n",
    "二分查找时特殊处理target = A[mid]的情况\n",
    "对搜索left：如果target = A[mid]则继续向左找，否则向右找。直到搜索结束，left = start\n",
    "对搜索right：如果target = A[mid]则继续向右找，否则向左找。直到搜索结束，right = end\n",
    "最后判断如果A[left], A[right] != target，则表明target不存在于数组中, left = right = -1\n",
    " \n",
    "- http://bangbingsyb.blogspot.com/2014/11/leetcode-search-for-range.html"
   ]
  },
  {
   "cell_type": "markdown",
   "metadata": {},
   "source": [
    "# 4. |35| [Search Insert Position](https://leetcode.com/problems/search-insert-position/)"
   ]
  },
  {
   "cell_type": "code",
   "execution_count": null,
   "metadata": {
    "collapsed": true
   },
   "outputs": [],
   "source": [
    "Given a sorted array and a target value, return the index if the target is found. \n",
    "If not, return the index where it would be if it were inserted in order.\n",
    "\n",
    "You may assume no duplicates in the array.\n",
    "\n",
    "Here are few examples.\n",
    "\n",
    "[1,3,5,6], 5 → 2\n",
    "[1,3,5,6], 2 → 1\n",
    "[1,3,5,6], 7 → 4\n",
    "[1,3,5,6], 0 → 0"
   ]
  },
  {
   "cell_type": "markdown",
   "metadata": {},
   "source": [
    "## Solutions"
   ]
  },
  {
   "cell_type": "code",
   "execution_count": null,
   "metadata": {
    "collapsed": true
   },
   "outputs": [],
   "source": [
    "class Solution:\n",
    "    # @param A, a list of integers\n",
    "    # @param target, an integer to be inserted\n",
    "    # @return integer\n",
    "    def searchInsert(self, A, target):\n",
    "        left = 0; right = len(A) - 1\n",
    "        while left <= right:\n",
    "            mid = ( left + right ) / 2\n",
    "            if A[mid] < target:\n",
    "                left = mid + 1\n",
    "            elif A[mid] > target:\n",
    "                right = mid - 1\n",
    "            else:\n",
    "                return mid\n",
    "        return left # ! leftmost "
   ]
  },
  {
   "cell_type": "markdown",
   "metadata": {},
   "source": [
    "# 5. |69| [Sqrt(x)](https://leetcode.com/problems/sqrtx/) "
   ]
  },
  {
   "cell_type": "code",
   "execution_count": null,
   "metadata": {
    "collapsed": true
   },
   "outputs": [],
   "source": [
    "Implement int sqrt(int x).\n",
    "\n",
    "Compute and return the square root of x."
   ]
  },
  {
   "cell_type": "markdown",
   "metadata": {},
   "source": [
    "## Solution"
   ]
  },
  {
   "cell_type": "code",
   "execution_count": null,
   "metadata": {
    "collapsed": true
   },
   "outputs": [],
   "source": [
    "class Solution(object):\n",
    "    def mySqrt(self, x):\n",
    "        \"\"\"\n",
    "        :type x: int\n",
    "        :rtype: int\n",
    "        \"\"\"\n",
    "        low, high, mid = 0, x, x / 2\n",
    "        while low <= high:\n",
    "            if mid * mid > x:\n",
    "                high = mid - 1\n",
    "            else:\n",
    "                low = mid + 1\n",
    "            mid = (low + high) / 2\n",
    "        return mid"
   ]
  },
  {
   "cell_type": "markdown",
   "metadata": {},
   "source": [
    "## Notes"
   ]
  },
  {
   "cell_type": "code",
   "execution_count": null,
   "metadata": {
    "collapsed": true
   },
   "outputs": [],
   "source": [
    "Vampire Numbers - Numberphile"
   ]
  },
  {
   "cell_type": "code",
   "execution_count": null,
   "metadata": {
    "collapsed": true
   },
   "outputs": [],
   "source": [
    "总结：这里有必要总结下binary search的一个规律\n",
    "当x不存在于一个sorted array A[0:n-1]中时，binary search的循环必然会因为start > end而终止。\n",
    "此时必然有：A[end] < x < A[start]，如果end >=0 且 start<n。\n",
    "\n",
    "这也就是为什么这题需要返回end，而Insertion Position那题却要返回start的原因。\n",
    "\n",
    "- http://bangbingsyb.blogspot.com/2014/11/leetcode-sqrtx.html\n",
    "- http://bookshadow.com/weblog/2015/08/29/leetcode-sqrtx/"
   ]
  },
  {
   "cell_type": "markdown",
   "metadata": {},
   "source": [
    "# 6. |74| [Search a 2D Matrix](https://leetcode.com/problems/search-a-2d-matrix/)"
   ]
  },
  {
   "cell_type": "code",
   "execution_count": null,
   "metadata": {
    "collapsed": true
   },
   "outputs": [],
   "source": [
    "Write an efficient algorithm that searches for a value in an m x n matrix. This matrix has the following properties:\n",
    "\n",
    "Integers in each row are sorted from left to right.\n",
    "The first integer of each row is greater than the last integer of the previous row.\n",
    "For example,\n",
    "\n",
    "Consider the following matrix:\n",
    "\n",
    "[\n",
    "  [1,   3,  5,  7],\n",
    "  [10, 11, 16, 20],\n",
    "  [23, 30, 34, 50]\n",
    "]\n",
    "\n",
    "Given target = 3, return true."
   ]
  },
  {
   "cell_type": "markdown",
   "metadata": {},
   "source": [
    "## Solution"
   ]
  },
  {
   "cell_type": "code",
   "execution_count": null,
   "metadata": {
    "collapsed": true
   },
   "outputs": [],
   "source": [
    "class Solution(object):\n",
    "    def searchMatrix(self, matrix, target):\n",
    "        \"\"\"\n",
    "        :type matrix: List[List[int]]\n",
    "        :type target: int\n",
    "        :rtype: bool\n",
    "        \"\"\"\n",
    "        if len(matrix) == 0:\n",
    "            return False\n",
    "        \n",
    "        i = 0\n",
    "        j = len(matrix[0]) - 1\n",
    "        while i < len(matrix) and j >= 0:\n",
    "            if matrix[i][j] == target: \n",
    "                return True\n",
    "            elif matrix[i][j] > target: \n",
    "                j -= 1\n",
    "            else: \n",
    "                i += 1\n",
    "        return False\n",
    "        "
   ]
  },
  {
   "cell_type": "markdown",
   "metadata": {},
   "source": [
    "### Notes\n",
    "related : kth  波浪法"
   ]
  },
  {
   "cell_type": "markdown",
   "metadata": {},
   "source": [
    "# 2. |33| [Search in Rotated Sorted Array](https://leetcode.com/problems/search-in-rotated-sorted-array/) "
   ]
  },
  {
   "cell_type": "code",
   "execution_count": null,
   "metadata": {
    "collapsed": true
   },
   "outputs": [],
   "source": [
    "Suppose an array sorted in ascending order is rotated at some pivot unknown to you beforehand.\n",
    "\n",
    "(i.e., 0 1 2 4 5 6 7 might become 4 5 6 7 0 1 2).\n",
    "\n",
    "You are given a target value to search. If found in the array return its index, otherwise return -1.\n",
    "\n",
    "You may assume no duplicate exists in the array."
   ]
  },
  {
   "cell_type": "code",
   "execution_count": null,
   "metadata": {
    "collapsed": true
   },
   "outputs": [],
   "source": [
    "class Solution(object):\n",
    "    def search(self, nums, target):\n",
    "        \"\"\"\n",
    "        :type nums: List[int]\n",
    "        :type target: int\n",
    "        :rtype: int\n",
    "        \"\"\"\n",
    "        left = 0; right = len(nums) - 1\n",
    "        while left <= right:\n",
    "            mid = (left + right) / 2\n",
    "            if target == nums[mid]:\n",
    "                return mid\n",
    "            if nums[mid] >= nums[left]:\n",
    "                if target < nums[mid] and target >= nums[left]:\n",
    "                    right = mid - 1\n",
    "                else:\n",
    "                    left = mid + 1\n",
    "            elif nums[mid] < nums[right]:\n",
    "                if target > nums[mid] and target <= nums[right]:\n",
    "                    left = mid + 1\n",
    "                else:\n",
    "                    right = mid - 1\n",
    "        return -1"
   ]
  },
  {
   "cell_type": "code",
   "execution_count": null,
   "metadata": {
    "collapsed": true
   },
   "outputs": [],
   "source": [
    "找峰值的两种方式\n",
    "\n",
    "1. 找当前的趋势\n",
    "2. 看水平线：山海法"
   ]
  },
  {
   "cell_type": "markdown",
   "metadata": {},
   "source": [
    "# 7. |81| [Search in Rotated Sorted Array II](https://leetcode.com/problems/search-in-rotated-sorted-array-ii/) "
   ]
  },
  {
   "cell_type": "code",
   "execution_count": null,
   "metadata": {
    "collapsed": true
   },
   "outputs": [],
   "source": [
    "Follow up for \"Search in Rotated Sorted Array\":\n",
    "What if duplicates are allowed?\n",
    "\n",
    "Would this affect the run-time complexity? How and why?\n",
    "Suppose an array sorted in ascending order is rotated at some pivot unknown to you beforehand.\n",
    "\n",
    "(i.e., 0 1 2 4 5 6 7 might become 4 5 6 7 0 1 2).\n",
    "\n",
    "Write a function to determine if a given target is in the array.\n",
    "\n",
    "The array may contain duplicates."
   ]
  },
  {
   "cell_type": "code",
   "execution_count": null,
   "metadata": {
    "collapsed": true
   },
   "outputs": [],
   "source": [
    "class Solution(object):\n",
    "    def search(self, nums, target):\n",
    "        \"\"\"\n",
    "        :type nums: List[int]\n",
    "        :type target: int\n",
    "        :rtype: bool\n",
    "        \"\"\"\n",
    "        left=0; right=len(nums)-1\n",
    "        \n",
    "        while left<=right:\n",
    "            mid=(left+right)/2\n",
    "            if nums[mid]==target: \n",
    "                return True\n",
    "            if nums[left] == nums[mid] == nums[right]:\n",
    "                left += 1 \n",
    "                right -= 1\n",
    "            elif nums[left] <= nums[mid]:\n",
    "                if nums[left] <= target < nums[mid]: \n",
    "                    right=mid-1\n",
    "                else: \n",
    "                    left=mid+1\n",
    "            else:\n",
    "                if nums[mid]<=target<nums[left]: \n",
    "                    left=mid+1\n",
    "                else:right=mid-1\n",
    "        return False\n",
    "        "
   ]
  },
  {
   "cell_type": "markdown",
   "metadata": {},
   "source": [
    "# 8. |153| [Find Minimum in Rotated Sorted Array](https://leetcode.com/problems/find-minimum-in-rotated-sorted-array/) "
   ]
  },
  {
   "cell_type": "code",
   "execution_count": null,
   "metadata": {
    "collapsed": true
   },
   "outputs": [],
   "source": [
    "Suppose an array sorted in ascending order is rotated at some pivot unknown to you beforehand.\n",
    "\n",
    "(i.e., 0 1 2 4 5 6 7 might become 4 5 6 7 0 1 2).\n",
    "\n",
    "Find the minimum element.\n",
    "\n",
    "You may assume no duplicate exists in the array."
   ]
  },
  {
   "cell_type": "code",
   "execution_count": null,
   "metadata": {
    "collapsed": true
   },
   "outputs": [],
   "source": [
    "class Solution(object):\n",
    "    def findMin(self, nums):\n",
    "        \"\"\"\n",
    "        :type nums: List[int]\n",
    "        :rtype: int\n",
    "        \"\"\"\n",
    "        left, right = 0, len(nums)\n",
    "        target = nums[-1]\n",
    "\n",
    "        while left < right:\n",
    "            mid = left + (right - left) / 2\n",
    "\n",
    "            if nums[mid] <= target:\n",
    "                right = mid\n",
    "            else:\n",
    "                left = mid + 1\n",
    "\n",
    "        return nums[left]"
   ]
  },
  {
   "cell_type": "markdown",
   "metadata": {},
   "source": [
    "# 9. |154| [Find Minimum in Rotated Sorted Array II](https://leetcode.com/problems/find-minimum-in-rotated-sorted-array-ii/) "
   ]
  },
  {
   "cell_type": "code",
   "execution_count": null,
   "metadata": {
    "collapsed": true
   },
   "outputs": [],
   "source": [
    "Follow up for \"Find Minimum in Rotated Sorted Array\":\n",
    "What if duplicates are allowed?\n",
    "\n",
    "Would this affect the run-time complexity? How and why?\n",
    "Suppose an array sorted in ascending order is rotated at some pivot unknown to you beforehand.\n",
    "\n",
    "(i.e., 0 1 2 4 5 6 7 might become 4 5 6 7 0 1 2).\n",
    "\n",
    "Find the minimum element.\n",
    "\n",
    "The array may contain duplicates."
   ]
  },
  {
   "cell_type": "code",
   "execution_count": null,
   "metadata": {
    "collapsed": true
   },
   "outputs": [],
   "source": [
    "class Solution(object):\n",
    "    def findMin(self, nums):\n",
    "        \"\"\"\n",
    "        :type nums: List[int]\n",
    "        :rtype: int\n",
    "        \"\"\"\n",
    "        left, right = 0, len(nums) - 1\n",
    "        while left < right:\n",
    "            mid = left + (right - left) / 2\n",
    "\n",
    "            if nums[mid] == nums[right]:\n",
    "                right -= 1\n",
    "            elif nums[mid] < nums[right]:\n",
    "                right = mid\n",
    "            else:\n",
    "                left = mid + 1\n",
    "\n",
    "        return nums[left]"
   ]
  },
  {
   "cell_type": "markdown",
   "metadata": {},
   "source": [
    "# 10. |162| [Find Peak Element](https://leetcode.com/problems/find-peak-element/)"
   ]
  },
  {
   "cell_type": "code",
   "execution_count": null,
   "metadata": {
    "collapsed": true
   },
   "outputs": [],
   "source": [
    "A peak element is an element that is greater than its neighbors.\n",
    "\n",
    "Given an input array where num[i] ≠ num[i+1], find a peak element and return its index.\n",
    "\n",
    "The array may contain multiple peaks, in that case return the index to any one of the peaks is fine.\n",
    "\n",
    "You may imagine that num[-1] = num[n] = -∞.\n",
    "\n",
    "For example, in array [1, 2, 3, 1], 3 is a peak element and your function should return the index number 2."
   ]
  },
  {
   "cell_type": "code",
   "execution_count": null,
   "metadata": {
    "collapsed": true
   },
   "outputs": [],
   "source": [
    "class Solution:\n",
    "    # @param num, a list of integer\n",
    "    # @return an integer\n",
    "    def findPeakElement(self, num):\n",
    "        size = len(num)\n",
    "        return self.search(num, 0, size - 1)\n",
    "    \n",
    "    def search(self, num, start, end):\n",
    "        if start == end:\n",
    "            return start\n",
    "        if start + 1 == end:\n",
    "            return [start, end][num[start] < num[end]]\n",
    "        mid = (start + end) / 2\n",
    "        if num[mid] < num[mid - 1]:\n",
    "            return self.search(num, start, mid - 1)\n",
    "        if num[mid] < num[mid + 1]:\n",
    "            return self.search(num, mid + 1, end)\n",
    "        return mid"
   ]
  },
  {
   "cell_type": "code",
   "execution_count": null,
   "metadata": {
    "collapsed": true
   },
   "outputs": [],
   "source": [
    "http://bookshadow.com/weblog/2014/12/06/leetcode-find-peak-element/"
   ]
  },
  {
   "cell_type": "markdown",
   "metadata": {},
   "source": [
    "# 11. |222| [Count Complete Tree Nodes](https://leetcode.com/problems/count-complete-tree-nodes/) "
   ]
  },
  {
   "cell_type": "code",
   "execution_count": null,
   "metadata": {
    "collapsed": true
   },
   "outputs": [],
   "source": [
    "Given a complete binary tree, count the number of nodes.\n",
    "\n",
    "Definition of a complete binary tree from Wikipedia:\n",
    "In a complete binary tree every level, except possibly the last, is completely filled, and all nodes \n",
    "in the last level are as far left as possible. It can have between 1 and 2h nodes inclusive at the last level h."
   ]
  },
  {
   "cell_type": "markdown",
   "metadata": {},
   "source": [
    " ![complete](https://i.stack.imgur.com/MeMzS.png)"
   ]
  },
  {
   "cell_type": "markdown",
   "metadata": {},
   "source": [
    "## Solution"
   ]
  },
  {
   "cell_type": "code",
   "execution_count": null,
   "metadata": {
    "collapsed": true
   },
   "outputs": [],
   "source": [
    "Steps to solve this problem:\n",
    "1) get the height of left-most part\n",
    "2) get the height of right-most part\n",
    "3) when they are equal, the number of nodes = 2^h -1\n",
    "4) when they are not equal, recursively get the number of nodes from left&right sub-trees"
   ]
  },
  {
   "cell_type": "code",
   "execution_count": null,
   "metadata": {
    "collapsed": true
   },
   "outputs": [],
   "source": [
    " class Solution:\n",
    "        # @param {TreeNode} root\n",
    "        # @return {integer}\n",
    "        def countNodes(self, root):\n",
    "            if not root:\n",
    "                return 0\n",
    "            leftDepth = self.getDepth(root.left)\n",
    "            rightDepth = self.getDepth(root.right)\n",
    "            if leftDepth == rightDepth:\n",
    "                return pow(2, leftDepth) + self.countNodes(root.right)\n",
    "            else:\n",
    "                return pow(2, rightDepth) + self.countNodes(root.left)\n",
    "    \n",
    "        def getDepth(self, root):\n",
    "            if not root:\n",
    "                return 0\n",
    "            return 1 + self.getDepth(root.left)\n",
    "\n",
    "# https://discuss.leetcode.com/topic/17971/my-python-solution-in-o-lgn-lgn-time"
   ]
  },
  {
   "cell_type": "code",
   "execution_count": null,
   "metadata": {
    "collapsed": true
   },
   "outputs": [],
   "source": [
    "class Solution(object):\n",
    "    def countNodes(self, root):\n",
    "        \"\"\"\n",
    "        :type root: TreeNode\n",
    "        :rtype: int\n",
    "        \"\"\"\n",
    "        # O(logn logn)\n",
    "        h = self.height(root)\n",
    "        nodes = 0\n",
    "        while root:\n",
    "            if self.height(root.right) == h - 1:\n",
    "                nodes += 2 ** h  # left half (2 ** h - 1) and the root (1)\n",
    "                root = root.right\n",
    "            else:\n",
    "                nodes += 2 ** (h - 1)\n",
    "                root = root.left\n",
    "            h -= 1\n",
    "        return nodes        \n",
    "\n",
    "    def height(self, root):\n",
    "        return -1 if not root else 1 + self.height(root.left)\n",
    "    \n",
    "# https://discuss.leetcode.com/topic/28353/ac-python-iterative-solution"
   ]
  },
  {
   "cell_type": "code",
   "execution_count": 5,
   "metadata": {
    "collapsed": false
   },
   "outputs": [
    {
     "data": {
      "text/plain": [
       "2"
      ]
     },
     "execution_count": 5,
     "metadata": {},
     "output_type": "execute_result"
    }
   ],
   "source": [
    "1 << 1"
   ]
  },
  {
   "cell_type": "code",
   "execution_count": 6,
   "metadata": {
    "collapsed": false
   },
   "outputs": [
    {
     "data": {
      "text/plain": [
       "4"
      ]
     },
     "execution_count": 6,
     "metadata": {},
     "output_type": "execute_result"
    }
   ],
   "source": [
    "16 >> 2"
   ]
  },
  {
   "cell_type": "code",
   "execution_count": null,
   "metadata": {
    "collapsed": true
   },
   "outputs": [],
   "source": [
    "class Solution:\n",
    "    # @param {TreeNode} root\n",
    "    # @return {integer}\n",
    "    def countNodes(self, root):\n",
    "        if root is None:\n",
    "            return 0\n",
    "        \n",
    "        node, level = root, 0\n",
    "        while node.left is not None:\n",
    "            node = node.left\n",
    "            level += 1\n",
    "        \n",
    "        # Binary search.\n",
    "        left, right = 2 ** level, 2 ** (level + 1)\n",
    "        while left < right:\n",
    "            mid = left + (right - left) / 2\n",
    "            if not self.exist(root, mid):\n",
    "                right = mid\n",
    "            else:\n",
    "                left = mid + 1\n",
    "                \n",
    "        return left - 1\n",
    "    \n",
    "    # Check if the nth node exist.\n",
    "    def exist(self, root, n):\n",
    "        k = 1\n",
    "        while k <= n:\n",
    "            k <<= 1\n",
    "        k >>= 2\n",
    "        \n",
    "        node = root\n",
    "        while k > 0:\n",
    "            if (n & k) == 0:\n",
    "                node = node.left\n",
    "            else:\n",
    "                node = node.right\n",
    "            k >>= 1\n",
    "        return node is not None"
   ]
  },
  {
   "cell_type": "markdown",
   "metadata": {},
   "source": [
    "# 12. |275| [H-Index II](https://leetcode.com/problems/h-index-ii/) "
   ]
  },
  {
   "cell_type": "code",
   "execution_count": null,
   "metadata": {
    "collapsed": true
   },
   "outputs": [],
   "source": [
    "Follow up for H-Index: What if the citations array is sorted in ascending order? Could you optimize your algorithm?\n",
    "Hint:\n",
    "Expected runtime complexity is in O(log n) and the input is sorted."
   ]
  },
  {
   "cell_type": "code",
   "execution_count": null,
   "metadata": {
    "collapsed": true
   },
   "outputs": [],
   "source": [
    "# Time: O(logn)\n",
    "# Space: O(1)\n",
    "\n",
    "\n",
    "class Solution(object):\n",
    "    def hIndex(self, citations):\n",
    "        \"\"\"\n",
    "        :type citations: List[int]\n",
    "        :rtype: int\n",
    "        \"\"\"\n",
    "        if \n",
    "        \n",
    "        \n",
    "        L, R, n = 0, len(citations)-1, len(citations)\n",
    " \n",
    "        while L < R:\n",
    "            mid = L + (R - L)/2 \n",
    "            if n - mid <= citations[mid]:\n",
    "                R = mid\n",
    "            else:\n",
    "                L = mid + 1\n",
    " \n",
    "        return n - L"
   ]
  },
  {
   "cell_type": "code",
   "execution_count": null,
   "metadata": {
    "collapsed": true
   },
   "outputs": [],
   "source": [
    "class Solution(object):\n",
    "    def hIndex(self, citations):\n",
    "        \"\"\"\n",
    "        :type citations: List[int]\n",
    "        :rtype: int\n",
    "        \"\"\"\n",
    "        \n",
    "        \n",
    "        L, R, n = 0, len(citations), len(citations)\n",
    " \n",
    "        while L < R:\n",
    "            mid = L + (R - L)/2 \n",
    "            if n - mid <= citations[mid]:\n",
    "                R = mid\n",
    "            else:\n",
    "                L = mid + 1\n",
    " \n",
    "        return n - L"
   ]
  },
  {
   "cell_type": "markdown",
   "metadata": {},
   "source": [
    "# 13. |278| [First Bad Version](https://leetcode.com/problems/first-bad-version/) "
   ]
  },
  {
   "cell_type": "code",
   "execution_count": null,
   "metadata": {
    "collapsed": true
   },
   "outputs": [],
   "source": []
  },
  {
   "cell_type": "markdown",
   "metadata": {},
   "source": [
    "# 14. |300| [Longest Increasing Subsequence](https://leetcode.com/problems/longest-increasing-subsequence/) "
   ]
  },
  {
   "cell_type": "code",
   "execution_count": null,
   "metadata": {
    "collapsed": true
   },
   "outputs": [],
   "source": [
    "Given an unsorted array of integers, find the length of longest increasing subsequence.\n",
    "\n",
    "For example,\n",
    "Given [10, 9, 2, 5, 3, 7, 101, 18],\n",
    "The longest increasing subsequence is [2, 3, 7, 101], therefore the length is 4. \n",
    "Note that there may be more than one LIS combination, it is only necessary for you to return the length.\n",
    "\n",
    "Your algorithm should run in O(n2) complexity.\n",
    "\n",
    "Follow up: Could you improve it to O(n log n) time complexity?"
   ]
  },
  {
   "cell_type": "markdown",
   "metadata": {},
   "source": [
    "## Solution"
   ]
  },
  {
   "cell_type": "code",
   "execution_count": null,
   "metadata": {
    "collapsed": true
   },
   "outputs": [],
   "source": [
    "def lengthOfLIS(self, nums):\n",
    "    tails = [0] * len(nums)\n",
    "    size = 0\n",
    "    for x in nums:\n",
    "        i, j = 0, size\n",
    "        while i != j:\n",
    "            m = (i + j) / 2\n",
    "            if tails[m] < x:\n",
    "                i = m + 1\n",
    "            else:\n",
    "                j = m\n",
    "        tails[i] = x\n",
    "        size = max(i + 1, size)\n",
    "    return size\n",
    "\n",
    "# https://discuss.leetcode.com/topic/28738/java-python-binary-search-o-nlogn-time-with-explanation/2"
   ]
  },
  {
   "cell_type": "markdown",
   "metadata": {},
   "source": [
    "# 15. |302| [Smallest Rectangle Enclosing Black Pixels](https://leetcode.com/problems/smallest-rectangle-enclosing-black-pixels/)"
   ]
  },
  {
   "cell_type": "markdown",
   "metadata": {},
   "source": [
    "# 16. |354| [Russian Doll Envelopes](https://leetcode.com/problems/russian-doll-envelopes/) \n"
   ]
  },
  {
   "cell_type": "markdown",
   "metadata": {},
   "source": [
    "# 17. |363| [Max Sum of Rectangle No Larger Than K](https://leetcode.com/problems/max-sum-of-sub-matrix-no-larger-than-k/) "
   ]
  },
  {
   "cell_type": "code",
   "execution_count": null,
   "metadata": {
    "collapsed": true
   },
   "outputs": [],
   "source": [
    "Given a non-empty 2D matrix matrix and an integer k, \n",
    "find the max sum of a rectangle in the matrix such that its sum is no larger than k.\n",
    "\n",
    "Example:\n",
    "Given matrix = [\n",
    "  [1,  0, 1],\n",
    "  [0, -2, 3]\n",
    "]\n",
    "k = 2\n",
    "\n",
    "The answer is 2. \n",
    "Because the sum of rectangle [[0, 1], [-2, 3]] is 2 and 2 is the max number no larger than k (k = 2).\n",
    "\n",
    "Note:\n",
    "The rectangle inside the matrix must have an area > 0.\n",
    "What if the number of rows is much larger than the number of columns?"
   ]
  },
  {
   "cell_type": "code",
   "execution_count": null,
   "metadata": {
    "collapsed": true
   },
   "outputs": [],
   "source": [
    "https://discuss.leetcode.com/topic/48930/any-accepted-python-solution\n",
    "http://bookshadow.com/weblog/2016/06/22/leetcode-max-sum-of-sub-matrix-no-larger-than-k/"
   ]
  },
  {
   "cell_type": "markdown",
   "metadata": {},
   "source": [
    "# 18. |367| [Valid Perfect Square](https://leetcode.com/problems/valid-perfect-square/)"
   ]
  },
  {
   "cell_type": "markdown",
   "metadata": {},
   "source": [
    "# 19. |374| [Guess Number Higher or Lower](https://leetcode.com/problems/guess-number-higher-or-lower/)\n"
   ]
  },
  {
   "cell_type": "markdown",
   "metadata": {},
   "source": [
    "# 20. |410| [Split Array Largest Sum](https://leetcode.com/problems/split-array-largest-sum/)"
   ]
  },
  {
   "cell_type": "markdown",
   "metadata": {},
   "source": [
    "# 21. |436 | [Find Right Interval](https://leetcode.com/problems/find-right-interval/) "
   ]
  },
  {
   "cell_type": "markdown",
   "metadata": {},
   "source": [
    "# 22. |475 | [Heaters](https://leetcode.com/problems/heaters/) "
   ]
  }
 ],
 "metadata": {
  "kernelspec": {
   "display_name": "Python 2",
   "language": "python",
   "name": "python2"
  },
  "language_info": {
   "codemirror_mode": {
    "name": "ipython",
    "version": 2
   },
   "file_extension": ".py",
   "mimetype": "text/x-python",
   "name": "python",
   "nbconvert_exporter": "python",
   "pygments_lexer": "ipython2",
   "version": "2.7.13"
  }
 },
 "nbformat": 4,
 "nbformat_minor": 0
}
