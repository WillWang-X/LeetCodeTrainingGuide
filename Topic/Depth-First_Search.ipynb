{
 "cells": [
  {
   "cell_type": "markdown",
   "metadata": {},
   "source": [
    "# Depth-First Search"
   ]
  },
  {
   "cell_type": "markdown",
   "metadata": {},
   "source": [
    "![Depth-First Search](http://www.how2examples.com/artificial-intelligence/images/Depth-First-Search.gif)"
   ]
  },
  {
   "cell_type": "markdown",
   "metadata": {},
   "source": [
    "\n",
    "|  #  | Title           |  Solution       |  Time           | Space           | Difficulty    | Tag          | Note| \n",
    "|-----|---------------- | --------------- | --------------- | --------------- | ------------- |--------------|-----|\n",
    "|112| [Path Sum](https://leetcode.com/problems/path-sum/)      | [Python](./Python/path-sum.py)   | _O(n)_          | _O(h)_          | Easy           ||\n",
    "|113| [Path Sum II](https://leetcode.com/problems/path-sum-ii/)   | [Python](./Python/path-sum-ii.py) | _O(n)_         | _O(h)_          | Medium         ||\n",
    "|199| [Binary Tree Right Side View](https://leetcode.com/problems/binary-tree-right-side-view/) | [Python](./Python/binary-tree-right-side-view.py) | _O(n)_     | _O(h)_ | Medium  ||\n",
    "|200| [Number of Islands](https://leetcode.com/problems/number-of-islands/) | [Python](./Python/number-of-islands.py) | _O(m * n)_ | _O(m * n)_| Medium         ||\n",
    "|236 | [Lowest Common Ancestor of a Binary Tree](https://leetcode.com/problems/lowest-common-ancestor-of-a-binary-tree/) | [C++](./C++/lowest-common-ancestor-of-a-binary-tree.cpp) [Python](./Python/lowest-common-ancestor-of-a-binary-tree.py) | _O(n)_ | _O(h)_ | Medium | EPI |\n",
    "|247| [Strobogrammatic Number II](https://leetcode.com/problems/strobogrammatic-number-ii/) | [C++](./C++/strobogrammatic-number-ii.cpp)  [Python](./Python/strobogrammatic-number-ii.py)  | _O(n^2 * 5^(n/2))_ | _O(n)_ | Medium         |📖||\n",
    "|250| [Count Univalue Subtrees](https://leetcode.com/problems/count-univalue-subtrees) | [C++](./C++/count-univalue-subtrees.cpp)  [Python](./Python/count-univalue-subtrees.py)  | _O(n)_ | _O(h)_ | Medium         |📖||\n",
    "|257| [Binary Tree Paths](https://leetcode.com/problems/binary-tree-paths/) | [C++](./C++/binary-tree-paths.cpp)  [Python](./Python/binary-tree-paths.py)  | _O(n * h)_ | _O(h)_ | Easy         |||\n",
    "|282| [Expression Add Operators](https://leetcode.com/problems/expression-add-operators/) | [C++](./C++/expression-add-operators.cpp)  [Python](./Python/expression-add-operators.py)  | _O(4^n)_ | _O(n)_ | Hard         |||\n",
    "|301| [Remove Invalid Parentheses](https://leetcode.com/problems/remove-invalid-parentheses/) | [C++](./C++/remove-invalid-parentheses.cpp)  [Python](./Python/remove-invalid-parentheses.py)  | _O(C(n, c))_ | _O(c)_ | Hard         |||\n",
    "|329| [Longest Increasing Path in a Matrix](https://leetcode.com/problems/longest-increasing-path-in-a-matrix/) | [C++](./C++/longest-increasing-path-in-a-matrix.cpp)  [Python](./Python/longest-increasing-path-in-a-matrix.py)  | _O(m * n)_ | _O(m * n)_ | Hard         |||\n",
    "|332| [Reconstruct Itinerary](https://leetcode.com/problems/reconstruct-itinerary/) | [C++](./C++/reconstruct-itinerary.cpp)  [Python](./Python/reconstruct-itinerary.py)  | _O(t! / (n1! * n2! * ... nk!))_ | _O(t)_ | Medium         |||\n",
    "|339| [Nested List Weight Sum](https://leetcode.com/problems/nested-list-weight-sum/) | [C++](./C++/nested-list-weight-sum.cpp)  [Python](./Python/nested-list-weight-sum.py)  | _O(n)_ | _O(h)_ | Easy         |📖||\n",
    "|364| [Nested List Weight Sum II](https://leetcode.com/problems/nested-list-weight-sum-ii/) | [C++](./C++/nested-list-weight-sum-ii.cpp)  [Python](./Python/nested-list-weight-sum-ii.py)  | _O(n)_ | _O(h)_ | Medium         |📖||\n",
    "|366| [Find Leaves of Binary Tree](https://leetcode.com/problems/find-leaves-of-binary-tree/) | [C++](./C++/find-leaves-of-binary-tree.cpp)  [Python](./Python/find-leaves-of-binary-tree.py)  | _O(n)_ | _O(h)_ | Medium         |📖||\n",
    "|399| [Evaluate Division](https://leetcode.com/problems/evaluate-division/) | [C++](./C++/evaluate-division.cpp)  [Python](./Python/evaluate-division.py)  | _O(q * \\|V\\|!)_ | _O(e)_ | Medium         |||\n",
    "|417 | [Pacific Atlantic Water Flow](https://leetcode.com/problems/pacific-atlantic-water-flow/) | [C++](./C++/pacific-atlantic-water-flow.cpp) [Python](./Python/pacific-atlantic-water-flow.py) | _O(m * n)_ | _O(m * n)_ | Medium ||\n",
    "|440| [K-th Smallest in Lexicographical Order](https://leetcode.com/problems/k-th-smallest-in-lexicographical-order/) | [C++](./C++/k-th-smallest-in-lexicographical-order.cpp) [Python](./Python/k-th-smallest-in-lexicographical-order.py) | _O(logn)_          | _O(logn)_          | Hard           ||\n",
    "|464| [Can I Win](https://leetcode.com/problems/can-i-win/) | [C++](./C++/can-i-win.cpp) [Python](./Python/can-i-win.py) | _O(n!)_          | _O(n)_          | Medium           ||\n"
   ]
  },
  {
   "cell_type": "markdown",
   "metadata": {},
   "source": [
    "# 1. |112| [Path Sum](https://leetcode.com/problems/path-sum/)  "
   ]
  },
  {
   "cell_type": "code",
   "execution_count": null,
   "metadata": {
    "collapsed": true
   },
   "outputs": [],
   "source": [
    "Given a binary tree and a sum, determine if the tree has a root-to-leaf path such \n",
    "that adding up all the values along the path equals the given sum.\n",
    "\n",
    "For example:\n",
    "Given the below binary tree and sum = 22,\n",
    "              5\n",
    "             / \\\n",
    "            4   8\n",
    "           /   / \\\n",
    "          11  13  4\n",
    "         /  \\      \\\n",
    "        7    2      1\n",
    "return true, as there exist a root-to-leaf path 5->4->11->2 which sum is 22."
   ]
  },
  {
   "cell_type": "code",
   "execution_count": null,
   "metadata": {
    "collapsed": true
   },
   "outputs": [],
   "source": [
    "# Time: O(n)\n",
    "# Space: O(h) ?\n",
    "# Path Sum \n",
    "\n",
    "\n",
    "\n",
    "# Definition for a binary tree node.\n",
    "# class TreeNode(object):\n",
    "#     def __init__(self, x):\n",
    "#         self.val = x\n",
    "#         self.left = None\n",
    "#         self.right = None\n",
    "\n",
    "class Solution(object):\n",
    "    def hasPathSum(self, root, sum):\n",
    "        \"\"\"\n",
    "        :type root: TreeNode\n",
    "        :type sum: int\n",
    "        :rtype: bool\n",
    "        \"\"\"\n",
    "        if root is None: # Edge case\n",
    "            return False \n",
    "        if root.left is None and root.right is None and root.val == sum:\n",
    "            return True \n",
    "        return self.hasPathSum(root.left, sum - root.val) or self.hasPathSum(root.right, sum - root.val)\n",
    "        "
   ]
  },
  {
   "cell_type": "markdown",
   "metadata": {},
   "source": [
    "## Notes"
   ]
  },
  {
   "cell_type": "code",
   "execution_count": 4,
   "metadata": {
    "collapsed": false
   },
   "outputs": [
    {
     "data": {
      "text/plain": [
       "1"
      ]
     },
     "execution_count": 4,
     "metadata": {},
     "output_type": "execute_result"
    }
   ],
   "source": [
    "def test(a):\n",
    "    return 0 or a \n",
    "test(1)"
   ]
  },
  {
   "cell_type": "code",
   "execution_count": 5,
   "metadata": {
    "collapsed": false
   },
   "outputs": [
    {
     "data": {
      "text/plain": [
       "42"
      ]
     },
     "execution_count": 5,
     "metadata": {},
     "output_type": "execute_result"
    }
   ],
   "source": [
    "0 or 42"
   ]
  },
  {
   "cell_type": "code",
   "execution_count": 6,
   "metadata": {
    "collapsed": false
   },
   "outputs": [
    {
     "data": {
      "text/plain": [
       "0"
      ]
     },
     "execution_count": 6,
     "metadata": {},
     "output_type": "execute_result"
    }
   ],
   "source": [
    "0 and 42"
   ]
  },
  {
   "cell_type": "markdown",
   "metadata": {},
   "source": [
    "![python or ](https://i.stack.imgur.com/IxJzG.png)"
   ]
  },
  {
   "cell_type": "markdown",
   "metadata": {},
   "source": [
    "# 2. |113| [Path Sum II](https://leetcode.com/problems/path-sum-ii/) "
   ]
  },
  {
   "cell_type": "code",
   "execution_count": null,
   "metadata": {
    "collapsed": true
   },
   "outputs": [],
   "source": [
    "Given a binary tree and a sum, find all root-to-leaf paths where each path's sum equals the given sum.\n",
    "\n",
    "For example:\n",
    "Given the below binary tree and sum = 22,\n",
    "              5\n",
    "             / \\\n",
    "            4   8\n",
    "           /   / \\\n",
    "          11  13  4\n",
    "         /  \\    / \\\n",
    "        7    2  5   1\n",
    "return\n",
    "[\n",
    "   [5,4,11,2],\n",
    "   [5,8,4,5]\n",
    "]"
   ]
  },
  {
   "cell_type": "code",
   "execution_count": 8,
   "metadata": {
    "collapsed": true
   },
   "outputs": [],
   "source": [
    "# Time: O(n)\n",
    "# Space: O(h)\n",
    "# PathSum II\n",
    "\n",
    "\n",
    "\n",
    "\n",
    "# Definition for a binary tree node.\n",
    "# class TreeNode(object):\n",
    "#     def __init__(self, x):\n",
    "#         self.val = x\n",
    "#         self.left = None\n",
    "#         self.right = None\n",
    "\n",
    "class Solution(object):\n",
    "    def pathSum(self, root, sum):\n",
    "        \"\"\"\n",
    "        :type root: TreeNode\n",
    "        :type sum: int\n",
    "        :rtype: List[List[int]]\n",
    "        \"\"\"\n",
    "        return self.pathSumRecu([], [], root, sum)\n",
    "    \n",
    "    def pathSumRecu (self, result, cur, root, sum):\n",
    "        if root is None:\n",
    "            return result\n",
    "        if root.left is None and root.right is None and root.val == sum:\n",
    "            result.append(cur + [root.val])\n",
    "            return result\n",
    "        \n",
    "        cur.append(root.val)\n",
    "        self.pathSumRecu(result, cur, root.left,  sum - root.val )\n",
    "        self.pathSumRecu(result, cur, root.right, sum - root.val )\n",
    "        cur.pop()\n",
    "        return result "
   ]
  },
  {
   "cell_type": "code",
   "execution_count": 9,
   "metadata": {
    "collapsed": false
   },
   "outputs": [
    {
     "ename": "NameError",
     "evalue": "name 'TreeNode' is not defined",
     "output_type": "error",
     "traceback": [
      "\u001b[0;31m---------------------------------------------------------------------------\u001b[0m",
      "\u001b[0;31mNameError\u001b[0m                                 Traceback (most recent call last)",
      "\u001b[0;32m<ipython-input-9-41af2473f15c>\u001b[0m in \u001b[0;36m<module>\u001b[0;34m()\u001b[0m\n\u001b[0;32m----> 1\u001b[0;31m \u001b[0mroot\u001b[0m \u001b[0;34m=\u001b[0m \u001b[0mTreeNode\u001b[0m\u001b[0;34m(\u001b[0m\u001b[0;36m8\u001b[0m\u001b[0;34m)\u001b[0m\u001b[0;34m\u001b[0m\u001b[0m\n\u001b[0m\u001b[1;32m      2\u001b[0m \u001b[0;32mprint\u001b[0m \u001b[0mSolution\u001b[0m\u001b[0;34m(\u001b[0m\u001b[0;34m)\u001b[0m\u001b[0;34m.\u001b[0m\u001b[0mpathSum\u001b[0m\u001b[0;34m(\u001b[0m\u001b[0mroot\u001b[0m\u001b[0;34m,\u001b[0m \u001b[0;36m8\u001b[0m\u001b[0;34m)\u001b[0m\u001b[0;34m\u001b[0m\u001b[0m\n",
      "\u001b[0;31mNameError\u001b[0m: name 'TreeNode' is not defined"
     ]
    }
   ],
   "source": [
    "root = TreeNode(8)\n",
    "print Solution().pathSum(root, 8)"
   ]
  },
  {
   "cell_type": "markdown",
   "metadata": {},
   "source": [
    "# 3. |199| [Binary Tree Right Side View](https://leetcode.com/problems/binary-tree-right-side-view/)"
   ]
  },
  {
   "cell_type": "code",
   "execution_count": null,
   "metadata": {
    "collapsed": true
   },
   "outputs": [],
   "source": [
    "Given a binary tree, imagine yourself standing on the right side of it, \n",
    "return the values of the nodes you can see ordered from top to bottom.\n",
    "\n",
    "For example:\n",
    "Given the following binary tree,\n",
    "   1            <---\n",
    " /   \\\n",
    "2     3         <---\n",
    " \\     \\\n",
    "  5     4       <---\n",
    "You should return [1, 3, 4]."
   ]
  },
  {
   "cell_type": "code",
   "execution_count": null,
   "metadata": {
    "collapsed": true
   },
   "outputs": [],
   "source": [
    "# Time: O(n)\n",
    "# Space: O(n)\n",
    "'''\n",
    "Note:\n",
    "like |102| Binary Tree Level Order Traversal¶\n",
    "'''\n",
    "\n",
    "# Definition for a binary tree node.\n",
    "# class TreeNode(object):\n",
    "#     def __init__(self, x):\n",
    "#         self.val = x\n",
    "#         self.left = None\n",
    "#         self.right = None\n",
    "\n",
    "class Solution(object):\n",
    "    def rightSideView(self, root):\n",
    "        \"\"\"\n",
    "        :type root: TreeNode\n",
    "        :rtype: List[int]\n",
    "        \"\"\"\n",
    "        if root is None:\n",
    "            return []\n",
    "        \n",
    "        result, current = [], [root]\n",
    "        \n",
    "        while current:\n",
    "            next_level = []\n",
    "            for i, node in enumerate(current):\n",
    "                if node.left:\n",
    "                    next_level.append(node.left)\n",
    "                if node.right:\n",
    "                    next_level.append(node.right)\n",
    "                if i == len(current) - 1:\n",
    "                    result.append(node.val)\n",
    "            current = next_level\n",
    "        \n",
    "        return result "
   ]
  },
  {
   "cell_type": "code",
   "execution_count": null,
   "metadata": {
    "collapsed": true
   },
   "outputs": [],
   "source": [
    "# Time: O(n)\n",
    "# Space: O(h)\n",
    "'''\n",
    "Note:\n",
    "depth - result \n",
    "'''\n",
    "\n",
    "# Definition for a binary tree node.\n",
    "# class TreeNode(object):\n",
    "#     def __init__(self, x):\n",
    "#         self.val = x\n",
    "#         self.left = None\n",
    "#         self.right = None\n",
    "\n",
    "class Solution(object):\n",
    "    def rightSideView(self, root):\n",
    "        \"\"\"\n",
    "        :type root: TreeNode\n",
    "        :rtype: List[int]\n",
    "        \"\"\"\n",
    "        result = []\n",
    "        self.rightSideViewDFS(root, 1, result)\n",
    "        return result \n",
    "    \n",
    "    def rightSideViewDFS (self, node, depth, result):\n",
    "        if not node:\n",
    "            return \n",
    "        if depth > len(result):\n",
    "            result.append(node.val)\n",
    "        self.rightSideViewDFS(node.right, depth + 1, result)\n",
    "        self.rightSideViewDFS(node.left, depth + 1, result)"
   ]
  },
  {
   "cell_type": "markdown",
   "metadata": {},
   "source": [
    "# 4. |200| [Number of Islands](https://leetcode.com/problems/number-of-islands/)"
   ]
  },
  {
   "cell_type": "code",
   "execution_count": null,
   "metadata": {
    "collapsed": true
   },
   "outputs": [],
   "source": [
    "Given a 2d grid map of '1's (land) and '0's (water), count the number of islands. \n",
    "An island is surrounded by water and is formed by connecting adjacent lands horizontally or vertically. \n",
    "You may assume all four edges of the grid are all surrounded by water.\n",
    "\n",
    "Example 1:\n",
    "\n",
    "11110\n",
    "11010\n",
    "11000\n",
    "00000\n",
    "Answer: 1\n",
    "\n",
    "Example 2:\n",
    "\n",
    "11000\n",
    "11000\n",
    "00100\n",
    "00011\n",
    "Answer: 3"
   ]
  },
  {
   "cell_type": "markdown",
   "metadata": {},
   "source": [
    "# 5. |236 | [Lowest Common Ancestor of a Binary Tree](https://leetcode.com/problems/lowest-common-ancestor-of-a-binary-tree/)"
   ]
  },
  {
   "cell_type": "code",
   "execution_count": null,
   "metadata": {
    "collapsed": true
   },
   "outputs": [],
   "source": [
    "Given a binary tree, find the lowest common ancestor (LCA) of two given nodes in the tree.\n",
    "\n",
    "According to the definition of LCA on Wikipedia: “The lowest common ancestor is defined \n",
    "between two nodes v and w as the lowest node in T that has both v and w as descendants \n",
    "(where we allow a node to be a descendant of itself).”\n",
    "\n",
    "        _______3______\n",
    "       /              \\\n",
    "    ___5__          ___1__\n",
    "   /      \\        /      \\\n",
    "   6      _2       0       8\n",
    "         /  \\\n",
    "         7   4\n",
    "For example, the lowest common ancestor (LCA) of nodes 5 and 1 is 3. \n",
    "Another example is LCA of nodes 5 and 4 is 5, \n",
    "since a node can be a descendant of itself according to the LCA definition."
   ]
  },
  {
   "cell_type": "markdown",
   "metadata": {},
   "source": [
    "## notes"
   ]
  },
  {
   "cell_type": "markdown",
   "metadata": {},
   "source": [
    "Similar problems: [235. Lowest Common Ancestor of a Binary Search Tree](https://leetcode.com/problems/lowest-common-ancestor-of-a-binary-search-tree/#/description)"
   ]
  },
  {
   "cell_type": "code",
   "execution_count": null,
   "metadata": {
    "collapsed": true
   },
   "outputs": [],
   "source": [
    "# Definition for a binary tree node.\n",
    "# class TreeNode(object):\n",
    "#     def __init__(self, x):\n",
    "#         self.val = x\n",
    "#         self.left = None\n",
    "#         self.right = None\n",
    "\n",
    "class Solution(object):\n",
    "    def lowestCommonAncestor(self, root, p, q):\n",
    "        \"\"\"\n",
    "        :type root: TreeNode\n",
    "        :type p: TreeNode\n",
    "        :type q: TreeNode\n",
    "        :rtype: TreeNode\n",
    "        \"\"\"\n",
    "        small, big = sorted([p.val,q.val])\n",
    "        while not small <= root.val <= big:\n",
    "            if small <= root.val:\n",
    "                root = root.left \n",
    "            else:\n",
    "                root = root.right\n",
    "        return root"
   ]
  },
  {
   "cell_type": "markdown",
   "metadata": {},
   "source": [
    "# 6. |247| [Strobogrammatic Number II](https://leetcode.com/problems/strobogrammatic-number-ii/) "
   ]
  },
  {
   "cell_type": "code",
   "execution_count": null,
   "metadata": {
    "collapsed": true
   },
   "outputs": [],
   "source": []
  },
  {
   "cell_type": "markdown",
   "metadata": {},
   "source": [
    "# 7. |250| [Count Univalue Subtrees](https://leetcode.com/problems/count-univalue-subtrees)"
   ]
  },
  {
   "cell_type": "code",
   "execution_count": null,
   "metadata": {
    "collapsed": true
   },
   "outputs": [],
   "source": []
  },
  {
   "cell_type": "markdown",
   "metadata": {},
   "source": [
    "# 8. |257| [Binary Tree Paths](https://leetcode.com/problems/binary-tree-paths/)"
   ]
  },
  {
   "cell_type": "code",
   "execution_count": null,
   "metadata": {
    "collapsed": true
   },
   "outputs": [],
   "source": [
    "Given a binary tree, return all root-to-leaf paths.\n",
    "\n",
    "For example, given the following binary tree:\n",
    "\n",
    "   1\n",
    " /   \\\n",
    "2     3\n",
    " \\\n",
    "  5\n",
    "All root-to-leaf paths are:\n",
    "\n",
    "[\"1->2->5\", \"1->3\"]\n"
   ]
  },
  {
   "cell_type": "markdown",
   "metadata": {},
   "source": [
    "# 9. |282| [Expression Add Operators](https://leetcode.com/problems/expression-add-operators/)"
   ]
  },
  {
   "cell_type": "code",
   "execution_count": null,
   "metadata": {
    "collapsed": true
   },
   "outputs": [],
   "source": [
    "Given a string that contains only digits 0-9 and a target value, \n",
    "return all possibilities to add binary operators (not unary) +, -, \n",
    "or * between the digits so they evaluate to the target value.\n",
    "\n",
    "Examples: \n",
    "\"123\", 6 -> [\"1+2+3\", \"1*2*3\"] \n",
    "\"232\", 8 -> [\"2*3+2\", \"2+3*2\"]\n",
    "\"105\", 5 -> [\"1*0+5\",\"10-5\"]\n",
    "\"00\", 0 -> [\"0+0\", \"0-0\", \"0*0\"]\n",
    "\"3456237490\", 9191 -> []"
   ]
  },
  {
   "cell_type": "markdown",
   "metadata": {},
   "source": [
    "# 10. |301| [Remove Invalid Parentheses](https://leetcode.com/problems/remove-invalid-parentheses/)"
   ]
  },
  {
   "cell_type": "code",
   "execution_count": null,
   "metadata": {
    "collapsed": true
   },
   "outputs": [],
   "source": [
    "Remove the minimum number of invalid parentheses in order to make the input string valid. Return all possible results.\n",
    "\n",
    "Note: The input string may contain letters other than the parentheses ( and ).\n",
    "\n",
    "Examples:\n",
    "\"()())()\" -> [\"()()()\", \"(())()\"]\n",
    "\"(a)())()\" -> [\"(a)()()\", \"(a())()\"]\n",
    "\")(\" -> [\"\"]"
   ]
  },
  {
   "cell_type": "code",
   "execution_count": null,
   "metadata": {
    "collapsed": true
   },
   "outputs": [],
   "source": []
  }
 ],
 "metadata": {
  "kernelspec": {
   "display_name": "Python 2",
   "language": "python",
   "name": "python2"
  },
  "language_info": {
   "codemirror_mode": {
    "name": "ipython",
    "version": 2
   },
   "file_extension": ".py",
   "mimetype": "text/x-python",
   "name": "python",
   "nbconvert_exporter": "python",
   "pygments_lexer": "ipython2",
   "version": "2.7.13"
  }
 },
 "nbformat": 4,
 "nbformat_minor": 0
}
