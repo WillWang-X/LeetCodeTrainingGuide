{
 "cells": [
  {
   "cell_type": "markdown",
   "metadata": {},
   "source": [
    "# Stack(20)"
   ]
  },
  {
   "cell_type": "markdown",
   "metadata": {},
   "source": [
    "![data structures](https://www.cs.rochester.edu/~brown/172/pics/data_structures_01.jpg)\n",
    "\n",
    "-----"
   ]
  },
  {
   "cell_type": "markdown",
   "metadata": {},
   "source": [
    "## What is a Stack?\n",
    "\n",
    "Considering this reversal property, you can perhaps think of examples of stacks that occur as you use your computer. For example, every web browser has a Back button. As you navigate from web page to web page, those pages are placed on a stack (actually it is the URLs that are going on the stack). The current page that you are viewing is on the top and the first page you looked at is at the base. If you click on the Back button, you begin to move in reverse order through the pages."
   ]
  },
  {
   "cell_type": "markdown",
   "metadata": {},
   "source": [
    "![Example of Stack in daily life](http://interactivepython.org/courselib/static/pythonds/_images/bookstack2.png)\n",
    "\n",
    "![Stack](https://upload.wikimedia.org/wikipedia/commons/b/b4/Lifo_stack.png)"
   ]
  },
  {
   "cell_type": "markdown",
   "metadata": {},
   "source": [
    "## Practice on Stack\n",
    "\n",
    "|  #  | Title           |  Solution       |  Time           | Space           | Difficulty    | Tag          | Note| \n",
    "|-----|---------------- | --------------- | --------------- | --------------- | ------------- |--------------|-----|\n",
    "|20| [Valid Parentheses](https://leetcode.com/problems/valid-parentheses/)| [C++](./C++/valid-parentheses.cpp) [Python](./Python/valid-parentheses.py) | _O(n)_        | _O(n)_          | Easy           |||\n",
    "|32| [Longest Valid Parentheses](https://leetcode.com/problems/longest-valid-parentheses/)| [C++](./C++/longest-valid-parentheses.cpp) [Python](./Python/longest-valid-parentheses.py) | _O(n)_ | _O(1)_ | Hard   |||\n",
    "|71| [Simplify Path](https://leetcode.com/problems/simplify-path/)| [C++](./C++/simplify-path.cpp) [Python](./Python/simplify-path.py) | _O(n)_        | _O(n)_          | Medium         |||\n",
    "|84| [Largest Rectangle in Histogram](https://leetcode.com/problems/largest-rectangle-in-histogram/) | [C++](./C++/largest-rectangle-in-histogram.cpp) [Python](./Python/largest-rectangle-in-histogram.py) | _O(n)_ | _O(n)_ | Hard || Ascending Stack, DP \n",
    "|85| [Maximal Rectangle](https://leetcode.com/problems/maximal-rectangle/)| [C++](./C++/maximal-rectangle.cpp)  [Python](./Python/maximal-rectangle.py)| _O(m * n)_ | _O(n)_         | Hard           | EPI | Ascending Stack|\n",
    "|101| [Symmetric Tree](https://leetcode.com/problems/symmetric-tree/)| [C++](./C++/symmetric-tree.cpp) [Python](./Python/symmetric-tree.py) | _O(n)_      | _O(h)_          | Easy           |||\n",
    "|150| [Evaluate Reverse Polish Notation](https://leetcode.com/problems/evaluate-reverse-polish-notation/)| [C++](./C++/evaluate-reverse-polish-notation.cpp) [Python](./Python/evaluate-reverse-polish-notation.py)| _O(n)_| _O(n)_| Medium          |||\n",
    "|155| [Min Stack](https://leetcode.com/problems/min-stack/)     | [C++](./C++/min-stack.cpp) [Python](./Python/min-stack.py)  | _O(n)_          | _O(1)_          | Easy           |||\n",
    "|173| [Binary Search Tree Iterator](https://leetcode.com/problems/binary-search-tree-iterator/) | [C++](./C++/binary-search-tree-iterator.cpp) [Python](./Python/binary-search-tree-iterator.py) | _O(1)_| _O(h)_| Medium |||   \n",
    "|224| [Basic Calculator](https://leetcode.com/problems/basic-calculator/) | [C++](./C++/basic-calculator.cpp) [Python](./Python/basic-calculator.py) | _O(n)_| _O(n)_| Hard |||\n",
    "|227| [Basic Calculator II](https://leetcode.com/problems/basic-calculator-ii/) | [C++](./C++/basic-calculator-ii.cpp) [Python](./Python/basic-calculator-ii.py) | _O(n)_| _O(n)_| Medium |||\n",
    "|232| [Implement Queue using Stacks](https://leetcode.com/problems/implement-queue-using-stacks/) | [C++](./C++/implement-queue-using-stacks.cpp) [Python](./Python/implement-queue-using-stacks.py) | _O(1), amortized_| _O(n)_| Easy | EPI, LintCode ||\n",
    "|255| [Verify Preorder Sequence in Binary Search Tree](https://leetcode.com/problems/verify-preorder-sequence-in-binary-search-tree/) | [C++](./C++/verify-preorder-sequence-in-binary-search-tree.cpp) [Python](./Python/verify-preorder-sequence-in-binary-search-tree.py) | _O(n)_| _O(1)_| Medium |📖||\n",
    "|272| [Closest Binary Search Tree Value II](https://leetcode.com/problems/closest-binary-search-tree-value-ii/) | [C++](./C++/closest-binary-search-tree-value-ii.cpp) [Python](./Python/closest-binary-search-tree-value-ii.py) | _O(h + k)_| _O(h)_| Hard |📖||\n",
    "|331| [Verify Preorder Serialization of a Binary Tree](https://leetcode.com/problems/verify-preorder-serialization-of-a-binary-tree/) | [C++](./C++/verify-preorder-serialization-of-a-binary-tree.cpp) [Python](./Python/verify-preorder-serialization-of-a-binary-tree.py) | _O(n)_| _O(1)_| Medium |||\n",
    "|341| [Flatten Nested List Iterator](https://leetcode.com/problems/flatten-nested-list-iterator/)| [C++](./C++/flatten-nested-list-iterator.cpp) [Python](./Python/flatten-nested-list-iterator.py) | _O(n)_        | _O(h)_          | Medium           |📖| Iterator |\n",
    "|385| [Mini Parser](https://leetcode.com/problems/mini-parser/)| [C++](./C++/mini-parser.cpp) [Python](./Python/mini-parser.py) | _O(n)_        | _O(h)_          | Medium           |||\n",
    "|394| [Decode String](https://leetcode.com/problems/decode-string/)| [C++](./C++/decode-string.cpp) [Python](./Python/decode-string.py) | _O(n)_        | _O(h)_          | Medium           |||\n",
    "|439| [Ternary Expression Parser](https://leetcode.com/problems/ternary-expression-parser/) | [C++](./C++/ternary-expression-parser.cpp) [Python](./Python/ternary-expression-parser.py) | _O(n)_          | _O(1)_          | Medium           |📖||\n",
    "|456| [132 Pattern](https://leetcode.com/problems/132-pattern/) | [C++](./C++/132-pattern.cpp) [Python](./Python/132-pattern.py) | _O(n)_          | _O(n)_          | Medium           |||"
   ]
  },
  {
   "cell_type": "markdown",
   "metadata": {},
   "source": [
    "## 1. [Valid Parentheses](https://leetcode.com/problems/valid-parentheses/)"
   ]
  },
  {
   "cell_type": "markdown",
   "metadata": {},
   "source": [
    "Given a string containing just the characters '(', ')', '{', '}', '[' and ']', determine if the input string is valid.\n",
    "\n",
    "The brackets must close in the correct order, \"()\" and \"()[]{}\" are all valid but \"(]\" and \"([)]\" are not."
   ]
  },
  {
   "cell_type": "markdown",
   "metadata": {},
   "source": [
    "### Solution1"
   ]
  },
  {
   "cell_type": "code",
   "execution_count": 28,
   "metadata": {
    "collapsed": true
   },
   "outputs": [],
   "source": [
    "# Time: O(n)\n",
    "# Space: O(n)\n",
    "# Valid Parentheses \n",
    "\n",
    "class Solution(object):\n",
    "    def isValid(self, s):\n",
    "        \"\"\"\n",
    "        :type s: str\n",
    "        :rtype: bool\n",
    "        \"\"\"\n",
    "        stack = []\n",
    "        bracket = {\"(\":\")\",\"{\":\"}\",\"[\":\"]\"}\n",
    "        for b in s:\n",
    "            if b in bracket:\n",
    "                stack.append(b)\n",
    "#                 print('stack:',stack)\n",
    "            elif len(stack) == 0 or bracket[stack.pop()] != b: # handle \"[(\" or \"([)]\"\n",
    "                return False \n",
    "        return len(stack) == 0 # handle \"(\""
   ]
  },
  {
   "cell_type": "markdown",
   "metadata": {},
   "source": [
    "### Notes"
   ]
  },
  {
   "cell_type": "code",
   "execution_count": 29,
   "metadata": {
    "collapsed": false,
    "scrolled": false
   },
   "outputs": [
    {
     "name": "stdout",
     "output_type": "stream",
     "text": [
      "True\n",
      "False\n",
      "False\n",
      "False\n",
      "True\n",
      "True\n"
     ]
    }
   ],
   "source": [
    "print Solution().isValid(\"\")\n",
    "print Solution().isValid(\"[(])\")\n",
    "print Solution().isValid(\"(\")\n",
    "print Solution().isValid(\"()[{]}\")\n",
    "print Solution().isValid(\"([])\")\n",
    "print Solution().isValid(\"([])\")"
   ]
  },
  {
   "cell_type": "code",
   "execution_count": 24,
   "metadata": {
    "collapsed": false
   },
   "outputs": [
    {
     "name": "stdout",
     "output_type": "stream",
     "text": [
      "('stack:', ['('])\n",
      "('stack:', ['['])\n",
      "('stack:', ['{'])\n",
      "[]\n",
      "True\n"
     ]
    }
   ],
   "source": [
    "print Solution().isValid(\"()[]{}\")"
   ]
  },
  {
   "cell_type": "code",
   "execution_count": 23,
   "metadata": {
    "collapsed": false
   },
   "outputs": [
    {
     "name": "stdout",
     "output_type": "stream",
     "text": [
      "('stack:', ['('])\n",
      "('stack:', ['(', '['])\n",
      "[]\n",
      "True\n"
     ]
    }
   ],
   "source": [
    "print Solution().isValid(\"([])\")"
   ]
  },
  {
   "cell_type": "markdown",
   "metadata": {},
   "source": [
    "## 2. [Longest Valid Parentheses](https://leetcode.com/problems/longest-valid-parentheses/)"
   ]
  },
  {
   "cell_type": "markdown",
   "metadata": {},
   "source": [
    "Given a string containing just the characters '(' and ')', \n",
    "\n",
    "find the length of the longest valid (well-formed) parentheses substring.\n",
    "\n",
    "For \"(()\", the longest valid parentheses substring is \"()\", which has length = 2.\n",
    "\n",
    "Another example is \")()())\", where the longest valid parentheses substring is \"()()\", which has length = 4."
   ]
  },
  {
   "cell_type": "code",
   "execution_count": 36,
   "metadata": {
    "collapsed": true
   },
   "outputs": [],
   "source": [
    "# Time: O(n)\n",
    "# Space: O(1)\n",
    "# Longest Valid Parentheses\n",
    "'''\n",
    "Note:\n",
    "Pattern \n",
    "0. Start ))), change the start index -1 -> 2 \n",
    "1. Max: ())))))()()() result: 1 -> 2 \n",
    "2. Index  012345678  this is how comptuer counts \n",
    "'''\n",
    "\n",
    "class Solution(object):\n",
    "    def longestValidParentheses(self, s):\n",
    "        \"\"\"\n",
    "        :type s: str\n",
    "        :rtype: int\n",
    "        \"\"\"\n",
    "        stack = []\n",
    "        result = 0 \n",
    "        stack.append(-1)\n",
    "        \n",
    "        for i in range(len(s)):\n",
    "            if s[i] == '(':\n",
    "                stack.append(i)\n",
    "            else:\n",
    "                stack.pop()\n",
    "                if len(stack)>0:\n",
    "                    result = max(i-stack[-1], result)\n",
    "                else:\n",
    "                    stack.append(i)  # '))))'\n",
    "        return result \n",
    "    "
   ]
  },
  {
   "cell_type": "code",
   "execution_count": 37,
   "metadata": {
    "collapsed": false
   },
   "outputs": [
    {
     "name": "stdout",
     "output_type": "stream",
     "text": [
      "0\n",
      "8\n",
      "0\n",
      "4\n"
     ]
    }
   ],
   "source": [
    "print Solution().longestValidParentheses(\"\")\n",
    "print Solution().longestValidParentheses(\"))))(((())))\")\n",
    "print Solution().longestValidParentheses(\"))))\")\n",
    "print Solution().longestValidParentheses(\"(()))())(\")"
   ]
  },
  {
   "cell_type": "markdown",
   "metadata": {},
   "source": [
    "### Notes\n",
    "- [Length of the longest valid substring | GeeksforGeeks](https://www.youtube.com/watch?v=AIhyd8lMpIo)\n",
    "- http://www.geeksforgeeks.org/length-of-the-longest-valid-substring/"
   ]
  },
  {
   "cell_type": "markdown",
   "metadata": {},
   "source": [
    "## 3. [Simplify Path](https://leetcode.com/problems/simplify-path/#/description)\n",
    "\n",
    "Given an absolute path for a file (Unix-style), simplify it.\n",
    "\n",
    "For example,\n",
    "\n",
    "path = \"/home/\", => \"/home\"\n",
    "\n",
    "path = \"/a/./b/../../c/\", => \"/c\""
   ]
  },
  {
   "cell_type": "markdown",
   "metadata": {},
   "source": [
    "![simplify Path](https://raw.githubusercontent.com/WillWang-X/LeetCode/master/pictures/simplify_path.jpg)"
   ]
  },
  {
   "cell_type": "markdown",
   "metadata": {},
   "source": [
    "### Solutions"
   ]
  },
  {
   "cell_type": "code",
   "execution_count": 45,
   "metadata": {
    "collapsed": true
   },
   "outputs": [],
   "source": [
    "# Time: O(n)\n",
    "# Space: O(n)\n",
    "# Simplify Path\n",
    "# tinker until it works\n",
    "\n",
    "class Solution(object):\n",
    "    def simplifyPath(self, path):\n",
    "        \"\"\"\n",
    "        :type path: str\n",
    "        :rtype: str\n",
    "        \"\"\"\n",
    "        path = path.split('/')\n",
    "        simple = []\n",
    "        result = str()\n",
    "        for p in path:\n",
    "            if p in ['','.']:\n",
    "                continue \n",
    "            if p == '..':\n",
    "                if len(simple) != 0: # handle \"/..\"\n",
    "                    simple.pop()\n",
    "            else:\n",
    "                simple.append(p)\n",
    "        for each in simple:\n",
    "            result += '/'\n",
    "            result += each\n",
    "        if not result:\n",
    "            return '/'\n",
    "        return result\n",
    "        "
   ]
  },
  {
   "cell_type": "code",
   "execution_count": 46,
   "metadata": {
    "collapsed": false,
    "scrolled": true
   },
   "outputs": [
    {
     "name": "stdout",
     "output_type": "stream",
     "text": [
      "/c\n"
     ]
    }
   ],
   "source": [
    "print Solution().simplifyPath(\"/a/./b/../../c/\") # Expected: /c\n",
    "print Solution().simplifyPath(\"/..\")  # /\n",
    "print Solution().simplifyPath(\"/\")  # /"
   ]
  },
  {
   "cell_type": "code",
   "execution_count": null,
   "metadata": {
    "collapsed": true
   },
   "outputs": [],
   "source": [
    "# a good habit of programming \n",
    "\n",
    "class Solution(object):\n",
    "    def simplifyPath(self, path):\n",
    "        \"\"\"\n",
    "        :type path: str\n",
    "        :rtype: str\n",
    "        \"\"\"\n",
    "        stack = []\n",
    "        tokens = path.split('/')\n",
    "        \n",
    "        for token in tokens:\n",
    "            if token == '..' and stack: # if stack exist and .. , then pop\n",
    "                stack.pop()\n",
    "            elif token != '..' and token != \".\" and token:\n",
    "                stack.append(token)\n",
    "            return \"/\" + \"/\".join(stack)  # handle '/'"
   ]
  },
  {
   "cell_type": "markdown",
   "metadata": {},
   "source": [
    "### Notes "
   ]
  },
  {
   "cell_type": "markdown",
   "metadata": {},
   "source": [
    "related: Valid Parentheses"
   ]
  },
  {
   "cell_type": "code",
   "execution_count": 41,
   "metadata": {
    "collapsed": false
   },
   "outputs": [
    {
     "name": "stdout",
     "output_type": "stream",
     "text": [
      "['', 'a', '.', 'b', '..', '..', 'c', '']\n",
      "//a/./b/../../c/\n"
     ]
    }
   ],
   "source": [
    "s = \"/a/./b/../../c/\"\n",
    "s = s.split('/')\n",
    "print(s)\n",
    "t = str()\n",
    "for each in s:\n",
    "    t += '/'\n",
    "    t += each\n",
    "print(t)"
   ]
  },
  {
   "cell_type": "code",
   "execution_count": 48,
   "metadata": {
    "collapsed": false
   },
   "outputs": [
    {
     "name": "stdout",
     "output_type": "stream",
     "text": [
      "test\n"
     ]
    }
   ],
   "source": [
    "result = str()\n",
    "if not result:\n",
    "    print('test')"
   ]
  },
  {
   "cell_type": "markdown",
   "metadata": {
    "collapsed": true
   },
   "source": [
    "## 4. [Largest Rectangle in Histogram](https://leetcode.com/problems/largest-rectangle-in-histogram/)"
   ]
  },
  {
   "cell_type": "markdown",
   "metadata": {},
   "source": [
    "Given n non-negative integers representing the histogram's bar height where the width of each bar is 1, find the area of largest rectangle in the histogram.\n",
    "\n",
    "\n",
    "Above is a histogram where width of each bar is 1, given height = [2,1,5,6,2,3].\n",
    "\n",
    "\n",
    "The largest rectangle is shown in the shaded area, which has area = 10 unit.\n",
    "\n",
    "For example,\n",
    "Given heights = [2,1,5,6,2,3],\n",
    "return 10."
   ]
  },
  {
   "cell_type": "markdown",
   "metadata": {},
   "source": [
    "![Solution](https://raw.githubusercontent.com/WillWang-X/LeetCode/master/pictures/Largest_Rectangle_in_Histogram.png) "
   ]
  },
  {
   "cell_type": "markdown",
   "metadata": {},
   "source": [
    "### Solution "
   ]
  },
  {
   "cell_type": "code",
   "execution_count": null,
   "metadata": {
    "collapsed": true
   },
   "outputs": [],
   "source": [
    "\n",
    "\n",
    "\n",
    "\n",
    "\n",
    "\n",
    "\n",
    "\n",
    "\n",
    "\n",
    "\n",
    "\n",
    "class Solution:\n",
    "    # @param height, a list of integer\n",
    "    # @return an integer\n",
    "    def largestRectangleArea(self, height):\n",
    "        increasing, area, i = [], 0, 0\n",
    "        while i <= len(height):\n",
    "            if not increasing or (i < len(height) and height[i] > height[increasing[-1]]):\n",
    "                increasing.append(i)\n",
    "                i += 1\n",
    "            else:\n",
    "                last = increasing.pop()\n",
    "                if not increasing:\n",
    "                    area = max(area, height[last] * i)\n",
    "                else:\n",
    "                    area = max(area, height[last] * (i - increasing[-1] - 1 ))\n",
    "        return area"
   ]
  },
  {
   "cell_type": "markdown",
   "metadata": {},
   "source": [
    "### Notes:\n",
    "- [Maximum Rectangular Area in Histogram](https://www.youtube.com/watch?v=ZmnqCZp9bBs)"
   ]
  },
  {
   "cell_type": "markdown",
   "metadata": {},
   "source": [
    "## 5. [Maximal Rectangle](https://leetcode.com/problems/maximal-rectangle/)"
   ]
  },
  {
   "cell_type": "code",
   "execution_count": null,
   "metadata": {
    "collapsed": true
   },
   "outputs": [],
   "source": [
    "Given a 2D binary matrix filled with 0's and 1's, find the largest rectangle containing only 1's and return its area.\n",
    "\n",
    "For example, given the following matrix:\n",
    "\n",
    "1 0 1 0 0\n",
    "1 0 1 1 1\n",
    "1 1 1 1 1\n",
    "1 0 0 1 0\n",
    "\n",
    "Return 6."
   ]
  },
  {
   "cell_type": "markdown",
   "metadata": {},
   "source": [
    "## 6.  [Symmetric Tree](https://leetcode.com/problems/symmetric-tree/)"
   ]
  },
  {
   "cell_type": "code",
   "execution_count": null,
   "metadata": {
    "collapsed": true
   },
   "outputs": [],
   "source": [
    "Given a binary tree, check whether it is a mirror of itself (ie, symmetric around its center).\n",
    "\n",
    "For example, this binary tree [1,2,2,3,4,4,3] is symmetric:\n",
    "\n",
    "    1\n",
    "   / \\\n",
    "  2   2\n",
    " / \\ / \\\n",
    "3  4 4  3\n",
    "But the following [1,2,2,null,3,null,3] is not:\n",
    "    1\n",
    "   / \\\n",
    "  2   2\n",
    "   \\   \\\n",
    "   3    3\n",
    "Note:\n",
    "Bonus points if you could solve it both recursively and iteratively."
   ]
  },
  {
   "cell_type": "markdown",
   "metadata": {},
   "source": [
    "## 7. [Evaluate Reverse Polish Notation](https://leetcode.com/problems/evaluate-reverse-polish-notation/)"
   ]
  },
  {
   "cell_type": "code",
   "execution_count": null,
   "metadata": {
    "collapsed": true
   },
   "outputs": [],
   "source": [
    "Evaluate the value of an arithmetic expression in Reverse Polish Notation.\n",
    "\n",
    "Valid operators are +, -, *, /. Each operand may be an integer or another expression.\n",
    "\n",
    "Some examples:\n",
    "  [\"2\", \"1\", \"+\", \"3\", \"*\"] -> ((2 + 1) * 3) -> 9\n",
    "  [\"4\", \"13\", \"5\", \"/\", \"+\"] -> (4 + (13 / 5)) -> 6"
   ]
  },
  {
   "cell_type": "markdown",
   "metadata": {},
   "source": [
    "## 8.  [Min Stack](https://leetcode.com/problems/min-stack/)  "
   ]
  },
  {
   "cell_type": "code",
   "execution_count": null,
   "metadata": {
    "collapsed": true
   },
   "outputs": [],
   "source": [
    "Design a stack that supports push, pop, top, and retrieving the minimum element in constant time.\n",
    "\n",
    "push(x) -- Push element x onto stack.\n",
    "pop() -- Removes the element on top of the stack.\n",
    "top() -- Get the top element.\n",
    "getMin() -- Retrieve the minimum element in the stack.\n",
    "\n",
    "Example:\n",
    "\n",
    "MinStack minStack = new MinStack();\n",
    "minStack.push(-2);\n",
    "minStack.push(0);\n",
    "minStack.push(-3);\n",
    "minStack.getMin();   --> Returns -3.\n",
    "minStack.pop();\n",
    "minStack.top();      --> Returns 0.\n",
    "minStack.getMin();   --> Returns -2."
   ]
  },
  {
   "cell_type": "markdown",
   "metadata": {},
   "source": [
    "# 9. |173| [Binary Search Tree Iterator](https://leetcode.com/problems/binary-search-tree-iterator/) | [C++](./C++/binary-search-tree-iterator.cpp) [Python](./Python/binary-search-tree-iterator.py) | _O(1)_| _O(h)_| Medium |||   \n"
   ]
  },
  {
   "cell_type": "code",
   "execution_count": null,
   "metadata": {
    "collapsed": true
   },
   "outputs": [],
   "source": [
    "Implement an iterator over a binary search tree (BST). Your iterator will be initialized with the root node of a BST.\n",
    "\n",
    "Calling next() will return the next smallest number in the BST.\n",
    "\n",
    "Note: next() and hasNext() should run in average O(1) time and uses O(h) memory, where h is the height of the tree."
   ]
  },
  {
   "cell_type": "code",
   "execution_count": null,
   "metadata": {
    "collapsed": true
   },
   "outputs": [],
   "source": [
    "# Time:  average O(1)\n",
    "# Space: O(h)\n",
    "# 173. Binary Search Tree Iterator\n",
    "\n",
    "\n",
    "# Definition for a  binary tree node\n",
    "# class TreeNode(object):\n",
    "#     def __init__(self, x):\n",
    "#         self.val = x\n",
    "#         self.left = None\n",
    "#         self.right = None\n",
    "\n",
    "class BSTIterator(object):\n",
    "    def __init__(self, root):\n",
    "        \"\"\"\n",
    "        :type root: TreeNode\n",
    "        \"\"\"\n",
    "        self.stack = []\n",
    "        self.cur = root\n",
    "        \n",
    "    def hasNext(self):\n",
    "        \"\"\"\n",
    "        :rtype: bool\n",
    "        \"\"\"\n",
    "        return self.stack or self.cur \n",
    "\n",
    "    def next(self):\n",
    "        \"\"\"\n",
    "        :rtype: int\n",
    "        \"\"\"     \n",
    "        # left - root - right: 1) root - [right] 2)  left - root - right | just father = son \n",
    "        # if right is none, pass while, just push root \n",
    "        # if right, push all node.left, ready to pop the next smallest one\n",
    "        \n",
    "        # if entrance, push the smallest one\n",
    "        while self.cur:\n",
    "            self.stack.append(self.cur) \n",
    "            self.cur = self.cur.left\n",
    "            \n",
    "            \n",
    "        self.cur = self.stack.pop() # pop the current smallest one\n",
    "        node = self.cur             # ready to go out \n",
    "        self.cur = self.cur.right   # point to the entrance of next potenial smallest one\n",
    "        \n",
    "        return node.val\n",
    "\n",
    "# Your BSTIterator will be called like this:\n",
    "# i, v = BSTIterator(root), []\n",
    "# while i.hasNext(): v.append(i.next())"
   ]
  },
  {
   "cell_type": "markdown",
   "metadata": {},
   "source": [
    "# 10. |224| [Basic Calculator](https://leetcode.com/problems/basic-calculator/) | [C++](./C++/basic-calculator.cpp) [Python](./Python/basic-calculator.py) | _O(n)_| _O(n)_| Hard |||\n"
   ]
  },
  {
   "cell_type": "code",
   "execution_count": null,
   "metadata": {
    "collapsed": true
   },
   "outputs": [],
   "source": [
    "Implement a basic calculator to evaluate a simple expression string.\n",
    "\n",
    "The expression string may contain open ( and closing parentheses ), \n",
    "the plus + or minus sign -, non-negative integers and empty spaces .\n",
    "\n",
    "You may assume that the given expression is always valid.\n",
    "\n",
    "Some examples:\n",
    "\"1 + 1\" = 2\n",
    "\" 2-1 + 2 \" = 3\n",
    "\"(1+(4+5+2)-3)+(6+8)\" = 23"
   ]
  },
  {
   "cell_type": "code",
   "execution_count": 8,
   "metadata": {
    "collapsed": false
   },
   "outputs": [
    {
     "name": "stdout",
     "output_type": "stream",
     "text": [
      "-1\n"
     ]
    }
   ],
   "source": [
    "ss = '-'\n",
    "sign = [-1, 1][ss==\"+\"]\n",
    "print sign"
   ]
  },
  {
   "cell_type": "code",
   "execution_count": 44,
   "metadata": {
    "collapsed": true
   },
   "outputs": [],
   "source": [
    "# Time: O(n)\n",
    "# Space: O(n)\n",
    "# 224. Basic Calculator\n",
    "\n",
    "class Solution(object):\n",
    "    def calculate(self, s):\n",
    "        \"\"\"\n",
    "        :type s: str\n",
    "        :rtype: int\n",
    "        \"\"\"\n",
    "        # e.g. 3 + 44444444\n",
    "        # when we meet \"+-\" \")\" (like END sign), we need to calculate {res = res + sign * num}, just like \"=\"  \n",
    "        # e.g. 3 + (....)\n",
    "        # we need to push/store \"res\"('num') and \"sign\"\n",
    "        res, num, sign, stack = 0, 0, 1, []\n",
    "        for i in s:\n",
    "            print i\n",
    "            if i.isdigit():\n",
    "                num = 10 * num + int(i)\n",
    "            elif i in \"+-\":  \n",
    "                res += sign * num\n",
    "                num = 0\n",
    "                sign = [-1, 1][i == \"+\"]\n",
    "            elif i == \"(\":\n",
    "                stack.append(res)\n",
    "                stack.append(sign)\n",
    "                res, sign = 0, 1\n",
    "            elif i == \")\":\n",
    "                res += sign * num\n",
    "                res *= stack.pop()\n",
    "                res += stack.pop()\n",
    "                num = 0 \n",
    "            print 'res:',res\n",
    "            print 'num:',num\n",
    "            print'sign:',sign\n",
    "            print 'stack:',stack\n",
    "        return res + num * sign  "
   ]
  },
  {
   "cell_type": "code",
   "execution_count": 45,
   "metadata": {
    "collapsed": false,
    "scrolled": false
   },
   "outputs": [
    {
     "name": "stdout",
     "output_type": "stream",
     "text": [
      "(\n",
      "res: 0\n",
      "num: 0\n",
      "sign: 1\n",
      "stack: [0, 1]\n",
      "1\n",
      "res: 0\n",
      "num: 1\n",
      "sign: 1\n",
      "stack: [0, 1]\n",
      "+\n",
      "res: 1\n",
      "num: 0\n",
      "sign: 1\n",
      "stack: [0, 1]\n",
      "(\n",
      "res: 0\n",
      "num: 0\n",
      "sign: 1\n",
      "stack: [0, 1, 1, 1]\n",
      "4\n",
      "res: 0\n",
      "num: 4\n",
      "sign: 1\n",
      "stack: [0, 1, 1, 1]\n",
      "+\n",
      "res: 4\n",
      "num: 0\n",
      "sign: 1\n",
      "stack: [0, 1, 1, 1]\n",
      "5\n",
      "res: 4\n",
      "num: 5\n",
      "sign: 1\n",
      "stack: [0, 1, 1, 1]\n",
      "+\n",
      "res: 9\n",
      "num: 0\n",
      "sign: 1\n",
      "stack: [0, 1, 1, 1]\n",
      "2\n",
      "res: 9\n",
      "num: 2\n",
      "sign: 1\n",
      "stack: [0, 1, 1, 1]\n",
      ")\n",
      "res: 12\n",
      "num: 0\n",
      "sign: 1\n",
      "stack: [0, 1]\n",
      "-\n",
      "res: 12\n",
      "num: 0\n",
      "sign: -1\n",
      "stack: [0, 1]\n",
      "3\n",
      "res: 12\n",
      "num: 3\n",
      "sign: -1\n",
      "stack: [0, 1]\n",
      ")\n",
      "res: 9\n",
      "num: 0\n",
      "sign: -1\n",
      "stack: []\n",
      "+\n",
      "res: 9\n",
      "num: 0\n",
      "sign: 1\n",
      "stack: []\n",
      "(\n",
      "res: 0\n",
      "num: 0\n",
      "sign: 1\n",
      "stack: [9, 1]\n",
      "6\n",
      "res: 0\n",
      "num: 6\n",
      "sign: 1\n",
      "stack: [9, 1]\n",
      "+\n",
      "res: 6\n",
      "num: 0\n",
      "sign: 1\n",
      "stack: [9, 1]\n",
      "8\n",
      "res: 6\n",
      "num: 8\n",
      "sign: 1\n",
      "stack: [9, 1]\n",
      ")\n",
      "res: 23\n",
      "num: 0\n",
      "sign: 1\n",
      "stack: []\n",
      "23\n"
     ]
    }
   ],
   "source": [
    "print Solution().calculate(\"(1+(4+5+2)-3)+(6+8)\")"
   ]
  },
  {
   "cell_type": "code",
   "execution_count": null,
   "metadata": {
    "collapsed": true
   },
   "outputs": [],
   "source": [
    "https://discuss.leetcode.com/topic/15806/easy-18-lines-c-16-lines-python\n",
    "https://discuss.leetcode.com/topic/25775/python-concise-solution-with-stack/2\n",
    "https://discuss.leetcode.com/topic/37951/python-with-stack\n",
    "https://discuss.leetcode.com/topic/25775/python-concise-solution-with-stack/2"
   ]
  },
  {
   "cell_type": "markdown",
   "metadata": {},
   "source": [
    "# 11. |227| [Basic Calculator II](https://leetcode.com/problems/basic-calculator-ii/) | [C++](./C++/basic-calculator-ii.cpp) [Python](./Python/basic-calculator-ii.py) | _O(n)_| _O(n)_| Medium |||\n"
   ]
  },
  {
   "cell_type": "code",
   "execution_count": null,
   "metadata": {
    "collapsed": true
   },
   "outputs": [],
   "source": [
    "Implement a basic calculator to evaluate a simple expression string.\n",
    "\n",
    "The expression string contains only non-negative integers, +, -, *, / operators and empty spaces . \n",
    "The integer division should truncate toward zero.\n",
    "\n",
    "You may assume that the given expression is always valid.\n",
    "\n",
    "Some examples:\n",
    "\"3+2*2\" = 7\n",
    "\" 3/2 \" = 1\n",
    "\" 3+5 / 2 \" = 5\n",
    "Note: Do not use the eval built-in library function."
   ]
  },
  {
   "cell_type": "code",
   "execution_count": 42,
   "metadata": {
    "collapsed": true
   },
   "outputs": [],
   "source": [
    "# Time:  O(n)\n",
    "# Space: O(n)\n",
    "# 227. Basic Calculator II\n",
    "\n",
    "class Solution:\n",
    "    def calculate(self, s):\n",
    "        \"\"\"\n",
    "        :type s: str\n",
    "        :rtype: int\n",
    "        \"\"\"        \n",
    "        operands, operators = [], []\n",
    "        operand = \"\"\n",
    "        for i in reversed(xrange(len(s))):\n",
    "            print i, s[i]\n",
    "            if s[i].isdigit():\n",
    "                operand += s[i]\n",
    "                if i == 0  or not s[i-1].isdigit():\n",
    "                    operands.append(int(operand[::-1]))\n",
    "                    operand = \"\"\n",
    "            elif s[i] == '*' or s[i] == '/':\n",
    "                operators.append(s[i])\n",
    "            elif s[i] == '+' or s[i] == '-':\n",
    "                while operators and (operators[-1] == '*' or operators[-1] == '/'): # out of index \n",
    "                    self.compute(operands, operators)\n",
    "                operators.append(s[i])\n",
    "            # elif s[i] == '(':\n",
    "            #     while operators[-1] != ')':\n",
    "            #         self.compute(operands, operators)\n",
    "            #     operators.pop()\n",
    "            print 'operands:', operands\n",
    "            print 'operators:', operators\n",
    "            \n",
    "        while operators:\n",
    "            self.compute(operands, operators)\n",
    "            \n",
    "        return operands[-1]\n",
    "\n",
    "    def compute(self, operands, operators):\n",
    "        left, right = operands.pop(), operands.pop()\n",
    "        op = operators.pop()\n",
    "        if op == '+':\n",
    "            operands.append(left + right)\n",
    "        elif op == '-':\n",
    "            operands.append(left - right)\n",
    "        elif op == '*':\n",
    "            operands.append(left * right)\n",
    "        elif op == '/':\n",
    "            operands.append(left / right)"
   ]
  },
  {
   "cell_type": "code",
   "execution_count": null,
   "metadata": {
    "collapsed": true
   },
   "outputs": [],
   "source": [
    "https://www.wikiwand.com/en/Reverse_Polish_notation"
   ]
  },
  {
   "cell_type": "code",
   "execution_count": 43,
   "metadata": {
    "collapsed": false,
    "scrolled": true
   },
   "outputs": [
    {
     "name": "stdout",
     "output_type": "stream",
     "text": [
      "2 2\n",
      "operands: [2]\n",
      "operators: []\n",
      "1 +\n",
      "operands: [2]\n",
      "operators: ['+']\n",
      "0 1\n",
      "operands: [2, 1]\n",
      "operators: ['+']\n",
      "3\n"
     ]
    }
   ],
   "source": [
    "print Solution().calculate(\"1+2\")"
   ]
  },
  {
   "cell_type": "code",
   "execution_count": 36,
   "metadata": {
    "collapsed": false,
    "scrolled": true
   },
   "outputs": [
    {
     "name": "stdout",
     "output_type": "stream",
     "text": [
      "4 2\n",
      "operands: [2]\n",
      "operators: []\n",
      "3 *\n",
      "operands: [2]\n",
      "operators: ['*']\n",
      "2 2\n",
      "operands: [2, 2]\n",
      "operators: ['*']\n",
      "1 +\n",
      "operands: [4]\n",
      "operators: ['+']\n",
      "0 3\n",
      "operands: [4, 3]\n",
      "operators: ['+']\n",
      "7\n"
     ]
    }
   ],
   "source": [
    "print Solution().calculate(\"3+2*2\")"
   ]
  },
  {
   "cell_type": "code",
   "execution_count": 37,
   "metadata": {
    "collapsed": false
   },
   "outputs": [
    {
     "name": "stdout",
     "output_type": "stream",
     "text": [
      "4 2\n",
      "operands: [2]\n",
      "operators: []\n",
      "3 +\n",
      "operands: [2]\n",
      "operators: ['+']\n",
      "2 2\n",
      "operands: [2, 2]\n",
      "operators: ['+']\n",
      "1 +\n",
      "operands: [2, 2]\n",
      "operators: ['+', '+']\n",
      "0 3\n",
      "operands: [2, 2, 3]\n",
      "operators: ['+', '+']\n",
      "7\n"
     ]
    }
   ],
   "source": [
    "print Solution().calculate(\"3+2+2\")"
   ]
  },
  {
   "cell_type": "code",
   "execution_count": 39,
   "metadata": {
    "collapsed": false
   },
   "outputs": [
    {
     "name": "stdout",
     "output_type": "stream",
     "text": [
      "6 4\n",
      "operands: [4]\n",
      "operators: []\n",
      "5 +\n",
      "operands: [4]\n",
      "operators: ['+']\n",
      "4 3\n",
      "operands: [4, 3]\n",
      "operators: ['+']\n",
      "3 *\n",
      "operands: [4, 3]\n",
      "operators: ['+', '*']\n",
      "2 2\n",
      "operands: [4, 3, 2]\n",
      "operators: ['+', '*']\n",
      "1 +\n",
      "operands: [4, 6]\n",
      "operators: ['+', '+']\n",
      "0 1\n",
      "operands: [4, 6, 1]\n",
      "operators: ['+', '+']\n",
      "11\n"
     ]
    }
   ],
   "source": [
    "print Solution().calculate(\"1+2*3+4\")"
   ]
  },
  {
   "cell_type": "code",
   "execution_count": null,
   "metadata": {
    "collapsed": true
   },
   "outputs": [],
   "source": [
    "https://discuss.leetcode.com/topic/16803/easy-7-12-lines-three-solutions\n",
    "https://discuss.leetcode.com/topic/20688/o-n-time-o-1-space-python-260ms"
   ]
  },
  {
   "cell_type": "markdown",
   "metadata": {},
   "source": [
    "# 12. |232| [Implement Queue using Stacks](https://leetcode.com/problems/implement-queue-using-stacks/) | [C++](./C++/implement-queue-using-stacks.cpp) [Python](./Python/implement-queue-using-stacks.py) | _O(1), amortized_| _O(n)_| Easy | EPI, LintCode ||\n"
   ]
  },
  {
   "cell_type": "code",
   "execution_count": null,
   "metadata": {
    "collapsed": true
   },
   "outputs": [],
   "source": [
    "Implement the following operations of a queue using stacks.\n",
    "\n",
    "push(x) -- Push element x to the back of queue.\n",
    "pop() -- Removes the element from in front of queue.\n",
    "peek() -- Get the front element.\n",
    "empty() -- Return whether the queue is empty.\n",
    "\n",
    "Notes:\n",
    "You must use only standard operations of a stack -- which means only push to top, peek/pop from top, size, \n",
    "and is empty operations are valid.\n",
    "Depending on your language, stack may not be supported natively. \n",
    "You may simulate a stack by using a list or deque (double-ended queue), \n",
    "as long as you use only standard operations of a stack.\n",
    "You may assume that all operations are valid (for example, no pop or peek operations will be called on an empty queue)."
   ]
  },
  {
   "cell_type": "code",
   "execution_count": null,
   "metadata": {
    "collapsed": true
   },
   "outputs": [],
   "source": [
    "# Time:\n",
    "# Space: \n",
    "\n",
    "class Queue:\n",
    "    # initialize your data structure here.\n",
    "    def __init__(self):\n",
    "        self.A, self.B = [], []\n",
    "\n",
    "    # @param x, an integer\n",
    "    # @return nothing\n",
    "    def push(self, x):\n",
    "        self.A.append(x)\n",
    "\n",
    "    # @return nothing\n",
    "    def pop(self):\n",
    "        self.peek()\n",
    "        self.B.pop()\n",
    "        \n",
    "    # @return an integer\n",
    "    def peek(self):\n",
    "        if not self.B:\n",
    "            while self.A:\n",
    "                self.B.append(self.A.pop())\n",
    "        return self.B[-1]\n",
    "        \n",
    "    # @return an boolean\n",
    "    def empty(self):\n",
    "        return not self.A and not self.B"
   ]
  },
  {
   "cell_type": "markdown",
   "metadata": {},
   "source": [
    "# 13. |255| [Verify Preorder Sequence in Binary Search Tree](https://leetcode.com/problems/verify-preorder-sequence-in-binary-search-tree/) | [C++](./C++/verify-preorder-sequence-in-binary-search-tree.cpp) [Python](./Python/verify-preorder-sequence-in-binary-search-tree.py) | _O(n)_| _O(1)_| Medium |📖||\n"
   ]
  },
  {
   "cell_type": "markdown",
   "metadata": {},
   "source": [
    "# 14. |272| [Closest Binary Search Tree Value II](https://leetcode.com/problems/closest-binary-search-tree-value-ii/) | [C++](./C++/closest-binary-search-tree-value-ii.cpp) [Python](./Python/closest-binary-search-tree-value-ii.py) | _O(h + k)_| _O(h)_| Hard |📖||\n"
   ]
  },
  {
   "cell_type": "code",
   "execution_count": null,
   "metadata": {
    "collapsed": true
   },
   "outputs": [],
   "source": [
    "Given a non-empty binary search tree and a target value, find k values in the BST that are closest to the target.\n",
    "\n",
    "Note:\n",
    "    Given target value is a floating point.\n",
    "    You may assume k is always valid, that is: k ≤ total nodes.\n",
    "    You are guaranteed to have only one unique set of k values in the BST that are closest to the target.\n",
    "\n",
    "Follow up:\n",
    "Assume that the BST is balanced, could you solve it in less than O(n) runtime (where n = total nodes)?\n",
    "\n",
    "Hint:\n",
    "\n",
    "    Consider implement these two helper functions:\n",
    "    getPredecessor(N), which returns the next smaller node to N.\n",
    "    getSuccessor(N), which returns the next larger node to N.\n",
    "Try to assume that each node has a parent pointer, it makes the problem much easier.\n",
    "Without parent pointer we just need to keep track of the path from the root to the current node using a stack.\n",
    "You would need two stacks to track the path in finding predecessor and successor node separately."
   ]
  },
  {
   "cell_type": "code",
   "execution_count": null,
   "metadata": {
    "collapsed": true
   },
   "outputs": [],
   "source": [
    "二叉搜索树的中序遍历就是顺序输出二叉搜索树，所以我们只要中序遍历二叉搜索树，同时维护一个大小为K的队列，\n",
    "前K个数直接加入队列，之后每来一个新的数（较大的数），如果该数和目标的差，相比于队头的数离目标的差来说，\n",
    "更小，则将队头拿出来，将新数加入队列。如果该数的差更大，则直接退出并返回这个队列，因为后面的数更大，差值也只会更大。"
   ]
  },
  {
   "cell_type": "code",
   "execution_count": null,
   "metadata": {
    "collapsed": true
   },
   "outputs": [],
   "source": [
    "回眸一笑便是你。Stack\n",
    "\n",
    "1. 队列\n",
    "2. K+ \n",
    "3. stack "
   ]
  },
  {
   "cell_type": "code",
   "execution_count": null,
   "metadata": {
    "collapsed": true
   },
   "outputs": [],
   "source": [
    "https://segmentfault.com/a/1190000003797291"
   ]
  },
  {
   "cell_type": "markdown",
   "metadata": {},
   "source": [
    "# 15. |331| [Verify Preorder Serialization of a Binary Tree](https://leetcode.com/problems/verify-preorder-serialization-of-a-binary-tree/) | [C++](./C++/verify-preorder-serialization-of-a-binary-tree.cpp) [Python](./Python/verify-preorder-serialization-of-a-binary-tree.py) | _O(n)_| _O(1)_| Medium |||"
   ]
  },
  {
   "cell_type": "code",
   "execution_count": null,
   "metadata": {
    "collapsed": true
   },
   "outputs": [],
   "source": []
  },
  {
   "cell_type": "markdown",
   "metadata": {},
   "source": [
    "# 16. |341| [Flatten Nested List Iterator](https://leetcode.com/problems/flatten-nested-list-iterator/)| [C++](./C++/flatten-nested-list-iterator.cpp) [Python](./Python/flatten-nested-list-iterator.py) | _O(n)_        | _O(h)_          | Medium           |📖| Iterator |"
   ]
  },
  {
   "cell_type": "code",
   "execution_count": null,
   "metadata": {
    "collapsed": true
   },
   "outputs": [],
   "source": [
    "285. Inorder Successor in BST | http://blog.csdn.net/qq508618087/article/details/50886124\n",
    "341. Flatten Nested List Iterator"
   ]
  },
  {
   "cell_type": "markdown",
   "metadata": {},
   "source": [
    "# 17. |385| [Mini Parser](https://leetcode.com/problems/mini-parser/)| [C++](./C++/mini-parser.cpp) [Python](./Python/mini-parser.py) | _O(n)_        | _O(h)_          | Medium           |||"
   ]
  },
  {
   "cell_type": "code",
   "execution_count": null,
   "metadata": {
    "collapsed": true
   },
   "outputs": [],
   "source": []
  },
  {
   "cell_type": "markdown",
   "metadata": {},
   "source": [
    "# 18. |394| [Decode String](https://leetcode.com/problems/decode-string/)| [C++](./C++/decode-string.cpp) [Python](./Python/decode-string.py) | _O(n)_        | _O(h)_          | Medium           |||"
   ]
  },
  {
   "cell_type": "markdown",
   "metadata": {},
   "source": [
    "# 19. |439| [Ternary Expression Parser](https://leetcode.com/problems/ternary-expression-parser/) | [C++](./C++/ternary-expression-parser.cpp) [Python](./Python/ternary-expression-parser.py) | _O(n)_          | _O(1)_          | Medium           |📖||"
   ]
  },
  {
   "cell_type": "code",
   "execution_count": null,
   "metadata": {
    "collapsed": true
   },
   "outputs": [],
   "source": [
    "Given a string representing arbitrarily nested ternary expressions, calculate the result of the expression. \n",
    "You can always assume that the given expression is valid and only consists of digits 0-9, ?, :, \n",
    "T and F (T and F represent True and False respectively).\n",
    "\n",
    "Note:\n",
    "\n",
    "The length of the given string is ≤ 10000.\n",
    "Each number will contain only one digit.\n",
    "The conditional expressions group right-to-left (as usual in most languages).\n",
    "The condition will always be either T or F. That is, the condition will never be a digit.\n",
    "The result of the expression will always evaluate to either a digit 0-9, T or F.\n",
    "Example 1:\n",
    "\n",
    "Input: \"T?2:3\"\n",
    "\n",
    "Output: \"2\"\n",
    "\n",
    "Explanation: If true, then result is 2; otherwise result is 3.\n",
    "Example 2:\n",
    "\n",
    "Input: \"F?1:T?4:5\"\n",
    "\n",
    "Output: \"4\"\n",
    "\n",
    "Explanation: The conditional expressions group right-to-left. Using parenthesis, it is read/evaluated as:\n",
    "\n",
    "             \"(F ? 1 : (T ? 4 : 5))\"                   \"(F ? 1 : (T ? 4 : 5))\"\n",
    "          -> \"(F ? 1 : 4)\"                 or       -> \"(T ? 4 : 5)\"\n",
    "          -> \"4\"                                    -> \"4\"\n",
    "Example 3:\n",
    "\n",
    "Input: \"T?T?F:5:3\"\n",
    "\n",
    "Output: \"F\"\n",
    "\n",
    "Explanation: The conditional expressions group right-to-left. Using parenthesis, it is read/evaluated as:\n",
    "\n",
    "             \"(T ? (T ? F : 5) : 3)\"                   \"(T ? (T ? F : 5) : 3)\"\n",
    "          -> \"(T ? F : 3)\"                 or       -> \"(T ? F : 5)\"\n",
    "          -> \"F\"                                    -> \"F\""
   ]
  },
  {
   "cell_type": "markdown",
   "metadata": {},
   "source": [
    "# 20. |456| [132 Pattern](https://leetcode.com/problems/132-pattern/) | [C++](./C++/132-pattern.cpp) [Python](./Python/132-pattern.py) | _O(n)_          | _O(n)_          | Medium           |||"
   ]
  },
  {
   "cell_type": "code",
   "execution_count": null,
   "metadata": {
    "collapsed": true
   },
   "outputs": [],
   "source": [
    "Given a sequence of n integers a1, a2, ..., an, a 132 pattern is a subsequence ai, aj, ak \n",
    "such that i < j < k and ai < ak < aj. Design an algorithm that takes a list of n numbers as input \n",
    "and checks whether there is a 132 pattern in the list.\n",
    "\n",
    "Note: n will be less than 15,000.\n",
    "\n",
    "Example 1:\n",
    "Input: [1, 2, 3, 4]\n",
    "\n",
    "Output: False\n",
    "\n",
    "Explanation: There is no 132 pattern in the sequence.\n",
    "Example 2:\n",
    "Input: [3, 1, 4, 2]\n",
    "\n",
    "Output: True\n",
    "\n",
    "Explanation: There is a 132 pattern in the sequence: [1, 4, 2].\n",
    "Example 3:\n",
    "Input: [-1, 3, 2, 0]\n",
    "\n",
    "Output: True\n",
    "\n",
    "Explanation: There are three 132 patterns in the sequence: [-1, 3, 2], [-1, 3, 0] and [-1, 2, 0]."
   ]
  },
  {
   "cell_type": "markdown",
   "metadata": {},
   "source": [
    "---\n",
    "# 496. Next Greater Element I"
   ]
  },
  {
   "cell_type": "code",
   "execution_count": null,
   "metadata": {
    "collapsed": true
   },
   "outputs": [],
   "source": [
    "You are given two arrays (without duplicates) nums1 and nums2 where nums1’s elements are subset of nums2. \n",
    "Find all the next greater numbers for nums1's elements in the corresponding places of nums2.\n",
    "\n",
    "The Next Greater Number of a number x in nums1 is the first greater number to its right in nums2.\n",
    "If it does not exist, output -1 for this number.\n",
    "\n",
    "Example 1:\n",
    "Input: nums1 = [4,1,2], nums2 = [1,3,4,2].\n",
    "Output: [-1,3,-1]\n",
    "Explanation:\n",
    "    For number 4 in the first array, you cannot find the next greater number for it in the second array, so output -1.\n",
    "    For number 1 in the first array, the next greater number for it in the second array is 3.\n",
    "    For number 2 in the first array, there is no next greater number for it in the second array, so output -1.\n",
    "Example 2:\n",
    "Input: nums1 = [2,4], nums2 = [1,2,3,4].\n",
    "Output: [3,-1]\n",
    "Explanation:\n",
    "    For number 2 in the first array, the next greater number for it in the second array is 3.\n",
    "    For number 4 in the first array, there is no next greater number for it in the second array, so output -1.\n",
    "Note:\n",
    "All elements in nums1 and nums2 are unique.\n",
    "The length of both nums1 and nums2 would not exceed 1000."
   ]
  },
  {
   "cell_type": "code",
   "execution_count": null,
   "metadata": {
    "collapsed": true
   },
   "outputs": [],
   "source": [
    "# Time:\n",
    "# Space:\n",
    "# Next Greater Element I\n",
    "\n",
    "class Solution(object):\n",
    "    def nextGreaterElement(self, findNums, nums):\n",
    "        \"\"\"\n",
    "        :type findNums: List[int]\n",
    "        :type nums: List[int]\n",
    "        :rtype: List[int]\n",
    "        \"\"\"\n",
    "        d = {}\n",
    "        stk = []\n",
    "        ans = []\n",
    "        \n",
    "        for x in nums:\n",
    "            while len(stk) and stk[-1] < x:\n",
    "                d[stk.pop()] = x\n",
    "            stk.append(x)\n",
    "            \n",
    "        for x in findNums:\n",
    "            ans.append(d.get(x, -1))\n",
    "            \n",
    "        return ans"
   ]
  },
  {
   "cell_type": "code",
   "execution_count": null,
   "metadata": {
    "collapsed": true
   },
   "outputs": [],
   "source": [
    "print Solution().nextGreaterElement([4,1,2], )"
   ]
  }
 ],
 "metadata": {
  "kernelspec": {
   "display_name": "Python 2",
   "language": "python",
   "name": "python2"
  },
  "language_info": {
   "codemirror_mode": {
    "name": "ipython",
    "version": 2
   },
   "file_extension": ".py",
   "mimetype": "text/x-python",
   "name": "python",
   "nbconvert_exporter": "python",
   "pygments_lexer": "ipython2",
   "version": "2.7.13"
  }
 },
 "nbformat": 4,
 "nbformat_minor": 0
}
