{
 "cells": [
  {
   "cell_type": "markdown",
   "metadata": {},
   "source": [
    "# Arrray"
   ]
  },
  {
   "cell_type": "markdown",
   "metadata": {},
   "source": [
    "# 370. Range Addition Total"
   ]
  },
  {
   "cell_type": "code",
   "execution_count": null,
   "metadata": {
    "collapsed": true
   },
   "outputs": [],
   "source": [
    "370. Range Addition Total Accepted: 4790 Total Submissions: 9278 Difficulty: Medium\n",
    "Assume you have an array of length n initialized with all 0's and are given k update operations.\n",
    "\n",
    "Each operation is represented as a triplet: [startIndex, endIndex, inc] \n",
    "which increments each element of subarray A[startIndex ... endIndex]\n",
    "\n",
    "(startIndex and endIndex inclusive) with inc.\n",
    "\n",
    "Return the modified array after all k operations were executed.\n",
    "\n",
    "Example:\n",
    "\n",
    "Given:\n",
    "\n",
    "    length = 5,\n",
    "    updates = [\n",
    "        [1,  3,  2],\n",
    "        [2,  4,  3],\n",
    "        [0,  2, -2]\n",
    "    ]\n",
    "\n",
    "Output:\n",
    "\n",
    "[-2, 0, 3, 5, 3]\n",
    "\n",
    "Explanation:\n",
    "\n",
    "Initial state:\n",
    "[ 0, 0, 0, 0, 0 ]\n",
    "\n",
    "After applying operation [1, 3, 2]:\n",
    "[ 0, 2, 2, 2, 0 ]\n",
    "\n",
    "After applying operation [2, 4, 3]:\n",
    "[ 0, 2, 5, 5, 3 ]\n",
    "\n",
    "After applying operation [0, 2, -2]:\n",
    "[-2, 0, 3, 5, 3 ]\n",
    "Hint:\n",
    "\n",
    "Thinking of using advanced data structures? You are thinking it too complicated.\n",
    "For each update operation, do you really need to update all elements between i and j?\n",
    "Update only the first and end element is sufficient.\n",
    "The optimal time complexity is O(k + n) and uses O(1) extra space.\n",
    "Credits:\n",
    "Special thanks to @vinod23 for adding this problem and creating all test cases.\n",
    "\n",
    " Google  Array"
   ]
  },
  {
   "cell_type": "code",
   "execution_count": 4,
   "metadata": {
    "collapsed": true
   },
   "outputs": [],
   "source": [
    "# Time: O(nk)\n",
    "# Space:\n",
    "# Range Addition Total\n",
    "'''\n",
    "see left and right \n",
    "\n",
    "天下大势，合久必分，分久必合。\n",
    "Majority Elment II \n",
    "'''\n",
    "\n",
    "class Solution(object):\n",
    "    def getModifiedArray(self, length, updates):\n",
    "        \"\"\"\n",
    "        :type length: int\n",
    "        :type updates: List[List[int]]\n",
    "        :rtype: List[int]\n",
    "        \"\"\"\n",
    "        res = [0] * length\n",
    "        for update in updates:\n",
    "            start, end, inc = update\n",
    "            res[start] += inc\n",
    "            \n",
    "            if end + 1 <= length - 1:\n",
    "                res[end+1] -= inc\n",
    "\n",
    "        sum = 0\n",
    "        for i in range(length):\n",
    "            sum += res[i]\n",
    "            res[i] = sum\n",
    "        return res"
   ]
  },
  {
   "cell_type": "code",
   "execution_count": 5,
   "metadata": {
    "collapsed": false
   },
   "outputs": [
    {
     "ename": "TypeError",
     "evalue": "can't multiply sequence by non-int of type 'tuple'",
     "output_type": "error",
     "traceback": [
      "\u001b[0;31m---------------------------------------------------------------------------\u001b[0m",
      "\u001b[0;31mTypeError\u001b[0m                                 Traceback (most recent call last)",
      "\u001b[0;32m<ipython-input-5-98291220f9c2>\u001b[0m in \u001b[0;36m<module>\u001b[0;34m()\u001b[0m\n\u001b[1;32m      6\u001b[0m ]\n\u001b[1;32m      7\u001b[0m \u001b[0;34m\u001b[0m\u001b[0m\n\u001b[0;32m----> 8\u001b[0;31m \u001b[0;32mprint\u001b[0m \u001b[0mSolution\u001b[0m\u001b[0;34m(\u001b[0m\u001b[0;34m)\u001b[0m\u001b[0;34m.\u001b[0m\u001b[0mgetModifiedArray\u001b[0m\u001b[0;34m(\u001b[0m\u001b[0mlength\u001b[0m\u001b[0;34m,\u001b[0m \u001b[0mupdates\u001b[0m\u001b[0;34m)\u001b[0m\u001b[0;34m\u001b[0m\u001b[0m\n\u001b[0m",
      "\u001b[0;32m<ipython-input-4-53b8cfd1324e>\u001b[0m in \u001b[0;36mgetModifiedArray\u001b[0;34m(self, length, updates)\u001b[0m\n\u001b[1;32m      6\u001b[0m         \u001b[0;34m:\u001b[0m\u001b[0mrtype\u001b[0m\u001b[0;34m:\u001b[0m \u001b[0mList\u001b[0m\u001b[0;34m[\u001b[0m\u001b[0mint\u001b[0m\u001b[0;34m]\u001b[0m\u001b[0;34m\u001b[0m\u001b[0m\n\u001b[1;32m      7\u001b[0m         \"\"\"\n\u001b[0;32m----> 8\u001b[0;31m         \u001b[0mres\u001b[0m \u001b[0;34m=\u001b[0m \u001b[0;34m[\u001b[0m\u001b[0;36m0\u001b[0m\u001b[0;34m]\u001b[0m \u001b[0;34m*\u001b[0m \u001b[0mlength\u001b[0m\u001b[0;34m\u001b[0m\u001b[0m\n\u001b[0m\u001b[1;32m      9\u001b[0m         \u001b[0;32mfor\u001b[0m \u001b[0mupdate\u001b[0m \u001b[0;32min\u001b[0m \u001b[0mupdates\u001b[0m\u001b[0;34m:\u001b[0m\u001b[0;34m\u001b[0m\u001b[0m\n\u001b[1;32m     10\u001b[0m             \u001b[0mstart\u001b[0m\u001b[0;34m,\u001b[0m \u001b[0mend\u001b[0m\u001b[0;34m,\u001b[0m \u001b[0minc\u001b[0m \u001b[0;34m=\u001b[0m \u001b[0mupdate\u001b[0m\u001b[0;34m\u001b[0m\u001b[0m\n",
      "\u001b[0;31mTypeError\u001b[0m: can't multiply sequence by non-int of type 'tuple'"
     ]
    }
   ],
   "source": [
    "length = 5,\n",
    "updates = [\n",
    "    [1,  3,  2],\n",
    "    [2,  4,  3],\n",
    "    [0,  2, -2]\n",
    "]\n",
    "\n",
    "print Solution().getModifiedArray(length, updates)"
   ]
  },
  {
   "cell_type": "markdown",
   "metadata": {},
   "source": [
    "# 442. Find All Duplicates in an Array"
   ]
  },
  {
   "cell_type": "code",
   "execution_count": null,
   "metadata": {
    "collapsed": true
   },
   "outputs": [],
   "source": [
    "Given an array of integers, 1 ≤ a[i] ≤ n (n = size of array), some elements appear twice and others appear once.\n",
    "\n",
    "Find all the elements that appear twice in this array.\n",
    "\n",
    "Could you do it without extra space and in O(n) runtime?\n",
    "\n",
    "Example:\n",
    "Input:\n",
    "[4,3,2,7,8,2,3,1]\n",
    "\n",
    "Output:\n",
    "[2,3]"
   ]
  },
  {
   "cell_type": "code",
   "execution_count": 20,
   "metadata": {
    "collapsed": true
   },
   "outputs": [],
   "source": [
    "# Time: O(n)\n",
    "# Space: O(1)\n",
    "# Find All Duplicates in an Array\n",
    "\n",
    "class Solution(object):\n",
    "    def findDuplicates(self, nums):\n",
    "        \"\"\"\n",
    "        :type nums: List[int]\n",
    "        :rtype: List[int]\n",
    "        \"\"\"\n",
    "        res = []\n",
    "        for x in nums:\n",
    "            print nums[abs(x) - 1]\n",
    "            if nums[abs(x)-1] < 0:\n",
    "                res.append(abs(x))\n",
    "            else:\n",
    "                nums[abs(x)-1] *= -1\n",
    "            print res\n",
    "            print '*'*10\n",
    "        return res"
   ]
  },
  {
   "cell_type": "code",
   "execution_count": 21,
   "metadata": {
    "collapsed": false
   },
   "outputs": [
    {
     "name": "stdout",
     "output_type": "stream",
     "text": [
      "7\n",
      "[]\n",
      "**********\n",
      "2\n",
      "[]\n",
      "**********\n",
      "3\n",
      "[]\n",
      "**********\n",
      "3\n",
      "[]\n",
      "**********\n",
      "1\n",
      "[]\n",
      "**********\n",
      "-3\n",
      "[2]\n",
      "**********\n",
      "-2\n",
      "[2, 3]\n",
      "**********\n",
      "4\n",
      "[2, 3]\n",
      "**********\n",
      "[2, 3]\n"
     ]
    }
   ],
   "source": [
    "print Solution().findDuplicates([4,3,2,7,8,2,3,1])"
   ]
  },
  {
   "cell_type": "markdown",
   "metadata": {
    "collapsed": true
   },
   "source": [
    "---\n",
    "# 531 Lonely Pixel I"
   ]
  },
  {
   "cell_type": "code",
   "execution_count": null,
   "metadata": {
    "collapsed": true
   },
   "outputs": [],
   "source": [
    "Given a picture consisting of black and white pixels, find the number of black lonely pixels.\n",
    "\n",
    "The picture is represented by a 2D char array consisting of 'B' and 'W', \n",
    "which means black and white pixels respectively.\n",
    "\n",
    "A black lonely pixel is character 'B' that located at a specific position \n",
    "where the same row and same column don't have any other black pixels.\n",
    "\n",
    "Example:\n",
    "\n",
    "Input: \n",
    "[['W', 'W', 'B'],\n",
    " ['W', 'B', 'W'],\n",
    " ['B', 'W', 'W']]\n",
    "\n",
    "Output: 3\n",
    "Explanation: All the three 'B's are black lonely pixels.\n",
    "Note:\n",
    "\n",
    "The range of width and height of the input 2D array is [1,500]."
   ]
  },
  {
   "cell_type": "code",
   "execution_count": null,
   "metadata": {
    "collapsed": true
   },
   "outputs": [],
   "source": []
  }
 ],
 "metadata": {
  "kernelspec": {
   "display_name": "Python 2",
   "language": "python",
   "name": "python2"
  },
  "language_info": {
   "codemirror_mode": {
    "name": "ipython",
    "version": 2
   },
   "file_extension": ".py",
   "mimetype": "text/x-python",
   "name": "python",
   "nbconvert_exporter": "python",
   "pygments_lexer": "ipython2",
   "version": "2.7.13"
  }
 },
 "nbformat": 4,
 "nbformat_minor": 0
}
