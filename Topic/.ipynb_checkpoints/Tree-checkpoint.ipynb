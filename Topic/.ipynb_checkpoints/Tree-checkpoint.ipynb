{
 "cells": [
  {
   "cell_type": "markdown",
   "metadata": {},
   "source": [
    "# Tree(11)"
   ]
  },
  {
   "cell_type": "markdown",
   "metadata": {},
   "source": [
    "![Tree](https://www.tutorialspoint.com/data_structures_algorithms/images/binary_tree.jpg)\n",
    "- [Tree Data Structure](https://www.tutorialspoint.com/data_structures_algorithms/tree_data_structure.htm)"
   ]
  },
  {
   "cell_type": "markdown",
   "metadata": {},
   "source": [
    "|  #  | Title           |  Solution       |  Time           | Space           | Difficulty    | Tag          | Note| \n",
    "|-----|---------------- | --------------- | --------------- | --------------- | ------------- |--------------|-----|\n",
    "|94 | [Binary Tree Inorder Traversal](https://leetcode.com/problems/binary-tree-inorder-traversal/)  | [C++](./C++/binary-tree-inorder-traversal.cpp) [Python](./Python/binary-tree-inorder-traversal.py) | _O(n)_| _O(1)_| Medium           || `Morris Traversal` | \n",
    "|99 | [Recover Binary Search Tree](https://leetcode.com/problems/recover-binary-search-tree/) | [C++](./C++/recover-binary-search-tree.cpp) [Python](./Python/recover-binary-search-tree.py) | _O(n)_| _O(1)_| Hard  || `Morris Traversal` \n",
    "|144 | [Binary Tree Preorder Traversal](https://leetcode.com/problems/binary-tree-preorder-traversal/) | [C++](./C++/binary-tree-preorder-traversal.cpp) [Python](./Python/binary-tree-preorder-traversal.py) | _O(n)_| _O(1)_| Medium || `Morris Traversal` \n",
    "|145 | [Binary Tree Postorder Traversal](https://leetcode.com/problems/binary-tree-postorder-traversal/) | [C++](./C++/binary-tree-postorder-traversal.cpp) [Python](./Python/binary-tree-postorder-traversal.py) | _O(n)_| _O(1)_| Hard  || `Morris Traversal` \n",
    "|208 | [Implement Trie (Prefix Tree)](https://leetcode.com/problems/implement-trie-prefix-tree/) | [C++](./C++/implement-trie-prefix-tree.cpp) [Python](./Python/implement-trie-prefix-tree.py) | _O(n)_ | _O(1)_ | Medium || Trie\n",
    "|211 | [Add and Search Word - Data structure design](https://leetcode.com/problems/add-and-search-word-data-structure-design/) | [C++](./C++/add-and-search-word-data-structure-design.cpp) [Python](./Python/add-and-search-word-data-structure-design.py) | _O(min(n, h))_ | _O(min(n, h))_ | Medium || Trie, DFS\n",
    "|226| [Invert Binary Tree](https://leetcode.com/problems/invert-binary-tree/) | [C++](./C++/invert-binary-tree.cpp) [Python](./Python/invert-binary-tree.py) | _O(n)_ | _O(h)_, _O(w)_ | Easy |||\n",
    "|297 | [Serialize and Deserialize Binary Tree](https://leetcode.com/problems/serialize-and-deserialize-binary-tree/) | [C++](./C++/serialize-and-deserialize-binary-tree.cpp) [Python](./Python/serialize-and-deserialize-binary-tree.py) | _O(n)_ | _O(h)_ | Hard | LintCode | DFS\n",
    "|307 | [Range Sum Query - Mutable](https://leetcode.com/problems/range-sum-query-mutable/) | [C++](./C++/range-sum-query-mutable.cpp) [Python](./Python/range-sum-query-mutable.py) | ctor: _O(n)_, update: _O(logn)_, query:  _O(logn)_ | _O(n)_ | Medium | LintCode | DFS, Segment Tree, BIT\n",
    "|308 | [Range Sum Query 2D - Mutable](https://leetcode.com/problems/range-sum-query-2d-mutable/) | [C++](./C++/range-sum-query-2d-mutable.cpp) [Python](./Python/range-sum-query-2d-mutable.py) | ctor: _O(m * n)_, update: _O(logm + logn)_, query:  _O(logm + logn)_ | _O(m * n)_ | Hard | 📖 | DFS, Segment Tree, BIT\n",
    "|315|[Count of Smaller Numbers After Self](https://leetcode.com/problems/count-of-smaller-numbers-after-self/)| [C++](./C++/count-of-smaller-numbers-after-self.cpp) [Python](./Python/count-of-smaller-numbers-after-self.py)| _O(nlogn)_ | _O(n)_ | Hard | LintCode | BST, BIT, Divide and Conquer |"
   ]
  },
  {
   "cell_type": "markdown",
   "metadata": {},
   "source": [
    "# 0. Preface"
   ]
  },
  {
   "cell_type": "markdown",
   "metadata": {},
   "source": [
    "![Preoder Inorder Postorder](http://images2015.cnblogs.com/blog/927781/201609/927781-20160921124759762-1413447755.png)"
   ]
  },
  {
   "cell_type": "markdown",
   "metadata": {},
   "source": [
    "- Preoder Traversal: 根 左 右\n",
    "- Inoder Traversal: 左 根 右\n",
    "- Postorder Traversal: 左 右 根\n",
    "\n",
    "可视化： http://crystalyy.github.io/resume/task/task22/index.html "
   ]
  },
  {
   "cell_type": "markdown",
   "metadata": {},
   "source": [
    "## 对树的三种理解导致了三种方法\n",
    "\n",
    "- 1.根左右，左根右，左右根 recursive  Time: O(?n)\n",
    "- 2.第一遇到：pre, 第二遇到：in, 第三遇到：post（反向第一次遇到） （stack方法） Time: O(2n)  Space O(n)\n",
    "- 3.线索二叉树：morris  Time: O(3n)  Space: O(1) -> Morris 方法\n",
    "\n",
    "因为前序和中序都连有中，所以有直接的路径到达。而后序节点。\n",
    "\n",
    "## 树的两种存储\n",
    "列表存储，浪费空间\n",
    "\n",
    "Linked List 节省空间\n",
    "\n",
    "## 树的恢复\n",
    "如果树的长一样就不行。 aaa,aaa,aaa"
   ]
  },
  {
   "cell_type": "markdown",
   "metadata": {},
   "source": [
    "# 1. [Binary Tree Inorder Traversal | 94](https://leetcode.com/problems/binary-tree-inorder-traversal/)"
   ]
  },
  {
   "cell_type": "code",
   "execution_count": null,
   "metadata": {
    "collapsed": true
   },
   "outputs": [],
   "source": [
    "Given a binary tree, return the inorder traversal of its nodes' values.\n",
    "\n",
    "For example:\n",
    "Given binary tree [1,null,2,3],\n",
    "   1\n",
    "    \\\n",
    "     2\n",
    "    /\n",
    "   3\n",
    "return [1,3,2].\n",
    "\n",
    "Note: Recursive solution is trivial, could you do it iteratively?"
   ]
  },
  {
   "cell_type": "markdown",
   "metadata": {},
   "source": [
    "## Solution"
   ]
  },
  {
   "cell_type": "code",
   "execution_count": 9,
   "metadata": {
    "collapsed": true
   },
   "outputs": [],
   "source": [
    "# Time: O(n)\n",
    "# Space:O(1)\n",
    "# Binary Tree Inorder Traversal \n",
    "\n",
    "# 跑了三遍：每一个节点被访问了三遍\n",
    "# 第一遍：连线 rightmost  2-1\n",
    "# 第二遍：添加 add  1 \n",
    "# 第三遍：去线 disconnect 2-1\n",
    "\n",
    "class TreeNode:\n",
    "    def __init__(self, x):\n",
    "        self.val = x\n",
    "        self.left = None\n",
    "        self.right = None\n",
    "\n",
    "class Solution(object):\n",
    "    def inorderTraversal(self, root):\n",
    "        \"\"\"\n",
    "        :type root: TreeNode\n",
    "        :rtype: List[int]\n",
    "        \"\"\"\n",
    "        result, curr = [], root\n",
    "        while curr:\n",
    "            # 2nd\n",
    "            print 'curr:',curr.val\n",
    "            if curr.left is None: \n",
    "                result.append(curr.val)\n",
    "                curr = curr.right\n",
    "            \n",
    "            \n",
    "            else:\n",
    "                # find the rightmost \n",
    "                node = curr.left # e.g. node = 1\n",
    "                while node.right and node.right != curr:  \n",
    "                    node = node.right \n",
    "            \n",
    "                # connect 1st \n",
    "                if node.right is None: \n",
    "                    node.right = curr  # connect 1->2\n",
    "                    curr = curr.left # -> 1\n",
    "                \n",
    "                # disconnect 3rd \n",
    "                else: \n",
    "                    result.append(curr.val)\n",
    "                    node.right = None  # delete the line\n",
    "                    curr = curr.right\n",
    "                \n",
    "        return result"
   ]
  },
  {
   "cell_type": "markdown",
   "metadata": {},
   "source": [
    "![inoder traversal](http://images.cnitblog.com/blog/300640/201306/14214057-7cc645706e7741e3b5ed62b320000354.jpg)"
   ]
  },
  {
   "cell_type": "code",
   "execution_count": 10,
   "metadata": {
    "collapsed": false
   },
   "outputs": [
    {
     "name": "stdout",
     "output_type": "stream",
     "text": [
      "curr: 6\n",
      "curr: 2\n",
      "curr: 1\n",
      "curr: 2\n",
      "curr: 4\n",
      "curr: 3\n",
      "curr: 4\n",
      "curr: 5\n",
      "curr: 6\n",
      "curr: 7\n",
      "curr: 8\n",
      "curr: 7\n",
      "curr: 9\n",
      "[1, 2, 3, 4, 5, 6, 8, 7, 9]\n"
     ]
    }
   ],
   "source": [
    "root = TreeNode(6)\n",
    "root.left = TreeNode(2)\n",
    "root.right = TreeNode(7)\n",
    "\n",
    "root.left.left = TreeNode(1)\n",
    "root.left.right = TreeNode(4)\n",
    "root.right.right = TreeNode(9)\n",
    "\n",
    "root.left.right.left = TreeNode(3)\n",
    "root.left.right.right = TreeNode(5)\n",
    "root.right.left = TreeNode(8)\n",
    "\n",
    "result = Solution().inorderTraversal(root)\n",
    "print result"
   ]
  },
  {
   "cell_type": "markdown",
   "metadata": {},
   "source": [
    "## Notes"
   ]
  },
  {
   "cell_type": "markdown",
   "metadata": {},
   "source": [
    "- Morris, Joseph M. (1979). \"Traversing binary trees simply and cheaply\". Information Processing Letters. 9 (5). doi:10.1016/0020-0190(79)90068-1.\n",
    "- http://www.geeksforgeeks.org/inorder-tree-traversal-without-recursion-and-without-stack/\n",
    "- http://www.cnblogs.com/AnnieKim/archive/2013/06/15/MorrisTraversal.html\n",
    "\n",
    "实现二叉树的前中后序遍历的方法：\n",
    "1. []递归(recursive)\n",
    "2. []栈实现的迭代版本(stack+iterative) \n",
    "\n",
    "以上 Space: O(n)\n",
    "\n",
    "Morris Traversal: \n",
    "- Time: O(n)\n",
    "- Space: O(1) (二叉树的形状不能被破坏（中间过程允许改变其形状）)"
   ]
  },
  {
   "cell_type": "code",
   "execution_count": null,
   "metadata": {
    "collapsed": true
   },
   "outputs": [],
   "source": [
    "1. Initialize current as root \n",
    "2. While current is not NULL\n",
    "   If current does not have left child\n",
    "      a) Print current’s data\n",
    "      b) Go to the right, i.e., current = current->right\n",
    "   Else\n",
    "      a) Make current as right child of the rightmost \n",
    "         node in current's left subtree\n",
    "      b) Go to this left child, i.e., current = current->left"
   ]
  },
  {
   "cell_type": "markdown",
   "metadata": {},
   "source": [
    "\n",
    "\n",
    "# 2. [Recover Binary Search Tree | 99 ](https://leetcode.com/problems/recover-binary-search-tree/)"
   ]
  },
  {
   "cell_type": "code",
   "execution_count": null,
   "metadata": {
    "collapsed": true
   },
   "outputs": [],
   "source": [
    "Two elements of a binary search tree (BST) are swapped by mistake.\n",
    "\n",
    "Recover the tree without changing its structure.\n",
    "\n",
    "Note:\n",
    "A solution using O(n) space is pretty straight forward. Could you devise a constant space solution?"
   ]
  },
  {
   "cell_type": "markdown",
   "metadata": {},
   "source": [
    "## Solution"
   ]
  },
  {
   "cell_type": "code",
   "execution_count": null,
   "metadata": {
    "collapsed": true
   },
   "outputs": [],
   "source": [
    "# Time:  O(n)\n",
    "# Space: O(1)\n",
    "# Recover Binary Search Tree\n",
    "# 问题：如何恢复成二叉树。\n",
    "# O(n) \n",
    "\n",
    "\n",
    "    \n",
    "class TreeNode:\n",
    "    def __init__(self, x):\n",
    "        self.val = x\n",
    "        self.left = None\n",
    "        self.right = None    \n",
    "    \n",
    "    def __repr__(self):\n",
    "        if self:\n",
    "            serial = []\n",
    "            queue = [self]\n",
    "\n",
    "            while queue:\n",
    "                cur = queue[0]\n",
    "                \n",
    "                if cur:\n",
    "                    serial.append(cur.val)\n",
    "                    queue.append(cur.left)\n",
    "                    queue.append(cur.right)\n",
    "                else:\n",
    "                    serial.append(\"#\")\n",
    "                \n",
    "                queue = queue[1:]\n",
    "                \n",
    "            while serial[-1] == \"#\":\n",
    "                serial.pop()\n",
    "                \n",
    "            return repr(serial)\n",
    "                \n",
    "        else:\n",
    "            return None\n",
    "\n",
    "\n",
    "# Definition for a binary tree node.\n",
    "# class TreeNode(object):\n",
    "#     def __init__(self, x):\n",
    "#         self.val = x\n",
    "#         self.left = None\n",
    "#         self.right = None\n",
    "\n",
    "class Solution(object):\n",
    "    def recoverTree(self, root):\n",
    "        \"\"\"\n",
    "        :type root: TreeNode\n",
    "        :rtype: void Do not return anything, modify root in-place instead.\n",
    "        \"\"\"\n",
    "        return self.MorrisTraversal(root)\n",
    "    \n",
    "    def MorrisTraversal(self, root):\n",
    "        if root is None:\n",
    "            return\n",
    "        broken = [None, None]\n",
    "        pre, cur = None, root\n",
    "        \n",
    "        while cur:\n",
    "            if cur.left is None:\n",
    "                self.detectBroken(broken, pre, cur)\n",
    "                pre = cur\n",
    "                cur = cur.right\n",
    "            else:\n",
    "                node = cur.left\n",
    "                while node.right and node.right != cur:\n",
    "                    node = node.right\n",
    "                    \n",
    "                if node.right is None:\n",
    "                    node.right =cur\n",
    "                    cur = cur.left\n",
    "                else:\n",
    "                    self.detectBroken(broken, pre, cur)\n",
    "                    node.right = None\n",
    "                    pre = cur\n",
    "                    cur = cur.right\n",
    "        \n",
    "        broken[0].val, broken[1].val = broken[1].val, broken[0].val\n",
    "        \n",
    "        return root\n",
    "    \n",
    "    def detectBroken(self, broken, pre, cur):\n",
    "        if pre and pre.val > cur.val:\n",
    "            if broken[0] is None:\n",
    "                broken[0] = pre\n",
    "            broken[1] = cur\n"
   ]
  },
  {
   "cell_type": "markdown",
   "metadata": {},
   "source": [
    "## Notes"
   ]
  },
  {
   "cell_type": "markdown",
   "metadata": {},
   "source": [
    "![Binary Search Tree](http://btechsmartclass.com/DS/images/BST%20Example.png)"
   ]
  },
  {
   "cell_type": "markdown",
   "metadata": {},
   "source": [
    "中序遍历二叉树生成序列，然后对序列中排序错误的进行调整。\n",
    "\n",
    "8 - 12\n",
    "\n",
    "1，5，8， \n",
    "\n",
    "一个错误：和下一个交换。\n",
    "\n",
    "两个错误：记录下两个位置再交换。\n",
    "\n",
    "遍历的过程：可以用Stack( n Space ),也可以用Morris ( 1 Space)"
   ]
  },
  {
   "cell_type": "markdown",
   "metadata": {},
   "source": [
    "# 3. [Binary Tree Preorder Traversal | 144](https://leetcode.com/problems/binary-tree-preorder-traversal/)"
   ]
  },
  {
   "cell_type": "code",
   "execution_count": null,
   "metadata": {
    "collapsed": true
   },
   "outputs": [],
   "source": [
    "Given a binary tree, return the preorder traversal of its nodes' values.\n",
    "\n",
    "For example:\n",
    "Given binary tree {1,#,2,3},\n",
    "   1\n",
    "    \\\n",
    "     2\n",
    "    /\n",
    "   3\n",
    "return [1,2,3].\n",
    "\n",
    "Note: Recursive solution is trivial, could you do it iteratively?"
   ]
  },
  {
   "cell_type": "markdown",
   "metadata": {},
   "source": [
    "## Solution"
   ]
  },
  {
   "cell_type": "code",
   "execution_count": null,
   "metadata": {
    "collapsed": true
   },
   "outputs": [],
   "source": [
    "# Time:  O(n)\n",
    "# Space: O(1)\n",
    "# Binary Tree Preorder Traversal \n",
    "\n",
    "\n",
    "class Solution(object):\n",
    "    def preorderTraversal(self, root):\n",
    "        \"\"\"\n",
    "        :type root: TreeNode\n",
    "        :rtype: List[int]\n",
    "        \"\"\"\n",
    "        result, curr = [], root\n",
    "        while curr:\n",
    "            if curr.left is None:\n",
    "                result.append(curr.val)\n",
    "                curr = curr.right\n",
    "            else:\n",
    "                node = curr.left\n",
    "                while node.right and node.right != curr:\n",
    "                    node = node.right\n",
    "            \n",
    "                if node.right is None:\n",
    "                    result.append(curr.val)\n",
    "                    node.right = curr\n",
    "                    curr = curr.left\n",
    "                else:\n",
    "                    node.right = None\n",
    "                    curr = curr.right\n",
    "                \n",
    "        return result"
   ]
  },
  {
   "cell_type": "markdown",
   "metadata": {},
   "source": [
    "# 4.  [Binary Tree Postorder Traversal | 145 ](https://leetcode.com/problems/binary-tree-postorder-traversal/) "
   ]
  },
  {
   "cell_type": "code",
   "execution_count": null,
   "metadata": {
    "collapsed": true
   },
   "outputs": [],
   "source": [
    "Given a binary tree, return the postorder traversal of its nodes' values.\n",
    "\n",
    "For example:\n",
    "Given binary tree {1,#,2,3},\n",
    "   1\n",
    "    \\\n",
    "     2\n",
    "    /\n",
    "   3\n",
    "return [3,2,1].\n",
    "\n",
    "Note: Recursive solution is trivial, could you do it iteratively?"
   ]
  },
  {
   "cell_type": "markdown",
   "metadata": {},
   "source": [
    "## Solution"
   ]
  },
  {
   "cell_type": "code",
   "execution_count": null,
   "metadata": {
    "collapsed": true
   },
   "outputs": [],
   "source": [
    "# Time:  O(n)\n",
    "# Space: O(1)\n",
    "# 后序（左右中），由于左 -> 右，没有直接的路径，所以需要进一步处理。\n",
    "# 前序 （中左右） 中序（左中右）都有中间连在一起。\n",
    "\n",
    "# 问题：中序\n",
    "\n",
    "\n",
    "class Solution(object):\n",
    "    def postorderTraversal(self, root):\n",
    "        \"\"\"\n",
    "        :type root: TreeNode\n",
    "        :rtype: List[int]\n",
    "        \"\"\"\n",
    "        dummy = TreeNode(0)\n",
    "        dummy.left = root\n",
    "        result, cur = [], dummy\n",
    "        while cur:\n",
    "            if cur.left is None:\n",
    "                cur = cur.right\n",
    "            else:\n",
    "                node = cur.left\n",
    "                while node.right and node.right != cur:\n",
    "                    node = node.right\n",
    "            \n",
    "                if node.right is None:\n",
    "                    node.right = cur\n",
    "                    cur = cur.left\n",
    "                else:\n",
    "                    result += self.traceBack(cur.left, node)\n",
    "                    node.right = None\n",
    "                    cur = cur.right\n",
    "        \n",
    "        return result\n",
    "    \n",
    "    def traceBack(self, frm, to):\n",
    "        result, cur = [], frm\n",
    "        while cur is not to:\n",
    "            result.append(cur.val)\n",
    "            cur = cur.right\n",
    "        result.append(to.val)\n",
    "        result.reverse()\n",
    "        return result\n"
   ]
  },
  {
   "cell_type": "markdown",
   "metadata": {},
   "source": [
    "# 5. [Implement Trie (Prefix Tree) | 208](https://leetcode.com/problems/implement-trie-prefix-tree/)"
   ]
  },
  {
   "cell_type": "code",
   "execution_count": null,
   "metadata": {
    "collapsed": true
   },
   "outputs": [],
   "source": [
    "Implement a trie with insert, search, and startsWith methods.\n",
    "\n",
    "Note:\n",
    "You may assume that all inputs are consist of lowercase letters a-z."
   ]
  },
  {
   "cell_type": "markdown",
   "metadata": {},
   "source": [
    "## Solution"
   ]
  },
  {
   "cell_type": "code",
   "execution_count": null,
   "metadata": {
    "collapsed": true
   },
   "outputs": [],
   "source": [
    "# Time:  O(n), per operation\n",
    "# Space: O(1)\n",
    "# Implement Trie\n",
    "\n",
    "\n",
    "class TrieNode:\n",
    "    # Initialize your data structure here.\n",
    "    def __init__(self):\n",
    "        self.is_string = False\n",
    "        self.leaves = {}\n",
    "        \n",
    "\n",
    "class Trie:\n",
    "\n",
    "    def __init__(self):\n",
    "        self.root = TrieNode()\n",
    "\n",
    "    # @param {string} word\n",
    "    # @return {void}\n",
    "    # Inserts a word into the trie.\n",
    "    def insert(self, word):\n",
    "        cur = self.root\n",
    "        for c in word:\n",
    "            if not c in cur.leaves:\n",
    "                cur.leaves[c] = TrieNode()\n",
    "            cur = cur.leaves[c]\n",
    "        cur.is_string = True\n",
    "\n",
    "    # @param {string} word\n",
    "    # @return {boolean}\n",
    "    # Returns if the word is in the trie.\n",
    "    def search(self, word):\n",
    "        node = self.childSearch(word)\n",
    "        if node:\n",
    "            return node.is_string\n",
    "        return False        \n",
    "\n",
    "    # @param {string} prefix\n",
    "    # @return {boolean}\n",
    "    # Returns if there is any word in the trie\n",
    "    # that starts with the given prefix.\n",
    "    def startsWith(self, prefix):\n",
    "        return self.childSearch(prefix) is not None\n",
    "\n",
    "    def childSearch(self, word):\n",
    "        cur = self.root\n",
    "        for c in word:\n",
    "            if c in cur.leaves:\n",
    "                cur = cur.leaves[c]\n",
    "            else:\n",
    "                return None\n",
    "        return cur"
   ]
  },
  {
   "cell_type": "markdown",
   "metadata": {},
   "source": [
    "# 6. [Add and Search Word - Data structure design | 211](https://leetcode.com/problems/add-and-search-word-data-structure-design/) "
   ]
  },
  {
   "cell_type": "code",
   "execution_count": null,
   "metadata": {
    "collapsed": true
   },
   "outputs": [],
   "source": [
    "Design a data structure that supports the following two operations:\n",
    "\n",
    "void addWord(word)\n",
    "bool search(word)\n",
    "search(word) can search a literal word or a regular expression string \n",
    "containing only letters a-z or .. A . means it can represent any one letter.\n",
    "\n",
    "For example:\n",
    "\n",
    "addWord(\"bad\")\n",
    "addWord(\"dad\")\n",
    "addWord(\"mad\")\n",
    "search(\"pad\") -> false\n",
    "search(\"bad\") -> true\n",
    "search(\".ad\") -> true\n",
    "search(\"b..\") -> true\n",
    "Note:\n",
    "You may assume that all words are consist of lowercase letters a-z."
   ]
  },
  {
   "cell_type": "markdown",
   "metadata": {},
   "source": [
    "## Solution"
   ]
  },
  {
   "cell_type": "code",
   "execution_count": null,
   "metadata": {
    "collapsed": true
   },
   "outputs": [],
   "source": [
    "# Time:  O(min(n, h)), per operation\n",
    "# Space: O(min(n, h))\n",
    "# Add and Search Word - Data Structure Design \n",
    "\n",
    "class TrieNode:\n",
    "    # Initialize your data structure here.\n",
    "    def __init__(self):\n",
    "        self.is_string = False\n",
    "        self.leaves = {}\n",
    "        \n",
    "class WordDictionary:\n",
    "    def __init__(self):\n",
    "        self.root = TrieNode()\n",
    "        \n",
    "    # @param {string} word\n",
    "    # @return {void}\n",
    "    # Adds a word into the data structure.\n",
    "    def addWord(self, word):\n",
    "        curr = self.root\n",
    "        for c in word:\n",
    "            if not c in curr.leaves:\n",
    "                curr.leaves[c] = TrieNode()\n",
    "            curr = curr.leaves[c]\n",
    "        curr.is_string = True\n",
    "\n",
    "    # @param {string} word\n",
    "    # @return {boolean}\n",
    "    # Returns if the word is in the data structure. A word could\n",
    "    # contain the dot character '.' to represent any one letter.\n",
    "    def search(self, word):\n",
    "        return self.searchHelper(word, 0, self.root)\n",
    "        \n",
    "    def searchHelper(self, word, start, curr):\n",
    "        if start == len(word):\n",
    "            return curr.is_string\n",
    "        if word[start] in curr.leaves:\n",
    "            return self.searchHelper(word, start+1, curr.leaves[word[start]])\n",
    "        elif word[start] == '.':\n",
    "            for c in curr.leaves:\n",
    "                if self.searchHelper(word, start+1, curr.leaves[c]):\n",
    "                    return True\n",
    "       \n",
    "        return False\n"
   ]
  },
  {
   "cell_type": "markdown",
   "metadata": {},
   "source": [
    "# 7.  [Invert Binary Tree | 266](https://leetcode.com/problems/invert-binary-tree/)"
   ]
  },
  {
   "cell_type": "code",
   "execution_count": null,
   "metadata": {
    "collapsed": true
   },
   "outputs": [],
   "source": [
    "Invert a binary tree.\n",
    "\n",
    "     4\n",
    "   /   \\\n",
    "  2     7\n",
    " / \\   / \\\n",
    "1   3 6   9\n",
    "to\n",
    "     4\n",
    "   /   \\\n",
    "  7     2\n",
    " / \\   / \\\n",
    "9   6 3   1\n",
    "Trivia:\n",
    "This problem was inspired by this original tweet by Max Howell:\n",
    "Google: 90% of our engineers use the software you wrote (Homebrew), \n",
    "    but you can’t invert a binary tree on a whiteboard so fuck off."
   ]
  },
  {
   "cell_type": "markdown",
   "metadata": {},
   "source": [
    "## Solution"
   ]
  },
  {
   "cell_type": "code",
   "execution_count": null,
   "metadata": {
    "collapsed": true
   },
   "outputs": [],
   "source": [
    "# Time:  O(n)\n",
    "# Space: O(h)\n",
    "# Invert Binary Tree \n",
    "\n",
    "class Queue:\n",
    "    def __init__(self):\n",
    "        self.data = collections.deque()\n",
    "        \n",
    "    def push(self, x):\n",
    "        self.data.append(x)\n",
    "    \n",
    "    def peek(self):\n",
    "        return self.data[0]\n",
    "    \n",
    "    def pop(self):\n",
    "        return self.data.popleft()\n",
    "    \n",
    "    def size(self):\n",
    "        return len(self.data)\n",
    "    \n",
    "    def empty(self):\n",
    "        return len(self.data) == 0\n",
    "        \n",
    "# Definition for a binary tree node.\n",
    "# class TreeNode:\n",
    "#     def __init__(self, x):\n",
    "#         self.val = x\n",
    "#         self.left = None\n",
    "#         self.right = None\n",
    "\n",
    "class Solution:\n",
    "    # @param {TreeNode} root\n",
    "    # @return {TreeNode}\n",
    "    def invertTree(self, root):\n",
    "        if root is not None:\n",
    "            nodes = Queue()\n",
    "            nodes.push(root)\n",
    "            while not nodes.empty():\n",
    "                node = nodes.pop()\n",
    "                node.left, node.right = node.right, node.left\n",
    "                if node.left is not None:\n",
    "                    nodes.push(node.left)\n",
    "                if node.right is not None:\n",
    "                    nodes.push(node.right)\n",
    "        \n",
    "        return root"
   ]
  },
  {
   "cell_type": "markdown",
   "metadata": {},
   "source": [
    "# 8. [Serialize and Deserialize Binary Tree | 297](https://leetcode.com/problems/serialize-and-deserialize-binary-tree/)"
   ]
  },
  {
   "cell_type": "code",
   "execution_count": null,
   "metadata": {
    "collapsed": true
   },
   "outputs": [],
   "source": [
    "Serialization is the process of converting a data structure or object \n",
    "into a sequence of bits so that it can be stored in a file or memory buffer,\n",
    "or transmitted across a network connection link to be reconstructed later in the same or another computer environment.\n",
    "\n",
    "Design an algorithm to serialize and deserialize a binary tree. \n",
    "There is no restriction on how your serialization/deserialization algorithm should work. \n",
    "You just need to ensure that a binary tree can be serialized to a string \n",
    "and this string can be deserialized to the original tree structure.\n",
    "\n",
    "For example, you may serialize the following tree\n",
    "\n",
    "    1\n",
    "   / \\\n",
    "  2   3\n",
    "     / \\\n",
    "    4   5\n",
    "as \"[1,2,3,null,null,4,5]\", just the same as how LeetCode OJ serializes a binary tree. \n",
    "You do not necessarily need to follow this format, so please be creative and come up with different approaches yourself.\n",
    "Note: Do not use class member/global/static variables to store states. \n",
    "Your serialize and deserialize algorithms should be stateless."
   ]
  },
  {
   "cell_type": "markdown",
   "metadata": {},
   "source": [
    "## Solution"
   ]
  },
  {
   "cell_type": "code",
   "execution_count": null,
   "metadata": {
    "collapsed": true
   },
   "outputs": [],
   "source": [
    "# Time:  O(n)\n",
    "# Space: O(h)\n",
    "# Serialize and Deserialize Binary Tree\n",
    "\n",
    "class Codec:\n",
    "\n",
    "    def serialize(self, root):\n",
    "        \"\"\"Encodes a tree to a single string.\n",
    "        \n",
    "        :type root: TreeNode\n",
    "        :rtype: str\n",
    "        \"\"\"\n",
    "        def serializeHelper(node):\n",
    "            if not node:\n",
    "                vals.append('#')\n",
    "            else:\n",
    "                vals.append(str(node.val))\n",
    "                serializeHelper(node.left)\n",
    "                serializeHelper(node.right)\n",
    "        vals = []\n",
    "        serializeHelper(root)\n",
    "        return ' '.join(vals)\n",
    "\n",
    "\n",
    "    def deserialize(self, data):\n",
    "        \"\"\"Decodes your encoded data to tree.\n",
    "        \n",
    "        :type data: str\n",
    "        :rtype: TreeNode\n",
    "        \"\"\"\n",
    "        def deserializeHelper():\n",
    "            val = next(vals)\n",
    "            if val == '#':\n",
    "                return None\n",
    "            else:\n",
    "                node = TreeNode(int(val))\n",
    "                node.left = deserializeHelper()\n",
    "                node.right = deserializeHelper()\n",
    "                return node\n",
    "        def isplit(source, sep):\n",
    "            sepsize = len(sep)\n",
    "            start = 0\n",
    "            while True:\n",
    "                idx = source.find(sep, start)\n",
    "                if idx == -1:\n",
    "                    yield source[start:]\n",
    "                    return\n",
    "                yield source[start:idx]\n",
    "                start = idx + sepsize\n",
    "        vals = iter(isplit(data, ' '))\n",
    "        return deserializeHelper()"
   ]
  },
  {
   "cell_type": "markdown",
   "metadata": {},
   "source": [
    "# 9. [Range Sum Query - Mutable | 307](https://leetcode.com/problems/range-sum-query-mutable/) "
   ]
  },
  {
   "cell_type": "code",
   "execution_count": null,
   "metadata": {
    "collapsed": true
   },
   "outputs": [],
   "source": [
    "Given an integer array nums, find the sum of the elements between indices i and j (i ≤ j), inclusive.\n",
    "\n",
    "The update(i, val) function modifies nums by updating the element at index i to val.\n",
    "Example:\n",
    "Given nums = [1, 3, 5]\n",
    "\n",
    "sumRange(0, 2) -> 9\n",
    "update(1, 2)\n",
    "sumRange(0, 2) -> 8\n",
    "Note:\n",
    "The array is only modifiable by the update function.\n",
    "You may assume the number of calls to update and sumRange function is distributed evenly."
   ]
  },
  {
   "cell_type": "markdown",
   "metadata": {},
   "source": [
    "## Solution"
   ]
  },
  {
   "cell_type": "code",
   "execution_count": 1,
   "metadata": {
    "collapsed": true
   },
   "outputs": [],
   "source": [
    "# Time:  ctor:   O(n),\n",
    "#        update: O(logn),\n",
    "#        query:  O(logn)\n",
    "# Space: O(n)\n",
    "\n",
    "class NumArray(object):\n",
    "    def __init__(self, nums):\n",
    "        \"\"\"\n",
    "        initialize your data structure here.\n",
    "        :type nums: List[int]\n",
    "        \"\"\"\n",
    "        if not nums:\n",
    "            return\n",
    "        self.__nums = nums\n",
    "        self.__bit = [0] * (len(self.__nums) + 1)\n",
    "        for i in xrange(1, len(self.__bit)):\n",
    "            self.__bit[i] = nums[i-1] + self.__bit[i-1]\n",
    "\n",
    "        for i in reversed(xrange(1, len(self.__bit))):\n",
    "            last_i = i - (i & -i)\n",
    "            self.__bit[i] -= self.__bit[last_i]\n",
    "\n",
    "    def update(self, i, val):\n",
    "        \"\"\"\n",
    "        :type i: int\n",
    "        :type val: int\n",
    "        :rtype: int\n",
    "        \"\"\"\n",
    "        if val - self.__nums[i]:\n",
    "            self.__add(i, val - self.__nums[i])\n",
    "            self.__nums[i] = val\n",
    "        \n",
    "    def sumRange(self, i, j):\n",
    "        \"\"\"\n",
    "        sum of elements nums[i..j], inclusive.\n",
    "        :type i: int\n",
    "        :type j: int\n",
    "        :rtype: int\n",
    "        \"\"\"\n",
    "        return self.__sum(j) - self.__sum(i-1)\n",
    "\n",
    "    def __sum(self, i):\n",
    "        i += 1\n",
    "        ret = 0\n",
    "        while i > 0:\n",
    "            ret += self.__bit[i]\n",
    "            i -= (i & -i)\n",
    "        return ret\n",
    "\n",
    "    def __add(self, i, val):\n",
    "        i += 1\n",
    "        while i <= len(self.__nums):\n",
    "            self.__bit[i] += val\n",
    "            i += (i & -i)"
   ]
  },
  {
   "cell_type": "markdown",
   "metadata": {},
   "source": [
    "## Notes"
   ]
  },
  {
   "cell_type": "markdown",
   "metadata": {},
   "source": [
    "- 为什么使用 Blance Tree?\n",
    "\n",
    "- 原始的两个方法\n",
    "- 方法1: \n",
    "\n",
    "- 为什么需要Dummy Note?\n",
    "\n",
    "- "
   ]
  },
  {
   "cell_type": "markdown",
   "metadata": {},
   "source": [
    "# 10. [Range Sum Query 2D - Mutable | 308](https://leetcode.com/problems/range-sum-query-2d-mutable/)"
   ]
  },
  {
   "cell_type": "markdown",
   "metadata": {},
   "source": [
    "# 11. [Count of Smaller Numbers After Self | 315 ](https://leetcode.com/problems/count-of-smaller-numbers-after-self/)"
   ]
  },
  {
   "cell_type": "code",
   "execution_count": null,
   "metadata": {
    "collapsed": true
   },
   "outputs": [],
   "source": [
    "You are given an integer array nums and you have to return a new counts array.\n",
    "The counts array has the property where counts[i] is the number of smaller elements to the right of nums[i].\n",
    "\n",
    "Example:\n",
    "\n",
    "Given nums = [5, 2, 6, 1]\n",
    "\n",
    "To the right of 5 there are 2 smaller elements (2 and 1).\n",
    "To the right of 2 there is only 1 smaller element (1).\n",
    "To the right of 6 there is 1 smaller element (1).\n",
    "To the right of 1 there is 0 smaller element.\n",
    "Return the array [2, 1, 1, 0]."
   ]
  },
  {
   "cell_type": "code",
   "execution_count": null,
   "metadata": {
    "collapsed": true
   },
   "outputs": [],
   "source": []
  },
  {
   "cell_type": "code",
   "execution_count": null,
   "metadata": {
    "collapsed": true
   },
   "outputs": [],
   "source": [
    "Given a list of words (without duplicates), please write a program that returns all concatenated words \n",
    "in the given list of words.\n",
    "\n",
    "A concatenated word is defined as a string that is comprised entirely of \n",
    "at least two shorter words in the given array.\n",
    "\n",
    "Example:\n",
    "Input: [\"cat\",\"cats\",\"catsdogcats\",\"dog\",\"dogcatsdog\",\"hippopotamuses\",\"rat\",\"ratcatdogcat\"]\n",
    "\n",
    "Output: [\"catsdogcats\",\"dogcatsdog\",\"ratcatdogcat\"]\n",
    "\n",
    "Explanation: \"catsdogcats\" can be concatenated by \"cats\", \"dog\" and \"cats\"; \n",
    " \"dogcatsdog\" can be concatenated by \"dog\", \"cats\" and \"dog\"; \n",
    "\"ratcatdogcat\" can be concatenated by \"rat\", \"cat\", \"dog\" and \"cat\".\n",
    "Note:\n",
    "The number of elements of the given array will not exceed 10,000\n",
    "The length sum of elements in the given array will not exceed 600,000.\n",
    "All the input string will only include lower case letters.\n",
    "The returned elements order does not matter.\n"
   ]
  },
  {
   "cell_type": "code",
   "execution_count": 12,
   "metadata": {
    "collapsed": true
   },
   "outputs": [],
   "source": [
    "class Solution(object):\n",
    "    def findAllConcatenatedWordsInADict(self, words):\n",
    "        \"\"\"\n",
    "        :type words: List[str]\n",
    "        :rtype: List[str]\n",
    "        \"\"\"\n",
    "        ans = []\n",
    "        self.wordSet = set(words)\n",
    "        print self.wordSet\n",
    "        for word in words:\n",
    "            print word\n",
    "            self.wordSet.remove(word)\n",
    "            if self.search(word):\n",
    "                ans.append(word)\n",
    "            self.wordSet.add(word)\n",
    "            print ans\n",
    "        return ans\n",
    "\n",
    "    def search(self, word):\n",
    "        if word in self.wordSet:\n",
    "            return True\n",
    "            print 10*'-'\n",
    "        for idx in range(1, len(word)):\n",
    "            if word[:idx] in self.wordSet and self.search(word[idx:]):\n",
    "                return True\n",
    "        return False"
   ]
  },
  {
   "cell_type": "code",
   "execution_count": 13,
   "metadata": {
    "collapsed": false
   },
   "outputs": [
    {
     "name": "stdout",
     "output_type": "stream",
     "text": [
      "set(['catsdogcats', 'hippopotamuses', 'dog', 'dogcatsdog', 'rat', 'cats', 'ratcatdogcat', 'cat'])\n",
      "cat\n",
      "[]\n",
      "cats\n",
      "[]\n",
      "catsdogcats\n",
      "['catsdogcats']\n",
      "dog\n",
      "['catsdogcats']\n",
      "dogcatsdog\n",
      "['catsdogcats', 'dogcatsdog']\n",
      "hippopotamuses\n",
      "['catsdogcats', 'dogcatsdog']\n",
      "rat\n",
      "['catsdogcats', 'dogcatsdog']\n",
      "ratcatdogcat\n",
      "['catsdogcats', 'dogcatsdog', 'ratcatdogcat']\n",
      "['catsdogcats', 'dogcatsdog', 'ratcatdogcat']\n"
     ]
    }
   ],
   "source": [
    "words = [\"cat\",\"cats\",\"catsdogcats\",\"dog\",\"dogcatsdog\",\"hippopotamuses\",\"rat\",\"ratcatdogcat\"]\n",
    "print Solution().findAllConcatenatedWordsInADict(words)"
   ]
  },
  {
   "cell_type": "markdown",
   "metadata": {
    "collapsed": true
   },
   "source": [
    "---\n",
    "# [110. Balanced Binary Tree](https://leetcode.com/problems/balanced-binary-tree/#/description)"
   ]
  },
  {
   "cell_type": "code",
   "execution_count": null,
   "metadata": {
    "collapsed": true
   },
   "outputs": [],
   "source": [
    "Given a binary tree, determine if it is height-balanced.\n",
    "\n",
    "For this problem, a height-balanced binary tree is \n",
    "defined as a binary tree in which the depth of the two subtrees of every node never differ by more than 1."
   ]
  },
  {
   "cell_type": "markdown",
   "metadata": {},
   "source": [
    "![balanced binary tree](http://algorithms.tutorialhorizon.com/files/2014/09/BalancedTree-Example.png)"
   ]
  },
  {
   "cell_type": "code",
   "execution_count": 11,
   "metadata": {
    "collapsed": false
   },
   "outputs": [],
   "source": [
    "# Time:\n",
    "# Space:\n",
    "# Balanced Binary Tree\n",
    "# Edge case \n",
    "\n",
    "\n",
    "# Definition for a binary tree node.\n",
    "class TreeNode(object):\n",
    "    def __init__(self, x):\n",
    "        self.val = x\n",
    "        self.left = None\n",
    "        self.right = None\n",
    "\n",
    "class Solution(object):\n",
    "    def isBalanced(self, root):\n",
    "        \"\"\"\n",
    "        :type root: TreeNode\n",
    "        :rtype: bool\n",
    "        \"\"\"      \n",
    "        def check(root):\n",
    "            if root is None:\n",
    "                return 0\n",
    "            left = check(root.left)\n",
    "            right = check(root.right)\n",
    "            if left == -1 or right == -1 or abs(left - right) > 1:\n",
    "                return -1\n",
    "            print left, right \n",
    "            return 1 + max(left, right)\n",
    "        \n",
    "        return check(root) != -1"
   ]
  },
  {
   "cell_type": "code",
   "execution_count": 13,
   "metadata": {
    "collapsed": false,
    "scrolled": true
   },
   "outputs": [
    {
     "name": "stdout",
     "output_type": "stream",
     "text": [
      "0 0\n",
      "1 0\n",
      "True\n",
      "0 0\n",
      "1 0\n",
      "0 0\n",
      "0 1\n",
      "2 2\n",
      "True\n"
     ]
    }
   ],
   "source": [
    "root = TreeNode(0)\n",
    "root.left = TreeNode(1)\n",
    "result = Solution().isBalanced(root)\n",
    "print result\n",
    "\n",
    "root.left.left = TreeNode(2)\n",
    "root.right = TreeNode(3)\n",
    "root.right.right = TreeNode(4)\n",
    "result = Solution().isBalanced(root)\n",
    "print result"
   ]
  },
  {
   "cell_type": "markdown",
   "metadata": {},
   "source": [
    "---\n",
    "# [111. Minimum Depth of Binary Tree](https://leetcode.com/problems/minimum-depth-of-binary-tree/#/description)"
   ]
  },
  {
   "cell_type": "code",
   "execution_count": null,
   "metadata": {
    "collapsed": true
   },
   "outputs": [],
   "source": [
    "Given a binary tree, find its minimum depth.\n",
    "\n",
    "The minimum depth is the number of nodes along the shortest path from the root node down to the nearest leaf node."
   ]
  },
  {
   "cell_type": "code",
   "execution_count": 14,
   "metadata": {
    "collapsed": true
   },
   "outputs": [],
   "source": [
    "# Time:\n",
    "# Space:\n",
    "# Minimum Depth of Binary Tree\n",
    "# Edge case \n",
    "\n",
    "# Definition for a binary tree node.\n",
    "# class TreeNode(object):\n",
    "#     def __init__(self, x):\n",
    "#         self.val = x\n",
    "#         self.left = None\n",
    "#         self.right = None\n",
    "\n",
    "class Solution(object):\n",
    "    def minDepth(self, root):\n",
    "        \"\"\"\n",
    "        :type root: TreeNode\n",
    "        :rtype: int\n",
    "        \"\"\"\n",
    "        if not root: return 0\n",
    "        d = map(self.minDepth, (root.left, root.right))\n",
    "        return 1 + (min(d) or max(d))"
   ]
  },
  {
   "cell_type": "code",
   "execution_count": 15,
   "metadata": {
    "collapsed": false
   },
   "outputs": [
    {
     "name": "stdout",
     "output_type": "stream",
     "text": [
      "2\n"
     ]
    }
   ],
   "source": [
    "root = TreeNode(1)\n",
    "root.left = TreeNode(2)\n",
    "print Solution().minDepth(root)"
   ]
  },
  {
   "cell_type": "code",
   "execution_count": null,
   "metadata": {
    "collapsed": true
   },
   "outputs": [],
   "source": [
    "class Solution:\n",
    "    # @param root, a tree node\n",
    "    # @return an integer\n",
    "    def minDepth(self, root):\n",
    "        if root is None:\n",
    "            return 0\n",
    "        \n",
    "        if root.left and root.right:\n",
    "            return min(self.minDepth(root.left), self.minDepth(root.right)) + 1\n",
    "        else:\n",
    "            return max(self.minDepth(root.left), self.minDepth(root.right)) + 1"
   ]
  },
  {
   "cell_type": "markdown",
   "metadata": {},
   "source": [
    "---\n",
    "# 226. Invert Binary Tree"
   ]
  },
  {
   "cell_type": "code",
   "execution_count": null,
   "metadata": {
    "collapsed": true
   },
   "outputs": [],
   "source": [
    "Invert a binary tree.\n",
    "\n",
    "     4\n",
    "   /   \\\n",
    "  2     7\n",
    " / \\   / \\\n",
    "1   3 6   9\n",
    "\n",
    "to\n",
    "     4\n",
    "   /   \\\n",
    "  7     2\n",
    " / \\   / \\\n",
    "9   6 3   1\n",
    "\n",
    "Trivia:\n",
    "This problem was inspired by this original tweet by Max Howell:\n",
    "Google: 90% of our engineers use the software you wrote (Homebrew), \n",
    "    but you can’t invert a binary tree on a whiteboard so fuck off."
   ]
  },
  {
   "cell_type": "code",
   "execution_count": null,
   "metadata": {
    "collapsed": true
   },
   "outputs": [],
   "source": [
    "# Time: O(n) \n",
    "# Space: O(n)\n",
    "# Invert Binary Tree\n",
    "# Edge case\n",
    "\n",
    "# Definition for a binary tree node.\n",
    "# class TreeNode(object):\n",
    "#     def __init__(self, x):\n",
    "#         self.val = x\n",
    "#         self.left = None\n",
    "#         self.right = None\n",
    "\n",
    "class Solution(object):\n",
    "    def invertTree(self, root):\n",
    "        \"\"\"\n",
    "        :type root: TreeNode\n",
    "        :rtype: TreeNode\n",
    "        \"\"\"\n",
    "        if root is not None:\n",
    "            root.left, root.right = self.invertTree(root.right), \\\n",
    "                                    self.invertTree(root.left)\n",
    "        \n",
    "        return root"
   ]
  },
  {
   "cell_type": "markdown",
   "metadata": {
    "collapsed": true
   },
   "source": [
    "---\n",
    "# 297. Serialize and Deserialize Binary Tree"
   ]
  },
  {
   "cell_type": "code",
   "execution_count": null,
   "metadata": {
    "collapsed": true
   },
   "outputs": [],
   "source": [
    "Serialization is the process of converting a data structure or object \n",
    "into a sequence of bits so that it can be stored in a file or memory buffer, \n",
    "or transmitted across a network connection link to be reconstructed later in the same or another computer environment.\n",
    "\n",
    "Design an algorithm to serialize and deserialize a binary tree. \n",
    "There is no restriction on how your serialization/deserialization algorithm should work. \n",
    "You just need to ensure that a binary tree can be serialized to a string \n",
    "and this string can be deserialized to the original tree structure.\n",
    "\n",
    "For example, you may serialize the following tree\n",
    "\n",
    "    1\n",
    "   / \\\n",
    "  2   3\n",
    "     / \\\n",
    "    4   5\n",
    "as \"[1,2,3,null,null,4,5]\", just the same as how LeetCode OJ serializes a binary tree. \n",
    "You do not necessarily need to follow this format, \n",
    "so please be creative and come up with different approaches yourself.\n",
    "Note: Do not use class member/global/static variables to store states. \n",
    "Your serialize and deserialize algorithms should be stateless.\n",
    "\n",
    "Credits:\n",
    "Special thanks to @Louis1992 for adding this problem and creating all test cases."
   ]
  },
  {
   "cell_type": "code",
   "execution_count": null,
   "metadata": {
    "collapsed": true
   },
   "outputs": [],
   "source": [
    "# Time:\n",
    "# Space:\n",
    "# Serialize and Deserialize Binary Tree\n",
    "# Edge Case \n",
    "\n",
    "\n",
    "# Definition for a binary tree node.\n",
    "# class TreeNode(object):\n",
    "#     def __init__(self, x):\n",
    "#         self.val = x\n",
    "#         self.left = None\n",
    "#         self.right = None\n",
    "\n",
    "class Codec:\n",
    "        \n",
    "    def serialize(self, root):\n",
    "        \"\"\"Encodes a tree to a single string.\n",
    "        \n",
    "        :type root: TreeNode\n",
    "        :rtype: str\n",
    "        \"\"\"\n",
    "        def serializeHelper(node):\n",
    "            if not node:\n",
    "                vals.append('#')\n",
    "            else:\n",
    "                vals.append(str(node.val))\n",
    "                serializeHelper(node.left)\n",
    "                serializeHelper(node.right)\n",
    "        vals = []\n",
    "        serializeHelper(root)\n",
    "        return ' '.join(vals)\n",
    "\n",
    "\n",
    "    def deserialize(self, data):\n",
    "        \"\"\"Decodes your encoded data to tree.\n",
    "        \n",
    "        :type data: str\n",
    "        :rtype: TreeNode\n",
    "        \"\"\"\n",
    "        def deserializeHelper():\n",
    "            val = next(vals)\n",
    "            if val == '#':\n",
    "                return None\n",
    "            else:\n",
    "                node = TreeNode(int(val))\n",
    "                node.left = deserializeHelper()\n",
    "                node.right = deserializeHelper()\n",
    "                return node\n",
    "        def isplit(source, sep):\n",
    "            sepsize = len(sep)\n",
    "            start = 0\n",
    "            while True:\n",
    "                idx = source.find(sep, start)\n",
    "                if idx == -1:\n",
    "                    yield source[start:]\n",
    "                    return\n",
    "                yield source[start:idx]\n",
    "                start = idx + sepsize\n",
    "        vals = iter(isplit(data, ' '))\n",
    "        return deserializeHelper()        \n",
    "        \n",
    "\n",
    "\n",
    "# Your Codec object will be instantiated and called as such:\n",
    "# codec = Codec()\n",
    "# codec.deserialize(codec.serialize(root))"
   ]
  },
  {
   "cell_type": "code",
   "execution_count": null,
   "metadata": {
    "collapsed": true
   },
   "outputs": [],
   "source": [
    "# Definition for a binary tree node.\n",
    "# class TreeNode(object):\n",
    "#     def __init__(self, x):\n",
    "#         self.val = x\n",
    "#         self.left = None\n",
    "#         self.right = None\n",
    "\n",
    "class Codec:\n",
    "\n",
    "    def serialize(self, root):\n",
    "        \"\"\"Encodes a tree to a single string.\n",
    "        \n",
    "        :type root: TreeNode\n",
    "        :rtype: str\n",
    "        \"\"\"\n",
    "        if root is None:\n",
    "            return '{}'\n",
    "        \n",
    "        index = 0\n",
    "        queue = [root]\n",
    "        while index < len(queue):\n",
    "            node = queue[index]\n",
    "            if node is not None:\n",
    "                queue.append(node.left)\n",
    "                queue.append(node.right)\n",
    "            index+=1\n",
    "        while queue[-1] is None:\n",
    "            queue.pop()\n",
    "        \n",
    "        return '{%s}' % ','.join([str(node.val) if node else '#' for node in queue])\n",
    "        \n",
    "\n",
    "    def deserialize(self, data):\n",
    "        \"\"\"Decodes your encoded data to tree.\n",
    "        \n",
    "        :type data: str\n",
    "        :rtype: TreeNode\n",
    "        \"\"\"\n",
    "        data = data.strip()\n",
    "        \n",
    "        if data == '{}':\n",
    "            return None\n",
    "        \n",
    "        arr = data[1:-1].split(',')\n",
    "        \n",
    "        root = TreeNode(int(arr[0]))\n",
    "        index = 0\n",
    "        queue = [root]\n",
    "        isLeftChild = True\n",
    "        for x in arr[1:]:\n",
    "            if x is not '#':\n",
    "                node = TreeNode(int(x))\n",
    "                if isLeftChild:\n",
    "                    queue[index].left = node\n",
    "                else:\n",
    "                    queue[index].right = node\n",
    "                queue.append(node)\n",
    "            if not isLeftChild:\n",
    "                index+=1\n",
    "            isLeftChild = not isLeftChild\n",
    "        return root\n",
    "        \n",
    "\n",
    "# Your Codec object will be instantiated and called as such:\n",
    "# codec = Codec()\n",
    "# codec.deserialize(codec.serialize(root))"
   ]
  },
  {
   "cell_type": "markdown",
   "metadata": {},
   "source": [
    "---\n",
    "# 366 Find Leaves of Binary Tree"
   ]
  },
  {
   "cell_type": "code",
   "execution_count": null,
   "metadata": {
    "collapsed": true
   },
   "outputs": [],
   "source": [
    "Given a binary tree, find all leaves and then remove those leaves. \n",
    "Then repeat the previous steps until the tree is empty.\n",
    "\n",
    "Example:\n",
    "Given binary tree \n",
    "          1\n",
    "         / \\\n",
    "        2   3\n",
    "       / \\     \n",
    "      4   5    \n",
    "Returns [4, 5, 3], [2], [1].\n",
    "\n",
    "Explanation:\n",
    "1. Remove the leaves [4, 5, 3] from the tree\n",
    "\n",
    "          1\n",
    "         / \n",
    "        2          \n",
    "2. Remove the leaf [2] from the tree\n",
    "\n",
    "          1          \n",
    "3. Remove the leaf [1] from the tree\n",
    "\n",
    "          []         \n",
    "Returns [4, 5, 3], [2], [1].\n",
    "\n",
    " \n",
    "\n",
    "Credits:\n",
    "Special thanks to @elmirap for adding this problem and creating all test cases."
   ]
  },
  {
   "cell_type": "code",
   "execution_count": null,
   "metadata": {
    "collapsed": true
   },
   "outputs": [],
   "source": [
    "class Solution(object):\n",
    "    def findLeaves(self, root):\n",
    "        \"\"\"\n",
    "        :type root: TreeNode\n",
    "        :rtype: List[List[int]]\n",
    "        \"\"\"\n",
    "        def findLeavesHelper(node, result):\n",
    "            if not node:\n",
    "                return -1\n",
    "            level = 1 + max(findLeavesHelper(node.left, result), \\\n",
    "                            findLeavesHelper(node.right, result))\n",
    "            if len(result) < level + 1:\n",
    "                result.append([])\n",
    "            result[level].append(node.val)\n",
    "            return level\n",
    "\n",
    "        result = []\n",
    "        findLeavesHelper(root, result)\n",
    "        return result\n",
    "\n",
    "# http://www.cnblogs.com/grandyang/p/5616158.html"
   ]
  },
  {
   "cell_type": "markdown",
   "metadata": {},
   "source": [
    "# [404. Sum of Left Leaves](https://leetcode.com/problems/sum-of-left-leaves/#/description)"
   ]
  },
  {
   "cell_type": "code",
   "execution_count": null,
   "metadata": {
    "collapsed": true
   },
   "outputs": [],
   "source": [
    "Find the sum of all left leaves in a given binary tree.\n",
    "\n",
    "Example:\n",
    "\n",
    "    3\n",
    "   / \\\n",
    "  9  20\n",
    "    /  \\\n",
    "   15   7\n",
    "\n",
    "There are two left leaves in the binary tree, with values 9 and 15 respectively. Return 24."
   ]
  },
  {
   "cell_type": "code",
   "execution_count": null,
   "metadata": {
    "collapsed": true
   },
   "outputs": [],
   "source": [
    "# Time:\n",
    "# Space:\n",
    "# Sum of Left Leaves\n",
    "# Edge case \n",
    "\n",
    "# Definition for a binary tree node.\n",
    "# class TreeNode(object):\n",
    "#     def __init__(self, x):\n",
    "#         self.val = x\n",
    "#         self.left = None\n",
    "#         self.right = None\n",
    "\n",
    "class Solution(object):\n",
    "    def sumOfLeftLeaves(self, root):\n",
    "        \"\"\"\n",
    "        :type root: TreeNode\n",
    "        :rtype: int\n",
    "        \"\"\"\n",
    "        def sumOfLeftLeavesHelper(root, is_left):\n",
    "            if not root:\n",
    "                return 0\n",
    "            if not root.left and not root.right:\n",
    "                return root.val if is_left else 0\n",
    "            return sumOfLeftLeavesHelper(root.left, True) + \\\n",
    "                   sumOfLeftLeavesHelper(root.right, False)\n",
    "        \n",
    "        return sumOfLeftLeavesHelper(root, False)"
   ]
  },
  {
   "cell_type": "code",
   "execution_count": null,
   "metadata": {
    "collapsed": true
   },
   "outputs": [],
   "source": [
    "[3,9,20,null,null,15,7]"
   ]
  },
  {
   "cell_type": "markdown",
   "metadata": {},
   "source": [
    "---\n",
    "# [437. Path Sum III](https://leetcode.com/problems/path-sum-iii/#/description)"
   ]
  },
  {
   "cell_type": "code",
   "execution_count": null,
   "metadata": {
    "collapsed": true
   },
   "outputs": [],
   "source": [
    "You are given a binary tree in which each node contains an integer value.\n",
    "\n",
    "Find the number of paths that sum to a given value.\n",
    "\n",
    "The path does not need to start or end at the root or a leaf, but it must go downwards \n",
    "(traveling only from parent nodes to child nodes).\n",
    "\n",
    "The tree has no more than 1,000 nodes and the values are in the range -1,000,000 to 1,000,000.\n",
    "\n",
    "Example:\n",
    "\n",
    "root = [10,5,-3,3,2,null,11,3,-2,null,1], sum = 8\n",
    "\n",
    "      10\n",
    "     /  \\\n",
    "    5   -3\n",
    "   / \\    \\\n",
    "  3   2   11\n",
    " / \\   \\\n",
    "3  -2   1\n",
    "\n",
    "Return 3. The paths that sum to 8 are:\n",
    "\n",
    "1.  5 -> 3\n",
    "2.  5 -> 2 -> 1\n",
    "3. -3 -> 11"
   ]
  },
  {
   "cell_type": "code",
   "execution_count": null,
   "metadata": {
    "collapsed": true
   },
   "outputs": [],
   "source": [
    "# Time:\n",
    "# Space:\n",
    "# Path Sum III\n",
    "# Edge case \n",
    "\n",
    "\n",
    "# Definition for a binary tree node.\n",
    "# class TreeNode(object):\n",
    "#     def __init__(self, x):\n",
    "#         self.val = x\n",
    "#         self.left = None\n",
    "#         self.right = None\n",
    "\n",
    "class Solution(object):\n",
    "    def pathSum(self, root, sum):\n",
    "        \"\"\"\n",
    "        :type root: TreeNode\n",
    "        :type sum: int\n",
    "        :rtype: int\n",
    "        \"\"\"\n",
    "        def pathSumHelper(root, prev, sum):\n",
    "            if not root:\n",
    "                return 0\n",
    "\n",
    "            curr = prev + root.val;\n",
    "            return int(curr == sum) + \\\n",
    "                   pathSumHelper(root.left, curr, sum) + \\\n",
    "                   pathSumHelper(root.right, curr, sum)\n",
    "\n",
    "        if not root:\n",
    "            return 0\n",
    "\n",
    "        return pathSumHelper(root, 0, sum) + \\\n",
    "               self.pathSum(root.left, sum) + \\\n",
    "               self.pathSum(root.right, sum)\n"
   ]
  },
  {
   "cell_type": "code",
   "execution_count": null,
   "metadata": {
    "collapsed": true
   },
   "outputs": [],
   "source": [
    "[10,5,-3,3,2,null,11,3,-2,null,1]\n",
    "8"
   ]
  },
  {
   "cell_type": "markdown",
   "metadata": {},
   "source": [
    "# [449. Serialize and Deserialize BST](https://leetcode.com/problems/serialize-and-deserialize-bst/#/description)"
   ]
  },
  {
   "cell_type": "code",
   "execution_count": null,
   "metadata": {
    "collapsed": true
   },
   "outputs": [],
   "source": [
    "Serialization is the process of converting a data structure or\n",
    "object into a sequence of bits so that it can be stored in a file or\n",
    "memory buffer, or transmitted across a network connection link to be\n",
    "reconstructed later in the same or another computer environment.\n",
    "\n",
    "Design an algorithm to serialize and deserialize a binary search tree.\n",
    "There is no restriction on how your serialization/deserialization algorithm should work.\n",
    "You just need to ensure that a binary search tree can be serialized to a string and\n",
    "this string can be deserialized to the original tree structure.\n",
    "\n",
    "The encoded string should be as compact as possible.\n",
    "\n",
    "Note: Do not use class member/global/static variables to store states.\n",
    "Your serialize and deserialize algorithms should be stateless."
   ]
  },
  {
   "cell_type": "code",
   "execution_count": null,
   "metadata": {
    "collapsed": true
   },
   "outputs": [],
   "source": [
    "# Time:  O(n)\n",
    "# Space: O(h)\n",
    "\n",
    "\n",
    "# Definition for a binary tree node.\n",
    "# class TreeNode(object):\n",
    "#     def __init__(self, x):\n",
    "#         self.val = x\n",
    "#         self.left = None\n",
    "#         self.right = None\n",
    "\n",
    "class Codec:\n",
    "\n",
    "    def serialize(self, root):\n",
    "        \"\"\"Encodes a tree to a single string.\n",
    "        \n",
    "        :type root: TreeNode\n",
    "        :rtype: str\n",
    "        \"\"\"\n",
    "        def serializeHelper(node, vals):\n",
    "            if node:\n",
    "                vals.append(node.val)\n",
    "                serializeHelper(node.left, vals)\n",
    "                serializeHelper(node.right, vals)\n",
    "\n",
    "        vals = []\n",
    "        serializeHelper(root, vals)\n",
    "\n",
    "        return ' '.join(map(str, vals))\n",
    "\n",
    "\n",
    "    def deserialize(self, data):\n",
    "        \"\"\"Decodes your encoded data to tree.\n",
    "        \n",
    "        :type data: str\n",
    "        :rtype: TreeNode\n",
    "        \"\"\"\n",
    "        def deserializeHelper(minVal, maxVal, vals):\n",
    "            if not vals:\n",
    "                return None\n",
    "\n",
    "            if minVal < vals[0] < maxVal:\n",
    "                val = vals.popleft()\n",
    "                node = TreeNode(val)\n",
    "                node.left = deserializeHelper(minVal, val, vals)\n",
    "                node.right = deserializeHelper(val, maxVal, vals)\n",
    "                return node\n",
    "            else:\n",
    "                return None\n",
    "\n",
    "        vals = collections.deque([int(val) for val in data.split()])\n",
    "\n",
    "        return deserializeHelper(float('-inf'), float('inf'), vals)\n"
   ]
  },
  {
   "cell_type": "markdown",
   "metadata": {},
   "source": [
    "---\n",
    "# [513. Find Bottom Left Tree Value](https://leetcode.com/problems/find-bottom-left-tree-value/#/description)"
   ]
  },
  {
   "cell_type": "code",
   "execution_count": null,
   "metadata": {
    "collapsed": true
   },
   "outputs": [],
   "source": [
    "Given a binary tree, find the leftmost value in the last row of the tree.\n",
    "\n",
    "Example 1:\n",
    "Input:\n",
    "\n",
    "    2\n",
    "   / \\\n",
    "  1   3\n",
    "\n",
    "Output:\n",
    "1\n",
    "\n",
    "Example 2: \n",
    "\n",
    "Input:\n",
    "\n",
    "        1\n",
    "       / \\\n",
    "      2   3\n",
    "     /   / \\\n",
    "    4   5   6\n",
    "       /\n",
    "      7\n",
    "\n",
    "Output:\n",
    "7\n",
    "Note: You may assume the tree (i.e., the given root node) is not NULL."
   ]
  },
  {
   "cell_type": "code",
   "execution_count": null,
   "metadata": {
    "collapsed": true
   },
   "outputs": [],
   "source": [
    "# Time:\n",
    "# Space:\n",
    "# \n",
    "\n",
    "# Definition for a binary tree node.\n",
    "# class TreeNode(object):\n",
    "#     def __init__(self, x):\n",
    "#         self.val = x\n",
    "#         self.left = None\n",
    "#         self.right = None\n",
    "\n",
    "class Solution(object):\n",
    "    def findBottomLeftValue(self, root):\n",
    "        \"\"\"\n",
    "        :type root: TreeNode\n",
    "        :rtype: int\n",
    "        \"\"\"\n",
    "        queue = [root]\n",
    "        for node in queue:\n",
    "            queue += filter(None, (node.right, node.left))\n",
    "        return node.val"
   ]
  },
  {
   "cell_type": "markdown",
   "metadata": {},
   "source": [
    "---\n",
    "# 515. Find Largest Value in Each Tree Row"
   ]
  },
  {
   "cell_type": "code",
   "execution_count": null,
   "metadata": {
    "collapsed": true
   },
   "outputs": [],
   "source": [
    "You need to find the largest value in each row of a binary tree.\n",
    "\n",
    "Example:\n",
    "Input: \n",
    "\n",
    "          1\n",
    "         / \\\n",
    "        3   2\n",
    "       / \\   \\  \n",
    "      5   3   9 \n",
    "\n",
    "Output: [1, 3, 9]"
   ]
  },
  {
   "cell_type": "code",
   "execution_count": null,
   "metadata": {
    "collapsed": true
   },
   "outputs": [],
   "source": [
    "# Definition for a binary tree node.\n",
    "# class TreeNode(object):\n",
    "#     def __init__(self, x):\n",
    "#         self.val = x\n",
    "#         self.left = None\n",
    "#         self.right = None\n",
    "\n",
    "class Solution(object):\n",
    "    def largestValues(self, root):\n",
    "        \"\"\"\n",
    "        :type root: TreeNode\n",
    "        :rtype: List[int]\n",
    "        \"\"\"\n",
    "        maxes = []\n",
    "        row = [root]\n",
    "        while any(row):\n",
    "            maxes.append(max(node.val for node in row))\n",
    "            row = [kid for node in row for kid in (node.left, node.right) if kid]\n",
    "        return maxes"
   ]
  },
  {
   "cell_type": "markdown",
   "metadata": {},
   "source": [
    "# 536 Construct Binary Tree from String "
   ]
  },
  {
   "cell_type": "code",
   "execution_count": null,
   "metadata": {
    "collapsed": true
   },
   "outputs": [],
   "source": [
    "You need to construct a binary tree from a string consisting of parenthesis and integers.\n",
    "\n",
    "The whole input represents a binary tree. It contains an integer followed by zero, \n",
    "one or two pairs of parenthesis. \n",
    "The integer represents the root's value and a pair of parenthesis contains a child binary tree with the same structure.\n",
    "\n",
    "You always start to construct the left child node of the parent first if it exists.\n",
    "\n",
    "Example:\n",
    "\n",
    "Input: \"4(2(3)(1))(6(5))\"\n",
    "Output: return the tree root node representing the following tree:\n",
    "       4\n",
    "     /   \\\n",
    "    2     6\n",
    "   / \\   / \n",
    "  3   1 5   \n",
    "Note:\n",
    "There will only be '(', ')', '-' and '0' ~ '9' in the input string."
   ]
  },
  {
   "cell_type": "code",
   "execution_count": 37,
   "metadata": {
    "collapsed": false
   },
   "outputs": [],
   "source": [
    "# Time: O(n*k)\n",
    "# Space:O(n)\n",
    "# Construct Binary Tree from String \n",
    "# Edge case \n",
    "'''\n",
    "Recursive + string \n",
    "4(2(3)(1))(6(5))\n",
    "4   (2(3)(1))(6(5))\n",
    "() +1 -1\n",
    "2(3)(1)  6(5)\n",
    "'''\n",
    "\n",
    "# Definition for a binary tree node.\n",
    "class TreeNode(object):\n",
    "    def __init__(self, x):\n",
    "        self.val = x\n",
    "        self.left = None\n",
    "        self.right = None\n",
    "\n",
    "class Solution(object):\n",
    "    def str2tree(self, s):\n",
    "        \"\"\"\n",
    "        :type s: str\n",
    "        :rtype: TreeNode\n",
    "        \"\"\"\n",
    "        if not s: return None\n",
    "        n = ''\n",
    "        while s and s[0] not in ('(', ')'):\n",
    "            n += s[0]\n",
    "            s = s[1:]\n",
    "        node = TreeNode(int(n))\n",
    "        left, right = self.divide(s)\n",
    "        node.left = self.str2tree(left[1:-1])\n",
    "        node.right = self.str2tree(right[1:-1])\n",
    "        return node\n",
    "\n",
    "    def divide(self, s):\n",
    "        left, count = '', 0\n",
    "        print s\n",
    "        while s:\n",
    "            count += {'(' : 1, ')' : -1}.get(s[0], 0)\n",
    "            left += s[0]\n",
    "            s = s[1:]\n",
    "            if count == 0: break\n",
    "        return left, s"
   ]
  },
  {
   "cell_type": "code",
   "execution_count": 38,
   "metadata": {
    "collapsed": false
   },
   "outputs": [
    {
     "name": "stdout",
     "output_type": "stream",
     "text": [
      "(2(3)(1))(6(5))\n",
      "(3)(1)\n",
      "\n",
      "\n",
      "(5)\n",
      "\n",
      "<__main__.TreeNode object at 0x10bd6cd90>\n"
     ]
    }
   ],
   "source": [
    "print Solution().str2tree(\"4(2(3)(1))(6(5))\")"
   ]
  },
  {
   "cell_type": "markdown",
   "metadata": {},
   "source": [
    "# [538 Convert BST to Greater Tree](https://leetcode.com/problems/convert-bst-to-greater-tree/#/description)"
   ]
  },
  {
   "cell_type": "code",
   "execution_count": null,
   "metadata": {
    "collapsed": true
   },
   "outputs": [],
   "source": [
    "Given a Binary Search Tree (BST), \n",
    "convert it to a Greater Tree such that \n",
    "every key of the original BST is changed to the original key plus sum of all keys greater than the original key in BST.\n",
    "\n",
    "Example:\n",
    "\n",
    "Input: The root of a Binary Search Tree like this:\n",
    "              5\n",
    "            /   \\\n",
    "           2     13\n",
    "\n",
    "Output: The root of a Greater Tree like this:\n",
    "             18\n",
    "            /   \\\n",
    "          20     13"
   ]
  },
  {
   "cell_type": "code",
   "execution_count": null,
   "metadata": {
    "collapsed": true
   },
   "outputs": [],
   "source": [
    "# Time: O(n)\n",
    "# Space: O(1)\n",
    "# convert BST to Greater Tree\n",
    "# Edge case \n",
    "'''\n",
    "Notes:\n",
    "\n",
    "'''\n",
    "# Definition for a binary tree node.\n",
    "# class TreeNode(object):\n",
    "#     def __init__(self, x):\n",
    "#         self.val = x\n",
    "#         self.left = None\n",
    "#         self.right = None\n",
    "\n",
    "class Solution(object):\n",
    "    def convertBST(self, root):\n",
    "        \"\"\"\n",
    "        :type root: TreeNode\n",
    "        :rtype: TreeNode\n",
    "        \"\"\"\n",
    "        self.total = 0\n",
    "        def traverse(root):\n",
    "            if not root: return \n",
    "            traverse(root.right)\n",
    "            root.val += self.total\n",
    "            self.total = root.val \n",
    "            traverse(root.left)\n",
    "        traverse(root)\n",
    "        return root "
   ]
  },
  {
   "cell_type": "code",
   "execution_count": null,
   "metadata": {
    "collapsed": true
   },
   "outputs": [],
   "source": [
    "print Solution().convertBST()"
   ]
  },
  {
   "cell_type": "markdown",
   "metadata": {},
   "source": [
    "# [543. Diameter of Binary Tree](https://leetcode.com/problems/diameter-of-binary-tree/#/description)"
   ]
  },
  {
   "cell_type": "code",
   "execution_count": null,
   "metadata": {
    "collapsed": true
   },
   "outputs": [],
   "source": [
    "Given a binary tree, you need to compute the length of the diameter of the tree. \n",
    "The diameter of a binary tree is the length of the longest path between any two nodes in a tree. \n",
    "This path may or may not pass through the root.\n",
    "\n",
    "Example:\n",
    "Given a binary tree \n",
    "          1\n",
    "         / \\\n",
    "        2   3\n",
    "       / \\     \n",
    "      4   5    \n",
    "Return 3, which is the length of the path [4,2,1,3] or [5,2,1,3].\n",
    "\n",
    "Note: The length of path between two nodes is represented by the number of edges between them."
   ]
  },
  {
   "cell_type": "code",
   "execution_count": 43,
   "metadata": {
    "collapsed": false
   },
   "outputs": [],
   "source": [
    "# Time: O(n)\n",
    "# Space: O(1)\n",
    "# Diameter of Binary Tree\n",
    "# Edge case\n",
    "'''\n",
    "Notes:\n",
    "\n",
    "'''\n",
    "\n",
    "# Definition for a binary tree node.\n",
    "class TreeNode(object):\n",
    "    def __init__(self, x):\n",
    "        self.val = x\n",
    "        self.left = None\n",
    "        self.right = None\n",
    "\n",
    "class Solution(object):\n",
    "    def diameterOfBinaryTree(self, root):\n",
    "        \"\"\"\n",
    "        :type root: TreeNode\n",
    "        :rtype: int\n",
    "        \"\"\"\n",
    "        self.ans = 0\n",
    "        def depth(p):\n",
    "            if not p: return 0\n",
    "            left, right = depth(p.left), depth(p.right)\n",
    "            print left, right \n",
    "            self.ans = max(self.ans, left+right)\n",
    "            return 1 + max(left, right)\n",
    "\n",
    "        depth(root)\n",
    "        return self.ans\n",
    "           "
   ]
  },
  {
   "cell_type": "code",
   "execution_count": 44,
   "metadata": {
    "collapsed": false
   },
   "outputs": [
    {
     "name": "stdout",
     "output_type": "stream",
     "text": [
      "0 0\n",
      "0 0\n",
      "0 0\n",
      "1 1\n",
      "1 2\n",
      "0 0\n",
      "0 0\n",
      "1 1\n",
      "3 2\n",
      "5\n"
     ]
    }
   ],
   "source": [
    "root = TreeNode(6)\n",
    "root.left = TreeNode(2)\n",
    "root.right = TreeNode(7)\n",
    "\n",
    "root.left.left = TreeNode(1)\n",
    "root.left.right = TreeNode(4)\n",
    "root.right.right = TreeNode(9)\n",
    "\n",
    "root.left.right.left = TreeNode(3)\n",
    "root.left.right.right = TreeNode(5)\n",
    "root.right.left = TreeNode(8)\n",
    "\n",
    "result = Solution().diameterOfBinaryTree(root)\n",
    "print result"
   ]
  },
  {
   "cell_type": "markdown",
   "metadata": {},
   "source": [
    "# 545 Boundary of Binary Tree "
   ]
  },
  {
   "cell_type": "code",
   "execution_count": null,
   "metadata": {
    "collapsed": true
   },
   "outputs": [],
   "source": [
    "Given a binary tree, return the values of its boundary in anti-clockwise direction starting from root. \n",
    "Boundary includes left boundary, leaves, and right boundary in order without duplicate nodes.\n",
    "\n",
    "Left boundary is defined as the path from root to the left-most node. \n",
    "Right boundary is defined as the path from root to the right-most node. \n",
    "If the root doesn't have left subtree or right subtree, then the root itself is left boundary or right boundary. \n",
    "Note this definition only applies to the input binary tree, and not applies to any subtrees.\n",
    "\n",
    "The left-most node is defined as a leaf node you could reach \n",
    "when you always firstly travel to the left subtree if exists. \n",
    "If not, travel to the right subtree. Repeat until you reach a leaf node.\n",
    "\n",
    "The right-most node is also defined by the same way with left and right exchanged.\n",
    "\n",
    "Example 1\n",
    "\n",
    "Input:\n",
    "  1\n",
    "   \\\n",
    "    2\n",
    "   / \\\n",
    "  3   4\n",
    "\n",
    "Ouput:\n",
    "[1, 3, 4, 2]\n",
    "\n",
    "Explanation:\n",
    "The root doesn't have left subtree, so the root itself is left boundary.\n",
    "The leaves are node 3 and 4.\n",
    "The right boundary are node 1,2,4. Note the anti-clockwise direction means you should output reversed right boundary.\n",
    "So order them in anti-clockwise without duplicates and we have [1,3,4,2].\n",
    "Example 2\n",
    "\n",
    "Input:\n",
    "    ____1_____\n",
    "   /          \\\n",
    "  2            3\n",
    " / \\          / \n",
    "4   5        6   \n",
    "   / \\      / \\\n",
    "  7   8    9  10  \n",
    "       \n",
    "Ouput:\n",
    "[1,2,4,7,8,9,10,6,3]\n",
    "\n",
    "Explanation:\n",
    "The left boundary are node 1,2,4. (4 is the left-most node according to definition)\n",
    "The leaves are node 4,7,8,9,10.\n",
    "The right boundary are node 1,3,6,10. (10 is the right-most node).\n",
    "So order them in anti-clockwise without duplicate nodes we have [1,2,4,7,8,9,10,6,3]."
   ]
  },
  {
   "cell_type": "code",
   "execution_count": null,
   "metadata": {
    "collapsed": true
   },
   "outputs": [],
   "source": [
    "# Definition for a binary tree node.\n",
    "# class TreeNode(object):\n",
    "#     def __init__(self, x):\n",
    "#         self.val = x\n",
    "#         self.left = None\n",
    "#         self.right = None\n",
    "'''\n",
    "Notes:\n",
    "DFS \n",
    "'''\n",
    "\n",
    "class Solution(object):\n",
    "    def boundaryOfBinaryTree(self, root):\n",
    "        \"\"\"\n",
    "        :type root: TreeNode\n",
    "        :rtype: List[int]\n",
    "        \"\"\"\n",
    "        if not root: return []\n",
    "        if not root.left and not root.right: return [root.val]\n",
    "\n",
    "        leaves = []\n",
    "        def traverse(root):\n",
    "            if not root.left and not root.right:\n",
    "                leaves.append(root)\n",
    "            if root.left:\n",
    "                traverse(root.left)\n",
    "            if root.right:\n",
    "                traverse(root.right)\n",
    "        traverse(root)\n",
    "\n",
    "        left = []\n",
    "        node = root\n",
    "        while node and node != leaves[0]:\n",
    "            left.append(node)\n",
    "            if node.left: node = node.left\n",
    "            else: node = node.right\n",
    "\n",
    "        right = []\n",
    "        node = root\n",
    "        while node and node != leaves[-1]:\n",
    "            right.append(node)\n",
    "            if node.right: node = node.right\n",
    "            else: node = node.left\n",
    "\n",
    "        left = left[1:] if root.left else []\n",
    "        right = right[1:] if root.right else []\n",
    "        return [node.val for node in [root] + left + leaves + right[::-1]]"
   ]
  },
  {
   "cell_type": "markdown",
   "metadata": {},
   "source": [
    "# 549 Binary Tree Longest Consecutive Sequence II "
   ]
  },
  {
   "cell_type": "code",
   "execution_count": null,
   "metadata": {
    "collapsed": true
   },
   "outputs": [],
   "source": [
    "Given a binary tree, you need to find the length of Longest Consecutive Path in Binary Tree.\n",
    "\n",
    "Especially, this path can be either increasing or decreasing. \n",
    "For example, [1,2,3,4] and [4,3,2,1] are both considered valid, \n",
    "but the path [1,2,4,3] is not valid. On the other hand, the path can be in the child-Parent-child order, \n",
    "where not necessarily be parent-child order.\n",
    "\n",
    "Example 1:\n",
    "\n",
    "Input:\n",
    "        1\n",
    "       / \\\n",
    "      2   3\n",
    "Output: 2\n",
    "Explanation: The longest consecutive path is [1, 2] or [2, 1].\n",
    "Example 2:\n",
    "\n",
    "Input:\n",
    "        2\n",
    "       / \\\n",
    "      1   3\n",
    "Output: 3\n",
    "Explanation: The longest consecutive path is [1, 2, 3] or [3, 2, 1]."
   ]
  },
  {
   "cell_type": "code",
   "execution_count": null,
   "metadata": {
    "collapsed": true
   },
   "outputs": [],
   "source": [
    "# Definition for a binary tree node.\n",
    "# class TreeNode(object):\n",
    "#     def __init__(self, x):\n",
    "#         self.val = x\n",
    "#         self.left = None\n",
    "#         self.right = None\n",
    "\n",
    "'''\n",
    "\n",
    "'''\n",
    "\n",
    "class Solution(object):\n",
    "    def solve(self, root):\n",
    "        inc = dec = 0\n",
    "        for child in (root.left, root.right):\n",
    "            if not child: continue\n",
    "            cinc, cdec = self.solve(child)\n",
    "            if child.val == root.val - 1:\n",
    "                dec = max(dec, cdec)\n",
    "            elif child.val == root.val + 1:\n",
    "                inc = max(inc, cinc)\n",
    "        self.ans = max(self.ans, inc + dec + 1)\n",
    "        return inc + 1, dec + 1\n",
    "    \n",
    "    def longestConsecutive(self, root):\n",
    "        \"\"\"\n",
    "        :type root: TreeNode\n",
    "        :rtype: int\n",
    "        \"\"\"\n",
    "        self.ans = 0\n",
    "        if root: self.solve(root)\n",
    "        return self.ans\n",
    "    \n",
    "# http://bookshadow.com/weblog/2017/04/09/leetcode-binary-tree-longest-consecutive-sequence-ii/"
   ]
  },
  {
   "cell_type": "markdown",
   "metadata": {},
   "source": [
    "# 563. Binary Tree Tilt"
   ]
  },
  {
   "cell_type": "code",
   "execution_count": null,
   "metadata": {
    "collapsed": true
   },
   "outputs": [],
   "source": [
    "Given a binary tree, return the tilt of the whole tree.\n",
    "\n",
    "The tilt of a tree node is defined as the absolute difference \n",
    "between the sum of all left subtree node values and the sum of all right subtree node values. Null node has tilt 0.\n",
    "\n",
    "The tilt of the whole tree is defined as the sum of all nodes' tilt.\n",
    "\n",
    "Example:\n",
    "Input: \n",
    "         1\n",
    "       /   \\\n",
    "      2     3\n",
    "Output: 1\n",
    "Explanation: \n",
    "Tilt of node 2 : 0\n",
    "Tilt of node 3 : 0\n",
    "Tilt of node 1 : |2-3| = 1\n",
    "Tilt of binary tree : 0 + 0 + 1 = 1\n",
    "Note:\n",
    "\n",
    "The sum of node values in any subtree won't exceed the range of 32-bit integer.\n",
    "All the tilt values won't exceed the range of 32-bit integer."
   ]
  },
  {
   "cell_type": "code",
   "execution_count": null,
   "metadata": {
    "collapsed": true
   },
   "outputs": [],
   "source": [
    "# Definition for a binary tree node.\n",
    "# class TreeNode(object):\n",
    "#     def __init__(self, x):\n",
    "#         self.val = x\n",
    "#         self.left = None\n",
    "#         self.right = None\n",
    "\n",
    "class Solution(object):\n",
    "    def findTilt(self, root):\n",
    "        \"\"\"\n",
    "        :type root: TreeNode\n",
    "        :rtype: int\n",
    "        \"\"\"\n",
    "        self.ans = 0\n",
    "        def subTreeSum(root):\n",
    "            if not root: return 0\n",
    "            lsum = subTreeSum(root.left)\n",
    "            rsum = subTreeSum(root.right)\n",
    "            self.ans += abs(lsum - rsum)\n",
    "            return root.val + lsum + rsum\n",
    "        subTreeSum(root)\n",
    "        return self.ans"
   ]
  },
  {
   "cell_type": "markdown",
   "metadata": {},
   "source": [
    "# 572 Subtree of Another Tree "
   ]
  },
  {
   "cell_type": "code",
   "execution_count": null,
   "metadata": {
    "collapsed": true
   },
   "outputs": [],
   "source": [
    "Given two non-empty binary trees s and t, check whether tree t has \n",
    "exactly the same structure and node values with a subtree of s. \n",
    "A subtree of s is a tree consists of a node in s and all of this node's descendants. \n",
    "The tree s could also be considered as a subtree of itself.\n",
    "\n",
    "Example 1:\n",
    "Given tree s:\n",
    "\n",
    "     3\n",
    "    / \\\n",
    "   4   5\n",
    "  / \\\n",
    " 1   2\n",
    "Given tree t:\n",
    "\n",
    "   4 \n",
    "  / \\\n",
    " 1   2\n",
    "Return true, because t has the same structure and node values with a subtree of s.\n",
    "\n",
    "Example 2:\n",
    "Given tree s:\n",
    "\n",
    "     3\n",
    "    / \\\n",
    "   4   5\n",
    "  / \\\n",
    " 1   2\n",
    "    /\n",
    "   0\n",
    "Given tree t:\n",
    "\n",
    "   4\n",
    "  / \\\n",
    " 1   2\n",
    "Return false."
   ]
  },
  {
   "cell_type": "code",
   "execution_count": null,
   "metadata": {
    "collapsed": true
   },
   "outputs": [],
   "source": [
    "# Definition for a binary tree node.\n",
    "# class TreeNode(object):\n",
    "#     def __init__(self, x):\n",
    "#         self.val = x\n",
    "#         self.left = None\n",
    "#         self.right = None\n",
    "'''\n",
    "String vs Tree\n",
    "KMP \n",
    "'''\n",
    "\n",
    "class Solution(object):\n",
    "    def isSubtree(self, s, t):\n",
    "        \"\"\"\n",
    "        :type s: TreeNode\n",
    "        :type t: TreeNode\n",
    "        :rtype: bool\n",
    "        \"\"\"\n",
    "        if not s or not t: return not s and not t\n",
    "        if self.check(s, t): return True\n",
    "        return self.isSubtree(s.left, t) or self.isSubtree(s.right, t)\n",
    "        \n",
    "    def check(self, s, t):\n",
    "        if not s or not t: return not s and not t\n",
    "        if s.val != t.val: return False\n",
    "        return self.check(s.left, t.left) and self.check(s.right, t.right)"
   ]
  },
  {
   "cell_type": "markdown",
   "metadata": {},
   "source": [
    "# 606 Construct String from Binary Tree"
   ]
  },
  {
   "cell_type": "code",
   "execution_count": null,
   "metadata": {
    "collapsed": true
   },
   "outputs": [],
   "source": [
    "You need to construct a string consists of parenthesis and integers from \n",
    "a binary tree with the preorder traversing way.\n",
    "\n",
    "The null node needs to be represented by empty parenthesis pair \"()\". \n",
    "And you need to omit all the empty parenthesis pairs \n",
    "that don't affect the one-to-one mapping relationship between the string and the original binary tree.\n",
    "\n",
    "Example 1:\n",
    "\n",
    "Input: Binary tree: [1,2,3,4]\n",
    "       1\n",
    "     /   \\\n",
    "    2     3\n",
    "   /    \n",
    "  4     \n",
    "\n",
    "Output: \"1(2(4))(3)\"\n",
    "\n",
    "Explanation: Originallay it needs to be \"1(2(4)())(3()())\", \n",
    "but you need to omit all the unnecessary empty parenthesis pairs. \n",
    "And it will be \"1(2(4))(3)\".\n",
    "Example 2:\n",
    "\n",
    "Input: Binary tree: [1,2,3,null,4]\n",
    "       1\n",
    "     /   \\\n",
    "    2     3\n",
    "     \\  \n",
    "      4 \n",
    "\n",
    "Output: \"1(2()(4))(3)\"\n",
    "\n",
    "Explanation: Almost the same as the first example, \n",
    "except we can't omit the first parenthesis pair to break the one-to-one \n",
    "mapping relationship between the input and the output.\n"
   ]
  },
  {
   "cell_type": "code",
   "execution_count": null,
   "metadata": {
    "collapsed": true
   },
   "outputs": [],
   "source": [
    "# Time:\n",
    "# Space:\n",
    "\n",
    "# Definition for a binary tree node.\n",
    "# class TreeNode(object):\n",
    "#     def __init__(self, x):\n",
    "#         self.val = x\n",
    "#         self.left = None\n",
    "#         self.right = None\n",
    "\n",
    "class Solution(object):\n",
    "    def tree2str(self, t):\n",
    "        \"\"\"\n",
    "        :type t: TreeNode\n",
    "        :rtype: str\n",
    "        \"\"\"\n",
    "        if not t: return ''\n",
    "        ans = str(t.val)\n",
    "        if t.left or t.right: ans += '(' + self.tree2str(t.left) + ')'\n",
    "        if t.right: ans += '(' + self.tree2str(t.right) + ')'\n",
    "        return ans\n",
    "    \n",
    "# http://bookshadow.com/weblog/2017/06/04/leetcode-construct-string-from-binary-tree/"
   ]
  },
  {
   "cell_type": "markdown",
   "metadata": {},
   "source": [
    "# 617 Merge Two Binary Trees   "
   ]
  },
  {
   "cell_type": "markdown",
   "metadata": {},
   "source": [
    "Given two binary trees and imagine that when you put one of them to cover the other, some nodes of the two trees are overlapped while the others are not.\n",
    "\n",
    "You need to merge them into a new binary tree. The merge rule is that if two nodes overlap, then sum node values up as the new value of the merged node. Otherwise, the NOT null node will be used as the node of new tree.\n",
    "\n",
    "Example 1:\n",
    "Input: \n",
    "\tTree 1                     Tree 2                  \n",
    "          1                         2                             \n",
    "         / \\                       / \\                            \n",
    "        3   2                     1   3                        \n",
    "       /                           \\   \\                      \n",
    "      5                             4   7                  \n",
    "Output: \n",
    "Merged tree:\n",
    "\t     3\n",
    "\t    / \\\n",
    "\t   4   5\n",
    "\t  / \\   \\ \n",
    "\t 5   4   7\n",
    "Note: The merging process must start from the root nodes of both trees."
   ]
  },
  {
   "cell_type": "markdown",
   "metadata": {},
   "source": [
    "# 623 Add One Row to Tree"
   ]
  },
  {
   "cell_type": "code",
   "execution_count": null,
   "metadata": {
    "collapsed": true
   },
   "outputs": [],
   "source": [
    "Given the root of a binary tree, then value v and depth d, you need to add a row of \n",
    "nodes with value v at the given depth d. The root node is at depth 1.\n",
    "\n",
    "The adding rule is: given a positive integer depth d, for each NOT null tree nodes N in depth d-1, \n",
    "    create two tree nodes with value v as N's left subtree root and right subtree root. \n",
    "    And N's original left subtree should be the left subtree of the new left subtree root, \n",
    "    its original right subtree should be the right subtree of the new right subtree root. \n",
    "    If depth d is 1 that means there is no depth d-1 at all, then create a tree node with value v \n",
    "    as the new root of the whole original tree, and the original tree is the new root's left subtree.\n",
    "\n",
    "Example 1:\n",
    "\n",
    "Input: \n",
    "A binary tree as following:\n",
    "       4\n",
    "     /   \\\n",
    "    2     6\n",
    "   / \\   / \n",
    "  3   1 5   \n",
    "\n",
    "v = 1\n",
    "\n",
    "d = 2\n",
    "\n",
    "Output: \n",
    "       4\n",
    "      / \\\n",
    "     1   1\n",
    "    /     \\\n",
    "   2       6\n",
    "  / \\     / \n",
    " 3   1   5   \n",
    "\n",
    "Example 2:\n",
    "\n",
    "Input: \n",
    "A binary tree as following:\n",
    "      4\n",
    "     /   \n",
    "    2    \n",
    "   / \\   \n",
    "  3   1    \n",
    "\n",
    "v = 1\n",
    "\n",
    "d = 3\n",
    "\n",
    "Output: \n",
    "      4\n",
    "     /   \n",
    "    2\n",
    "   / \\    \n",
    "  1   1\n",
    " /     \\  \n",
    "3       1\n",
    "Note:\n",
    "\n",
    "The given d is in range [1, maximum depth of the given tree + 1].\n",
    "The given binary tree has at least one tree node."
   ]
  },
  {
   "cell_type": "code",
   "execution_count": null,
   "metadata": {
    "collapsed": true
   },
   "outputs": [],
   "source": [
    "\n",
    "# Definition for a binary tree node.\n",
    "# class TreeNode(object):\n",
    "#     def __init__(self, x):\n",
    "#         self.val = x\n",
    "#         self.left = None\n",
    "#         self.right = None\n",
    "'''\n",
    "list node: 操作！\n",
    "\n",
    "'''\n",
    "\n",
    "\n",
    "class Solution(object):\n",
    "    def addOneRow(self, root, v, d):\n",
    "        \"\"\"\n",
    "        :type root: TreeNode\n",
    "        :type v: int\n",
    "        :type d: int\n",
    "        :rtype: TreeNode\n",
    "        \"\"\"\n",
    "        if d == 1:\n",
    "            nroot = TreeNode(v)\n",
    "            nroot.left = root\n",
    "            return nroot\n",
    "        queue = [root]\n",
    "        for x in range(1, d - 1):\n",
    "            nqueue = []\n",
    "            for node in queue:\n",
    "                if node.left: nqueue.append(node.left)\n",
    "                if node.right: nqueue.append(node.right)\n",
    "            queue = nqueue\n",
    "        for node in queue:\n",
    "            left, right = node.left, node.right\n",
    "            node.left, node.right = TreeNode(v), TreeNode(v)\n",
    "            node.left.left, node.right.right = left, right\n",
    "        return root"
   ]
  },
  {
   "cell_type": "markdown",
   "metadata": {},
   "source": [
    "# 309. Best Time to Buy and Sell Stock with Cooldown"
   ]
  },
  {
   "cell_type": "code",
   "execution_count": null,
   "metadata": {
    "collapsed": true
   },
   "outputs": [],
   "source": []
  }
 ],
 "metadata": {
  "kernelspec": {
   "display_name": "Python 2",
   "language": "python",
   "name": "python2"
  },
  "language_info": {
   "codemirror_mode": {
    "name": "ipython",
    "version": 2
   },
   "file_extension": ".py",
   "mimetype": "text/x-python",
   "name": "python",
   "nbconvert_exporter": "python",
   "pygments_lexer": "ipython2",
   "version": "2.7.13"
  }
 },
 "nbformat": 4,
 "nbformat_minor": 0
}
