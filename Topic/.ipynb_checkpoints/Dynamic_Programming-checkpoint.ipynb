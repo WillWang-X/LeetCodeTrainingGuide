{
 "cells": [
  {
   "cell_type": "markdown",
   "metadata": {
    "collapsed": true
   },
   "source": [
    "# Dynamic Programming"
   ]
  },
  {
   "cell_type": "markdown",
   "metadata": {},
   "source": [
    "|  #  | Title           |  Solution       |  Time           | Space           | Difficulty    | Tag          | Note| \n",
    "|-----|---------------- | --------------- | --------------- | --------------- | ------------- |--------------|-----|\n",
    "|10| [Regular Expression Matching](https://leetcode.com/problems/regular-expression-matching/) | [Python](./Python/regular-expression-matching.py) | _O(m * n)_ | _O(n)_ | Hard ||\n",
    "|53| [Maximum Subarray](https://leetcode.com/problems/maximum-subarray/)|[Python](./Python/maximum-subarray.py)| _O(n)_     | _O(1)_         | Medium         ||\n",
    "|62| [Unique Paths](https://leetcode.com/problems/unique-paths/)    | [Python](./Python/unique-paths.py)| _O(m * n)_      | _O(m + n)_   | Medium         ||\n",
    "|63| [Unique Paths II](https://leetcode.com/problems/unique-paths-ii/) | [Python](./Python/unique-paths-ii.py) |  _O(m * n)_ | _O(m + n)_   | Medium         ||\n",
    "|64| [Minimum Path Sum](https://leetcode.com/problems/minimum-path-sum/)| [Python](./Python/minimum-path-sum.py)| _O(m * n)_ | _O(m + n)_     | Medium         ||\n",
    "|70| [Climbing Stairs](https://leetcode.com/problems/climbing-stairs/)| [Python](./Python/climbing-stairs.py) | _O(n)_    | _O(1)_          | Easy           ||\n",
    "|72| [Edit Distance](https://leetcode.com/problems/edit-distance/)|[Python](./Python/edit-distance.py)| _O(m * n)_      | _O(m + n)_      | Hard           ||\n",
    "|87| [Scramble String](https://leetcode.com/problems/scramble-string/) | [Python](./Python/scramble-string.py) | _O(n^4)_ | _O(n^3)_        | Hard           ||\n",
    "|91| [Decode Ways](https://leetcode.com/problems/decode-ways/)   | [C++](./Python/decode-ways.cpp) [Python](./Python/decode-ways.py)| _O(n)_          | _O(1)_          | Medium         ||\n",
    "|96| [Unique Binary Search Trees](https://leetcode.com/problems/unique-binary-search-trees/) | [Python](./Python/unique-binary-search-trees.py) | _O(n)_      | _O(1)_         | Medium         || Math\n",
    "|97| [Interleaving String](https://leetcode.com/problems/interleaving-string/)|[Python](./Python/interleaving-string.py)| _O(m * n)_ | _O(m + n)_ | Hard         ||\n",
    "|115| [Distinct Subsequences](https://leetcode.com/problems/distinct-subsequences/)|[Python](./Python/distinct-subsequences.py)| _O(n^2)_ | _O(n)_ | Hard           ||\n",
    "|120| [Triangle](https://leetcode.com/problems/triangle/)       | [Python](./Python/triangle.py)   | _O(m * n)_      | _O(n)_         | Medium         ||\n",
    "|123| [Best Time to Buy and Sell Stock III](https://leetcode.com/problems/best-time-to-buy-and-sell-stock-iii/) | [Python](./Python/best-time-to-buy-and-sell-stock-iii.py) | _O(n)_ | _O(1)_ | Hard ||\n",
    "|132| [Palindrome Partitioning II](https://leetcode.com/problems/palindrome-partitioning-ii/) | [Python](./Python/palindrome-partitioning-ii.py) | _O(n^2)_ | _O(n^2)_ | Hard ||\n",
    "|139| [Word Break](https://leetcode.com/problems/word-break/)     | [C++](./C++/word-break.cpp) [Python](./Python/word-break.py) |  _O(n * l^2)_         | _O(n)_       | Medium         ||\n",
    "|152| [Maximum Product Subarray](https://leetcode.com/problems/maximum-product-subarray/)|[Python](./Python/maximum-product-subarray.py)| _O(n)_ | _O(1)_ | Medium     ||\n",
    "|174| [Dungeon Game](https://leetcode.com/problems/dungeon-game/)  | [Python](./Python/dungeon-game.py)| _O(m * n)_     | _O(m + n)_      | Hard           ||\n",
    "|188| [Best Time to Buy and Sell Stock IV](https://leetcode.com/problems/best-time-to-buy-and-sell-stock-iv/)| [Python](./Python/best-time-to-buy-and-sell-stock-iv.py) | _O(k * n)_ | _O(k)_ | Hard ||\n",
    "|198| [House Robber](https://leetcode.com/problems/house-robber/)| [Python](./Python/house-robber.py) | _O(n)_          | _O(1)_          | Easy           ||\n",
    "|213| [House Robber II](https://leetcode.com/problems/house-robber-ii/)| [C++](./C++/house-robber-ii.cpp) [Python](./Python/house-robber-ii.py) | _O(n)_          | _O(1)_          | Medium           ||\n",
    "|221| [Maximal Square](https://leetcode.com/problems/maximal-square/)| [C++](./C++/maximal-square.cpp) [Python](./Python/maximal-square.py) | _O(n^2)_         | _O(n)_          | Medium           | EPI |\n",
    "|256| [Paint House](https://leetcode.com/problems/paint-house/) | [C++](./C++/paint-house.cpp) [Python](./Python/paint-house.py) | _O(n)_| _O(1)_| Medium |📖||\n",
    "|265| [Paint House II](https://leetcode.com/problems/paint-house-ii/) | [C++](./C++/paint-house-ii.cpp) [Python](./Python/paint-house-ii.py) | _O(n * k)_| _O(k)_| Hard |📖||\n",
    "|276| [Paint Fence](https://leetcode.com/problems/paint-fence/) | [C++](./C++/paint-fence.cpp) [Python](./Python/paint-fence.py) | _O(n)_| _O(1)_| Easy |📖||\n",
    "|279| [Perfect Squares](https://leetcode.com/problems/perfect-squares/)| [C++](./C++/perfect-squares.cpp) [Python](./Python/perfect-squares.py) | _O(n * sqrt(n))_         | _O(n)_          | Medium           ||  Hash |\n",
    "|303| [Range Sum Query - Immutable](https://leetcode.com/problems/range-sum-query-immutable/)| [C++](./C++/range-sum-query-immutable.cpp) [Python](./Python/range-sum-query-immutable.py) | ctor: _O(n)_, lookup: _O(1)_          | _O(n)_          | Easy           ||\n",
    "|304| [Range Sum Query 2D - Immutable](https://leetcode.com/problems/range-sum-query-2d-immutable/)| [C++](./C++/range-sum-query-2d-immutable.cpp) [Python](./Python/range-sum-query-2d-immutable.py) | ctor: _O(m * n)_, lookup: _O(1)_          | _O(m * n)_          | Medium           ||\n",
    "|309| [Best Time to Buy and Sell Stock with Cooldown](https://leetcode.com/problems/best-time-to-buy-and-sell-stock-with-cooldown/) | [C++](./C++/best-time-to-buy-and-sell-stock-with-cooldown.cpp) [Python](./Python/best-time-to-buy-and-sell-stock-with-cooldown.py) | _O(n)_ | _O(1)_ | Medium ||\n",
    "|312| [Burst Balloons](https://leetcode.com/problems/burst-balloons/) | [C++](./C++/burst-balloons.cpp) [Python](./Python/burst-balloons.py) | _O(n^3)_ | _O(n^2)_ | Hard ||\n",
    "|322| [Coin Change](https://leetcode.com/problems/coin-change/) | [C++](./C++/coin-change.cpp) [Python](./Python/coin-change.py) | _O(n * k)_ | _O(k)_ | Medium ||\n",
    "|351| [Android Unlock Patterns](https://leetcode.com/problems/android-unlock-patterns/) | [C++](./C++/android-unlock-patterns.cpp) [Python](./Python/android-unlock-patterns.py) | _O(9^2 * 2^9)_ | _O(9 * 2^9)_ | Medium | 📖 | Backtracking |\n",
    "|357| [Count Numbers with Unique Digits](https://leetcode.com/problems/count-numbers-with-unique-digits/) | [C++](./C++/count-numbers-with-unique-digits.cpp) [Python](./Python/count-numbers-with-unique-digits.py) | _O(n)_ | _O(1)_ | Medium || Backtracking, Math |\n",
    "|361| [Bomb Enemy](https://leetcode.com/problems/bomb-enemy/) | [C++](./C++/bomb-enemy.cpp) [Python](./Python/bomb-enemy.py) | _O(m * n)_ | _O(m * n)_ | Medium | 📖 | |\n",
    "|368| [Largest Divisible Subset](https://leetcode.com/problems/largest-divisible-subset/) | [C++](./C++/largest-divisible-subset.cpp) [Python](./Python/largest-divisible-subset.py) | _O(n^2)_ | _O(n)_ | Medium | | |\n",
    "|375| [Guess Number Higher or Lower II](https://leetcode.com/problems/guess-number-higher-or-lower-ii/)| [C++](./C++/guess-number-higher-or-lower-ii.cpp) [Python](./Python/guess-number-higher-or-lower-ii.py)   | _O(n^2)_          | _O(n^2)_          | Medium         | |\n",
    "|377| [Combination Sum IV](https://leetcode.com/problems/combination-sum-iv/)| [C++](./C++/combination-sum-iv.cpp) [Python](./Python/combination-sum-iv.py)   | _O(nlogn + n * t)_          | _O(t)_          | Medium         | |\n",
    "|403 | [Frog Jump](https://leetcode.com/problems/frog-jump/) | [C++](./C++/frog-jump.cpp) [Python](./Python/frog-jump.py) | _O(n)_ | _O(n) ~ O(n^2)_ | Hard ||\n",
    "|416 | [Partition Equal Subset Sum](https://leetcode.com/problems/partition-equal-subset-sum/) | [C++](./C++/partition-equal-subset-sum.cpp) [Python](./Python/partition-equal-subset-sum.py) | _O(n * s)_ | _O(s)_ | Medium ||\n",
    "|418 | [Sentence Screen Fitting](https://leetcode.com/problems/sentence-screen-fitting/) | [C++](./C++/sentence-screen-fitting.cpp) [Python](./Python/sentence-screen-fitting.py) | _O(r + n * c)_ | _O(n)_ | Medium |📖|\n",
    "|446 | [Arithmetic Slices II - Subsequence](https://leetcode.com/problems/arithmetic-slices-ii-subsequence/) | [C++](./C++/arithmetic-slices-ii-subsequence.cpp) [Python](./Python/arithmetic-slices-ii-subsequence.py) | _O(n^2)_ | _O(n * d)_ | Hard ||\n",
    "|465 | [Optimal Account Balancing](https://leetcode.com/problems/optimal-account-balancing/) | [C++](./C++/optimal-account-balancing.cpp) [Python](./Python/optimal-account-balancing.py) | _O(n * 2^n)_ | _O(n * 2^n)_ | Hard |📖|\n",
    "|466 | [Count The Repetitions](https://leetcode.com/problems/count-the-repetitions/) | [C++](./C++/count-the-repetitions.cpp) [Python](./Python/count-the-repetitions.py) | _O(s1 * min(s2, n1))_ | _O(s2)_ | Hard ||\n",
    "|467 | [Unique Substrings in Wraparound String](https://leetcode.com/problems/unique-substrings-in-wraparound-string/) | [C++](./C++/unique-substrings-in-wraparound-string.cpp) [Python](./Python/unique-substrings-in-wraparound-string.py) | _O(n)_ | _O(1)_ | Medium ||\n",
    "|471 | [Encode String with Shortest Length](https://leetcode.com/problems/encode-string-with-shortest-length/) | [C++](./C++/encode-string-with-shortest-length.cpp) [Python](./Python/encode-string-with-shortest-length.py) | _O(n^3)_ on average | _O(n^2)_ | Medium |📖|\n",
    "|472 | [Concatenated Words](https://leetcode.com/problems/concatenated-words/) | [C++](./C++/concatenated-words.cpp) [Python](./Python/concatenated-words.py) | _O(n * l^2)_ | _O(n * l)_ | Medium ||\n",
    "|474 | [Ones and Zeroes](https://leetcode.com/problems/ones-and-zeroes/) | [C++](./C++/ones-and-zeroes.cpp) [Python](./Python/ones-and-zeroes.py) | _O(s * m * n)_ | _O(m * n)_ | Medium ||\n"
   ]
  },
  {
   "cell_type": "markdown",
   "metadata": {},
   "source": [
    "# 1. |10| [Regular Expression Matching](https://leetcode.com/problems/regular-expression-matching/) | [Python](./Python/regular-expression-matching.py) | _O(m * n)_ | _O(n)_ | Hard ||"
   ]
  },
  {
   "cell_type": "markdown",
   "metadata": {},
   "source": [
    "# 2. |53| [Maximum Subarray](https://leetcode.com/problems/maximum-subarray/)|[Python](./Python/maximum-subarray.py)| _O(n)_     | _O(1)_         | Medium         ||\n"
   ]
  },
  {
   "cell_type": "markdown",
   "metadata": {},
   "source": [
    "# 3. |62| [Unique Paths](https://leetcode.com/problems/unique-paths/)    | [Python](./Python/unique-paths.py)| _O(m * n)_      | _O(m + n)_   | Medium         ||"
   ]
  },
  {
   "cell_type": "markdown",
   "metadata": {},
   "source": [
    "# 4. |63| [Unique Paths II](https://leetcode.com/problems/unique-paths-ii/) | [Python](./Python/unique-paths-ii.py) |  _O(m * n)_ | _O(m + n)_   | Medium         ||"
   ]
  },
  {
   "cell_type": "markdown",
   "metadata": {},
   "source": [
    "# 5. |64| [Minimum Path Sum](https://leetcode.com/problems/minimum-path-sum/)| [Python](./Python/minimum-path-sum.py)| _O(m * n)_ | _O(m + n)_     | Medium         ||"
   ]
  },
  {
   "cell_type": "markdown",
   "metadata": {},
   "source": [
    "# 6. |70| [Climbing Stairs](https://leetcode.com/problems/climbing-stairs/)| [Python](./Python/climbing-stairs.py) | _O(n)_    | _O(1)_          | Easy           ||"
   ]
  },
  {
   "cell_type": "markdown",
   "metadata": {},
   "source": [
    "# 7. |72| [Edit Distance](https://leetcode.com/problems/edit-distance/)|[Python](./Python/edit-distance.py)| _O(m * n)_      | _O(m + n)_      | Hard           ||"
   ]
  },
  {
   "cell_type": "markdown",
   "metadata": {},
   "source": [
    "# 8. |87| [Scramble String](https://leetcode.com/problems/scramble-string/) | [Python](./Python/scramble-string.py) | _O(n^4)_ | _O(n^3)_        | Hard           ||"
   ]
  },
  {
   "cell_type": "markdown",
   "metadata": {},
   "source": [
    "# 9. |91| [Decode Ways](https://leetcode.com/problems/decode-ways/)   | [C++](./Python/decode-ways.cpp) [Python](./Python/decode-ways.py)| _O(n)_          | _O(1)_          | Medium         ||\n"
   ]
  },
  {
   "cell_type": "code",
   "execution_count": null,
   "metadata": {
    "collapsed": true
   },
   "outputs": [],
   "source": [
    "A message containing letters from A-Z is being encoded to numbers using the following mapping:\n",
    "\n",
    "'A' -> 1\n",
    "'B' -> 2\n",
    "...\n",
    "'Z' -> 26\n",
    "\n",
    "Given an encoded message containing digits, determine the total number of ways to decode it.\n",
    "\n",
    "For example,\n",
    "Given encoded message \"12\", it could be decoded as \"AB\" (1 2) or \"L\" (12).\n",
    "\n",
    "The number of ways decoding \"12\" is 2."
   ]
  },
  {
   "cell_type": "code",
   "execution_count": 11,
   "metadata": {
    "collapsed": true
   },
   "outputs": [],
   "source": [
    "# Time:  O(n)\n",
    "# Space: O(1)\n",
    "\n",
    "class Solution(object):\n",
    "    def numDecodings(self, s):\n",
    "        \"\"\"\n",
    "        :type s: str\n",
    "        :rtype: int\n",
    "        \"\"\"\n",
    "        if len(s) == 0 or s[0] == '0':\n",
    "            return 0\n",
    "        \n",
    "        prev, prev_prev = 1, 0\n",
    "        for i in xrange(len(s)):\n",
    "            cur = 0\n",
    "            if s[i] != '0':\n",
    "                cur = prev\n",
    "            if i > 0 and (s[i - 1] == '1' or (s[i - 1] == '2' and s[i] <= '6')):\n",
    "                cur += prev_prev\n",
    "            prev = cur \n",
    "            prev_prev = prev\n",
    "        return prev"
   ]
  },
  {
   "cell_type": "code",
   "execution_count": 12,
   "metadata": {
    "collapsed": false,
    "scrolled": true
   },
   "outputs": [
    {
     "name": "stdout",
     "output_type": "stream",
     "text": [
      "2\n"
     ]
    }
   ],
   "source": [
    "print Solution().numDecodings('10323')"
   ]
  },
  {
   "cell_type": "code",
   "execution_count": null,
   "metadata": {
    "collapsed": true
   },
   "outputs": [],
   "source": [
    "class Solution(object):\n",
    "    def numDecodings(self, s):\n",
    "        \"\"\"\n",
    "        :type s: str\n",
    "        :rtype: int\n",
    "        \"\"\"\n",
    "        n = len(s)\n",
    "        if n==0:\n",
    "            return 0\n",
    "        m = [0 for _ in range(n+1)]\n",
    "        m[n] = 1\n",
    "        m[n-1] = 0 if s[n-1] == '0' else 1\n",
    "        for i in range(n-2, -1, -1):\n",
    "            if s[i] == '0':\n",
    "                continue\n",
    "            else:\n",
    "                m[i] = m[i+1]+m[i+2] if int(s[i:i+2])<=26 else m[i+1]\n",
    "        return m[0]"
   ]
  },
  {
   "cell_type": "code",
   "execution_count": null,
   "metadata": {
    "collapsed": true
   },
   "outputs": [],
   "source": [
    "class Solution(object):\n",
    "    # @param s, a string\n",
    "    # @return an integer\n",
    "    def numDecodings(self, s):\n",
    "        #dp[i] = dp[i-1] if s[i] != \"0\"\n",
    "        #       +dp[i-2] if \"09\" < s[i-1:i+1] < \"27\"\n",
    "        if s == \"\": return 0\n",
    "        dp = [0 for x in range(len(s)+1)]\n",
    "        dp[0] = 1\n",
    "        for i in range(1, len(s)+1):\n",
    "            if s[i-1] != \"0\":\n",
    "                dp[i] += dp[i-1]\n",
    "            if i != 1 and s[i-2:i] < \"27\" and s[i-2:i] > \"09\":  #\"01\"ways = 0\n",
    "                dp[i] += dp[i-2]\n",
    "        return dp[len(s)]"
   ]
  },
  {
   "cell_type": "code",
   "execution_count": null,
   "metadata": {
    "collapsed": true
   },
   "outputs": [],
   "source": []
  },
  {
   "cell_type": "code",
   "execution_count": 10,
   "metadata": {
    "collapsed": false
   },
   "outputs": [
    {
     "name": "stdout",
     "output_type": "stream",
     "text": [
      "0\n",
      "1\n",
      "2\n",
      "3\n",
      "4\n"
     ]
    }
   ],
   "source": [
    "for i in range(5):\n",
    "    print i"
   ]
  },
  {
   "cell_type": "markdown",
   "metadata": {},
   "source": [
    "# 10. |96| [Unique Binary Search Trees](https://leetcode.com/problems/unique-binary-search-trees/) | [Python](./Python/unique-binary-search-trees.py) | _O(n)_      | _O(1)_         | Medium         || Math"
   ]
  },
  {
   "cell_type": "code",
   "execution_count": null,
   "metadata": {
    "collapsed": true
   },
   "outputs": [],
   "source": [
    "Time:  O(n)\n",
    "Space: O(1)\n",
    "\n",
    "Given n, how many structurally unique BST's (binary search trees) that store values 1...n?\n",
    "\n",
    "For example,\n",
    "Given n = 3, there are a total of 5 unique BST's.\n",
    "\n",
    "   1         3     3      2      1\n",
    "    \\       /     /      / \\      \\\n",
    "     3     2     1      1   3      2\n",
    "    /     /       \\                 \\\n",
    "   2     1         2                 3\n"
   ]
  },
  {
   "cell_type": "code",
   "execution_count": null,
   "metadata": {
    "collapsed": true
   },
   "outputs": [],
   "source": [
    "\n",
    "\n",
    "# Math solution.\n",
    "class Solution(object):\n",
    "    def numTrees(self, n):\n",
    "        \"\"\"\n",
    "        :type n: int\n",
    "        :rtype: int\n",
    "        \"\"\"\n",
    "        if n == 0:\n",
    "            return 1\n",
    "\n",
    "        def combination(n, k):\n",
    "            count = 1\n",
    "            # C(n, k) = (n) / 1 * (n - 1) / 2 ... * (n - k + 1) / k\n",
    "            for i in xrange(1, k + 1):\n",
    "                count = count * (n - i + 1) / i;\n",
    "            return count\n",
    "\n",
    "        return combination(2 * n, n) - combination(2 * n, n - 1)"
   ]
  },
  {
   "cell_type": "code",
   "execution_count": 15,
   "metadata": {
    "collapsed": true
   },
   "outputs": [],
   "source": [
    "# Time:  O(n^2)\n",
    "# Space: O(n)\n",
    "# DP solution.\n",
    "class Solution:\n",
    "    # @return an integer\n",
    "    def numTrees(self, n):\n",
    "        counts = [1, 1]\n",
    "        for i in xrange(2, n + 1):\n",
    "            count = 0\n",
    "            for j in xrange(i):\n",
    "                count += counts[j] * counts[i - j - 1]\n",
    "            counts.append(count)\n",
    "        return counts[-1]"
   ]
  },
  {
   "cell_type": "code",
   "execution_count": null,
   "metadata": {
    "collapsed": true
   },
   "outputs": [],
   "source": [
    "class Solution(object):\n",
    "    def numTrees(self, n):\n",
    "        nums = [0] * (n + 1)\n",
    " \n",
    "        nums[0] = 1\n",
    " \n",
    "        for i in range(1, n+1):   # Range: [1, n]\n",
    "            for j in range(1, i+1): # Range: [1, i] as the root of the tree\n",
    "                nums[i] += nums[j-1] * nums[i-j] # ! i-j\n",
    " \n",
    "        return nums[n]\n"
   ]
  },
  {
   "cell_type": "code",
   "execution_count": null,
   "metadata": {
    "collapsed": true
   },
   "outputs": [],
   "source": [
    "class Solution(object):\n",
    "    def numTrees(self, n):\n",
    "        nums = [0] * (n + 1)\n",
    " \n",
    "        nums[0] = 1\n",
    " \n",
    "        for i in range(1, n+1):   # [1, n]\n",
    "            for j in range(0, i): # [0, i-1]\n",
    "                nums[i] += nums[j] * nums[i-j-1] # ! i-j-1\n",
    " \n",
    "        return nums[n]"
   ]
  },
  {
   "cell_type": "code",
   "execution_count": 16,
   "metadata": {
    "collapsed": false,
    "scrolled": true
   },
   "outputs": [
    {
     "name": "stdout",
     "output_type": "stream",
     "text": [
      "5\n"
     ]
    }
   ],
   "source": [
    "print Solution().numTrees(3)"
   ]
  },
  {
   "cell_type": "code",
   "execution_count": null,
   "metadata": {
    "collapsed": true
   },
   "outputs": [],
   "source": [
    "https://www.kyledong.com/leetcode-unique-binary-search-trees/"
   ]
  },
  {
   "cell_type": "markdown",
   "metadata": {},
   "source": [
    "# 11. |97| [Interleaving String](https://leetcode.com/problems/interleaving-string/)|[Python](./Python/interleaving-string.py)| _O(m * n)_ | _O(m + n)_ | Hard         ||"
   ]
  },
  {
   "cell_type": "code",
   "execution_count": null,
   "metadata": {
    "collapsed": true
   },
   "outputs": [],
   "source": [
    "Given s1, s2, s3, find whether s3 is formed by the interleaving of s1 and s2.\n",
    "\n",
    "For example,\n",
    "Given:\n",
    "s1 = \"aabcc\",\n",
    "s2 = \"dbbca\",\n",
    "\n",
    "When s3 = \"aadbbcbcac\", return true.\n",
    "When s3 = \"aadbbbaccc\", return false."
   ]
  },
  {
   "cell_type": "code",
   "execution_count": null,
   "metadata": {
    "collapsed": true
   },
   "outputs": [],
   "source": [
    "# Time:  O(m * n)\n",
    "# Space: O(m + n)\n",
    "\n",
    "        \n",
    "# Time:  O(m * n)\n",
    "# Space: O(m + n)\n",
    "# Dynamic Programming + Sliding Window\n",
    "class Solution:\n",
    "    # @return a boolean\n",
    "    def isInterleave(self, s1, s2, s3):\n",
    "        if len(s1) + len(s2) != len(s3):\n",
    "            return False\n",
    "        if len(s1) > len(s2):\n",
    "            return self.isInterleave(s2, s1, s3)\n",
    "        match = [False for i in xrange(len(s1) + 1)]\n",
    "        match[0] = True\n",
    "        for i in xrange(1, len(s1) + 1):\n",
    "            match[i] = match[i -1] and s1[i - 1] == s3[i - 1]\n",
    "        for j in xrange(1, len(s2) + 1):\n",
    "            match[0] = match[0] and s2[j - 1] == s3[j - 1]\n",
    "            for i in xrange(1, len(s1) + 1):\n",
    "                match[i] = (match[i - 1] and s1[i - 1] == s3[i + j - 1]) \\\n",
    "                                       or (match[i] and s2[j - 1] == s3[i + j - 1])\n",
    "        return match[-1]"
   ]
  },
  {
   "cell_type": "markdown",
   "metadata": {},
   "source": [
    "# 12. |115| [Distinct Subsequences](https://leetcode.com/problems/distinct-subsequences/)|[Python](./Python/distinct-subsequences.py)| _O(n^2)_ | _O(n)_ | Hard           ||"
   ]
  },
  {
   "cell_type": "code",
   "execution_count": null,
   "metadata": {
    "collapsed": true
   },
   "outputs": [],
   "source": [
    "Given a string S and a string T, count the number of distinct subsequences of T in S.\n",
    "\n",
    "A subsequence of a string is a new string which is formed from the original string \n",
    "by deleting some (can be none) of the characters without disturbing the relative positions \n",
    "of the remaining characters. (ie, \"ACE\" is a subsequence of \"ABCDE\" while \"AEC\" is not).\n",
    "\n",
    "Here is an example:\n",
    "S = \"rabbbit\", T = \"rabbit\"\n",
    "\n",
    "Return 3."
   ]
  },
  {
   "cell_type": "code",
   "execution_count": null,
   "metadata": {
    "collapsed": true
   },
   "outputs": [],
   "source": [
    "# Time:  O(n^2)\n",
    "# Space: O(n)\n",
    "\n",
    "\n",
    "class Solution:\n",
    "    # @return an integer\n",
    "    def numDistinct(self, S, T):\n",
    "        ways = [0 for _ in xrange(len(T) + 1)]\n",
    "        ways[0] = 1\n",
    "        for S_char in S:\n",
    "            for j, T_char in reversed(list(enumerate(T))):\n",
    "                if S_char == T_char:\n",
    "                    ways[j + 1] += ways[j]\n",
    "        return ways[len(T)]\n",
    "        \n",
    "if __name__ == \"__main__\":\n",
    "    S = \"rabbbit\"\n",
    "    T = \"rabbit\"\n",
    "    result = Solution().numDistinct(S, T)\n",
    "    print result\n"
   ]
  },
  {
   "cell_type": "markdown",
   "metadata": {},
   "source": [
    "# 13. |120| [Triangle](https://leetcode.com/problems/triangle/)       | [Python](./Python/triangle.py)   | _O(m * n)_      | _O(n)_         | Medium         ||"
   ]
  },
  {
   "cell_type": "code",
   "execution_count": null,
   "metadata": {
    "collapsed": true
   },
   "outputs": [],
   "source": [
    "Given a triangle, find the minimum path sum from top to bottom. Each step you may move to adjacent numbers on the row below.\n",
    "\n",
    "For example, given the following triangle\n",
    "[\n",
    "     [2],\n",
    "    [3,4],\n",
    "   [6,5,7],\n",
    "  [4,1,8,3]\n",
    "]\n",
    "The minimum path sum from top to bottom is 11 (i.e., 2 + 3 + 5 + 1 = 11).\n",
    "\n",
    "Note:\n",
    "Bonus point if you are able to do this using only O(n) extra space, where n is the total number of rows in the triangle.\n"
   ]
  },
  {
   "cell_type": "code",
   "execution_count": null,
   "metadata": {
    "collapsed": true
   },
   "outputs": [],
   "source": [
    "# Time:  O(m * n)\n",
    "# Space: O(n)\n",
    "#\n",
    "\n",
    "class Solution:\n",
    "    # @param triangle, a list of lists of integers\n",
    "    # @return an integer\n",
    "    def minimumTotal(self, triangle):\n",
    "        if not triangle:\n",
    "            return 0\n",
    "        \n",
    "        cur = triangle[0] + [float(\"inf\")]\n",
    "        for i in xrange(1, len(triangle)):\n",
    "            next = []\n",
    "            next.append(triangle[i][0] + cur[0])\n",
    "            for j in xrange(1, i + 1):\n",
    "                next.append(triangle[i][j] + min(cur[j - 1], cur[j]))\n",
    "            cur = next + [float(\"inf\")]\n",
    "            \n",
    "        return reduce(min, cur)\n",
    "\n",
    "if __name__ == \"__main__\":\n",
    "    print Solution().minimumTotal([[-1], [2, 3], [1, -1, -3]])"
   ]
  },
  {
   "cell_type": "markdown",
   "metadata": {},
   "source": [
    "# 14. |123| [Best Time to Buy and Sell Stock III](https://leetcode.com/problems/best-time-to-buy-and-sell-stock-iii/) | [Python](./Python/best-time-to-buy-and-sell-stock-iii.py) | _O(n)_ | _O(1)_ | Hard ||"
   ]
  },
  {
   "cell_type": "code",
   "execution_count": null,
   "metadata": {
    "collapsed": true
   },
   "outputs": [],
   "source": [
    "Say you have an array for which the ith element \n",
    "is the price of a given stock on day i.\n",
    "\n",
    "Design an algorithm to find the maximum profit. \n",
    "You may complete at most two transactions.\n",
    "\n",
    "Note:\n",
    "You may not engage in multiple transactions at the same time \n",
    "(ie, you must sell the stock before you buy again).\n"
   ]
  },
  {
   "cell_type": "code",
   "execution_count": null,
   "metadata": {
    "collapsed": true
   },
   "outputs": [],
   "source": [
    "# Time:  O(n)\n",
    "# Space: O(1)\n",
    "\n",
    "\n",
    "class Solution:\n",
    "    # @param prices, a list of integer\n",
    "    # @return an integer\n",
    "    def maxProfit(self, prices):\n",
    "        hold1, hold2 = float(\"-inf\"), float(\"-inf\")\n",
    "        release1, release2 = 0, 0\n",
    "        for i in prices:\n",
    "            release2 = max(release2, hold2 + i)\n",
    "            hold2    = max(hold2,    release1 - i)\n",
    "            release1 = max(release1, hold1 + i)\n",
    "            hold1    = max(hold1,    -i);\n",
    "        return release2"
   ]
  },
  {
   "cell_type": "markdown",
   "metadata": {},
   "source": [
    "# 15. |132| [Palindrome Partitioning II](https://leetcode.com/problems/palindrome-partitioning-ii/) | [Python](./Python/palindrome-partitioning-ii.py) | _O(n^2)_ | _O(n^2)_ | Hard |"
   ]
  },
  {
   "cell_type": "code",
   "execution_count": null,
   "metadata": {
    "collapsed": true
   },
   "outputs": [],
   "source": [
    "\n",
    "Given a string s, partition s such that every substring of the partition is a palindrome.\n",
    "\n",
    "Return the minimum cuts needed for a palindrome partitioning of s.\n",
    "\n",
    "For example, given s = \"aab\",\n",
    "Return 1 since the palindrome partitioning [\"aa\",\"b\"] could be produced using 1 cut.\n"
   ]
  },
  {
   "cell_type": "code",
   "execution_count": null,
   "metadata": {
    "collapsed": true
   },
   "outputs": [],
   "source": [
    "# Time:  O(n^2)\n",
    "# Space: O(n^2)\n",
    "\n",
    "class Solution:\n",
    "    # @param s, a string\n",
    "    # @return an integer\n",
    "    def minCut(self, s):\n",
    "        lookup = [[False for j in xrange(len(s))] for i in xrange(len(s))]\n",
    "        mincut = [len(s) - 1 - i for i in xrange(len(s) + 1)]\n",
    "        \n",
    "        for i in reversed(xrange(len(s))):\n",
    "            for j in xrange(i, len(s)):\n",
    "                if s[i] == s[j]  and (j - i < 2 or lookup[i + 1][j - 1]):\n",
    "                    lookup[i][j] = True\n",
    "                    mincut[i] = min(mincut[i], mincut[j + 1] + 1)\n",
    "                    \n",
    "        return mincut[0]\n",
    "\n",
    "if __name__ == \"__main__\":\n",
    "    print Solution().minCut(\"aab\")"
   ]
  },
  {
   "cell_type": "markdown",
   "metadata": {},
   "source": [
    "# 16. |139| [Word Break](https://leetcode.com/problems/word-break/)     | [C++](./C++/word-break.cpp) [Python](./Python/word-break.py) |  _O(n * l^2)_         | _O(n)_       | Medium         ||"
   ]
  },
  {
   "cell_type": "code",
   "execution_count": null,
   "metadata": {
    "collapsed": true
   },
   "outputs": [],
   "source": [
    "Given a string s and a dictionary of words dict, \n",
    "determine if s can be segmented into a space-separated sequence of one or more dictionary words.\n",
    "\n",
    "For example, given\n",
    "s = \"leetcode\",\n",
    "dict = [\"leet\", \"code\"].\n",
    "\n",
    "Return true because \"leetcode\" can be segmented as \"leet code\"."
   ]
  },
  {
   "cell_type": "code",
   "execution_count": null,
   "metadata": {
    "collapsed": true
   },
   "outputs": [],
   "source": [
    "# Time:  O(n * l^2)\n",
    "# Space: O(n)\n",
    "\n",
    "\n",
    "class Solution(object):\n",
    "    def wordBreak(self, s, wordDict):\n",
    "        \"\"\"\n",
    "        :type s: str\n",
    "        :type wordDict: Set[str]\n",
    "        :rtype: bool\n",
    "        \"\"\"\n",
    "        n = len(s)\n",
    "\n",
    "        max_len = 0\n",
    "        for string in wordDict:\n",
    "            max_len = max(max_len, len(string))\n",
    "\n",
    "        can_break = [False for _ in xrange(n + 1)]\n",
    "        can_break[0] = True\n",
    "        for i in xrange(1, n + 1):\n",
    "            for l in xrange(1, min(i, max_len) + 1):\n",
    "                if can_break[i-l] and s[i-l:i] in wordDict:\n",
    "                    can_break[i] = True\n",
    "                    break\n",
    "\n",
    "        return can_break[-1]\n",
    "\n",
    "    \n",
    "if __name__ == \"__main__\":\n",
    "    print Solution().wordBreak(\"leetcode\", [\"leet\", \"code\"])"
   ]
  },
  {
   "cell_type": "markdown",
   "metadata": {},
   "source": [
    "# 17. |152| [Maximum Product Subarray](https://leetcode.com/problems/maximum-product-subarray/)|[Python](./Python/maximum-product-subarray.py)| _O(n)_ | _O(1)_ | Medium     ||"
   ]
  },
  {
   "cell_type": "code",
   "execution_count": null,
   "metadata": {
    "collapsed": true
   },
   "outputs": [],
   "source": [
    "Find the contiguous subarray within an array (containing at least one number) which has the largest product.\n",
    "\n",
    "For example, given the array [2,3,-2,4],\n",
    "the contiguous subarray [2,3] has the largest product = 6."
   ]
  },
  {
   "cell_type": "code",
   "execution_count": null,
   "metadata": {
    "collapsed": true
   },
   "outputs": [],
   "source": [
    "# Time:  O(n)\n",
    "# Space: O(1)\n",
    "\n",
    "class Solution:\n",
    "    # @param A, a list of integers\n",
    "    # @return an integer\n",
    "    def maxProduct(self, A):\n",
    "        global_max, local_max, local_min = float(\"-inf\"), 1, 1\n",
    "        for x in A:\n",
    "            local_max, local_min = max(x, local_max * x, local_min * x), min(x, local_max * x, local_min * x)\n",
    "            global_max = max(global_max, local_max)\n",
    "        return global_max\n",
    "\n",
    "class Solution2:\n",
    "    # @param A, a list of integers\n",
    "    # @return an integer\n",
    "    def maxProduct(self, A):\n",
    "        global_max, local_max, local_min = float(\"-inf\"), 1, 1\n",
    "        for x in A:\n",
    "            local_max = max(1, local_max)\n",
    "            if x > 0:\n",
    "                local_max, local_min = local_max * x, local_min * x\n",
    "            else:\n",
    "                local_max, local_min = local_min * x, local_max * x\n",
    "            global_max = max(global_max, local_max)\n",
    "        return global_max\n",
    "\n",
    "if __name__ == \"__main__\":\n",
    "    print Solution().maxProduct([2, 3, -2, 4])\n",
    "    print Solution().maxProduct([-4,-3])"
   ]
  },
  {
   "cell_type": "markdown",
   "metadata": {},
   "source": [
    "# 18. |174| [Dungeon Game](https://leetcode.com/problems/dungeon-game/)  | [Python](./Python/dungeon-game.py)| _O(m * n)_     | _O(m + n)_      | Hard           ||"
   ]
  },
  {
   "cell_type": "code",
   "execution_count": null,
   "metadata": {
    "collapsed": true
   },
   "outputs": [],
   "source": [
    "The demons had captured the princess (P) and imprisoned her \n",
    "in the bottom-right corner of a dungeon. T\n",
    "he dungeon consists of M x N rooms laid out in a 2D grid. \n",
    "Our valiant knight (K) was initially positioned in the top-left room \n",
    "and must fight his way through the dungeon to rescue the princess.\n",
    "\n",
    "The knight has an initial health point represented by a positive integer. \n",
    "If at any point his health point drops to 0 or below, he dies immediately.\n",
    "\n",
    "Some of the rooms are guarded by demons, \n",
    "so the knight loses health (negative integers) upon entering these rooms; \n",
    "other rooms are either empty (0's) or contain magic orbs that increase the knight's health (positive integers).\n",
    "\n",
    "In order to reach the princess as quickly as possible, \n",
    "the knight decides to move only rightward or downward in each step.\n",
    "\n",
    "\n",
    "Write a function to determine the knight's minimum initial health \n",
    "so that he is able to rescue the princess.\n",
    "\n",
    "For example, given the dungeon below, the initial health of \n",
    "the knight must be at least 7 if he follows the optimal path RIGHT-> RIGHT -> DOWN -> DOWN.\n",
    "\n",
    "Notes:\n",
    "\n",
    "The knight's health has no upper bound.\n",
    "Any room can contain threats or power-ups, even the first room the knight enters \n",
    "and the bottom-right room where the princess is imprisoned.\n"
   ]
  },
  {
   "cell_type": "code",
   "execution_count": null,
   "metadata": {
    "collapsed": true
   },
   "outputs": [],
   "source": [
    "# Time:  O(m * n)\n",
    "# Space: O(m + n)\n",
    "\n",
    "class Solution:\n",
    "    # @param dungeon, a list of lists of integers\n",
    "    # @return a integer\n",
    "    def calculateMinimumHP(self, dungeon):\n",
    "        DP = [float(\"inf\") for _ in dungeon[0]]\n",
    "        DP[-1] = 1\n",
    "        \n",
    "        for i in reversed(xrange(len(dungeon))):\n",
    "            DP[-1] = max(DP[-1] - dungeon[i][-1], 1)\n",
    "            for j in reversed(xrange(len(dungeon[i]) - 1)):\n",
    "                min_HP_on_exit = min(DP[j], DP[j + 1])\n",
    "                DP[j] = max(min_HP_on_exit - dungeon[i][j], 1)\n",
    "                \n",
    "        return DP[0]"
   ]
  },
  {
   "cell_type": "markdown",
   "metadata": {},
   "source": [
    "# 19. |188| [Best Time to Buy and Sell Stock IV](https://leetcode.com/problems/best-time-to-buy-and-sell-stock-iv/)| [Python](./Python/best-time-to-buy-and-sell-stock-iv.py) | _O(k * n)_ | _O(k)_ | Hard ||"
   ]
  },
  {
   "cell_type": "code",
   "execution_count": null,
   "metadata": {
    "collapsed": true
   },
   "outputs": [],
   "source": [
    "\n",
    "Say you have an array for which the ith element is the price of a given stock on day i.\n",
    "\n",
    "Design an algorithm to find the maximum profit. You may complete at most k transactions.\n",
    "\n",
    "Note:\n",
    "You may not engage in multiple transactions at the same time (ie, you must sell the stock before you buy again).\n",
    "\n"
   ]
  },
  {
   "cell_type": "code",
   "execution_count": null,
   "metadata": {
    "collapsed": true
   },
   "outputs": [],
   "source": [
    "# Time:  O(k * n)\n",
    "# Space: O(k)\n",
    "\n",
    "class Solution:\n",
    "    # @return an integer as the maximum profit \n",
    "    def maxProfit(self, k, prices):\n",
    "        if k >= len(prices) / 2:\n",
    "            return self.maxAtMostNPairsProfit(prices)\n",
    "\n",
    "        return self.maxAtMostKPairsProfit(prices, k)\n",
    "\n",
    "    def maxAtMostNPairsProfit(self, prices):\n",
    "        profit = 0\n",
    "        for i in xrange(len(prices) - 1):\n",
    "            profit += max(0, prices[i + 1] - prices[i])     \n",
    "        return profit\n",
    "\n",
    "    def maxAtMostKPairsProfit(self, prices, k):\n",
    "        max_buy = [float(\"-inf\") for _ in xrange(k + 1)]\n",
    "        max_sell = [0 for _ in xrange(k + 1)]\n",
    "\n",
    "        for i in xrange(len(prices)):\n",
    "            for j in xrange(1, min(k, i/2+1) + 1):\n",
    "                max_buy[j] = max(max_buy[j], max_sell[j-1] - prices[i])\n",
    "                max_sell[j] = max(max_sell[j], max_buy[j] + prices[i])\n",
    "\n",
    "        return max_sell[k]\n",
    "\n",
    "if __name__ == \"__main__\":\n",
    "    print Solution().maxAtMostKPairsProfit([1, 2, 3, 4], 2)"
   ]
  },
  {
   "cell_type": "markdown",
   "metadata": {},
   "source": [
    "# 20. |198| [House Robber](https://leetcode.com/problems/house-robber/)| [Python](./Python/house-robber.py) | _O(n)_          | _O(1)_          | Easy           ||"
   ]
  },
  {
   "cell_type": "markdown",
   "metadata": {},
   "source": [
    "# 21. |213| [House Robber II](https://leetcode.com/problems/house-robber-ii/)| [C++](./C++/house-robber-ii.cpp) [Python](./Python/house-robber-ii.py) | _O(n)_          | _O(1)_          | Medium           ||"
   ]
  },
  {
   "cell_type": "markdown",
   "metadata": {},
   "source": [
    "# 22. |221| [Maximal Square](https://leetcode.com/problems/maximal-square/)| [C++](./C++/maximal-square.cpp) [Python](./Python/maximal-square.py) | _O(n^2)_         | _O(n)_          | Medium           | EPI |"
   ]
  },
  {
   "cell_type": "markdown",
   "metadata": {},
   "source": [
    "|256| [Paint House](https://leetcode.com/problems/paint-house/) | [C++](./C++/paint-house.cpp) [Python](./Python/paint-house.py) | _O(n)_| _O(1)_| Medium |📖||\n",
    "|265| [Paint House II](https://leetcode.com/problems/paint-house-ii/) | [C++](./C++/paint-house-ii.cpp) [Python](./Python/paint-house-ii.py) | _O(n * k)_| _O(k)_| Hard |📖||\n",
    "|276| [Paint Fence](https://leetcode.com/problems/paint-fence/) | [C++](./C++/paint-fence.cpp) [Python](./Python/paint-fence.py) | _O(n)_| _O(1)_| Easy |📖||\n",
    "|279| [Perfect Squares](https://leetcode.com/problems/perfect-squares/)| [C++](./C++/perfect-squares.cpp) [Python](./Python/perfect-squares.py) | _O(n * sqrt(n))_         | _O(n)_          | Medium           ||  Hash |\n",
    "|303| [Range Sum Query - Immutable](https://leetcode.com/problems/range-sum-query-immutable/)| [C++](./C++/range-sum-query-immutable.cpp) [Python](./Python/range-sum-query-immutable.py) | ctor: _O(n)_, lookup: _O(1)_          | _O(n)_          | Easy           ||\n",
    "|304| [Range Sum Query 2D - Immutable](https://leetcode.com/problems/range-sum-query-2d-immutable/)| [C++](./C++/range-sum-query-2d-immutable.cpp) [Python](./Python/range-sum-query-2d-immutable.py) | ctor: _O(m * n)_, lookup: _O(1)_          | _O(m * n)_          | Medium           ||\n",
    "|309| [Best Time to Buy and Sell Stock with Cooldown](https://leetcode.com/problems/best-time-to-buy-and-sell-stock-with-cooldown/) | [C++](./C++/best-time-to-buy-and-sell-stock-with-cooldown.cpp) [Python](./Python/best-time-to-buy-and-sell-stock-with-cooldown.py) | _O(n)_ | _O(1)_ | Medium ||\n",
    "|312| [Burst Balloons](https://leetcode.com/problems/burst-balloons/) | [C++](./C++/burst-balloons.cpp) [Python](./Python/burst-balloons.py) | _O(n^3)_ | _O(n^2)_ | Hard ||\n",
    "|322| [Coin Change](https://leetcode.com/problems/coin-change/) | [C++](./C++/coin-change.cpp) [Python](./Python/coin-change.py) | _O(n * k)_ | _O(k)_ | Medium ||\n",
    "|351| [Android Unlock Patterns](https://leetcode.com/problems/android-unlock-patterns/) | [C++](./C++/android-unlock-patterns.cpp) [Python](./Python/android-unlock-patterns.py) | _O(9^2 * 2^9)_ | _O(9 * 2^9)_ | Medium | 📖 | Backtracking |\n",
    "|357| [Count Numbers with Unique Digits](https://leetcode.com/problems/count-numbers-with-unique-digits/) | [C++](./C++/count-numbers-with-unique-digits.cpp) [Python](./Python/count-numbers-with-unique-digits.py) | _O(n)_ | _O(1)_ | Medium || Backtracking, Math |\n",
    "|361| [Bomb Enemy](https://leetcode.com/problems/bomb-enemy/) | [C++](./C++/bomb-enemy.cpp) [Python](./Python/bomb-enemy.py) | _O(m * n)_ | _O(m * n)_ | Medium | 📖 | |\n",
    "|368| [Largest Divisible Subset](https://leetcode.com/problems/largest-divisible-subset/) | [C++](./C++/largest-divisible-subset.cpp) [Python](./Python/largest-divisible-subset.py) | _O(n^2)_ | _O(n)_ | Medium | | |\n",
    "|375| [Guess Number Higher or Lower II](https://leetcode.com/problems/guess-number-higher-or-lower-ii/)| [C++](./C++/guess-number-higher-or-lower-ii.cpp) [Python](./Python/guess-number-higher-or-lower-ii.py)   | _O(n^2)_          | _O(n^2)_          | Medium         | |\n",
    "|377| [Combination Sum IV](https://leetcode.com/problems/combination-sum-iv/)| [C++](./C++/combination-sum-iv.cpp) [Python](./Python/combination-sum-iv.py)   | _O(nlogn + n * t)_          | _O(t)_          | Medium         | |\n",
    "|403 | [Frog Jump](https://leetcode.com/problems/frog-jump/) | [C++](./C++/frog-jump.cpp) [Python](./Python/frog-jump.py) | _O(n)_ | _O(n) ~ O(n^2)_ | Hard ||\n",
    "|416 | [Partition Equal Subset Sum](https://leetcode.com/problems/partition-equal-subset-sum/) | [C++](./C++/partition-equal-subset-sum.cpp) [Python](./Python/partition-equal-subset-sum.py) | _O(n * s)_ | _O(s)_ | Medium ||\n",
    "|418 | [Sentence Screen Fitting](https://leetcode.com/problems/sentence-screen-fitting/) | [C++](./C++/sentence-screen-fitting.cpp) [Python](./Python/sentence-screen-fitting.py) | _O(r + n * c)_ | _O(n)_ | Medium |📖|\n",
    "|446 | [Arithmetic Slices II - Subsequence](https://leetcode.com/problems/arithmetic-slices-ii-subsequence/) | [C++](./C++/arithmetic-slices-ii-subsequence.cpp) [Python](./Python/arithmetic-slices-ii-subsequence.py) | _O(n^2)_ | _O(n * d)_ | Hard ||\n",
    "|465 | [Optimal Account Balancing](https://leetcode.com/problems/optimal-account-balancing/) | [C++](./C++/optimal-account-balancing.cpp) [Python](./Python/optimal-account-balancing.py) | _O(n * 2^n)_ | _O(n * 2^n)_ | Hard |📖|\n",
    "|466 | [Count The Repetitions](https://leetcode.com/problems/count-the-repetitions/) | [C++](./C++/count-the-repetitions.cpp) [Python](./Python/count-the-repetitions.py) | _O(s1 * min(s2, n1))_ | _O(s2)_ | Hard ||\n",
    "|467 | [Unique Substrings in Wraparound String](https://leetcode.com/problems/unique-substrings-in-wraparound-string/) | [C++](./C++/unique-substrings-in-wraparound-string.cpp) [Python](./Python/unique-substrings-in-wraparound-string.py) | _O(n)_ | _O(1)_ | Medium ||\n",
    "|471 | [Encode String with Shortest Length](https://leetcode.com/problems/encode-string-with-shortest-length/) | [C++](./C++/encode-string-with-shortest-length.cpp) [Python](./Python/encode-string-with-shortest-length.py) | _O(n^3)_ on average | _O(n^2)_ | Medium |📖|\n",
    "|472 | [Concatenated Words](https://leetcode.com/problems/concatenated-words/) | [C++](./C++/concatenated-words.cpp) [Python](./Python/concatenated-words.py) | _O(n * l^2)_ | _O(n * l)_ | Medium ||\n",
    "|474 | [Ones and Zeroes](https://leetcode.com/problems/ones-and-zeroes/) | [C++](./C++/ones-and-zeroes.cpp) [Python](./Python/ones-and-zeroes.py) | _O(s * m * n)_ | _O(m * n)_ | Medium ||\n"
   ]
  },
  {
   "cell_type": "markdown",
   "metadata": {},
   "source": [
    "# 494\tTarget Sum"
   ]
  },
  {
   "cell_type": "markdown",
   "metadata": {},
   "source": [
    "# 514\tFreedom Trail"
   ]
  },
  {
   "cell_type": "markdown",
   "metadata": {},
   "source": [
    "# 516\tLongest Palindromic Subsequence\t"
   ]
  },
  {
   "cell_type": "markdown",
   "metadata": {},
   "source": [
    "# 517\tSuper Washing Machines"
   ]
  },
  {
   "cell_type": "markdown",
   "metadata": {},
   "source": [
    "# 523\tContinuous Subarray Sum\t"
   ]
  },
  {
   "cell_type": "markdown",
   "metadata": {},
   "source": [
    "# 546\tRemove Boxes\t"
   ]
  },
  {
   "cell_type": "markdown",
   "metadata": {},
   "source": [
    "# 552\tStudent Attendance Record II\t"
   ]
  },
  {
   "cell_type": "markdown",
   "metadata": {},
   "source": [
    "# 568\tMaximum Vacation Days "
   ]
  },
  {
   "cell_type": "markdown",
   "metadata": {},
   "source": [
    "# 576 Out of Boundary Paths 33.7%\tHard"
   ]
  },
  {
   "cell_type": "code",
   "execution_count": null,
   "metadata": {
    "collapsed": true
   },
   "outputs": [],
   "source": [
    "There is an m by n grid with a ball. Given the start coordinate (i,j) of the ball, \n",
    "you can move the ball to adjacent cell or cross the grid boundary in four directions (up, down, left, right). \n",
    "However, you can at most move N times. Find out the number of paths to move the ball out of grid boundary. \n",
    "The answer may be very large, return it after mod 109 + 7.\n",
    "\n",
    "Example 1:\n",
    "Input:m = 2, n = 2, N = 2, i = 0, j = 0\n",
    "Output: 6\n",
    "Explanation:\n",
    "\n",
    "Example 2:\n",
    "Input:m = 1, n = 3, N = 3, i = 0, j = 1\n",
    "Output: 12\n",
    "Explanation:\n",
    "\n",
    "Note:\n",
    "Once you move the ball out of boundary, you cannot move it back.\n",
    "The length and height of the grid is in range [1,50].\n",
    "N is in range [0,50]."
   ]
  },
  {
   "cell_type": "markdown",
   "metadata": {},
   "source": [
    "## Solution"
   ]
  },
  {
   "cell_type": "code",
   "execution_count": 42,
   "metadata": {
    "collapsed": true
   },
   "outputs": [],
   "source": [
    "# Time:\n",
    "# Space:\n",
    "# Out of Boundary Paths\n",
    "# Solution1: BFS \n",
    "\n",
    "class Solution(object):\n",
    "    def findPaths(self, m, n, N, i, j):\n",
    "        \"\"\"\n",
    "        :type m: int\n",
    "        :type n: int\n",
    "        :type N: int\n",
    "        :type i: int\n",
    "        :type j: int\n",
    "        :rtype: int\n",
    "        \"\"\"\n",
    "        # m x n board, can move max N times, start pos i, j\n",
    "        numWays = 0\n",
    "     \n",
    "        # next state just keeps track of what possible coordinates we can go from a given coordinate\n",
    "        nextStateDict = self.createNextStateDict(m, n)\n",
    "        print nextStateDict\n",
    "        \n",
    "        # keeps track of how many times we see a coordinate\n",
    "        # at start, we only see one coordinate, which are the start coordinates\n",
    "        posCount = {(i,j):1}    \n",
    "        \n",
    "        for _ in xrange(N):\n",
    "            print _\n",
    "            new_pos_count = dict()\n",
    "            # iterate through all the positions\n",
    "            for pos in posCount:\n",
    "                # get all valid new positions from pos\n",
    "                validMoves = nextStateDict[pos]\n",
    "                numWays += (4 - len(validMoves)) * posCount[pos]    \n",
    "                \n",
    "                for newPos in validMoves:\n",
    "                    if newPos not in new_pos_count:\n",
    "                        new_pos_count[newPos] = 0\n",
    "                    new_pos_count[newPos] += posCount[pos]\n",
    "            posCount = new_pos_count\n",
    "        return numWays % (10**9 + 7)\n",
    "        \n",
    "    def getValidMoves(self, m, n, i, j):\n",
    "        # given pos (i,j), what next states can i be in?\n",
    "        posAfterOneMove = [(i+1,j),(i-1,j),(i,j+1),(i,j-1)]\n",
    "        return [(a,b) for a,b in posAfterOneMove if (0 <= a < m) and (0 <= b < n)]\n",
    "    \n",
    "    def createNextStateDict(self, m, n):\n",
    "        # for each pos in board, get a dict of next possible states\n",
    "        d = dict()\n",
    "        for row in range(0, m):\n",
    "            for col in range(0, n):\n",
    "                d[(row,col)] = self.getValidMoves(m, n, row, col)\n",
    "        return d"
   ]
  },
  {
   "cell_type": "code",
   "execution_count": 43,
   "metadata": {
    "collapsed": false,
    "scrolled": true
   },
   "outputs": [
    {
     "name": "stdout",
     "output_type": "stream",
     "text": [
      "{(0, 1): [(1, 1), (0, 0)], (1, 0): [(0, 0), (1, 1)], (0, 0): [(1, 0), (0, 1)], (1, 1): [(0, 1), (1, 0)]}\n",
      "0\n",
      "1\n",
      "6\n"
     ]
    }
   ],
   "source": [
    "print Solution().findPaths(2,2,2,0,0)"
   ]
  },
  {
   "cell_type": "code",
   "execution_count": null,
   "metadata": {
    "collapsed": true
   },
   "outputs": [],
   "source": [
    "# Time:\n",
    "# Space:\n",
    "# Out of Boundary Paths\n",
    "# Solution2: Dynamic Programming"
   ]
  },
  {
   "cell_type": "code",
   "execution_count": null,
   "metadata": {
    "collapsed": true
   },
   "outputs": [],
   "source": [
    "class Solution(object):\n",
    "    def findPaths(self, m, n, N, i, j):\n",
    "        \"\"\"\n",
    "        :type m: int\n",
    "        :type n: int\n",
    "        :type N: int\n",
    "        :type i: int\n",
    "        :type j: int\n",
    "        :rtype: int\n",
    "        \"\"\"\n",
    "        "
   ]
  },
  {
   "cell_type": "code",
   "execution_count": 45,
   "metadata": {
    "collapsed": true
   },
   "outputs": [],
   "source": [
    "import numpy as np\n",
    "\n",
    "class Solution(object):\n",
    "    def findPaths(self, m, n, N, i, j):\n",
    "        paths = np.zeros((m, n), dtype=np.int64)\n",
    "        paths[i][j] = 1\n",
    "        out = 0\n",
    "        mod = 10**9 + 7\n",
    "        for _ in range(N):\n",
    "            prev = paths % mod\n",
    "            paths = prev - prev\n",
    "            paths[1:] += prev[:-1]\n",
    "            paths[:-1] += prev[1:]\n",
    "            paths[:,1:] += prev[:,:-1]\n",
    "            paths[:,:-1] += prev[:,1:]\n",
    "            out += 4 * prev.sum() - paths.sum()\n",
    "        return int(out % mod)\n",
    "\n",
    "# https://discuss.leetcode.com/topic/88599/fast-python-solution-using-numpy"
   ]
  },
  {
   "cell_type": "code",
   "execution_count": 46,
   "metadata": {
    "collapsed": false
   },
   "outputs": [
    {
     "name": "stdout",
     "output_type": "stream",
     "text": [
      "6\n"
     ]
    }
   ],
   "source": [
    "print Solution().findPaths(2,2,2,0,0)"
   ]
  },
  {
   "cell_type": "code",
   "execution_count": 124,
   "metadata": {
    "collapsed": true
   },
   "outputs": [],
   "source": [
    "# Time:\n",
    "# Space:\n",
    "# Out of Boundary Paths\n",
    "# Solution2: Dynamic Programming \n",
    "'''\n",
    "Notes: Exponential to polynomial\n",
    "dp[i][j][k] = dp\n",
    "'''\n",
    "class Solution(object):\n",
    "    def findPaths(self, m, n, N, i, j):\n",
    "        \"\"\"\n",
    "        :type m: int\n",
    "        :type n: int\n",
    "        :type N: int\n",
    "        :type i: int\n",
    "        :type j: int\n",
    "        :rtype: int\n",
    "        \"\"\"\n",
    "        MOD = 10**9 + 7\n",
    "        nxt = [ [0] * n for _ in xrange(m) ]\n",
    "        nxt[i][j] = 1\n",
    "\n",
    "        ans = 0\n",
    "        print nxt\n",
    "        for time in xrange(N):\n",
    "            cur = nxt \n",
    "            nxt = [ [0] * n for _ in xrange(m)]\n",
    "            for r, row in enumerate(cur):\n",
    "                for c, val in enumerate(row):\n",
    "                    for nr, nc in ((r-1, c), (r+1, c), (r, c-1), (r, c+1)):\n",
    "                        if 0 <= nr < m and 0 <= nc < n:\n",
    "                            nxt[nr][nc] += val\n",
    "                            nxt[nr][nc] %= MOD\n",
    "                        else:\n",
    "#                             print nr, nc\n",
    "                            ans += val\n",
    "                            ans %= MOD\n",
    "        \n",
    "            print nxt\n",
    "        return ans"
   ]
  },
  {
   "cell_type": "code",
   "execution_count": 125,
   "metadata": {
    "collapsed": false,
    "scrolled": true
   },
   "outputs": [
    {
     "name": "stdout",
     "output_type": "stream",
     "text": [
      "[[1, 0, 0], [0, 0, 0], [0, 0, 0]]\n",
      "[[0, 1, 0], [1, 0, 0], [0, 0, 0]]\n",
      "[[2, 0, 1], [0, 2, 0], [1, 0, 0]]\n",
      "[[0, 5, 0], [5, 0, 3], [0, 3, 0]]\n",
      "12\n",
      "[[0, 0, 0], [0, 1, 0], [0, 0, 0]]\n",
      "[[0, 1, 0], [1, 0, 1], [0, 1, 0]]\n",
      "[[2, 0, 2], [0, 4, 0], [2, 0, 2]]\n",
      "[[0, 8, 0], [8, 0, 8], [0, 8, 0]]\n",
      "20\n"
     ]
    }
   ],
   "source": [
    "print Solution().findPaths(3,3,3,0,0)\n",
    "print Solution().findPaths(3,3,3,1,1)"
   ]
  },
  {
   "cell_type": "code",
   "execution_count": 122,
   "metadata": {
    "collapsed": true
   },
   "outputs": [],
   "source": [
    "class Solution(object):\n",
    "    def findPaths(self, m, n, N, i, j):\n",
    "        \"\"\"\n",
    "        :type m: int\n",
    "        :type n: int\n",
    "        :type N: int\n",
    "        :type i: int\n",
    "        :type j: int\n",
    "        :rtype: int\n",
    "        \"\"\"\n",
    "        MOD = 10**9 + 7\n",
    "        dz = zip((1, 0, -1, 0), (0, 1, 0, -1))\n",
    "        dp = [[0] *n for x in range(m)]\n",
    "        dp[i][j] = 1\n",
    "        ans = 0\n",
    "        for t in range(N):\n",
    "            ndp = [[0] *n for x in range(m)]\n",
    "            for x in range(m):\n",
    "                for y in range(n):\n",
    "                    for dx, dy in dz:\n",
    "                        nx, ny = x + dx, y + dy\n",
    "                        if 0 <= nx < m and 0 <= ny < n:\n",
    "                            ndp[nx][ny] = (ndp[nx][ny] + dp[x][y]) % MOD\n",
    "                        else:\n",
    "                            print 10*'*'\n",
    "                            print dx, dy\n",
    "                            print x, y, ':',dp[x][y]\n",
    "                            print ans\n",
    "                            ans = (ans + dp[x][y]) % MOD\n",
    "                            print ans\n",
    "                            print 10*'*'\n",
    "            dp = ndp\n",
    "            print dp\n",
    "        return ans"
   ]
  },
  {
   "cell_type": "code",
   "execution_count": 123,
   "metadata": {
    "collapsed": false
   },
   "outputs": [
    {
     "name": "stdout",
     "output_type": "stream",
     "text": [
      "**********\n",
      "-1 0\n",
      "0 0 : 1\n",
      "0\n",
      "1\n",
      "**********\n",
      "**********\n",
      "0 -1\n",
      "0 0 : 1\n",
      "1\n",
      "2\n",
      "**********\n",
      "**********\n",
      "-1 0\n",
      "0 1 : 0\n",
      "2\n",
      "2\n",
      "**********\n",
      "**********\n",
      "0 1\n",
      "0 2 : 0\n",
      "2\n",
      "2\n",
      "**********\n",
      "**********\n",
      "-1 0\n",
      "0 2 : 0\n",
      "2\n",
      "2\n",
      "**********\n",
      "**********\n",
      "0 -1\n",
      "1 0 : 0\n",
      "2\n",
      "2\n",
      "**********\n",
      "**********\n",
      "0 1\n",
      "1 2 : 0\n",
      "2\n",
      "2\n",
      "**********\n",
      "**********\n",
      "1 0\n",
      "2 0 : 0\n",
      "2\n",
      "2\n",
      "**********\n",
      "**********\n",
      "0 -1\n",
      "2 0 : 0\n",
      "2\n",
      "2\n",
      "**********\n",
      "**********\n",
      "1 0\n",
      "2 1 : 0\n",
      "2\n",
      "2\n",
      "**********\n",
      "**********\n",
      "1 0\n",
      "2 2 : 0\n",
      "2\n",
      "2\n",
      "**********\n",
      "**********\n",
      "0 1\n",
      "2 2 : 0\n",
      "2\n",
      "2\n",
      "**********\n",
      "[[0, 1, 0], [1, 0, 0], [0, 0, 0]]\n",
      "**********\n",
      "-1 0\n",
      "0 0 : 0\n",
      "2\n",
      "2\n",
      "**********\n",
      "**********\n",
      "0 -1\n",
      "0 0 : 0\n",
      "2\n",
      "2\n",
      "**********\n",
      "**********\n",
      "-1 0\n",
      "0 1 : 1\n",
      "2\n",
      "3\n",
      "**********\n",
      "**********\n",
      "0 1\n",
      "0 2 : 0\n",
      "3\n",
      "3\n",
      "**********\n",
      "**********\n",
      "-1 0\n",
      "0 2 : 0\n",
      "3\n",
      "3\n",
      "**********\n",
      "**********\n",
      "0 -1\n",
      "1 0 : 1\n",
      "3\n",
      "4\n",
      "**********\n",
      "**********\n",
      "0 1\n",
      "1 2 : 0\n",
      "4\n",
      "4\n",
      "**********\n",
      "**********\n",
      "1 0\n",
      "2 0 : 0\n",
      "4\n",
      "4\n",
      "**********\n",
      "**********\n",
      "0 -1\n",
      "2 0 : 0\n",
      "4\n",
      "4\n",
      "**********\n",
      "**********\n",
      "1 0\n",
      "2 1 : 0\n",
      "4\n",
      "4\n",
      "**********\n",
      "**********\n",
      "1 0\n",
      "2 2 : 0\n",
      "4\n",
      "4\n",
      "**********\n",
      "**********\n",
      "0 1\n",
      "2 2 : 0\n",
      "4\n",
      "4\n",
      "**********\n",
      "[[2, 0, 1], [0, 2, 0], [1, 0, 0]]\n",
      "**********\n",
      "-1 0\n",
      "0 0 : 2\n",
      "4\n",
      "6\n",
      "**********\n",
      "**********\n",
      "0 -1\n",
      "0 0 : 2\n",
      "6\n",
      "8\n",
      "**********\n",
      "**********\n",
      "-1 0\n",
      "0 1 : 0\n",
      "8\n",
      "8\n",
      "**********\n",
      "**********\n",
      "0 1\n",
      "0 2 : 1\n",
      "8\n",
      "9\n",
      "**********\n",
      "**********\n",
      "-1 0\n",
      "0 2 : 1\n",
      "9\n",
      "10\n",
      "**********\n",
      "**********\n",
      "0 -1\n",
      "1 0 : 0\n",
      "10\n",
      "10\n",
      "**********\n",
      "**********\n",
      "0 1\n",
      "1 2 : 0\n",
      "10\n",
      "10\n",
      "**********\n",
      "**********\n",
      "1 0\n",
      "2 0 : 1\n",
      "10\n",
      "11\n",
      "**********\n",
      "**********\n",
      "0 -1\n",
      "2 0 : 1\n",
      "11\n",
      "12\n",
      "**********\n",
      "**********\n",
      "1 0\n",
      "2 1 : 0\n",
      "12\n",
      "12\n",
      "**********\n",
      "**********\n",
      "1 0\n",
      "2 2 : 0\n",
      "12\n",
      "12\n",
      "**********\n",
      "**********\n",
      "0 1\n",
      "2 2 : 0\n",
      "12\n",
      "12\n",
      "**********\n",
      "[[0, 5, 0], [5, 0, 3], [0, 3, 0]]\n",
      "12\n",
      "**********\n",
      "-1 0\n",
      "0 0 : 0\n",
      "0\n",
      "0\n",
      "**********\n",
      "**********\n",
      "0 -1\n",
      "0 0 : 0\n",
      "0\n",
      "0\n",
      "**********\n",
      "**********\n",
      "-1 0\n",
      "0 1 : 0\n",
      "0\n",
      "0\n",
      "**********\n",
      "**********\n",
      "0 1\n",
      "0 2 : 0\n",
      "0\n",
      "0\n",
      "**********\n",
      "**********\n",
      "-1 0\n",
      "0 2 : 0\n",
      "0\n",
      "0\n",
      "**********\n",
      "**********\n",
      "0 -1\n",
      "1 0 : 0\n",
      "0\n",
      "0\n",
      "**********\n",
      "**********\n",
      "0 1\n",
      "1 2 : 0\n",
      "0\n",
      "0\n",
      "**********\n",
      "**********\n",
      "1 0\n",
      "2 0 : 0\n",
      "0\n",
      "0\n",
      "**********\n",
      "**********\n",
      "0 -1\n",
      "2 0 : 0\n",
      "0\n",
      "0\n",
      "**********\n",
      "**********\n",
      "1 0\n",
      "2 1 : 0\n",
      "0\n",
      "0\n",
      "**********\n",
      "**********\n",
      "1 0\n",
      "2 2 : 0\n",
      "0\n",
      "0\n",
      "**********\n",
      "**********\n",
      "0 1\n",
      "2 2 : 0\n",
      "0\n",
      "0\n",
      "**********\n",
      "[[0, 1, 0], [1, 0, 1], [0, 1, 0]]\n",
      "**********\n",
      "-1 0\n",
      "0 0 : 0\n",
      "0\n",
      "0\n",
      "**********\n",
      "**********\n",
      "0 -1\n",
      "0 0 : 0\n",
      "0\n",
      "0\n",
      "**********\n",
      "**********\n",
      "-1 0\n",
      "0 1 : 1\n",
      "0\n",
      "1\n",
      "**********\n",
      "**********\n",
      "0 1\n",
      "0 2 : 0\n",
      "1\n",
      "1\n",
      "**********\n",
      "**********\n",
      "-1 0\n",
      "0 2 : 0\n",
      "1\n",
      "1\n",
      "**********\n",
      "**********\n",
      "0 -1\n",
      "1 0 : 1\n",
      "1\n",
      "2\n",
      "**********\n",
      "**********\n",
      "0 1\n",
      "1 2 : 1\n",
      "2\n",
      "3\n",
      "**********\n",
      "**********\n",
      "1 0\n",
      "2 0 : 0\n",
      "3\n",
      "3\n",
      "**********\n",
      "**********\n",
      "0 -1\n",
      "2 0 : 0\n",
      "3\n",
      "3\n",
      "**********\n",
      "**********\n",
      "1 0\n",
      "2 1 : 1\n",
      "3\n",
      "4\n",
      "**********\n",
      "**********\n",
      "1 0\n",
      "2 2 : 0\n",
      "4\n",
      "4\n",
      "**********\n",
      "**********\n",
      "0 1\n",
      "2 2 : 0\n",
      "4\n",
      "4\n",
      "**********\n",
      "[[2, 0, 2], [0, 4, 0], [2, 0, 2]]\n",
      "**********\n",
      "-1 0\n",
      "0 0 : 2\n",
      "4\n",
      "6\n",
      "**********\n",
      "**********\n",
      "0 -1\n",
      "0 0 : 2\n",
      "6\n",
      "8\n",
      "**********\n",
      "**********\n",
      "-1 0\n",
      "0 1 : 0\n",
      "8\n",
      "8\n",
      "**********\n",
      "**********\n",
      "0 1\n",
      "0 2 : 2\n",
      "8\n",
      "10\n",
      "**********\n",
      "**********\n",
      "-1 0\n",
      "0 2 : 2\n",
      "10\n",
      "12\n",
      "**********\n",
      "**********\n",
      "0 -1\n",
      "1 0 : 0\n",
      "12\n",
      "12\n",
      "**********\n",
      "**********\n",
      "0 1\n",
      "1 2 : 0\n",
      "12\n",
      "12\n",
      "**********\n",
      "**********\n",
      "1 0\n",
      "2 0 : 2\n",
      "12\n",
      "14\n",
      "**********\n",
      "**********\n",
      "0 -1\n",
      "2 0 : 2\n",
      "14\n",
      "16\n",
      "**********\n",
      "**********\n",
      "1 0\n",
      "2 1 : 0\n",
      "16\n",
      "16\n",
      "**********\n",
      "**********\n",
      "1 0\n",
      "2 2 : 2\n",
      "16\n",
      "18\n",
      "**********\n",
      "**********\n",
      "0 1\n",
      "2 2 : 2\n",
      "18\n",
      "20\n",
      "**********\n",
      "[[0, 8, 0], [8, 0, 8], [0, 8, 0]]\n",
      "20\n"
     ]
    }
   ],
   "source": [
    "print Solution().findPaths(3,3,3,0,0)\n",
    "print Solution().findPaths(3,3,3,1,1)"
   ]
  },
  {
   "cell_type": "markdown",
   "metadata": {
    "collapsed": true
   },
   "source": [
    "# 600 Non-negative Integers without Consecutive Ones 26.3%\tHard"
   ]
  },
  {
   "cell_type": "code",
   "execution_count": null,
   "metadata": {
    "collapsed": true
   },
   "outputs": [],
   "source": [
    "Given a positive integer n, find the number of non-negative integers less than or equal to n, \n",
    "whose binary representations do NOT contain consecutive ones.\n",
    "\n",
    "Example 1:\n",
    "Input: 5\n",
    "Output: 5\n",
    "Explanation: \n",
    "Here are the non-negative integers <= 5 with their corresponding binary representations:\n",
    "0 : 0\n",
    "1 : 1\n",
    "2 : 10\n",
    "3 : 11\n",
    "4 : 100\n",
    "5 : 101\n",
    "Among them, only integer 3 disobeys the rule (two consecutive ones) and the other 5 satisfy the rule. \n",
    "Note: 1 <= n <= 109"
   ]
  },
  {
   "cell_type": "markdown",
   "metadata": {},
   "source": [
    "## Solution"
   ]
  },
  {
   "cell_type": "code",
   "execution_count": 35,
   "metadata": {
    "collapsed": true
   },
   "outputs": [],
   "source": [
    "class Solution(object):\n",
    "    def findIntegers(self, num):\n",
    "        \"\"\"\n",
    "        :type num: int\n",
    "        :rtype: int\n",
    "        \"\"\"\n",
    "        # A[0] is the lowest bit, A[-1] is the highest bit\n",
    "        A=bin(num)[2:][::-1]\n",
    "        # dp[i][0] is the number of integers with (i+1)bits, highest bit is 0 and without consecutive ones\n",
    "        # dp[i][1] is the number of integers with (i+1)bits, highest bit is 1 and without consecutive ones\n",
    "        dp=[[1,1] for _ in range(len(A))]\n",
    "        # res is the number of integers less than A[:i] without consecutive ones.\n",
    "        res=1 if A[0]=='0' else 2\n",
    "        for i in range(1, len(A)):\n",
    "            dp[i][0]=dp[i-1][0]+dp[i-1][1]\n",
    "            dp[i][1]=dp[i-1][0]\n",
    "            if A[i-1:i+1]=='01':\n",
    "                # if A[i-1:i+1]=='01', we can append '1' after integers less than A[:i] without consecutive ones, \n",
    "                # also any integer with (i+1) bits, highest bit is '0', without consecutive ones\n",
    "                # is less than A[:i+1]\n",
    "                res+=dp[i][0]\n",
    "            elif A[i-1:i+1]=='11':\n",
    "                # if A[i-1:i+1]=='11', then any integer with i+1 bits and without consecutive ones \n",
    "                # is less than A[:i+1]\n",
    "                res=dp[i][0]+dp[i][1]\n",
    "            # if A[i]=='0', the number of integers  with i+1 bits, less than A[:i+1]  and without \n",
    "            # consecutive ones is the same as A[:i]\n",
    "        return res"
   ]
  },
  {
   "cell_type": "markdown",
   "metadata": {},
   "source": [
    "## Notes"
   ]
  },
  {
   "cell_type": "code",
   "execution_count": 37,
   "metadata": {
    "collapsed": false
   },
   "outputs": [
    {
     "name": "stdout",
     "output_type": "stream",
     "text": [
      "11\n",
      "21\n"
     ]
    }
   ],
   "source": [
    "print Solution().findIntegers(18)\n",
    "print Solution().findIntegers(50)"
   ]
  },
  {
   "cell_type": "code",
   "execution_count": 29,
   "metadata": {
    "collapsed": false
   },
   "outputs": [
    {
     "name": "stdout",
     "output_type": "stream",
     "text": [
      "[4, 3, 2, 1]\n"
     ]
    }
   ],
   "source": [
    "test = [1,2,3,4]\n",
    "print test[3::-1]"
   ]
  },
  {
   "cell_type": "code",
   "execution_count": 19,
   "metadata": {
    "collapsed": false
   },
   "outputs": [
    {
     "name": "stdout",
     "output_type": "stream",
     "text": [
      "10010\n",
      "01001\n"
     ]
    }
   ],
   "source": [
    "num = 18\n",
    "print bin(num)[2:]\n",
    "print bin(num)[2:][::-1]"
   ]
  },
  {
   "cell_type": "code",
   "execution_count": 33,
   "metadata": {
    "collapsed": false
   },
   "outputs": [
    {
     "name": "stdout",
     "output_type": "stream",
     "text": [
      "01001\n",
      "01\n"
     ]
    }
   ],
   "source": [
    "num = 18\n",
    "A=bin(num)[2:][::-1]\n",
    "print A\n",
    "print A[0:2]"
   ]
  },
  {
   "cell_type": "code",
   "execution_count": 31,
   "metadata": {
    "collapsed": false
   },
   "outputs": [
    {
     "name": "stdout",
     "output_type": "stream",
     "text": [
      "[[1, 1], [1, 1], [1, 1], [1, 1], [1, 1]]\n"
     ]
    }
   ],
   "source": [
    "dp=[[1,1] for _ in range(len(A))]\n",
    "print dp"
   ]
  },
  {
   "cell_type": "markdown",
   "metadata": {},
   "source": [
    "--- \n",
    "# [198. House Robber](https://leetcode.com/problems/house-robber/#/description)"
   ]
  },
  {
   "cell_type": "code",
   "execution_count": null,
   "metadata": {
    "collapsed": true
   },
   "outputs": [],
   "source": [
    "You are a professional robber planning to rob houses along a street. \n",
    "Each house has a certain amount of money stashed, \n",
    "the only constraint stopping you from robbing each of them is \n",
    "that adjacent houses have security system connected and it will automatically contact the police \n",
    "if two adjacent houses were broken into on the same night.\n",
    "\n",
    "Given a list of non-negative integers representing the amount of money of each house, \n",
    "determine the maximum amount of money you can rob tonight without alerting the police."
   ]
  },
  {
   "cell_type": "code",
   "execution_count": 13,
   "metadata": {
    "collapsed": true
   },
   "outputs": [],
   "source": [
    "# Time: O(n)\n",
    "# Space: O(1)\n",
    "# House Robber\n",
    "# Edge Case \n",
    "'''\n",
    "f(0) = nums[0]\n",
    "f(1) = max(num[0], num[1])\n",
    "f(k) = max( f(k-2)+num[k] + f(k-1) )\n",
    "[8,4,8,5,9,6,5,4,4,10]\n",
    "'''\n",
    "\n",
    "class Solution(object):\n",
    "    def rob(self, nums):\n",
    "        \"\"\"\n",
    "        :type nums: List[int]\n",
    "        :rtype: int\n",
    "        \"\"\"\n",
    "        last, this = 0, 0\n",
    "        for i in nums:\n",
    "            # last = f(k-2)\n",
    "            last, this = this, max(last + i, this)\n",
    "            # last = f(k-1)\n",
    "        return this \n"
   ]
  },
  {
   "cell_type": "code",
   "execution_count": 14,
   "metadata": {
    "collapsed": false
   },
   "outputs": [
    {
     "name": "stdout",
     "output_type": "stream",
     "text": [
      "40\n"
     ]
    }
   ],
   "source": [
    "print Solution().rob([8,4,8,5,9,6,5,4,4,10])"
   ]
  },
  {
   "cell_type": "markdown",
   "metadata": {},
   "source": [
    "# [213. House Robber II](https://leetcode.com/problems/house-robber-ii/#/description)"
   ]
  },
  {
   "cell_type": "code",
   "execution_count": null,
   "metadata": {
    "collapsed": true
   },
   "outputs": [],
   "source": [
    "Note: This is an extension of House Robber.\n",
    "\n",
    "After robbing those houses on that street, the thief has found himself a new place for his thievery \n",
    "so that he will not get too much attention. This time, all houses at this place are arranged in a circle. \n",
    "That means the first house is the neighbor of the last one. Meanwhile, \n",
    "the security system for these houses remain the same as for those in the previous street.\n",
    "\n",
    "Given a list of non-negative integers representing the amount of money of each house, \n",
    "determine the maximum amount of money you can rob tonight without alerting the police."
   ]
  },
  {
   "cell_type": "code",
   "execution_count": null,
   "metadata": {
    "collapsed": true
   },
   "outputs": [],
   "source": [
    "# Time: O(n)\n",
    "# Space: O(1)\n",
    "# House Robber II\n",
    "# Edge case \n",
    "'''\n",
    "max(0:n-1, 1:n)\n",
    "reuse House Robber I \n",
    "'''\n",
    "\n",
    "class Solution(object):\n",
    "    def rob(self, nums):\n",
    "        \"\"\"\n",
    "        :type nums: List[int]\n",
    "        :rtype: int\n",
    "        \"\"\"\n",
    "        if len(nums) == 0:\n",
    "            return 0\n",
    "            \n",
    "        if len(nums) == 1:\n",
    "            return nums[0]\n",
    "        \n",
    "        return max(self.robRange(nums, 0, len(nums) - 1),\\\n",
    "                   self.robRange(nums, 1, len(nums)))\n",
    "    \n",
    "    def robRange(self, nums, start, end):\n",
    "        num_i, num_i_1 = nums[start], 0\n",
    "        for i in xrange(start + 1, end):\n",
    "            num_i_1, num_i_2 = num_i, num_i_1\n",
    "            num_i = max(nums[i] + num_i_2, num_i_1);\n",
    "        \n",
    "        return num_i"
   ]
  },
  {
   "cell_type": "markdown",
   "metadata": {},
   "source": [
    "# [221 Maximal Square](https://leetcode.com/problems/maximal-square/#/description)"
   ]
  },
  {
   "cell_type": "code",
   "execution_count": null,
   "metadata": {
    "collapsed": true
   },
   "outputs": [],
   "source": [
    "Given a 2D binary matrix filled with 0's and 1's, find the largest square containing only 1's and return its area.\n",
    "\n",
    "For example, given the following matrix:\n",
    "\n",
    "1 0 1 0 0\n",
    "1 0 1 1 1\n",
    "1 1 1 1 1\n",
    "1 0 0 1 0\n",
    "Return 4."
   ]
  },
  {
   "cell_type": "markdown",
   "metadata": {},
   "source": [
    "# 256. Paint House"
   ]
  },
  {
   "cell_type": "code",
   "execution_count": null,
   "metadata": {
    "collapsed": true
   },
   "outputs": [],
   "source": [
    "There are a row of n houses, each house can be painted with one of the three colors: \n",
    "red, blue or green. The cost of painting each house with a certain color is different. \n",
    "You have to paint all the houses such that no two adjacent houses have the same color.\n",
    "\n",
    "The cost of painting each house with a certain color is represented by a n x 3 cost matrix. \n",
    "For example,costs[0][0] is the cost of painting house 0 with color red; \n",
    "costs[1][2] is the cost of painting house 1 with color green, and so on... Find the minimum cost to paint all houses.\n",
    "\n",
    "Note:\n",
    "All costs are positive integers."
   ]
  },
  {
   "cell_type": "code",
   "execution_count": 26,
   "metadata": {
    "collapsed": true
   },
   "outputs": [],
   "source": [
    "# Time: O(k^2n) \n",
    "\n",
    "'''\n",
    "买股票问题\n",
    "'''\n",
    "\n",
    "class Solution(object):\n",
    "    def minCost(self, costs):\n",
    "        \"\"\"\n",
    "        :type costs: List[List[int]]\n",
    "        :rtype: int\n",
    "        \"\"\"\n",
    "        if not costs:\n",
    "            return 0\n",
    "        \n",
    "        min_cost = [costs[0], [0, 0, 0]]\n",
    "        \n",
    "        n = len(costs)\n",
    "        for i in xrange(1, n):\n",
    "            min_cost[i % 2][0] = costs[i][0] + \\\n",
    "                                 min(min_cost[(i - 1) % 2][1], min_cost[(i - 1) % 2][2])\n",
    "            min_cost[i % 2][1] = costs[i][1] + \\\n",
    "                                 min(min_cost[(i - 1) % 2][0], min_cost[(i - 1) % 2][2])\n",
    "            min_cost[i % 2][2] = costs[i][2] + \\\n",
    "                                 min(min_cost[(i - 1) % 2][0], min_cost[(i - 1) % 2][1])\n",
    "\n",
    "        return min(min_cost[(n - 1) % 2])"
   ]
  },
  {
   "cell_type": "code",
   "execution_count": 27,
   "metadata": {
    "collapsed": false
   },
   "outputs": [
    {
     "name": "stdout",
     "output_type": "stream",
     "text": [
      "2\n"
     ]
    }
   ],
   "source": [
    "print Solution().minCost([[2,3,2],[2,1,0]])"
   ]
  },
  {
   "cell_type": "markdown",
   "metadata": {},
   "source": [
    "# 265 Paint House II"
   ]
  },
  {
   "cell_type": "code",
   "execution_count": null,
   "metadata": {
    "collapsed": true
   },
   "outputs": [],
   "source": []
  },
  {
   "cell_type": "markdown",
   "metadata": {},
   "source": [
    "# 276 Paint Fence"
   ]
  },
  {
   "cell_type": "code",
   "execution_count": null,
   "metadata": {
    "collapsed": true
   },
   "outputs": [],
   "source": [
    "There is a fence with n posts, each post can be painted with one of the k colors.\n",
    "\n",
    "You have to paint all the posts such that no more than two adjacentfence posts have the same color.\n",
    "\n",
    "Return the total number of ways you can paint the fence.\n",
    "\n",
    "Note: n and k are non-negative integers."
   ]
  },
  {
   "cell_type": "code",
   "execution_count": 16,
   "metadata": {
    "collapsed": true
   },
   "outputs": [],
   "source": [
    "class Solution(object):\n",
    "    def numWays(self, n, k):\n",
    "        \"\"\"\n",
    "        :type n: int\n",
    "        :type k: int\n",
    "        :rtype: int\n",
    "        \"\"\"\n",
    "        if n == 0: return 0\n",
    "        if n == 1: return k\n",
    "        same, dif = k, k*(k-1)\n",
    "        for i in range(2, n):\n",
    "            #last two posts same or different\n",
    "            same, dif = dif, (same+dif)*(k-1)\n",
    "        return same + dif"
   ]
  },
  {
   "cell_type": "code",
   "execution_count": 17,
   "metadata": {
    "collapsed": false
   },
   "outputs": [
    {
     "name": "stdout",
     "output_type": "stream",
     "text": [
      "66\n"
     ]
    }
   ],
   "source": [
    "print Solution().numWays(4,3)"
   ]
  },
  {
   "cell_type": "markdown",
   "metadata": {},
   "source": [
    "# 279 Perfect Squares "
   ]
  },
  {
   "cell_type": "code",
   "execution_count": null,
   "metadata": {
    "collapsed": true
   },
   "outputs": [],
   "source": [
    "# \n",
    "'''\n",
    "1. DP\n",
    "2. Math\n",
    "3. DFS \n",
    "'''"
   ]
  },
  {
   "cell_type": "code",
   "execution_count": null,
   "metadata": {
    "collapsed": true
   },
   "outputs": [],
   "source": [
    "# BFS \n",
    "\n",
    "def numSquares(self, n):\n",
    "    if n < 2:\n",
    "        return n\n",
    "    lst = []\n",
    "    i = 1\n",
    "    while i * i <= n:\n",
    "        lst.append( i * i )\n",
    "        i += 1\n",
    "    cnt = 0\n",
    "    toCheck = {n}\n",
    "    while toCheck:\n",
    "        cnt += 1\n",
    "        temp = set()\n",
    "        for x in toCheck:\n",
    "            for y in lst:\n",
    "                if x == y:\n",
    "                    return cnt\n",
    "                if x < y:\n",
    "                    break\n",
    "                temp.add(x-y)\n",
    "        toCheck = temp\n",
    "\n",
    "    return cnt\n",
    "\n",
    "# https://discuss.leetcode.com/category/349/perfect-squares"
   ]
  },
  {
   "cell_type": "markdown",
   "metadata": {},
   "source": [
    "# 309. Best Time to Buy and Sell Stock with Cooldown"
   ]
  },
  {
   "cell_type": "code",
   "execution_count": null,
   "metadata": {
    "collapsed": true
   },
   "outputs": [],
   "source": [
    "http://bookshadow.com/weblog/2015/11/24/leetcode-best-time-to-buy-and-sell-stock-with-cooldown/"
   ]
  },
  {
   "cell_type": "code",
   "execution_count": null,
   "metadata": {
    "collapsed": true
   },
   "outputs": [],
   "source": [
    "'''\n",
    "状态：\n",
    "....\n",
    "'''"
   ]
  },
  {
   "cell_type": "markdown",
   "metadata": {},
   "source": [
    "# \n"
   ]
  },
  {
   "cell_type": "markdown",
   "metadata": {},
   "source": [
    "# 322 Coin Change "
   ]
  },
  {
   "cell_type": "code",
   "execution_count": null,
   "metadata": {
    "collapsed": true
   },
   "outputs": [],
   "source": [
    "You are given coins of different denominations and a total amount of money amount. \n",
    "Write a function to compute the fewest number of coins that you need to make up that amount. \n",
    "If that amount of money cannot be made up by any combination of the coins, return -1.\n",
    "\n",
    "Example 1: \n",
    "coins = [1, 2, 5], amount = 11 \n",
    "return 3 (11 = 5 + 5 + 1)\n",
    "\n",
    "Example 2: \n",
    "coins = [2], amount = 3 \n",
    "return -1.\n",
    "\n",
    "Note: \n",
    "You may assume that you have an infinite number of each kind of coin."
   ]
  },
  {
   "cell_type": "code",
   "execution_count": null,
   "metadata": {
    "collapsed": true
   },
   "outputs": [],
   "source": [
    "# time:\n",
    "# Space:\n",
    "# Coin Change\n",
    "'''\n",
    "DP \n",
    "'''\n",
    "\n",
    "class Solution(object):\n",
    "    def coinChange(self, coins, amount):\n",
    "        MAX = float('inf')\n",
    "        dp = [0] + [MAX] * amount\n",
    "\n",
    "        for i in xrange(1, amount + 1):\n",
    "            dp[i] = min([dp[i - c] if i - c >= 0 else MAX for c in coins]) + 1\n",
    "\n",
    "        return [dp[amount], -1][dp[amount] == MAX]"
   ]
  },
  {
   "cell_type": "code",
   "execution_count": 15,
   "metadata": {
    "collapsed": true
   },
   "outputs": [],
   "source": [
    "class Solution(object):\n",
    "    def coinChange(self, coins, amount):\n",
    "        \"\"\"\n",
    "        :type coins: List[int]\n",
    "        :type amount: int\n",
    "        :rtype: int\n",
    "        \"\"\"\n",
    "        if amount == 0:\n",
    "            return 0\n",
    "        value1 = [0]\n",
    "        value2 = []\n",
    "        nc =  0\n",
    "        visited = [False]*(amount+1)\n",
    "        visited[0] = True\n",
    "        while value1:\n",
    "            nc += 1\n",
    "            for v in value1:\n",
    "                for coin in coins:\n",
    "                    newval = v + coin\n",
    "                    if newval == amount:\n",
    "                        return nc\n",
    "                    elif newval > amount:\n",
    "                        continue\n",
    "                    elif not visited[newval]:\n",
    "                        visited[newval] = True\n",
    "                        value2.append(newval)\n",
    "            value1, value2 = value2, []\n",
    "        return -1\n",
    "    \n",
    "# https://discuss.leetcode.com/topic/32589/fast-python-bfs-solution"
   ]
  },
  {
   "cell_type": "code",
   "execution_count": null,
   "metadata": {
    "collapsed": true
   },
   "outputs": [],
   "source": [
    "BFS vs  DP \n",
    "DP vs Netflow "
   ]
  },
  {
   "cell_type": "markdown",
   "metadata": {},
   "source": [
    "# 338 Counting Bits"
   ]
  },
  {
   "cell_type": "code",
   "execution_count": null,
   "metadata": {
    "collapsed": true
   },
   "outputs": [],
   "source": [
    "Given a non negative integer number num. \n",
    "For every numbers i in the range 0 ≤ i ≤ num calculate the number of 1’s in their binary representation \n",
    "and return them as an array.\n",
    "\n",
    "Example:\n",
    "For num = 5 you should return [0,1,1,2,1,2].\n",
    "\n",
    "Follow up:\n",
    "It is very easy to come up with a solution with run time O(n*sizeof(integer)). \n",
    "But can you do it in linear time O(n) /possibly in a single pass?\n",
    "Space complexity should be O(n).\n",
    "Can you do it like a boss? \n",
    "Do it without using any builtin function like __builtin_popcount in c++ or in any other language."
   ]
  },
  {
   "cell_type": "code",
   "execution_count": null,
   "metadata": {
    "collapsed": true
   },
   "outputs": [],
   "source": [
    "# Time: O(n)\n",
    "# Space: O(n)\n",
    "\n",
    "class Solution(object):\n",
    "    def countBits(self, num):\n",
    "        \"\"\"\n",
    "        :type num: int\n",
    "        :rtype: List[int]\n",
    "        \"\"\"\n",
    "        res = [0] * (num + 1)\n",
    "        before = pow2 = 1\n",
    "        for i in xrange(1,num + 1):\n",
    "            if i == pow2:\n",
    "                before = res[i] = 1\n",
    "                pow2 <<= 1\n",
    "            else:\n",
    "                res[i] = res[before] + 1\n",
    "                before += 1\n",
    "        return res\n",
    "    \n",
    "https://discuss.leetcode.com/topic/40195/how-we-handle-this-question-on-interview-thinking-process-dp-solution"
   ]
  },
  {
   "cell_type": "code",
   "execution_count": null,
   "metadata": {
    "collapsed": true
   },
   "outputs": [],
   "source": [
    "https://discuss.leetcode.com/topic/40195/how-we-handle-this-question-on-interview-thinking-process-dp-solution"
   ]
  },
  {
   "cell_type": "code",
   "execution_count": null,
   "metadata": {
    "collapsed": true
   },
   "outputs": [],
   "source": [
    "class Solution(object):\n",
    "    def countBits(self, num):\n",
    "        \"\"\"\n",
    "        :type num: int\n",
    "        :rtype: List[int]\n",
    "        \"\"\"\n",
    "        res = [0] * (num + 1)\n",
    "        for i in xrange(1,num + 1):\n",
    "            res[i] = res[i >> 1] + (i & 1)\n",
    "        return res"
   ]
  },
  {
   "cell_type": "markdown",
   "metadata": {},
   "source": [
    "---\n",
    "# [343. Integer Break](https://leetcode.com/problems/integer-break/#/description)"
   ]
  },
  {
   "cell_type": "code",
   "execution_count": null,
   "metadata": {
    "collapsed": true
   },
   "outputs": [],
   "source": [
    "Given a positive integer n, break it into the sum of at least two positive integers \n",
    "and maximize the product of those integers. Return the maximum product you can get.\n",
    "\n",
    "For example, given n = 2, return 1 (2 = 1 + 1); given n = 10, return 36 (10 = 3 + 3 + 4).\n",
    "\n",
    "Note: You may assume that n is not less than 2 and not larger than 58."
   ]
  },
  {
   "cell_type": "code",
   "execution_count": null,
   "metadata": {
    "collapsed": true
   },
   "outputs": [],
   "source": [
    "# Time: O(logn)\n",
    "# Space:O(1)\n",
    "# Integer Break \n",
    "# Edge case \n",
    "'''\n",
    "10(3,3,4) → 36 \n",
    "1. dp[n] = max(dp[n-i] * i)  for i in range(1,n)\n",
    "2. induction  \n",
    "4=2+2;\n",
    "5=2+3;\n",
    "6=3+3;\n",
    "7=2+2+3;\n",
    "8=2+3+3;\n",
    "9=3+3+3;\n",
    "10=2+2+3+3;\n",
    "11=2+3+3+3;\n",
    "12=3+3+3+3;\n",
    "13=2+2+3+3+3;\n",
    "14=2+3+3+3+3;\n",
    "15=3+3+3+3+3;\n",
    "\n",
    "0123 [0,1,2,3]\n",
    "4567 [4,6,9,12]\n",
    "\n",
    "if n = a + b, a = a1+a2, b=b1+b2\n",
    "12 = 6 + 6  = 3+3 + 3+3 \n",
    "a * b = a1*a2 + a1*b1 + a2*b1 + a2*b2\n",
    "if a,b > 3, |a-b| <= 1, then a*b>=a+b\n",
    "2,3,4 \n",
    "2*2 = 2+2 \n",
    "3. coin change [2,3] !!\n",
    "'''\n",
    "\n",
    "\n",
    "class Solution(object):\n",
    "    def integerBreak(self, n):\n",
    "        \"\"\"\n",
    "        :type n: int\n",
    "        :rtype: int\n",
    "        \"\"\"\n",
    "        if n == 2:\n",
    "            return 1\n",
    "        if n == 3:\n",
    "            return 2\n",
    "        list_3 = [3] * (n/3) # generate a list of 3\n",
    "        mod_3 = n%3\n",
    "        if mod_3 == 1: # if a 1 is left, then add it to the first element to get a 4\n",
    "            list_3[0] += 1\n",
    "        if mod_3 == 2: # if a 2 is left, then put it into the list\n",
    "            list_3.append(2)\n",
    "        return reduce(lambda a, b: a*b, list_3)\n",
    "        \n",
    "\n",
    "# Time: O(n)\n",
    "# Space: O(1)\n",
    "\n",
    "class Solution2(object):\n",
    "    def integerBreak(self, n):\n",
    "        \"\"\"\n",
    "        :type n: int\n",
    "        :rtype: int\n",
    "        \"\"\"\n",
    "        if n < 4:\n",
    "            return n - 1\n",
    "\n",
    "        # integerBreak(n) = max(integerBreak(n - 2) * 2, integerBreak(n - 3) * 3)\n",
    "        res = [0, 1, 2, 3]\n",
    "        for i in xrange(4, n + 1):\n",
    "            res[i % 4] = max(res[(i - 2) % 4] * 2, res[(i - 3) % 4] * 3)\n",
    "            print res\n",
    "        return res[n % 4]"
   ]
  },
  {
   "cell_type": "code",
   "execution_count": 34,
   "metadata": {
    "collapsed": true
   },
   "outputs": [],
   "source": [
    "# Time: O(n)\n",
    "# Space: O(1)\n",
    "\n",
    "class Solution2(object):\n",
    "    def integerBreak(self, n):\n",
    "        \"\"\"\n",
    "        :type n: int\n",
    "        :rtype: int\n",
    "        \"\"\"\n",
    "        if n < 4:\n",
    "            return n - 1\n",
    "\n",
    "        # integerBreak(n) = max(integerBreak(n - 2) * 2, integerBreak(n - 3) * 3)\n",
    "        res = [0, 1, 2, 3]\n",
    "        for i in xrange(4, n + 1):\n",
    "            res[i % 4] = max(res[(i - 2) % 4] * 2, res[(i - 3) % 4] * 3)\n",
    "            print res\n",
    "        return res[n % 4]"
   ]
  },
  {
   "cell_type": "code",
   "execution_count": 35,
   "metadata": {
    "collapsed": false
   },
   "outputs": [
    {
     "name": "stdout",
     "output_type": "stream",
     "text": [
      "[4, 1, 2, 3]\n",
      "[4, 6, 2, 3]\n",
      "[4, 6, 9, 3]\n",
      "[4, 6, 9, 12]\n",
      "[18, 6, 9, 12]\n",
      "[18, 27, 9, 12]\n",
      "[18, 27, 36, 12]\n",
      "[18, 27, 36, 54]\n",
      "[81, 27, 36, 54]\n",
      "[81, 108, 36, 54]\n",
      "[81, 108, 162, 54]\n",
      "[81, 108, 162, 243]\n",
      "[324, 108, 162, 243]\n",
      "[324, 486, 162, 243]\n",
      "[324, 486, 729, 243]\n",
      "[324, 486, 729, 972]\n",
      "[1458, 486, 729, 972]\n",
      "[1458, 2187, 729, 972]\n",
      "[1458, 2187, 2916, 972]\n",
      "[1458, 2187, 2916, 4374]\n",
      "[6561, 2187, 2916, 4374]\n",
      "[6561, 8748, 2916, 4374]\n",
      "[6561, 8748, 13122, 4374]\n",
      "[6561, 8748, 13122, 19683]\n",
      "[26244, 8748, 13122, 19683]\n",
      "[26244, 39366, 13122, 19683]\n",
      "[26244, 39366, 59049, 19683]\n",
      "[26244, 39366, 59049, 78732]\n",
      "[118098, 39366, 59049, 78732]\n",
      "[118098, 177147, 59049, 78732]\n",
      "[118098, 177147, 236196, 78732]\n",
      "[118098, 177147, 236196, 354294]\n",
      "[531441, 177147, 236196, 354294]\n",
      "[531441, 708588, 236196, 354294]\n",
      "[531441, 708588, 1062882, 354294]\n",
      "[531441, 708588, 1062882, 1594323]\n",
      "[2125764, 708588, 1062882, 1594323]\n",
      "[2125764, 3188646, 1062882, 1594323]\n",
      "[2125764, 3188646, 4782969, 1594323]\n",
      "[2125764, 3188646, 4782969, 6377292]\n",
      "[9565938, 3188646, 4782969, 6377292]\n",
      "[9565938, 14348907, 4782969, 6377292]\n",
      "[9565938, 14348907, 19131876, 6377292]\n",
      "[9565938, 14348907, 19131876, 28697814]\n",
      "[43046721, 14348907, 19131876, 28697814]\n",
      "[43046721, 57395628, 19131876, 28697814]\n",
      "[43046721, 57395628, 86093442, 28697814]\n",
      "86093442\n"
     ]
    }
   ],
   "source": [
    "print Solution2().integerBreak(50)"
   ]
  },
  {
   "cell_type": "markdown",
   "metadata": {},
   "source": [
    "# 351 Android Unlock Patterns"
   ]
  },
  {
   "cell_type": "code",
   "execution_count": null,
   "metadata": {
    "collapsed": true
   },
   "outputs": [],
   "source": [
    "Given an Android 3x3 key lock screen and two integers m and n, where 1 ≤ m ≤ n ≤ 9, \n",
    "count the total number of unlock patterns of the Android lock screen, \n",
    "which consist of minimum of m keys and maximum n keys.\n",
    "\n",
    "Rules for a valid pattern:\n",
    "\n",
    "Each pattern must connect at least m keys and at most n keys.\n",
    "All the keys must be distinct.\n",
    "If the line connecting two consecutive keys in the pattern passes through any other keys, \n",
    "the other keys must have previously selected in the pattern. No jumps through non selected key is allowed.\n",
    "The order of keys used matters."
   ]
  },
  {
   "cell_type": "markdown",
   "metadata": {},
   "source": [
    "![android](https://discuss.leetcode.com/uploads/files/1461680355228-cptqh.png?_=5541012)"
   ]
  },
  {
   "cell_type": "code",
   "execution_count": null,
   "metadata": {
    "collapsed": true
   },
   "outputs": [],
   "source": [
    "Explanation:\n",
    "\n",
    "| 1 | 2 | 3 |\n",
    "| 4 | 5 | 6 |\n",
    "| 7 | 8 | 9 |\n",
    " \n",
    "\n",
    "Invalid move: 4 - 1 - 3 - 6 \n",
    "Line 1 - 3 passes through key 2 which had not been selected in the pattern.\n",
    "\n",
    "Invalid move: 4 - 1 - 9 - 2\n",
    "Line 1 - 9 passes through key 5 which had not been selected in the pattern.\n",
    "\n",
    "Valid move: 2 - 4 - 1 - 3 - 6\n",
    "Line 1 - 3 is valid because it passes through key 2, which had been selected in the pattern\n",
    "\n",
    "Valid move: 6 - 5 - 4 - 1 - 9 - 2\n",
    "Line 1 - 9 is valid because it passes through key 5, which had been selected in the pattern.\n",
    "\n",
    "Example:\n",
    "Given m = 1, n = 1, return 9.\n",
    "\n",
    "Credits:\n",
    "Special thanks to @elmirap for adding this problem and creating all test cases."
   ]
  },
  {
   "cell_type": "code",
   "execution_count": 43,
   "metadata": {
    "collapsed": true
   },
   "outputs": [],
   "source": [
    "# Time:  O(9^2 * 2^9)\n",
    "# Space: O(9 * 2^9)\n",
    "\n",
    "# DP solution.\n",
    "class Solution(object):\n",
    "    def numberOfPatterns(self, m, n):\n",
    "        \"\"\"\n",
    "        :type m: int\n",
    "        :type n: int\n",
    "        :rtype: int\n",
    "        \"\"\"\n",
    "        def merge(used, i):\n",
    "            return used | (1 << i)\n",
    "\n",
    "        # get the length of the passport \n",
    "        def number_of_keys(i):\n",
    "            number = 0\n",
    "            while i > 0:\n",
    "                i &= i - 1\n",
    "                number += 1\n",
    "            return number\n",
    "\n",
    "        def contain(used, i):\n",
    "            return bool(used & (1 << i))\n",
    "\n",
    "        def convert(i, j):\n",
    "            return 3 * i + j\n",
    "\n",
    "        # dp[i][j]: i is the set of the numbers in binary representation,\n",
    "        # dp[i][j] is the number of ways ending with the number j.\n",
    "        dp = [[0] * 9 for _ in xrange(1 << 9)]\n",
    "        for i in xrange(9):\n",
    "            dp[merge(0, i)][i] = 1\n",
    "\n",
    "#         print dp\n",
    "        res = 0\n",
    "        for used in xrange(len(dp)):\n",
    "            number = number_of_keys(used)\n",
    "            if number > n:\n",
    "                continue\n",
    "\n",
    "            for i in xrange(9):\n",
    "                if not contain(used, i):\n",
    "                    continue\n",
    "\n",
    "                if m <= number <= n:\n",
    "                    res += dp[used][i]\n",
    "\n",
    "                x1, y1 = i / 3, i % 3\n",
    "                for j in xrange(9):\n",
    "                    if contain(used, j):\n",
    "                        continue\n",
    "    \n",
    "                    x2, y2 = j / 3, j % 3\n",
    "                    if ((x1 == x2 and abs(y1 - y2) == 2) or \\\n",
    "                        (y1 == y2 and abs(x1 - x2) == 2) or \\\n",
    "                        (abs(x1 - x2) == 2 and abs(y1 - y2) == 2)) and \\\n",
    "                       not contain(used, convert((x1 + x2) / 2, (y1 + y2) / 2)):\n",
    "                             continue\n",
    "\n",
    "                    dp[merge(used, j)][j] += dp[used][i]\n",
    "\n",
    "            print res\n",
    "        return res\n",
    "    \n",
    "# http://www.jianshu.com/p/23c5e2211fd6"
   ]
  },
  {
   "cell_type": "code",
   "execution_count": 44,
   "metadata": {
    "collapsed": false
   },
   "outputs": [
    {
     "name": "stdout",
     "output_type": "stream",
     "text": [
      "0\n",
      "1\n",
      "2\n",
      "3\n",
      "4\n",
      "5\n",
      "6\n",
      "7\n",
      "8\n",
      "9\n",
      "9\n"
     ]
    }
   ],
   "source": [
    "print Solution().numberOfPatterns(1,1)"
   ]
  },
  {
   "cell_type": "code",
   "execution_count": 38,
   "metadata": {
    "collapsed": false
   },
   "outputs": [
    {
     "name": "stdout",
     "output_type": "stream",
     "text": [
      "389497\n"
     ]
    }
   ],
   "source": [
    "print Solution().numberOfPatterns(1,10)"
   ]
  },
  {
   "cell_type": "markdown",
   "metadata": {},
   "source": [
    "# [357. Count Numbers with Unique Digits](https://leetcode.com/problems/count-numbers-with-unique-digits/#/description)"
   ]
  },
  {
   "cell_type": "code",
   "execution_count": null,
   "metadata": {
    "collapsed": true
   },
   "outputs": [],
   "source": [
    "Given a non-negative integer n, count all numbers with unique digits, x, where 0 ≤ x < 10n.\n",
    "\n",
    "Example:\n",
    "Given n = 2, return 91. (The answer should be the total numbers in the range of 0 ≤ x < 100, \n",
    "excluding [11,22,33,44,55,66,77,88,99])\n",
    "\n",
    "Credits:\n",
    "Special thanks to @memoryless for adding this problem and creating all test cases."
   ]
  },
  {
   "cell_type": "code",
   "execution_count": null,
   "metadata": {
    "collapsed": true
   },
   "outputs": [],
   "source": [
    "# Time: O(n)\n",
    "# Space:O(1)\n",
    "# Count Numbers with Unique Digits\n",
    "# Edge case \n",
    "'''\n",
    "1: 10\n",
    "2: 91 = 9*9 + 10\n",
    "3. 739   = 9*9*8 + 91 \n",
    "choices = [9, 9, 8, 7, 6, 5, 4, 3, 2, 1]\n",
    "'''\n",
    "\n",
    "\n",
    "class Solution(object):\n",
    "    def countNumbersWithUniqueDigits(self, n):\n",
    "        \"\"\"\n",
    "        :type n: int\n",
    "        :rtype: int\n",
    "        \"\"\"\n",
    "        nums = [9]\n",
    "        for x in range(9, 0, -1):\n",
    "            nums += nums[-1] * x,\n",
    "        return sum(nums[:n]) + 1\n",
    "    \n",
    "# https://discuss.leetcode.com/topic/48078/clear-c-explanation-of-combinatorics-using-dp-method/4"
   ]
  },
  {
   "cell_type": "markdown",
   "metadata": {},
   "source": [
    "# 361 Bomb Enemy "
   ]
  },
  {
   "cell_type": "code",
   "execution_count": null,
   "metadata": {
    "collapsed": true
   },
   "outputs": [],
   "source": [
    "Given a 2D grid, each cell is either a wall 'Y', an enemy 'X' or empty '0' (the number zero), \n",
    "return the maximum enemies you can kill using one bomb.\n",
    "The bomb kills all the enemies in the same row and column \n",
    "from the planted point until it hits the wall since the wall is too strong to be destroyed.\n",
    "Note that you can only put the bomb at an empty cell.\n",
    "\n",
    "Example:\n",
    "For the given grid\n",
    "\n",
    "0 X 0 0\n",
    "X 0 Y X\n",
    "0 X 0 0\n",
    "\n",
    "return 3. (Placing a bomb at (1,1) kills 3 enemies)"
   ]
  },
  {
   "cell_type": "code",
   "execution_count": null,
   "metadata": {
    "collapsed": true
   },
   "outputs": [],
   "source": [
    "# Time: O(mn * mn) → O(mn)\n",
    "# Space:\n",
    "# Bomb Enemy\n",
    "# Edge case \n",
    "\n",
    "class Solution(object):\n",
    "    def maxKilledEnemies(self, grid):\n",
    "        \"\"\"\n",
    "        :type grid: List[List[str]]\n",
    "        :rtype: int\n",
    "        \"\"\"\n",
    "        result = 0\n",
    "        if not grid or not grid[0]:\n",
    "            return result\n",
    "\n",
    "        down = [[0 for _ in xrange(len(grid[0]))] for _ in xrange(len(grid))]\n",
    "        right = [[0 for _ in xrange(len(grid[0]))] for _ in xrange(len(grid))]\n",
    "        for i in reversed(xrange(len(grid))):\n",
    "            for j in reversed(xrange(len(grid[0]))):\n",
    "                if grid[i][j] != 'W':\n",
    "                    if i + 1 < len(grid):\n",
    "                        down[i][j] = down[i + 1][j]\n",
    "                    if j + 1 < len(grid[0]):\n",
    "                        right[i][j] = right[i][j + 1]\n",
    "                    if grid[i][j] == 'E':\n",
    "                        down[i][j] += 1\n",
    "                        right[i][j] += 1\n",
    "\n",
    "        up = [0 for _ in xrange(len(grid[0]))]\n",
    "        for i in xrange(len(grid)):\n",
    "            left = 0\n",
    "            for j in xrange(len(grid[0])):\n",
    "                if grid[i][j] == 'W':\n",
    "                    up[j], left = 0, 0\n",
    "                elif grid[i][j] == 'E':\n",
    "                    up[j] += 1\n",
    "                    left += 1\n",
    "                else:\n",
    "                    result = max(result, left + up[j] + right[i][j] + down[i][j])\n",
    "\n",
    "        return result\n",
    "    \n",
    "https://discuss.leetcode.com/topic/77142/python-solution-with-detailed-explanation"
   ]
  },
  {
   "cell_type": "markdown",
   "metadata": {},
   "source": [
    "# 368 Largest Divisible Subset \n"
   ]
  },
  {
   "cell_type": "code",
   "execution_count": null,
   "metadata": {
    "collapsed": true
   },
   "outputs": [],
   "source": [
    "Given a set of distinct positive integers, find the largest subset \n",
    "such that every pair (Si, Sj) of elements in this subset satisfies: Si % Sj = 0 or Sj % Si = 0.\n",
    "\n",
    "If there are multiple solutions, return any subset is fine.\n",
    "\n",
    "Example 1:\n",
    "\n",
    "nums: [1,2,3]\n",
    "\n",
    "Result: [1,2] (of course, [1,3] will also be ok)\n",
    "\n",
    "Example 2:\n",
    "\n",
    "nums: [1,2,4,8]\n",
    "\n",
    "Result: [1,2,4,8]"
   ]
  },
  {
   "cell_type": "code",
   "execution_count": 59,
   "metadata": {
    "collapsed": true
   },
   "outputs": [],
   "source": [
    "# Time:  O(n^2)\n",
    "# Space: O(n)\n",
    "'''\n",
    "dp[x] = max(dp[x], dp[y] + 1)  其中： 0 <= y < x 且 nums[x] % nums[y] == 0\n",
    "\n",
    "\n",
    "'''\n",
    "\n",
    "class Solution(object):\n",
    "    def largestDivisibleSubset(self, nums):\n",
    "        \"\"\"\n",
    "        :type nums: List[int]\n",
    "        :rtype: List[int]\n",
    "        \"\"\"\n",
    "        if not nums:\n",
    "            return []\n",
    "\n",
    "        nums.sort()\n",
    "        dp = [1] * len(nums)\n",
    "        prev = [-1] * len(nums)\n",
    "        largest_idx = 0\n",
    "        for i in xrange(len(nums)):\n",
    "            for j in xrange(i):\n",
    "                if nums[i] % nums[j] == 0:\n",
    "                    if dp[i] < dp[j] + 1:\n",
    "                        dp[i] = dp[j] + 1\n",
    "                        prev[i] = j\n",
    "            print dp\n",
    "            print prev\n",
    "            if dp[largest_idx] < dp[i]:\n",
    "                largest_idx = i\n",
    "\n",
    "        result = []\n",
    "        i = largest_idx\n",
    "        while i != -1:\n",
    "            result.append(nums[i])\n",
    "            i = prev[i]\n",
    "        return result[::-1]"
   ]
  },
  {
   "cell_type": "code",
   "execution_count": 60,
   "metadata": {
    "collapsed": false,
    "scrolled": true
   },
   "outputs": [
    {
     "name": "stdout",
     "output_type": "stream",
     "text": [
      "[1, 1, 1, 1]\n",
      "[-1, -1, -1, -1]\n",
      "[1, 1, 1, 1]\n",
      "[-1, -1, -1, -1]\n",
      "[1, 1, 2, 1]\n",
      "[-1, -1, 1, -1]\n",
      "[1, 1, 2, 3]\n",
      "[-1, -1, 1, 2]\n",
      "[4, 8, 16]\n"
     ]
    }
   ],
   "source": [
    "print Solution().largestDivisibleSubset([3,4,8,16])"
   ]
  },
  {
   "cell_type": "code",
   "execution_count": null,
   "metadata": {
    "collapsed": true
   },
   "outputs": [],
   "source": [
    "class Solution(object):\n",
    "    def largestDivisibleSubset(self, nums):\n",
    "        \"\"\"\n",
    "        :type nums: List[int]\n",
    "        :rtype: List[int]\n",
    "        \"\"\"\n",
    "        if not nums:\n",
    "            return []\n",
    "        \n",
    "        nums.sort()\n",
    "        dp = [1] * len(nums)\n",
    "        prev = [-1] * len(nums)\n",
    "        largest_idx = 0\n",
    "        for i in xrange(len(nums)):\n",
    "            for j in xrange(i):\n",
    "                if nums[i] % nums[j] == 0:\n",
    "                    if dp[i] < dp[j] + 1:\n",
    "                        dp[i] = dp[j] + 1\n",
    "                        prev[i] = j\n",
    "            if dp[largest_idx] < dp[i]:\n",
    "                largest_idx = i\n",
    "        \n",
    "        result = []\n",
    "        i = largest_idx\n",
    "        while i != -1:\n",
    "            result.append(nums[i])\n",
    "            i = prev[i]\n",
    "        return result[::-1]"
   ]
  },
  {
   "cell_type": "code",
   "execution_count": null,
   "metadata": {
    "collapsed": true
   },
   "outputs": [],
   "source": [
    "class Solution(object):\n",
    "    def largestDivisibleSubset(self, nums):\n",
    "        \"\"\"\n",
    "        :type nums: List[int]\n",
    "        :rtype: List[int]\n",
    "        \"\"\"\n",
    "        S = {-1: set()}\n",
    "        for x in sorted(nums):\n",
    "            S[x] = max((S[d] for d in S if x % d == 0), key=len) | {x}\n",
    "        return list(max(S.values(), key=len))"
   ]
  },
  {
   "cell_type": "markdown",
   "metadata": {},
   "source": [
    "# 375 Guess Number Higher or Lower II\n"
   ]
  },
  {
   "cell_type": "code",
   "execution_count": null,
   "metadata": {
    "collapsed": true
   },
   "outputs": [],
   "source": [
    "We are playing the Guess Game. The game is as follows:\n",
    "\n",
    "I pick a number from 1 to n. You have to guess which number I picked.\n",
    "\n",
    "Every time you guess wrong, I'll tell you whether the number I picked is higher or lower.\n",
    "\n",
    "However, when you guess a particular number x, and you guess wrong, you pay $x. \n",
    "You win the game when you guess the number I picked.\n",
    "\n",
    "Example:\n",
    "\n",
    "n = 10, I pick 8.\n",
    "\n",
    "First round:  You guess 5, I tell you that it's higher. You pay $5.\n",
    "Second round: You guess 7, I tell you that it's higher. You pay $7.\n",
    "Third round:  You guess 9, I tell you that it's lower. You pay $9.\n",
    "\n",
    "Game over. 8 is the number I picked.\n",
    "\n",
    "You end up paying $5 + $7 + $9 = $21.\n",
    "Given a particular n ≥ 1, find out how much money you need to have to guarantee a win.\n",
    "\n"
   ]
  },
  {
   "cell_type": "code",
   "execution_count": 61,
   "metadata": {
    "collapsed": true
   },
   "outputs": [],
   "source": [
    "# Time:  O(n^2)\n",
    "# Space: O(n^2)\n",
    "\n",
    "class Solution(object):\n",
    "    def getMoneyAmount(self, n):\n",
    "        \"\"\"\n",
    "        :type n: int\n",
    "        :rtype: int\n",
    "        \"\"\"\n",
    "        pay = [[0] * n for _ in xrange(n+1)]\n",
    "        for i in reversed(xrange(n)):\n",
    "            for j in xrange(i+1, n):\n",
    "                pay[i][j] = min(k+1 + max(pay[i][k-1], pay[k+1][j]) \\\n",
    "                                for k in xrange(i, j+1))\n",
    "        return pay[0][n-1]"
   ]
  },
  {
   "cell_type": "code",
   "execution_count": 62,
   "metadata": {
    "collapsed": false
   },
   "outputs": [
    {
     "name": "stdout",
     "output_type": "stream",
     "text": [
      "400\n"
     ]
    }
   ],
   "source": [
    "print Solution().getMoneyAmount(100)"
   ]
  },
  {
   "cell_type": "markdown",
   "metadata": {},
   "source": [
    "# 377 Combination Sum IV \n"
   ]
  },
  {
   "cell_type": "code",
   "execution_count": null,
   "metadata": {
    "collapsed": true
   },
   "outputs": [],
   "source": [
    "Given an integer array with all positive numbers and no duplicates, \n",
    "find the number of possible combinations that add up to a positive integer target.\n",
    "\n",
    "Example:\n",
    "\n",
    "nums = [1, 2, 3]\n",
    "target = 4\n",
    "\n",
    "The possible combination ways are:\n",
    "(1, 1, 1, 1)\n",
    "(1, 1, 2)\n",
    "(1, 2, 1)\n",
    "(1, 3)\n",
    "(2, 1, 1)\n",
    "(2, 2)\n",
    "(3, 1)\n",
    "\n",
    "Note that different sequences are counted as different combinations.\n",
    "\n",
    "Therefore the output is 7.\n",
    "Follow up:\n",
    "What if negative numbers are allowed in the given array?\n",
    "How does it change the problem?\n",
    "What limitation we need to add to the question to allow negative numbers?"
   ]
  },
  {
   "cell_type": "code",
   "execution_count": null,
   "metadata": {
    "collapsed": true
   },
   "outputs": [],
   "source": [
    "# Time:  O(nlon + n * t), t is the value of target.\n",
    "# Space: O(t)\n",
    "\n",
    "class Solution(object):\n",
    "    def combinationSum4(self, nums, target):\n",
    "        \"\"\"\n",
    "        :type nums: List[int]\n",
    "        :type target: int\n",
    "        :rtype: int\n",
    "        \"\"\"\n",
    "        dp = [0] * (target+1)\n",
    "        dp[0] = 1\n",
    "        nums.sort()\n",
    "\n",
    "        for i in xrange(1, target+1):\n",
    "            for j in xrange(len(nums)):\n",
    "                if nums[j] <= i:\n",
    "                    dp[i] += dp[i - nums[j]]\n",
    "                else:\n",
    "                    break\n",
    "\n",
    "        return dp[target]"
   ]
  },
  {
   "cell_type": "markdown",
   "metadata": {},
   "source": [
    "# 403 Frog Jump \n"
   ]
  },
  {
   "cell_type": "code",
   "execution_count": null,
   "metadata": {
    "collapsed": true
   },
   "outputs": [],
   "source": [
    "A frog is crossing a river. The river is divided into x units and\n",
    "at each unit there may or may not exist a stone. \n",
    "The frog can jump on a stone, but it must not jump into the water.\n",
    "\n",
    "Given a list of stones' positions (in units) in sorted ascending order,\n",
    "determine if the frog is able to cross the river by landing on the last stone.\n",
    "Initially, the frog is on the first stone and assume the first jump must be 1 unit.\n",
    "\n",
    "If the frog has just jumped k units, then its next jump must be\n",
    "either k - 1, k, or k + 1 units. Note that the frog can only jump in the forward direction.\n",
    "\n",
    "Note:\n",
    "\n",
    "The number of stones is >= 2 and is < 1,100.\n",
    "Each stone's position will be a non-negative integer < 231.\n",
    "The first stone's position is always 0.\n",
    "Example 1:\n",
    "\n",
    "[0,1,3,5,6,8,12,17]\n",
    "\n",
    "There are a total of 8 stones.\n",
    "The first stone at the 0th unit, second stone at the 1st unit,\n",
    "third stone at the 3rd unit, and so on...\n",
    "The last stone at the 17th unit.\n",
    "\n",
    "Return true. The frog can jump to the last stone by jumping \n",
    "1 unit to the 2nd stone, then 2 units to the 3rd stone, then \n",
    "2 units to the 4th stone, then 3 units to the 6th stone, \n",
    "4 units to the 7th stone, and 5 units to the 8th stone.\n",
    "Example 2:\n",
    "\n",
    "[0,1,2,3,4,8,9,11]\n",
    "\n",
    "Return false. There is no way to jump to the last stone as \n",
    "the gap between the 5th and 6th stone is too large."
   ]
  },
  {
   "cell_type": "code",
   "execution_count": null,
   "metadata": {
    "collapsed": true
   },
   "outputs": [],
   "source": [
    "# Time:  O(n) ~ O(n^2) \n",
    "# Space: O(n)\n",
    "\n",
    "# DP with hash table\n",
    "class Solution(object):\n",
    "    def canCross(self, stones):\n",
    "        \"\"\"\n",
    "        :type stones: List[int]\n",
    "        :rtype: bool\n",
    "        \"\"\"\n",
    "        if stones[1] != 1:\n",
    "            return False\n",
    "\n",
    "        last_jump_units = {s: set() for s in stones}\n",
    "        last_jump_units[1].add(1)\n",
    "        for s in stones[:-1]:\n",
    "            for j in last_jump_units[s]:\n",
    "                for k in (j-1, j, j+1):\n",
    "                    if k > 0 and s+k in last_jump_units:\n",
    "                        last_jump_units[s+k].add(k)\n",
    "        return bool(last_jump_units[stones[-1]])"
   ]
  },
  {
   "cell_type": "markdown",
   "metadata": {},
   "source": [
    "# 413 Arithmetic Slices \n"
   ]
  },
  {
   "cell_type": "code",
   "execution_count": null,
   "metadata": {
    "collapsed": true
   },
   "outputs": [],
   "source": [
    "A sequence of number is called arithmetic if it consists of at least three elements\n",
    "and if the difference between any two consecutive elements is the same.\n",
    "\n",
    "For example, these are arithmetic sequence:\n",
    "\n",
    "1, 3, 5, 7, 9\n",
    "7, 7, 7, 7\n",
    "3, -1, -5, -9\n",
    "The following sequence is not arithmetic.\n",
    "\n",
    "1, 1, 2, 5, 7\n",
    "\n",
    "A zero-indexed array A consisting of N numbers is given. A slice of that array is any pair\n",
    "of integers (P, Q) such that 0 <= P < Q < N.\n",
    "\n",
    "A slice (P, Q) of array A is called arithmetic if the sequence:\n",
    "A[P], A[p + 1], ..., A[Q - 1], A[Q] is arithmetic. In particular, this means that P + 1 < Q.\n",
    "\n",
    "The function should return the number of arithmetic slices in the array A.\n",
    "\n",
    "Example:\n",
    "\n",
    "A = [1, 2, 3, 4]\n",
    "\n",
    "return: 3, for 3 arithmetic slices in A: [1, 2, 3], [2, 3, 4] and [1, 2, 3, 4] itself."
   ]
  },
  {
   "cell_type": "code",
   "execution_count": null,
   "metadata": {
    "collapsed": true
   },
   "outputs": [],
   "source": [
    "# Time:  O(n)\n",
    "# Space: O(1)\n",
    "\n",
    "class Solution(object):\n",
    "    def numberOfArithmeticSlices(self, A):\n",
    "        \"\"\"\n",
    "        :type A: List[int]\n",
    "        :rtype: int\n",
    "        \"\"\"\n",
    "        res, i = 0, 0\n",
    "        while i+2 < len(A):\n",
    "            start = i\n",
    "            while i+2 < len(A) and A[i+2] + A[i] == 2*A[i+1]:\n",
    "                res += i - start + 1\n",
    "                i += 1\n",
    "            i += 1\n",
    "  \n",
    "        return res"
   ]
  },
  {
   "cell_type": "markdown",
   "metadata": {},
   "source": [
    "# 416 Partition Equal Subset Sum "
   ]
  },
  {
   "cell_type": "code",
   "execution_count": null,
   "metadata": {
    "collapsed": true
   },
   "outputs": [],
   "source": [
    "Given a non-empty array containing only positive integers,\n",
    "find if the array can be partitioned into two subsets\n",
    "such that the sum of elements in both subsets is equal.\n",
    "\n",
    "Note:\n",
    "Both the array size and each of the array element will not exceed 100.\n",
    "\n",
    "Example 1:\n",
    "\n",
    "Input: [1, 5, 11, 5]\n",
    "\n",
    "Output: true\n",
    "\n",
    "Explanation: The array can be partitioned as [1, 5, 5] and [11].\n",
    "Example 2:\n",
    "\n",
    "Input: [1, 2, 3, 5]\n",
    "\n",
    "Output: false\n",
    "\n",
    "Explanation: The array cannot be partitioned into equal sum subsets."
   ]
  },
  {
   "cell_type": "code",
   "execution_count": null,
   "metadata": {
    "collapsed": true
   },
   "outputs": [],
   "source": [
    "# Time:  O(n * s), s is the sum of nums\n",
    "# Space: O(s)\n",
    "'''\n",
    "[1, 5, 11, 5]\n",
    "\n",
    "'''\n",
    "\n",
    "class Solution(object):\n",
    "    def canPartition(self, nums):\n",
    "        \"\"\"\n",
    "        :type nums: List[int]\n",
    "        :rtype: bool\n",
    "        \"\"\"\n",
    "        s = sum(nums)\n",
    "        if s % 2:\n",
    "            return False\n",
    "\n",
    "        dp = [False] * (s/2 + 1)\n",
    "        dp[0] = True\n",
    "        for num in nums:\n",
    "            for i in xrange(1, len(dp)):\n",
    "                if num <= i:\n",
    "                    dp[i] = dp[i] or dp[i - num]\n",
    "        return dp[-1]"
   ]
  },
  {
   "cell_type": "markdown",
   "metadata": {},
   "source": [
    "# 418 Sentence Screen Fitting "
   ]
  },
  {
   "cell_type": "code",
   "execution_count": null,
   "metadata": {
    "collapsed": true
   },
   "outputs": [],
   "source": [
    "Given a rows x cols screen and a sentence represented by a list of words, \n",
    "find how many times the given sentence can be fitted on the screen.\n",
    "\n",
    "Note:\n",
    "\n",
    "A word cannot be split into two lines.\n",
    "The order of words in the sentence must remain unchanged.\n",
    "Two consecutive words in a line must be separated by a single space.\n",
    "Total words in the sentence won't exceed 100.\n",
    "Length of each word won't exceed 10.\n",
    "1 ≤ rows, cols ≤ 20,000.\n",
    "Example 1:\n",
    "\n",
    "Input:\n",
    "rows = 2, cols = 8, sentence = [\"hello\", \"world\"]\n",
    "\n",
    "Output: \n",
    "1\n",
    "\n",
    "Explanation:\n",
    "hello---\n",
    "world---\n",
    "\n",
    "The character '-' signifies an empty space on the screen.\n",
    "Example 2:\n",
    "\n",
    "Input:\n",
    "rows = 3, cols = 6, sentence = [\"a\", \"bcd\", \"e\"]\n",
    "\n",
    "Output: \n",
    "2\n",
    "\n",
    "Explanation:\n",
    "a-bcd- \n",
    "e-a---\n",
    "bcd-e-\n",
    "\n",
    "The character '-' signifies an empty space on the screen.\n",
    "Example 3:\n",
    "\n",
    "Input:\n",
    "rows = 4, cols = 5, sentence = [\"I\", \"had\", \"apple\", \"pie\"]\n",
    "\n",
    "Output: \n",
    "1\n",
    "\n",
    "Explanation:\n",
    "I-had\n",
    "apple\n",
    "pie-I\n",
    "had--\n",
    "\n",
    "The character '-' signifies an empty space on the screen"
   ]
  },
  {
   "cell_type": "code",
   "execution_count": 68,
   "metadata": {
    "collapsed": true
   },
   "outputs": [],
   "source": [
    "# Time:  O(r + n * c)\n",
    "# Space: O(n)\n",
    "# Sentence Screen Fitting\n",
    "'''\n",
    "\n",
    "'''\n",
    "\n",
    "class Solution(object):\n",
    "    def wordsTyping(self, sentence, rows, cols):\n",
    "        \"\"\"\n",
    "        :type sentence: List[str]\n",
    "        :type rows: int\n",
    "        :type cols: int\n",
    "        :rtype: int\n",
    "        \"\"\"\n",
    "        def words_fit(sentence, start, cols):\n",
    "            if len(sentence[start]) > cols:\n",
    "                return 0\n",
    "    \n",
    "            s, count = len(sentence[start]), 1\n",
    "            i = (start + 1) % len(sentence)\n",
    "            while s + 1 + len(sentence[i]) <= cols:\n",
    "                s += 1 + len(sentence[i])\n",
    "                count += 1\n",
    "                i = (i + 1) % len(sentence)\n",
    "            return count\n",
    "\n",
    "        wc = [0] * len(sentence)\n",
    "        for i in xrange(len(sentence)):\n",
    "            wc[i] = words_fit(sentence, i, cols)\n",
    "\n",
    "        words, start = 0, 0\n",
    "        for i in xrange(rows):\n",
    "            words += wc[start]\n",
    "            start = (start + wc[start]) % len(sentence)\n",
    "        return words / len(sentence)"
   ]
  },
  {
   "cell_type": "code",
   "execution_count": null,
   "metadata": {
    "collapsed": true
   },
   "outputs": [],
   "source": [
    "class Solution(object):\n",
    "    def wordsTyping(self, sentence, rows, cols):\n",
    "        \"\"\"\n",
    "        :type sentence: List[str]\n",
    "        :type rows: int\n",
    "        :type cols: int\n",
    "        :rtype: int\n",
    "        \"\"\"\n",
    "        def words_fit(sentence, start, cols):\n",
    "            if len(sentence[start]) > cols:\n",
    "                return 0\n",
    "            \n",
    "            s, count = len(sentence[start]), 1\n",
    "            i = (start + 1) % len(sentence)\n",
    "            while s + 1 + len(sentence[i]) <= cols:\n",
    "                s += 1 + len(sentence[i])\n",
    "                count += 1\n",
    "                i = (i + 1) % len(sentence)\n",
    "            return count \n",
    "        \n",
    "        wc = [0] % len(sentence)\n",
    "        for i in xrange(len(sentence)):\n",
    "            wc[i] = words_fit(sentence, i, cols)\n",
    "            \n",
    "        words, start = 0, 0\n",
    "        for i in xrange(rows):\n",
    "            words += wc[start]\n",
    "            start = (start + wc[start]) % len(sentence)\n",
    "        return words / len(sentence)"
   ]
  },
  {
   "cell_type": "code",
   "execution_count": 67,
   "metadata": {
    "collapsed": false
   },
   "outputs": [
    {
     "name": "stdout",
     "output_type": "stream",
     "text": [
      "1\n"
     ]
    }
   ],
   "source": [
    "print Solution().wordsTyping( [\"hello\", \"world\"],2,8)"
   ]
  },
  {
   "cell_type": "code",
   "execution_count": 69,
   "metadata": {
    "collapsed": false
   },
   "outputs": [
    {
     "name": "stdout",
     "output_type": "stream",
     "text": [
      "2\n"
     ]
    }
   ],
   "source": [
    "print Solution().wordsTyping([\"a\", \"bcd\", \"e\"],3,6)"
   ]
  },
  {
   "cell_type": "code",
   "execution_count": 80,
   "metadata": {
    "collapsed": true
   },
   "outputs": [],
   "source": [
    "# Time:  O(r * c)\n",
    "# Space: O(1)\n",
    "# Sentence Screen Fitting\n",
    "'''\n",
    "Notes:\n",
    "a-bcd- \n",
    "e-a---\n",
    "bcd-e-\n",
    "\n",
    "[\"a\", \"bcd\", \"e\"]\n",
    "s = a-bcd-e; len(s) = 8\n",
    "\n",
    "1. []-[]-[]-[]-a-bcd-\n",
    "2. []-[]-[]-[]-a-bcd\n",
    "3. []-[]-[]-[]-a-bc\n",
    "'''\n",
    "\n",
    "class Solution(object):\n",
    "    def wordsTyping(self, sentence, rows, cols):\n",
    "        s = ' '.join(sentence) + ' '\n",
    "        start = 0\n",
    "        for i in xrange(rows):\n",
    "            start += cols - 1\n",
    "            if s[start % len(s)] == ' ':\n",
    "                start += 1\n",
    "            elif s[(start + 1) % len(s)] == ' ':\n",
    "                start += 2\n",
    "            else:\n",
    "                while start > 0 and s[ (start - 1) % len(s) ] != ' ':\n",
    "                    start -= 1\n",
    "        return start/ len(s)"
   ]
  },
  {
   "cell_type": "code",
   "execution_count": null,
   "metadata": {
    "collapsed": true
   },
   "outputs": [],
   "source": [
    "https://discuss.leetcode.com/topic/71869/python-with-explanation\n",
    "http://bookshadow.com/weblog/2016/10/09/leetcode-sentence-screen-fitting/"
   ]
  },
  {
   "cell_type": "code",
   "execution_count": 81,
   "metadata": {
    "collapsed": false
   },
   "outputs": [
    {
     "name": "stdout",
     "output_type": "stream",
     "text": [
      "s: a bcd e  8\n",
      "start: 5\n",
      "start: 6\n",
      "start: 11\n",
      "start: 10\n",
      "start: 15\n",
      "start: 16\n",
      "2\n"
     ]
    }
   ],
   "source": [
    "print Solution().wordsTyping([\"a\", \"bcd\", \"e\"],3,6)"
   ]
  },
  {
   "cell_type": "markdown",
   "metadata": {},
   "source": [
    "# 446 Arithmetic Slices II - Subsequence"
   ]
  },
  {
   "cell_type": "code",
   "execution_count": null,
   "metadata": {
    "collapsed": true
   },
   "outputs": [],
   "source": [
    "A sequence of numbers is called arithmetic if it consists of at least three elements \n",
    "and if the difference between any two consecutive elements is the same.\n",
    "\n",
    "For example, these are arithmetic sequences:\n",
    "\n",
    "1, 3, 5, 7, 9\n",
    "7, 7, 7, 7\n",
    "3, -1, -5, -9\n",
    "\n",
    "The following sequence is not arithmetic.\n",
    "\n",
    "1, 1, 2, 5, 7\n",
    " \n",
    "\n",
    "A zero-indexed array A consisting of N numbers is given. \n",
    "A subsequence slice of that array is any sequence of integers (P0, P1, ..., Pk) such that 0 ≤ P0 < P1 < ... < Pk < N.\n",
    "\n",
    "A subsequence slice (P0, P1, ..., Pk) of array A is called \n",
    "arithmetic if the sequence A[P0], A[P1], ..., A[Pk-1], A[Pk] is arithmetic. In particular, this means that k ≥ 2.\n",
    "\n",
    "The function should return the number of arithmetic subsequence slices in the array A.\n",
    "\n",
    "The input contains N integers. \n",
    "Every integer is in the range of -2^31 and 231-1 and 0 ≤ N ≤ 1000. The output is guaranteed to be less than 231-1.\n",
    "\n",
    " \n",
    "\n",
    "Example:\n",
    "\n",
    "Input: [2, 4, 6, 8, 10]\n",
    "\n",
    "Output: 7\n",
    "\n",
    "Explanation:\n",
    "All arithmetic subsequence slices are:\n",
    "[2,4,6]\n",
    "[4,6,8]\n",
    "[6,8,10]\n",
    "[2,4,6,8]\n",
    "[4,6,8,10]\n",
    "[2,4,6,8,10]\n",
    "[2,6,10]"
   ]
  },
  {
   "cell_type": "code",
   "execution_count": 100,
   "metadata": {
    "collapsed": true
   },
   "outputs": [],
   "source": [
    "# Time: O(n)\n",
    "# Sapce: O(n)\n",
    "# Arithmetic Slices II - Subsequence \n",
    "'''\n",
    "dp[x][delta] += dp[y][delta] + 1（y∈[0, x - 1]）\n",
    "\n",
    "2    4    6    8   10    \n",
    "    2-1  4-1  6-1  8-1\n",
    "         2-2  4-1  6-1 \n",
    "              2-3  4-2\n",
    "              \n",
    "2,4,6\n",
    "'''\n",
    "import collections\n",
    "class Solution(object):\n",
    "    def numberOfArithmeticSlices(self, A):\n",
    "        \"\"\"\n",
    "        :type A: List[int]\n",
    "        :rtype: int\n",
    "        \"\"\"\n",
    "        size = len(A)\n",
    "        ans = 0\n",
    "        dp = [collections.defaultdict(int) for x in range(size)]\n",
    "        for x in range(size):\n",
    "            for y in range(x):\n",
    "                delta = A[x] - A[y]\n",
    "                dp[x][delta] += 1\n",
    "                if delta in dp[y]:\n",
    "                    dp[x][delta] += dp[y][delta]\n",
    "                    ans += dp[y][delta]\n",
    "        return ans"
   ]
  },
  {
   "cell_type": "code",
   "execution_count": 101,
   "metadata": {
    "collapsed": false
   },
   "outputs": [
    {
     "name": "stdout",
     "output_type": "stream",
     "text": [
      "7\n"
     ]
    }
   ],
   "source": [
    "print Solution().numberOfArithmeticSlices([2, 4, 6, 8, 10])"
   ]
  },
  {
   "cell_type": "markdown",
   "metadata": {},
   "source": [
    "# 464 Can I Win "
   ]
  },
  {
   "cell_type": "code",
   "execution_count": null,
   "metadata": {
    "collapsed": true
   },
   "outputs": [],
   "source": [
    "In the \"100 game,\" two players take turns adding, to a running total, any integer from 1..10. \n",
    "The player who first causes the running total to reach or exceed 100 wins.\n",
    "\n",
    "What if we change the game so that players cannot re-use integers?\n",
    "\n",
    "For example, two players might take turns drawing from a common pool of numbers of 1..15 \n",
    "without replacement until they reach a total >= 100.\n",
    "\n",
    "Given an integer maxChoosableInteger and another integer desiredTotal, \n",
    "determine if the first player to move can force a win, assuming both players play optimally.\n",
    "\n",
    "You can always assume that maxChoosableInteger will not be larger than 20 and desiredTotal will not be larger than 300.\n",
    "\n",
    "Example\n",
    "\n",
    "Input:\n",
    "maxChoosableInteger = 10\n",
    "desiredTotal = 11\n",
    "\n",
    "Output:\n",
    "false\n",
    "\n",
    "Explanation:\n",
    "No matter which integer the first player choose, the first player will lose.\n",
    "The first player can choose an integer from 1 up to 10.\n",
    "If the first player choose 1, the second player can only choose integers from 2 up to 10.\n",
    "The second player will win by choosing 10 and get a total = 11, which is >= desiredTotal.\n",
    "Same with other integers chosen by the first player, the second player will always win."
   ]
  },
  {
   "cell_type": "code",
   "execution_count": 6,
   "metadata": {
    "collapsed": true
   },
   "outputs": [],
   "source": [
    "# Time: O(N * 2^N)\n",
    "# Space: O(2^N)\n",
    "# Can I Win\n",
    "'''\n",
    "1,2,3,4,5,6,7,8,9,10 \n",
    "12\n",
    "\n",
    "A:1\n",
    "B:10\n",
    "\n",
    "1. Recursive → TLE\n",
    "2. Edge Case\n",
    "    - maxChoosableInteger > desiredTotal -> True   # 100,11\n",
    "    - sum(maxChoosableInteger) < desiredTotal -> False # 10,1000\n",
    "\n",
    "3. How to win? | Top Down DFS with Memoization\n",
    "    - 1. minimax\n",
    "    - 2. DFS\n",
    "    - 3. Pruning \n",
    "    - 4. DP → \n",
    "'''\n",
    "\n",
    "class Solution(object):\n",
    "    def canIWin(self, maxChoosableInteger, desiredTotal):\n",
    "        \"\"\"\n",
    "        :type maxChoosableInteger: int\n",
    "        :type desiredTotal: int\n",
    "        :rtype: bool\n",
    "        \"\"\"\n",
    "        dp = dict()\n",
    "        def search(state, total):\n",
    "            for x in range(maxChoosableInteger, 0, -1):\n",
    "                if not state & (1 << (x - 1)):\n",
    "                    if total + x >= desiredTotal:\n",
    "                        dp[state] = True\n",
    "                        return True\n",
    "                    break\n",
    "            for x in range(1, maxChoosableInteger + 1):\n",
    "                if not state & (1 << (x - 1)):\n",
    "                    nstate = state | (1 << (x - 1))\n",
    "                    if nstate not in dp:\n",
    "                        dp[nstate] = search(nstate, total + x)\n",
    "                    if not dp[nstate]:\n",
    "                        dp[state] = True\n",
    "                        return True\n",
    "            dp[state] = False\n",
    "            return False\n",
    "        \n",
    "        if maxChoosableInteger >= desiredTotal: return True  # 100,11\n",
    "        if (1 + maxChoosableInteger) * maxChoosableInteger < 2 * desiredTotal: return False # 10, 1000\n",
    "        print dp\n",
    "        return search(0, 0)"
   ]
  },
  {
   "cell_type": "code",
   "execution_count": null,
   "metadata": {
    "collapsed": true
   },
   "outputs": [],
   "source": []
  },
  {
   "cell_type": "code",
   "execution_count": 5,
   "metadata": {
    "collapsed": false
   },
   "outputs": [
    {
     "name": "stdout",
     "output_type": "stream",
     "text": [
      "True\n",
      "False\n"
     ]
    }
   ],
   "source": [
    "print Solution().canIWin(100,11)\n",
    "print Solution().canIWin(10,1000)"
   ]
  },
  {
   "cell_type": "code",
   "execution_count": 15,
   "metadata": {
    "collapsed": false,
    "scrolled": true
   },
   "outputs": [
    {
     "name": "stdout",
     "output_type": "stream",
     "text": [
      "{}\n",
      "True\n"
     ]
    }
   ],
   "source": [
    "print Solution().canIWin(13,50)"
   ]
  },
  {
   "cell_type": "code",
   "execution_count": null,
   "metadata": {
    "collapsed": true
   },
   "outputs": [],
   "source": [
    "http://qkxue.net/info/195697/LeetCode-Can-Win-464\n",
    "https://discuss.leetcode.com/topic/74546/python-solution-with-detailed-explanation/3\n"
   ]
  },
  {
   "cell_type": "code",
   "execution_count": null,
   "metadata": {
    "collapsed": true
   },
   "outputs": [],
   "source": [
    "# Time: O(2^n)\n",
    "# Space: O(2^n)\n",
    "# Can I Win\n",
    "\n",
    "class Solution(object):\n",
    "    def canIWin(self, maxChoosableInteger, desiredTotal):\n",
    "        \"\"\"\n",
    "        :type maxChoosableInteger: int\n",
    "        :type desiredTotal: int\n",
    "        :rtype: bool\n",
    "        \"\"\"\n",
    "\n",
    "        # if 1+2+3+....+maxChoosableInteger < desiredTotal, \n",
    "        # then no player can ever acquire desiredTotal, returning False\n",
    "        if (1 + maxChoosableInteger) * maxChoosableInteger/2 < desiredTotal:\n",
    "            return False\n",
    "        self.memo = {}\n",
    "        return self.helper(range(1, maxChoosableInteger + 1), desiredTotal)\n",
    "\n",
    "    def helper(self, nums, desiredTotal):\n",
    "        \"\"\"\n",
    "        :param num:              available number pool\n",
    "        :param desiredTotal:  desired total for victory\n",
    "        \"\"\"\n",
    "        hash = str(nums)\n",
    "        if hash in self.memo:\n",
    "            return self.memo[hash] # if number pool is already evaluated, return memoized answer\n",
    "        \n",
    "        if nums[-1] >= desiredTotal:  \n",
    "            return True\n",
    "            \n",
    "        for i in range(len(nums)):\n",
    "            # pick each number in the number pool, and see using that if we attain desired Total\n",
    "            if not self.helper(nums[:i] + nums[i+1:], desiredTotal - nums[i]): \n",
    "                # whats the meaning of this condition?? why is this  ( \"not\" self.helper())?\n",
    "                self.memo[hash]= True\n",
    "                return True\n",
    "        self.memo[hash] = False\n",
    "        return False"
   ]
  },
  {
   "cell_type": "markdown",
   "metadata": {},
   "source": [
    "# 466 Count The Repetitions "
   ]
  },
  {
   "cell_type": "code",
   "execution_count": null,
   "metadata": {
    "collapsed": true
   },
   "outputs": [],
   "source": [
    "Define S = [s,n] as the string S which consists of n connected strings s. For example, [\"abc\", 3] =\"abcabcabc\".\n",
    "\n",
    "On the other hand, we define that string s1 can be obtained from string s2 \n",
    "if we can remove some characters from s2 such that it becomes s1. \n",
    "For example, “abc” can be obtained from “abdbec” based on our definition, but it can not be obtained from “acbbe”.\n",
    "\n",
    "You are given two non-empty strings s1 and s2 (each at most 100 characters long) \n",
    "and two integers 0 ≤ n1 ≤ 106and 1 ≤ n2 ≤ 106. Now consider the strings S1 and S2, \n",
    "where S1=[s1,n1] and S2=[s2,n2]. Find the maximum integer M such that [S2,M] can be obtained from S1.\n",
    "\n",
    "Example:\n",
    "\n",
    "Input:\n",
    "s1=\"acb\", n1=4\n",
    "s2=\"ab\", n2=2\n",
    "\n",
    "Return:\n",
    "2"
   ]
  },
  {
   "cell_type": "code",
   "execution_count": null,
   "metadata": {
    "collapsed": true
   },
   "outputs": [],
   "source": []
  },
  {
   "cell_type": "markdown",
   "metadata": {},
   "source": [
    "# 467 Unique Substrings in Wraparound String"
   ]
  },
  {
   "cell_type": "code",
   "execution_count": null,
   "metadata": {
    "collapsed": true
   },
   "outputs": [],
   "source": [
    "Consider the string s to be the infinite wraparound string of \"abcdefghijklmnopqrstuvwxyz\", \n",
    "so s will look like this: \"...zabcdefghijklmnopqrstuvwxyzabcdefghijklmnopqrstuvwxyzabcd....\".\n",
    "\n",
    "Now we have another string p. Your job is to find out how many unique non-empty substrings of p are present in s. \n",
    "In particular, \n",
    "your input is the string p and you need to output the number of different non-empty substrings of p in the string s.\n",
    "\n",
    "Note: p consists of only lowercase English letters and the size of p might be over 10000.\n",
    "\n",
    "Example 1:\n",
    "\n",
    "Input: \"a\"\n",
    "Output: 1\n",
    "\n",
    "Explanation: Only the substring \"a\" of string \"a\" is in the string \u0010s.\n",
    " \n",
    "\n",
    "Example 2:\n",
    "\n",
    "Input: \"cac\"\n",
    "Output: 2\n",
    "Explanation: There are two substrings \"a\", \"c\" of string \"cac\" in the string s.\n",
    " \n",
    "\n",
    "Example 3:\n",
    "\n",
    "Input: \"zab\"\n",
    "Output: 6\n",
    "Explanation: There are six substrings \"z\", \"a\", \"b\", \"za\", \"ab\", \"zab\" of string \"zab\" in the string s.\n"
   ]
  },
  {
   "cell_type": "markdown",
   "metadata": {},
   "source": [
    "# 471 Encode String with Shortest Length"
   ]
  },
  {
   "cell_type": "markdown",
   "metadata": {},
   "source": [
    "# 474 Ones and Zeroes"
   ]
  },
  {
   "cell_type": "markdown",
   "metadata": {},
   "source": [
    "# 486 Predict the Winner"
   ]
  },
  {
   "cell_type": "markdown",
   "metadata": {},
   "source": [
    "# 552 Student Attendance Record II"
   ]
  },
  {
   "cell_type": "markdown",
   "metadata": {},
   "source": [
    "# 321 Create Maximum Number  @birulyu"
   ]
  }
 ],
 "metadata": {
  "kernelspec": {
   "display_name": "Python 2",
   "language": "python",
   "name": "python2"
  },
  "language_info": {
   "codemirror_mode": {
    "name": "ipython",
    "version": 2
   },
   "file_extension": ".py",
   "mimetype": "text/x-python",
   "name": "python",
   "nbconvert_exporter": "python",
   "pygments_lexer": "ipython2",
   "version": "2.7.13"
  }
 },
 "nbformat": 4,
 "nbformat_minor": 0
}
