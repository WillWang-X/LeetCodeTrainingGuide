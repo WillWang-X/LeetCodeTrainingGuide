{
 "cells": [
  {
   "cell_type": "markdown",
   "metadata": {},
   "source": [
    "# SQL"
   ]
  },
  {
   "cell_type": "markdown",
   "metadata": {},
   "source": [
    " |  #  | Title           |  Solution       |  Time           | Space           | Difficulty    | Tag          | Note| \n",
    "|-----|---------------- | --------------- | --------------- | --------------- | ------------- |--------------|-----|\n",
    "|175| [Combine Two Tables](https://leetcode.com/problems/combine-two-tables/) | [MySQL](./MySQL/combine-two-tables.sql) | _O(m + n)_   | _O(m + n)_ | Easy     ||\n",
    "|176| [Second Highest Salary](https://leetcode.com/problems/second-highest-salary/) | [MySQL](./MySQL/second-highest-salary.sql) | _O(n)_ | _O(1)_ | Easy         ||\n",
    "|177| [Nth Highest Salary](https://leetcode.com/problems/nth-highest-salary/) | [MySQL](./MySQL/nth-highest-salary.sql) | _O(n^2)_   | _O(n)_ | Medium         ||\n",
    "|178| [Rank Scores](https://leetcode.com/problems/rank-scores/) | [MySQL](./MySQL/rank-scores.sql) | _O(n^2)_        | _O(n)_          | Medium         ||\n",
    "|180| [Consecutive Numbers](https://leetcode.com/problems/consecutive-numbers/) | [MySQL](./MySQL/consecutive-numbers.sql) | _O(n)_   | _O(n)_ | Medium         ||\n",
    "|181| [Employees Earning More Than Their Managers](https://leetcode.com/problems/employees-earning-more-than-their-managers/) | [MySQL](./MySQL/employees-earning-more-than-their-managers.sql) | _O(n^2)_   | _O(1)_ | Easy     ||\n",
    "|182| [Duplicate Emails](https://leetcode.com/problems/duplicate-emails/) | [MySQL](./MySQL/duplicate-emails.sql) | _O(n^2)_ | _O(n)_       | Easy           ||\n",
    "|183| [Customers Who Never Order](https://leetcode.com/problems/customers-who-never-order/) | [MySQL](./MySQL/customers-who-never-order.sql) | _O(n^2)_ | _O(1)_       | Easy           ||\n",
    "|184| [Department Highest Salary](https://leetcode.com/problems/department-highest-salary/) | [MySQL](./MySQL/department-highest-salary.sql) | _O(n^2)_   | _O(n)_ | Medium         ||\n",
    "|185| [Department Top Three Salaries](https://leetcode.com/problems/department-top-three-salaries/) | [MySQL](./MySQL/department-top-three-salaries.sql) | _O(n^2)_   | _O(n)_ | Hard         ||\n",
    "|196| [Delete Duplicate Emails](https://leetcode.com/problems/delete-duplicate-emails/) | [MySQL](./MySQL/delete-duplicate-emails.sql) | _O(n^2)_ | _O(n)_       | Easy           ||\n",
    "|197| [Rising Temperature](https://leetcode.com/problems/rising-temperature/) | [MySQL](./MySQL/rising-temperature.sql) | _O(n^2)_ | _O(n)_       | Easy           ||\n",
    "|262| [Trips and Users](https://leetcode.com/problems/trips-and-users/) | [MySQL](./MySQL/trips-and-users.sql) | _O((t * u) + tlogt)_ | _O(t)_       | Hard           ||"
   ]
  },
  {
   "cell_type": "markdown",
   "metadata": {},
   "source": [
    "# 1. |175| [Combine Two Tables](https://leetcode.com/problems/combine-two-tables/)"
   ]
  },
  {
   "cell_type": "code",
   "execution_count": null,
   "metadata": {
    "collapsed": true
   },
   "outputs": [],
   "source": [
    "Table: Person\n",
    "\n",
    "+-------------+---------+\n",
    "| Column Name | Type    |\n",
    "+-------------+---------+\n",
    "| PersonId    | int     |\n",
    "| FirstName   | varchar |\n",
    "| LastName    | varchar |\n",
    "+-------------+---------+\n",
    "PersonId is the primary key column for this table.\n",
    "Table: Address\n",
    "\n",
    "+-------------+---------+\n",
    "| Column Name | Type    |\n",
    "+-------------+---------+\n",
    "| AddressId   | int     |\n",
    "| PersonId    | int     |\n",
    "| City        | varchar |\n",
    "| State       | varchar |\n",
    "+-------------+---------+\n",
    "AddressId is the primary key column for this table.\n",
    "\n",
    "Write a SQL query for a report that provides the following information for each person in the Person table, \n",
    "regardless if there is an address for each of those people:\n",
    "\n",
    "FirstName, LastName, City, State"
   ]
  },
  {
   "cell_type": "code",
   "execution_count": null,
   "metadata": {
    "collapsed": true
   },
   "outputs": [],
   "source": [
    "# Time: O(m+n)\n",
    "# Space: O(m+n)\n",
    "\n",
    "SELECT FirstName, LastName, City, State FROM Person LEFT JOIN Address\n",
    "       ON Person.PersonId=Address.PersonId"
   ]
  },
  {
   "cell_type": "markdown",
   "metadata": {},
   "source": [
    "# 2. |176| [Second Highest Salary](https://leetcode.com/problems/second-highest-salary/) "
   ]
  },
  {
   "cell_type": "code",
   "execution_count": null,
   "metadata": {
    "collapsed": true
   },
   "outputs": [],
   "source": [
    "Write a SQL query to get the second highest salary from the Employee table.\n",
    "\n",
    "+----+--------+\n",
    "| Id | Salary |\n",
    "+----+--------+\n",
    "| 1  | 100    |\n",
    "| 2  | 200    |\n",
    "| 3  | 300    |\n",
    "+----+--------+\n",
    "For example, given the above Employee table, the query should return 200 as the second highest salary. \n",
    "If there is no second highest salary, then the query should return null.\n",
    "\n",
    "+---------------------+\n",
    "| SecondHighestSalary |\n",
    "+---------------------+\n",
    "| 200                 |\n",
    "+---------------------+"
   ]
  },
  {
   "cell_type": "code",
   "execution_count": null,
   "metadata": {
    "collapsed": true
   },
   "outputs": [],
   "source": [
    "# Time:  O(n)\n",
    "# Space: O(1)\n",
    "\n",
    "# Write your MySQL query statement below\n",
    "SELECT (SELECT Salary FROM Employee GROUP BY Salary ORDER BY Salary DESC LIMIT 1,1) SecondHighestSalary;\n"
   ]
  },
  {
   "cell_type": "markdown",
   "metadata": {},
   "source": [
    "# 3. |177| [Nth Highest Salary](https://leetcode.com/problems/nth-highest-salary/) "
   ]
  },
  {
   "cell_type": "code",
   "execution_count": null,
   "metadata": {
    "collapsed": true
   },
   "outputs": [],
   "source": [
    "Write a SQL query to get the nth highest salary from the Employee table.\n",
    "\n",
    "+----+--------+\n",
    "| Id | Salary |\n",
    "+----+--------+\n",
    "| 1  | 100    |\n",
    "| 2  | 200    |\n",
    "| 3  | 300    |\n",
    "+----+--------+\n",
    "For example, given the above Employee table, the nth highest salary where n = 2 is 200. \n",
    "If there is no nth highest salary, then the query should return null.\n",
    "\n",
    "+------------------------+\n",
    "| getNthHighestSalary(2) |\n",
    "+------------------------+\n",
    "| 200                    |\n",
    "+------------------------+"
   ]
  },
  {
   "cell_type": "code",
   "execution_count": null,
   "metadata": {
    "collapsed": true
   },
   "outputs": [],
   "source": [
    "# Time:  O(n^2)\n",
    "# Space: O(n)\n",
    "# Nth Highest Salary\n",
    "\n",
    "CREATE FUNCTION getNthHighestSalary(N INT) RETURNS INT\n",
    "BEGIN\n",
    "  RETURN (\n",
    "     # Write your MySQL query statement below.\n",
    "     SELECT MAX(Salary) /*This is the outer query part */\n",
    "            FROM Employee Emp1\n",
    "            WHERE (N-1) = ( /* Subquery starts here */\n",
    "                 SELECT COUNT(DISTINCT(Emp2.Salary))\n",
    "                        FROM Employee Emp2\n",
    "                        WHERE Emp2.Salary > Emp1.Salary)\n",
    "  );\n",
    "END"
   ]
  },
  {
   "cell_type": "markdown",
   "metadata": {},
   "source": [
    "# 4. |178| [Rank Scores](https://leetcode.com/problems/rank-scores/)"
   ]
  },
  {
   "cell_type": "code",
   "execution_count": null,
   "metadata": {
    "collapsed": true
   },
   "outputs": [],
   "source": [
    "Write a SQL query to rank scores. If there is a tie between two scores, both should have the same ranking. \n",
    "Note that after a tie, the next ranking number should be the next consecutive integer value. \n",
    "In other words, there should be no \"holes\" between ranks.\n",
    "\n",
    "+----+-------+\n",
    "| Id | Score |\n",
    "+----+-------+\n",
    "| 1  | 3.50  |\n",
    "| 2  | 3.65  |\n",
    "| 3  | 4.00  |\n",
    "| 4  | 3.85  |\n",
    "| 5  | 4.00  |\n",
    "| 6  | 3.65  |\n",
    "+----+-------+\n",
    "For example, given the above Scores table, your query should generate the following report (order by highest score):\n",
    "\n",
    "+-------+------+\n",
    "| Score | Rank |\n",
    "+-------+------+\n",
    "| 4.00  | 1    |\n",
    "| 4.00  | 1    |\n",
    "| 3.85  | 2    |\n",
    "| 3.65  | 3    |\n",
    "| 3.65  | 3    |\n",
    "| 3.50  | 4    |\n",
    "+-------+------+"
   ]
  },
  {
   "cell_type": "code",
   "execution_count": null,
   "metadata": {
    "collapsed": true
   },
   "outputs": [],
   "source": [
    "# Time:  O(n^2)\n",
    "# Space: O(n)\n",
    "\n",
    "# Write your MySQL query statement below\n",
    "SELECT Ranks.Score, Ranks.Rank FROM Scores LEFT JOIN \n",
    "       ( SELECT r.Score, @curRow := @curRow + 1  Rank \n",
    "            FROM (SELECT DISTINCT(Score), (SELECT @curRow := 0) \n",
    "                      FROM Scores ORDER by Score DESC) r\n",
    "       ) Ranks \n",
    "       ON Scores.Score = Ranks.Score\n",
    "       ORDER by Score DESC"
   ]
  },
  {
   "cell_type": "markdown",
   "metadata": {},
   "source": [
    "# 5. |180| [Consecutive Numbers](https://leetcode.com/problems/consecutive-numbers/)"
   ]
  },
  {
   "cell_type": "code",
   "execution_count": null,
   "metadata": {
    "collapsed": true
   },
   "outputs": [],
   "source": [
    "Write a SQL query to find all numbers that appear at least three times consecutively.\n",
    "\n",
    "+----+-----+\n",
    "| Id | Num |\n",
    "+----+-----+\n",
    "| 1  |  1  |\n",
    "| 2  |  1  |\n",
    "| 3  |  1  |\n",
    "| 4  |  2  |\n",
    "| 5  |  1  |\n",
    "| 6  |  2  |\n",
    "| 7  |  2  |\n",
    "+----+-----+\n",
    "For example, given the above Logs table, 1 is the only number that appears consecutively for at least three times.\n",
    "\n",
    "+-----------------+\n",
    "| ConsecutiveNums |\n",
    "+-----------------+\n",
    "| 1               |\n",
    "+-----------------+"
   ]
  },
  {
   "cell_type": "code",
   "execution_count": null,
   "metadata": {
    "collapsed": true
   },
   "outputs": [],
   "source": [
    "# Time:  O(n)\n",
    "# Space: O(n)\n",
    "# Consecutive Numbers\n",
    "\n",
    "SELECT DISTINCT l1.Num  as ConsecutiveNums\n",
    "FROM Logs l1, Logs l2, Logs l3  \n",
    "WHERE l1.Id + 1 = l2.Id AND l2.Id + 1 = l3.Id AND l1.Num = l2.Num AND l2.Num = l3.Num "
   ]
  },
  {
   "cell_type": "markdown",
   "metadata": {},
   "source": [
    "# 6. |181| [Employees Earning More Than Their Managers](https://leetcode.com/problems/employees-earning-more-than-their-managers/)"
   ]
  },
  {
   "cell_type": "code",
   "execution_count": null,
   "metadata": {
    "collapsed": true
   },
   "outputs": [],
   "source": [
    "The Employee table holds all employees including their managers. Every employee has an Id, \n",
    "and there is also a column for the manager Id.\n",
    "\n",
    "+----+-------+--------+-----------+\n",
    "| Id | Name  | Salary | ManagerId |\n",
    "+----+-------+--------+-----------+\n",
    "| 1  | Joe   | 70000  | 3         |\n",
    "| 2  | Henry | 80000  | 4         |\n",
    "| 3  | Sam   | 60000  | NULL      |\n",
    "| 4  | Max   | 90000  | NULL      |\n",
    "+----+-------+--------+-----------+\n",
    "Given the Employee table, write a SQL query that finds out employees who earn more than their managers. \n",
    "For the above table, Joe is the only employee who earns more than his manager.\n",
    "\n",
    "+----------+\n",
    "| Employee |\n",
    "+----------+\n",
    "| Joe      |\n",
    "+----------+"
   ]
  },
  {
   "cell_type": "code",
   "execution_count": null,
   "metadata": {
    "collapsed": true
   },
   "outputs": [],
   "source": [
    "# Time: O(n^2)\n",
    "# Space: O(n)\n",
    "\n",
    "# Write your MySQL query statement below\n",
    "SELECT e.Name AS Employee  FROM Employee e LEFT JOIN Employee b\n",
    "       ON e.ManagerId=b.Id\n",
    "       WHERE e.Salary > b.Salary"
   ]
  },
  {
   "cell_type": "markdown",
   "metadata": {},
   "source": [
    "# 7. |182| [Duplicate Emails](https://leetcode.com/problems/duplicate-emails/) "
   ]
  },
  {
   "cell_type": "code",
   "execution_count": null,
   "metadata": {
    "collapsed": true
   },
   "outputs": [],
   "source": []
  },
  {
   "cell_type": "markdown",
   "metadata": {},
   "source": [
    "# 8. |183| [Customers Who Never Order](https://leetcode.com/problems/customers-who-never-order/)"
   ]
  },
  {
   "cell_type": "markdown",
   "metadata": {},
   "source": [
    "# 9. |184| [Department Highest Salary](https://leetcode.com/problems/department-highest-salary/)"
   ]
  },
  {
   "cell_type": "markdown",
   "metadata": {},
   "source": [
    "# 10. |185| [Department Top Three Salaries](https://leetcode.com/problems/department-top-three-salaries/)"
   ]
  },
  {
   "cell_type": "markdown",
   "metadata": {},
   "source": [
    "# 11. |196| [Delete Duplicate Emails](https://leetcode.com/problems/delete-duplicate-emails/)"
   ]
  },
  {
   "cell_type": "markdown",
   "metadata": {},
   "source": [
    "# 12. |197| [Rising Temperature](https://leetcode.com/problems/rising-temperature/)"
   ]
  },
  {
   "cell_type": "markdown",
   "metadata": {},
   "source": [
    "# 13. |262| [Trips and Users](https://leetcode.com/problems/trips-and-users/)"
   ]
  }
 ],
 "metadata": {
  "kernelspec": {
   "display_name": "Python 2",
   "language": "python",
   "name": "python2"
  },
  "language_info": {
   "codemirror_mode": {
    "name": "ipython",
    "version": 2
   },
   "file_extension": ".py",
   "mimetype": "text/x-python",
   "name": "python",
   "nbconvert_exporter": "python",
   "pygments_lexer": "ipython2",
   "version": "2.7.13"
  }
 },
 "nbformat": 4,
 "nbformat_minor": 0
}
