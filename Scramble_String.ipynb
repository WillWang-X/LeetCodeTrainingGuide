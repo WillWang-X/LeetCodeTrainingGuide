{
 "cells": [
  {
   "cell_type": "markdown",
   "metadata": {},
   "source": [
    "# 87. Scramble String"
   ]
  },
  {
   "cell_type": "code",
   "execution_count": 2,
   "metadata": {
    "collapsed": true
   },
   "outputs": [],
   "source": [
    "# Given a string s1, we may represent it as a binary tree by partitioning it to two non-empty substrings recursively.\n",
    "# \n",
    "# Below is one possible representation of s1 = \"great\":\n",
    "# \n",
    "#     great\n",
    "#    /    \\\n",
    "#   gr    eat\n",
    "#  / \\    /  \\\n",
    "# g   r  e   at\n",
    "#            / \\\n",
    "#           a   t\n",
    "# To scramble the string, we may choose any non-leaf node and swap its two children.\n",
    "# \n",
    "# For example, if we choose the node \"gr\" and swap its two children, it produces a scrambled string \"rgeat\".\n",
    "# \n",
    "#     rgeat\n",
    "#    /    \\\n",
    "#   rg    eat\n",
    "#  / \\    /  \\\n",
    "# r   g  e   at\n",
    "#            / \\\n",
    "#           a   t\n",
    "# We say that \"rgeat\" is a scrambled string of \"great\".\n",
    "# \n",
    "# Similarly, if we continue to swap the children of nodes \"eat\" and \"at\", it produces a scrambled string \"rgtae\".\n",
    "# \n",
    "#     rgtae\n",
    "#    /    \\\n",
    "#   rg    tae\n",
    "#  / \\    /  \\\n",
    "# r   g  ta  e\n",
    "#        / \\\n",
    "#       t   a\n",
    "# We say that \"rgtae\" is a scrambled string of \"great\".\n",
    "# \n",
    "# Given two strings s1 and s2 of the same length, determine if s2 is a scrambled string of s1.\n",
    "#"
   ]
  },
  {
   "cell_type": "markdown",
   "metadata": {},
   "source": [
    "## Solution1"
   ]
  },
  {
   "cell_type": "code",
   "execution_count": null,
   "metadata": {
    "collapsed": true
   },
   "outputs": [],
   "source": [
    "# Scramble string\n",
    "# Time \n",
    "# Space\n",
    "\n"
   ]
  },
  {
   "cell_type": "markdown",
   "metadata": {},
   "source": [
    "## Notes"
   ]
  },
  {
   "cell_type": "markdown",
   "metadata": {},
   "source": [
    "- http://ice-web.cc.gatech.edu/ce21/1/static/Java-Review/LoopBasics/stringScrambleA.html\n",
    "- http://www.cnblogs.com/yuzhangcmu/p/4189152.html\n",
    "- http://blog.unieagle.net/2012/10/23/leetcode%E9%A2%98%E7%9B%AE%EF%BC%9Ascramble-string%EF%BC%8C%E4%B8%89%E7%BB%B4%E5%8A%A8%E6%80%81%E8%A7%84%E5%88%92/"
   ]
  },
  {
   "cell_type": "code",
   "execution_count": null,
   "metadata": {
    "collapsed": true
   },
   "outputs": [],
   "source": []
  }
 ],
 "metadata": {
  "kernelspec": {
   "display_name": "Python 2",
   "language": "python",
   "name": "python2"
  },
  "language_info": {
   "codemirror_mode": {
    "name": "ipython",
    "version": 2
   },
   "file_extension": ".py",
   "mimetype": "text/x-python",
   "name": "python",
   "nbconvert_exporter": "python",
   "pygments_lexer": "ipython2",
   "version": "2.7.13"
  }
 },
 "nbformat": 4,
 "nbformat_minor": 0
}
