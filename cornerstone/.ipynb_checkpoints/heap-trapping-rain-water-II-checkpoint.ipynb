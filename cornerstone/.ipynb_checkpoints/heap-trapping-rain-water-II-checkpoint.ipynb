{
 "cells": [
  {
   "cell_type": "markdown",
   "metadata": {},
   "source": [
    "## [407. Trapping Rain Water II](https://leetcode.com/problems/trapping-rain-water-ii/description/)"
   ]
  },
  {
   "cell_type": "markdown",
   "metadata": {},
   "source": [
    "Given an m x n matrix of positive integers representing the height of each unit cell in a 2D elevation map, compute the volume of water it is able to trap after raining.\n",
    "\n",
    "Note:\n",
    "Both m and n are less than 110. The height of each unit cell is greater than 0 and is less than 20,000.\n",
    "\n",
    "Example:\n",
    "\n",
    "Given the following 3x6 height map:\n",
    "[\n",
    "  [1,4,3,1,3,2],\n",
    "  [3,2,1,3,2,4],\n",
    "  [2,3,3,2,3,1]\n",
    "]\n",
    "\n",
    "Return 4."
   ]
  },
  {
   "cell_type": "markdown",
   "metadata": {},
   "source": [
    "![](https://images2015.cnblogs.com/blog/391947/201610/391947-20161003120051785-2137527353.jpg)"
   ]
  },
  {
   "cell_type": "markdown",
   "metadata": {},
   "source": [
    "![](https://images2015.cnblogs.com/blog/391947/201610/391947-20161003120900692-314831597.jpg)"
   ]
  },
  {
   "cell_type": "markdown",
   "metadata": {},
   "source": [
    "![](https://images2015.cnblogs.com/blog/391947/201610/391947-20161003121753379-2129390635.jpg)"
   ]
  },
  {
   "cell_type": "markdown",
   "metadata": {},
   "source": [
    "![](https://images2015.cnblogs.com/blog/391947/201610/391947-20161003121905207-4147516.jpg)"
   ]
  }
 ],
 "metadata": {
  "kernelspec": {
   "display_name": "Python 3",
   "language": "python",
   "name": "python3"
  },
  "language_info": {
   "codemirror_mode": {
    "name": "ipython",
    "version": 3
   },
   "file_extension": ".py",
   "mimetype": "text/x-python",
   "name": "python",
   "nbconvert_exporter": "python",
   "pygments_lexer": "ipython3",
   "version": "3.6.0"
  }
 },
 "nbformat": 4,
 "nbformat_minor": 2
}
