{
 "cells": [
  {
   "cell_type": "markdown",
   "metadata": {},
   "source": [
    "![](https://upload.wikimedia.org/wikipedia/commons/9/9c/Insertion-sort-example.gif)"
   ]
  },
  {
   "cell_type": "code",
   "execution_count": 7,
   "metadata": {
    "scrolled": true
   },
   "outputs": [
    {
     "name": "stdout",
     "output_type": "stream",
     "text": [
      "[5, 6, 3, 1, 8, 7, 2, 4]\n",
      "---\n",
      "[3, 5, 6, 1, 8, 7, 2, 4]\n",
      "------\n",
      "[1, 3, 5, 6, 8, 7, 2, 4]\n",
      "---------\n",
      "[1, 3, 5, 6, 8, 7, 2, 4]\n",
      "------------\n",
      "[1, 3, 5, 6, 7, 8, 2, 4]\n",
      "---------------\n",
      "[1, 2, 3, 5, 6, 7, 8, 4]\n",
      "------------------\n",
      "[1, 2, 3, 4, 5, 6, 7, 8]\n",
      "---------------------\n",
      "[1, 2, 3, 4, 5, 6, 7, 8]\n"
     ]
    }
   ],
   "source": [
    "'''\n",
    " It always maintains a sorted sublist in the lower \n",
    " positions of the list. Each new item is then “inserted” \n",
    " back into the previous sublist such that the sorted \n",
    " sublist is one item larger. \n",
    "'''\n",
    "def insertion_sort(alist):\n",
    "    for index in range(1, len(alist)):\n",
    "        currentvalue = alist[index]\n",
    "        position = index\n",
    "        while position > 0 and alist[position - 1] > currentvalue:\n",
    "            alist[position] = alist[position-1]\n",
    "            position = position - 1\n",
    "        \n",
    "        alist[position] = currentvalue\n",
    "        print(alist)\n",
    "        print('---'*index) # sorted \n",
    "\n",
    "alist = [6,5,3,1,8,7,2,4]\n",
    "insertion_sort(alist)\n",
    "print(alist)"
   ]
  }
 ],
 "metadata": {
  "kernelspec": {
   "display_name": "Python 3",
   "language": "python",
   "name": "python3"
  },
  "language_info": {
   "codemirror_mode": {
    "name": "ipython",
    "version": 3
   },
   "file_extension": ".py",
   "mimetype": "text/x-python",
   "name": "python",
   "nbconvert_exporter": "python",
   "pygments_lexer": "ipython3",
   "version": "3.6.0"
  }
 },
 "nbformat": 4,
 "nbformat_minor": 2
}
