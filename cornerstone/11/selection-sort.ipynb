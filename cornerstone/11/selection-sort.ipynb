{
 "cells": [
  {
   "cell_type": "markdown",
   "metadata": {},
   "source": [
    "![](http://sonny.io/wp-content/uploads/2016/07/selectionsort.gif)"
   ]
  },
  {
   "cell_type": "code",
   "execution_count": 21,
   "metadata": {
    "scrolled": false
   },
   "outputs": [
    {
     "name": "stdout",
     "output_type": "stream",
     "text": [
      "[1, 8, 3, 5, 9, 10, 7, 2, 4, 6]\n",
      "---\n",
      "[1, 2, 3, 5, 9, 10, 7, 8, 4, 6]\n",
      "------\n",
      "[1, 2, 4, 5, 9, 10, 7, 8, 3, 6]\n",
      "---------\n",
      "[1, 2, 4, 3, 9, 10, 7, 8, 5, 6]\n",
      "------------\n",
      "[1, 2, 4, 3, 5, 10, 7, 8, 9, 6]\n",
      "---------------\n",
      "[1, 2, 4, 3, 5, 6, 7, 8, 9, 10]\n",
      "------------------\n",
      "[1, 2, 4, 3, 5, 6, 8, 7, 9, 10]\n",
      "---------------------\n",
      "[1, 2, 4, 3, 5, 6, 8, 9, 7, 10]\n",
      "------------------------\n",
      "[1, 2, 4, 3, 5, 6, 8, 9, 10, 7]\n",
      "---------------------------\n",
      "[1, 2, 4, 3, 5, 6, 8, 9, 10, 7]\n"
     ]
    }
   ],
   "source": [
    "def selection_sort(alist):\n",
    "    '''\n",
    "    :type alist: list(int)\n",
    "    :rtype: list(int)\n",
    "    '''\n",
    "    for fillslot in range(len(alist)-1):\n",
    "        position_of_min = len(alist) - 1 \n",
    "        for location in range(fillslot+1, len(alist)-1):\n",
    "            if alist[location] < alist[position_of_min]:\n",
    "                position_of_min = location\n",
    "        \n",
    "        temp = alist[fillslot]\n",
    "        alist[fillslot] = alist[position_of_min]\n",
    "        alist[position_of_min] = temp\n",
    "        print(alist)\n",
    "        print('---'*(fillslot+1)) # sorted \n",
    "        \n",
    "alist = [6, 8, 3, 5, 9, 10, 7, 2, 4, 1]\n",
    "selection_sort(alist)\n",
    "print(alist)"
   ]
  },
  {
   "cell_type": "code",
   "execution_count": 24,
   "metadata": {},
   "outputs": [
    {
     "name": "stdout",
     "output_type": "stream",
     "text": [
      "------\n",
      "[6, 8, 3, 5, 9, 10, 7, 2, 4, 1]\n"
     ]
    }
   ],
   "source": [
    "def selection_sort2(alist):\n",
    "    for fillslot in range(len(alist)-1,0,-1):\n",
    "        positionOfMax = 0\n",
    "        for location in range(1,fillslot+1):\n",
    "            if alist[location]>alist[positionOfMax]:\n",
    "                positionOfMax = location\n",
    "\n",
    "    temp = alist[fillslot]\n",
    "    alist[fillslot] = alist[positionOfMax]\n",
    "    alist[positionOfMax] = temp\n",
    "    print('---'*(fillslot+1)) # sorted \n",
    "\n",
    "alist = [6, 8, 3, 5, 9, 10, 7, 2, 4, 1]\n",
    "selection_sort2(alist)\n",
    "print(alist)"
   ]
  }
 ],
 "metadata": {
  "kernelspec": {
   "display_name": "Python 3",
   "language": "python",
   "name": "python3"
  },
  "language_info": {
   "codemirror_mode": {
    "name": "ipython",
    "version": 3
   },
   "file_extension": ".py",
   "mimetype": "text/x-python",
   "name": "python",
   "nbconvert_exporter": "python",
   "pygments_lexer": "ipython3",
   "version": "3.6.0"
  }
 },
 "nbformat": 4,
 "nbformat_minor": 2
}
