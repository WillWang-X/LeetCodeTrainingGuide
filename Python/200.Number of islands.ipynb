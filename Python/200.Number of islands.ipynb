{
 "cells": [
  {
   "cell_type": "code",
   "execution_count": 2,
   "metadata": {
    "collapsed": false
   },
   "outputs": [
    {
     "name": "stdout",
     "output_type": "stream",
     "text": [
      "Yes!\n"
     ]
    }
   ],
   "source": [
    "queue = [1]\n",
    "if queue:\n",
    "    print \"Yes!\""
   ]
  },
  {
   "cell_type": "code",
   "execution_count": 3,
   "metadata": {
    "collapsed": true
   },
   "outputs": [],
   "source": [
    "queue = []\n",
    "if queue:\n",
    "    print \"Yes!\""
   ]
  },
  {
   "cell_type": "code",
   "execution_count": 8,
   "metadata": {
    "collapsed": false
   },
   "outputs": [
    {
     "name": "stdout",
     "output_type": "stream",
     "text": [
      "1\n"
     ]
    }
   ],
   "source": [
    "a = [\"11110\",\"11010\",\"11000\",\"00000\"]\n",
    "print a[0][0]\n",
    "if a[0][0] == 1:\n",
    "    print \"Yes!\""
   ]
  },
  {
   "cell_type": "markdown",
   "metadata": {},
   "source": [
    "# 1. Wrong"
   ]
  },
  {
   "cell_type": "code",
   "execution_count": null,
   "metadata": {
    "collapsed": true
   },
   "outputs": [],
   "source": [
    "# Time: \n",
    "# Space:\n",
    "# 200. Number of Islands\n",
    "\n",
    "\n",
    "class Solution(object):\n",
    "    def numIslands(self, grid):\n",
    "        \"\"\"\n",
    "        :type grid: List[List[str]]\n",
    "        :rtype: int\n",
    "        \"\"\"\n",
    "        number = 0\n",
    "        visited = set()\n",
    "        lines = len(grid)\n",
    "        rows = len(grid[0])\n",
    "        \n",
    "        for h in range(lines):\n",
    "            for v in range(rows):\n",
    "                if grid[h][v] == '1' and (h,v) not in visited:\n",
    "                    front = [(h,v)]\n",
    "                    nxt = []\n",
    "                    \n",
    "                    while front:\n",
    "                        nxt = []\n",
    "                        if h + 1 <= lines:\n",
    "                            if grid[h+1][v] == 1 and (h+1,v) not in visited:\n",
    "                                visited.add((h+1,v))\n",
    "                                nxt.append((h+1,v))\n",
    "                        if v + 1 <= rows:\n",
    "                            if grid[h][v+1] == 1 and (h,v+1) not in visited:\n",
    "                                visited.add((h,v+1))\n",
    "                                nxt.append((h,v+1))\n",
    "                        front = nxt \n",
    "                    number += 1\n",
    "                \n",
    "                else:\n",
    "                    pass     \n",
    "        \n",
    "        return number "
   ]
  },
  {
   "cell_type": "code",
   "execution_count": 9,
   "metadata": {
    "collapsed": false
   },
   "outputs": [
    {
     "name": "stdout",
     "output_type": "stream",
     "text": [
      "1 2\n",
      "3 4\n"
     ]
    }
   ],
   "source": [
    "queue = [(1,2),(3,4)]\n",
    "for x,y in queue:\n",
    "    print x,y"
   ]
  },
  {
   "cell_type": "markdown",
   "metadata": {},
   "source": [
    "# 2 Time Limited Exceeded"
   ]
  },
  {
   "cell_type": "code",
   "execution_count": null,
   "metadata": {
    "collapsed": true
   },
   "outputs": [],
   "source": [
    "# Time: \n",
    "# Space:\n",
    "# 200. Number of Islands\n",
    "\n",
    "\n",
    "class Solution(object):\n",
    "    def numIslands(self, grid):\n",
    "        \"\"\"\n",
    "        :type grid: List[List[str]]\n",
    "        :rtype: int\n",
    "        \"\"\"\n",
    "        \n",
    "        number = 0\n",
    "        lines = len(grid)\n",
    "        rows = len(grid[0]) if lines else 0\n",
    "        \n",
    "        for h in range(lines):\n",
    "            for v in range(rows):\n",
    "                if grid[h][v] == '1':\n",
    "                    front = [(h,v)]\n",
    "\n",
    "                    while front:\n",
    "                        nxt = []\n",
    "                        \n",
    "                        for x,y in front:\n",
    "                            if x - 1 >= 0:\n",
    "                                if grid[x-1][y] == '1':\n",
    "                                    nxt.append((x-1,y))\n",
    "                            if y - 1 >= 0:\n",
    "                                if grid[x][y-1] == '1':\n",
    "                                    nxt.append((x,y-1))\n",
    "                            if x + 1 <= lines - 1:\n",
    "                                if grid[x+1][y] == '1':\n",
    "                                    nxt.append((x+1,y))\n",
    "                            if y + 1 <= rows - 1:\n",
    "                                if grid[x][y+1] == '1':\n",
    "                                    nxt.append((x,y+1))\n",
    "\n",
    "                            grid[x][y] = '0' \n",
    "                        \n",
    "                        front = nxt \n",
    "                        \n",
    "                    number += 1\n",
    "                \n",
    "                else:\n",
    "                    pass     \n",
    "        \n",
    "        return number "
   ]
  },
  {
   "cell_type": "code",
   "execution_count": null,
   "metadata": {
    "collapsed": true
   },
   "outputs": [],
   "source": [
    "def numIslands(self, grid):\n",
    "    def sink(i, j):\n",
    "        if 0 <= i < len(grid) and 0 <= j < len(grid[i]) and grid[i][j] == '1':\n",
    "            grid[i][j] = '0'\n",
    "            map(sink, (i+1, i-1, i, i), (j, j, j+1, j-1))\n",
    "            return 1\n",
    "        return 0\n",
    "    return sum(sink(i, j) for i in range(len(grid)) for j in range(len(grid[i])))"
   ]
  },
  {
   "cell_type": "markdown",
   "metadata": {},
   "source": [
    "# 3. Memory Limit Exceeded"
   ]
  },
  {
   "cell_type": "code",
   "execution_count": null,
   "metadata": {
    "collapsed": true
   },
   "outputs": [],
   "source": [
    "# Time: \n",
    "# Space:\n",
    "# 200. Number of Islands\n",
    "\n",
    "class Solution(object):\n",
    "    def numIslands(self, grid):\n",
    "        \"\"\"\n",
    "        :type grid: List[List[str]]\n",
    "        :rtype: int\n",
    "        \"\"\"\n",
    "        if not grid:\n",
    "            return 0\n",
    "        \n",
    "        count = 0\n",
    "        lines = len(grid)\n",
    "        rows = len(grid[0]) \n",
    "        \n",
    "        for h in range(lines):\n",
    "            for v in range(rows):\n",
    "                if grid[h][v] == '1':\n",
    "                    count += 1 \n",
    "                    queue = [(h,v)]\n",
    "                    for x,y in queue:\n",
    "                        if 0<= x < lines and 0 <= y < rows and grid[x][y] == \"1\":\n",
    "                            grid[x][y] == \"2\"\n",
    "                            queue.extend([(x-1,y),(x+1,y),(x,y-1),(x,y+1)])                            \n",
    "        return count"
   ]
  }
 ],
 "metadata": {
  "kernelspec": {
   "display_name": "Python 2",
   "language": "python",
   "name": "python2"
  },
  "language_info": {
   "codemirror_mode": {
    "name": "ipython",
    "version": 2
   },
   "file_extension": ".py",
   "mimetype": "text/x-python",
   "name": "python",
   "nbconvert_exporter": "python",
   "pygments_lexer": "ipython2",
   "version": "2.7.13"
  }
 },
 "nbformat": 4,
 "nbformat_minor": 0
}
