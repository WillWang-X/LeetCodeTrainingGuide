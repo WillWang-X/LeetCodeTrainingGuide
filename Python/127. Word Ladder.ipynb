{
 "cells": [
  {
   "cell_type": "code",
   "execution_count": 15,
   "metadata": {
    "collapsed": true
   },
   "outputs": [],
   "source": [
    "# Time:\n",
    "# Space:\n",
    "# 127. Word Ladder\n",
    "\n",
    "# Time: O(78n) | n = len(wordList)\n",
    "# Space: O(26^3) worse-case\n",
    "# 127. Word Ladder\n",
    "\n",
    "import string\n",
    "class Solution(object):\n",
    "    def ladderLength(self, beginWord, endWord, wordList):\n",
    "        \"\"\"\n",
    "        :type beginWord: str\n",
    "        :type endWord: str\n",
    "        :type wordList: List[str]\n",
    "        :rtype: int\n",
    "        \"\"\"\n",
    "        length = 2\n",
    "        front, back, wordSet = set([beginWord]), set([endWord]), set(wordList)\n",
    "        # 1. Edge case \n",
    "        if not (back & wordSet):\n",
    "            return 0\n",
    "        # 2. BFS\n",
    "        while front:\n",
    "            nxt = set()\n",
    "            for word in front:\n",
    "                for i in range(len(beginWord)):\n",
    "                    for c in string.lowercase:\n",
    "                        newWord = word[:i] + c + word[i+1:]\n",
    "                        # 3. Check \n",
    "                        if newWord in back:\n",
    "                            return length\n",
    "                        if newWord in wordSet:\n",
    "                            nxt.add(newWord)\n",
    "                            wordSet.remove(newWord)\n",
    "            length += 1\n",
    "            front = nxt \n",
    "            \n",
    "            if len(front) > len(back):\n",
    "                front, back = back, front \n",
    "        return 0\n",
    "    "
   ]
  },
  {
   "cell_type": "code",
   "execution_count": 16,
   "metadata": {
    "collapsed": false
   },
   "outputs": [
    {
     "name": "stdout",
     "output_type": "stream",
     "text": [
      "5\n"
     ]
    }
   ],
   "source": [
    "beginWord = \"hit\"\n",
    "endWord = \"cog\"\n",
    "wordList = [\"hot\",\"dot\",\"dog\",\"lot\",\"log\",\"cog\"]\n",
    "print Solution().ladderLength(beginWord, endWord, wordList)"
   ]
  },
  {
   "cell_type": "code",
   "execution_count": null,
   "metadata": {
    "collapsed": true
   },
   "outputs": [],
   "source": []
  }
 ],
 "metadata": {
  "kernelspec": {
   "display_name": "Python 2",
   "language": "python",
   "name": "python2"
  },
  "language_info": {
   "codemirror_mode": {
    "name": "ipython",
    "version": 2
   },
   "file_extension": ".py",
   "mimetype": "text/x-python",
   "name": "python",
   "nbconvert_exporter": "python",
   "pygments_lexer": "ipython2",
   "version": "2.7.13"
  }
 },
 "nbformat": 4,
 "nbformat_minor": 0
}
