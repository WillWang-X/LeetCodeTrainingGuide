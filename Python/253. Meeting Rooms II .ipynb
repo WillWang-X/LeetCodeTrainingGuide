{
 "cells": [
  {
   "cell_type": "markdown",
   "metadata": {},
   "source": [
    "# 253. Meeting Rooms II "
   ]
  },
  {
   "cell_type": "markdown",
   "metadata": {},
   "source": [
    "Given an array of meeting time intervals consisting of start and end times [[s1,e1],[s2,e2],...] (si < ei), find the minimum number of conference rooms required.\n",
    "For example,\n",
    "Given [[0, 30],[5, 10],[15, 20]],\n",
    "return 2."
   ]
  },
  {
   "cell_type": "code",
   "execution_count": null,
   "metadata": {
    "collapsed": true
   },
   "outputs": [],
   "source": [
    "# Time:  O(nlogn)\n",
    "# Space: O(n)\n",
    "# 253. Meeting Rooms II\n",
    "\n",
    "# Definition for an interval.\n",
    "# class Interval:\n",
    "#     def __init__(self, s=0, e=0):\n",
    "#         self.start = s\n",
    "#         self.end = e\n",
    "\n",
    "class Solution:\n",
    "    # @param {Interval[]} intervals\n",
    "    # @return {integer}\n",
    "    def minMeetingRooms(self, intervals):\n",
    "        starts, ends = [], []\n",
    "        for i in intervals:\n",
    "            starts.append(i.start)\n",
    "            ends.append(i.end)\n",
    "\n",
    "        starts.sort()\n",
    "        ends.sort()\n",
    "\n",
    "        s, e = 0, 0\n",
    "        min_rooms, cnt_rooms = 0, 0\n",
    "        while s < len(starts):\n",
    "            if starts[s] < ends[e]:\n",
    "                cnt_rooms += 1  # Acquire a room.\n",
    "                # Update the min number of rooms.\n",
    "                min_rooms = max(min_rooms, cnt_rooms)\n",
    "                s += 1\n",
    "            else:\n",
    "                cnt_rooms -= 1  # Release a room.\n",
    "                e += 1\n",
    "\n",
    "        return min_rooms"
   ]
  },
  {
   "cell_type": "code",
   "execution_count": null,
   "metadata": {
    "collapsed": true
   },
   "outputs": [],
   "source": []
  },
  {
   "cell_type": "code",
   "execution_count": null,
   "metadata": {
    "collapsed": true
   },
   "outputs": [],
   "source": [
    "# Time:  O(nlogn)\n",
    "# Space: O(n)\n",
    "# 253. Meeting Rooms II\n",
    "class Solution:\n",
    "    # @param {Interval[]} intervals\n",
    "    # @return {integer}\n",
    "    def minMeetingRooms(self, intervals):\n",
    "        starts = sorted(i.start for i in intervals)\n",
    "        ends = sorted(i.end for i in intervals)\n",
    "        \n",
    "        e = 0 \n",
    "        numRooms = available = 0\n",
    "        for start in starts:\n",
    "            if end[e] <= start:\n",
    "                available += 1\n",
    "                e += 1\n",
    "            if availble > 0:\n",
    "                available -= 1\n",
    "            else: \n",
    "                numRooms += 1\n",
    "        \n",
    "        return numRooms \n",
    "    \n",
    "    \n",
    "# https://discuss.leetcode.com/topic/20912/my-python-solution-with-explanation/3"
   ]
  },
  {
   "cell_type": "code",
   "execution_count": null,
   "metadata": {
    "collapsed": true
   },
   "outputs": [],
   "source": [
    "# Time:  O(nlogn)\n",
    "# Space: O(n)\n",
    "# 253. Meeting Rooms II\n",
    "class Solution:\n",
    "    # @param {Interval[]} intervals\n",
    "    # @return {integer}\n",
    "    def minMeetingRooms(self, intervals):\n",
    "        intervals.sort(key = lambda x:x.start)\n",
    "        heap = []  # When do does the meeting end?\n",
    "        for i in intervals:\n",
    "            # check if there is a ended meeting when I start a new meeting.\n",
    "            if heap and i.start >= heap[0]:\n",
    "                heapq.heapreplace(heap, i.end)\n",
    "            else:\n",
    "                heapq.heappush(heap, i.end)\n",
    "        \n",
    "        return len(heap)"
   ]
  }
 ],
 "metadata": {
  "kernelspec": {
   "display_name": "Python 2",
   "language": "python",
   "name": "python2"
  },
  "language_info": {
   "codemirror_mode": {
    "name": "ipython",
    "version": 2
   },
   "file_extension": ".py",
   "mimetype": "text/x-python",
   "name": "python",
   "nbconvert_exporter": "python",
   "pygments_lexer": "ipython2",
   "version": "2.7.13"
  }
 },
 "nbformat": 4,
 "nbformat_minor": 0
}
