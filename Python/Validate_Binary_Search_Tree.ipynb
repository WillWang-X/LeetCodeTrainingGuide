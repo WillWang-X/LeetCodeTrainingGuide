{
 "cells": [
  {
   "cell_type": "markdown",
   "metadata": {},
   "source": [
    "# 98. Validate Binary Search Tree"
   ]
  },
  {
   "cell_type": "code",
   "execution_count": null,
   "metadata": {
    "collapsed": true
   },
   "outputs": [],
   "source": [
    "# Given a binary tree, determine if it is a valid binary search tree (BST).\n",
    "\n",
    "# Assume a BST is defined as follows:\n",
    "\n",
    "# The left subtree of a node contains only nodes with keys less than the node's key.\n",
    "# The right subtree of a node contains only nodes with keys greater than the node's key.\n",
    "# Both the left and right subtrees must also be binary search trees.\n",
    "# Example 1:\n",
    "#     2\n",
    "#    / \\\n",
    "#   1   3\n",
    "# Binary tree [2,1,3], return true.\n",
    "# Example 2:\n",
    "#     1\n",
    "#    / \\\n",
    "#   2   3\n",
    "# Binary tree [1,2,3], return false."
   ]
  },
  {
   "cell_type": "markdown",
   "metadata": {},
   "source": [
    "## Solution"
   ]
  },
  {
   "cell_type": "code",
   "execution_count": null,
   "metadata": {
    "collapsed": true
   },
   "outputs": [],
   "source": [
    "# Definition for a binary tree node.\n",
    "# class TreeNode(object):\n",
    "#     def __init__(self, x):\n",
    "#         self.val = x\n",
    "#         self.left = None\n",
    "#         self.right = None\n",
    "\n",
    "class Solution(object):\n",
    "    def isValidBST(self, root):\n",
    "        \"\"\"\n",
    "        :type root: TreeNode\n",
    "        :rtype: bool\n",
    "        \"\"\"\n",
    "        return self.isValidBSTRecu(root, float(\"-inf\"), float(\"inf\"))\n",
    "    \n",
    "    def isValidBSTRecu(self, root, low, high):\n",
    "        if root is None:\n",
    "            return True \n",
    "    \n",
    "        return low < root.val and root.val < high \\\n",
    "                and self.isValidBSTRecu(root.left, low ,root.val) \\ \n",
    "                and self.isValidBSTRecu(root.right, root.val, high)"
   ]
  }
 ],
 "metadata": {
  "kernelspec": {
   "display_name": "Python 2",
   "language": "python",
   "name": "python2"
  },
  "language_info": {
   "codemirror_mode": {
    "name": "ipython",
    "version": 2
   },
   "file_extension": ".py",
   "mimetype": "text/x-python",
   "name": "python",
   "nbconvert_exporter": "python",
   "pygments_lexer": "ipython2",
   "version": "2.7.13"
  }
 },
 "nbformat": 4,
 "nbformat_minor": 0
}
