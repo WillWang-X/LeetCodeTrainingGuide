{
 "cells": [
  {
   "cell_type": "markdown",
   "metadata": {},
   "source": [
    "# 316. Remove Duplicate Letters"
   ]
  },
  {
   "cell_type": "markdown",
   "metadata": {},
   "source": [
    "Given a string which contains only lowercase letters, remove duplicate letters so that every letter appear once and only once. You must make sure your result is the smallest in lexicographical order among all possible results.\n",
    "\n",
    "Example:\n",
    "Given \"bcabc\"\n",
    "Return \"abc\"\n",
    "\n",
    "Given \"cbacdcbc\"\n",
    "Return \"acdb\""
   ]
  },
  {
   "cell_type": "code",
   "execution_count": 2,
   "metadata": {
    "collapsed": false
   },
   "outputs": [
    {
     "name": "stdout",
     "output_type": "stream",
     "text": [
      "<built-in method rindex of str object at 0x1040f7870>\n"
     ]
    }
   ],
   "source": [
    "s = \"cbacdcbc\"\n",
    "print s.rindex"
   ]
  },
  {
   "cell_type": "code",
   "execution_count": 1,
   "metadata": {
    "collapsed": false
   },
   "outputs": [
    {
     "name": "stdout",
     "output_type": "stream",
     "text": [
      "{'a': 2, 'c': 7, 'b': 6, 'd': 4}\n"
     ]
    }
   ],
   "source": [
    "s = \"cbacdcbc\"\n",
    "rindex = {c: i for i, c in enumerate(s)}\n",
    "print rindex"
   ]
  },
  {
   "cell_type": "code",
   "execution_count": 4,
   "metadata": {
    "collapsed": true
   },
   "outputs": [],
   "source": [
    "# Time: O(n) (Worst case: O(26n))\n",
    "# Space: O(n)\n",
    "# Remove Duplicate Letters\n",
    "'''\n",
    "Solution1: Top-down \n",
    "'''\n",
    "class Solution1(object):\n",
    "    def removeDuplicateLetters(self, s):\n",
    "        result = ''\n",
    "        while s:\n",
    "            i = min(map(s.rindex, set(s)))\n",
    "            c = min(s[:i+1])\n",
    "            result += c\n",
    "            s = s[s.index(c):].replace(c, '')\n",
    "        return result "
   ]
  },
  {
   "cell_type": "code",
   "execution_count": 5,
   "metadata": {
    "collapsed": false,
    "scrolled": true
   },
   "outputs": [
    {
     "name": "stdout",
     "output_type": "stream",
     "text": [
      "acdb\n"
     ]
    }
   ],
   "source": [
    "s = 'cbacdcbc'\n",
    "print Solution1().removeDuplicateLetters(s)"
   ]
  },
  {
   "cell_type": "code",
   "execution_count": 3,
   "metadata": {
    "collapsed": false,
    "scrolled": true
   },
   "outputs": [
    {
     "name": "stdout",
     "output_type": "stream",
     "text": [
      "cba\n",
      "2 a\n"
     ]
    }
   ],
   "source": [
    "s = 'cbacdcbc'\n",
    "i = min(map(s.rindex, set(s)))\n",
    "c = min(s[:i+1])\n",
    "print s[:i+1]\n",
    "print i, c"
   ]
  },
  {
   "cell_type": "code",
   "execution_count": 8,
   "metadata": {
    "collapsed": true
   },
   "outputs": [],
   "source": [
    "# Time: O(n)\n",
    "# Space: O(n)\n",
    "# Remove Duplicate Letters\n",
    "'''\n",
    "Solution2: Bottom-up  \n",
    "'''\n",
    "\n",
    "import collections\n",
    "\n",
    "class Solution2(object):\n",
    "    def removeDuplicateLetters(self, s):\n",
    "        #1. Hashmap\n",
    "        remaining = collections.defaultdict(int)\n",
    "        for c in s:\n",
    "            remaining[c] += 1\n",
    "        \n",
    "        #2. build containers\n",
    "        in_stack = set()\n",
    "        stack = []\n",
    "        \n",
    "        #3. greedy\n",
    "        for c in s:\n",
    "            if c not in in_stack:\n",
    "                while stack and stack[-1] > c and remaining[stack[-1]]:\n",
    "                    in_stack.remove(stack.pop())\n",
    "                stack += c\n",
    "                in_stack.add(c)\n",
    "            remaining[c] -= 1 \n",
    "        \n",
    "        return \"\".join(stack)"
   ]
  },
  {
   "cell_type": "code",
   "execution_count": 9,
   "metadata": {
    "collapsed": false
   },
   "outputs": [
    {
     "name": "stdout",
     "output_type": "stream",
     "text": [
      "acdb\n"
     ]
    }
   ],
   "source": [
    "s = 'cbacdcbc'\n",
    "print Solution2().removeDuplicateLetters(s)"
   ]
  },
  {
   "cell_type": "code",
   "execution_count": null,
   "metadata": {
    "collapsed": true
   },
   "outputs": [],
   "source": []
  }
 ],
 "metadata": {
  "kernelspec": {
   "display_name": "Python 2",
   "language": "python",
   "name": "python2"
  },
  "language_info": {
   "codemirror_mode": {
    "name": "ipython",
    "version": 2
   },
   "file_extension": ".py",
   "mimetype": "text/x-python",
   "name": "python",
   "nbconvert_exporter": "python",
   "pygments_lexer": "ipython2",
   "version": "2.7.13"
  }
 },
 "nbformat": 4,
 "nbformat_minor": 0
}
