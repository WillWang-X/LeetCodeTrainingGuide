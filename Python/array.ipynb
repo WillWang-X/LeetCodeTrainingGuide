{
 "cells": [
  {
   "cell_type": "markdown",
   "metadata": {},
   "source": [
    "# Spiral Matrix"
   ]
  },
  {
   "cell_type": "code",
   "execution_count": null,
   "metadata": {
    "collapsed": true
   },
   "outputs": [],
   "source": [
    "Given a matrix of m x n elements (m rows, n columns), return all elements of the matrix in spiral order.\n",
    "\n",
    "For example,\n",
    "Given the following matrix:\n",
    "\n",
    "[\n",
    "[ 1, 2, 3 ],\n",
    "[ 4, 5, 6 ],\n",
    "[ 7, 8, 9 ]\n",
    "]\n",
    "You should return [1,2,3,6,9,8,7,4,5]."
   ]
  },
  {
   "cell_type": "markdown",
   "metadata": {},
   "source": [
    "![spiral matrix](https://i2.wp.com/www.guideforschool.com/wp-content/uploads/2014/02/circular-spiral-matrix-2.jpg)"
   ]
  },
  {
   "cell_type": "code",
   "execution_count": 2,
   "metadata": {
    "collapsed": true
   },
   "outputs": [],
   "source": [
    "# Time:  O(m * n)\n",
    "# Space: O(1)\n",
    "#\n",
    "\n",
    "class Solution:\n",
    "    # @param matrix, a list of lists of integers\n",
    "    # @return a list of integers\n",
    "    def spiralOrder(self, matrix):\n",
    "        result = []\n",
    "        if matrix == []:\n",
    "            return result\n",
    "                \n",
    "        left = 0\n",
    "        right = len(matrix[0]) - 1\n",
    "        top = 0\n",
    "        bottom = len(matrix) - 1\n",
    "        \n",
    "        while left <= right and top <= bottom:\n",
    "            for j in xrange(left, right + 1):\n",
    "                result.append(matrix[top][j])\n",
    "            for i in xrange(top + 1, bottom):\n",
    "                result.append(matrix[i][right])\n",
    "            for j in reversed(xrange(left, right + 1)):\n",
    "                if top < bottom:\n",
    "                    result.append(matrix[bottom][j])\n",
    "            for i in reversed(xrange(top + 1, bottom)):\n",
    "                if left < right:\n",
    "                    result.append(matrix[i][left])\n",
    "            left, right, top, bottom = left + 1, right - 1, top + 1, bottom - 1\n",
    "            \n",
    "        return result\n"
   ]
  },
  {
   "cell_type": "code",
   "execution_count": 3,
   "metadata": {
    "collapsed": false
   },
   "outputs": [
    {
     "name": "stdout",
     "output_type": "stream",
     "text": [
      "[1, 2, 3, 6, 9, 8, 7, 4, 5]\n",
      "[2, 3]\n"
     ]
    }
   ],
   "source": [
    "print Solution().spiralOrder([[ 1, 2, 3 ],\n",
    "                              [ 4, 5, 6 ],\n",
    "                              [ 7, 8, 9 ]])\n",
    "print Solution().spiralOrder([[2,3]])"
   ]
  },
  {
   "cell_type": "markdown",
   "metadata": {},
   "source": [
    "# Spiral Matrix II"
   ]
  },
  {
   "cell_type": "code",
   "execution_count": null,
   "metadata": {
    "collapsed": true
   },
   "outputs": [],
   "source": [
    "\n",
    "Given an integer n, generate a square matrix filled with elements from 1 to n2 in spiral order.\n",
    "\n",
    "For example,\n",
    "Given n = 3,\n",
    "\n",
    "You should return the following matrix:\n",
    "[\n",
    " [ 1, 2, 3 ],\n",
    " [ 8, 9, 4 ],\n",
    " [ 7, 6, 5 ]\n",
    "]"
   ]
  },
  {
   "cell_type": "code",
   "execution_count": null,
   "metadata": {
    "collapsed": true
   },
   "outputs": [],
   "source": [
    "# Time:  O(n^2)\n",
    "# Space: O(1)\n",
    "\n",
    "class Solution:\n",
    "    # @return a list of lists of integer\n",
    "    def generateMatrix(self, n):\n",
    "        matrix = [[0 for _ in xrange(n)] for _ in xrange(n)]\n",
    "        \n",
    "        left, right, top, bottom, num = 0, n - 1, 0, n - 1, 1\n",
    "        \n",
    "        while left <= right and top <= bottom:\n",
    "            for j in xrange(left, right + 1):\n",
    "                matrix[top][j] = num\n",
    "                num += 1\n",
    "            for i in xrange(top + 1, bottom):\n",
    "                matrix[i][right] = num\n",
    "                num += 1\n",
    "            for j in reversed(xrange(left, right + 1)):\n",
    "                if top < bottom:\n",
    "                    matrix[bottom][j] = num\n",
    "                    num += 1\n",
    "            for i in reversed(xrange(top + 1, bottom)):\n",
    "                if left < right:\n",
    "                    matrix[i][left] = num\n",
    "                    num += 1\n",
    "            left, right, top, bottom = left + 1, right - 1, top + 1, bottom - 1\n",
    "            \n",
    "        return matrix\n"
   ]
  },
  {
   "cell_type": "code",
   "execution_count": null,
   "metadata": {
    "collapsed": true
   },
   "outputs": [],
   "source": [
    "print Solution().generateMatrix(3)\n",
    "print Solution().generateMatrix(8)"
   ]
  },
  {
   "cell_type": "code",
   "execution_count": null,
   "metadata": {
    "collapsed": true
   },
   "outputs": [],
   "source": []
  },
  {
   "cell_type": "code",
   "execution_count": null,
   "metadata": {
    "collapsed": true
   },
   "outputs": [],
   "source": []
  },
  {
   "cell_type": "code",
   "execution_count": null,
   "metadata": {
    "collapsed": true
   },
   "outputs": [],
   "source": []
  },
  {
   "cell_type": "code",
   "execution_count": null,
   "metadata": {
    "collapsed": true
   },
   "outputs": [],
   "source": []
  },
  {
   "cell_type": "code",
   "execution_count": null,
   "metadata": {
    "collapsed": true
   },
   "outputs": [],
   "source": []
  },
  {
   "cell_type": "code",
   "execution_count": null,
   "metadata": {
    "collapsed": true
   },
   "outputs": [],
   "source": []
  },
  {
   "cell_type": "code",
   "execution_count": null,
   "metadata": {
    "collapsed": true
   },
   "outputs": [],
   "source": []
  },
  {
   "cell_type": "code",
   "execution_count": null,
   "metadata": {
    "collapsed": true
   },
   "outputs": [],
   "source": []
  },
  {
   "cell_type": "code",
   "execution_count": 17,
   "metadata": {
    "collapsed": true
   },
   "outputs": [],
   "source": [
    "# Time:  O(n)\n",
    "# Space: O(1)\n",
    "#\n",
    "# Given a sorted integer array where the range of elements are [lower, upper] inclusive,\n",
    "# return its missing ranges.\n",
    "# \n",
    "# For example, given [0, 1, 3, 50, 75], lower = 0 and upper = 99, \n",
    "# return [\"2\", \"4->49\", \"51->74\", \"76->99\"].\n",
    "#\n",
    "\n",
    "class Solution(object):\n",
    "    def findMissingRanges(self, nums, lower, upper):\n",
    "        \"\"\"\n",
    "        :type nums: List[int]\n",
    "        :type lower: int\n",
    "        :type upper: int\n",
    "        :rtype: List[str]\n",
    "        \"\"\"\n",
    "        # formatting: single or range \n",
    "        def getRange(lower, upper):\n",
    "            if lower == upper:\n",
    "                return \"{}\".format(lower)\n",
    "            else:\n",
    "                return \"{}->{}\".format(lower, upper)\n",
    "        \n",
    "        ranges = []\n",
    "        pre = lower - 1\n",
    "        \n",
    "        \n",
    "        for i in xrange(len(nums) + 1):\n",
    "            if i == len(nums):\n",
    "                cur = upper + 1\n",
    "            else:\n",
    "                cur = nums[i]\n",
    "            if cur - pre >= 2:\n",
    "                ranges.append(getRange(pre + 1, cur - 1))\n",
    "                \n",
    "            pre = cur\n",
    "            \n",
    "        return ranges\n"
   ]
  },
  {
   "cell_type": "code",
   "execution_count": 18,
   "metadata": {
    "collapsed": false
   },
   "outputs": [
    {
     "name": "stdout",
     "output_type": "stream",
     "text": [
      "['2', '4->49', '51->74', '76->99']\n",
      "['2', '4->49', '51->74', '76->88']\n"
     ]
    }
   ],
   "source": [
    "print Solution().findMissingRanges([0, 1, 3, 50, 75], 0, 99)\n",
    "print Solution().findMissingRanges([0, 1, 3, 50, 75], 50, 88)"
   ]
  },
  {
   "cell_type": "code",
   "execution_count": 27,
   "metadata": {
    "collapsed": false
   },
   "outputs": [
    {
     "ename": "SyntaxError",
     "evalue": "invalid syntax (<ipython-input-27-9339c2036b7a>, line 27)",
     "output_type": "error",
     "traceback": [
      "\u001b[0;36m  File \u001b[0;32m\"<ipython-input-27-9339c2036b7a>\"\u001b[0;36m, line \u001b[0;32m27\u001b[0m\n\u001b[0;31m    print \"cur, pre \"cur, pre\u001b[0m\n\u001b[0m                       ^\u001b[0m\n\u001b[0;31mSyntaxError\u001b[0m\u001b[0;31m:\u001b[0m invalid syntax\n"
     ]
    }
   ],
   "source": [
    "class Solution(object):\n",
    "    def findMissingRanges(self, nums, lower, upper):\n",
    "        \"\"\"\n",
    "        :type nums: List[int]\n",
    "        :type lower: int\n",
    "        :type upper: int\n",
    "        :rtype: List[str]\n",
    "        \"\"\"\n",
    "        def getRange(lower, upper):\n",
    "            if lower == upper:\n",
    "                return \"{}\".format(lower)\n",
    "            else:\n",
    "                return \"{}->{}\".format(lower, upper)\n",
    "            \n",
    "        ranges = []\n",
    "        pre = lower - 1\n",
    "        print 'pre:',pre\n",
    "        \n",
    "        for i in xrange(len(nums) + 1):\n",
    "            if i == len(nums):\n",
    "                print i, len(nums)\n",
    "                cur = upper + 1\n",
    "            else:\n",
    "                cur = nums[i]\n",
    "                print cur \n",
    "            if cur - pre >= 2:\n",
    "                print \"cur, pre \"cur, pre\n",
    "                ranges.append(getRange(pre + 1, cur - 1))\n",
    "                \n",
    "                \n",
    "            pre = cur \n",
    "        \n",
    "        return ranges"
   ]
  },
  {
   "cell_type": "code",
   "execution_count": 28,
   "metadata": {
    "collapsed": false
   },
   "outputs": [
    {
     "name": "stdout",
     "output_type": "stream",
     "text": [
      "pre: -1\n",
      "0\n",
      "1\n",
      "3\n",
      "3 1\n",
      "50\n",
      "50 3\n",
      "75\n",
      "75 50\n",
      "5 5\n",
      "100 75\n",
      "['2', '4->49', '51->74', '76->99']\n"
     ]
    }
   ],
   "source": [
    "print Solution().findMissingRanges([0, 1, 3, 50, 75], 0, 99)"
   ]
  },
  {
   "cell_type": "code",
   "execution_count": null,
   "metadata": {
    "collapsed": true
   },
   "outputs": [],
   "source": []
  }
 ],
 "metadata": {
  "kernelspec": {
   "display_name": "Python 2",
   "language": "python",
   "name": "python2"
  },
  "language_info": {
   "codemirror_mode": {
    "name": "ipython",
    "version": 2
   },
   "file_extension": ".py",
   "mimetype": "text/x-python",
   "name": "python",
   "nbconvert_exporter": "python",
   "pygments_lexer": "ipython2",
   "version": "2.7.13"
  }
 },
 "nbformat": 4,
 "nbformat_minor": 0
}
