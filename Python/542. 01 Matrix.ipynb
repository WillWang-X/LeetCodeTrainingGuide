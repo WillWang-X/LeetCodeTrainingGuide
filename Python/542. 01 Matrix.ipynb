{
 "cells": [
  {
   "cell_type": "code",
   "execution_count": null,
   "metadata": {
    "collapsed": true
   },
   "outputs": [],
   "source": [
    "Given a matrix consists of 0 and 1, find the distance of the nearest 0 for each cell.\n",
    "\n",
    "The distance between two adjacent cells is 1.\n",
    "Example 1: \n",
    "Input:\n",
    "\n",
    "0 0 0\n",
    "0 1 0\n",
    "0 0 0\n",
    "Output:\n",
    "0 0 0\n",
    "0 1 0\n",
    "0 0 0\n",
    "Example 2: \n",
    "Input:\n",
    "\n",
    "0 0 0\n",
    "0 1 0\n",
    "1 1 1\n",
    "Output:\n",
    "0 0 0\n",
    "0 1 0\n",
    "1 2 1\n",
    "Note:\n",
    "The number of elements of the given matrix will not exceed 10,000.\n",
    "There are at least one 0 in the given matrix.\n",
    "The cells are adjacent in only four directions: up, down, left and right."
   ]
  },
  {
   "cell_type": "code",
   "execution_count": null,
   "metadata": {
    "collapsed": true
   },
   "outputs": [],
   "source": [
    "# Time: O(m*n) + O(4m*n)\n",
    "# Space: O(m*n)\n",
    "# 542. 01 Matrix\n",
    "\n",
    "\n",
    "class Solution(object):\n",
    "    def updateMatrix(self, matrix):\n",
    "        \"\"\"\n",
    "        :type matrix: List[List[int]]\n",
    "        :rtype: List[List[int]]\n",
    "        \"\"\"\n",
    "        # 0. Initilization\n",
    "        q, m, n = [], len(matrix), len(matrix[0])\n",
    "        \n",
    "        # 1. Find all zero positions\n",
    "        for i in range(m):\n",
    "            for j in range(n):\n",
    "                if matrix[i][j] != 0:\n",
    "                    matrix[i][j] = 0x7fffffff\n",
    "                else:\n",
    "                    q.append((i,j))\n",
    "        \n",
    "        # 2. Get 1,2,..\n",
    "        for i,j in q:\n",
    "            height = matrix[i][j] + 1\n",
    "            for r,c in ((i,j-1),(i,j+1),(i-1,j),(i+1,j)):\n",
    "                if 0 <= r < m and 0 <= c < n and matrix[r][c] > height:\n",
    "                    matrix[r][c] = height \n",
    "                    q.append((r,c))\n",
    "                    \n",
    "        return matrix\n",
    "                "
   ]
  }
 ],
 "metadata": {
  "kernelspec": {
   "display_name": "Python 2",
   "language": "python",
   "name": "python2"
  },
  "language_info": {
   "codemirror_mode": {
    "name": "ipython",
    "version": 2
   },
   "file_extension": ".py",
   "mimetype": "text/x-python",
   "name": "python",
   "nbconvert_exporter": "python",
   "pygments_lexer": "ipython2",
   "version": "2.7.13"
  }
 },
 "nbformat": 4,
 "nbformat_minor": 0
}
