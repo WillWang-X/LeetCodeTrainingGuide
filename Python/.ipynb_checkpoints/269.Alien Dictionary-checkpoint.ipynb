{
 "cells": [
  {
   "cell_type": "markdown",
   "metadata": {},
   "source": [
    "# 269.Alien Dictionary"
   ]
  },
  {
   "cell_type": "code",
   "execution_count": null,
   "metadata": {
    "collapsed": true
   },
   "outputs": [],
   "source": [
    "There is a new alien language which uses the latin alphabet. However, the order among letters are unknown to you. \n",
    "You receive a list of non-empty words from the dictionary, \n",
    "where words are sorted lexicographically by the rules of this new language. \n",
    "Derive the order of letters in this language.\n",
    "\n",
    "Example 1:\n",
    "Given the following words in dictionary,\n",
    "\n",
    "[\n",
    "  \"wrt\",\n",
    "  \"wrf\",\n",
    "  \"er\",\n",
    "  \"ett\",\n",
    "  \"rftt\"\n",
    "]\n",
    "The correct order is: \"wertf\".\n",
    "\n",
    "Example 2:\n",
    "Given the following words in dictionary,\n",
    "\n",
    "[\n",
    "  \"z\",\n",
    "  \"x\"\n",
    "]\n",
    "The correct order is: \"zx\".\n",
    "\n",
    "Example 3:\n",
    "Given the following words in dictionary,\n",
    "\n",
    "[\n",
    "  \"z\",\n",
    "  \"x\",\n",
    "  \"z\"\n",
    "]\n",
    "The order is invalid, so return \"\".\n",
    "\n",
    "Note:\n",
    "You may assume all letters are in lowercase.\n",
    "You may assume that if a is a prefix of b, then a must appear before b in the given dictionary.\n",
    "If the order is invalid, return an empty string.\n",
    "There may be multiple valid order of letters, return any one of them is fine.\n"
   ]
  },
  {
   "cell_type": "code",
   "execution_count": 5,
   "metadata": {
    "collapsed": true
   },
   "outputs": [],
   "source": [
    "# Time: O(30n) + O(26)\n",
    "# Space: less: O(n) + chars: O(26) + order: O(26)\n",
    "# 269. Alien Dictionary\n",
    "\n",
    "class Solution(object):\n",
    "    def alienOrder(self, words):\n",
    "        \"\"\"\n",
    "        :type words: List[str]\n",
    "        :rtype: str\n",
    "        \"\"\"\n",
    "        # 1. build tree-like pair: parent+child\n",
    "        c_pairs = []\n",
    "        for w_pair in zip(words,words[1:]):\n",
    "            for a, b in zip(*w_pair):\n",
    "                if a != b:\n",
    "                    c_pairs.append(a+b)\n",
    "                    break\n",
    "                    \n",
    "        # 2. get all characters and create the order thats holds the result\n",
    "        chars = set(''.join(words))\n",
    "        order = []\n",
    "        \n",
    "        # 3. BFS + topological: 1) get zero in-degree char 2) add it into order 3) delete char and get new c_pairs\n",
    "        while c_pairs:\n",
    "            id_zero = chars - set(zip(*c_pairs)[1])\n",
    "            if not id_zero:\n",
    "                return ''\n",
    "            print order, id_zero\n",
    "            order += id_zero \n",
    "            c_pairs = filter(id_zero.isdisjoint, c_pairs)\n",
    "            chars -= id_zero\n",
    "        \n",
    "        return ''.join(order + list(chars))"
   ]
  },
  {
   "cell_type": "code",
   "execution_count": 6,
   "metadata": {
    "collapsed": false
   },
   "outputs": [
    {
     "name": "stdout",
     "output_type": "stream",
     "text": [
      "[] set(['w'])\n",
      "['w'] set(['e'])\n",
      "['w', 'e'] set(['r'])\n",
      "['w', 'e', 'r'] set(['t'])\n",
      "wertf\n"
     ]
    }
   ],
   "source": [
    "words = [\"wrt\",\"wrf\",\"er\",\"ett\",\"rftt\"]\n",
    "print Solution().alienOrder(words)"
   ]
  },
  {
   "cell_type": "code",
   "execution_count": null,
   "metadata": {
    "collapsed": true
   },
   "outputs": [],
   "source": []
  }
 ],
 "metadata": {
  "kernelspec": {
   "display_name": "Python 2",
   "language": "python",
   "name": "python2"
  },
  "language_info": {
   "codemirror_mode": {
    "name": "ipython",
    "version": 2
   },
   "file_extension": ".py",
   "mimetype": "text/x-python",
   "name": "python",
   "nbconvert_exporter": "python",
   "pygments_lexer": "ipython2",
   "version": "2.7.13"
  }
 },
 "nbformat": 4,
 "nbformat_minor": 0
}
