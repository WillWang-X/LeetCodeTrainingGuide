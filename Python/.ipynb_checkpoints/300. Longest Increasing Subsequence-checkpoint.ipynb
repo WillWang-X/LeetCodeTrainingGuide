{
 "cells": [
  {
   "cell_type": "markdown",
   "metadata": {},
   "source": [
    "# 300. Longest Increasing Subsequence"
   ]
  },
  {
   "cell_type": "markdown",
   "metadata": {},
   "source": [
    "Given an unsorted array of integers, find the length of longest increasing subsequence.\n",
    "\n",
    "For example,\n",
    "Given [10, 9, 2, 5, 3, 7, 101, 18],\n",
    "The longest increasing subsequence is [2, 3, 7, 101], therefore the length is 4. Note that there may be more than one LIS combination, it is only necessary for you to return the length.\n",
    "\n",
    "Your algorithm should run in O(n2) complexity.\n",
    "\n",
    "Follow up: Could you improve it to O(n log n) time complexity?\n",
    "\n"
   ]
  },
  {
   "cell_type": "markdown",
   "metadata": {},
   "source": [
    "## 1. Dynamic Programming"
   ]
  },
  {
   "cell_type": "code",
   "execution_count": null,
   "metadata": {
    "collapsed": true
   },
   "outputs": [],
   "source": [
    "# Time: O(n^2)   :DP Solution\n",
    "# Space: O(n)\n",
    "# 300. Longest Increasing Subsequence\n",
    "\n",
    "\n",
    "class Solution(object):\n",
    "    def lengthOfLIS(self, nums):\n",
    "        \"\"\"\n",
    "        :type nums: List[int]\n",
    "        :rtype: int\n",
    "        \"\"\"\n",
    "        if not nums:\n",
    "            return 0\n",
    "        \n",
    "        dp = [1] * len(nums)\n",
    "        # longest = 1\n",
    "        \n",
    "        for i in range(1, len(nums)):\n",
    "            for j in range(i):\n",
    "                if nums[j] < nums[i]:\n",
    "                    dp[i] = max(dp[i], dp[j]+1)\n",
    "            # if dp[i] > longest:\n",
    "            #     longest = dp[i] \n",
    "        return max(dp)"
   ]
  },
  {
   "cell_type": "markdown",
   "metadata": {},
   "source": [
    "## 2.1 Binary Search: Iteration"
   ]
  },
  {
   "cell_type": "code",
   "execution_count": 19,
   "metadata": {
    "collapsed": false
   },
   "outputs": [
    {
     "name": "stdout",
     "output_type": "stream",
     "text": [
      "\n"
     ]
    }
   ],
   "source": [
    "# Time: O(nlogn)   : Binary Search \n",
    "# Space: O(n)\n",
    "# 300. Longest Increasing Subsequence\n",
    "\n",
    "class Solution(object):\n",
    "    def lengthOfLIS(self, nums):\n",
    "        tails = [0] * len(nums)\n",
    "        size = 0\n",
    "        for x in nums:\n",
    "            i, j = 0, size\n",
    "            while i != j:\n",
    "                m = (i + j) / 2\n",
    "                if tails[m] < x:\n",
    "                    i = m + 1\n",
    "                else:\n",
    "                    j = m\n",
    "            tails[i] = x\n",
    "            size = max(i + 1, size)\n",
    "\n",
    "            print x\n",
    "            print 'size:', size \n",
    "            print 'tails:', tails\n",
    "\n",
    "        return size"
   ]
  },
  {
   "cell_type": "code",
   "execution_count": 20,
   "metadata": {
    "collapsed": false
   },
   "outputs": [
    {
     "name": "stdout",
     "output_type": "stream",
     "text": [
      "10\n",
      "size: 1\n",
      "tails: [10, 0, 0, 0, 0, 0, 0, 0]\n",
      "9\n",
      "size: 1\n",
      "tails: [9, 0, 0, 0, 0, 0, 0, 0]\n",
      "2\n",
      "size: 1\n",
      "tails: [2, 0, 0, 0, 0, 0, 0, 0]\n",
      "5\n",
      "size: 2\n",
      "tails: [2, 5, 0, 0, 0, 0, 0, 0]\n",
      "3\n",
      "size: 2\n",
      "tails: [2, 3, 0, 0, 0, 0, 0, 0]\n",
      "7\n",
      "size: 3\n",
      "tails: [2, 3, 7, 0, 0, 0, 0, 0]\n",
      "101\n",
      "size: 4\n",
      "tails: [2, 3, 7, 101, 0, 0, 0, 0]\n",
      "18\n",
      "size: 4\n",
      "tails: [2, 3, 7, 18, 0, 0, 0, 0]\n"
     ]
    },
    {
     "data": {
      "text/plain": [
       "4"
      ]
     },
     "execution_count": 20,
     "metadata": {},
     "output_type": "execute_result"
    }
   ],
   "source": [
    "nums = [10,9,2,5,3,7,101,18]\n",
    "Solution().lengthOfLIS(nums)"
   ]
  },
  {
   "cell_type": "code",
   "execution_count": 23,
   "metadata": {
    "collapsed": false,
    "scrolled": false
   },
   "outputs": [
    {
     "name": "stdout",
     "output_type": "stream",
     "text": [
      "70\n",
      "size: 1\n",
      "tails: [70, 0, 0, 0, 0, 0, 0, 0, 0, 0]\n",
      "40\n",
      "size: 1\n",
      "tails: [40, 0, 0, 0, 0, 0, 0, 0, 0, 0]\n",
      "60\n",
      "size: 2\n",
      "tails: [40, 60, 0, 0, 0, 0, 0, 0, 0, 0]\n",
      "10\n",
      "size: 2\n",
      "tails: [10, 60, 0, 0, 0, 0, 0, 0, 0, 0]\n",
      "20\n",
      "size: 2\n",
      "tails: [10, 20, 0, 0, 0, 0, 0, 0, 0, 0]\n",
      "30\n",
      "size: 3\n",
      "tails: [10, 20, 30, 0, 0, 0, 0, 0, 0, 0]\n",
      "4\n",
      "size: 3\n",
      "tails: [4, 20, 30, 0, 0, 0, 0, 0, 0, 0]\n",
      "5\n",
      "size: 3\n",
      "tails: [4, 5, 30, 0, 0, 0, 0, 0, 0, 0]\n",
      "6\n",
      "size: 3\n",
      "tails: [4, 5, 6, 0, 0, 0, 0, 0, 0, 0]\n",
      "7\n",
      "size: 4\n",
      "tails: [4, 5, 6, 7, 0, 0, 0, 0, 0, 0]\n"
     ]
    },
    {
     "data": {
      "text/plain": [
       "4"
      ]
     },
     "execution_count": 23,
     "metadata": {},
     "output_type": "execute_result"
    }
   ],
   "source": [
    "nums = [70,40,60,10,20,30,4,5,6,7]\n",
    "Solution().lengthOfLIS(nums)"
   ]
  },
  {
   "cell_type": "markdown",
   "metadata": {},
   "source": [
    "## 2.2 Binary Search (Recursion)"
   ]
  },
  {
   "cell_type": "code",
   "execution_count": 24,
   "metadata": {
    "collapsed": true
   },
   "outputs": [],
   "source": [
    "# Time: O(nlogn)   : Binary Search \n",
    "# Space: O(n)\n",
    "# 300. Longest Increasing Subsequence\n",
    "\n",
    "class Solution(object):\n",
    "    def lengthOfLIS(self, nums):\n",
    "        if len(nums) == 0: return 0\n",
    "        \n",
    "        def search(nums, left, right, target):\n",
    "            if left == right:\n",
    "                return left \n",
    "            mid = left + (right-left)/2 \n",
    "            if nums[mid] >= target and nums[mid-1] < target:\n",
    "                return mid\n",
    "            elif nums[mid] < target:\n",
    "                return search(nums, mid+1, right, target)\n",
    "            else:\n",
    "                return search(nums, left, mid-1, target)\n",
    "            \n",
    "        dp = [None] * len(nums)\n",
    "        dp[0] = nums[0]\n",
    "        \n",
    "        counter = 0\n",
    "        for x in range(1, len(nums)):\n",
    "            nextnum = nums[x]\n",
    "            if nextnum < dp[0]:\n",
    "                dp[0] = nextnum\n",
    "            elif nextnum > dp[counter]:\n",
    "                counter += 1 \n",
    "                dp[counter] = nextnum\n",
    "            else:\n",
    "                dp[search(dp, 0, counter, nextnum)] = nextnum\n",
    "        return counter + 1 "
   ]
  },
  {
   "cell_type": "code",
   "execution_count": 25,
   "metadata": {
    "collapsed": false
   },
   "outputs": [
    {
     "data": {
      "text/plain": [
       "4"
      ]
     },
     "execution_count": 25,
     "metadata": {},
     "output_type": "execute_result"
    }
   ],
   "source": [
    "nums = [70,40,60,10,20,30,4,5,6,7]\n",
    "Solution().lengthOfLIS(nums)"
   ]
  }
 ],
 "metadata": {
  "kernelspec": {
   "display_name": "Python 2",
   "language": "python",
   "name": "python2"
  },
  "language_info": {
   "codemirror_mode": {
    "name": "ipython",
    "version": 2
   },
   "file_extension": ".py",
   "mimetype": "text/x-python",
   "name": "python",
   "nbconvert_exporter": "python",
   "pygments_lexer": "ipython2",
   "version": "2.7.13"
  }
 },
 "nbformat": 4,
 "nbformat_minor": 0
}
