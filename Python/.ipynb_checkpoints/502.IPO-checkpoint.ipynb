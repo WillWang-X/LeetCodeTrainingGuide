{
 "cells": [
  {
   "cell_type": "code",
   "execution_count": 23,
   "metadata": {
    "collapsed": false
   },
   "outputs": [],
   "source": [
    "# Time: O(n)\n",
    "# Space: O(n)\n",
    "# 502. IPO\n",
    "\n",
    "import heapq\n",
    "class Solution(object):\n",
    "    def findMaximizedCapital(self, k, W, Profits, Capital):\n",
    "        \"\"\"\n",
    "        :type k: int\n",
    "        :type W: int\n",
    "        :type Profits: List[int]\n",
    "        :type Capital: List[int]\n",
    "        :rtype: int\n",
    "        \"\"\"\n",
    "        current = []\n",
    "        future = sorted(zip(Capital, Profits))[::-1]\n",
    "        print \"future:\",future \n",
    "        for _ in range(k):\n",
    "            while future and future[-1][0] <= W:\n",
    "                heapq.heappush(current, -future.pop()[1])\n",
    "                print \"current:\", current\n",
    "                print \n",
    "            if current:\n",
    "                W -= heapq.heappop(current)\n",
    "            print \"*\"*10,_,\"*\"*10, \"W:\",W \n",
    "        return W  "
   ]
  },
  {
   "cell_type": "code",
   "execution_count": 24,
   "metadata": {
    "collapsed": false
   },
   "outputs": [
    {
     "name": "stdout",
     "output_type": "stream",
     "text": [
      "future: [(3, 1), (1, 3), (1, 2), (0, 1)]\n",
      "current: [-1]\n",
      "\n",
      "********** 0 ********** W: 1\n",
      "current: [-2]\n",
      "\n",
      "current: [-3, -2]\n",
      "\n",
      "********** 1 ********** W: 4\n",
      "4\n"
     ]
    }
   ],
   "source": [
    "k = 2; W = 0; Profits = [1,2,3,1]; Capital = [0,1,1,3]\n",
    "print Solution().findMaximizedCapital(k, W, Profits, Capital)"
   ]
  }
 ],
 "metadata": {
  "kernelspec": {
   "display_name": "Python 2",
   "language": "python",
   "name": "python2"
  },
  "language_info": {
   "codemirror_mode": {
    "name": "ipython",
    "version": 2
   },
   "file_extension": ".py",
   "mimetype": "text/x-python",
   "name": "python",
   "nbconvert_exporter": "python",
   "pygments_lexer": "ipython2",
   "version": "2.7.13"
  }
 },
 "nbformat": 4,
 "nbformat_minor": 0
}
