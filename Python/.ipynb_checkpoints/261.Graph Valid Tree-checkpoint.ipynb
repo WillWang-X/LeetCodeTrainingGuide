{
 "cells": [
  {
   "cell_type": "markdown",
   "metadata": {},
   "source": [
    "# 261 Graph Valid Tree "
   ]
  },
  {
   "cell_type": "code",
   "execution_count": 23,
   "metadata": {
    "collapsed": false
   },
   "outputs": [],
   "source": [
    "# Time: O(n)\n",
    "# Space: O(n)\n",
    "# 261. Graph Valid Tree\n",
    "\n",
    "\n",
    "class Solution(object):\n",
    "    def validTree(self, n, edges):\n",
    "        \"\"\"\n",
    "        :type n: int\n",
    "        :type edges: List[List[int]]\n",
    "        :rtype: bool\n",
    "        \"\"\"\n",
    "        parent = range(n)\n",
    "        \n",
    "        def find(point):\n",
    "            return point if parent[point] == point else find(parent[point])\n",
    "            \n",
    "        def union(edge):\n",
    "            x, y = map(find, edge)    \n",
    "            parent[x] = y\n",
    "            return x != y\n",
    "            \n",
    "                    \n",
    "        return len(edges) == n - 1 and all(map(union, edges))"
   ]
  },
  {
   "cell_type": "code",
   "execution_count": 24,
   "metadata": {
    "collapsed": false
   },
   "outputs": [
    {
     "name": "stdout",
     "output_type": "stream",
     "text": [
      "False\n"
     ]
    }
   ],
   "source": [
    "n = 5 \n",
    "edges = [[0, 1], [1, 2], [2, 3], [1, 3], [1, 4]]\n",
    "print Solution().validTree(n, edges)"
   ]
  },
  {
   "cell_type": "code",
   "execution_count": 25,
   "metadata": {
    "collapsed": false
   },
   "outputs": [
    {
     "data": {
      "text/plain": [
       "[1, 2]"
      ]
     },
     "execution_count": 25,
     "metadata": {},
     "output_type": "execute_result"
    }
   ],
   "source": [
    "neighbors = {0:[1,2], 1:[2],2:[0]}\n",
    "neighbors.pop(0)"
   ]
  },
  {
   "cell_type": "code",
   "execution_count": 26,
   "metadata": {
    "collapsed": false
   },
   "outputs": [
    {
     "name": "stdout",
     "output_type": "stream",
     "text": [
      "{1: [2], 2: [0]}\n"
     ]
    }
   ],
   "source": [
    "print neighbors"
   ]
  },
  {
   "cell_type": "code",
   "execution_count": 28,
   "metadata": {
    "collapsed": false
   },
   "outputs": [
    {
     "data": {
      "text/plain": [
       "[]"
      ]
     },
     "execution_count": 28,
     "metadata": {},
     "output_type": "execute_result"
    }
   ],
   "source": [
    "neighbors.pop(0,[])"
   ]
  },
  {
   "cell_type": "code",
   "execution_count": 29,
   "metadata": {
    "collapsed": false
   },
   "outputs": [
    {
     "name": "stdout",
     "output_type": "stream",
     "text": [
      "{1: [2], 2: [0]}\n"
     ]
    }
   ],
   "source": [
    "print neighbors"
   ]
  },
  {
   "cell_type": "code",
   "execution_count": 32,
   "metadata": {
    "collapsed": true
   },
   "outputs": [],
   "source": [
    "# Time: O(n)\n",
    "# Space: O(n)\n",
    "# 261. Graph Valid Tree\n",
    "\n",
    "\n",
    "class Solution(object):\n",
    "    def validTree(self, n, edges):\n",
    "        \"\"\"\n",
    "        :type n: int\n",
    "        :type edges: List[List[int]]\n",
    "        :rtype: bool\n",
    "        \"\"\"\n",
    "        neighbors = {i:[] for i in range(n)}\n",
    "        \n",
    "        for v,w in edges:\n",
    "            neighbors[v].append(w)\n",
    "            neighbors[w].append(v)\n",
    "        \n",
    "        stack = [0]\n",
    "        while stack:\n",
    "            stack += neighbors.pop(stack.pop(), [])\n",
    "            print stack\n",
    "            \n",
    "        return len(edges) == n - 1 and not neighbors\n",
    "    \n",
    "        "
   ]
  },
  {
   "cell_type": "code",
   "execution_count": 33,
   "metadata": {
    "collapsed": false
   },
   "outputs": [
    {
     "name": "stdout",
     "output_type": "stream",
     "text": [
      "[1]\n",
      "[0, 2, 3, 4]\n",
      "[0, 2, 3, 1]\n",
      "[0, 2, 3]\n",
      "[0, 2, 2, 1]\n",
      "[0, 2, 2]\n",
      "[0, 2, 1, 3]\n",
      "[0, 2, 1]\n",
      "[0, 2]\n",
      "[0]\n",
      "[]\n",
      "False\n"
     ]
    }
   ],
   "source": [
    "n = 5 \n",
    "edges = [[0, 1], [1, 2], [2, 3], [1, 3], [1, 4]]\n",
    "print Solution().validTree(n, edges)"
   ]
  }
 ],
 "metadata": {
  "kernelspec": {
   "display_name": "Python 2",
   "language": "python",
   "name": "python2"
  },
  "language_info": {
   "codemirror_mode": {
    "name": "ipython",
    "version": 2
   },
   "file_extension": ".py",
   "mimetype": "text/x-python",
   "name": "python",
   "nbconvert_exporter": "python",
   "pygments_lexer": "ipython2",
   "version": "2.7.13"
  }
 },
 "nbformat": 4,
 "nbformat_minor": 0
}
