{
 "cells": [
  {
   "cell_type": "code",
   "execution_count": 10,
   "metadata": {
    "collapsed": true
   },
   "outputs": [],
   "source": [
    "# Time: O(nlogn)\n",
    "# Space:O(1)\n",
    "# 452. Minimum Number of Arrows to Burst Balloons\n",
    "'''\n",
    "[[10,16], [2,8], [1,6], [7,12]] → 2\n",
    "\n",
    "How many line do we need to connect all points at least?\n",
    "the same as \"435 Non-overlapping Intervals\"\n",
    "'''\n",
    "class Solution(object):\n",
    "    def findMinArrowShots(self, points):\n",
    "        \"\"\"\n",
    "        :type points: List[List[int]]\n",
    "        :rtype: int\n",
    "        \"\"\"\n",
    "        if not points:\n",
    "            return 0\n",
    "            \n",
    "        points.sort()\n",
    "        print points \n",
    "        \n",
    "        result = 0\n",
    "        i = 0\n",
    "        while i < len(points):\n",
    "            j = i + 1\n",
    "            right_bound = points[i][1]\n",
    "            while j < len(points) and points[j][0] <= right_bound:\n",
    "                right_bound = min(right_bound, points[j][1])\n",
    "                j += 1\n",
    "            result += 1\n",
    "            i = j\n",
    "        return result"
   ]
  },
  {
   "cell_type": "code",
   "execution_count": 8,
   "metadata": {
    "collapsed": false
   },
   "outputs": [
    {
     "name": "stdout",
     "output_type": "stream",
     "text": [
      "[[1, 6], [2, 8], [7, 12], [10, 16]]\n",
      "2\n"
     ]
    }
   ],
   "source": [
    "points = [[10,16], [2,8], [1,6], [7,12]]\n",
    "print Solution().findMinArrowShots(points)"
   ]
  },
  {
   "cell_type": "code",
   "execution_count": 11,
   "metadata": {
    "collapsed": false
   },
   "outputs": [
    {
     "name": "stdout",
     "output_type": "stream",
     "text": [
      "[[1, 2], [2, 3], [3, 4], [4, 5]]\n",
      "2\n"
     ]
    }
   ],
   "source": [
    "points = [[1,2], [2,3], [3,4], [4,5]]\n",
    "print Solution().findMinArrowShots(points)"
   ]
  },
  {
   "cell_type": "code",
   "execution_count": 12,
   "metadata": {
    "collapsed": true
   },
   "outputs": [],
   "source": [
    "# Time: O(nlogn)\n",
    "# Space: O(1)\n",
    "# 452. Minimum Number of Arrows to Burst Balloons\n",
    "\n",
    "\n",
    "class Solution(object):\n",
    "    def findMinArrowShots(self, points):\n",
    "        \"\"\"\n",
    "        :type points: List[List[int]]\n",
    "        :rtype: int\n",
    "        \"\"\"\n",
    "        points = sorted(points, key = lambda x: x[1])\n",
    "        \n",
    "        res, end = 0, -float('inf')\n",
    "        for interval in points:\n",
    "            if interval[0] > end:\n",
    "                res += 1\n",
    "                end = interval[1]\n",
    "        \n",
    "        return res"
   ]
  },
  {
   "cell_type": "code",
   "execution_count": 13,
   "metadata": {
    "collapsed": false
   },
   "outputs": [
    {
     "name": "stdout",
     "output_type": "stream",
     "text": [
      "2\n"
     ]
    }
   ],
   "source": [
    "points = [[1,2], [2,3], [3,4], [4,5]]\n",
    "print Solution().findMinArrowShots(points)"
   ]
  }
 ],
 "metadata": {
  "kernelspec": {
   "display_name": "Python 2",
   "language": "python",
   "name": "python2"
  },
  "language_info": {
   "codemirror_mode": {
    "name": "ipython",
    "version": 2
   },
   "file_extension": ".py",
   "mimetype": "text/x-python",
   "name": "python",
   "nbconvert_exporter": "python",
   "pygments_lexer": "ipython2",
   "version": "2.7.13"
  }
 },
 "nbformat": 4,
 "nbformat_minor": 0
}
