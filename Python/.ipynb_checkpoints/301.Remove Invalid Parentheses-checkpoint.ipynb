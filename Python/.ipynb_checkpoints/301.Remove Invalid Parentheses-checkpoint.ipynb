{
 "cells": [
  {
   "cell_type": "markdown",
   "metadata": {},
   "source": [
    "# 301.Remove Invalid Parentheses"
   ]
  },
  {
   "cell_type": "code",
   "execution_count": null,
   "metadata": {
    "collapsed": true
   },
   "outputs": [],
   "source": [
    "Remove the minimum number of invalid parentheses in order to make the input string valid. Return all possible results.\n",
    "\n",
    "Note: The input string may contain letters other than the parentheses ( and ).\n",
    "\n",
    "Examples:\n",
    "\"()())()\" -> [\"()()()\", \"(())()\"]\n",
    "\"(a)())()\" -> [\"(a)()()\", \"(a())()\"]\n",
    "\")(\" -> [\"\"]\n",
    "Credits:"
   ]
  },
  {
   "cell_type": "code",
   "execution_count": 1,
   "metadata": {
    "collapsed": true
   },
   "outputs": [],
   "source": [
    "# Time: \n",
    "# Space:\n",
    "# 301. Remove Invalid Parentheses\n",
    "\n",
    "class Solution(object):\n",
    "    def removeInvalidParentheses(self, s):\n",
    "        \"\"\"\n",
    "        :type s: str\n",
    "        :rtype: List[str]\n",
    "        \"\"\"\n",
    "        def isvalid(s):\n",
    "            ctr = 0\n",
    "            for c in s:\n",
    "                if c == '(':\n",
    "                    ctr += 1 \n",
    "                elif c == ')':\n",
    "                    ctr -= 1\n",
    "                    if ctr < 0:\n",
    "                        return False \n",
    "            return ctr == 0\n",
    "        \n",
    "        level = {s}\n",
    "        while True:\n",
    "            valid = filter(isvalid, level)\n",
    "            if valid:\n",
    "                return valid\n",
    "            level = {s[:i] + s[i+1:] for s in level for i in range(len(s))}"
   ]
  },
  {
   "cell_type": "code",
   "execution_count": 2,
   "metadata": {
    "collapsed": false
   },
   "outputs": [
    {
     "name": "stdout",
     "output_type": "stream",
     "text": [
      "['(())()', '()()()']\n"
     ]
    }
   ],
   "source": [
    "s = \"()())()\"\n",
    "print Solution().removeInvalidParentheses(s)"
   ]
  },
  {
   "cell_type": "code",
   "execution_count": null,
   "metadata": {
    "collapsed": true
   },
   "outputs": [],
   "source": []
  }
 ],
 "metadata": {
  "kernelspec": {
   "display_name": "Python 2",
   "language": "python",
   "name": "python2"
  },
  "language_info": {
   "codemirror_mode": {
    "name": "ipython",
    "version": 2
   },
   "file_extension": ".py",
   "mimetype": "text/x-python",
   "name": "python",
   "nbconvert_exporter": "python",
   "pygments_lexer": "ipython2",
   "version": "2.7.13"
  }
 },
 "nbformat": 4,
 "nbformat_minor": 0
}
