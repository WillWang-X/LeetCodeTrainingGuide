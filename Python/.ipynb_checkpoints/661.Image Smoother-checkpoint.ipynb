{
 "cells": [
  {
   "cell_type": "code",
   "execution_count": 63,
   "metadata": {
    "collapsed": false
   },
   "outputs": [],
   "source": [
    "# Time:\n",
    "# Space:\n",
    "# 661. Image Smoother\n",
    "\n",
    "\n",
    "class Solution(object):\n",
    "    def imageSmoother(self, M):\n",
    "        \"\"\"\n",
    "        :type M: List[List[int]]\n",
    "        :rtype: List[List[int]]\n",
    "        \"\"\"\n",
    "        \n",
    "        lines = len(M)\n",
    "        rows =  len(M[0]) if lines else rows\n",
    "        result = [[ 0 for r in range(rows) ]  for  l in range(lines) ]\n",
    "#         result = [[0]*rows]*lines\n",
    "        \n",
    "        for l in range(lines):\n",
    "            for r in range(rows):\n",
    "                print \"location:\",l,r,M[l][r]\n",
    "                total, count = 0, 0\n",
    "                for i in range(max(0,l-1),min(lines-1,l+1)+1):\n",
    "                    for j in range(max(0,r-1),min(rows-1,r+1)+1):\n",
    "                        print i,j\n",
    "                        total += M[i][j]\n",
    "                        count += 1\n",
    "                print \"result:\",total, count \n",
    "                result[l][r] = (total/count)\n",
    "        \n",
    "        return result\n",
    "                "
   ]
  },
  {
   "cell_type": "code",
   "execution_count": 3,
   "metadata": {
    "collapsed": false
   },
   "outputs": [
    {
     "name": "stdout",
     "output_type": "stream",
     "text": [
      "[[0, 0], [0, 0], [0, 0]]\n"
     ]
    }
   ],
   "source": [
    "M = [[0]*2]*3\n",
    "print M"
   ]
  },
  {
   "cell_type": "code",
   "execution_count": 6,
   "metadata": {
    "collapsed": false
   },
   "outputs": [
    {
     "data": {
      "text/plain": [
       "11.0"
      ]
     },
     "execution_count": 6,
     "metadata": {},
     "output_type": "execute_result"
    }
   ],
   "source": [
    "a = 10.9\n",
    "round(a)"
   ]
  },
  {
   "cell_type": "code",
   "execution_count": null,
   "metadata": {
    "collapsed": true
   },
   "outputs": [],
   "source": [
    "if a < "
   ]
  },
  {
   "cell_type": "code",
   "execution_count": 10,
   "metadata": {
    "collapsed": false
   },
   "outputs": [
    {
     "data": {
      "text/plain": [
       "1234"
      ]
     },
     "execution_count": 10,
     "metadata": {},
     "output_type": "execute_result"
    }
   ],
   "source": [
    "import math\n",
    "x = 1234.5678\n",
    "int(math.modf(x)[1])"
   ]
  },
  {
   "cell_type": "code",
   "execution_count": 11,
   "metadata": {
    "collapsed": false
   },
   "outputs": [
    {
     "data": {
      "text/plain": [
       "3"
      ]
     },
     "execution_count": 11,
     "metadata": {},
     "output_type": "execute_result"
    }
   ],
   "source": [
    "13/4"
   ]
  },
  {
   "cell_type": "code",
   "execution_count": 12,
   "metadata": {
    "collapsed": false
   },
   "outputs": [
    {
     "ename": "TypeError",
     "evalue": "'int' object does not support item assignment",
     "output_type": "error",
     "traceback": [
      "\u001b[0;31m---------------------------------------------------------------------------\u001b[0m",
      "\u001b[0;31mTypeError\u001b[0m                                 Traceback (most recent call last)",
      "\u001b[0;32m<ipython-input-12-5aac9b8f4c15>\u001b[0m in \u001b[0;36m<module>\u001b[0;34m()\u001b[0m\n\u001b[0;32m----> 1\u001b[0;31m \u001b[0;36m50\u001b[0m\u001b[0;34m[\u001b[0m\u001b[0;36m42\u001b[0m\u001b[0;34m]\u001b[0m \u001b[0;34m=\u001b[0m \u001b[0;36m7\u001b[0m\u001b[0;34m\u001b[0m\u001b[0m\n\u001b[0m",
      "\u001b[0;31mTypeError\u001b[0m: 'int' object does not support item assignment"
     ]
    }
   ],
   "source": [
    "50[42] = 7"
   ]
  },
  {
   "cell_type": "code",
   "execution_count": 33,
   "metadata": {
    "collapsed": false
   },
   "outputs": [
    {
     "name": "stdout",
     "output_type": "stream",
     "text": [
      "[[0, 0], [0, 0], [0, 0], [0, 0]]\n"
     ]
    }
   ],
   "source": [
    "lines = 4\n",
    "rows =  2\n",
    "result = [[0]*rows]*lines\n",
    "print result "
   ]
  },
  {
   "cell_type": "code",
   "execution_count": 60,
   "metadata": {
    "collapsed": false
   },
   "outputs": [
    {
     "name": "stdout",
     "output_type": "stream",
     "text": [
      "[[1, 0], [1, 0], [1, 0], [1, 0]]\n"
     ]
    }
   ],
   "source": [
    "result[0][0] = 1\n",
    "print result"
   ]
  },
  {
   "cell_type": "code",
   "execution_count": 35,
   "metadata": {
    "collapsed": false
   },
   "outputs": [
    {
     "name": "stdout",
     "output_type": "stream",
     "text": [
      "1\n"
     ]
    }
   ],
   "source": [
    "print result[0][0]"
   ]
  },
  {
   "cell_type": "code",
   "execution_count": 64,
   "metadata": {
    "collapsed": false,
    "scrolled": true
   },
   "outputs": [
    {
     "name": "stdout",
     "output_type": "stream",
     "text": [
      "location: 0 0 2\n",
      "0 0\n",
      "0 1\n",
      "1 0\n",
      "1 1\n",
      "result: 16 4\n",
      "location: 0 1 3\n",
      "0 0\n",
      "0 1\n",
      "0 2\n",
      "1 0\n",
      "1 1\n",
      "1 2\n",
      "result: 27 6\n",
      "location: 0 2 4\n",
      "0 1\n",
      "0 2\n",
      "1 1\n",
      "1 2\n",
      "result: 20 4\n",
      "location: 1 0 5\n",
      "0 0\n",
      "0 1\n",
      "1 0\n",
      "1 1\n",
      "2 0\n",
      "2 1\n",
      "result: 33 6\n",
      "location: 1 1 6\n",
      "0 0\n",
      "0 1\n",
      "0 2\n",
      "1 0\n",
      "1 1\n",
      "1 2\n",
      "2 0\n",
      "2 1\n",
      "2 2\n",
      "result: 54 9\n",
      "location: 1 2 7\n",
      "0 1\n",
      "0 2\n",
      "1 1\n",
      "1 2\n",
      "2 1\n",
      "2 2\n",
      "result: 39 6\n",
      "location: 2 0 8\n",
      "1 0\n",
      "1 1\n",
      "2 0\n",
      "2 1\n",
      "3 0\n",
      "3 1\n",
      "result: 51 6\n",
      "location: 2 1 9\n",
      "1 0\n",
      "1 1\n",
      "1 2\n",
      "2 0\n",
      "2 1\n",
      "2 2\n",
      "3 0\n",
      "3 1\n",
      "3 2\n",
      "result: 81 9\n",
      "location: 2 2 10\n",
      "1 1\n",
      "1 2\n",
      "2 1\n",
      "2 2\n",
      "3 1\n",
      "3 2\n",
      "result: 57 6\n",
      "location: 3 0 11\n",
      "2 0\n",
      "2 1\n",
      "3 0\n",
      "3 1\n",
      "4 0\n",
      "4 1\n",
      "result: 69 6\n",
      "location: 3 1 12\n",
      "2 0\n",
      "2 1\n",
      "2 2\n",
      "3 0\n",
      "3 1\n",
      "3 2\n",
      "4 0\n",
      "4 1\n",
      "4 2\n",
      "result: 108 9\n",
      "location: 3 2 13\n",
      "2 1\n",
      "2 2\n",
      "3 1\n",
      "3 2\n",
      "4 1\n",
      "4 2\n",
      "result: 75 6\n",
      "location: 4 0 14\n",
      "3 0\n",
      "3 1\n",
      "4 0\n",
      "4 1\n",
      "result: 52 4\n",
      "location: 4 1 15\n",
      "3 0\n",
      "3 1\n",
      "3 2\n",
      "4 0\n",
      "4 1\n",
      "4 2\n",
      "result: 81 6\n",
      "location: 4 2 16\n",
      "3 1\n",
      "3 2\n",
      "4 1\n",
      "4 2\n",
      "result: 56 4\n",
      "[[4, 4, 5], [5, 6, 6], [8, 9, 9], [11, 12, 12], [13, 13, 14]]\n"
     ]
    }
   ],
   "source": [
    "M = [[1,1,1],[1,0,1],[1,1,1]]\n",
    "M2 = [[2,3,4],[5,6,7],[8,9,10],[11,12,13],[14,15,16]]\n",
    "\n",
    "print Solution().imageSmoother(M2)"
   ]
  },
  {
   "cell_type": "code",
   "execution_count": 65,
   "metadata": {
    "collapsed": false
   },
   "outputs": [
    {
     "name": "stdout",
     "output_type": "stream",
     "text": [
      "1\n"
     ]
    }
   ],
   "source": [
    "for i in range(1,2):\n",
    "    print i"
   ]
  }
 ],
 "metadata": {
  "kernelspec": {
   "display_name": "Python 2",
   "language": "python",
   "name": "python2"
  },
  "language_info": {
   "codemirror_mode": {
    "name": "ipython",
    "version": 2
   },
   "file_extension": ".py",
   "mimetype": "text/x-python",
   "name": "python",
   "nbconvert_exporter": "python",
   "pygments_lexer": "ipython2",
   "version": "2.7.13"
  }
 },
 "nbformat": 4,
 "nbformat_minor": 0
}
