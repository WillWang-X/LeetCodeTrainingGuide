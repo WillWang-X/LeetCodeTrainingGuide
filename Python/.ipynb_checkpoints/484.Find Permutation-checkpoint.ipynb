{
 "cells": [
  {
   "cell_type": "markdown",
   "metadata": {},
   "source": [
    "# 484. Find Permutation"
   ]
  },
  {
   "cell_type": "markdown",
   "metadata": {},
   "source": [
    "By now, you are given a secret signature consisting of character 'D' and 'I'. 'D' represents a decreasing relationship between two numbers, 'I' represents an increasing relationship between two numbers. And our secret signature was constructed by a special integer array, which contains uniquely all the different number from 1 to n (n is the length of the secret signature plus 1). For example, the secret signature \"DI\" can be constructed by array [2,1,3] or [3,1,2], but won't be constructed by array [3,2,4] or [2,1,3,4], which are both illegal constructing special string that can't represent the \"DI\" secret signature.\n",
    "\n",
    "On the other hand, now your job is to find the lexicographically smallest permutation of [1, 2, ... n] could refer to the given secret signature in the input.\n",
    "\n",
    "Example 1:\n",
    "\n",
    "Input: \"I\"\n",
    "Output: [1,2]\n",
    "Explanation: [1,2] is the only legal initial spectial string can construct secret signature \"I\", where the number 1 and 2 construct an increasing relationship.\n",
    "Example 2:\n",
    "\n",
    "Input: \"DI\"\n",
    "Output: [2,1,3]\n",
    "Explanation: Both [2,1,3] and [3,1,2] can construct the secret signature \"DI\", \n",
    "but since we want to find the one with the smallest lexicographical permutation, you need to output [2,1,3]\n",
    "Note:\n",
    "\n",
    "The input string will only contain the character 'D' and 'I'.\n",
    "The length of input string is a positive integer and will not exceed 10,000"
   ]
  },
  {
   "cell_type": "code",
   "execution_count": 3,
   "metadata": {
    "collapsed": true
   },
   "outputs": [],
   "source": [
    "# Time: O(nlogn)\n",
    "# Space: O(n)\n",
    "# 484. Find Permutation\n",
    "\n",
    "class Solution(object):\n",
    "    def findPermutation(self, s):\n",
    "        \"\"\"\n",
    "        :type s: str\n",
    "        :rtype: List[int]\n",
    "        \"\"\"\n",
    "        size = len(s)\n",
    "        nums = list(range(1, size + 2))\n",
    "        ans = []\n",
    "        idx = 0\n",
    "        while idx < size:\n",
    "            if s[idx] == 'D':\n",
    "                cnt = 0\n",
    "                while idx < size and s[idx] != 'I':\n",
    "                    idx += 1\n",
    "                    cnt += 1\n",
    "                ans += nums[:cnt+1][::-1]\n",
    "                nums = nums[cnt+1:]\n",
    "                if idx < size:\n",
    "                    idx += 1\n",
    "            else:\n",
    "                ans += [nums[0]]\n",
    "                nums = nums[1:]\n",
    "                idx += 1\n",
    "                print ans\n",
    "        return ans + nums"
   ]
  },
  {
   "cell_type": "code",
   "execution_count": 4,
   "metadata": {
    "collapsed": false
   },
   "outputs": [
    {
     "name": "stdout",
     "output_type": "stream",
     "text": [
      "[1]\n",
      "[1, 2]\n",
      "[1, 2, 3]\n",
      "[1, 2, 3, 4]\n",
      "[1, 2, 3, 4, 8, 7, 6, 5]\n"
     ]
    }
   ],
   "source": [
    "print Solution().findPermutation(\"IIIIDDD\")"
   ]
  }
 ],
 "metadata": {
  "kernelspec": {
   "display_name": "Python 2",
   "language": "python",
   "name": "python2"
  },
  "language_info": {
   "codemirror_mode": {
    "name": "ipython",
    "version": 2
   },
   "file_extension": ".py",
   "mimetype": "text/x-python",
   "name": "python",
   "nbconvert_exporter": "python",
   "pygments_lexer": "ipython2",
   "version": "2.7.13"
  }
 },
 "nbformat": 4,
 "nbformat_minor": 0
}
