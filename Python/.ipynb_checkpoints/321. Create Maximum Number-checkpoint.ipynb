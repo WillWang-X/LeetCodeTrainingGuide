{
 "cells": [
  {
   "cell_type": "markdown",
   "metadata": {},
   "source": [
    "# 321 Create Maximum Number "
   ]
  },
  {
   "cell_type": "markdown",
   "metadata": {},
   "source": [
    "Given two arrays of length m and n with digits 0-9 representing two numbers. Create the maximum number of length k <= m + n from digits of the two. The relative order of the digits from the same array must be preserved. Return an array of the k digits. You should try to optimize your time and space complexity.\n",
    "\n",
    "Example 1:\n",
    "nums1 = [3, 4, 6, 5]\n",
    "nums2 = [9, 1, 2, 5, 8, 3]\n",
    "k = 5\n",
    "return [9, 8, 6, 5, 3]\n",
    "\n",
    "Example 2:\n",
    "nums1 = [6, 7]\n",
    "nums2 = [6, 0, 4]\n",
    "k = 5\n",
    "return [6, 7, 6, 0, 4]\n",
    "\n",
    "Example 3:\n",
    "nums1 = [3, 9]\n",
    "nums2 = [8, 9]\n",
    "k = 3\n",
    "return [9, 8, 9]"
   ]
  },
  {
   "cell_type": "code",
   "execution_count": 18,
   "metadata": {
    "collapsed": true
   },
   "outputs": [],
   "source": [
    "# Time: O(k^2*(m+n)) \n",
    "# Space: O(m + n + k^2)\n",
    "# Create Maximum Number\n",
    "\n",
    "class Solution(object):\n",
    "    def maxNumber(self, nums1, nums2, k):\n",
    "        \"\"\"\n",
    "        :type nums1: List[int]\n",
    "        :type nums2: List[int]\n",
    "        :type k: int\n",
    "        :rtype: List[int]\n",
    "        \"\"\"\n",
    "        #1. Prep\n",
    "        def prep(nums,k):\n",
    "            drop = len(nums) - k\n",
    "            stack = []\n",
    "            for num in nums:\n",
    "                while drop and stack and stack[-1] < num:\n",
    "                    stack.pop()\n",
    "                    drop -= 1\n",
    "                stack.append(num)\n",
    "            return stack[:k]\n",
    "        \n",
    "        #2. Merge \n",
    "        def merge(a,b):\n",
    "            return [max(a,b).pop(0) for _ in a+b]\n",
    "        \n",
    "        #3. One by one \n",
    "        return max( merge(prep(nums1, i),prep(nums2,k-i))  \n",
    "                    for i in range(k+1)\n",
    "                    if i <= len(nums1) and k-i <= len(nums2)\n",
    "                  )\n",
    "        "
   ]
  },
  {
   "cell_type": "code",
   "execution_count": 20,
   "metadata": {
    "collapsed": false
   },
   "outputs": [
    {
     "name": "stdout",
     "output_type": "stream",
     "text": [
      "[9, 8, 6, 5, 3]\n"
     ]
    }
   ],
   "source": [
    "nums1 = [3, 4, 6, 5]\n",
    "nums2 = [9, 1, 2, 5, 8, 3]\n",
    "print Solution().maxNumber(nums1, nums2, 5)"
   ]
  },
  {
   "cell_type": "markdown",
   "metadata": {},
   "source": [
    "## Notes："
   ]
  },
  {
   "cell_type": "code",
   "execution_count": 2,
   "metadata": {
    "collapsed": true
   },
   "outputs": [],
   "source": [
    "def merge(a, b):\n",
    "    return [max(a, b).pop(0) for _ in a+b]"
   ]
  },
  {
   "cell_type": "code",
   "execution_count": 9,
   "metadata": {
    "collapsed": false
   },
   "outputs": [
    {
     "data": {
      "text/plain": [
       "[9, 6, 5, 8, 5]"
      ]
     },
     "execution_count": 9,
     "metadata": {},
     "output_type": "execute_result"
    }
   ],
   "source": [
    "a = [6,5]\n",
    "b = [9,5,8]\n",
    "merge(a,b)"
   ]
  },
  {
   "cell_type": "code",
   "execution_count": 17,
   "metadata": {
    "collapsed": false
   },
   "outputs": [
    {
     "name": "stdout",
     "output_type": "stream",
     "text": [
      "[6, 5] [5, 5, 8]\n",
      "[6, 5]\n",
      "6\n",
      "[5] [5, 5, 8]\n",
      "[5, 5, 8]\n",
      "5\n",
      "[5] [5, 8]\n",
      "[5, 8]\n",
      "5\n",
      "[5] [8]\n",
      "[8]\n",
      "8\n",
      "[5] []\n",
      "[5]\n",
      "5\n"
     ]
    }
   ],
   "source": [
    "a = [6,5]\n",
    "b = [5,5,8]\n",
    "for _ in a+b: # just to indicate the length of a+b \n",
    "    print a,b\n",
    "    print max(a,b)\n",
    "    print max(a,b).pop(0)"
   ]
  },
  {
   "cell_type": "code",
   "execution_count": null,
   "metadata": {
    "collapsed": true
   },
   "outputs": [],
   "source": [
    "# %1\n",
    "\n",
    "class Solution(object):\n",
    "    def maxNumber(self, nums1, nums2, k):\n",
    "        \"\"\"\n",
    "        :type nums1: List[int]\n",
    "        :type nums2: List[int]\n",
    "        :type k: int\n",
    "        :rtype: List[int]\n",
    "        \"\"\"\n",
    "        nums1 = \"\".join(map(str,nums1))\n",
    "        nums2 = \"\".join(map(str,nums2))\n",
    "\n",
    "        def getKLengths(nums):\n",
    "            ans = [nums]\n",
    "            p = 0\n",
    "            while nums:\n",
    "                if p == len(nums)-1:\n",
    "                    nums = nums[:-1]\n",
    "                    ans.append(nums)\n",
    "                    p -=1\n",
    "                elif nums[p] < nums[p+1]:\n",
    "                    nums = nums[:p] + nums[p+1:]\n",
    "                    ans.append(nums)\n",
    "                    if p:\n",
    "                        p-=1\n",
    "                else:\n",
    "                    p += 1\n",
    "\n",
    "            return ans\n",
    "\n",
    "        lens1 = getKLengths(nums1)[-k-1:]\n",
    "        lens2 = getKLengths(nums2)[-k-1:]\n",
    "\n",
    "        def merge(a,b):\n",
    "            res = \"\"\n",
    "            while a or b:\n",
    "                if a > b:\n",
    "                    res += a[0]\n",
    "                    a = a[1:]\n",
    "                else:\n",
    "                    res += b[0]\n",
    "                    b = b[1:]\n",
    "            return res\n",
    "\n",
    "        ans = \"0\"\n",
    "        r = k - len(lens1[0]) #remaining\n",
    "        lens2 = lens2[:len(lens2)-r][::-1]\n",
    "        #lens2 = lens2[len(lens2)-r-1::-1]\n",
    "\n",
    "        for a1, a2 in zip(lens1, lens2):\n",
    "            ans = max(ans, merge(a1,a2))\n",
    "        return map(int,ans)"
   ]
  }
 ],
 "metadata": {
  "kernelspec": {
   "display_name": "Python 2",
   "language": "python",
   "name": "python2"
  },
  "language_info": {
   "codemirror_mode": {
    "name": "ipython",
    "version": 2
   },
   "file_extension": ".py",
   "mimetype": "text/x-python",
   "name": "python",
   "nbconvert_exporter": "python",
   "pygments_lexer": "ipython2",
   "version": "2.7.13"
  }
 },
 "nbformat": 4,
 "nbformat_minor": 0
}
