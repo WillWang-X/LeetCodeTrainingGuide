{
 "cells": [
  {
   "cell_type": "markdown",
   "metadata": {},
   "source": [
    "# 460. LFU Cache"
   ]
  },
  {
   "cell_type": "markdown",
   "metadata": {},
   "source": [
    "Design and implement a data structure for Least Frequently Used (LFU) cache. It should support the following operations: get and put.\n",
    "\n",
    "get(key) - Get the value (will always be positive) of the key if the key exists in the cache, otherwise return -1.\n",
    "put(key, value) - Set or insert the value if the key is not already present. When the cache reaches its capacity, it should invalidate the least frequently used item before inserting a new item. For the purpose of this problem, when there is a tie (i.e., two or more keys that have the same frequency), the least recently used key would be evicted.\n",
    "\n",
    "Follow up:\n",
    "Could you do both operations in O(1) time complexity?\n",
    "\n",
    "Example:\n",
    "\n",
    "LFUCache cache = new LFUCache( 2 /* capacity */ );\n",
    "\n",
    "cache.put(1, 1);\n",
    "cache.put(2, 2);\n",
    "cache.get(1);       // returns 1\n",
    "cache.put(3, 3);    // evicts key 2\n",
    "cache.get(2);       // returns -1 (not found)\n",
    "cache.get(3);       // returns 3.\n",
    "cache.put(4, 4);    // evicts key 1.\n",
    "cache.get(1);       // returns -1 (not found)\n",
    "cache.get(3);       // returns 3\n",
    "cache.get(4);       // returns 4"
   ]
  },
  {
   "cell_type": "code",
   "execution_count": null,
   "metadata": {
    "collapsed": true
   },
   "outputs": [],
   "source": [
    "class KeyNode(object):\n",
    "    def __init__(self, key, value, freq = 1):\n",
    "        self.key = key \n",
    "        self.value = value \n",
    "        self.freq = freq\n",
    "        self.prev = self.next = None\n",
    "        \n",
    "class FreqNode(object):\n",
    "    def __init__(self, freq, prev, next):\n",
    "        self.freq = freq\n",
    "        self.prev = prev\n",
    "        self.next = next \n",
    "        self.first = self.last = None \n",
    "    \n",
    "class LFUCache(object):\n",
    "    \n",
    "    def __init__(self, capacity):\n",
    "        self.capacity = capacity\n",
    "        self.KeyDict = dict()\n",
    "        self.freqDict = dict()\n",
    "        self.head = None\n",
    "        \n",
    "    def get(self, key):\n",
    "        if key in self.keyDict:\n",
    "            keyNode = self.keyDict[key]\n",
    "            value = keyNode.value\n",
    "            self.increase(key, value)\n",
    "            return value \n",
    "        return -1\n",
    "    \n",
    "    def put(self,key,value):\n",
    "        if self.capacity == 0:\n",
    "            return \n",
    "        if key in self.keyDict:\n",
    "            self.increase(key, value)\n",
    "            return \n",
    "        if len(self.keyDict) == self.capacity:\n",
    "            self.removekeyNode(self.head.last)\n",
    "        self.insertKeyNode(key, value)\n",
    "        \n",
    "    def increase(self, key, value):\n",
    "        keyNode = self.keyDict[key]\n",
    "        keyNode.value = value\n",
    "        freqNode = self.freqDict[keyNode.freq]\n",
    "        nextFreqNode = freqNode.next\n",
    "        keyNode.freq += 1\n",
    "        if nextFreqNode is None or nextFreqNode.freq > keyNode.freq:\n",
    "            nextFreqNode = self.insertFreqNodeAfter(keyNode.freq, freqNode)\n",
    "        self.unlinkKey(keyNode, freqNode)\n",
    "        self.linkKey(keyNode, nextFreqNode)\n",
    "        \n",
    "    def insertKeyNode(self, key, value):\n",
    "        keyNode = self.keyDict[key] = keyNode(key, value)\n",
    "        freqNode = self.freqDict.get(1)\n",
    "        if freqNode is None:\n",
    "            freqNode = self.freqDict[1] = FreqNode(1, None, self.head)\n",
    "            if self.head:\n",
    "                self.head.prev = freqNode\n",
    "        self.linkKey(keyNode, freqNode)\n",
    "        \n",
    "        "
   ]
  },
  {
   "cell_type": "code",
   "execution_count": 1,
   "metadata": {
    "collapsed": true
   },
   "outputs": [],
   "source": [
    "class KeyNode(object):\n",
    "    def __init__(self, key, value, freq = 1):\n",
    "        self.key = key\n",
    "        self.value = value\n",
    "        self.freq = freq\n",
    "        self.prev = self.next = None\n",
    "\n",
    "class FreqNode(object):\n",
    "    def __init__(self, freq, prev, next):\n",
    "        self.freq = freq\n",
    "        self.prev = prev\n",
    "        self.next = next\n",
    "        self.first = self.last = None\n",
    "\n",
    "class LFUCache(object):\n",
    "\n",
    "    def __init__(self, capacity):\n",
    "        \"\"\"\n",
    "        \n",
    "        :type capacity: int\n",
    "        \"\"\"\n",
    "        self.capacity = capacity\n",
    "        self.keyDict = dict()\n",
    "        self.freqDict = dict()\n",
    "        self.head = None\n",
    "\n",
    "    def get(self, key):\n",
    "        \"\"\"\n",
    "        :type key: int\n",
    "        :rtype: int\n",
    "        \"\"\"\n",
    "        if key in self.keyDict:\n",
    "            keyNode = self.keyDict[key]\n",
    "            value = keyNode.value\n",
    "            self.increase(key, value)\n",
    "        \n",
    "            print \"keyDict:\", self.keyDict\n",
    "            print \"freqDict:\",self.freqDict\n",
    "            \n",
    "            return value\n",
    "        \n",
    "        print \"keyDict:\", self.keyDict\n",
    "        print \"freqDict:\",self.freqDict\n",
    "        \n",
    "        return -1\n",
    "\n",
    "    def put(self, key, value):\n",
    "        \"\"\"\n",
    "        :type key: int\n",
    "        :type value: int\n",
    "        :rtype: void\n",
    "        \"\"\"\n",
    "        if self.capacity == 0:\n",
    "            return\n",
    "        if key in self.keyDict:\n",
    "            self.increase(key, value)\n",
    "            return\n",
    "        if len(self.keyDict) == self.capacity:\n",
    "            self.removeKeyNode(self.head.last)\n",
    "        self.insertKeyNode(key, value)\n",
    "        print \"keyDict:\", self.keyDict\n",
    "        print \"freqDict:\",self.freqDict\n",
    "\n",
    "    def increase(self, key, value):\n",
    "        \"\"\"\n",
    "        Increments the freq of an existing KeyNode<key, value> by 1.\n",
    "        :type key: str\n",
    "        :rtype: void\n",
    "        \"\"\"\n",
    "        keyNode = self.keyDict[key]\n",
    "        keyNode.value = value\n",
    "        freqNode = self.freqDict[keyNode.freq]\n",
    "        nextFreqNode = freqNode.next\n",
    "        keyNode.freq += 1\n",
    "        if nextFreqNode is None or nextFreqNode.freq > keyNode.freq:\n",
    "            nextFreqNode = self.insertFreqNodeAfter(keyNode.freq, freqNode)\n",
    "        self.unlinkKey(keyNode, freqNode)\n",
    "        self.linkKey(keyNode, nextFreqNode)\n",
    "\n",
    "    def insertKeyNode(self, key, value):\n",
    "        \"\"\"\n",
    "        Inserts a new KeyNode<key, value> with freq 1.\n",
    "        :type key: str\n",
    "        :rtype: void\n",
    "        \"\"\"\n",
    "        keyNode = self.keyDict[key] = KeyNode(key, value)\n",
    "        freqNode = self.freqDict.get(1)\n",
    "        if freqNode is None:\n",
    "            freqNode = self.freqDict[1] = FreqNode(1, None, self.head)\n",
    "            if self.head:\n",
    "                self.head.prev = freqNode\n",
    "            self.head = freqNode\n",
    "        self.linkKey(keyNode, freqNode)\n",
    "\n",
    "    def delFreqNode(self, freqNode):\n",
    "        \"\"\"\n",
    "        Delete freqNode.\n",
    "        :rtype: void\n",
    "        \"\"\"\n",
    "        prev, next = freqNode.prev, freqNode.next\n",
    "        if prev: prev.next = next\n",
    "        if next: next.prev = prev\n",
    "        if self.head == freqNode: self.head = next\n",
    "        del self.freqDict[freqNode.freq]\n",
    "\n",
    "    def insertFreqNodeAfter(self, freq, node):\n",
    "        \"\"\"\n",
    "        Insert a new FreqNode(freq) after node.\n",
    "        :rtype: FreqNode\n",
    "        \"\"\"\n",
    "        newNode = FreqNode(freq, node, node.next)\n",
    "        self.freqDict[freq] = newNode\n",
    "        if node.next: node.next.prev = newNode\n",
    "        node.next = newNode\n",
    "        return newNode\n",
    "\n",
    "    def removeKeyNode(self, keyNode):\n",
    "        \"\"\"\n",
    "        Remove keyNode\n",
    "        :rtype: void\n",
    "        \"\"\"\n",
    "        self.unlinkKey(keyNode, self.freqDict[keyNode.freq])\n",
    "        del self.keyDict[keyNode.key]\n",
    "\n",
    "    def unlinkKey(self, keyNode, freqNode):\n",
    "        \"\"\"\n",
    "        Unlink keyNode from freqNode\n",
    "        :rtype: void\n",
    "        \"\"\"\n",
    "        next, prev = keyNode.next, keyNode.prev\n",
    "        if prev: prev.next = next\n",
    "        if next: next.prev = prev\n",
    "        if freqNode.first == keyNode: freqNode.first = next\n",
    "        if freqNode.last == keyNode: freqNode.last = prev\n",
    "        if freqNode.first is None: self.delFreqNode(freqNode)\n",
    "\n",
    "    def linkKey(self, keyNode, freqNode):\n",
    "        \"\"\"\n",
    "        Link keyNode to freqNode\n",
    "        :rtype: void\n",
    "        \"\"\"\n",
    "        firstKeyNode = freqNode.first\n",
    "        keyNode.prev = None\n",
    "        keyNode.next = firstKeyNode\n",
    "        if firstKeyNode: firstKeyNode.prev = keyNode\n",
    "        freqNode.first = keyNode\n",
    "        if freqNode.last is None: freqNode.last = keyNode\n",
    "\n",
    "# Your LFUCache object will be instantiated and called as such:\n",
    "# obj = LFUCache(capacity)\n",
    "# param_1 = obj.get(key)\n",
    "# obj.put(key,value)"
   ]
  },
  {
   "cell_type": "code",
   "execution_count": 2,
   "metadata": {
    "collapsed": false
   },
   "outputs": [],
   "source": [
    "obj = LFUCache(2)"
   ]
  },
  {
   "cell_type": "code",
   "execution_count": 3,
   "metadata": {
    "collapsed": false
   },
   "outputs": [
    {
     "name": "stdout",
     "output_type": "stream",
     "text": [
      "keyDict: {}\n",
      "freqDict: {}\n",
      "-1\n"
     ]
    }
   ],
   "source": [
    "print obj.get(2)"
   ]
  },
  {
   "cell_type": "code",
   "execution_count": 4,
   "metadata": {
    "collapsed": false
   },
   "outputs": [
    {
     "name": "stdout",
     "output_type": "stream",
     "text": [
      "keyDict: {1: <__main__.KeyNode object at 0x1040776d0>}\n",
      "freqDict: {1: <__main__.FreqNode object at 0x10416dc50>}\n",
      "None\n"
     ]
    }
   ],
   "source": [
    "print obj.put(1,1)"
   ]
  },
  {
   "cell_type": "code",
   "execution_count": 5,
   "metadata": {
    "collapsed": false
   },
   "outputs": [
    {
     "name": "stdout",
     "output_type": "stream",
     "text": [
      "keyDict: {1: <__main__.KeyNode object at 0x1040776d0>, 2: <__main__.KeyNode object at 0x103caab90>}\n",
      "freqDict: {1: <__main__.FreqNode object at 0x10416dc50>}\n",
      "None\n"
     ]
    }
   ],
   "source": [
    "print obj.put(2,2)"
   ]
  },
  {
   "cell_type": "code",
   "execution_count": 6,
   "metadata": {
    "collapsed": false
   },
   "outputs": [
    {
     "name": "stdout",
     "output_type": "stream",
     "text": [
      "keyDict: {1: <__main__.KeyNode object at 0x1040776d0>, 2: <__main__.KeyNode object at 0x103caab90>}\n",
      "freqDict: {1: <__main__.FreqNode object at 0x10416dc50>, 2: <__main__.FreqNode object at 0x103caaa50>}\n",
      "1\n"
     ]
    }
   ],
   "source": [
    "print obj.get(1)"
   ]
  },
  {
   "cell_type": "code",
   "execution_count": 7,
   "metadata": {
    "collapsed": false
   },
   "outputs": [
    {
     "name": "stdout",
     "output_type": "stream",
     "text": [
      "keyDict: {1: <__main__.KeyNode object at 0x1040776d0>, 3: <__main__.KeyNode object at 0x103caab90>}\n",
      "freqDict: {1: <__main__.FreqNode object at 0x10416dc50>, 2: <__main__.FreqNode object at 0x103caaa50>}\n",
      "None\n"
     ]
    }
   ],
   "source": [
    "print obj.put(3,3)"
   ]
  },
  {
   "cell_type": "code",
   "execution_count": 8,
   "metadata": {
    "collapsed": false
   },
   "outputs": [
    {
     "name": "stdout",
     "output_type": "stream",
     "text": [
      "keyDict: {1: <__main__.KeyNode object at 0x1040776d0>, 3: <__main__.KeyNode object at 0x103caab90>}\n",
      "freqDict: {1: <__main__.FreqNode object at 0x10416dc50>, 2: <__main__.FreqNode object at 0x103caaa50>}\n",
      "-1\n"
     ]
    }
   ],
   "source": [
    "print obj.get(2) "
   ]
  },
  {
   "cell_type": "code",
   "execution_count": 9,
   "metadata": {
    "collapsed": false,
    "scrolled": true
   },
   "outputs": [
    {
     "name": "stdout",
     "output_type": "stream",
     "text": [
      "keyDict: {1: <__main__.KeyNode object at 0x1040776d0>, 3: <__main__.KeyNode object at 0x103caab90>}\n",
      "freqDict: {2: <__main__.FreqNode object at 0x103caaa50>}\n",
      "3\n"
     ]
    }
   ],
   "source": [
    "print obj.get(3)"
   ]
  },
  {
   "cell_type": "code",
   "execution_count": 10,
   "metadata": {
    "collapsed": false
   },
   "outputs": [
    {
     "name": "stdout",
     "output_type": "stream",
     "text": [
      "keyDict: {3: <__main__.KeyNode object at 0x103caab90>, 4: <__main__.KeyNode object at 0x1040776d0>}\n",
      "freqDict: {1: <__main__.FreqNode object at 0x10415df90>, 2: <__main__.FreqNode object at 0x103caaa50>}\n",
      "None\n"
     ]
    }
   ],
   "source": [
    "print obj.put(4,4)"
   ]
  },
  {
   "cell_type": "code",
   "execution_count": 11,
   "metadata": {
    "collapsed": false
   },
   "outputs": [
    {
     "name": "stdout",
     "output_type": "stream",
     "text": [
      "keyDict: {3: <__main__.KeyNode object at 0x103caab90>, 4: <__main__.KeyNode object at 0x1040776d0>}\n",
      "freqDict: {1: <__main__.FreqNode object at 0x10415df90>, 2: <__main__.FreqNode object at 0x103caaa50>}\n",
      "-1\n"
     ]
    }
   ],
   "source": [
    "print obj.get(1)"
   ]
  },
  {
   "cell_type": "code",
   "execution_count": 12,
   "metadata": {
    "collapsed": false
   },
   "outputs": [
    {
     "name": "stdout",
     "output_type": "stream",
     "text": [
      "keyDict: {3: <__main__.KeyNode object at 0x103caab90>, 4: <__main__.KeyNode object at 0x1040776d0>}\n",
      "freqDict: {1: <__main__.FreqNode object at 0x10415df90>, 3: <__main__.FreqNode object at 0x103e57fd0>}\n",
      "3\n"
     ]
    }
   ],
   "source": [
    "print obj.get(3)"
   ]
  },
  {
   "cell_type": "code",
   "execution_count": 13,
   "metadata": {
    "collapsed": false
   },
   "outputs": [
    {
     "name": "stdout",
     "output_type": "stream",
     "text": [
      "keyDict: {3: <__main__.KeyNode object at 0x103caab90>, 4: <__main__.KeyNode object at 0x1040776d0>}\n",
      "freqDict: {2: <__main__.FreqNode object at 0x104149bd0>, 3: <__main__.FreqNode object at 0x103e57fd0>}\n",
      "4\n"
     ]
    }
   ],
   "source": [
    "print obj.get(4)"
   ]
  },
  {
   "cell_type": "code",
   "execution_count": null,
   "metadata": {
    "collapsed": true
   },
   "outputs": [],
   "source": [
    "[\"LFUCache\",\"put\",\"put\",\"get\",\"put\",\"get\",\"get\",\"put\",\"get\",\"get\",\"get\"]\n",
    "[[2],[1,1],[2,2],[1],[3,3],[2],[3],[4,4],[1],[3],[4]]"
   ]
  }
 ],
 "metadata": {
  "kernelspec": {
   "display_name": "Python 2",
   "language": "python",
   "name": "python2"
  },
  "language_info": {
   "codemirror_mode": {
    "name": "ipython",
    "version": 2
   },
   "file_extension": ".py",
   "mimetype": "text/x-python",
   "name": "python",
   "nbconvert_exporter": "python",
   "pygments_lexer": "ipython2",
   "version": "2.7.13"
  }
 },
 "nbformat": 4,
 "nbformat_minor": 0
}
