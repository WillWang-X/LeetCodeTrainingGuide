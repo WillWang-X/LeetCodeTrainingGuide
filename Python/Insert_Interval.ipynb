{
 "cells": [
  {
   "cell_type": "markdown",
   "metadata": {},
   "source": [
    "# 57. Insert Interval"
   ]
  },
  {
   "cell_type": "markdown",
   "metadata": {},
   "source": [
    "Given a set of non-overlapping intervals, insert a new interval into the intervals (merge if necessary).\n",
    "\n",
    "You may assume that the intervals were initially sorted according to their start times.\n",
    "\n",
    "Example 1:\n",
    "Given intervals [1,3],[6,9], insert and merge [2,5] in as [1,5],[6,9].\n",
    "\n",
    "Example 2:\n",
    "Given [1,2],[3,5],[6,7],[8,10],[12,16], insert and merge [4,9] in as [1,2],[3,10],[12,16].\n",
    "\n",
    "This is because the new interval [4,9] overlaps with [3,5],[6,7],[8,10]."
   ]
  },
  {
   "cell_type": "markdown",
   "metadata": {},
   "source": [
    "## Solution1"
   ]
  },
  {
   "cell_type": "code",
   "execution_count": 67,
   "metadata": {
    "collapsed": false
   },
   "outputs": [],
   "source": [
    "# Insert Interval\n",
    "# Time: O(n)\n",
    "# Space: \n",
    "\n",
    "# Definition for an interval.\n",
    "class Interval(object):\n",
    "    def __init__(self, s=0, e=0):\n",
    "        self.start = s\n",
    "        self.end = e\n",
    "    \n",
    "    def __repr__ (self):\n",
    "        return \"[{}, {}]\".format(self.start, self.end)\n",
    "\n",
    "class Solution(object):\n",
    "    def insert(self, intervals, newInterval):\n",
    "        \"\"\"\n",
    "        :type intervals: List[Interval]\n",
    "        :type newInterval: Interval\n",
    "        :rtype: List[Interval]\n",
    "        \"\"\"\n",
    "        if not intervals:\n",
    "            intervals.append(newInterval)\n",
    "            return intervals\n",
    "        \n",
    "        new_intervals = []\n",
    "        for i in range(len(intervals)):\n",
    "            if newInterval.start >= intervals[i].start:\n",
    "                new_intervals.append(intervals[i])\n",
    "            else:\n",
    "                new_intervals.append(newInterval)\n",
    "                new_intervals.append(intervals[i])\n",
    "        new_intervals.append(newInterval)\n",
    "        \n",
    "        result = [new_intervals[0]]\n",
    "        for i in range(1,len(new_intervals)):\n",
    "            prev, current = result[-1], new_intervals[i]\n",
    "            if current.start <= prev.end:\n",
    "                prev.end = max(current.end, prev.end)\n",
    "            else:\n",
    "                result.append(current)\n",
    "        return result"
   ]
  },
  {
   "cell_type": "code",
   "execution_count": 68,
   "metadata": {
    "collapsed": false
   },
   "outputs": [
    {
     "name": "stdout",
     "output_type": "stream",
     "text": [
      "[[1, 7]]\n"
     ]
    }
   ],
   "source": [
    "# Edge case\n",
    "# print( Solution().insert([],[5,7]) )\n",
    "# print( Solution().insert([Interval(1,5)],Interval(2,3)) )\n",
    "print( Solution().insert([Interval(1,5)],Interval(2,7)) )\n"
   ]
  },
  {
   "cell_type": "code",
   "execution_count": null,
   "metadata": {
    "collapsed": true
   },
   "outputs": [],
   "source": []
  },
  {
   "cell_type": "code",
   "execution_count": null,
   "metadata": {
    "collapsed": true
   },
   "outputs": [],
   "source": []
  }
 ],
 "metadata": {
  "kernelspec": {
   "display_name": "Python 2",
   "language": "python",
   "name": "python2"
  },
  "language_info": {
   "codemirror_mode": {
    "name": "ipython",
    "version": 2
   },
   "file_extension": ".py",
   "mimetype": "text/x-python",
   "name": "python",
   "nbconvert_exporter": "python",
   "pygments_lexer": "ipython2",
   "version": "2.7.13"
  }
 },
 "nbformat": 4,
 "nbformat_minor": 0
}
