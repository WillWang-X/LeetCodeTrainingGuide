{
 "cells": [
  {
   "cell_type": "markdown",
   "metadata": {},
   "source": [
    "# #55 Jump Game"
   ]
  },
  {
   "cell_type": "markdown",
   "metadata": {},
   "source": [
    "Given an array of non-negative integers, you are initially positioned at the first index of the array.\n",
    "\n",
    "Each element in the array represents your maximum jump length at that position.\n",
    "\n",
    "Determine if you are able to reach the last index.\n",
    "\n",
    "For example:\n",
    "A = [2,3,1,1,4], return true.\n",
    "\n",
    "A = [3,2,1,0,4], return false.\n"
   ]
  },
  {
   "cell_type": "markdown",
   "metadata": {},
   "source": [
    "## BrainStorm"
   ]
  },
  {
   "cell_type": "code",
   "execution_count": 4,
   "metadata": {
    "collapsed": false,
    "scrolled": true
   },
   "outputs": [
    {
     "name": "stdout",
     "output_type": "stream",
     "text": [
      "(0, 2)\n",
      "(1, 3)\n",
      "(2, 1)\n",
      "(3, 1)\n",
      "(4, 4)\n"
     ]
    }
   ],
   "source": [
    "A = [2,3,1,1,4]\n",
    "for i,length in enumerate(A):\n",
    "    print(i,length)"
   ]
  },
  {
   "cell_type": "code",
   "execution_count": 15,
   "metadata": {
    "collapsed": false
   },
   "outputs": [
    {
     "name": "stdout",
     "output_type": "stream",
     "text": [
      "(0, 1)\n",
      "(1, 3)\n",
      "(2, 1)\n",
      "(3, 1)\n",
      "(4, 4)\n"
     ]
    }
   ],
   "source": [
    "A = [1,3,1,1,4]\n",
    "reachable = 0\n",
    "for i,length in enumerate(A):\n",
    "    if i > reachable:\n",
    "        break\n",
    "    print(i,length)\n",
    "    reachable = max(reachable, i + length)"
   ]
  },
  {
   "cell_type": "markdown",
   "metadata": {},
   "source": [
    "## Solution1"
   ]
  },
  {
   "cell_type": "code",
   "execution_count": 34,
   "metadata": {
    "collapsed": true
   },
   "outputs": [],
   "source": [
    "# Time: O(n)\n",
    "# Space: O(1)\n",
    "\n",
    "class Solution(object):\n",
    "    def canJump(self, nums):\n",
    "        \"\"\"\n",
    "        :type nums: List[int]\n",
    "        :rtype: bool\n",
    "        \"\"\"\n",
    "        reachable = 0\n",
    "        for i,jump in enumerate(nums):\n",
    "            if i > reachable:\n",
    "                #break\n",
    "                return False \n",
    "            reachable = max(reachable, i+jump)\n",
    "            print(i,jump,reachable)\n",
    "        #return reachable >= len(nums)-1   \n",
    "        return True "
   ]
  },
  {
   "cell_type": "code",
   "execution_count": 35,
   "metadata": {
    "collapsed": false
   },
   "outputs": [
    {
     "name": "stdout",
     "output_type": "stream",
     "text": [
      "(0, 2, 2)\n",
      "(1, 3, 4)\n",
      "(2, 1, 4)\n",
      "(3, 1, 4)\n",
      "(4, 4, 8)\n",
      "True\n",
      "(0, 3, 3)\n",
      "(1, 2, 3)\n",
      "(2, 1, 3)\n",
      "(3, 0, 3)\n",
      "False\n",
      "(0, 2, 2)\n",
      "(1, 3, 4)\n",
      "(2, 0, 4)\n",
      "(3, 0, 4)\n",
      "(4, 4, 8)\n",
      "True\n"
     ]
    }
   ],
   "source": [
    "print ( Solution().canJump([2,3,1,1,4]) )\n",
    "print ( Solution().canJump([3,2,1,0,4]) )\n",
    "print ( Solution().canJump([2,3,0,0,4]) )"
   ]
  },
  {
   "cell_type": "markdown",
   "metadata": {},
   "source": [
    "## Notes"
   ]
  },
  {
   "cell_type": "markdown",
   "metadata": {},
   "source": [
    "Greedy: See the most reachable position in every step."
   ]
  }
 ],
 "metadata": {
  "kernelspec": {
   "display_name": "Python 2",
   "language": "python",
   "name": "python2"
  },
  "language_info": {
   "codemirror_mode": {
    "name": "ipython",
    "version": 2
   },
   "file_extension": ".py",
   "mimetype": "text/x-python",
   "name": "python",
   "nbconvert_exporter": "python",
   "pygments_lexer": "ipython2",
   "version": "2.7.13"
  }
 },
 "nbformat": 4,
 "nbformat_minor": 0
}
