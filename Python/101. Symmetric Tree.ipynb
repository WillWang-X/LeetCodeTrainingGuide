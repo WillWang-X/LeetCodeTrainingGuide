{
 "cells": [
  {
   "cell_type": "markdown",
   "metadata": {},
   "source": [
    "# 101. Symmetric Tree\n"
   ]
  },
  {
   "cell_type": "markdown",
   "metadata": {},
   "source": [
    "There are 3 ways to slove this problem: **2 top-down solutions(recursive and iterative) and 1 bottom-up solution.**"
   ]
  },
  {
   "cell_type": "markdown",
   "metadata": {},
   "source": [
    "## Solution1: Recursive[Accepted]"
   ]
  },
  {
   "cell_type": "code",
   "execution_count": null,
   "metadata": {
    "collapsed": true
   },
   "outputs": [],
   "source": [
    "# Time: O(n)\n",
    "# Space: O(n)\n",
    "# 101. Symmetric Tree\n",
    "\n",
    "\n",
    "# Definition for a binary tree node.\n",
    "class TreeNode(object):\n",
    "    def __init__(self, x):\n",
    "        self.val = x\n",
    "        self.left = None\n",
    "        self.right = None\n",
    "\n",
    "class Solution(object):\n",
    "    def isSymmetric(self, root):\n",
    "        \"\"\"\n",
    "        :type root: TreeNode\n",
    "        :rtype: bool\n",
    "        \"\"\"\n",
    "        if root is None:\n",
    "            return True \n",
    "        else:\n",
    "            return self.isMirror(root.left, root.right)\n",
    "    \n",
    "    def isMirror(self, t1, t2):\n",
    "        if t1 is None and t2 is None: \n",
    "                return True \n",
    "        if t1 is None or t2 is None: \n",
    "                return False \n",
    "            \n",
    "        return (t1.val == t2.val) and \\\n",
    "               self.isMirror(t1.left, t2.right) and \\\n",
    "               self.isMirror(t1.right, t2.left)\n",
    "        "
   ]
  },
  {
   "cell_type": "markdown",
   "metadata": {},
   "source": [
    "## Solution2: Interative[Accepted]"
   ]
  },
  {
   "cell_type": "code",
   "execution_count": null,
   "metadata": {
    "collapsed": true
   },
   "outputs": [],
   "source": [
    "# Time: O(n)\n",
    "# Space: O(n)\n",
    "# 101. Symmetric Tree\n",
    "\n",
    "\n",
    "# Definition for a binary tree node.\n",
    "class TreeNode(object):\n",
    "    def __init__(self, x):\n",
    "        self.val = x\n",
    "        self.left = None\n",
    "        self.right = None\n",
    "\n",
    "\n",
    "class Solution(object):\n",
    "    def isSymmetric(self, root):\n",
    "        \"\"\"\n",
    "        :type root: TreeNode\n",
    "        :rtype: bool\n",
    "        \"\"\"\n",
    "        if root is None:\n",
    "            return True \n",
    "        \n",
    "        queue = [[root.left, root.right]]\n",
    "        \n",
    "        while len(queue) > 0:\n",
    "            pair = queue.pop(0)\n",
    "            left = pair[0]\n",
    "            right = pair[1]\n",
    "            \n",
    "            if left is None and right is None:\n",
    "                continue \n",
    "            if left is None or right is None:\n",
    "                return False \n",
    "            if left.val != right.val:\n",
    "                return False \n",
    "            else:\n",
    "                queue.append([left.left,right.right])\n",
    "                queue.append([left.right, right.left])\n",
    "        \n",
    "        return True      "
   ]
  },
  {
   "cell_type": "markdown",
   "metadata": {},
   "source": [
    "## Solution3: "
   ]
  },
  {
   "cell_type": "code",
   "execution_count": null,
   "metadata": {
    "collapsed": true
   },
   "outputs": [],
   "source": []
  }
 ],
 "metadata": {
  "kernelspec": {
   "display_name": "Python 2",
   "language": "python",
   "name": "python2"
  },
  "language_info": {
   "codemirror_mode": {
    "name": "ipython",
    "version": 2
   },
   "file_extension": ".py",
   "mimetype": "text/x-python",
   "name": "python",
   "nbconvert_exporter": "python",
   "pygments_lexer": "ipython2",
   "version": "2.7.13"
  }
 },
 "nbformat": 4,
 "nbformat_minor": 0
}
