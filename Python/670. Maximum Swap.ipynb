{
 "cells": [
  {
   "cell_type": "markdown",
   "metadata": {},
   "source": [
    "# O(n^2)"
   ]
  },
  {
   "cell_type": "code",
   "execution_count": 13,
   "metadata": {
    "collapsed": false
   },
   "outputs": [],
   "source": [
    "class Solution(object):\n",
    "    def maximumSwap(self, num):\n",
    "        \"\"\"\n",
    "        :type num: int\n",
    "        :rtype: int\n",
    "        \"\"\"\n",
    "        num = map(int, str(num))\n",
    "        magic = lambda nums: int(''.join(str(i) for i in nums))\n",
    "        \n",
    "        for i in range(len(num)-1):\n",
    "            swap = num[i]\n",
    "            flag = i\n",
    "            for j in range(i+1,len(num)):\n",
    "                if num[j] >= swap:\n",
    "                    swap = num[j]\n",
    "                    flag = j\n",
    "            if flag != i and num[i] != num[flag]:\n",
    "                num[i], num[flag] = num[flag], num[i]\n",
    "                return magic(num)\n",
    "        return magic(num)       "
   ]
  },
  {
   "cell_type": "code",
   "execution_count": 14,
   "metadata": {
    "collapsed": false
   },
   "outputs": [
    {
     "name": "stdout",
     "output_type": "stream",
     "text": [
      "[9, 8, 3, 6, 8]\n",
      "98863\n"
     ]
    }
   ],
   "source": [
    "print Solution().maximumSwap(98368)"
   ]
  },
  {
   "cell_type": "code",
   "execution_count": 11,
   "metadata": {
    "collapsed": false
   },
   "outputs": [
    {
     "name": "stdout",
     "output_type": "stream",
     "text": [
      "[9, 8, 3, 6, 8]\n"
     ]
    }
   ],
   "source": [
    "num = 98368\n",
    "num = map(int, str(num))\n",
    "print num"
   ]
  },
  {
   "cell_type": "markdown",
   "metadata": {},
   "source": [
    "# O(n)"
   ]
  },
  {
   "cell_type": "code",
   "execution_count": 17,
   "metadata": {
    "collapsed": true
   },
   "outputs": [],
   "source": [
    "class Solution(object):\n",
    "    def maximumSwap(self, num):\n",
    "        \"\"\"\n",
    "        :type num: int\n",
    "        :rtype: int\n",
    "        \"\"\"\n",
    "        num = map(int, str(num))\n",
    "        magic = lambda nums: int(''.join(str(i) for i in nums))\n",
    "        \n",
    "        turn, i = -1, 0 \n",
    "        while i < len(num) - 1:\n",
    "            if num[i+1] <= num[i]:\n",
    "                i += 1\n",
    "            else:\n",
    "                turn = i+1\n",
    "                i = len(num) - 1\n",
    "        \n",
    "        if turn > 0:\n",
    "            biggest = num[turn]\n",
    "            bi = turn \n",
    "            for j in range(turn+1, len(num)):\n",
    "                if num[j] >= biggest:\n",
    "                    biggest = num[j]\n",
    "                    bi = j \n",
    "\n",
    "            for i in range(turn):\n",
    "                if num[i] < biggest:\n",
    "                    num[i], num[bi] = num[bi], num[i]\n",
    "                    return magic(num)\n",
    "\n",
    "        return magic(num)"
   ]
  },
  {
   "cell_type": "code",
   "execution_count": 18,
   "metadata": {
    "collapsed": false
   },
   "outputs": [
    {
     "name": "stdout",
     "output_type": "stream",
     "text": [
      "4\n",
      "99910\n"
     ]
    }
   ],
   "source": [
    "print Solution().maximumSwap(99901)"
   ]
  },
  {
   "cell_type": "code",
   "execution_count": null,
   "metadata": {
    "collapsed": true
   },
   "outputs": [],
   "source": []
  },
  {
   "cell_type": "code",
   "execution_count": null,
   "metadata": {
    "collapsed": true
   },
   "outputs": [],
   "source": []
  }
 ],
 "metadata": {
  "kernelspec": {
   "display_name": "Python 2",
   "language": "python",
   "name": "python2"
  },
  "language_info": {
   "codemirror_mode": {
    "name": "ipython",
    "version": 2
   },
   "file_extension": ".py",
   "mimetype": "text/x-python",
   "name": "python",
   "nbconvert_exporter": "python",
   "pygments_lexer": "ipython2",
   "version": "2.7.13"
  }
 },
 "nbformat": 4,
 "nbformat_minor": 0
}
