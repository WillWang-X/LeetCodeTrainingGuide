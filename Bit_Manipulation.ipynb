{
 "cells": [
  {
   "cell_type": "markdown",
   "metadata": {},
   "source": [
    "# Bit Manipulation"
   ]
  },
  {
   "cell_type": "markdown",
   "metadata": {},
   "source": [
    "![bit manipulation](http://www.zembedded.com/wp-content/uploads/2012/09/bitwise.fw_.png)"
   ]
  },
  {
   "cell_type": "markdown",
   "metadata": {},
   "source": [
    "![history tragedy](http://blog.mojijs.com/zb_users/upload/2015/09/20130904170545578.jpg)"
   ]
  },
  {
   "cell_type": "markdown",
   "metadata": {},
   "source": [
    "\n",
    "\n",
    "|  #  | Title           |  Solution       |  Time           | Space           | Difficulty    | Tag          | Note| \n",
    "|-----|---------------- | --------------- | --------------- | --------------- | ------------- |--------------|-----|\n",
    "|136 | [Single Number](https://leetcode.com/problems/single-number/) | [C++](./C++/single-number.cpp) [Python](./Python/single-number.py) | _O(n)_       | _O(1)_          | Easy         |||\n",
    "|137 | [Single Number II](https://leetcode.com/problems/single-number-ii/) | [C++](./C++/single-number-ii.cpp) [Python](./Python/single-number-ii.py) | _O(n)_ | _O(1)_          | Medium         |||\n",
    "|190 | [Reverse Bits](https://leetcode.com/problems/reverse-bits/)  | [C++](./C++/reverse-bits.cpp) [Python](./Python/reverse-bits.py) | _O(1)_        | _O(1)_          | Easy           |||\n",
    "|191  |[Number of 1 Bits](https://leetcode.com/problems/number-of-1-bits/) | [C++](./C++/number-of-1-bits.cpp) [Python](./Python/number-of-1-bits.py) | _O(1)_ | _O(1)_          | Easy           |||\n",
    "|201 | [Bitwise AND of Numbers Range](https://leetcode.com/problems/bitwise-and-of-numbers-range/) | [C++](./C++/bitwise-and-of-numbers-range.cpp) [Python](./Python/bitwise-and-of-numbers-range.py) | _O(1)_ | _O(1)_ | Medium ||\n",
    "|231 | [Power of Two](https://leetcode.com/problems/power-of-two/) | [C++](./C++/power-of-two.cpp) [Python](./Python/power-of-two.py) | _O(1)_ | _O(1)_ | Easy | LintCode |\n",
    "|260 | [Single Number III](https://leetcode.com/problems/single-number-iii/) | [C++](./C++/single-number-iii.cpp) [Python](./Python/single-number-iii.py) | _O(n)_ | _O(1)_          | Medium         ||\n",
    "|268| [Missing Number](https://leetcode.com/problems/missing-number/) | [C++](./C++/missing-number.cpp) [Python](./Python/missing-number.py)  | _O(n)_ |  _O(1)_ | Medium         | LintCode ||\n",
    "|318| [Maximum Product of Word Lengths](https://leetcode.com/problems/maximum-product-of-word-lengths/) | [C++](./C++/maximum-product-of-word-lengths.cpp) [Python](./Python/maximum-product-of-word-lengths.py)  | _O(n)_ ~ _O(n^2)_ |  _O(n)_ | Medium         || Bit Manipulation, Counting Sort, Pruning|\n",
    "|342 | [Power of Four](https://leetcode.com/problems/power-of-four/) | [C++](./C++/power-of-four.cpp) [Python](./Python/power-of-four.py) | _O(1)_ | _O(1)_ | Easy | |\n",
    "|371 | [Sum of Two Integers](https://leetcode.com/problems/sum-of-two-integers/) | [C++](./C++/sum-of-two-integers.cpp) [Python](./Python/sum-of-two-integers.py) | _O(1)_ | _O(1)_ | Easy | LintCode |\n",
    "|389 | [Find the Difference](https://leetcode.com/problems/find-the-difference/) | [C++](./C++/find-the-difference.cpp) [Python](./Python/find-the-difference.py) | _O(n)_ | _O(1)_ | Easy | |\n",
    "|393 | [UTF-8 Validation](https://leetcode.com/problems/utf-8-validation/) | [C++](./C++/utf-8-validation.cpp) [Python](./Python/utf-8-validation.py) | _O(n)_ | _O(1)_ | Medium | |\n",
    "|401 | [Binary Watch](https://leetcode.com/problems/binary-watch/) | [C++](./C++/binary-watch.cpp) [Python](./Python/binary-watch.py) | _O(1)_ | _O(1)_ | Easy | |\n",
    "|411 | [Minimum Unique Word Abbreviation](https://leetcode.com/problems/minimum-unique-word-abbreviation/) | [C++](./C++/minimum-unique-word-abbreviation.cpp) [Python](./Python/minimum-unique-word-abbreviation.py) | _O(2^n)_ | _O(n)_ | Hard | 📖 |\n",
    "|421 | [Maximum XOR of Two Numbers in an Array](https://leetcode.com/problems/maximum-xor-of-two-numbers-in-an-array/) | [C++](./C++/maximum-xor-of-two-numbers-in-an-array.cpp) [Python](./Python/maximum-xor-of-two-numbers-in-an-array.py) | _O(n)_ | _O(1)_ | Medium ||\n",
    "|461 | [Hamming Distance](https://leetcode.com/problems/hamming-distance/) | [C++](./C++/hamming-distance.cpp) [Python](./Python/hamming-distance.py) | _O(1)_ | _O(1)_ | Easy ||\n",
    "|462 | [Minimum Moves to Equal Array Elements II](https://leetcode.com/problems/minimum-moves-to-equal-array-elements-ii/) | [C++](./C++/minimum-moves-to-equal-array-elements-ii.cpp) [Python](./Python/minimum-moves-to-equal-array-elements-ii.py) | _O(n)_  on average | _O(1)_ | Medium ||\n",
    "|477 | [Total Hamming Distance](https://leetcode.com/problems/total-hamming-distance/) | [C++](./C++/total-hamming-distance.cpp) [Python](./Python/total-hamming-distance.py) | _O(n)_ | _O(1)_ | Medium ||"
   ]
  },
  {
   "cell_type": "markdown",
   "metadata": {},
   "source": [
    "# 0. What "
   ]
  },
  {
   "cell_type": "code",
   "execution_count": 16,
   "metadata": {
    "collapsed": false
   },
   "outputs": [
    {
     "ename": "NameError",
     "evalue": "name 'x' is not defined",
     "output_type": "error",
     "traceback": [
      "\u001b[0;31m---------------------------------------------------------------------------\u001b[0m",
      "\u001b[0;31mNameError\u001b[0m                                 Traceback (most recent call last)",
      "\u001b[0;32m<ipython-input-16-86d9ee0552b4>\u001b[0m in \u001b[0;36m<module>\u001b[0;34m()\u001b[0m\n\u001b[1;32m      1\u001b[0m \u001b[0;31m# https://wiki.python.org/moin/BitwiseOperators\u001b[0m\u001b[0;34m\u001b[0m\u001b[0;34m\u001b[0m\u001b[0m\n\u001b[0;32m----> 2\u001b[0;31m \u001b[0mx\u001b[0m \u001b[0;34m<<\u001b[0m \u001b[0my\u001b[0m\u001b[0;34m\u001b[0m\u001b[0m\n\u001b[0m\u001b[1;32m      3\u001b[0m \u001b[0;31m# Returns x with the bits shifted to the left by y places (and new bits on the right-hand-side are zeros).\u001b[0m\u001b[0;34m\u001b[0m\u001b[0;34m\u001b[0m\u001b[0m\n\u001b[1;32m      4\u001b[0m \u001b[0;31m# This is the same as multiplying x by 2**y.\u001b[0m\u001b[0;34m\u001b[0m\u001b[0;34m\u001b[0m\u001b[0m\n\u001b[1;32m      5\u001b[0m \u001b[0;34m\u001b[0m\u001b[0m\n",
      "\u001b[0;31mNameError\u001b[0m: name 'x' is not defined"
     ]
    }
   ],
   "source": [
    "# https://wiki.python.org/moin/BitwiseOperators\n",
    "x << y\n",
    "# Returns x with the bits shifted to the left by y places (and new bits on the right-hand-side are zeros). \n",
    "# This is the same as multiplying x by 2**y.\n",
    "\n",
    "x >> y\n",
    "# Returns x with the bits shifted to the right by y places. This is the same as //'ing x by 2**y.\n",
    "\n",
    "x & y\n",
    "# Does a \"bitwise and\". Each bit of the output is 1 if the corresponding bit of x AND of y is 1, otherwise it's 0.\n",
    "\n",
    "x | y\n",
    "# Does a \"bitwise or\". Each bit of the output is 0 if the corresponding bit of x AND of y is 0, otherwise it's 1.\n",
    "\n",
    "~ x\n",
    "# Returns the complement of x - the number you get by switching each 1 for a 0 and each 0 for a 1. \n",
    "#This is the same as -x - 1.\n",
    "\n",
    "x ^ y\n",
    "# Does a \"bitwise exclusive or\". \n",
    "# Each bit of the output is the same as the corresponding bit in x if that bit in y is 0, \n",
    "# and it's the complement of the bit in x if that bit in y is 1."
   ]
  },
  {
   "cell_type": "code",
   "execution_count": 17,
   "metadata": {
    "collapsed": false
   },
   "outputs": [
    {
     "name": "stdout",
     "output_type": "stream",
     "text": [
      "4\n",
      "8\n",
      "6\n",
      "12\n"
     ]
    }
   ],
   "source": [
    "# *\n",
    "print 2 << 1\n",
    "print 2 << 2\n",
    "print 3 << 1 #11 -> 110\n",
    "print 3 << 2 #11 -> 1100"
   ]
  },
  {
   "cell_type": "code",
   "execution_count": 9,
   "metadata": {
    "collapsed": false
   },
   "outputs": [
    {
     "name": "stdout",
     "output_type": "stream",
     "text": [
      "1\n",
      "0\n",
      "1\n",
      "0\n",
      "0\n"
     ]
    }
   ],
   "source": [
    "print 2 >> 1 # 10 -> 1\n",
    "print 2 >> 2 # 10 -> 0\n",
    "print 3 >> 1 # 11 -> 1\n",
    "print 3 >> 2 # 11 -> 0\n",
    "print 3 >> 3 "
   ]
  },
  {
   "cell_type": "code",
   "execution_count": 15,
   "metadata": {
    "collapsed": false
   },
   "outputs": [
    {
     "name": "stdout",
     "output_type": "stream",
     "text": [
      "3\n",
      "1\n",
      "0\n",
      "11\n"
     ]
    }
   ],
   "source": [
    "print (3 | 3) \n",
    "print 1 | 0\n",
    "print 0 | 0\n",
    "print 10 | 1"
   ]
  },
  {
   "cell_type": "code",
   "execution_count": 19,
   "metadata": {
    "collapsed": false
   },
   "outputs": [
    {
     "name": "stdout",
     "output_type": "stream",
     "text": [
      "-2\n",
      "-3\n"
     ]
    }
   ],
   "source": [
    "print ~1\n",
    "print ~2"
   ]
  },
  {
   "cell_type": "markdown",
   "metadata": {},
   "source": [
    "# 1. [Single Number | 136](https://leetcode.com/problems/single-number/) "
   ]
  },
  {
   "cell_type": "markdown",
   "metadata": {},
   "source": [
    "Given an array of integers, every element appears twice except for one. Find that single one.\n",
    "\n",
    "Note:\n",
    "\n",
    "Your algorithm should have a linear runtime complexity. Could you implement it without using extra memory?"
   ]
  },
  {
   "cell_type": "markdown",
   "metadata": {},
   "source": [
    "11223344556677998"
   ]
  },
  {
   "cell_type": "markdown",
   "metadata": {},
   "source": [
    "## Solution"
   ]
  },
  {
   "cell_type": "code",
   "execution_count": 4,
   "metadata": {
    "collapsed": true
   },
   "outputs": [],
   "source": [
    "# Time: O(n)\n",
    "# Space: O(1)\n",
    "\n",
    "import operator\n",
    "\n",
    "class Solution:\n",
    "    \"\"\"\n",
    "    :type nums: List[int]\n",
    "    :rtype: int\n",
    "    \"\"\"\n",
    "    def singleNumber(self, A):\n",
    "        return reduce(operator.xor, A)"
   ]
  },
  {
   "cell_type": "code",
   "execution_count": 5,
   "metadata": {
    "collapsed": false
   },
   "outputs": [
    {
     "name": "stdout",
     "output_type": "stream",
     "text": [
      "3\n"
     ]
    }
   ],
   "source": [
    "print Solution().singleNumber([1, 1, 2, 2, 3])"
   ]
  },
  {
   "cell_type": "markdown",
   "metadata": {},
   "source": [
    "## Notes"
   ]
  },
  {
   "cell_type": "markdown",
   "metadata": {},
   "source": [
    "![xor](https://qph.ec.quoracdn.net/main-qimg-34d7978b148d59403400f74dce46e8d2)"
   ]
  },
  {
   "cell_type": "markdown",
   "metadata": {},
   "source": [
    "x^x = 0, x^0 = x\n",
    "\n",
    "1^1^0 = 0 = 1^0^1\n",
    "\n",
    "(2^1^4^5^2^4^1) => ((2^2)^(1^1)^(4^4)^(5)) => (0^0^0^5) => 5\n",
    "\n",
    "- [Notes](http://www.powerxing.com/leetcode-single-number/)"
   ]
  },
  {
   "cell_type": "markdown",
   "metadata": {},
   "source": [
    "# 2. [Single Number II | 137](https://leetcode.com/problems/single-number-ii/)"
   ]
  },
  {
   "cell_type": "markdown",
   "metadata": {},
   "source": [
    "Given an array of integers, every element appears three times except for one, which appears exactly once. \n",
    "\n",
    "Find that single one.\n",
    "\n",
    "Note:\n",
    "\n",
    "Your algorithm should have a linear runtime complexity. Could you implement it without using extra memory?"
   ]
  },
  {
   "cell_type": "markdown",
   "metadata": {},
   "source": [
    "e.g. 1112223334"
   ]
  },
  {
   "cell_type": "markdown",
   "metadata": {},
   "source": [
    "## Solution"
   ]
  },
  {
   "cell_type": "code",
   "execution_count": null,
   "metadata": {
    "collapsed": true
   },
   "outputs": [],
   "source": [
    "# Time:  O(n)\n",
    "# Space: O(1)\n",
    "\n",
    "class Solution:\n",
    "    # @param A, a list of integer\n",
    "    # @return an integer\n",
    "    def singleNumber(self, A):\n",
    "        one = 0; two = 0; three = 0\n",
    "        for i in range(len(A)):\n",
    "            two |= A[i] & one              #two为1时，不管A[i]为什么，two都为1\n",
    "            one = A[i] ^ one               #异或操作，都是1就进位\n",
    "            three = ~(one & two)　　　　    #以下三步的意思是：如果one和two都为1时，就清0，反之则保持原来状态。\n",
    "            one &= three\n",
    "            two &= three\n",
    "        return one\n"
   ]
  },
  {
   "cell_type": "code",
   "execution_count": null,
   "metadata": {
    "collapsed": true
   },
   "outputs": [],
   "source": [
    "Q：我可不可设计一个遇到三个1就恢复到0的计算方式呢？\n",
    "\n",
    "就像模拟进位的操作，满了就进位,满3进位，同时初始化，重新开始。\n",
    "一个1表示，三个1清零。\n",
    "用个位表示结果。\n",
    "有三个状态需要表示，存在 one, two， three 个1\n",
    "三个状态需要2位， 00，\n",
    "\n",
    "01 -> 01 -> 10 -> 00  \n",
    "\n",
    "1011\n",
    "0001\n",
    "-----\n",
    "1100\n",
    "\n",
    "value:xor\n",
    "carry:&\n",
    "    \n",
    "\n",
    "\n",
    "\n",
    "1110\n",
    "1110\n",
    "1110\n",
    "1001\n",
    "-----\n",
    "1001\n",
    "\n",
    "\n",
    "\n",
    "5. 正值表\n",
    "two one \n",
    "\n",
    "设计三进制; 设计一下状态机\n",
    "111101\n",
    "111100\n",
    "val  = 不同为真\n",
    "car = 同真为真\n",
    "\n",
    "设计五进制"
   ]
  },
  {
   "cell_type": "code",
   "execution_count": null,
   "metadata": {
    "collapsed": true
   },
   "outputs": [],
   "source": [
    "\n",
    "class Solution:\n",
    "    \"\"\"\n",
    "\t@param A : An integer array\n",
    "\t@return : An integer\n",
    "    \"\"\"\n",
    "    def singleNumberII(self, A):\n",
    "        # write your code here\n",
    "        n = len(A)\n",
    "        d = [0 for i in xrange(32)]\n",
    "        for x in A:\n",
    "            for j in xrange(32):\n",
    "                if ( ((1 << j) & x) > 0):\n",
    "                    d[j] += 1\n",
    "        ans = 0\n",
    "        for j in xrange(32):\n",
    "            t = d[j] % 3\n",
    "            if (t == 1):\n",
    "                ans  = ans + (1 << j)\n",
    "            elif (t != 0):\n",
    "                return -1\n",
    "        return ans"
   ]
  },
  {
   "cell_type": "markdown",
   "metadata": {},
   "source": [
    "# Notes "
   ]
  },
  {
   "cell_type": "code",
   "execution_count": null,
   "metadata": {
    "collapsed": true
   },
   "outputs": [],
   "source": [
    "由于x^x^x = x, 可以转换思路。\n",
    "\n",
    "[14 14 14 9]\n",
    "\n",
    "1110\n",
    "1110\n",
    "1110\n",
    "1001\n",
    "_____\n",
    "4331    对每一位进行求和\n",
    "1001    对每一位的和做%3运算，来消去所有重复3次的数\n"
   ]
  },
  {
   "cell_type": "markdown",
   "metadata": {},
   "source": [
    "http://www.jianshu.com/p/758e799614b2\n",
    "\n",
    "http://www.cnblogs.com/zuoyuan/p/3719753.html"
   ]
  },
  {
   "cell_type": "markdown",
   "metadata": {},
   "source": [
    "# 3. |190 | [Reverse Bits | 190](https://leetcode.com/problems/reverse-bits/) "
   ]
  },
  {
   "cell_type": "markdown",
   "metadata": {},
   "source": [
    "Reverse bits of a given 32 bits unsigned integer.\n",
    "\n",
    "For example, given input 43261596 (represented in binary as 00000010100101000001111010011100), \n",
    "\n",
    "return 964176192 (represented in binary as 00111001011110000010100101000000).\n",
    "\n",
    "Follow up:\n",
    "\n",
    "If this function is called many times, how would you optimize it?\n",
    "\n",
    "Related problem: Reverse Integer"
   ]
  },
  {
   "cell_type": "code",
   "execution_count": null,
   "metadata": {
    "collapsed": true
   },
   "outputs": [],
   "source": [
    "class Solution:\n",
    "    # @param n, an integer\n",
    "    # @return an integer\n",
    "    def reverseBits(self, n):\n",
    "        result = 0\n",
    "        for i in xrange(32):\n",
    "            result <<= 1\n",
    "            result |= n & 1\n",
    "            n >>= 1\n",
    "        return result"
   ]
  },
  {
   "cell_type": "markdown",
   "metadata": {},
   "source": [
    "# 4. [Number of 1 Bits | 191](https://leetcode.com/problems/number-of-1-bits/)"
   ]
  },
  {
   "cell_type": "markdown",
   "metadata": {},
   "source": [
    "Write a function that takes an unsigned integer and returns the number of ’1' bits it has (also known as the Hamming weight).\n",
    "\n",
    "For example, the 32-bit integer ’11' has binary representation 00000000000000000000000000001011, so the function should return 3."
   ]
  },
  {
   "cell_type": "code",
   "execution_count": null,
   "metadata": {
    "collapsed": true
   },
   "outputs": [],
   "source": [
    "class Solution:\n",
    "    # @param n, an integer\n",
    "    # @return an integer\n",
    "    def hammingWeight(self, n):\n",
    "        result = 0\n",
    "        while n:\n",
    "            n &= n - 1\n",
    "            result += 1\n",
    "        return result"
   ]
  },
  {
   "cell_type": "markdown",
   "metadata": {},
   "source": [
    "# 5. [Bitwise AND of Numbers Range | 201](https://leetcode.com/problems/bitwise-and-of-numbers-range/)"
   ]
  },
  {
   "cell_type": "markdown",
   "metadata": {},
   "source": [
    "Given a range [m, n] where 0 <= m <= n <= 2147483647, return the bitwise AND of all numbers in this range, inclusive.\n",
    "\n",
    "For example, given the range [5, 7], you should return 4."
   ]
  },
  {
   "cell_type": "code",
   "execution_count": null,
   "metadata": {
    "collapsed": true
   },
   "outputs": [],
   "source": [
    "class Solution:\n",
    "    # @param m, an integer\n",
    "    # @param n, an integer\n",
    "    # @return an integer\n",
    "    def rangeBitwiseAnd(self, m, n):\n",
    "        while m < n:\n",
    "            n &= n - 1\n",
    "        return n"
   ]
  },
  {
   "cell_type": "markdown",
   "metadata": {},
   "source": [
    "# 6. [Power of Two | 231 ](https://leetcode.com/problems/power-of-two/)"
   ]
  },
  {
   "cell_type": "markdown",
   "metadata": {},
   "source": [
    "Given an integer, write a function to determine if it is a power of two."
   ]
  },
  {
   "cell_type": "code",
   "execution_count": null,
   "metadata": {
    "collapsed": true
   },
   "outputs": [],
   "source": [
    "class Solution:\n",
    "    # @param {integer} n\n",
    "    # @return {boolean}\n",
    "    def isPowerOfTwo(self, n):\n",
    "        return n > 0 and (n & (n - 1)) == 0"
   ]
  },
  {
   "cell_type": "markdown",
   "metadata": {},
   "source": [
    "# 7. [Single Number III | 260](https://leetcode.com/problems/single-number-iii/)"
   ]
  },
  {
   "cell_type": "markdown",
   "metadata": {},
   "source": [
    "Given an array of numbers nums, in which exactly two elements appear only once and all the other elements appear exactly twice. Find the two elements that appear only once.\n",
    "\n",
    "For example:\n",
    "\n",
    "Given nums = [1, 2, 1, 3, 2, 5], return [3, 5].\n",
    "\n",
    "Note:\n",
    "The order of the result is not important. So in the above example, [5, 3] is also correct.\n",
    "Your algorithm should run in linear runtime complexity. Could you implement it using only constant space complexity?"
   ]
  },
  {
   "cell_type": "code",
   "execution_count": null,
   "metadata": {
    "collapsed": true
   },
   "outputs": [],
   "source": [
    "# Time:  O(n)\n",
    "# Space: O(1)\n",
    "\n",
    "class Solution:\n",
    "    # @param {integer[]} nums\n",
    "    # @return {integer[]}\n",
    "    def singleNumber(self, nums):\n",
    "        xor = reduce(operator.xor, nums)\n",
    "        ans = reduce(operator.xor, filter(lambda x : x & xor & -xor, nums))\n",
    "        return [ans, ans ^ xor]"
   ]
  },
  {
   "cell_type": "code",
   "execution_count": null,
   "metadata": {
    "collapsed": true
   },
   "outputs": [],
   "source": [
    "http://bookshadow.com/weblog/2015/08/17/leetcode-single-number-iii/"
   ]
  },
  {
   "cell_type": "markdown",
   "metadata": {},
   "source": [
    "与以上两题不同的是，这道题有两个数只出现一次。基本的思路还是利用位运算，除去出现次数为2次的数。\n",
    "\n",
    "如果对所有元素进行异或操作，最后剩余的结果是出现次数为1次的两个数的异或结果，此时无法直接得到这两个数具体的值。但是，因为这两个数一定是不同的，所以最终异或的值至少有一个位为1。我们可以找出异或结果中第一个值为1的位，然后根据该位的值是否为1，将数组中的每一个数，分成两个部分。这样每个部分，就可以采用Sing number I中的方法得到只出现一次的数。\n",
    "\n",
    "-- http://www.wengweitao.com/lintcode-single-number-i-ii-iii-luo-dan-de-shu.html"
   ]
  },
  {
   "cell_type": "code",
   "execution_count": null,
   "metadata": {
    "collapsed": true
   },
   "outputs": [],
   "source": [
    "http://fisherlei.blogspot.com/2015/10/leetcode-single-number-iii-solution.html\n",
    "    \n",
    "http://bookshadow.com/weblog/2015/08/17/leetcode-single-number-iii/\n",
    "    \n",
    "https://www.kancloud.cn/kancloud/data-structure-and-algorithm-notes/72983"
   ]
  },
  {
   "cell_type": "markdown",
   "metadata": {},
   "source": [
    "# 8. [Missing Number | 268](https://leetcode.com/problems/missing-number/)"
   ]
  },
  {
   "cell_type": "markdown",
   "metadata": {},
   "source": [
    "Given an array containing n distinct numbers taken from 0, 1, 2, ..., n, find the one that is missing from the array.\n",
    "\n",
    "For example,\n",
    "\n",
    "Given nums = [0, 1, 3] return 2.\n",
    "\n",
    "Note:\n",
    "\n",
    "Your algorithm should run in linear runtime complexity. Could you implement it using only constant extra space complexity?"
   ]
  },
  {
   "cell_type": "code",
   "execution_count": null,
   "metadata": {
    "collapsed": true
   },
   "outputs": [],
   "source": [
    "class Solution(object):\n",
    "    def missingNumber(self, nums):\n",
    "        \"\"\"\n",
    "        :type nums: List[int]\n",
    "        :rtype: int\n",
    "        \"\"\"\n",
    "        return reduce(operator.xor, nums, \\\n",
    "                      reduce(operator.xor, xrange(len(nums) + 1)))\n"
   ]
  },
  {
   "cell_type": "code",
   "execution_count": null,
   "metadata": {
    "collapsed": true
   },
   "outputs": [],
   "source": [
    "class Solution2(object):\n",
    "    def missingNumber(self, nums):\n",
    "        return sum(xrange(len(nums)+1)) - sum(nums)"
   ]
  },
  {
   "cell_type": "markdown",
   "metadata": {},
   "source": [
    "# 9. [Maximum Product of Word Lengths | 318 ](https://leetcode.com/problems/maximum-product-of-word-lengths/)"
   ]
  },
  {
   "cell_type": "markdown",
   "metadata": {},
   "source": [
    "Given a string array words, find the maximum value of length(word[i]) * length(word[j]) where the two words do not share common letters. You may assume that each word will contain only lower case letters. If no such two words exist, return 0.\n",
    "\n",
    "Example 1:\n",
    "\n",
    "Given [\"abcw\", \"baz\", \"foo\", \"bar\", \"xtfn\", \"abcdef\"]\n",
    "\n",
    "Return 16\n",
    "\n",
    "The two words can be \"abcw\", \"xtfn\".\n",
    "\n",
    "Example 2:\n",
    "\n",
    "Given [\"a\", \"ab\", \"abc\", \"d\", \"cd\", \"bcd\", \"abcd\"]\n",
    "\n",
    "Return 4\n",
    "\n",
    "The two words can be \"ab\", \"cd\".\n",
    "\n",
    "Example 3:\n",
    "\n",
    "Given [\"a\", \"aa\", \"aaa\", \"aaaa\"]\n",
    "\n",
    "Return 0\n",
    "\n",
    "No such pair of words."
   ]
  },
  {
   "cell_type": "markdown",
   "metadata": {},
   "source": [
    "# 10. [Power of Four | 342 ](https://leetcode.com/problems/power-of-four/) "
   ]
  },
  {
   "cell_type": "markdown",
   "metadata": {},
   "source": [
    "Given an integer (signed 32 bits), write a function to check whether it is a power of 4.\n",
    "\n",
    "Example:\n",
    "\n",
    "Given num = 16, return true. Given num = 5, return false.\n",
    "\n",
    "Follow up: \n",
    "\n",
    "Could you solve it without loops/recursion?"
   ]
  },
  {
   "cell_type": "code",
   "execution_count": null,
   "metadata": {
    "collapsed": true
   },
   "outputs": [],
   "source": [
    "class Solution(object):\n",
    "    def isPowerOfFour(self, num):\n",
    "        \"\"\"\n",
    "        :type num: int\n",
    "        :rtype: bool\n",
    "        \"\"\"\n",
    "        return num > 0 and (num & (num - 1)) == 0 and \\\n",
    "               ((num & 0b01010101010101010101010101010101) == num)"
   ]
  },
  {
   "cell_type": "markdown",
   "metadata": {},
   "source": [
    "# 11. |371 | [Sum of Two Integers](https://leetcode.com/problems/sum-of-two-integers/)"
   ]
  },
  {
   "cell_type": "code",
   "execution_count": null,
   "metadata": {
    "collapsed": true
   },
   "outputs": [],
   "source": [
    "Calculate the sum of two integers a and b, but you are not allowed to use the operator + and -.\n",
    "\n",
    "Example:\n",
    "Given a = 1 and b = 2, return 3."
   ]
  },
  {
   "cell_type": "code",
   "execution_count": null,
   "metadata": {
    "collapsed": true
   },
   "outputs": [],
   "source": [
    "# Time:  O(1)\n",
    "# Space: O(1)\n",
    "\n",
    "class Solution(object):\n",
    "    def getSum(self, a, b):\n",
    "        \"\"\"\n",
    "        :type a: int\n",
    "        :type b: int\n",
    "        :rtype: int\n",
    "        \"\"\"\n",
    "        bit_length = 32\n",
    "        neg_bit = (1 << bit_length) >> 1\n",
    "        mask = ~(~0 << bit_length)\n",
    "        \n",
    "        a = (a  | ~mask) if (a & neg_bit) else (a & mask)\n",
    "        b = (b  | ~mask) if (b & neg_bit) else (b & mask)\n",
    "        \n",
    "        "
   ]
  },
  {
   "cell_type": "code",
   "execution_count": 40,
   "metadata": {
    "collapsed": true
   },
   "outputs": [],
   "source": [
    "class Solution(object):\n",
    "    def getSum(self, a, b):\n",
    "        \"\"\"\n",
    "        :type a: int\n",
    "        :type b: int\n",
    "        :rtype: int\n",
    "        \"\"\"\n",
    "        if b == 0:\n",
    "            return a \n",
    "        sum2 = a ^ b\n",
    "        carry = (a & b) << 1\n",
    "        return self.getSum(sum2, carry)"
   ]
  },
  {
   "cell_type": "code",
   "execution_count": 41,
   "metadata": {
    "collapsed": false
   },
   "outputs": [
    {
     "name": "stdout",
     "output_type": "stream",
     "text": [
      "101\n"
     ]
    }
   ],
   "source": [
    "print Solution().getSum(100,1)"
   ]
  },
  {
   "cell_type": "code",
   "execution_count": 34,
   "metadata": {
    "collapsed": false,
    "scrolled": true
   },
   "outputs": [
    {
     "name": "stdout",
     "output_type": "stream",
     "text": [
      "2147483648 0b10000000000000000000000000000000\n",
      "4294967295 0b11111111111111111111111111111111\n",
      "-4294967296 -0b100000000000000000000000000000000\n",
      "0b1\n",
      "0b0\n",
      "0b1000\n",
      "32\n"
     ]
    }
   ],
   "source": [
    "bit_length = 32\n",
    "neg_bit = (1 << bit_length) >> 1\n",
    "mask = ~(~ 0 << bit_length)\n",
    "print neg_bit, bin(neg_bit)\n",
    "print mask, bin(mask)\n",
    "print ~mask, bin(~mask)\n",
    "print bin(1|1)\n",
    "print bin(1^1)\n",
    "print bin((1 << 4) >> 1)\n",
    "a = '11111111111111111111111111111111'\n",
    "print(len(a))"
   ]
  },
  {
   "cell_type": "markdown",
   "metadata": {
    "collapsed": true
   },
   "source": [
    "## Notes"
   ]
  },
  {
   "cell_type": "code",
   "execution_count": null,
   "metadata": {
    "collapsed": true
   },
   "outputs": [],
   "source": [
    "http://blog.csdn.net/cloudox_/article/details/52448066"
   ]
  },
  {
   "cell_type": "markdown",
   "metadata": {},
   "source": [
    "# 12. |389 | [Find the Difference](https://leetcode.com/problems/find-the-difference/)"
   ]
  },
  {
   "cell_type": "code",
   "execution_count": 42,
   "metadata": {
    "collapsed": false
   },
   "outputs": [
    {
     "ename": "SyntaxError",
     "evalue": "invalid syntax (<ipython-input-42-e3b5cce20e7e>, line 1)",
     "output_type": "error",
     "traceback": [
      "\u001b[0;36m  File \u001b[0;32m\"<ipython-input-42-e3b5cce20e7e>\"\u001b[0;36m, line \u001b[0;32m1\u001b[0m\n\u001b[0;31m    Given two strings s and t which consist of only lowercase letters.\u001b[0m\n\u001b[0m            ^\u001b[0m\n\u001b[0;31mSyntaxError\u001b[0m\u001b[0;31m:\u001b[0m invalid syntax\n"
     ]
    }
   ],
   "source": [
    "Given two strings s and t which consist of only lowercase letters.\n",
    "\n",
    "String t is generated by random shuffling string s and then add one more letter at a random position.\n",
    "\n",
    "Find the letter that was added in t.\n",
    "\n",
    "Example:\n",
    "\n",
    "Input:\n",
    "s = \"abcd\"\n",
    "t = \"abcde\"\n",
    "\n",
    "Output:\n",
    "e\n",
    "\n",
    "Explanation:\n",
    "'e' is the letter that was added."
   ]
  },
  {
   "cell_type": "markdown",
   "metadata": {},
   "source": [
    "## Solution1"
   ]
  },
  {
   "cell_type": "code",
   "execution_count": 46,
   "metadata": {
    "collapsed": true
   },
   "outputs": [],
   "source": [
    "# Time:  O(n)\n",
    "# Space: O(1)\n",
    "\n",
    "import operator\n",
    "\n",
    "class Solution(object):\n",
    "    def findTheDifference(self, s, t):\n",
    "        \"\"\"\n",
    "        :type s: str\n",
    "        :type t: str\n",
    "        :rtype: str\n",
    "        \"\"\"\n",
    "        return chr( reduce(operator.xor, map(ord,s), 0) ^ reduce(operator.xor, map(ord,t),0) )"
   ]
  },
  {
   "cell_type": "markdown",
   "metadata": {},
   "source": [
    "## Solution2"
   ]
  },
  {
   "cell_type": "code",
   "execution_count": null,
   "metadata": {
    "collapsed": true
   },
   "outputs": [],
   "source": [
    "class Solution(object):\n",
    "    def findTheDifference(self, s, t):\n",
    "        \"\"\"\n",
    "        :type s: str\n",
    "        :type t: str\n",
    "        :rtype: str\n",
    "        \"\"\"\n",
    "        code = 0\n",
    "        for ch in s + t:\n",
    "            code ^= ord(ch)\n",
    "        return chr(code)"
   ]
  },
  {
   "cell_type": "code",
   "execution_count": 47,
   "metadata": {
    "collapsed": false
   },
   "outputs": [
    {
     "name": "stdout",
     "output_type": "stream",
     "text": [
      "y\n"
     ]
    }
   ],
   "source": [
    "print Solution().findTheDifference('','y')"
   ]
  },
  {
   "cell_type": "markdown",
   "metadata": {},
   "source": [
    "# 13. |393 | [UTF-8 Validation](https://leetcode.com/problems/utf-8-validation/)"
   ]
  },
  {
   "cell_type": "code",
   "execution_count": null,
   "metadata": {
    "collapsed": true
   },
   "outputs": [],
   "source": [
    "A character in UTF8 can be from 1 to 4 bytes long, subjected to the following rules:\n",
    "\n",
    "For 1-byte character, the first bit is a 0, followed by its unicode code.\n",
    "For n-bytes character, the first n-bits are all one's, the n+1 bit is 0, \n",
    "followed by n-1 bytes with most significant 2 bits being 10.\n",
    "This is how the UTF-8 encoding would work:\n",
    "\n",
    "   Char. number range  |        UTF-8 octet sequence\n",
    "      (hexadecimal)    |              (binary)\n",
    "   --------------------+---------------------------------------------\n",
    "   0000 0000-0000 007F | 0xxxxxxx\n",
    "   0000 0080-0000 07FF | 110xxxxx 10xxxxxx\n",
    "   0000 0800-0000 FFFF | 1110xxxx 10xxxxxx 10xxxxxx\n",
    "   0001 0000-0010 FFFF | 11110xxx 10xxxxxx 10xxxxxx 10xxxxxx\n",
    "Given an array of integers representing the data, return whether it is a valid utf-8 encoding.\n",
    "\n",
    "Note:\n",
    "The input is an array of integers. Only the least significant 8 bits of each integer is used to store the data. \n",
    "This means each integer represents only 1 byte of data.\n",
    "\n",
    "Example 1:\n",
    "\n",
    "data = [197, 130, 1], which represents the octet sequence: 11000101 10000010 00000001.\n",
    "\n",
    "Return true.\n",
    "It is a valid utf-8 encoding for a 2-bytes character followed by a 1-byte character.\n",
    "Example 2:\n",
    "\n",
    "data = [235, 140, 4], which represented the octet sequence: 11101011 10001100 00000100.\n",
    "\n",
    "Return false.\n",
    "The first 3 bits are all one's and the 4th bit is 0 means it is a 3-bytes character.\n",
    "The next byte is a continuation byte which starts with 10 and that's correct.\n",
    "But the second continuation byte does not start with 10, so it is invalid."
   ]
  },
  {
   "cell_type": "code",
   "execution_count": null,
   "metadata": {
    "collapsed": true
   },
   "outputs": [],
   "source": []
  },
  {
   "cell_type": "markdown",
   "metadata": {},
   "source": [
    "# 14. |401 | [Binary Watch](https://leetcode.com/problems/binary-watch/)"
   ]
  },
  {
   "cell_type": "markdown",
   "metadata": {},
   "source": [
    "# 15. |411 | [Minimum Unique Word Abbreviation](https://leetcode.com/problems/minimum-unique-word-abbreviation/)"
   ]
  },
  {
   "cell_type": "markdown",
   "metadata": {},
   "source": [
    "# 16. |421 | [Maximum XOR of Two Numbers in an Array](https://leetcode.com/problems/maximum-xor-of-two-numbers-in-an-array/)"
   ]
  },
  {
   "cell_type": "markdown",
   "metadata": {},
   "source": [
    "# 17. |461 | [Hamming Distance](https://leetcode.com/problems/hamming-distance/)"
   ]
  },
  {
   "cell_type": "markdown",
   "metadata": {},
   "source": [
    "# 18. |462 | [Minimum Moves to Equal Array Elements II](https://leetcode.com/problems/minimum-moves-to-equal-array-elements-ii/)"
   ]
  },
  {
   "cell_type": "markdown",
   "metadata": {},
   "source": [
    "# 19. |477 | [Total Hamming Distance](https://leetcode.com/problems/total-hamming-distance/)"
   ]
  }
 ],
 "metadata": {
  "kernelspec": {
   "display_name": "Python 2",
   "language": "python",
   "name": "python2"
  },
  "language_info": {
   "codemirror_mode": {
    "name": "ipython",
    "version": 2
   },
   "file_extension": ".py",
   "mimetype": "text/x-python",
   "name": "python",
   "nbconvert_exporter": "python",
   "pygments_lexer": "ipython2",
   "version": "2.7.13"
  }
 },
 "nbformat": 4,
 "nbformat_minor": 0
}
