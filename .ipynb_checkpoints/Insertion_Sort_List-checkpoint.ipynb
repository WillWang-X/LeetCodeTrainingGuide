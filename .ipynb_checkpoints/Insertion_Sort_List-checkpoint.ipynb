{
 "cells": [
  {
   "cell_type": "markdown",
   "metadata": {},
   "source": [
    "# 147. Insertion Sort List"
   ]
  },
  {
   "cell_type": "markdown",
   "metadata": {},
   "source": [
    "Sort a linked list using insertion sort.\n",
    "\n",
    "\n",
    "Given 1->3->2->0->null, return 0->1->2->3->null"
   ]
  },
  {
   "cell_type": "markdown",
   "metadata": {},
   "source": [
    "## Solution1"
   ]
  },
  {
   "cell_type": "code",
   "execution_count": 6,
   "metadata": {
    "collapsed": true
   },
   "outputs": [],
   "source": [
    "# Time: O(n^2)\n",
    "# Space: O(1)\n",
    "\n",
    "\n",
    "class ListNode:\n",
    "    def __init__(self, x):\n",
    "        self.val = x\n",
    "        self.next = None\n",
    "    \n",
    "    def __repr__(self):\n",
    "        if self:\n",
    "            return \"{} -> {}\".format(self.val, repr(self.next))\n",
    "        else:\n",
    "            return \"Nil\"\n",
    "\n",
    "class Solution(object):\n",
    "    def insertionSortList(self, head):\n",
    "        \"\"\"\n",
    "        :type head: ListNode\n",
    "        :rtype: ListNode\n",
    "        \"\"\"\n",
    "        if not head:\n",
    "            return head\n",
    "        \n",
    "        dummy = ListNode(0)\n",
    "        dummy.next = head\n",
    "        \n",
    "        while head and head.next:\n",
    "            if head.val <= head.next.val:\n",
    "                head = head.next \n",
    "            else:\n",
    "                cur = dummy\n",
    "                while cur.next.val < head.next.val:\n",
    "                    cur = cur.next \n",
    "                tmp = head.next \n",
    "                head.next = tmp.next \n",
    "                tmp.next = cur.next \n",
    "                cur.next = tmp \n",
    "                \n",
    "        return dummy.next \n",
    "        \n",
    "        "
   ]
  },
  {
   "cell_type": "code",
   "execution_count": 5,
   "metadata": {
    "collapsed": false
   },
   "outputs": [
    {
     "name": "stdout",
     "output_type": "stream",
     "text": [
      "[]\n"
     ]
    }
   ],
   "source": [
    "head = []\n",
    "print Solution().insertionSortList(head)"
   ]
  },
  {
   "cell_type": "markdown",
   "metadata": {},
   "source": [
    "## Solution2"
   ]
  },
  {
   "cell_type": "code",
   "execution_count": 2,
   "metadata": {
    "collapsed": false
   },
   "outputs": [
    {
     "name": "stdout",
     "output_type": "stream",
     "text": [
      "1 -> 2 -> 3 -> None\n"
     ]
    }
   ],
   "source": [
    "# Time:  O(n ^ 2)\n",
    "# Space: O(1)\n",
    "#\n",
    "# Sort a linked list using insertion sort.\n",
    "#\n",
    "\n",
    "# Definition for singly-linked list.\n",
    "class ListNode:\n",
    "    def __init__(self, x):\n",
    "        self.val = x\n",
    "        self.next = None\n",
    "    \n",
    "    def __repr__(self):\n",
    "        if self:\n",
    "            return \"{} -> {}\".format(self.val, repr(self.next))\n",
    "        else:\n",
    "            return \"Nil\"\n",
    "\n",
    "class Solution:\n",
    "    # @param head, a ListNode\n",
    "    # @return a ListNode\n",
    "    def insertionSortList(self, head):\n",
    "        if head is None or self.isSorted(head):\n",
    "            return head\n",
    "        \n",
    "        dummy = ListNode(-2147483648)\n",
    "        dummy.next = head\n",
    "        cur, sorted_tail = head.next, head\n",
    "        while cur:\n",
    "            prev = dummy\n",
    "            while prev.next.val < cur.val:\n",
    "                prev = prev.next\n",
    "            if prev == sorted_tail:\n",
    "                cur, sorted_tail = cur.next, cur  \n",
    "            else:\n",
    "                cur.next, prev.next, sorted_tail.next = prev.next, cur, cur.next\n",
    "                cur = sorted_tail.next\n",
    "                \n",
    "        return dummy.next\n",
    "    \n",
    "    def isSorted(self, head):\n",
    "        while head and head.next:\n",
    "            if head.val > head.next.val:\n",
    "                return False\n",
    "            head = head.next\n",
    "        return True\n",
    "\n",
    "if __name__ == \"__main__\":\n",
    "    head = ListNode(3)\n",
    "    head.next = ListNode(2)\n",
    "    head.next.next = ListNode(1)\n",
    "    print Solution().insertionSortList(head)\n"
   ]
  },
  {
   "cell_type": "markdown",
   "metadata": {},
   "source": [
    "## Solution3"
   ]
  },
  {
   "cell_type": "code",
   "execution_count": null,
   "metadata": {
    "collapsed": true
   },
   "outputs": [],
   "source": [
    "class ListNode:\n",
    "    def __init__(self, x):\n",
    "        self.val = x\n",
    "        self.next = None\n",
    "    \n",
    "    def __repr__(self):\n",
    "        if self:\n",
    "            return \"{} -> {}\".format(self.val, repr(self.next))\n",
    "        else:\n",
    "            return \"Nil\"\n",
    "\n",
    "class Solution:\n",
    "    # @param head, a ListNode\n",
    "    # @return a ListNode\n",
    "    def insertionSortList(self, head):\n",
    "        if not head:\n",
    "            return head\n",
    "        dummy = ListNode(0)\n",
    "        dummy.next = head\n",
    "        \n",
    "        while head and head.next:\n",
    "            if head.val <= head.next.val:\n",
    "                head = head.next \n",
    "            else:\n",
    "                cur = dummy \n",
    "                while cur.next.val < head.next.val:\n",
    "                    cur = cur.next\n",
    "                tmp = head.next \n",
    "                head.next = tmp.next\n",
    "                tmp.next = cur.next \n",
    "                cur.next = tmp\n",
    "        return dummy.next\n",
    "        \n",
    "if __name__ == \"__main__\":\n",
    "    head = ListNode(1)\n",
    "    head.next = ListNode(2)\n",
    "    head.next.next = ListNode(6)\n",
    "    head.next.next.next = ListNode(3)\n",
    "    head.next.next.next.next = ListNode(4)\n",
    "    print Solution().insertionSortList(head)\n"
   ]
  },
  {
   "cell_type": "markdown",
   "metadata": {},
   "source": [
    "## Notes"
   ]
  },
  {
   "cell_type": "markdown",
   "metadata": {},
   "source": [
    "- http://interactivepython.org/courselib/static/pythonds/SortSearch/TheInsertionSort.html \n",
    "- http://www.jiuzhang.com/solutions/insertion-sort-list/\n",
    "- https://goo.gl/N4UymG visulization"
   ]
  },
  {
   "cell_type": "code",
   "execution_count": null,
   "metadata": {
    "collapsed": true
   },
   "outputs": [],
   "source": []
  }
 ],
 "metadata": {
  "kernelspec": {
   "display_name": "Python 2",
   "language": "python",
   "name": "python2"
  },
  "language_info": {
   "codemirror_mode": {
    "name": "ipython",
    "version": 2
   },
   "file_extension": ".py",
   "mimetype": "text/x-python",
   "name": "python",
   "nbconvert_exporter": "python",
   "pygments_lexer": "ipython2",
   "version": "2.7.13"
  }
 },
 "nbformat": 4,
 "nbformat_minor": 0
}
