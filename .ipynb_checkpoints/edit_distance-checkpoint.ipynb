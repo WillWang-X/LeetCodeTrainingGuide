{
 "cells": [
  {
   "cell_type": "markdown",
   "metadata": {},
   "source": [
    "# 72. Edit Distance"
   ]
  },
  {
   "cell_type": "markdown",
   "metadata": {},
   "source": [
    "Given two words word1 and word2, find the minimum number of steps required to convert word1 to word2. (each operation is counted as 1 step.)\n",
    "\n",
    "You have the following 3 operations permitted on a word:\n",
    "\n",
    "- a) Insert a character\n",
    "- b) Delete a character\n",
    "- c) Replace a character"
   ]
  },
  {
   "cell_type": "markdown",
   "metadata": {},
   "source": [
    "## Solution1"
   ]
  },
  {
   "cell_type": "code",
   "execution_count": 57,
   "metadata": {
    "collapsed": false
   },
   "outputs": [],
   "source": [
    "# Edit Distance\n",
    "# Time: ?O  # There is one case that I don't pass\n",
    "# Space:\n",
    "\n",
    "class Solution(object):\n",
    "    def minDistance(self, word1, word2):\n",
    "        \"\"\"\n",
    "        :type word1: str\n",
    "        :type word2: str\n",
    "        :rtype: int\n",
    "        \"\"\"\n",
    "        m = len(word1)\n",
    "        n = len(word2)\n",
    "        \n",
    "        dist = [ [0 for i in range(n+1)] for j in range(m+1)]\n",
    "        \n",
    "        for i in range(1,n+1):\n",
    "            dist[0][i] = i\n",
    "        for j in range(1,m+1):\n",
    "            dist[j][0] = j\n",
    "            \n",
    "#         print(dist)\n",
    "#         print(\"test1\")\n",
    "        for i in range(1,m+1):\n",
    "#             print('testfor')\n",
    "            for j in range(1,n+1):\n",
    "                if word1[i-1] == word2[j-1]:\n",
    "#                     print('test')\n",
    "                    dist[i][j] = dist[i-1][j-1]\n",
    "                else:\n",
    "#                     print('test!')\n",
    "                    dist[i][j] = min(dist[i-1][j] , dist[i][j-1] , dist[i-1][j-1]) + 1\n",
    "        return dist[m][n]\n",
    "    "
   ]
  },
  {
   "cell_type": "code",
   "execution_count": 58,
   "metadata": {
    "collapsed": false,
    "scrolled": true
   },
   "outputs": [
    {
     "name": "stdout",
     "output_type": "stream",
     "text": [
      "[[0, 1], [1, 0]]\n",
      "1\n"
     ]
    }
   ],
   "source": [
    "# edge cases\n",
    "# print( Solution().minDistance('','') )\n",
    "# print( Solution().minDistance('a','a') )\n",
    "#print( Solution().minDistance('a','ab') )\n",
    "print( Solution().minDistance('a','b') )"
   ]
  },
  {
   "cell_type": "markdown",
   "metadata": {},
   "source": [
    "## Solution1.1"
   ]
  },
  {
   "cell_type": "code",
   "execution_count": null,
   "metadata": {
    "collapsed": true
   },
   "outputs": [],
   "source": [
    "# Edit Distance\n",
    "# Time:\n",
    "# Space:\n",
    "\n",
    "class Solution(object):\n",
    "    def minDistance(self, word1, word2):\n",
    "        \"\"\"\n",
    "        :type word1: str\n",
    "        :type word2: str\n",
    "        :rtype: int\n",
    "        \"\"\"\n",
    "        m = len(word1)\n",
    "        n = len(word2)\n",
    "        \n",
    "        dist = [[0 for i in range(n+1)] for j in range(m+1)]\n",
    "        \n",
    "        for i in range(1,n+1):\n",
    "            dist[0][i] = i\n",
    "        for j in range(1,m+1):\n",
    "            dist[j][0] = j\n",
    "            \n",
    "        for i in range(1,m+1):\n",
    "            for j in range(1,n+1):\n",
    "                insert = dist[i-1][j] + 1\n",
    "                delete = dist[i][j-1] + 1\n",
    "                replace = dist[i-1][j-1] \n",
    "                if word1[i-1] != word2[j-1]:\n",
    "                    replace += 1\n",
    "                dist[i][j] = min(insert , delete , replace) \n",
    "        return dist[m][n]"
   ]
  },
  {
   "cell_type": "markdown",
   "metadata": {},
   "source": [
    "## Notes"
   ]
  },
  {
   "cell_type": "code",
   "execution_count": 1,
   "metadata": {
    "collapsed": false
   },
   "outputs": [
    {
     "name": "stdout",
     "output_type": "stream",
     "text": [
      "a\n"
     ]
    }
   ],
   "source": [
    "a = \"apple\"\n",
    "print( a[0] )"
   ]
  },
  {
   "cell_type": "markdown",
   "metadata": {},
   "source": [
    "[Why do I get a Time Limit Exceeded?](https://discuss.codechef.com/questions/7585/why-do-i-get-a-time-limit-exceeded)"
   ]
  },
  {
   "cell_type": "markdown",
   "metadata": {},
   "source": [
    "delete all \"print\" when you submit your code to leetcode! Even one \"print\" may let you not pass!"
   ]
  },
  {
   "cell_type": "code",
   "execution_count": null,
   "metadata": {
    "collapsed": true
   },
   "outputs": [],
   "source": []
  }
 ],
 "metadata": {
  "kernelspec": {
   "display_name": "Python 2",
   "language": "python",
   "name": "python2"
  },
  "language_info": {
   "codemirror_mode": {
    "name": "ipython",
    "version": 2
   },
   "file_extension": ".py",
   "mimetype": "text/x-python",
   "name": "python",
   "nbconvert_exporter": "python",
   "pygments_lexer": "ipython2",
   "version": "2.7.13"
  }
 },
 "nbformat": 4,
 "nbformat_minor": 0
}
