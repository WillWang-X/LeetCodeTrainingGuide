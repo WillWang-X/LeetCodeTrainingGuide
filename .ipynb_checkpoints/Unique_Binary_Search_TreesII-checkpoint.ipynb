{
 "cells": [
  {
   "cell_type": "markdown",
   "metadata": {},
   "source": [
    "# 95. Unique Binary Search Trees II ?"
   ]
  },
  {
   "cell_type": "code",
   "execution_count": 1,
   "metadata": {
    "collapsed": true
   },
   "outputs": [],
   "source": [
    "# Given an integer n, generate all structurally unique BST's (binary search trees) that store values 1...n.\n",
    "\n",
    "# For example,\n",
    "# Given n = 3, your program should return all 5 unique BST's shown below.\n",
    "\n",
    "#    1         3     3      2      1\n",
    "#     \\       /     /      / \\      \\\n",
    "#      3     2     1      1   3      2\n",
    "#     /     /       \\                 \\\n",
    "#    2     1         2                 3"
   ]
  },
  {
   "cell_type": "code",
   "execution_count": null,
   "metadata": {
    "collapsed": true
   },
   "outputs": [],
   "source": [
    "# Unique binary search tree 2\n",
    "# Time ?\n",
    "# Space ?\n",
    "\n",
    "# Definition for a binary tree node.\n",
    "# class TreeNode(object):\n",
    "#     def __init__(self, x):\n",
    "#         self.val = x\n",
    "#         self.left = None\n",
    "#         self.right = None\n",
    "\n",
    "class Solution(object):\n",
    "    def generateTrees(self, n):\n",
    "        \"\"\"\n",
    "        :type n: int\n",
    "        :rtype: List[TreeNode]\n",
    "        \"\"\"\n",
    "        return self.generateTreesRecu(1,n)\n",
    "    \n",
    "    def generateTreesRecu(self,low,high):\n",
    "        result = []\n",
    "        if low > high:\n",
    "            result.append(None)\n",
    "            return result\n",
    "        for i in range(low, high+1):\n",
    "            left = self.generateTreesRecu(low, i - 1)\n",
    "            right = self.generateTreesRecu(i + 1, high)\n",
    "            for j in left:\n",
    "                for k in right:\n",
    "                    cur = TreeNode(i)\n",
    "                    cur.left = j \n",
    "                    cur.right = k \n",
    "                    result.append(cur)\n",
    "        return result "
   ]
  },
  {
   "cell_type": "markdown",
   "metadata": {},
   "source": [
    "## Notes\n",
    "\n",
    "- [How Recursion Works](https://www.youtube.com/watch?v=ozmE8G6YKww)\n",
    "- https://www.kancloud.cn/kancloud/data-structure-and-algorithm-notes/73055\n",
    "- http://bangbingsyb.blogspot.com/2014/11/leetcode-unique-binary-search-trees-i-ii.html\n",
    "- http://www.cnblogs.com/springfor/p/3884029.html\n",
    "- https://www.youtube.com/watch?v=dMFXgAhvdYY"
   ]
  },
  {
   "cell_type": "code",
   "execution_count": 2,
   "metadata": {
    "collapsed": true
   },
   "outputs": [],
   "source": [
    "for i in range(1,1):\n",
    "    print(i)"
   ]
  },
  {
   "cell_type": "code",
   "execution_count": 5,
   "metadata": {
    "collapsed": false
   },
   "outputs": [
    {
     "name": "stdout",
     "output_type": "stream",
     "text": [
      "[None]\n"
     ]
    }
   ],
   "source": [
    "result = []\n",
    "result.append(None)\n",
    "print(result)"
   ]
  }
 ],
 "metadata": {
  "kernelspec": {
   "display_name": "Python 2",
   "language": "python",
   "name": "python2"
  },
  "language_info": {
   "codemirror_mode": {
    "name": "ipython",
    "version": 2
   },
   "file_extension": ".py",
   "mimetype": "text/x-python",
   "name": "python",
   "nbconvert_exporter": "python",
   "pygments_lexer": "ipython2",
   "version": "2.7.13"
  }
 },
 "nbformat": 4,
 "nbformat_minor": 0
}
