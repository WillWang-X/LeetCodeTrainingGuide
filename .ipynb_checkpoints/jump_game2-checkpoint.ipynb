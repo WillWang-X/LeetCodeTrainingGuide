{
 "cells": [
  {
   "cell_type": "markdown",
   "metadata": {},
   "source": [
    "# 45. Jump Game II"
   ]
  },
  {
   "cell_type": "markdown",
   "metadata": {},
   "source": [
    "Given an array of non-negative integers, you are initially positioned at the first index of the array.\n",
    "\n",
    "Each element in the array represents your maximum jump length at that position.\n",
    "\n",
    "Your goal is to reach the last index in the minimum number of jumps.\n",
    "\n",
    "For example:\n",
    "Given array A = [2,3,1,1,4]\n",
    "\n",
    "The minimum number of jumps to reach the last index is 2. (Jump 1 step from index 0 to 1, then 3 steps to the last index.)\n",
    "\n",
    "Note:\n",
    "You can assume that you can always reach the last index.\n",
    "\n",
    "Subscribe to see which companies asked this question."
   ]
  },
  {
   "cell_type": "markdown",
   "metadata": {},
   "source": [
    "## Solution1"
   ]
  },
  {
   "cell_type": "code",
   "execution_count": 71,
   "metadata": {
    "collapsed": true
   },
   "outputs": [],
   "source": [
    "class Solution(object):\n",
    "    def jump(self, nums):\n",
    "        \"\"\"\n",
    "        :type nums: List[int]\n",
    "        :rtype: int\n",
    "        \"\"\"\n",
    "        count = 0\n",
    "        reachable = 0\n",
    "        old_reach = 0\n",
    "        for n,jump in enumerate(nums):\n",
    "            if n > reachable:  # not reachable \n",
    "                return -1\n",
    "            if n > old_reach: # greedy: change only when old_reach cannot reach new index(n)\n",
    "                old_reach = reachable\n",
    "                count += 1\n",
    "            reachable = max(reachable,n+jump)\n",
    "            print(n, jump, old_reach,reachable)\n",
    "        return count"
   ]
  },
  {
   "cell_type": "code",
   "execution_count": 74,
   "metadata": {
    "collapsed": false
   },
   "outputs": [
    {
     "name": "stdout",
     "output_type": "stream",
     "text": [
      "0 2 0 2\n",
      "1 3 2 4\n",
      "2 1 2 4\n",
      "3 1 4 4\n",
      "4 4 4 8\n",
      "2\n",
      "0 2 0 2\n",
      "1 3 2 4\n",
      "2 1 2 4\n",
      "1\n"
     ]
    }
   ],
   "source": [
    "print( Solution().jump([2,3,1,1,4]) )\n",
    "print( Solution().jump([2,3,1])) "
   ]
  },
  {
   "cell_type": "code",
   "execution_count": null,
   "metadata": {
    "collapsed": true
   },
   "outputs": [],
   "source": []
  }
 ],
 "metadata": {
  "kernelspec": {
   "display_name": "Python 3",
   "language": "python",
   "name": "python3"
  },
  "language_info": {
   "codemirror_mode": {
    "name": "ipython",
    "version": 3
   },
   "file_extension": ".py",
   "mimetype": "text/x-python",
   "name": "python",
   "nbconvert_exporter": "python",
   "pygments_lexer": "ipython3",
   "version": "3.6.0"
  }
 },
 "nbformat": 4,
 "nbformat_minor": 0
}
