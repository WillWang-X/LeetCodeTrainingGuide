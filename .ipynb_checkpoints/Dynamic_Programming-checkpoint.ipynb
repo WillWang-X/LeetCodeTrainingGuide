{
 "cells": [
  {
   "cell_type": "markdown",
   "metadata": {
    "collapsed": true
   },
   "source": [
    "# Dynamic Programming"
   ]
  },
  {
   "cell_type": "markdown",
   "metadata": {},
   "source": [
    "|  #  | Title           |  Solution       |  Time           | Space           | Difficulty    | Tag          | Note| \n",
    "|-----|---------------- | --------------- | --------------- | --------------- | ------------- |--------------|-----|\n",
    "|10| [Regular Expression Matching](https://leetcode.com/problems/regular-expression-matching/) | [Python](./Python/regular-expression-matching.py) | _O(m * n)_ | _O(n)_ | Hard ||\n",
    "|53| [Maximum Subarray](https://leetcode.com/problems/maximum-subarray/)|[Python](./Python/maximum-subarray.py)| _O(n)_     | _O(1)_         | Medium         ||\n",
    "|62| [Unique Paths](https://leetcode.com/problems/unique-paths/)    | [Python](./Python/unique-paths.py)| _O(m * n)_      | _O(m + n)_   | Medium         ||\n",
    "|63| [Unique Paths II](https://leetcode.com/problems/unique-paths-ii/) | [Python](./Python/unique-paths-ii.py) |  _O(m * n)_ | _O(m + n)_   | Medium         ||\n",
    "|64| [Minimum Path Sum](https://leetcode.com/problems/minimum-path-sum/)| [Python](./Python/minimum-path-sum.py)| _O(m * n)_ | _O(m + n)_     | Medium         ||\n",
    "|70| [Climbing Stairs](https://leetcode.com/problems/climbing-stairs/)| [Python](./Python/climbing-stairs.py) | _O(n)_    | _O(1)_          | Easy           ||\n",
    "|72| [Edit Distance](https://leetcode.com/problems/edit-distance/)|[Python](./Python/edit-distance.py)| _O(m * n)_      | _O(m + n)_      | Hard           ||\n",
    "|87| [Scramble String](https://leetcode.com/problems/scramble-string/) | [Python](./Python/scramble-string.py) | _O(n^4)_ | _O(n^3)_        | Hard           ||\n",
    "|91| [Decode Ways](https://leetcode.com/problems/decode-ways/)   | [C++](./Python/decode-ways.cpp) [Python](./Python/decode-ways.py)| _O(n)_          | _O(1)_          | Medium         ||\n",
    "|96| [Unique Binary Search Trees](https://leetcode.com/problems/unique-binary-search-trees/) | [Python](./Python/unique-binary-search-trees.py) | _O(n)_      | _O(1)_         | Medium         || Math\n",
    "|97| [Interleaving String](https://leetcode.com/problems/interleaving-string/)|[Python](./Python/interleaving-string.py)| _O(m * n)_ | _O(m + n)_ | Hard         ||\n",
    "|115| [Distinct Subsequences](https://leetcode.com/problems/distinct-subsequences/)|[Python](./Python/distinct-subsequences.py)| _O(n^2)_ | _O(n)_ | Hard           ||\n",
    "|120| [Triangle](https://leetcode.com/problems/triangle/)       | [Python](./Python/triangle.py)   | _O(m * n)_      | _O(n)_         | Medium         ||\n",
    "|123| [Best Time to Buy and Sell Stock III](https://leetcode.com/problems/best-time-to-buy-and-sell-stock-iii/) | [Python](./Python/best-time-to-buy-and-sell-stock-iii.py) | _O(n)_ | _O(1)_ | Hard ||\n",
    "|132| [Palindrome Partitioning II](https://leetcode.com/problems/palindrome-partitioning-ii/) | [Python](./Python/palindrome-partitioning-ii.py) | _O(n^2)_ | _O(n^2)_ | Hard ||\n",
    "|139| [Word Break](https://leetcode.com/problems/word-break/)     | [C++](./C++/word-break.cpp) [Python](./Python/word-break.py) |  _O(n * l^2)_         | _O(n)_       | Medium         ||\n",
    "|152| [Maximum Product Subarray](https://leetcode.com/problems/maximum-product-subarray/)|[Python](./Python/maximum-product-subarray.py)| _O(n)_ | _O(1)_ | Medium     ||\n",
    "|174| [Dungeon Game](https://leetcode.com/problems/dungeon-game/)  | [Python](./Python/dungeon-game.py)| _O(m * n)_     | _O(m + n)_      | Hard           ||\n",
    "|188| [Best Time to Buy and Sell Stock IV](https://leetcode.com/problems/best-time-to-buy-and-sell-stock-iv/)| [Python](./Python/best-time-to-buy-and-sell-stock-iv.py) | _O(k * n)_ | _O(k)_ | Hard ||\n",
    "|198| [House Robber](https://leetcode.com/problems/house-robber/)| [Python](./Python/house-robber.py) | _O(n)_          | _O(1)_          | Easy           ||\n",
    "|213| [House Robber II](https://leetcode.com/problems/house-robber-ii/)| [C++](./C++/house-robber-ii.cpp) [Python](./Python/house-robber-ii.py) | _O(n)_          | _O(1)_          | Medium           ||\n",
    "|221| [Maximal Square](https://leetcode.com/problems/maximal-square/)| [C++](./C++/maximal-square.cpp) [Python](./Python/maximal-square.py) | _O(n^2)_         | _O(n)_          | Medium           | EPI |\n",
    "|256| [Paint House](https://leetcode.com/problems/paint-house/) | [C++](./C++/paint-house.cpp) [Python](./Python/paint-house.py) | _O(n)_| _O(1)_| Medium |📖||\n",
    "|265| [Paint House II](https://leetcode.com/problems/paint-house-ii/) | [C++](./C++/paint-house-ii.cpp) [Python](./Python/paint-house-ii.py) | _O(n * k)_| _O(k)_| Hard |📖||\n",
    "|276| [Paint Fence](https://leetcode.com/problems/paint-fence/) | [C++](./C++/paint-fence.cpp) [Python](./Python/paint-fence.py) | _O(n)_| _O(1)_| Easy |📖||\n",
    "|279| [Perfect Squares](https://leetcode.com/problems/perfect-squares/)| [C++](./C++/perfect-squares.cpp) [Python](./Python/perfect-squares.py) | _O(n * sqrt(n))_         | _O(n)_          | Medium           ||  Hash |\n",
    "|303| [Range Sum Query - Immutable](https://leetcode.com/problems/range-sum-query-immutable/)| [C++](./C++/range-sum-query-immutable.cpp) [Python](./Python/range-sum-query-immutable.py) | ctor: _O(n)_, lookup: _O(1)_          | _O(n)_          | Easy           ||\n",
    "|304| [Range Sum Query 2D - Immutable](https://leetcode.com/problems/range-sum-query-2d-immutable/)| [C++](./C++/range-sum-query-2d-immutable.cpp) [Python](./Python/range-sum-query-2d-immutable.py) | ctor: _O(m * n)_, lookup: _O(1)_          | _O(m * n)_          | Medium           ||\n",
    "|309| [Best Time to Buy and Sell Stock with Cooldown](https://leetcode.com/problems/best-time-to-buy-and-sell-stock-with-cooldown/) | [C++](./C++/best-time-to-buy-and-sell-stock-with-cooldown.cpp) [Python](./Python/best-time-to-buy-and-sell-stock-with-cooldown.py) | _O(n)_ | _O(1)_ | Medium ||\n",
    "|312| [Burst Balloons](https://leetcode.com/problems/burst-balloons/) | [C++](./C++/burst-balloons.cpp) [Python](./Python/burst-balloons.py) | _O(n^3)_ | _O(n^2)_ | Hard ||\n",
    "|322| [Coin Change](https://leetcode.com/problems/coin-change/) | [C++](./C++/coin-change.cpp) [Python](./Python/coin-change.py) | _O(n * k)_ | _O(k)_ | Medium ||\n",
    "|351| [Android Unlock Patterns](https://leetcode.com/problems/android-unlock-patterns/) | [C++](./C++/android-unlock-patterns.cpp) [Python](./Python/android-unlock-patterns.py) | _O(9^2 * 2^9)_ | _O(9 * 2^9)_ | Medium | 📖 | Backtracking |\n",
    "|357| [Count Numbers with Unique Digits](https://leetcode.com/problems/count-numbers-with-unique-digits/) | [C++](./C++/count-numbers-with-unique-digits.cpp) [Python](./Python/count-numbers-with-unique-digits.py) | _O(n)_ | _O(1)_ | Medium || Backtracking, Math |\n",
    "|361| [Bomb Enemy](https://leetcode.com/problems/bomb-enemy/) | [C++](./C++/bomb-enemy.cpp) [Python](./Python/bomb-enemy.py) | _O(m * n)_ | _O(m * n)_ | Medium | 📖 | |\n",
    "|368| [Largest Divisible Subset](https://leetcode.com/problems/largest-divisible-subset/) | [C++](./C++/largest-divisible-subset.cpp) [Python](./Python/largest-divisible-subset.py) | _O(n^2)_ | _O(n)_ | Medium | | |\n",
    "|375| [Guess Number Higher or Lower II](https://leetcode.com/problems/guess-number-higher-or-lower-ii/)| [C++](./C++/guess-number-higher-or-lower-ii.cpp) [Python](./Python/guess-number-higher-or-lower-ii.py)   | _O(n^2)_          | _O(n^2)_          | Medium         | |\n",
    "|377| [Combination Sum IV](https://leetcode.com/problems/combination-sum-iv/)| [C++](./C++/combination-sum-iv.cpp) [Python](./Python/combination-sum-iv.py)   | _O(nlogn + n * t)_          | _O(t)_          | Medium         | |\n",
    "|403 | [Frog Jump](https://leetcode.com/problems/frog-jump/) | [C++](./C++/frog-jump.cpp) [Python](./Python/frog-jump.py) | _O(n)_ | _O(n) ~ O(n^2)_ | Hard ||\n",
    "|416 | [Partition Equal Subset Sum](https://leetcode.com/problems/partition-equal-subset-sum/) | [C++](./C++/partition-equal-subset-sum.cpp) [Python](./Python/partition-equal-subset-sum.py) | _O(n * s)_ | _O(s)_ | Medium ||\n",
    "|418 | [Sentence Screen Fitting](https://leetcode.com/problems/sentence-screen-fitting/) | [C++](./C++/sentence-screen-fitting.cpp) [Python](./Python/sentence-screen-fitting.py) | _O(r + n * c)_ | _O(n)_ | Medium |📖|\n",
    "|446 | [Arithmetic Slices II - Subsequence](https://leetcode.com/problems/arithmetic-slices-ii-subsequence/) | [C++](./C++/arithmetic-slices-ii-subsequence.cpp) [Python](./Python/arithmetic-slices-ii-subsequence.py) | _O(n^2)_ | _O(n * d)_ | Hard ||\n",
    "|465 | [Optimal Account Balancing](https://leetcode.com/problems/optimal-account-balancing/) | [C++](./C++/optimal-account-balancing.cpp) [Python](./Python/optimal-account-balancing.py) | _O(n * 2^n)_ | _O(n * 2^n)_ | Hard |📖|\n",
    "|466 | [Count The Repetitions](https://leetcode.com/problems/count-the-repetitions/) | [C++](./C++/count-the-repetitions.cpp) [Python](./Python/count-the-repetitions.py) | _O(s1 * min(s2, n1))_ | _O(s2)_ | Hard ||\n",
    "|467 | [Unique Substrings in Wraparound String](https://leetcode.com/problems/unique-substrings-in-wraparound-string/) | [C++](./C++/unique-substrings-in-wraparound-string.cpp) [Python](./Python/unique-substrings-in-wraparound-string.py) | _O(n)_ | _O(1)_ | Medium ||\n",
    "|471 | [Encode String with Shortest Length](https://leetcode.com/problems/encode-string-with-shortest-length/) | [C++](./C++/encode-string-with-shortest-length.cpp) [Python](./Python/encode-string-with-shortest-length.py) | _O(n^3)_ on average | _O(n^2)_ | Medium |📖|\n",
    "|472 | [Concatenated Words](https://leetcode.com/problems/concatenated-words/) | [C++](./C++/concatenated-words.cpp) [Python](./Python/concatenated-words.py) | _O(n * l^2)_ | _O(n * l)_ | Medium ||\n",
    "|474 | [Ones and Zeroes](https://leetcode.com/problems/ones-and-zeroes/) | [C++](./C++/ones-and-zeroes.cpp) [Python](./Python/ones-and-zeroes.py) | _O(s * m * n)_ | _O(m * n)_ | Medium ||\n"
   ]
  },
  {
   "cell_type": "markdown",
   "metadata": {},
   "source": [
    "# 1. |10| [Regular Expression Matching](https://leetcode.com/problems/regular-expression-matching/) | [Python](./Python/regular-expression-matching.py) | _O(m * n)_ | _O(n)_ | Hard ||"
   ]
  },
  {
   "cell_type": "markdown",
   "metadata": {},
   "source": [
    "# 2. |53| [Maximum Subarray](https://leetcode.com/problems/maximum-subarray/)|[Python](./Python/maximum-subarray.py)| _O(n)_     | _O(1)_         | Medium         ||\n"
   ]
  },
  {
   "cell_type": "markdown",
   "metadata": {},
   "source": [
    "# 3. |62| [Unique Paths](https://leetcode.com/problems/unique-paths/)    | [Python](./Python/unique-paths.py)| _O(m * n)_      | _O(m + n)_   | Medium         ||"
   ]
  },
  {
   "cell_type": "markdown",
   "metadata": {},
   "source": [
    "# 4. |63| [Unique Paths II](https://leetcode.com/problems/unique-paths-ii/) | [Python](./Python/unique-paths-ii.py) |  _O(m * n)_ | _O(m + n)_   | Medium         ||"
   ]
  },
  {
   "cell_type": "markdown",
   "metadata": {},
   "source": [
    "# 5. |64| [Minimum Path Sum](https://leetcode.com/problems/minimum-path-sum/)| [Python](./Python/minimum-path-sum.py)| _O(m * n)_ | _O(m + n)_     | Medium         ||"
   ]
  },
  {
   "cell_type": "markdown",
   "metadata": {},
   "source": [
    "# 6. |70| [Climbing Stairs](https://leetcode.com/problems/climbing-stairs/)| [Python](./Python/climbing-stairs.py) | _O(n)_    | _O(1)_          | Easy           ||"
   ]
  },
  {
   "cell_type": "markdown",
   "metadata": {},
   "source": [
    "# 7. |72| [Edit Distance](https://leetcode.com/problems/edit-distance/)|[Python](./Python/edit-distance.py)| _O(m * n)_      | _O(m + n)_      | Hard           ||"
   ]
  },
  {
   "cell_type": "markdown",
   "metadata": {},
   "source": [
    "# 8. |87| [Scramble String](https://leetcode.com/problems/scramble-string/) | [Python](./Python/scramble-string.py) | _O(n^4)_ | _O(n^3)_        | Hard           ||"
   ]
  },
  {
   "cell_type": "markdown",
   "metadata": {},
   "source": [
    "# 9. |91| [Decode Ways](https://leetcode.com/problems/decode-ways/)   | [C++](./Python/decode-ways.cpp) [Python](./Python/decode-ways.py)| _O(n)_          | _O(1)_          | Medium         ||\n"
   ]
  },
  {
   "cell_type": "code",
   "execution_count": null,
   "metadata": {
    "collapsed": true
   },
   "outputs": [],
   "source": [
    "A message containing letters from A-Z is being encoded to numbers using the following mapping:\n",
    "\n",
    "'A' -> 1\n",
    "'B' -> 2\n",
    "...\n",
    "'Z' -> 26\n",
    "\n",
    "Given an encoded message containing digits, determine the total number of ways to decode it.\n",
    "\n",
    "For example,\n",
    "Given encoded message \"12\", it could be decoded as \"AB\" (1 2) or \"L\" (12).\n",
    "\n",
    "The number of ways decoding \"12\" is 2."
   ]
  },
  {
   "cell_type": "code",
   "execution_count": 11,
   "metadata": {
    "collapsed": true
   },
   "outputs": [],
   "source": [
    "# Time:  O(n)\n",
    "# Space: O(1)\n",
    "\n",
    "class Solution(object):\n",
    "    def numDecodings(self, s):\n",
    "        \"\"\"\n",
    "        :type s: str\n",
    "        :rtype: int\n",
    "        \"\"\"\n",
    "        if len(s) == 0 or s[0] == '0':\n",
    "            return 0\n",
    "        \n",
    "        prev, prev_prev = 1, 0\n",
    "        for i in xrange(len(s)):\n",
    "            cur = 0\n",
    "            if s[i] != '0':\n",
    "                cur = prev\n",
    "            if i > 0 and (s[i - 1] == '1' or (s[i - 1] == '2' and s[i] <= '6')):\n",
    "                cur += prev_prev\n",
    "            prev = cur \n",
    "            prev_prev = prev\n",
    "        return prev"
   ]
  },
  {
   "cell_type": "code",
   "execution_count": 12,
   "metadata": {
    "collapsed": false,
    "scrolled": true
   },
   "outputs": [
    {
     "name": "stdout",
     "output_type": "stream",
     "text": [
      "2\n"
     ]
    }
   ],
   "source": [
    "print Solution().numDecodings('10323')"
   ]
  },
  {
   "cell_type": "code",
   "execution_count": null,
   "metadata": {
    "collapsed": true
   },
   "outputs": [],
   "source": [
    "class Solution(object):\n",
    "    def numDecodings(self, s):\n",
    "        \"\"\"\n",
    "        :type s: str\n",
    "        :rtype: int\n",
    "        \"\"\"\n",
    "        n = len(s)\n",
    "        if n==0:\n",
    "            return 0\n",
    "        m = [0 for _ in range(n+1)]\n",
    "        m[n] = 1\n",
    "        m[n-1] = 0 if s[n-1] == '0' else 1\n",
    "        for i in range(n-2, -1, -1):\n",
    "            if s[i] == '0':\n",
    "                continue\n",
    "            else:\n",
    "                m[i] = m[i+1]+m[i+2] if int(s[i:i+2])<=26 else m[i+1]\n",
    "        return m[0]"
   ]
  },
  {
   "cell_type": "code",
   "execution_count": null,
   "metadata": {
    "collapsed": true
   },
   "outputs": [],
   "source": [
    "class Solution(object):\n",
    "    # @param s, a string\n",
    "    # @return an integer\n",
    "    def numDecodings(self, s):\n",
    "        #dp[i] = dp[i-1] if s[i] != \"0\"\n",
    "        #       +dp[i-2] if \"09\" < s[i-1:i+1] < \"27\"\n",
    "        if s == \"\": return 0\n",
    "        dp = [0 for x in range(len(s)+1)]\n",
    "        dp[0] = 1\n",
    "        for i in range(1, len(s)+1):\n",
    "            if s[i-1] != \"0\":\n",
    "                dp[i] += dp[i-1]\n",
    "            if i != 1 and s[i-2:i] < \"27\" and s[i-2:i] > \"09\":  #\"01\"ways = 0\n",
    "                dp[i] += dp[i-2]\n",
    "        return dp[len(s)]"
   ]
  },
  {
   "cell_type": "code",
   "execution_count": null,
   "metadata": {
    "collapsed": true
   },
   "outputs": [],
   "source": []
  },
  {
   "cell_type": "code",
   "execution_count": 10,
   "metadata": {
    "collapsed": false
   },
   "outputs": [
    {
     "name": "stdout",
     "output_type": "stream",
     "text": [
      "0\n",
      "1\n",
      "2\n",
      "3\n",
      "4\n"
     ]
    }
   ],
   "source": [
    "for i in range(5):\n",
    "    print i"
   ]
  },
  {
   "cell_type": "markdown",
   "metadata": {},
   "source": [
    "# 10. |96| [Unique Binary Search Trees](https://leetcode.com/problems/unique-binary-search-trees/) | [Python](./Python/unique-binary-search-trees.py) | _O(n)_      | _O(1)_         | Medium         || Math"
   ]
  },
  {
   "cell_type": "code",
   "execution_count": null,
   "metadata": {
    "collapsed": true
   },
   "outputs": [],
   "source": [
    "Time:  O(n)\n",
    "Space: O(1)\n",
    "\n",
    "Given n, how many structurally unique BST's (binary search trees) that store values 1...n?\n",
    "\n",
    "For example,\n",
    "Given n = 3, there are a total of 5 unique BST's.\n",
    "\n",
    "   1         3     3      2      1\n",
    "    \\       /     /      / \\      \\\n",
    "     3     2     1      1   3      2\n",
    "    /     /       \\                 \\\n",
    "   2     1         2                 3\n"
   ]
  },
  {
   "cell_type": "code",
   "execution_count": null,
   "metadata": {
    "collapsed": true
   },
   "outputs": [],
   "source": [
    "\n",
    "\n",
    "# Math solution.\n",
    "class Solution(object):\n",
    "    def numTrees(self, n):\n",
    "        \"\"\"\n",
    "        :type n: int\n",
    "        :rtype: int\n",
    "        \"\"\"\n",
    "        if n == 0:\n",
    "            return 1\n",
    "\n",
    "        def combination(n, k):\n",
    "            count = 1\n",
    "            # C(n, k) = (n) / 1 * (n - 1) / 2 ... * (n - k + 1) / k\n",
    "            for i in xrange(1, k + 1):\n",
    "                count = count * (n - i + 1) / i;\n",
    "            return count\n",
    "\n",
    "        return combination(2 * n, n) - combination(2 * n, n - 1)"
   ]
  },
  {
   "cell_type": "code",
   "execution_count": 15,
   "metadata": {
    "collapsed": true
   },
   "outputs": [],
   "source": [
    "# Time:  O(n^2)\n",
    "# Space: O(n)\n",
    "# DP solution.\n",
    "class Solution:\n",
    "    # @return an integer\n",
    "    def numTrees(self, n):\n",
    "        counts = [1, 1]\n",
    "        for i in xrange(2, n + 1):\n",
    "            count = 0\n",
    "            for j in xrange(i):\n",
    "                count += counts[j] * counts[i - j - 1]\n",
    "            counts.append(count)\n",
    "        return counts[-1]"
   ]
  },
  {
   "cell_type": "code",
   "execution_count": null,
   "metadata": {
    "collapsed": true
   },
   "outputs": [],
   "source": [
    "class Solution(object):\n",
    "    def numTrees(self, n):\n",
    "        nums = [0] * (n + 1)\n",
    " \n",
    "        nums[0] = 1\n",
    " \n",
    "        for i in range(1, n+1):   # Range: [1, n]\n",
    "            for j in range(1, i+1): # Range: [1, i] as the root of the tree\n",
    "                nums[i] += nums[j-1] * nums[i-j] # ! i-j\n",
    " \n",
    "        return nums[n]\n"
   ]
  },
  {
   "cell_type": "code",
   "execution_count": null,
   "metadata": {
    "collapsed": true
   },
   "outputs": [],
   "source": [
    "class Solution(object):\n",
    "    def numTrees(self, n):\n",
    "        nums = [0] * (n + 1)\n",
    " \n",
    "        nums[0] = 1\n",
    " \n",
    "        for i in range(1, n+1):   # [1, n]\n",
    "            for j in range(0, i): # [0, i-1]\n",
    "                nums[i] += nums[j] * nums[i-j-1] # ! i-j-1\n",
    " \n",
    "        return nums[n]"
   ]
  },
  {
   "cell_type": "code",
   "execution_count": 16,
   "metadata": {
    "collapsed": false,
    "scrolled": true
   },
   "outputs": [
    {
     "name": "stdout",
     "output_type": "stream",
     "text": [
      "5\n"
     ]
    }
   ],
   "source": [
    "print Solution().numTrees(3)"
   ]
  },
  {
   "cell_type": "code",
   "execution_count": null,
   "metadata": {
    "collapsed": true
   },
   "outputs": [],
   "source": [
    "https://www.kyledong.com/leetcode-unique-binary-search-trees/"
   ]
  },
  {
   "cell_type": "markdown",
   "metadata": {},
   "source": [
    "# 11. |97| [Interleaving String](https://leetcode.com/problems/interleaving-string/)|[Python](./Python/interleaving-string.py)| _O(m * n)_ | _O(m + n)_ | Hard         ||"
   ]
  },
  {
   "cell_type": "code",
   "execution_count": null,
   "metadata": {
    "collapsed": true
   },
   "outputs": [],
   "source": [
    "Given s1, s2, s3, find whether s3 is formed by the interleaving of s1 and s2.\n",
    "\n",
    "For example,\n",
    "Given:\n",
    "s1 = \"aabcc\",\n",
    "s2 = \"dbbca\",\n",
    "\n",
    "When s3 = \"aadbbcbcac\", return true.\n",
    "When s3 = \"aadbbbaccc\", return false."
   ]
  },
  {
   "cell_type": "code",
   "execution_count": null,
   "metadata": {
    "collapsed": true
   },
   "outputs": [],
   "source": [
    "# Time:  O(m * n)\n",
    "# Space: O(m + n)\n",
    "\n",
    "        \n",
    "# Time:  O(m * n)\n",
    "# Space: O(m + n)\n",
    "# Dynamic Programming + Sliding Window\n",
    "class Solution:\n",
    "    # @return a boolean\n",
    "    def isInterleave(self, s1, s2, s3):\n",
    "        if len(s1) + len(s2) != len(s3):\n",
    "            return False\n",
    "        if len(s1) > len(s2):\n",
    "            return self.isInterleave(s2, s1, s3)\n",
    "        match = [False for i in xrange(len(s1) + 1)]\n",
    "        match[0] = True\n",
    "        for i in xrange(1, len(s1) + 1):\n",
    "            match[i] = match[i -1] and s1[i - 1] == s3[i - 1]\n",
    "        for j in xrange(1, len(s2) + 1):\n",
    "            match[0] = match[0] and s2[j - 1] == s3[j - 1]\n",
    "            for i in xrange(1, len(s1) + 1):\n",
    "                match[i] = (match[i - 1] and s1[i - 1] == s3[i + j - 1]) \\\n",
    "                                       or (match[i] and s2[j - 1] == s3[i + j - 1])\n",
    "        return match[-1]"
   ]
  },
  {
   "cell_type": "markdown",
   "metadata": {},
   "source": [
    "# 12. |115| [Distinct Subsequences](https://leetcode.com/problems/distinct-subsequences/)|[Python](./Python/distinct-subsequences.py)| _O(n^2)_ | _O(n)_ | Hard           ||"
   ]
  },
  {
   "cell_type": "code",
   "execution_count": null,
   "metadata": {
    "collapsed": true
   },
   "outputs": [],
   "source": [
    "Given a string S and a string T, count the number of distinct subsequences of T in S.\n",
    "\n",
    "A subsequence of a string is a new string which is formed from the original string \n",
    "by deleting some (can be none) of the characters without disturbing the relative positions \n",
    "of the remaining characters. (ie, \"ACE\" is a subsequence of \"ABCDE\" while \"AEC\" is not).\n",
    "\n",
    "Here is an example:\n",
    "S = \"rabbbit\", T = \"rabbit\"\n",
    "\n",
    "Return 3."
   ]
  },
  {
   "cell_type": "code",
   "execution_count": null,
   "metadata": {
    "collapsed": true
   },
   "outputs": [],
   "source": [
    "# Time:  O(n^2)\n",
    "# Space: O(n)\n",
    "\n",
    "\n",
    "class Solution:\n",
    "    # @return an integer\n",
    "    def numDistinct(self, S, T):\n",
    "        ways = [0 for _ in xrange(len(T) + 1)]\n",
    "        ways[0] = 1\n",
    "        for S_char in S:\n",
    "            for j, T_char in reversed(list(enumerate(T))):\n",
    "                if S_char == T_char:\n",
    "                    ways[j + 1] += ways[j]\n",
    "        return ways[len(T)]\n",
    "        \n",
    "if __name__ == \"__main__\":\n",
    "    S = \"rabbbit\"\n",
    "    T = \"rabbit\"\n",
    "    result = Solution().numDistinct(S, T)\n",
    "    print result\n"
   ]
  },
  {
   "cell_type": "markdown",
   "metadata": {},
   "source": [
    "# 13. |120| [Triangle](https://leetcode.com/problems/triangle/)       | [Python](./Python/triangle.py)   | _O(m * n)_      | _O(n)_         | Medium         ||"
   ]
  },
  {
   "cell_type": "code",
   "execution_count": null,
   "metadata": {
    "collapsed": true
   },
   "outputs": [],
   "source": [
    "Given a triangle, find the minimum path sum from top to bottom. Each step you may move to adjacent numbers on the row below.\n",
    "\n",
    "For example, given the following triangle\n",
    "[\n",
    "     [2],\n",
    "    [3,4],\n",
    "   [6,5,7],\n",
    "  [4,1,8,3]\n",
    "]\n",
    "The minimum path sum from top to bottom is 11 (i.e., 2 + 3 + 5 + 1 = 11).\n",
    "\n",
    "Note:\n",
    "Bonus point if you are able to do this using only O(n) extra space, where n is the total number of rows in the triangle.\n"
   ]
  },
  {
   "cell_type": "code",
   "execution_count": null,
   "metadata": {
    "collapsed": true
   },
   "outputs": [],
   "source": [
    "# Time:  O(m * n)\n",
    "# Space: O(n)\n",
    "#\n",
    "\n",
    "class Solution:\n",
    "    # @param triangle, a list of lists of integers\n",
    "    # @return an integer\n",
    "    def minimumTotal(self, triangle):\n",
    "        if not triangle:\n",
    "            return 0\n",
    "        \n",
    "        cur = triangle[0] + [float(\"inf\")]\n",
    "        for i in xrange(1, len(triangle)):\n",
    "            next = []\n",
    "            next.append(triangle[i][0] + cur[0])\n",
    "            for j in xrange(1, i + 1):\n",
    "                next.append(triangle[i][j] + min(cur[j - 1], cur[j]))\n",
    "            cur = next + [float(\"inf\")]\n",
    "            \n",
    "        return reduce(min, cur)\n",
    "\n",
    "if __name__ == \"__main__\":\n",
    "    print Solution().minimumTotal([[-1], [2, 3], [1, -1, -3]])"
   ]
  },
  {
   "cell_type": "markdown",
   "metadata": {},
   "source": [
    "# 14. |123| [Best Time to Buy and Sell Stock III](https://leetcode.com/problems/best-time-to-buy-and-sell-stock-iii/) | [Python](./Python/best-time-to-buy-and-sell-stock-iii.py) | _O(n)_ | _O(1)_ | Hard ||"
   ]
  },
  {
   "cell_type": "code",
   "execution_count": null,
   "metadata": {
    "collapsed": true
   },
   "outputs": [],
   "source": [
    "Say you have an array for which the ith element \n",
    "is the price of a given stock on day i.\n",
    "\n",
    "Design an algorithm to find the maximum profit. \n",
    "You may complete at most two transactions.\n",
    "\n",
    "Note:\n",
    "You may not engage in multiple transactions at the same time \n",
    "(ie, you must sell the stock before you buy again).\n"
   ]
  },
  {
   "cell_type": "code",
   "execution_count": null,
   "metadata": {
    "collapsed": true
   },
   "outputs": [],
   "source": [
    "# Time:  O(n)\n",
    "# Space: O(1)\n",
    "\n",
    "\n",
    "class Solution:\n",
    "    # @param prices, a list of integer\n",
    "    # @return an integer\n",
    "    def maxProfit(self, prices):\n",
    "        hold1, hold2 = float(\"-inf\"), float(\"-inf\")\n",
    "        release1, release2 = 0, 0\n",
    "        for i in prices:\n",
    "            release2 = max(release2, hold2 + i)\n",
    "            hold2    = max(hold2,    release1 - i)\n",
    "            release1 = max(release1, hold1 + i)\n",
    "            hold1    = max(hold1,    -i);\n",
    "        return release2"
   ]
  },
  {
   "cell_type": "markdown",
   "metadata": {},
   "source": [
    "# 15. |132| [Palindrome Partitioning II](https://leetcode.com/problems/palindrome-partitioning-ii/) | [Python](./Python/palindrome-partitioning-ii.py) | _O(n^2)_ | _O(n^2)_ | Hard |"
   ]
  },
  {
   "cell_type": "code",
   "execution_count": null,
   "metadata": {
    "collapsed": true
   },
   "outputs": [],
   "source": [
    "\n",
    "Given a string s, partition s such that every substring of the partition is a palindrome.\n",
    "\n",
    "Return the minimum cuts needed for a palindrome partitioning of s.\n",
    "\n",
    "For example, given s = \"aab\",\n",
    "Return 1 since the palindrome partitioning [\"aa\",\"b\"] could be produced using 1 cut.\n"
   ]
  },
  {
   "cell_type": "code",
   "execution_count": null,
   "metadata": {
    "collapsed": true
   },
   "outputs": [],
   "source": [
    "# Time:  O(n^2)\n",
    "# Space: O(n^2)\n",
    "\n",
    "class Solution:\n",
    "    # @param s, a string\n",
    "    # @return an integer\n",
    "    def minCut(self, s):\n",
    "        lookup = [[False for j in xrange(len(s))] for i in xrange(len(s))]\n",
    "        mincut = [len(s) - 1 - i for i in xrange(len(s) + 1)]\n",
    "        \n",
    "        for i in reversed(xrange(len(s))):\n",
    "            for j in xrange(i, len(s)):\n",
    "                if s[i] == s[j]  and (j - i < 2 or lookup[i + 1][j - 1]):\n",
    "                    lookup[i][j] = True\n",
    "                    mincut[i] = min(mincut[i], mincut[j + 1] + 1)\n",
    "                    \n",
    "        return mincut[0]\n",
    "\n",
    "if __name__ == \"__main__\":\n",
    "    print Solution().minCut(\"aab\")"
   ]
  },
  {
   "cell_type": "markdown",
   "metadata": {},
   "source": [
    "# 16. |139| [Word Break](https://leetcode.com/problems/word-break/)     | [C++](./C++/word-break.cpp) [Python](./Python/word-break.py) |  _O(n * l^2)_         | _O(n)_       | Medium         ||"
   ]
  },
  {
   "cell_type": "code",
   "execution_count": null,
   "metadata": {
    "collapsed": true
   },
   "outputs": [],
   "source": [
    "Given a string s and a dictionary of words dict, \n",
    "determine if s can be segmented into a space-separated sequence of one or more dictionary words.\n",
    "\n",
    "For example, given\n",
    "s = \"leetcode\",\n",
    "dict = [\"leet\", \"code\"].\n",
    "\n",
    "Return true because \"leetcode\" can be segmented as \"leet code\"."
   ]
  },
  {
   "cell_type": "code",
   "execution_count": null,
   "metadata": {
    "collapsed": true
   },
   "outputs": [],
   "source": [
    "# Time:  O(n * l^2)\n",
    "# Space: O(n)\n",
    "\n",
    "\n",
    "class Solution(object):\n",
    "    def wordBreak(self, s, wordDict):\n",
    "        \"\"\"\n",
    "        :type s: str\n",
    "        :type wordDict: Set[str]\n",
    "        :rtype: bool\n",
    "        \"\"\"\n",
    "        n = len(s)\n",
    "\n",
    "        max_len = 0\n",
    "        for string in wordDict:\n",
    "            max_len = max(max_len, len(string))\n",
    "\n",
    "        can_break = [False for _ in xrange(n + 1)]\n",
    "        can_break[0] = True\n",
    "        for i in xrange(1, n + 1):\n",
    "            for l in xrange(1, min(i, max_len) + 1):\n",
    "                if can_break[i-l] and s[i-l:i] in wordDict:\n",
    "                    can_break[i] = True\n",
    "                    break\n",
    "\n",
    "        return can_break[-1]\n",
    "\n",
    "    \n",
    "if __name__ == \"__main__\":\n",
    "    print Solution().wordBreak(\"leetcode\", [\"leet\", \"code\"])"
   ]
  },
  {
   "cell_type": "markdown",
   "metadata": {},
   "source": [
    "# 17. |152| [Maximum Product Subarray](https://leetcode.com/problems/maximum-product-subarray/)|[Python](./Python/maximum-product-subarray.py)| _O(n)_ | _O(1)_ | Medium     ||"
   ]
  },
  {
   "cell_type": "code",
   "execution_count": null,
   "metadata": {
    "collapsed": true
   },
   "outputs": [],
   "source": [
    "Find the contiguous subarray within an array (containing at least one number) which has the largest product.\n",
    "\n",
    "For example, given the array [2,3,-2,4],\n",
    "the contiguous subarray [2,3] has the largest product = 6."
   ]
  },
  {
   "cell_type": "code",
   "execution_count": null,
   "metadata": {
    "collapsed": true
   },
   "outputs": [],
   "source": [
    "# Time:  O(n)\n",
    "# Space: O(1)\n",
    "\n",
    "class Solution:\n",
    "    # @param A, a list of integers\n",
    "    # @return an integer\n",
    "    def maxProduct(self, A):\n",
    "        global_max, local_max, local_min = float(\"-inf\"), 1, 1\n",
    "        for x in A:\n",
    "            local_max, local_min = max(x, local_max * x, local_min * x), min(x, local_max * x, local_min * x)\n",
    "            global_max = max(global_max, local_max)\n",
    "        return global_max\n",
    "\n",
    "class Solution2:\n",
    "    # @param A, a list of integers\n",
    "    # @return an integer\n",
    "    def maxProduct(self, A):\n",
    "        global_max, local_max, local_min = float(\"-inf\"), 1, 1\n",
    "        for x in A:\n",
    "            local_max = max(1, local_max)\n",
    "            if x > 0:\n",
    "                local_max, local_min = local_max * x, local_min * x\n",
    "            else:\n",
    "                local_max, local_min = local_min * x, local_max * x\n",
    "            global_max = max(global_max, local_max)\n",
    "        return global_max\n",
    "\n",
    "if __name__ == \"__main__\":\n",
    "    print Solution().maxProduct([2, 3, -2, 4])\n",
    "    print Solution().maxProduct([-4,-3])"
   ]
  },
  {
   "cell_type": "markdown",
   "metadata": {},
   "source": [
    "# 18. |174| [Dungeon Game](https://leetcode.com/problems/dungeon-game/)  | [Python](./Python/dungeon-game.py)| _O(m * n)_     | _O(m + n)_      | Hard           ||"
   ]
  },
  {
   "cell_type": "code",
   "execution_count": null,
   "metadata": {
    "collapsed": true
   },
   "outputs": [],
   "source": [
    "The demons had captured the princess (P) and imprisoned her \n",
    "in the bottom-right corner of a dungeon. T\n",
    "he dungeon consists of M x N rooms laid out in a 2D grid. \n",
    "Our valiant knight (K) was initially positioned in the top-left room \n",
    "and must fight his way through the dungeon to rescue the princess.\n",
    "\n",
    "The knight has an initial health point represented by a positive integer. \n",
    "If at any point his health point drops to 0 or below, he dies immediately.\n",
    "\n",
    "Some of the rooms are guarded by demons, \n",
    "so the knight loses health (negative integers) upon entering these rooms; \n",
    "other rooms are either empty (0's) or contain magic orbs that increase the knight's health (positive integers).\n",
    "\n",
    "In order to reach the princess as quickly as possible, \n",
    "the knight decides to move only rightward or downward in each step.\n",
    "\n",
    "\n",
    "Write a function to determine the knight's minimum initial health \n",
    "so that he is able to rescue the princess.\n",
    "\n",
    "For example, given the dungeon below, the initial health of \n",
    "the knight must be at least 7 if he follows the optimal path RIGHT-> RIGHT -> DOWN -> DOWN.\n",
    "\n",
    "Notes:\n",
    "\n",
    "The knight's health has no upper bound.\n",
    "Any room can contain threats or power-ups, even the first room the knight enters \n",
    "and the bottom-right room where the princess is imprisoned.\n"
   ]
  },
  {
   "cell_type": "code",
   "execution_count": null,
   "metadata": {
    "collapsed": true
   },
   "outputs": [],
   "source": [
    "# Time:  O(m * n)\n",
    "# Space: O(m + n)\n",
    "\n",
    "class Solution:\n",
    "    # @param dungeon, a list of lists of integers\n",
    "    # @return a integer\n",
    "    def calculateMinimumHP(self, dungeon):\n",
    "        DP = [float(\"inf\") for _ in dungeon[0]]\n",
    "        DP[-1] = 1\n",
    "        \n",
    "        for i in reversed(xrange(len(dungeon))):\n",
    "            DP[-1] = max(DP[-1] - dungeon[i][-1], 1)\n",
    "            for j in reversed(xrange(len(dungeon[i]) - 1)):\n",
    "                min_HP_on_exit = min(DP[j], DP[j + 1])\n",
    "                DP[j] = max(min_HP_on_exit - dungeon[i][j], 1)\n",
    "                \n",
    "        return DP[0]"
   ]
  },
  {
   "cell_type": "markdown",
   "metadata": {},
   "source": [
    "# 19. |188| [Best Time to Buy and Sell Stock IV](https://leetcode.com/problems/best-time-to-buy-and-sell-stock-iv/)| [Python](./Python/best-time-to-buy-and-sell-stock-iv.py) | _O(k * n)_ | _O(k)_ | Hard ||"
   ]
  },
  {
   "cell_type": "code",
   "execution_count": null,
   "metadata": {
    "collapsed": true
   },
   "outputs": [],
   "source": [
    "\n",
    "Say you have an array for which the ith element is the price of a given stock on day i.\n",
    "\n",
    "Design an algorithm to find the maximum profit. You may complete at most k transactions.\n",
    "\n",
    "Note:\n",
    "You may not engage in multiple transactions at the same time (ie, you must sell the stock before you buy again).\n",
    "\n"
   ]
  },
  {
   "cell_type": "code",
   "execution_count": null,
   "metadata": {
    "collapsed": true
   },
   "outputs": [],
   "source": [
    "# Time:  O(k * n)\n",
    "# Space: O(k)\n",
    "\n",
    "class Solution:\n",
    "    # @return an integer as the maximum profit \n",
    "    def maxProfit(self, k, prices):\n",
    "        if k >= len(prices) / 2:\n",
    "            return self.maxAtMostNPairsProfit(prices)\n",
    "\n",
    "        return self.maxAtMostKPairsProfit(prices, k)\n",
    "\n",
    "    def maxAtMostNPairsProfit(self, prices):\n",
    "        profit = 0\n",
    "        for i in xrange(len(prices) - 1):\n",
    "            profit += max(0, prices[i + 1] - prices[i])     \n",
    "        return profit\n",
    "\n",
    "    def maxAtMostKPairsProfit(self, prices, k):\n",
    "        max_buy = [float(\"-inf\") for _ in xrange(k + 1)]\n",
    "        max_sell = [0 for _ in xrange(k + 1)]\n",
    "\n",
    "        for i in xrange(len(prices)):\n",
    "            for j in xrange(1, min(k, i/2+1) + 1):\n",
    "                max_buy[j] = max(max_buy[j], max_sell[j-1] - prices[i])\n",
    "                max_sell[j] = max(max_sell[j], max_buy[j] + prices[i])\n",
    "\n",
    "        return max_sell[k]\n",
    "\n",
    "if __name__ == \"__main__\":\n",
    "    print Solution().maxAtMostKPairsProfit([1, 2, 3, 4], 2)"
   ]
  },
  {
   "cell_type": "markdown",
   "metadata": {},
   "source": [
    "# 20. |198| [House Robber](https://leetcode.com/problems/house-robber/)| [Python](./Python/house-robber.py) | _O(n)_          | _O(1)_          | Easy           ||"
   ]
  },
  {
   "cell_type": "markdown",
   "metadata": {},
   "source": [
    "# 21. |213| [House Robber II](https://leetcode.com/problems/house-robber-ii/)| [C++](./C++/house-robber-ii.cpp) [Python](./Python/house-robber-ii.py) | _O(n)_          | _O(1)_          | Medium           ||"
   ]
  },
  {
   "cell_type": "markdown",
   "metadata": {},
   "source": [
    "# 22. |221| [Maximal Square](https://leetcode.com/problems/maximal-square/)| [C++](./C++/maximal-square.cpp) [Python](./Python/maximal-square.py) | _O(n^2)_         | _O(n)_          | Medium           | EPI |"
   ]
  },
  {
   "cell_type": "markdown",
   "metadata": {},
   "source": [
    "|256| [Paint House](https://leetcode.com/problems/paint-house/) | [C++](./C++/paint-house.cpp) [Python](./Python/paint-house.py) | _O(n)_| _O(1)_| Medium |📖||\n",
    "|265| [Paint House II](https://leetcode.com/problems/paint-house-ii/) | [C++](./C++/paint-house-ii.cpp) [Python](./Python/paint-house-ii.py) | _O(n * k)_| _O(k)_| Hard |📖||\n",
    "|276| [Paint Fence](https://leetcode.com/problems/paint-fence/) | [C++](./C++/paint-fence.cpp) [Python](./Python/paint-fence.py) | _O(n)_| _O(1)_| Easy |📖||\n",
    "|279| [Perfect Squares](https://leetcode.com/problems/perfect-squares/)| [C++](./C++/perfect-squares.cpp) [Python](./Python/perfect-squares.py) | _O(n * sqrt(n))_         | _O(n)_          | Medium           ||  Hash |\n",
    "|303| [Range Sum Query - Immutable](https://leetcode.com/problems/range-sum-query-immutable/)| [C++](./C++/range-sum-query-immutable.cpp) [Python](./Python/range-sum-query-immutable.py) | ctor: _O(n)_, lookup: _O(1)_          | _O(n)_          | Easy           ||\n",
    "|304| [Range Sum Query 2D - Immutable](https://leetcode.com/problems/range-sum-query-2d-immutable/)| [C++](./C++/range-sum-query-2d-immutable.cpp) [Python](./Python/range-sum-query-2d-immutable.py) | ctor: _O(m * n)_, lookup: _O(1)_          | _O(m * n)_          | Medium           ||\n",
    "|309| [Best Time to Buy and Sell Stock with Cooldown](https://leetcode.com/problems/best-time-to-buy-and-sell-stock-with-cooldown/) | [C++](./C++/best-time-to-buy-and-sell-stock-with-cooldown.cpp) [Python](./Python/best-time-to-buy-and-sell-stock-with-cooldown.py) | _O(n)_ | _O(1)_ | Medium ||\n",
    "|312| [Burst Balloons](https://leetcode.com/problems/burst-balloons/) | [C++](./C++/burst-balloons.cpp) [Python](./Python/burst-balloons.py) | _O(n^3)_ | _O(n^2)_ | Hard ||\n",
    "|322| [Coin Change](https://leetcode.com/problems/coin-change/) | [C++](./C++/coin-change.cpp) [Python](./Python/coin-change.py) | _O(n * k)_ | _O(k)_ | Medium ||\n",
    "|351| [Android Unlock Patterns](https://leetcode.com/problems/android-unlock-patterns/) | [C++](./C++/android-unlock-patterns.cpp) [Python](./Python/android-unlock-patterns.py) | _O(9^2 * 2^9)_ | _O(9 * 2^9)_ | Medium | 📖 | Backtracking |\n",
    "|357| [Count Numbers with Unique Digits](https://leetcode.com/problems/count-numbers-with-unique-digits/) | [C++](./C++/count-numbers-with-unique-digits.cpp) [Python](./Python/count-numbers-with-unique-digits.py) | _O(n)_ | _O(1)_ | Medium || Backtracking, Math |\n",
    "|361| [Bomb Enemy](https://leetcode.com/problems/bomb-enemy/) | [C++](./C++/bomb-enemy.cpp) [Python](./Python/bomb-enemy.py) | _O(m * n)_ | _O(m * n)_ | Medium | 📖 | |\n",
    "|368| [Largest Divisible Subset](https://leetcode.com/problems/largest-divisible-subset/) | [C++](./C++/largest-divisible-subset.cpp) [Python](./Python/largest-divisible-subset.py) | _O(n^2)_ | _O(n)_ | Medium | | |\n",
    "|375| [Guess Number Higher or Lower II](https://leetcode.com/problems/guess-number-higher-or-lower-ii/)| [C++](./C++/guess-number-higher-or-lower-ii.cpp) [Python](./Python/guess-number-higher-or-lower-ii.py)   | _O(n^2)_          | _O(n^2)_          | Medium         | |\n",
    "|377| [Combination Sum IV](https://leetcode.com/problems/combination-sum-iv/)| [C++](./C++/combination-sum-iv.cpp) [Python](./Python/combination-sum-iv.py)   | _O(nlogn + n * t)_          | _O(t)_          | Medium         | |\n",
    "|403 | [Frog Jump](https://leetcode.com/problems/frog-jump/) | [C++](./C++/frog-jump.cpp) [Python](./Python/frog-jump.py) | _O(n)_ | _O(n) ~ O(n^2)_ | Hard ||\n",
    "|416 | [Partition Equal Subset Sum](https://leetcode.com/problems/partition-equal-subset-sum/) | [C++](./C++/partition-equal-subset-sum.cpp) [Python](./Python/partition-equal-subset-sum.py) | _O(n * s)_ | _O(s)_ | Medium ||\n",
    "|418 | [Sentence Screen Fitting](https://leetcode.com/problems/sentence-screen-fitting/) | [C++](./C++/sentence-screen-fitting.cpp) [Python](./Python/sentence-screen-fitting.py) | _O(r + n * c)_ | _O(n)_ | Medium |📖|\n",
    "|446 | [Arithmetic Slices II - Subsequence](https://leetcode.com/problems/arithmetic-slices-ii-subsequence/) | [C++](./C++/arithmetic-slices-ii-subsequence.cpp) [Python](./Python/arithmetic-slices-ii-subsequence.py) | _O(n^2)_ | _O(n * d)_ | Hard ||\n",
    "|465 | [Optimal Account Balancing](https://leetcode.com/problems/optimal-account-balancing/) | [C++](./C++/optimal-account-balancing.cpp) [Python](./Python/optimal-account-balancing.py) | _O(n * 2^n)_ | _O(n * 2^n)_ | Hard |📖|\n",
    "|466 | [Count The Repetitions](https://leetcode.com/problems/count-the-repetitions/) | [C++](./C++/count-the-repetitions.cpp) [Python](./Python/count-the-repetitions.py) | _O(s1 * min(s2, n1))_ | _O(s2)_ | Hard ||\n",
    "|467 | [Unique Substrings in Wraparound String](https://leetcode.com/problems/unique-substrings-in-wraparound-string/) | [C++](./C++/unique-substrings-in-wraparound-string.cpp) [Python](./Python/unique-substrings-in-wraparound-string.py) | _O(n)_ | _O(1)_ | Medium ||\n",
    "|471 | [Encode String with Shortest Length](https://leetcode.com/problems/encode-string-with-shortest-length/) | [C++](./C++/encode-string-with-shortest-length.cpp) [Python](./Python/encode-string-with-shortest-length.py) | _O(n^3)_ on average | _O(n^2)_ | Medium |📖|\n",
    "|472 | [Concatenated Words](https://leetcode.com/problems/concatenated-words/) | [C++](./C++/concatenated-words.cpp) [Python](./Python/concatenated-words.py) | _O(n * l^2)_ | _O(n * l)_ | Medium ||\n",
    "|474 | [Ones and Zeroes](https://leetcode.com/problems/ones-and-zeroes/) | [C++](./C++/ones-and-zeroes.cpp) [Python](./Python/ones-and-zeroes.py) | _O(s * m * n)_ | _O(m * n)_ | Medium ||\n"
   ]
  },
  {
   "cell_type": "code",
   "execution_count": null,
   "metadata": {
    "collapsed": true
   },
   "outputs": [],
   "source": []
  },
  {
   "cell_type": "code",
   "execution_count": null,
   "metadata": {
    "collapsed": true
   },
   "outputs": [],
   "source": []
  },
  {
   "cell_type": "code",
   "execution_count": null,
   "metadata": {
    "collapsed": true
   },
   "outputs": [],
   "source": []
  },
  {
   "cell_type": "code",
   "execution_count": null,
   "metadata": {
    "collapsed": true
   },
   "outputs": [],
   "source": []
  }
 ],
 "metadata": {
  "kernelspec": {
   "display_name": "Python 2",
   "language": "python",
   "name": "python2"
  },
  "language_info": {
   "codemirror_mode": {
    "name": "ipython",
    "version": 2
   },
   "file_extension": ".py",
   "mimetype": "text/x-python",
   "name": "python",
   "nbconvert_exporter": "python",
   "pygments_lexer": "ipython2",
   "version": "2.7.13"
  }
 },
 "nbformat": 4,
 "nbformat_minor": 0
}
