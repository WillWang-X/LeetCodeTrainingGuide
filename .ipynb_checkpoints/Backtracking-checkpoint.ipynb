{
 "cells": [
  {
   "cell_type": "markdown",
   "metadata": {},
   "source": [
    "# Backtracking"
   ]
  },
  {
   "cell_type": "markdown",
   "metadata": {},
   "source": [
    "![backtracking](https://upload.wikimedia.org/wikipedia/commons/thumb/8/8c/Sudoku_solved_by_bactracking.gif/220px-Sudoku_solved_by_bactracking.gif)"
   ]
  },
  {
   "cell_type": "markdown",
   "metadata": {},
   "source": [
    "|  #  | Title           |  Solution       |  Time           | Space           | Difficulty    | Tag          | Note| \n",
    "|-----|---------------- | --------------- | --------------- | --------------- | ------------- |--------------|-----|\n",
    "|17| [Letter Combinations of a Phone Number](https://leetcode.com/problems/letter-combinations-of-a-phone-number/)| [Python](./Python/letter-combinations-of-a-phone-number.py) | _O(n * 4^n)_ | _O(n)_ | Medium ||\n",
    "|22| [Generate Parentheses](https://leetcode.com/problems/generate-parentheses/)| [Python](./Python/generate-parentheses.py)| _O(4^n / n^(3/2))_ | _O(n)_   | Medium         ||\n",
    "|37| [Sudoku Solver](https://leetcode.com/problems/sudoku-solver/) | [Python](./Python/sudoku-solver.py) | _O((9!)^9)_  | _O(1)_          | Hard           ||\n",
    "|39| [Combination Sum](https://leetcode.com/problems/combination-sum/)| [Python](./Python/combination-sum.py) | _O(k * n^k)_    | _O(k)_          | Medium         ||\n",
    "|40| [Combination Sum II](https://leetcode.com/problems/combination-sum-ii/)| [Python](./Python/combination-sum-ii.py)| _O(k * C(n, k))_| _O(k)_         | Medium         ||\n",
    "|46| [Permutations](https://leetcode.com/problems/permutations/)| [Python](./Python/permutations.py) | _O(n * n!)_         | _O(n)_          | Medium         ||\n",
    "|47| [Permutations II](https://leetcode.com/problems/permutations-ii/)| [Python](./Python/permutations-ii.py) | _O(n * n!)_   | _O(n)_          | Medium           ||\n",
    "|51| [N-Queens](https://leetcode.com/problems/n-queens/)      | [Python](./Python/n-queens.py)   | _O(n!)_         | _O(n)_          | Hard           ||\n",
    "|52| [N-Queens-II](https://leetcode.com/problems/n-queens-ii/)   | [Python](./Python/n-queens-ii.py) | _O(n!)_        | _O(n)_          | Hard           ||\n",
    "|77| [Combinations](https://leetcode.com/problems/combinations/)  | [Python](./Python/combinations.py) | _O(n!)_       | _O(n)_          | Medium         ||\n",
    "|79| [Word Search](https://leetcode.com/problems/word-search/) | [Python](./Python/word-search.py) | _O(m * n * l)_ | _O(l)_  | Medium         ||\n",
    "|93| [Restore IP Addresses](https://leetcode.com/problems/restore-ip-addresses/) | [Python](./Python/restore-ip-addresses.py) | _O(1)_ | _O(1)_ | Medium         ||\n",
    "|78| [Subsets](https://leetcode.com/problems/subsets/)       | [C++](./C++/subsets.cpp)  [Python](./Python/subsets.py)    | _O(n * 2^n)_    | _O(1)_          | Medium         ||\n",
    "|90| [Subsets II](https://leetcode.com/problems/subsets-ii/)    | [C++](./C++/subsets-ii.cpp) [Python](./Python/subsets-ii.py) | _O(n * 2^n)_    | _O(1)_          | Medium         ||\n",
    "|126| [Word Ladder II](https://leetcode.com/problems/word-ladder-ii/)   |[Python](./Python/word-ladder-ii.py) | _O(n * d)_ | _O(d)_         | Hard         ||\n",
    "|131| [Palindrome Partitioning](https://leetcode.com/problems/palindrome-partitioning/) | [Python](./Python/palindrome-partitioning.py) | _O(n^2)_ ~ _O(2^n)_ | _O(n^2)_ | Medium ||\n",
    "|140| [Word Break II](https://leetcode.com/problems/word-break-ii/)  | [C++](./C++/word-break-ii.cpp) [Python](./Python/word-break-ii.py) |  _O(n * l^2 + n * r)_      | _O(n^2)_       | Hard           ||\n",
    "|212| [Word Search II](https://leetcode.com/problems/word-search-ii/) | [C++](./C++/word-search-ii.cpp) [Python](./Python/word-search-ii.py) | _O(m * n * l)_ | _O(l)_  | Hard         | LintCode | Trie, DFS\n",
    "|216| [Combination Sum III](https://leetcode.com/problems/combination-sum-iii/)| [C++](./C++/combination-sum-iii.cpp) [Python](./Python/combination-sum-iii.py) | _O(k * C(n, k))_    | _O(k)_          | Medium         ||\n",
    "|254| [Factor Combinations](https://leetcode.com/problems/factor-combinations/) | [C++](./C++/factor-combinations.cpp)  [Python](./Python/factor-combinations.py)  | _O(nlogn)_ | _O(logn)_ | Medium         |📖||\n",
    "|267| [Palindrome Permutation II](https://leetcode.com/problems/palindrome-permutation-ii/) | [C++](./C++/palindrome-permutation-ii.cpp) [Python](./Python/palindrome-permutation-ii.py)  | _O(n * n!)_ |  _O(n)_ | Medium         |📖||\n",
    "|291| [Word Pattern II](https://leetcode.com/problems/word-pattern-ii/) | [C++](./C++/word-pattern-ii.cpp)  [Python](./Python/word-pattern-ii.py)  | _O(n * C(n - 1, c - 1))_ | _O(n + c)_ | Hard         |📖||\n",
    "|294| [Flip Game II](https://leetcode.com/problems/flip-game-ii/) | [C++](./C++/flip-game-ii.cpp) [Python](./Python/flip-game-ii.py)  | _O(n + c^2)_ | _O(c)_ | Medium         |📖| DP, Hash |\n",
    "|320| [Generalized Abbreviation](https://leetcode.com/problems/generalized-abbreviation/) | [C++](./C++/generalized-abbreviation.cpp) [Python](./Python/generalized-abbreviation.py)  | _O(n * 2^n)_ | _O(n)_ | Medium         |📖||\n",
    "|425| [Word Squares](https://leetcode.com/problems/word-squares/) | [C++](./C++/word-squares.cpp) [Python](./Python/word-squares.py)  | _O(n^2 * n!)_ | _O(n^2)_ | Hard         |📖||\n"
   ]
  },
  {
   "cell_type": "markdown",
   "metadata": {},
   "source": [
    "# 0. What-Why-How?"
   ]
  },
  {
   "cell_type": "code",
   "execution_count": null,
   "metadata": {
    "collapsed": true
   },
   "outputs": [],
   "source": [
    "http://www.csie.ntnu.edu.tw/~u91029/Backtracking.html"
   ]
  },
  {
   "cell_type": "markdown",
   "metadata": {},
   "source": [
    "# 1. |17| [Letter Combinations of a Phone Number](https://leetcode.com/problems/letter-combinations-of-a-phone-number/)"
   ]
  },
  {
   "cell_type": "markdown",
   "metadata": {},
   "source": [
    "Given a digit string, return all possible letter combinations that the number could represent.\n",
    "\n",
    "A mapping of digit to letters (just like on the telephone buttons) is given below."
   ]
  },
  {
   "cell_type": "markdown",
   "metadata": {},
   "source": [
    "![letter combiantions of a phone number](http://upload.wikimedia.org/wikipedia/commons/thumb/7/73/Telephone-keypad2.svg/200px-Telephone-keypad2.svg.png)"
   ]
  },
  {
   "cell_type": "code",
   "execution_count": null,
   "metadata": {
    "collapsed": true
   },
   "outputs": [],
   "source": [
    "Input:Digit string \"23\"\n",
    "Output: [\"ad\", \"ae\", \"af\", \"bd\", \"be\", \"bf\", \"cd\", \"ce\", \"cf\"]."
   ]
  },
  {
   "cell_type": "markdown",
   "metadata": {},
   "source": [
    "## Solution"
   ]
  },
  {
   "cell_type": "code",
   "execution_count": 4,
   "metadata": {
    "collapsed": true
   },
   "outputs": [],
   "source": [
    "# Time: O(n * 4^n) ?\n",
    "# Space: O(n)\n",
    "# Letter Cominations of a Phone Number \n",
    "\n",
    "class Solution(object):\n",
    "    def letterCombinations(self, digits):\n",
    "        \"\"\"\n",
    "        :type digits: str\n",
    "        :rtype: List[str]\n",
    "        \"\"\"\n",
    "        if not digits:\n",
    "            return []\n",
    "        \n",
    "        lookup = [\"\",\"\",\"abc\",\"def\",\"ghi\",\"jkl\",\"mno\",\"pqrs\",\"tuv\",\"wxyz\"] #hash\n",
    "        result = []\n",
    "        \n",
    "        self.letterCombinationsRecu(result, digits, lookup, \"\", 0)\n",
    "        return result\n",
    "        \n",
    "    def letterCombinationsRecu(self, result, digits, lookup, cur, n):\n",
    "        if n == len(digits):\n",
    "            result.append(cur)\n",
    "        else:\n",
    "            for choice in lookup[int(digits[n])]:\n",
    "                self.letterCombinationsRecu(result,digits,lookup,cur+choice,n+1)"
   ]
  },
  {
   "cell_type": "code",
   "execution_count": 5,
   "metadata": {
    "collapsed": false
   },
   "outputs": [
    {
     "name": "stdout",
     "output_type": "stream",
     "text": [
      "['ad', 'ae', 'af', 'bd', 'be', 'bf', 'cd', 'ce', 'cf']\n"
     ]
    }
   ],
   "source": [
    "print Solution().letterCombinations(\"23\")"
   ]
  },
  {
   "cell_type": "markdown",
   "metadata": {},
   "source": [
    "# 2. |22| [Generate Parentheses](https://leetcode.com/problems/generate-parentheses/)"
   ]
  },
  {
   "cell_type": "code",
   "execution_count": null,
   "metadata": {
    "collapsed": true
   },
   "outputs": [],
   "source": [
    "Given n pairs of parentheses, write a function to generate all combinations of well-formed parentheses.\n",
    "\n",
    "For example, given n = 3, a solution set is:\n",
    "\n",
    "[\n",
    "  \"((()))\",\n",
    "  \"(()())\",\n",
    "  \"(())()\",\n",
    "  \"()(())\",\n",
    "  \"()()()\"\n",
    "]"
   ]
  },
  {
   "cell_type": "markdown",
   "metadata": {},
   "source": [
    "## Solution"
   ]
  },
  {
   "cell_type": "code",
   "execution_count": 7,
   "metadata": {
    "collapsed": true
   },
   "outputs": [],
   "source": [
    "# Time: O(4^n/n^(3/2)) ～=  Catalan numbers\n",
    "# Space: O(n)\n",
    "# Gnerate Parentheses\n",
    "\n",
    "class Solution(object):\n",
    "    def generateParenthesis(self, n):\n",
    "        \"\"\"\n",
    "        :type n: int\n",
    "        :rtype: List[str]\n",
    "        \"\"\"\n",
    "        result = []\n",
    "        self.generateParenthesisRecu(result,\"\",n,n)\n",
    "        return result \n",
    "    \n",
    "    def generateParenthesisRecu (self, result, current, left, right):\n",
    "        if left == 0 and right == 0:\n",
    "            result.append(current)\n",
    "        if left > 0:\n",
    "            self.generateParenthesisRecu(result, current+\"(\", left-1, right)\n",
    "        if left < right:\n",
    "            self.generateParenthesisRecu(result, current+\")\",left, right-1)"
   ]
  },
  {
   "cell_type": "code",
   "execution_count": 8,
   "metadata": {
    "collapsed": false
   },
   "outputs": [
    {
     "name": "stdout",
     "output_type": "stream",
     "text": [
      "['((()))', '(()())', '(())()', '()(())', '()()()']\n"
     ]
    }
   ],
   "source": [
    "print Solution().generateParenthesis(3)"
   ]
  },
  {
   "cell_type": "markdown",
   "metadata": {},
   "source": [
    "# 3. |37| [Sudoku Solver](https://leetcode.com/problems/sudoku-solver/) "
   ]
  },
  {
   "cell_type": "code",
   "execution_count": null,
   "metadata": {
    "collapsed": true
   },
   "outputs": [],
   "source": [
    "Write a program to solve a Sudoku puzzle by filling the empty cells.\n",
    "\n",
    "Empty cells are indicated by the character '.'.\n",
    "\n",
    "You may assume that there will be only one unique solution."
   ]
  },
  {
   "cell_type": "markdown",
   "metadata": {},
   "source": [
    " ![sudoku](http://upload.wikimedia.org/wikipedia/commons/thumb/f/ff/Sudoku-by-L2G-20050714.svg/250px-Sudoku-by-L2G-20050714.svg.png)"
   ]
  },
  {
   "cell_type": "code",
   "execution_count": null,
   "metadata": {
    "collapsed": true
   },
   "outputs": [],
   "source": [
    "A sudoku puzzle..."
   ]
  },
  {
   "cell_type": "markdown",
   "metadata": {},
   "source": [
    " ![sudoku](http://upload.wikimedia.org/wikipedia/commons/thumb/3/31/Sudoku-by-L2G-20050714_solution.svg/250px-Sudoku-by-L2G-20050714_solution.svg.png)"
   ]
  },
  {
   "cell_type": "markdown",
   "metadata": {},
   "source": [
    "## Solution"
   ]
  },
  {
   "cell_type": "code",
   "execution_count": null,
   "metadata": {
    "collapsed": true
   },
   "outputs": [],
   "source": [
    "# Time:  ((9!)^9)\n",
    "# Space: (1)\n",
    "\n",
    "\n",
    "class Solution(object):\n",
    "    def solveSudoku(self, board):\n",
    "        \"\"\"\n",
    "        :type board: List[List[str]]\n",
    "        :rtype: void Do not return anything, modify board in-place instead.\n",
    "        \"\"\"\n",
    "        def isValid(Board, x, y):\n",
    "            for i in range(9):\n",
    "                if i != x and board[i][y] == board[x][y]:\n",
    "                    return False\n",
    "            for j in range(9):\n",
    "                if j != y and board[x][j] == board[x][y]:\n",
    "                    return False\n",
    "            i = 3 * (x/3)\n",
    "            while i < 3*(x/3 + 1):\n",
    "                j = 3 * (y/3)\n",
    "                while j < 3*(y/3 + 1):\n",
    "                    if(i!=x or j!=y) and board[i][j] == board[x][y]:\n",
    "                        return False\n",
    "                    j += 1\n",
    "                i += 1\n",
    "            return True\n",
    "    \n",
    "        def solver(board):\n",
    "            for i in range(len(board)):\n",
    "                for j in range(len(board[0])):\n",
    "                    if(board[i][j] == '.'):\n",
    "                        for k in range(9):\n",
    "                            board[i][j] = chr(ord('1') + k)\n",
    "                            if isValid(board,i,j) and solver(board):\n",
    "                                return True \n",
    "                            board[i][j] = '.'\n",
    "                        return False \n",
    "            return True  \n",
    "        solver(board)"
   ]
  },
  {
   "cell_type": "code",
   "execution_count": null,
   "metadata": {
    "collapsed": true
   },
   "outputs": [],
   "source": [
    "board = \n",
    "[\n",
    "    [],\n",
    "    [],\n",
    "    [],\n",
    "    [],\n",
    "]\n",
    "print Solution().solveSudoku(board)"
   ]
  },
  {
   "cell_type": "markdown",
   "metadata": {},
   "source": [
    "## Notes"
   ]
  },
  {
   "cell_type": "markdown",
   "metadata": {},
   "source": [
    "[Sudoku Puzzle Solving Animation](https://www.youtube.com/watch?v=AUmidj4YH_4)"
   ]
  },
  {
   "cell_type": "markdown",
   "metadata": {},
   "source": [
    "![chess](https://ask.hellobi.com/uploads/article/20170207/7f0d5976184fdca5805386ad54e17e5c.gif) \n",
    "![go](https://ask.hellobi.com/uploads/article/20170207/3fefa7277761f643dcf51ae29c334c1a.gif)"
   ]
  },
  {
   "cell_type": "code",
   "execution_count": 11,
   "metadata": {
    "collapsed": false
   },
   "outputs": [
    {
     "data": {
      "text/plain": [
       "1"
      ]
     },
     "execution_count": 11,
     "metadata": {},
     "output_type": "execute_result"
    }
   ],
   "source": [
    "5/3"
   ]
  },
  {
   "cell_type": "code",
   "execution_count": 12,
   "metadata": {
    "collapsed": false
   },
   "outputs": [
    {
     "data": {
      "text/plain": [
       "49"
      ]
     },
     "execution_count": 12,
     "metadata": {},
     "output_type": "execute_result"
    }
   ],
   "source": [
    "ord('1')"
   ]
  },
  {
   "cell_type": "code",
   "execution_count": 13,
   "metadata": {
    "collapsed": false,
    "scrolled": true
   },
   "outputs": [
    {
     "data": {
      "text/plain": [
       "'1'"
      ]
     },
     "execution_count": 13,
     "metadata": {},
     "output_type": "execute_result"
    }
   ],
   "source": [
    "chr(ord('1'))"
   ]
  },
  {
   "cell_type": "markdown",
   "metadata": {},
   "source": [
    "# 4. |39| [Combination Sum](https://leetcode.com/problems/combination-sum/)"
   ]
  },
  {
   "cell_type": "code",
   "execution_count": null,
   "metadata": {
    "collapsed": true
   },
   "outputs": [],
   "source": [
    "Given a set of candidate numbers (C) (without duplicates) and a target number (T), \n",
    "find all unique combinations in C where the candidate numbers sums to T.\n",
    "\n",
    "The same repeated number may be chosen from C unlimited number of times.\n",
    "\n",
    "Note:\n",
    "All numbers (including target) will be positive integers.\n",
    "The solution set must not contain duplicate combinations.\n",
    "For example, given candidate set [2, 3, 6, 7] and target 7, \n",
    "A solution set is: \n",
    "[\n",
    "  [7],\n",
    "  [2, 2, 3]\n",
    "]"
   ]
  },
  {
   "cell_type": "code",
   "execution_count": null,
   "metadata": {
    "collapsed": true
   },
   "outputs": [],
   "source": [
    "先排序，便于坚持\n",
    "\n",
    "< 0 返回\n",
    "= 0 就记录\n",
    "\n",
    "特殊处理： 后一数"
   ]
  },
  {
   "cell_type": "markdown",
   "metadata": {},
   "source": [
    "# 6. |46| [Permutations](https://leetcode.com/problems/permutations/)"
   ]
  },
  {
   "cell_type": "code",
   "execution_count": null,
   "metadata": {
    "collapsed": true
   },
   "outputs": [],
   "source": []
  },
  {
   "cell_type": "markdown",
   "metadata": {},
   "source": [
    "# 7. |47| [Permutations II](https://leetcode.com/problems/permutations-ii/)"
   ]
  },
  {
   "cell_type": "markdown",
   "metadata": {},
   "source": [
    "# 8. |51| [N-Queens](https://leetcode.com/problems/n-queens/) "
   ]
  },
  {
   "cell_type": "markdown",
   "metadata": {},
   "source": [
    "# 9. |52| [N-Queens-II](https://leetcode.com/problems/n-queens-ii/) "
   ]
  },
  {
   "cell_type": "markdown",
   "metadata": {},
   "source": [
    "# 10. |77| [Combinations](https://leetcode.com/problems/combinations/)"
   ]
  }
 ],
 "metadata": {
  "kernelspec": {
   "display_name": "Python 2",
   "language": "python",
   "name": "python2"
  },
  "language_info": {
   "codemirror_mode": {
    "name": "ipython",
    "version": 2
   },
   "file_extension": ".py",
   "mimetype": "text/x-python",
   "name": "python",
   "nbconvert_exporter": "python",
   "pygments_lexer": "ipython2",
   "version": "2.7.13"
  }
 },
 "nbformat": 4,
 "nbformat_minor": 0
}
