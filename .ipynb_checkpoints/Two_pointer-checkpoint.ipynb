{
 "cells": [
  {
   "cell_type": "markdown",
   "metadata": {},
   "source": [
    "# Two Pointer"
   ]
  },
  {
   "cell_type": "markdown",
   "metadata": {},
   "source": [
    "|  #  | Title           |  Solution       |  Time           | Space           | Difficulty    | Tag          | Note| \n",
    "|-----|---------------- | --------------- | --------------- | --------------- | ------------- |--------------|-----|\n",
    "|19| [Remove Nth Node From End of List](https://leetcode.com/problems/remove-nth-node-from-end-of-list/)| [C++](./C++/remove-nth-node-from-end-of-list.cpp) [Python](./Python/remove-nth-node-from-end-of-list.py) | _O(n)_       | _O(1)_         | Easy         || \n",
    "|86| [Partition List](https://leetcode.com/problems/partition-list/)| [C++](./C++/partition-list.cpp) [Python](./Python/partition-list.py) | _O(n)_       | _O(1)_         | Medium         || \n",
    "|141| [Linked List Cycle](https://leetcode.com/problems/linked-list-cycle/)| [C++](./C++/linked-list-cycle.cpp) [Python](./Python/linked-list-cycle.py) | _O(n)_ | _O(1)_         | Easy         || \n",
    "|142| [Linked List Cycle II](https://leetcode.com/problems/linked-list-cycle-ii/)| [C++](./C++/linked-list-cycle-ii.cpp) [Python](./Python/linked-list-cycle-ii.py) | _O(n)_ | _O(1)_   | Medium         ||\n",
    "|143| [Reorder List](https://leetcode.com/problems/reorder-list/)| [C++](./C++/reorder-list.cpp) [Python](./Python/reorder-list.py) | _O(n)_          |  _O(1)_         | Medium         ||  \n",
    "|167| [Two Sum II - Input array is sorted](https://leetcode.com/problems/two-sum-ii-input-array-is-sorted/) | [C++](./C++/two-sum-ii-input-array-is-sorted.cpp) [Python](./Python/two-sum-ii-input-array-is-sorted.py) | _O(n)_   | _O(1)_         | Medium         | |\n",
    "|259 | [3Sum Smaller](https://leetcode.com/problems/3sum-smaller/) | [C++](./C++/3sum-smaller.cpp) [Python](./Python/3sum-smaller.py) | _O(n^2)_ | _O(1)_          | Medium         | 📖, LintCode |\n",
    "|283 | [Move Zeroes](https://leetcode.com/problems/move-zeroes/) | [C++](./C++/move-zeroes.cpp) [Python](./Python/move-zeroes.py) | _O(n)_ | _O(1)_          | Easy         | |\n",
    "|287| [Find the Duplicate Number](https://leetcode.com/problems/find-the-duplicate-number/)| [C++](./C++/find-the-duplicate-number.cpp) [Python](./Python/find-the-duplicate-number.py)   | _O(n)_          | _O(1)_          | Hard       | | Binary Search, Two Pointers |\n",
    "|344| [Reverse String](https://leetcode.com/problems/reverse-string/) | [C++](./C++/reverse-string.cpp)  [Python](./Python/reverse-string.py) | _O(n)_ | _O(1)_ | Easy         | |\n",
    "|345| [Reverse Vowels of a String](https://leetcode.com/problems/reverse-vowels-of-a-string/) | [C++](./C++/reverse-vowels-of-a-string.cpp)  [Python](./Python/reverse-vowels-of-a-string.py) | _O(n)_ | _O(1)_ | Easy         | |\n",
    "|349| [Intersection of Two Arrays](https://leetcode.com/problems/intersection-of-two-arrays/) | [C++](./C++/intersection-of-two-arrays.cpp)  [Python](./Python/intersection-of-two-arrays.py) | _O(m + n)_ | _O(min(m, n))_ | Easy         | EPI | Hash, Binary Search\n",
    "|350| [Intersection of Two Arrays II](https://leetcode.com/problems/intersection-of-two-arrays-ii/) | [C++](./C++/intersection-of-two-arrays-ii.cpp)  [Python](./Python/intersection-of-two-arrays-ii.py) | _O(m + n)_ | _O(1)_ | Easy         | EPI | Hash, Binary Search\n",
    "|360| [Sort Transformed Array](https://leetcode.com/problems/sort-transformed-array/) | [C++](./C++/sort-transformed-array.cpp)  [Python](./Python/sort-transformed-array.py) | _O(n)_ | _O(1)_ | Medium         |📖|\n",
    "|457| [Circular Array Loop](https://leetcode.com/problems/circular-array-loop/) | [C++](./C++/circular-array-loop.cpp)  [Python](./Python/circular-array-loop.py) | _O(n)_ | _O(1)_ | Medium         ||\n"
   ]
  },
  {
   "cell_type": "markdown",
   "metadata": {},
   "source": [
    "# 1. |19| [Remove Nth Node From End of List](https://leetcode.com/problems/remove-nth-node-from-end-of-list/)| [C++](./C++/remove-nth-node-from-end-of-list.cpp) [Python](./Python/remove-nth-node-from-end-of-list.py) | _O(n)_       | _O(1)_         | Easy         || \n"
   ]
  },
  {
   "cell_type": "markdown",
   "metadata": {},
   "source": [
    "# 2. |86| [Partition List](https://leetcode.com/problems/partition-list/)| [C++](./C++/partition-list.cpp) [Python](./Python/partition-list.py) | _O(n)_       | _O(1)_         | Medium         || "
   ]
  },
  {
   "cell_type": "markdown",
   "metadata": {},
   "source": [
    "# 3. |141| [Linked List Cycle](https://leetcode.com/problems/linked-list-cycle/)| [C++](./C++/linked-list-cycle.cpp) [Python](./Python/linked-list-cycle.py) | _O(n)_ | _O(1)_         | Easy         || \n"
   ]
  },
  {
   "cell_type": "code",
   "execution_count": null,
   "metadata": {
    "collapsed": true
   },
   "outputs": [],
   "source": [
    "Given a linked list, determine if it has a cycle in it.\n",
    "\n",
    "Follow up:\n",
    "Can you solve it without using extra space?"
   ]
  },
  {
   "cell_type": "code",
   "execution_count": 1,
   "metadata": {
    "collapsed": true
   },
   "outputs": [],
   "source": [
    "# Time:  O(n)\n",
    "# Space: O(1)\n",
    "# Linked List Cycle\n",
    "\n",
    "# Definition for singly-linked list.\n",
    "class ListNode:\n",
    "    def __init__(self, x):\n",
    "        self.val = x\n",
    "        self.next = None\n",
    "\n",
    "class Solution:\n",
    "    # @param head, a ListNode\n",
    "    # @return a boolean\n",
    "    def hasCycle(self, head):\n",
    "        fast, slow = head, head\n",
    "        while fast and fast.next:\n",
    "            fast, slow = fast.next.next, slow.next\n",
    "            if fast is slow:\n",
    "                return True\n",
    "        return False\n"
   ]
  },
  {
   "cell_type": "code",
   "execution_count": 2,
   "metadata": {
    "collapsed": false,
    "scrolled": true
   },
   "outputs": [
    {
     "name": "stdout",
     "output_type": "stream",
     "text": [
      "True\n"
     ]
    }
   ],
   "source": [
    "head = ListNode(1)\n",
    "head.next = ListNode(2)\n",
    "head.next.next = ListNode(3)\n",
    "head.next.next.next = head.next\n",
    "print Solution().hasCycle(head)"
   ]
  },
  {
   "cell_type": "code",
   "execution_count": null,
   "metadata": {
    "collapsed": true
   },
   "outputs": [],
   "source": [
    "https://www.youtube.com/watch?v=apIw0Opq5nk\n",
    "[Data Structures: Cycles in a Linked List](https://www.youtube.com/watch?v=MFOAbpfrJ8g)\n",
    "Detection of Loop in a Linked List | GeeksforGeeks: https://www.youtube.com/watch?v=Aup0kOWoMVg\n",
    "[Detect and Remove Loop in a Linked List](http://www.geeksforgeeks.org/detect-and-remove-loop-in-a-linked-list/)"
   ]
  },
  {
   "cell_type": "code",
   "execution_count": null,
   "metadata": {
    "collapsed": true
   },
   "outputs": [],
   "source": [
    "[Prove](https://www.quora.com/Why-we-increment-the-fast-pointer-by-two-cant-we-increment-it-by-3-or-4-and-slow-pointer-by-one-to-find-the-existence-of-loop-in-a-singly-linked-list-Any-proof-link-will-be-appreciated)"
   ]
  },
  {
   "cell_type": "markdown",
   "metadata": {},
   "source": [
    "# 4. |142| [Linked List Cycle II](https://leetcode.com/problems/linked-list-cycle-ii/)| [C++](./C++/linked-list-cycle-ii.cpp) [Python](./Python/linked-list-cycle-ii.py) | _O(n)_ | _O(1)_   | Medium         ||\n"
   ]
  },
  {
   "cell_type": "code",
   "execution_count": null,
   "metadata": {
    "collapsed": true
   },
   "outputs": [],
   "source": [
    "Given a linked list, return the node where the cycle begins. If there is no cycle, return null.\n",
    "\n",
    "Note: Do not modify the linked list.\n",
    "\n",
    "Follow up:\n",
    "Can you solve it without using extra space?"
   ]
  },
  {
   "cell_type": "code",
   "execution_count": null,
   "metadata": {
    "collapsed": true
   },
   "outputs": [],
   "source": [
    "# Time:  O(n)\n",
    "# Space: O(1)\n",
    "#\n",
    "# Given a linked list, return the node where the cycle begins. If there is no cycle, return null.\n",
    "# \n",
    "# Follow up:\n",
    "# Can you solve it without using extra space?\n",
    "#\n",
    "\n",
    "# Definition for singly-linked list.\n",
    "class ListNode:\n",
    "    def __init__(self, x):\n",
    "        self.val = x\n",
    "        self.next = None\n",
    "    \n",
    "    def __str__(self):\n",
    "        if self:\n",
    "            return \"{}\".format(self.val)\n",
    "        else:\n",
    "            return None\n",
    "        \n",
    "class Solution:\n",
    "    # @param head, a ListNode\n",
    "    # @return a list node\n",
    "    def detectCycle(self, head):\n",
    "        fast, slow = head, head\n",
    "        while fast and fast.next:\n",
    "            fast, slow = fast.next.next, slow.next\n",
    "            if fast is slow:\n",
    "                fast = head\n",
    "                while fast is not slow:\n",
    "                    fast, slow = fast.next, slow.next\n",
    "                return fast\n",
    "        return None\n",
    "\n",
    "if __name__ == \"__main__\":\n",
    "    head = ListNode(1)\n",
    "    head.next = ListNode(2)\n",
    "    head.next.next = ListNode(3)\n",
    "    head.next.next.next = head.next\n",
    "    print Solution().detectCycle(head)"
   ]
  },
  {
   "cell_type": "code",
   "execution_count": null,
   "metadata": {
    "collapsed": true
   },
   "outputs": [],
   "source": [
    "# Definition for singly-linked list.\n",
    "# class ListNode(object):\n",
    "#     def __init__(self, x):\n",
    "#         self.val = x\n",
    "#         self.next = None\n",
    "\n",
    "class Solution(object):\n",
    "    def detectCycle(self, head):\n",
    "        \"\"\"\n",
    "        :type head: ListNode\n",
    "        :rtype: ListNode\n",
    "        \"\"\"\n",
    "        X = set()\n",
    "        curr = head\n",
    "        while curr != None:\n",
    "            if curr in X:\n",
    "                return curr\n",
    "            else:\n",
    "                X.add(curr)\n",
    "            curr = curr.next\n",
    "        return None"
   ]
  },
  {
   "cell_type": "markdown",
   "metadata": {},
   "source": [
    "# 5. |143| [Reorder List](https://leetcode.com/problems/reorder-list/)| [C++](./C++/reorder-list.cpp) [Python](./Python/reorder-list.py) | _O(n)_          |  _O(1)_         | Medium         ||  \n"
   ]
  },
  {
   "cell_type": "markdown",
   "metadata": {},
   "source": [
    "# 6. |167| [Two Sum II - Input array is sorted](https://leetcode.com/problems/two-sum-ii-input-array-is-sorted/) | [C++](./C++/two-sum-ii-input-array-is-sorted.cpp) [Python](./Python/two-sum-ii-input-array-is-sorted.py) | _O(n)_   | _O(1)_         | Medium         | |\n"
   ]
  },
  {
   "cell_type": "markdown",
   "metadata": {},
   "source": [
    "# 7. |259 | [3Sum Smaller](https://leetcode.com/problems/3sum-smaller/) | [C++](./C++/3sum-smaller.cpp) [Python](./Python/3sum-smaller.py) | _O(n^2)_ | _O(1)_          | Medium         | 📖, LintCode |\n"
   ]
  },
  {
   "cell_type": "markdown",
   "metadata": {},
   "source": [
    "# 8. |283 | [Move Zeroes](https://leetcode.com/problems/move-zeroes/) | [C++](./C++/move-zeroes.cpp) [Python](./Python/move-zeroes.py) | _O(n)_ | _O(1)_          | Easy         | |\n"
   ]
  },
  {
   "cell_type": "markdown",
   "metadata": {},
   "source": [
    "# 9. |287| [Find the Duplicate Number](https://leetcode.com/problems/find-the-duplicate-number/)| [C++](./C++/find-the-duplicate-number.cpp) [Python](./Python/find-the-duplicate-number.py)   | _O(n)_          | _O(1)_          | Hard       | | Binary Search, Two Pointers |\n"
   ]
  },
  {
   "cell_type": "code",
   "execution_count": null,
   "metadata": {
    "collapsed": true
   },
   "outputs": [],
   "source": [
    "Given an array nums containing n + 1 integers where each integer is between 1 and n (inclusive), \n",
    "prove that at least one duplicate number must exist. \n",
    "Assume that there is only one duplicate number, find the duplicate one.\n",
    "\n",
    "Note:\n",
    "You must not modify the array (assume the array is read only).\n",
    "You must use only constant, O(1) extra space.\n",
    "Your runtime complexity should be less than O(n2).\n",
    "There is only one duplicate number in the array, but it could be repeated more than once."
   ]
  },
  {
   "cell_type": "code",
   "execution_count": null,
   "metadata": {
    "collapsed": true
   },
   "outputs": [],
   "source": [
    "# Time:  O(n)\n",
    "# Space: O(1)\n",
    "#\n",
    "\n",
    "class Solution(object):\n",
    "    def findDuplicate(self, nums):\n",
    "        \"\"\"\n",
    "        :type nums: List[int]\n",
    "        :rtype: int\n",
    "        \"\"\"\n",
    "\n",
    "        # treat each (index, value) pair of the array as the (pointer, next) node of the linked list\n",
    "        # then we use the method used in the linked list cycle \n",
    "        \n",
    "        # We must start from the first element of the array, thus we can find a duplicate element \n",
    "        # cuase we have two pointers pointing the same element in this case.\n",
    "        slow = nums[0]\n",
    "        fast = nums[nums[0]]\n",
    "        \n",
    "        while slow != fast:\n",
    "            slow = nums[slow]\n",
    "            fast = nums[nums[fast]]\n",
    "\n",
    "        fast = 0\n",
    "        while slow != fast:\n",
    "            slow = nums[slow]\n",
    "            fast = nums[fast]\n",
    "        return slow"
   ]
  },
  {
   "cell_type": "markdown",
   "metadata": {},
   "source": [
    "# 10. |344| [Reverse String](https://leetcode.com/problems/reverse-string/) | [C++](./C++/reverse-string.cpp)  [Python](./Python/reverse-string.py) | _O(n)_ | _O(1)_ | Easy         | |\n"
   ]
  },
  {
   "cell_type": "code",
   "execution_count": null,
   "metadata": {
    "collapsed": true
   },
   "outputs": [],
   "source": [
    "Given a singly linked list L: L0→L1→…→Ln-1→Ln,\n",
    "reorder it to: L0→Ln→L1→Ln-1→L2→Ln-2→…\n",
    "\n",
    "You must do this in-place without altering the nodes' values.\n",
    "\n",
    "For example,\n",
    "Given {1,2,3,4}, reorder it to {1,4,2,3}."
   ]
  },
  {
   "cell_type": "code",
   "execution_count": null,
   "metadata": {
    "collapsed": true
   },
   "outputs": [],
   "source": [
    "# Time:  O(n)\n",
    "# Space: O(n)\n",
    "# Reverse String \n",
    "\n",
    "class Solution(object):\n",
    "    def reverseString(self, s):\n",
    "        \"\"\"\n",
    "        :type s: str\n",
    "        :rtype: str\n",
    "        \"\"\"\n",
    "        string = list(s)\n",
    "        i, j = 0, len(string) - 1\n",
    "        while i < j:\n",
    "            string[i], string[j] = string[j], string[i]\n",
    "            i += 1\n",
    "            j -= 1\n",
    "        return \"\".join(string)"
   ]
  },
  {
   "cell_type": "code",
   "execution_count": 3,
   "metadata": {
    "collapsed": false
   },
   "outputs": [
    {
     "name": "stdout",
     "output_type": "stream",
     "text": [
      "['h', 'e', 'l', 'l', 'o']\n"
     ]
    }
   ],
   "source": [
    "s = 'hello'\n",
    "string = list(s)\n",
    "print string "
   ]
  },
  {
   "cell_type": "markdown",
   "metadata": {},
   "source": [
    "# 11. |345| [Reverse Vowels of a String](https://leetcode.com/problems/reverse-vowels-of-a-string/) | [C++](./C++/reverse-vowels-of-a-string.cpp)  [Python](./Python/reverse-vowels-of-a-string.py) | _O(n)_ | _O(1)_ | Easy         | |\n"
   ]
  },
  {
   "cell_type": "code",
   "execution_count": null,
   "metadata": {
    "collapsed": true
   },
   "outputs": [],
   "source": [
    "Write a function that takes a string as input \n",
    "and reverse only the vowels of a string.\n",
    "\n",
    "Example 1:\n",
    "Given s = \"hello\", return \"holle\".\n",
    "\n",
    "Example 2:\n",
    "Given s = \"leetcode\", return \"leotcede\"."
   ]
  },
  {
   "cell_type": "code",
   "execution_count": null,
   "metadata": {
    "collapsed": true
   },
   "outputs": [],
   "source": [
    "# Time:  O(n)\n",
    "# Space: O(1)\n",
    "\n",
    "class Solution(object):\n",
    "    def reverseVowels(self, s):\n",
    "        \"\"\"\n",
    "        :type s: str\n",
    "        :rtype: str\n",
    "        \"\"\"\n",
    "        vowels = \"aeiou\"\n",
    "        string = list(s)\n",
    "        i, j = 0, len(s) - 1\n",
    "        while i < j:\n",
    "            if string[i].lower() not in vowels:\n",
    "                i += 1\n",
    "            elif string[j].lower() not in vowels:\n",
    "                j -= 1\n",
    "            else:\n",
    "                string[i], string[j] = string[j], string[i]\n",
    "                i += 1\n",
    "                j -= 1\n",
    "        return \"\".join(string)"
   ]
  },
  {
   "cell_type": "markdown",
   "metadata": {},
   "source": [
    "# 12. |349| [Intersection of Two Arrays](https://leetcode.com/problems/intersection-of-two-arrays/) | [C++](./C++/intersection-of-two-arrays.cpp)  [Python](./Python/intersection-of-two-arrays.py) | _O(m + n)_ | _O(min(m, n))_ | Easy         | EPI | Hash, Binary Search\n"
   ]
  },
  {
   "cell_type": "code",
   "execution_count": null,
   "metadata": {
    "collapsed": true
   },
   "outputs": [],
   "source": [
    "Given two arrays, write a function to compute their intersection.\n",
    "\n",
    "Example:\n",
    "Given nums1 = [1, 2, 2, 1], nums2 = [2, 2], return [2].\n",
    "\n",
    "Note:\n",
    "Each element in the result must be unique.\n",
    "The result can be in any order.\n",
    "\n",
    "Hash solution."
   ]
  },
  {
   "cell_type": "code",
   "execution_count": null,
   "metadata": {
    "collapsed": true
   },
   "outputs": [],
   "source": [
    "# Time:  O(m + n)\n",
    "# Space: O(min(m, n))\n",
    "\n",
    "class Solution(object):\n",
    "    def intersection(self, nums1, nums2):\n",
    "        \"\"\"\n",
    "        :type nums1: List[int]\n",
    "        :type nums2: List[int]\n",
    "        :rtype: List[int]\n",
    "        \"\"\"\n",
    "        if len(nums1) > len(nums2):\n",
    "            return self.intersection(nums2, nums1)\n",
    "  \n",
    "        lookup = set()\n",
    "        for i in nums1:\n",
    "            lookup.add(i)\n",
    "\n",
    "        res = []\n",
    "        for i in nums2:\n",
    "            if i in lookup:\n",
    "                res += i,\n",
    "                lookup.discard(i)\n",
    "\n",
    "        return res\n",
    "\n",
    "    def intersection2(self, nums1, nums2):\n",
    "        \"\"\"\n",
    "        :type nums1: List[int]\n",
    "        :type nums2: List[int]\n",
    "        :rtype: List[int]\n",
    "        \"\"\"\n",
    "        return list(set(nums1) & set(nums2))"
   ]
  },
  {
   "cell_type": "markdown",
   "metadata": {},
   "source": [
    "# Notes"
   ]
  },
  {
   "cell_type": "code",
   "execution_count": null,
   "metadata": {
    "collapsed": true
   },
   "outputs": [],
   "source": [
    "Set(num1)"
   ]
  },
  {
   "cell_type": "markdown",
   "metadata": {},
   "source": [
    "# 13. |350| [Intersection of Two Arrays II](https://leetcode.com/problems/intersection-of-two-arrays-ii/) | [C++](./C++/intersection-of-two-arrays-ii.cpp)  [Python](./Python/intersection-of-two-arrays-ii.py) | _O(m + n)_ | _O(1)_ | Easy         | EPI | Hash, Binary Search\n"
   ]
  },
  {
   "cell_type": "code",
   "execution_count": null,
   "metadata": {
    "collapsed": true
   },
   "outputs": [],
   "source": [
    "# If the given array is not sorted and the memory is unlimited:\n",
    "#   - Time:  O(m + n)\n",
    "#   - Space: O(min(m, n))\n",
    "# elif the given array is already sorted:\n",
    "#   if m << n or m >> n:\n",
    "#     - Time:  O(min(m, n) * log(max(m, n)))\n",
    "#     - Space: O(1)\n",
    "#   else:\n",
    "#     - Time:  O(m + n)\n",
    "#     - Soace: O(1)\n",
    "# else: (the given array is not sorted and the memory is limited)\n",
    "#     - Time:  O(max(m, n) * log(max(m, n)))\n",
    "#     - Space: O(1)\n",
    "\n",
    "Given two arrays, write a function to compute their intersection.\n",
    "\n",
    "Example:\n",
    "Given nums1 = [1, 2, 2, 1], nums2 = [2, 2], return [2, 2].\n",
    "\n",
    "Note:\n",
    "Each element in the result should appear as many times as it shows in both arrays.\n",
    "The result can be in any order.\n",
    "\n",
    "Follow up:\n",
    "- What if the given array is already sorted? How would you optimize your algorithm? # merge sort \n",
    "- What if nums1's size is small compared to num2's size? Which algorithm is better? # 短的建hash, 数count ? \n",
    "- What if elements of nums2 are stored on disk, and the memory is limited such that\n",
    "  you cannot load all elements into the memory at once?\n",
    "\n",
    "\n",
    "# If the given array is not sorted and the memory is unlimited.\n",
    "# Time:  O(m + n)\n",
    "# Space: O(min(m, n))\n",
    "# Hash solution."
   ]
  },
  {
   "cell_type": "code",
   "execution_count": null,
   "metadata": {
    "collapsed": true
   },
   "outputs": [],
   "source": [
    "\n",
    "import collections\n",
    "\n",
    "\n",
    "class Solution(object):\n",
    "    def intersect(self, nums1, nums2):\n",
    "        \"\"\"\n",
    "        :type nums1: List[int]\n",
    "        :type nums2: List[int]\n",
    "        :rtype: List[int]\n",
    "        \"\"\"\n",
    "        if len(nums1) > len(nums2):\n",
    "            return self.intersect(nums2, nums1)\n",
    "  \n",
    "        lookup = collections.defaultdict(int)\n",
    "        for i in nums1:\n",
    "            lookup[i] += 1\n",
    "\n",
    "        res = []\n",
    "        for i in nums2:\n",
    "            if lookup[i] > 0:\n",
    "                res += i,\n",
    "                lookup[i] -= 1\n",
    "\n",
    "        return res\n",
    "\n",
    "#     def intersect2(self, nums1, nums2):\n",
    "#         \"\"\"\n",
    "#         :type nums1: List[int]\n",
    "#         :type nums2: List[int]\n",
    "#         :rtype: List[int]\n",
    "#         \"\"\"\n",
    "#         c = collections.Counter(nums1) & collections.Counter(nums2)\n",
    "#         intersect = []\n",
    "#         for i in c:\n",
    "#             intersect.extend([i] * c[i])\n",
    "#         return intersect\n"
   ]
  },
  {
   "cell_type": "code",
   "execution_count": null,
   "metadata": {
    "collapsed": true
   },
   "outputs": [],
   "source": []
  },
  {
   "cell_type": "markdown",
   "metadata": {},
   "source": [
    "# 14. |360| [Sort Transformed Array](https://leetcode.com/problems/sort-transformed-array/) | [C++](./C++/sort-transformed-array.cpp)  [Python](./Python/sort-transformed-array.py) | _O(n)_ | _O(1)_ | Medium         |📖|\n",
    " "
   ]
  },
  {
   "cell_type": "code",
   "execution_count": null,
   "metadata": {
    "collapsed": true
   },
   "outputs": [],
   "source": [
    "Given a sorted array of integers nums and integer values a, b and c. \n",
    "Apply a function of the form f(x) = ax2 + bx + c to each element x in the array.\n",
    "\n",
    "The returned array must be in sorted order.\n",
    "\n",
    "Expected time complexity: O(n)\n",
    "\n",
    "Example:\n",
    "nums = [-4, -2, 2, 4], a = 1, b = 3, c = 5,\n",
    "\n",
    "Result: [3, 9, 15, 33]\n",
    "\n",
    "nums = [-4, -2, 2, 4], a = -1, b = 3, c = 5\n",
    "\n",
    "Result: [-23, -5, 1, 7]"
   ]
  },
  {
   "cell_type": "code",
   "execution_count": null,
   "metadata": {
    "collapsed": true
   },
   "outputs": [],
   "source": [
    "# Time:  O(n)\n",
    "# Space: O(1)\n",
    "\n",
    "class Solution(object):\n",
    "    def sortTransformedArray(self, nums, a, b, c):\n",
    "        \"\"\"\n",
    "        :type nums: List[int]\n",
    "        :type a: int\n",
    "        :type b: int\n",
    "        :type c: int\n",
    "        :rtype: List[int]\n",
    "        \"\"\"\n",
    "        f = lambda x, a, b, c : a * x * x + b * x + c\n",
    "\n",
    "        result = []\n",
    "        if not nums:\n",
    "            return result\n",
    "\n",
    "        left, right = 0, len(nums) - 1\n",
    "        d = -1 if a > 0 else 1\n",
    "        while left <= right:\n",
    "            if d * f(nums[left], a, b, c) < d * f(nums[right], a, b, c):\n",
    "                result.append(f(nums[left], a, b, c))\n",
    "                left += 1\n",
    "            else:\n",
    "                result.append(f(nums[right], a, b, c))\n",
    "                right -= 1\n",
    "\n",
    "        return result[::d]"
   ]
  },
  {
   "cell_type": "code",
   "execution_count": null,
   "metadata": {
    "collapsed": true
   },
   "outputs": [],
   "source": [
    "http://www.cnblogs.com/grandyang/p/5595614.html"
   ]
  },
  {
   "cell_type": "markdown",
   "metadata": {},
   "source": [
    "# 15. |457| [Circular Array Loop](https://leetcode.com/problems/circular-array-loop/) | [C++](./C++/circular-array-loop.cpp)  [Python](./Python/circular-array-loop.py) | _O(n)_ | _O(1)_ | Medium         ||\n"
   ]
  },
  {
   "cell_type": "code",
   "execution_count": null,
   "metadata": {
    "collapsed": true
   },
   "outputs": [],
   "source": [
    "You are given an array of positive and negative integers.\n",
    "If a number n at an index is positive, then move forward n steps.\n",
    "Conversely, if it's negative (-n), move backward n steps.\n",
    "Assume the first element of the array is forward next to the last element,\n",
    "and the last element is backward next to the first element.\n",
    "Determine if there is a loop in this array.\n",
    "A loop starts and ends at a particular index with more than 1 element along the loop.\n",
    "The loop must be \"forward\" or \"backward'.\n",
    "\n",
    "Example 1: Given the array [2, -1, 1, 2, 2], there is a loop, from index 0 -> 2 -> 3 -> 0.\n",
    "\n",
    "Example 2: Given the array [-1, 2], there is no loop.\n",
    "\n",
    "Note: The given array is guaranteed to contain no element \"0\".\n",
    "\n",
    "Can you do it in O(n) time complexity and O(1) space complexity?"
   ]
  },
  {
   "cell_type": "code",
   "execution_count": null,
   "metadata": {
    "collapsed": true
   },
   "outputs": [],
   "source": [
    "# Time:  O(n)\n",
    "# Space: O(1)\n",
    "# Circular Array Loop\n",
    "\n",
    "class Solution(object):\n",
    "    def circularArrayLoop(self, nums):\n",
    "        \"\"\"\n",
    "        :type nums: List[int]\n",
    "        :rtype: bool\n",
    "        \"\"\"\n",
    "        def next_index(nums, i):\n",
    "            return (i + nums[i]) % len(nums)\n",
    "            # Java 要加上 % \n",
    "            \n",
    "        for i in xrange(len(nums)):\n",
    "            if nums[i] == 0:\n",
    "                continue\n",
    "            \n",
    "            slow, fast = i, i\n",
    "            while nums[next_index(nums, slow)] * nums[i] > 0 and \\\n",
    "                  nums[next_index(nums, fast)] * nums[i] > 0 and \\\n",
    "                  nums[next_index(nums, next_index(nums, fast))] * nums[i] > 0:\n",
    "                slow = next_index(nums, slow)\n",
    "                fast = next_index(nums, next_index(nums, fast))\n",
    "                if slow == fast: \n",
    "                    if slow == next_index(nums, slow):\n",
    "                        break\n",
    "                    return True\n",
    "\n",
    "            slow, val = i, nums[i]\n",
    "            while nums[slow] * val > 0:\n",
    "                tmp = next_index(nums, slow)\n",
    "                nums[slow] = 0\n",
    "                slow = tmp\n",
    "\n",
    "        return False"
   ]
  },
  {
   "cell_type": "code",
   "execution_count": 7,
   "metadata": {
    "collapsed": false
   },
   "outputs": [
    {
     "name": "stdout",
     "output_type": "stream",
     "text": [
      "[['dog'], ['mac'], ['act', 'cat']]\n"
     ]
    }
   ],
   "source": [
    "\n",
    "import collections\n",
    "\n",
    "class Solution(object):\n",
    "    def groupAnagrams(self, strs):\n",
    "        \"\"\"\n",
    "        :type strs: List[str]\n",
    "        :rtype: List[List[str]]\n",
    "        \"\"\"\n",
    "        anagrams_map, result = collections.defaultdict(list), []\n",
    "        for s in strs:\n",
    "            sorted_str = (\"\").join(sorted(s))\n",
    "            anagrams_map[sorted_str].append(s)\n",
    "        for anagram in anagrams_map.values():\n",
    "            anagram.sort()\n",
    "            result.append(anagram)\n",
    "        return result\n",
    "\n",
    "\n",
    "if __name__ == \"__main__\":\n",
    "    result = Solution().groupAnagrams([\"cat\", \"dog\", \"act\", \"mac\"])\n",
    "    print result "
   ]
  },
  {
   "cell_type": "code",
   "execution_count": null,
   "metadata": {
    "collapsed": true
   },
   "outputs": [],
   "source": []
  },
  {
   "cell_type": "code",
   "execution_count": null,
   "metadata": {
    "collapsed": true
   },
   "outputs": [],
   "source": []
  }
 ],
 "metadata": {
  "kernelspec": {
   "display_name": "Python 2",
   "language": "python",
   "name": "python2"
  },
  "language_info": {
   "codemirror_mode": {
    "name": "ipython",
    "version": 2
   },
   "file_extension": ".py",
   "mimetype": "text/x-python",
   "name": "python",
   "nbconvert_exporter": "python",
   "pygments_lexer": "ipython2",
   "version": "2.7.13"
  }
 },
 "nbformat": 4,
 "nbformat_minor": 0
}
