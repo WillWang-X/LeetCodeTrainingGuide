{
 "cells": [
  {
   "cell_type": "markdown",
   "metadata": {},
   "source": [
    "# Spiral Matrix"
   ]
  },
  {
   "cell_type": "code",
   "execution_count": null,
   "metadata": {
    "collapsed": true
   },
   "outputs": [],
   "source": [
    "Given a matrix of m x n elements (m rows, n columns), return all elements of the matrix in spiral order.\n",
    "\n",
    "For example,\n",
    "Given the following matrix:\n",
    "\n",
    "[\n",
    "[ 1, 2, 3 ],\n",
    "[ 4, 5, 6 ],\n",
    "[ 7, 8, 9 ]\n",
    "]\n",
    "You should return [1,2,3,6,9,8,7,4,5]."
   ]
  },
  {
   "cell_type": "markdown",
   "metadata": {},
   "source": [
    "![spiral matrix](https://i2.wp.com/www.guideforschool.com/wp-content/uploads/2014/02/circular-spiral-matrix-2.jpg)"
   ]
  },
  {
   "cell_type": "code",
   "execution_count": 2,
   "metadata": {
    "collapsed": true
   },
   "outputs": [],
   "source": [
    "# Time:  O(m * n)\n",
    "# Space: O(1)\n",
    "#\n",
    "\n",
    "class Solution:\n",
    "    # @param matrix, a list of lists of integers\n",
    "    # @return a list of integers\n",
    "    def spiralOrder(self, matrix):\n",
    "        result = []\n",
    "        if matrix == []:\n",
    "            return result\n",
    "                \n",
    "        left = 0\n",
    "        right = len(matrix[0]) - 1\n",
    "        top = 0\n",
    "        bottom = len(matrix) - 1\n",
    "        \n",
    "        while left <= right and top <= bottom:\n",
    "            for j in xrange(left, right + 1):\n",
    "                result.append(matrix[top][j])\n",
    "            for i in xrange(top + 1, bottom):\n",
    "                result.append(matrix[i][right])\n",
    "            for j in reversed(xrange(left, right + 1)):\n",
    "                if top < bottom:\n",
    "                    result.append(matrix[bottom][j])\n",
    "            for i in reversed(xrange(top + 1, bottom)):\n",
    "                if left < right:\n",
    "                    result.append(matrix[i][left])\n",
    "            left, right, top, bottom = left + 1, right - 1, top + 1, bottom - 1\n",
    "            \n",
    "        return result\n"
   ]
  },
  {
   "cell_type": "code",
   "execution_count": 3,
   "metadata": {
    "collapsed": false
   },
   "outputs": [
    {
     "name": "stdout",
     "output_type": "stream",
     "text": [
      "[1, 2, 3, 6, 9, 8, 7, 4, 5]\n",
      "[2, 3]\n"
     ]
    }
   ],
   "source": [
    "print Solution().spiralOrder([[ 1, 2, 3 ],\n",
    "                              [ 4, 5, 6 ],\n",
    "                              [ 7, 8, 9 ]])\n",
    "print Solution().spiralOrder([[2,3]])"
   ]
  },
  {
   "cell_type": "markdown",
   "metadata": {},
   "source": [
    "# Spiral Matrix II"
   ]
  },
  {
   "cell_type": "code",
   "execution_count": null,
   "metadata": {
    "collapsed": true
   },
   "outputs": [],
   "source": [
    "\n",
    "Given an integer n, generate a square matrix filled with elements from 1 to n2 in spiral order.\n",
    "\n",
    "For example,\n",
    "Given n = 3,\n",
    "\n",
    "You should return the following matrix:\n",
    "[\n",
    " [ 1, 2, 3 ],\n",
    " [ 8, 9, 4 ],\n",
    " [ 7, 6, 5 ]\n",
    "]"
   ]
  },
  {
   "cell_type": "code",
   "execution_count": null,
   "metadata": {
    "collapsed": true
   },
   "outputs": [],
   "source": [
    "# Time:  O(n^2)\n",
    "# Space: O(1)\n",
    "\n",
    "class Solution:\n",
    "    # @return a list of lists of integer\n",
    "    def generateMatrix(self, n):\n",
    "        matrix = [[0 for _ in xrange(n)] for _ in xrange(n)]\n",
    "        \n",
    "        left, right, top, bottom, num = 0, n - 1, 0, n - 1, 1\n",
    "        \n",
    "        while left <= right and top <= bottom:\n",
    "            for j in xrange(left, right + 1):\n",
    "                matrix[top][j] = num\n",
    "                num += 1\n",
    "            for i in xrange(top + 1, bottom):\n",
    "                matrix[i][right] = num\n",
    "                num += 1\n",
    "            for j in reversed(xrange(left, right + 1)):\n",
    "                if top < bottom:\n",
    "                    matrix[bottom][j] = num\n",
    "                    num += 1\n",
    "            for i in reversed(xrange(top + 1, bottom)):\n",
    "                if left < right:\n",
    "                    matrix[i][left] = num\n",
    "                    num += 1\n",
    "            left, right, top, bottom = left + 1, right - 1, top + 1, bottom - 1\n",
    "            \n",
    "        return matrix\n"
   ]
  },
  {
   "cell_type": "code",
   "execution_count": null,
   "metadata": {
    "collapsed": true
   },
   "outputs": [],
   "source": [
    "print Solution().generateMatrix(3)\n",
    "print Solution().generateMatrix(8)"
   ]
  },
  {
   "cell_type": "code",
   "execution_count": null,
   "metadata": {
    "collapsed": true
   },
   "outputs": [],
   "source": []
  },
  {
   "cell_type": "code",
   "execution_count": null,
   "metadata": {
    "collapsed": true
   },
   "outputs": [],
   "source": []
  },
  {
   "cell_type": "code",
   "execution_count": null,
   "metadata": {
    "collapsed": true
   },
   "outputs": [],
   "source": []
  },
  {
   "cell_type": "code",
   "execution_count": null,
   "metadata": {
    "collapsed": true
   },
   "outputs": [],
   "source": []
  },
  {
   "cell_type": "code",
   "execution_count": null,
   "metadata": {
    "collapsed": true
   },
   "outputs": [],
   "source": []
  },
  {
   "cell_type": "code",
   "execution_count": null,
   "metadata": {
    "collapsed": true
   },
   "outputs": [],
   "source": []
  },
  {
   "cell_type": "code",
   "execution_count": null,
   "metadata": {
    "collapsed": true
   },
   "outputs": [],
   "source": []
  },
  {
   "cell_type": "code",
   "execution_count": null,
   "metadata": {
    "collapsed": true
   },
   "outputs": [],
   "source": []
  },
  {
   "cell_type": "code",
   "execution_count": null,
   "metadata": {
    "collapsed": true
   },
   "outputs": [],
   "source": []
  }
 ],
 "metadata": {
  "kernelspec": {
   "display_name": "Python 2",
   "language": "python",
   "name": "python2"
  },
  "language_info": {
   "codemirror_mode": {
    "name": "ipython",
    "version": 2
   },
   "file_extension": ".py",
   "mimetype": "text/x-python",
   "name": "python",
   "nbconvert_exporter": "python",
   "pygments_lexer": "ipython2",
   "version": "2.7.13"
  }
 },
 "nbformat": 4,
 "nbformat_minor": 0
}
