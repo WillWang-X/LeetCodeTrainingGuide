{
 "cells": [
  {
   "cell_type": "markdown",
   "metadata": {},
   "source": [
    "# 16. 3Sum Closest"
   ]
  },
  {
   "cell_type": "code",
   "execution_count": null,
   "metadata": {
    "collapsed": true
   },
   "outputs": [],
   "source": [
    "Given an array S of n integers, find three integers in S such that the sum is closest to a given number, target. \n",
    "Return the sum of the three integers. You may assume that each input would have exactly one solution.\n",
    "\n",
    "    For example, given array S = {-1 2 1 -4}, and target = 1.\n",
    "\n",
    "    The sum that is closest to the target is 2. (-1 + 2 + 1 = 2)."
   ]
  },
  {
   "cell_type": "markdown",
   "metadata": {},
   "source": [
    "## Solution1"
   ]
  },
  {
   "cell_type": "code",
   "execution_count": 25,
   "metadata": {
    "collapsed": true
   },
   "outputs": [],
   "source": [
    "# Time: O(n^2)\n",
    "# Space: O(1)\n",
    "# 3-Sum Closest \n",
    "'''\n",
    "Notes:\n",
    "\n",
    "'''\n",
    "\n",
    "class Solution(object):\n",
    "    def threeSumClosest(self, nums, target):\n",
    "        \"\"\"\n",
    "        :type nums: List[int]\n",
    "        :type target: int\n",
    "        :rtype: int\n",
    "        \"\"\"\n",
    "        if len(nums) < 3:\n",
    "            return none \n",
    "        \n",
    "        nums = sorted(nums)\n",
    "        closest_diff = float(\"inf\")\n",
    "        closest = nums[0] + nums[1] + nums[2]\n",
    "        for i in range(len(nums)-2):\n",
    "            if i == 0 or nums[i] != nums[i-1]:\n",
    "                j = i + 1\n",
    "                k = len(nums) - 1\n",
    "                while j < k:\n",
    "                    diff = nums[i] + nums[j] + nums[k] - target\n",
    "                    if abs(diff) < closest_diff:\n",
    "                        closest_diff = abs(diff)\n",
    "                        closest = nums[i] + nums[j] + nums[k]\n",
    "                    if diff < 0:\n",
    "                        j += 1\n",
    "                    elif diff > 0:\n",
    "                        k -= 1\n",
    "                    else:\n",
    "                        return target \n",
    "        return closest"
   ]
  },
  {
   "cell_type": "code",
   "execution_count": 26,
   "metadata": {
    "collapsed": false
   },
   "outputs": [
    {
     "name": "stdout",
     "output_type": "stream",
     "text": [
      "0\n"
     ]
    }
   ],
   "source": [
    "print( Solution().threeSumClosest([0,2,1,-3],1) )"
   ]
  },
  {
   "cell_type": "markdown",
   "metadata": {},
   "source": [
    "## Notes"
   ]
  },
  {
   "cell_type": "markdown",
   "metadata": {},
   "source": [
    "we can use 3 sum to solve 3 sum closest."
   ]
  }
 ],
 "metadata": {
  "kernelspec": {
   "display_name": "Python 2",
   "language": "python",
   "name": "python2"
  },
  "language_info": {
   "codemirror_mode": {
    "name": "ipython",
    "version": 2
   },
   "file_extension": ".py",
   "mimetype": "text/x-python",
   "name": "python",
   "nbconvert_exporter": "python",
   "pygments_lexer": "ipython2",
   "version": "2.7.13"
  }
 },
 "nbformat": 4,
 "nbformat_minor": 0
}
