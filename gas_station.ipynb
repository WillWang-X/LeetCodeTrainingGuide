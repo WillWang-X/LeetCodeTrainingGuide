{
 "cells": [
  {
   "cell_type": "markdown",
   "metadata": {},
   "source": [
    "# 134. Gas Station"
   ]
  },
  {
   "cell_type": "markdown",
   "metadata": {},
   "source": [
    "There are N gas stations along a circular route, where the amount of gas at station i is gas[i].\n",
    "\n",
    "You have a car with an unlimited gas tank and it costs cost[i] of gas to travel from station i to its next station (i+1). You begin the journey with an empty tank **at one of the gas stations.**\n",
    "\n",
    "Return **the starting gas station's** index if you can travel around the circuit once, otherwise return -1.\n",
    "\n",
    "Note:\n",
    "The solution is guaranteed to be unique.\n"
   ]
  },
  {
   "cell_type": "markdown",
   "metadata": {},
   "source": [
    "## Solution1"
   ]
  },
  {
   "cell_type": "code",
   "execution_count": 2,
   "metadata": {
    "collapsed": true
   },
   "outputs": [],
   "source": [
    "## Time: O(n)\n",
    "# Space: O(1)\n",
    "\n",
    "class Solution(object):\n",
    "    def canCompleteCircuit(self, gas, cost):\n",
    "        \"\"\"\n",
    "        :type gas: List[int]\n",
    "        :type cost: List[int]\n",
    "        :rtype: int\n",
    "        \"\"\"\n",
    "        start = 0  # one of the station \n",
    "        start_tank = 0\n",
    "        total_tank = 0\n",
    "        \n",
    "        for n in range(len(gas)):\n",
    "            diff = gas[n] - cost[n]\n",
    "            start_tank += diff\n",
    "            total_tank += diff\n",
    "            if start_tank < 0:\n",
    "                start_tank = 0\n",
    "                start = n + 1\n",
    "\n",
    "        if total_tank < 0:\n",
    "            return -1\n",
    "        return start"
   ]
  },
  {
   "cell_type": "code",
   "execution_count": 3,
   "metadata": {
    "collapsed": false
   },
   "outputs": [
    {
     "name": "stdout",
     "output_type": "stream",
     "text": [
      "-1\n",
      "1\n",
      "1\n"
     ]
    }
   ],
   "source": [
    "# edge case\n",
    "print( Solution().canCompleteCircuit([4],[5]) )\n",
    "print( Solution().canCompleteCircuit([1,2],[2,1]) )\n",
    "print( Solution().canCompleteCircuit([2,3],[3,2]) )"
   ]
  },
  {
   "cell_type": "code",
   "execution_count": null,
   "metadata": {
    "collapsed": true
   },
   "outputs": [],
   "source": []
  }
 ],
 "metadata": {
  "kernelspec": {
   "display_name": "Python 2",
   "language": "python",
   "name": "python2"
  },
  "language_info": {
   "codemirror_mode": {
    "name": "ipython",
    "version": 2
   },
   "file_extension": ".py",
   "mimetype": "text/x-python",
   "name": "python",
   "nbconvert_exporter": "python",
   "pygments_lexer": "ipython2",
   "version": "2.7.13"
  }
 },
 "nbformat": 4,
 "nbformat_minor": 0
}
