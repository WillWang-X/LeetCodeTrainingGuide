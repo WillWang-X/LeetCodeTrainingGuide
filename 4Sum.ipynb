{
 "cells": [
  {
   "cell_type": "markdown",
   "metadata": {},
   "source": [
    "# 18. 4Sum"
   ]
  },
  {
   "cell_type": "code",
   "execution_count": null,
   "metadata": {
    "collapsed": true
   },
   "outputs": [],
   "source": [
    "Given an array S of n integers, are there elements a, b, c, \n",
    "and d in S such that a + b + c + d = target? \n",
    "Find all unique quadruplets in the array which gives the sum of target.\n",
    "\n",
    "Note: The solution set must not contain duplicate quadruplets.\n",
    "\n",
    "For example, given array S = [1, 0, -1, 0, -2, 2], and target = 0.\n",
    "\n",
    "A solution set is:\n",
    "[\n",
    "  [-1,  0, 0, 1],\n",
    "  [-2, -1, 1, 2],\n",
    "  [-2,  0, 0, 2]\n",
    "]"
   ]
  },
  {
   "cell_type": "markdown",
   "metadata": {},
   "source": [
    "## Solution1"
   ]
  },
  {
   "cell_type": "code",
   "execution_count": 8,
   "metadata": {
    "collapsed": true
   },
   "outputs": [],
   "source": [
    "# Time: O(n^3)\n",
    "# Space: O(1)\n",
    "# 4sum \n",
    "\n",
    "class Solution(object):\n",
    "    def fourSum(self, nums, target):\n",
    "        \"\"\"\n",
    "        :type nums: List[int]\n",
    "        :type target: int\n",
    "        :rtype: List[List[int]]\n",
    "        \"\"\"\n",
    "        nums = sorted(nums)\n",
    "        result = []\n",
    "        for i in range(len(nums)-3):\n",
    "            if i==0 or nums[i] != nums[i-1]: # e.g [-1,-1,0,0,0,2]\n",
    "                for j in range(i+1, len(nums)-2):\n",
    "                    if j == i+1 or nums[j] != nums[j-1]:\n",
    "                        left = j + 1\n",
    "                        right = len(nums) - 1\n",
    "                        sum = target - nums[i] - nums[j]\n",
    "                        while left < right:\n",
    "                            if nums[left] + nums[right] < sum:\n",
    "                                left += 1\n",
    "                            elif nums[left] + nums[right] > sum:\n",
    "                                right -= 1\n",
    "                            else:\n",
    "                                result.append([nums[i],nums[j],nums[left],nums[right]])\n",
    "                                left += 1\n",
    "                                right -= 1\n",
    "                                while  left < right and nums[left] == nums[left-1]:\n",
    "                                    left += 1\n",
    "                                while  left < right and nums[right] == nums[right+1]:\n",
    "                                    right -= 1\n",
    "        return result"
   ]
  },
  {
   "cell_type": "code",
   "execution_count": 9,
   "metadata": {
    "collapsed": false
   },
   "outputs": [
    {
     "name": "stdout",
     "output_type": "stream",
     "text": [
      "[[0, 0, 0, 1]]\n",
      "[[-2, -1, 1, 2], [-2, 0, 0, 2], [-1, 0, 0, 1]]\n"
     ]
    }
   ],
   "source": [
    "print( Solution().fourSum([1,0,0,0,4],1) )\n",
    "print( Solution().fourSum([1,0,-1,0,-2,2],0) )"
   ]
  },
  {
   "cell_type": "code",
   "execution_count": null,
   "metadata": {
    "collapsed": true
   },
   "outputs": [],
   "source": []
  }
 ],
 "metadata": {
  "kernelspec": {
   "display_name": "Python 2",
   "language": "python",
   "name": "python2"
  },
  "language_info": {
   "codemirror_mode": {
    "name": "ipython",
    "version": 2
   },
   "file_extension": ".py",
   "mimetype": "text/x-python",
   "name": "python",
   "nbconvert_exporter": "python",
   "pygments_lexer": "ipython2",
   "version": "2.7.13"
  }
 },
 "nbformat": 4,
 "nbformat_minor": 0
}
