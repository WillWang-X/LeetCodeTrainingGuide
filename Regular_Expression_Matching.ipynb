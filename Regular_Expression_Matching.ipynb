{
 "cells": [
  {
   "cell_type": "markdown",
   "metadata": {},
   "source": [
    "# 10. [Regular Expression Matching](https://leetcode.com/problems/regular-expression-matching/#/description)"
   ]
  },
  {
   "cell_type": "markdown",
   "metadata": {},
   "source": [
    "Implement regular expression matching with support for '.' and '*'.\n",
    "\n",
    "'.' Matches any single character.\n",
    "'*' Matches zero or more of the preceding element.\n",
    "\n",
    "The matching should cover the entire input string (not partial).\n",
    "\n",
    "The function prototype should be:\n",
    "bool isMatch(const char *s, const char *p)\n",
    "\n",
    "Some examples:\n",
    "- isMatch(\"aa\",\"a\") → false\n",
    "- isMatch(\"aa\",\"aa\") → true\n",
    "- isMatch(\"aaa\",\"aa\") → false\n",
    "- isMatch(\"aa\", \"a*\") → true\n",
    "- isMatch(\"aa\", \".*\") → true\n",
    "- isMatch(\"ab\", \".*\") → true\n",
    "- isMatch(\"aab\", \"c*a*b\") → true\n"
   ]
  },
  {
   "cell_type": "markdown",
   "metadata": {},
   "source": [
    "## Solution1"
   ]
  },
  {
   "cell_type": "code",
   "execution_count": 36,
   "metadata": {
    "collapsed": true
   },
   "outputs": [],
   "source": [
    "# 10. Regular Expression Matching\n",
    "# Time: O(m*n)\n",
    "# Space: O(m*n)\n",
    "\n",
    "class Solution(object):\n",
    "    def isMatch(self, s, p):\n",
    "        \"\"\"\n",
    "        :type s: str\n",
    "        :type p: str\n",
    "        :rtype: bool\n",
    "        \"\"\"\n",
    "        result = [ [False for j in range(len(p) + 1)] for i in range(len(s) + 1) ]\n",
    "        result[0][0] = True\n",
    "        \n",
    "        # deal with cases, like a*, a*b*\n",
    "        for j in range(2, len(p) + 1): \n",
    "            if p[j-1] == '*':\n",
    "                result[0][j] = result[0][j-2]\n",
    "                \n",
    "        for i in range(1,len(s)+1):\n",
    "            for j in range(1,len(p)+1):\n",
    "                if s[i-1] == p[j-1] or p[j-1] == '.':\n",
    "                    result[i][j] = result[i-1][j-1]\n",
    "                elif p[j-1] == '*':\n",
    "                    result[i][j] = result[i][j-2]\n",
    "                    if s[i-1] == p[j-2] or p[j-2] == '.':\n",
    "                        result[i][j] = result[i-1][j] or result[i][j] # new skill: or \n",
    "                else:\n",
    "                    result[i][j] = False \n",
    "        \n",
    "        return result[len(s)][len(p)]"
   ]
  },
  {
   "cell_type": "code",
   "execution_count": 37,
   "metadata": {
    "collapsed": false
   },
   "outputs": [
    {
     "name": "stdout",
     "output_type": "stream",
     "text": [
      "True\n"
     ]
    }
   ],
   "source": [
    "# Edge cases: \n",
    "print( Solution().isMatch(\"aaa\",\"ab*a*c*a\") ) #  result[i][j-2] or result[i-1][j]!"
   ]
  },
  {
   "cell_type": "markdown",
   "metadata": {},
   "source": [
    "## Notes"
   ]
  },
  {
   "cell_type": "code",
   "execution_count": 13,
   "metadata": {
    "collapsed": false
   },
   "outputs": [
    {
     "name": "stdout",
     "output_type": "stream",
     "text": [
      "[[False, False, False, False, False], [False, False, False, False, False], [False, False, False, False, False], [False, False, False, False, False], [False, False, False, False, False]]\n"
     ]
    }
   ],
   "source": [
    "k = 3\n",
    "s = \"abab\"\n",
    "p = \"a*b*\"\n",
    "result = [[False for j in xrange(len(p) + 1)] for i in xrange(len(s) + 1)]\n",
    "# result = [[False for j in xrange(len(p) + 1)] for i in xrange(k)]\n",
    "print(result)\n",
    "# for i in result:\n",
    "#     print(i)\n",
    "\n",
    "# for i in range(len(s) + 1):\n",
    "#     for j in range(len(p) + 1):\n",
    "#         result1 = [[False]]"
   ]
  },
  {
   "cell_type": "code",
   "execution_count": 22,
   "metadata": {
    "collapsed": true
   },
   "outputs": [],
   "source": [
    "test = [[True, True, False, False, False], [False, False, False, False, False], [False, False, False, False, False], [False, False, False, False, False], [False, False, False, False, False]]"
   ]
  },
  {
   "cell_type": "code",
   "execution_count": 23,
   "metadata": {
    "collapsed": false
   },
   "outputs": [
    {
     "data": {
      "text/plain": [
       "True"
      ]
     },
     "execution_count": 23,
     "metadata": {},
     "output_type": "execute_result"
    }
   ],
   "source": [
    "test[0][1]"
   ]
  },
  {
   "cell_type": "code",
   "execution_count": 12,
   "metadata": {
    "collapsed": false
   },
   "outputs": [
    {
     "name": "stdout",
     "output_type": "stream",
     "text": [
      "2\n",
      "3\n"
     ]
    }
   ],
   "source": [
    "for i in range(2,4):\n",
    "    print(i)"
   ]
  },
  {
   "cell_type": "markdown",
   "metadata": {},
   "source": [
    "## Notes"
   ]
  },
  {
   "cell_type": "markdown",
   "metadata": {},
   "source": [
    "- https://www.youtube.com/watch?v=l3hda49XcDE"
   ]
  },
  {
   "cell_type": "code",
   "execution_count": 26,
   "metadata": {
    "collapsed": false
   },
   "outputs": [
    {
     "name": "stdout",
     "output_type": "stream",
     "text": [
      "2\n"
     ]
    }
   ],
   "source": [
    "for i in range(2,3):\n",
    "    print(i)"
   ]
  },
  {
   "cell_type": "code",
   "execution_count": 27,
   "metadata": {
    "collapsed": true
   },
   "outputs": [],
   "source": [
    "for i in range(2,2):\n",
    "    print(i)"
   ]
  },
  {
   "cell_type": "code",
   "execution_count": null,
   "metadata": {
    "collapsed": true
   },
   "outputs": [],
   "source": []
  }
 ],
 "metadata": {
  "kernelspec": {
   "display_name": "Python 2",
   "language": "python",
   "name": "python2"
  },
  "language_info": {
   "codemirror_mode": {
    "name": "ipython",
    "version": 2
   },
   "file_extension": ".py",
   "mimetype": "text/x-python",
   "name": "python",
   "nbconvert_exporter": "python",
   "pygments_lexer": "ipython2",
   "version": "2.7.13"
  }
 },
 "nbformat": 4,
 "nbformat_minor": 0
}
